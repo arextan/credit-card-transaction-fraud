{
 "cells": [
  {
   "cell_type": "code",
   "execution_count": 1,
   "id": "fae6f46e",
   "metadata": {},
   "outputs": [],
   "source": [
    "import pandas as pd \n",
    "import numpy as np\n",
    "import seaborn as sns\n",
    "import matplotlib.pyplot as plt\n",
    "import datetime as dt\n",
    "import calendar\n",
    "import time\n",
    "import timeit\n",
    "start_time = dt.datetime.now()\n",
    "%matplotlib inline"
   ]
  },
  {
   "cell_type": "markdown",
   "id": "11905d95",
   "metadata": {},
   "source": [
    "# Import Data"
   ]
  },
  {
   "cell_type": "code",
   "execution_count": 2,
   "id": "9db017ee",
   "metadata": {},
   "outputs": [
    {
     "name": "stdout",
     "output_type": "stream",
     "text": [
      "CPU times: total: 125 ms\n",
      "Wall time: 136 ms\n"
     ]
    },
    {
     "data": {
      "text/plain": [
       "(96753, 18)"
      ]
     },
     "execution_count": 2,
     "metadata": {},
     "output_type": "execute_result"
    }
   ],
   "source": [
    "%%time\n",
    "data = pd.read_csv('card transactions.csv', converters = {'Merchnum': lambda x: str(x)\n",
    "                                                          ,'Cardnum':lambda x:str(x)})\n",
    "data.shape"
   ]
  },
  {
   "cell_type": "code",
   "execution_count": 3,
   "id": "664c5234",
   "metadata": {},
   "outputs": [
    {
     "data": {
      "text/html": [
       "<div>\n",
       "<style scoped>\n",
       "    .dataframe tbody tr th:only-of-type {\n",
       "        vertical-align: middle;\n",
       "    }\n",
       "\n",
       "    .dataframe tbody tr th {\n",
       "        vertical-align: top;\n",
       "    }\n",
       "\n",
       "    .dataframe thead th {\n",
       "        text-align: right;\n",
       "    }\n",
       "</style>\n",
       "<table border=\"1\" class=\"dataframe\">\n",
       "  <thead>\n",
       "    <tr style=\"text-align: right;\">\n",
       "      <th></th>\n",
       "      <th>Recnum</th>\n",
       "      <th>Cardnum</th>\n",
       "      <th>Date</th>\n",
       "      <th>Merchnum</th>\n",
       "      <th>Merch description</th>\n",
       "      <th>Merch state</th>\n",
       "      <th>Merch zip</th>\n",
       "      <th>Transtype</th>\n",
       "      <th>Amount</th>\n",
       "      <th>Fraud</th>\n",
       "      <th>Unnamed: 10</th>\n",
       "      <th>Unnamed: 11</th>\n",
       "      <th>Unnamed: 12</th>\n",
       "      <th>Unnamed: 13</th>\n",
       "      <th>Unnamed: 14</th>\n",
       "      <th>Unnamed: 15</th>\n",
       "      <th>Unnamed: 16</th>\n",
       "      <th>Unnamed: 17</th>\n",
       "    </tr>\n",
       "  </thead>\n",
       "  <tbody>\n",
       "    <tr>\n",
       "      <th>0</th>\n",
       "      <td>1</td>\n",
       "      <td>5142190439</td>\n",
       "      <td>1/1/10</td>\n",
       "      <td>5509006296254</td>\n",
       "      <td>FEDEX SHP 12/23/09 AB#</td>\n",
       "      <td>TN</td>\n",
       "      <td>38118.0</td>\n",
       "      <td>P</td>\n",
       "      <td>3.62</td>\n",
       "      <td>0</td>\n",
       "      <td>NaN</td>\n",
       "      <td>NaN</td>\n",
       "      <td>NaN</td>\n",
       "      <td>NaN</td>\n",
       "      <td>NaN</td>\n",
       "      <td>NaN</td>\n",
       "      <td>NaN</td>\n",
       "      <td>NaN</td>\n",
       "    </tr>\n",
       "    <tr>\n",
       "      <th>1</th>\n",
       "      <td>2</td>\n",
       "      <td>5142183973</td>\n",
       "      <td>1/1/10</td>\n",
       "      <td>61003026333</td>\n",
       "      <td>SERVICE MERCHANDISE #81</td>\n",
       "      <td>MA</td>\n",
       "      <td>1803.0</td>\n",
       "      <td>P</td>\n",
       "      <td>31.42</td>\n",
       "      <td>0</td>\n",
       "      <td>NaN</td>\n",
       "      <td>NaN</td>\n",
       "      <td>NaN</td>\n",
       "      <td>NaN</td>\n",
       "      <td>NaN</td>\n",
       "      <td>NaN</td>\n",
       "      <td>NaN</td>\n",
       "      <td>NaN</td>\n",
       "    </tr>\n",
       "    <tr>\n",
       "      <th>2</th>\n",
       "      <td>3</td>\n",
       "      <td>5142131721</td>\n",
       "      <td>1/1/10</td>\n",
       "      <td>4503082993600</td>\n",
       "      <td>OFFICE DEPOT #191</td>\n",
       "      <td>MD</td>\n",
       "      <td>20706.0</td>\n",
       "      <td>P</td>\n",
       "      <td>178.49</td>\n",
       "      <td>0</td>\n",
       "      <td>NaN</td>\n",
       "      <td>NaN</td>\n",
       "      <td>NaN</td>\n",
       "      <td>NaN</td>\n",
       "      <td>NaN</td>\n",
       "      <td>NaN</td>\n",
       "      <td>NaN</td>\n",
       "      <td>NaN</td>\n",
       "    </tr>\n",
       "    <tr>\n",
       "      <th>3</th>\n",
       "      <td>4</td>\n",
       "      <td>5142148452</td>\n",
       "      <td>1/1/10</td>\n",
       "      <td>5509006296254</td>\n",
       "      <td>FEDEX SHP 12/28/09 AB#</td>\n",
       "      <td>TN</td>\n",
       "      <td>38118.0</td>\n",
       "      <td>P</td>\n",
       "      <td>3.62</td>\n",
       "      <td>0</td>\n",
       "      <td>NaN</td>\n",
       "      <td>NaN</td>\n",
       "      <td>NaN</td>\n",
       "      <td>NaN</td>\n",
       "      <td>NaN</td>\n",
       "      <td>NaN</td>\n",
       "      <td>NaN</td>\n",
       "      <td>NaN</td>\n",
       "    </tr>\n",
       "    <tr>\n",
       "      <th>4</th>\n",
       "      <td>5</td>\n",
       "      <td>5142190439</td>\n",
       "      <td>1/1/10</td>\n",
       "      <td>5509006296254</td>\n",
       "      <td>FEDEX SHP 12/23/09 AB#</td>\n",
       "      <td>TN</td>\n",
       "      <td>38118.0</td>\n",
       "      <td>P</td>\n",
       "      <td>3.62</td>\n",
       "      <td>0</td>\n",
       "      <td>NaN</td>\n",
       "      <td>NaN</td>\n",
       "      <td>NaN</td>\n",
       "      <td>NaN</td>\n",
       "      <td>NaN</td>\n",
       "      <td>NaN</td>\n",
       "      <td>NaN</td>\n",
       "      <td>NaN</td>\n",
       "    </tr>\n",
       "  </tbody>\n",
       "</table>\n",
       "</div>"
      ],
      "text/plain": [
       "   Recnum     Cardnum    Date       Merchnum        Merch description  \\\n",
       "0       1  5142190439  1/1/10  5509006296254   FEDEX SHP 12/23/09 AB#   \n",
       "1       2  5142183973  1/1/10    61003026333  SERVICE MERCHANDISE #81   \n",
       "2       3  5142131721  1/1/10  4503082993600        OFFICE DEPOT #191   \n",
       "3       4  5142148452  1/1/10  5509006296254   FEDEX SHP 12/28/09 AB#   \n",
       "4       5  5142190439  1/1/10  5509006296254   FEDEX SHP 12/23/09 AB#   \n",
       "\n",
       "  Merch state  Merch zip Transtype  Amount  Fraud  Unnamed: 10  Unnamed: 11  \\\n",
       "0          TN    38118.0         P    3.62      0          NaN          NaN   \n",
       "1          MA     1803.0         P   31.42      0          NaN          NaN   \n",
       "2          MD    20706.0         P  178.49      0          NaN          NaN   \n",
       "3          TN    38118.0         P    3.62      0          NaN          NaN   \n",
       "4          TN    38118.0         P    3.62      0          NaN          NaN   \n",
       "\n",
       "   Unnamed: 12  Unnamed: 13  Unnamed: 14  Unnamed: 15  Unnamed: 16  \\\n",
       "0          NaN          NaN          NaN          NaN          NaN   \n",
       "1          NaN          NaN          NaN          NaN          NaN   \n",
       "2          NaN          NaN          NaN          NaN          NaN   \n",
       "3          NaN          NaN          NaN          NaN          NaN   \n",
       "4          NaN          NaN          NaN          NaN          NaN   \n",
       "\n",
       "   Unnamed: 17  \n",
       "0          NaN  \n",
       "1          NaN  \n",
       "2          NaN  \n",
       "3          NaN  \n",
       "4          NaN  "
      ]
     },
     "execution_count": 3,
     "metadata": {},
     "output_type": "execute_result"
    }
   ],
   "source": [
    "data.head()"
   ]
  },
  {
   "cell_type": "markdown",
   "id": "b6d34fef",
   "metadata": {},
   "source": [
    "# Data Cleaning"
   ]
  },
  {
   "cell_type": "markdown",
   "id": "a269038b",
   "metadata": {},
   "source": [
    "## Drop extraenous columns"
   ]
  },
  {
   "cell_type": "code",
   "execution_count": 4,
   "id": "2447ed6c",
   "metadata": {},
   "outputs": [
    {
     "data": {
      "text/html": [
       "<div>\n",
       "<style scoped>\n",
       "    .dataframe tbody tr th:only-of-type {\n",
       "        vertical-align: middle;\n",
       "    }\n",
       "\n",
       "    .dataframe tbody tr th {\n",
       "        vertical-align: top;\n",
       "    }\n",
       "\n",
       "    .dataframe thead th {\n",
       "        text-align: right;\n",
       "    }\n",
       "</style>\n",
       "<table border=\"1\" class=\"dataframe\">\n",
       "  <thead>\n",
       "    <tr style=\"text-align: right;\">\n",
       "      <th></th>\n",
       "      <th>Recnum</th>\n",
       "      <th>Cardnum</th>\n",
       "      <th>Date</th>\n",
       "      <th>Merchnum</th>\n",
       "      <th>Merch description</th>\n",
       "      <th>Merch state</th>\n",
       "      <th>Merch zip</th>\n",
       "      <th>Transtype</th>\n",
       "      <th>Amount</th>\n",
       "      <th>Fraud</th>\n",
       "    </tr>\n",
       "  </thead>\n",
       "  <tbody>\n",
       "    <tr>\n",
       "      <th>0</th>\n",
       "      <td>1</td>\n",
       "      <td>5142190439</td>\n",
       "      <td>1/1/10</td>\n",
       "      <td>5509006296254</td>\n",
       "      <td>FEDEX SHP 12/23/09 AB#</td>\n",
       "      <td>TN</td>\n",
       "      <td>38118.0</td>\n",
       "      <td>P</td>\n",
       "      <td>3.62</td>\n",
       "      <td>0</td>\n",
       "    </tr>\n",
       "    <tr>\n",
       "      <th>1</th>\n",
       "      <td>2</td>\n",
       "      <td>5142183973</td>\n",
       "      <td>1/1/10</td>\n",
       "      <td>61003026333</td>\n",
       "      <td>SERVICE MERCHANDISE #81</td>\n",
       "      <td>MA</td>\n",
       "      <td>1803.0</td>\n",
       "      <td>P</td>\n",
       "      <td>31.42</td>\n",
       "      <td>0</td>\n",
       "    </tr>\n",
       "    <tr>\n",
       "      <th>2</th>\n",
       "      <td>3</td>\n",
       "      <td>5142131721</td>\n",
       "      <td>1/1/10</td>\n",
       "      <td>4503082993600</td>\n",
       "      <td>OFFICE DEPOT #191</td>\n",
       "      <td>MD</td>\n",
       "      <td>20706.0</td>\n",
       "      <td>P</td>\n",
       "      <td>178.49</td>\n",
       "      <td>0</td>\n",
       "    </tr>\n",
       "    <tr>\n",
       "      <th>3</th>\n",
       "      <td>4</td>\n",
       "      <td>5142148452</td>\n",
       "      <td>1/1/10</td>\n",
       "      <td>5509006296254</td>\n",
       "      <td>FEDEX SHP 12/28/09 AB#</td>\n",
       "      <td>TN</td>\n",
       "      <td>38118.0</td>\n",
       "      <td>P</td>\n",
       "      <td>3.62</td>\n",
       "      <td>0</td>\n",
       "    </tr>\n",
       "    <tr>\n",
       "      <th>4</th>\n",
       "      <td>5</td>\n",
       "      <td>5142190439</td>\n",
       "      <td>1/1/10</td>\n",
       "      <td>5509006296254</td>\n",
       "      <td>FEDEX SHP 12/23/09 AB#</td>\n",
       "      <td>TN</td>\n",
       "      <td>38118.0</td>\n",
       "      <td>P</td>\n",
       "      <td>3.62</td>\n",
       "      <td>0</td>\n",
       "    </tr>\n",
       "  </tbody>\n",
       "</table>\n",
       "</div>"
      ],
      "text/plain": [
       "   Recnum     Cardnum    Date       Merchnum        Merch description  \\\n",
       "0       1  5142190439  1/1/10  5509006296254   FEDEX SHP 12/23/09 AB#   \n",
       "1       2  5142183973  1/1/10    61003026333  SERVICE MERCHANDISE #81   \n",
       "2       3  5142131721  1/1/10  4503082993600        OFFICE DEPOT #191   \n",
       "3       4  5142148452  1/1/10  5509006296254   FEDEX SHP 12/28/09 AB#   \n",
       "4       5  5142190439  1/1/10  5509006296254   FEDEX SHP 12/23/09 AB#   \n",
       "\n",
       "  Merch state  Merch zip Transtype  Amount  Fraud  \n",
       "0          TN    38118.0         P    3.62      0  \n",
       "1          MA     1803.0         P   31.42      0  \n",
       "2          MD    20706.0         P  178.49      0  \n",
       "3          TN    38118.0         P    3.62      0  \n",
       "4          TN    38118.0         P    3.62      0  "
      ]
     },
     "execution_count": 4,
     "metadata": {},
     "output_type": "execute_result"
    }
   ],
   "source": [
    "data = data.drop(data.columns[10:], axis = 1)\n",
    "data.head()"
   ]
  },
  {
   "cell_type": "markdown",
   "id": "84810d4f",
   "metadata": {},
   "source": [
    "## Keep only Purchase Transaction Type"
   ]
  },
  {
   "cell_type": "code",
   "execution_count": 5,
   "id": "21b691cb",
   "metadata": {},
   "outputs": [
    {
     "name": "stdout",
     "output_type": "stream",
     "text": [
      "96398\n"
     ]
    },
    {
     "data": {
      "text/html": [
       "<div>\n",
       "<style scoped>\n",
       "    .dataframe tbody tr th:only-of-type {\n",
       "        vertical-align: middle;\n",
       "    }\n",
       "\n",
       "    .dataframe tbody tr th {\n",
       "        vertical-align: top;\n",
       "    }\n",
       "\n",
       "    .dataframe thead th {\n",
       "        text-align: right;\n",
       "    }\n",
       "</style>\n",
       "<table border=\"1\" class=\"dataframe\">\n",
       "  <thead>\n",
       "    <tr style=\"text-align: right;\">\n",
       "      <th></th>\n",
       "      <th>Recnum</th>\n",
       "      <th>Cardnum</th>\n",
       "      <th>Date</th>\n",
       "      <th>Merchnum</th>\n",
       "      <th>Merch description</th>\n",
       "      <th>Merch state</th>\n",
       "      <th>Merch zip</th>\n",
       "      <th>Transtype</th>\n",
       "      <th>Amount</th>\n",
       "      <th>Fraud</th>\n",
       "    </tr>\n",
       "  </thead>\n",
       "  <tbody>\n",
       "    <tr>\n",
       "      <th>0</th>\n",
       "      <td>1</td>\n",
       "      <td>5142190439</td>\n",
       "      <td>1/1/10</td>\n",
       "      <td>5509006296254</td>\n",
       "      <td>FEDEX SHP 12/23/09 AB#</td>\n",
       "      <td>TN</td>\n",
       "      <td>38118.0</td>\n",
       "      <td>P</td>\n",
       "      <td>3.62</td>\n",
       "      <td>0</td>\n",
       "    </tr>\n",
       "    <tr>\n",
       "      <th>1</th>\n",
       "      <td>2</td>\n",
       "      <td>5142183973</td>\n",
       "      <td>1/1/10</td>\n",
       "      <td>61003026333</td>\n",
       "      <td>SERVICE MERCHANDISE #81</td>\n",
       "      <td>MA</td>\n",
       "      <td>1803.0</td>\n",
       "      <td>P</td>\n",
       "      <td>31.42</td>\n",
       "      <td>0</td>\n",
       "    </tr>\n",
       "    <tr>\n",
       "      <th>2</th>\n",
       "      <td>3</td>\n",
       "      <td>5142131721</td>\n",
       "      <td>1/1/10</td>\n",
       "      <td>4503082993600</td>\n",
       "      <td>OFFICE DEPOT #191</td>\n",
       "      <td>MD</td>\n",
       "      <td>20706.0</td>\n",
       "      <td>P</td>\n",
       "      <td>178.49</td>\n",
       "      <td>0</td>\n",
       "    </tr>\n",
       "    <tr>\n",
       "      <th>3</th>\n",
       "      <td>4</td>\n",
       "      <td>5142148452</td>\n",
       "      <td>1/1/10</td>\n",
       "      <td>5509006296254</td>\n",
       "      <td>FEDEX SHP 12/28/09 AB#</td>\n",
       "      <td>TN</td>\n",
       "      <td>38118.0</td>\n",
       "      <td>P</td>\n",
       "      <td>3.62</td>\n",
       "      <td>0</td>\n",
       "    </tr>\n",
       "    <tr>\n",
       "      <th>4</th>\n",
       "      <td>5</td>\n",
       "      <td>5142190439</td>\n",
       "      <td>1/1/10</td>\n",
       "      <td>5509006296254</td>\n",
       "      <td>FEDEX SHP 12/23/09 AB#</td>\n",
       "      <td>TN</td>\n",
       "      <td>38118.0</td>\n",
       "      <td>P</td>\n",
       "      <td>3.62</td>\n",
       "      <td>0</td>\n",
       "    </tr>\n",
       "  </tbody>\n",
       "</table>\n",
       "</div>"
      ],
      "text/plain": [
       "   Recnum     Cardnum    Date       Merchnum        Merch description  \\\n",
       "0       1  5142190439  1/1/10  5509006296254   FEDEX SHP 12/23/09 AB#   \n",
       "1       2  5142183973  1/1/10    61003026333  SERVICE MERCHANDISE #81   \n",
       "2       3  5142131721  1/1/10  4503082993600        OFFICE DEPOT #191   \n",
       "3       4  5142148452  1/1/10  5509006296254   FEDEX SHP 12/28/09 AB#   \n",
       "4       5  5142190439  1/1/10  5509006296254   FEDEX SHP 12/23/09 AB#   \n",
       "\n",
       "  Merch state  Merch zip Transtype  Amount  Fraud  \n",
       "0          TN    38118.0         P    3.62      0  \n",
       "1          MA     1803.0         P   31.42      0  \n",
       "2          MD    20706.0         P  178.49      0  \n",
       "3          TN    38118.0         P    3.62      0  \n",
       "4          TN    38118.0         P    3.62      0  "
      ]
     },
     "execution_count": 5,
     "metadata": {},
     "output_type": "execute_result"
    }
   ],
   "source": [
    "data = data[data['Transtype'] == 'P']\n",
    "print(len(data))\n",
    "data.head()"
   ]
  },
  {
   "cell_type": "markdown",
   "id": "411bcc9f",
   "metadata": {},
   "source": [
    "## Remove single large transaction outlier"
   ]
  },
  {
   "cell_type": "code",
   "execution_count": 8,
   "id": "7fd59b27",
   "metadata": {},
   "outputs": [
    {
     "data": {
      "text/html": [
       "<div>\n",
       "<style scoped>\n",
       "    .dataframe tbody tr th:only-of-type {\n",
       "        vertical-align: middle;\n",
       "    }\n",
       "\n",
       "    .dataframe tbody tr th {\n",
       "        vertical-align: top;\n",
       "    }\n",
       "\n",
       "    .dataframe thead th {\n",
       "        text-align: right;\n",
       "    }\n",
       "</style>\n",
       "<table border=\"1\" class=\"dataframe\">\n",
       "  <thead>\n",
       "    <tr style=\"text-align: right;\">\n",
       "      <th></th>\n",
       "      <th>Recnum</th>\n",
       "      <th>Cardnum</th>\n",
       "      <th>Date</th>\n",
       "      <th>Merchnum</th>\n",
       "      <th>Merch description</th>\n",
       "      <th>Merch state</th>\n",
       "      <th>Merch zip</th>\n",
       "      <th>Transtype</th>\n",
       "      <th>Amount</th>\n",
       "      <th>Fraud</th>\n",
       "    </tr>\n",
       "  </thead>\n",
       "  <tbody>\n",
       "    <tr>\n",
       "      <th>52714</th>\n",
       "      <td>52715</td>\n",
       "      <td>5142189135</td>\n",
       "      <td>7/13/10</td>\n",
       "      <td></td>\n",
       "      <td>INTERMEXICO</td>\n",
       "      <td>NaN</td>\n",
       "      <td>NaN</td>\n",
       "      <td>P</td>\n",
       "      <td>3102045.53</td>\n",
       "      <td>0</td>\n",
       "    </tr>\n",
       "  </tbody>\n",
       "</table>\n",
       "</div>"
      ],
      "text/plain": [
       "       Recnum     Cardnum     Date Merchnum Merch description Merch state  \\\n",
       "52714   52715  5142189135  7/13/10                INTERMEXICO         NaN   \n",
       "\n",
       "       Merch zip Transtype      Amount  Fraud  \n",
       "52714        NaN         P  3102045.53      0  "
      ]
     },
     "execution_count": 8,
     "metadata": {},
     "output_type": "execute_result"
    }
   ],
   "source": [
    "data[data['Amount'] == data['Amount'].max()]"
   ]
  },
  {
   "cell_type": "code",
   "execution_count": 9,
   "id": "276113ff",
   "metadata": {},
   "outputs": [],
   "source": [
    "data.drop(index = 52714, inplace = True, axis = 0)"
   ]
  },
  {
   "cell_type": "markdown",
   "id": "64ebb87d",
   "metadata": {},
   "source": [
    "## Fill in missing values"
   ]
  },
  {
   "cell_type": "code",
   "execution_count": 10,
   "id": "3c129672",
   "metadata": {},
   "outputs": [
    {
     "data": {
      "text/plain": [
       "Recnum                  0\n",
       "Cardnum                 0\n",
       "Date                    0\n",
       "Merchnum                0\n",
       "Merch description       0\n",
       "Merch state          1020\n",
       "Merch zip            4300\n",
       "Transtype               0\n",
       "Amount                  0\n",
       "Fraud                   0\n",
       "dtype: int64"
      ]
     },
     "execution_count": 10,
     "metadata": {},
     "output_type": "execute_result"
    }
   ],
   "source": [
    "data.isna().sum()"
   ]
  },
  {
   "cell_type": "code",
   "execution_count": 11,
   "id": "b5ba9815",
   "metadata": {},
   "outputs": [
    {
     "data": {
      "text/plain": [
       "3251"
      ]
     },
     "execution_count": 11,
     "metadata": {},
     "output_type": "execute_result"
    }
   ],
   "source": [
    "# since merchnum is a string, null values will be '' or '0'\n",
    "len(data[(data['Merchnum'] == '') | (data['Merchnum'] == '0')])"
   ]
  },
  {
   "cell_type": "markdown",
   "id": "8845b74c",
   "metadata": {},
   "source": [
    "### Fill in Merchnum"
   ]
  },
  {
   "cell_type": "code",
   "execution_count": 12,
   "id": "ee97c438",
   "metadata": {},
   "outputs": [],
   "source": [
    "data['Merchnum'] = data['Merchnum'].replace({'0':np.nan})\n",
    "data['Merchnum'] = data['Merchnum'].replace({'':np.nan})"
   ]
  },
  {
   "cell_type": "code",
   "execution_count": 13,
   "id": "8417c515",
   "metadata": {},
   "outputs": [],
   "source": [
    "# dict for mapping\n",
    "merchdes_merchnum = {}\n",
    "for index, merchdes in data[data['Merch description'].notnull()]['Merch description'].items():\n",
    "    if merchdes not in merchdes_merchnum :\n",
    "        merchdes_merchnum[merchdes] = data.loc[index, 'Merchnum']"
   ]
  },
  {
   "cell_type": "code",
   "execution_count": 14,
   "id": "89f2eef3",
   "metadata": {},
   "outputs": [],
   "source": [
    "# fill in by mapping with Merch description\n",
    "data['Merchnum'] = data['Merchnum'].fillna(data['Merch description'].map(merchdes_merchnum))"
   ]
  },
  {
   "cell_type": "code",
   "execution_count": 15,
   "id": "6ae3a174",
   "metadata": {},
   "outputs": [],
   "source": [
    "# assign unknown for adjustments transactions\n",
    "data['Merchnum'] = data['Merchnum'].mask(data['Merch description'] == 'RETAIL CREDIT ADJUSTMENT', 'unknown')\n",
    "data['Merchnum'] = data['Merchnum'].mask(data['Merch description'] == 'RETAIL DEBIT ADJUSTMENT', 'unknown')"
   ]
  },
  {
   "cell_type": "code",
   "execution_count": 16,
   "id": "b52f1f00",
   "metadata": {},
   "outputs": [
    {
     "data": {
      "text/plain": [
       "2271"
      ]
     },
     "execution_count": 16,
     "metadata": {},
     "output_type": "execute_result"
    }
   ],
   "source": [
    "data['Merchnum'].isna().sum()"
   ]
  },
  {
   "cell_type": "code",
   "execution_count": 17,
   "id": "89ee6fa8",
   "metadata": {
    "scrolled": true
   },
   "outputs": [
    {
     "data": {
      "text/plain": [
       "array(['GRAINGER #973', 'AUTOMATED OFFICE PRODU', 'ROLL CALL NEWSPAPER',\n",
       "       'MONTGOMERY COLLEGE-PHONE', 'ARGENT CHEMICAL LABS', 'CHEMUNEX',\n",
       "       'TEKMAR COMPANY', 'OPERON TECHNOLOGIES INC', 'PACKAGE PLACE  THE',\n",
       "       'CUBIX CORPORATION', 'SIGNAL GRAPHICS PRINTING', 'GRAINGER #932',\n",
       "       'SUNSET LABORATORY', 'AUTO PARTS MACHINE SHOP',\n",
       "       'THE AMERICAN PHYSIOLOGICA', 'C & M OFFICE EQUIPMENT',\n",
       "       'HACH COMPANY', 'MOLECULAR PROBES INC.', 'OSU BOOKSTORES INC',\n",
       "       'LEGASYS INTERNATIONAL INC'], dtype=object)"
      ]
     },
     "execution_count": 17,
     "metadata": {},
     "output_type": "execute_result"
    }
   ],
   "source": [
    "data.loc[data.Merchnum.isna(), 'Merch description'].unique()[:20]"
   ]
  },
  {
   "cell_type": "code",
   "execution_count": 18,
   "id": "5de9df7d",
   "metadata": {},
   "outputs": [
    {
     "data": {
      "text/plain": [
       "663"
      ]
     },
     "execution_count": 18,
     "metadata": {},
     "output_type": "execute_result"
    }
   ],
   "source": [
    "data.loc[data['Merchnum'].isna(), 'Merch description'].nunique()"
   ]
  },
  {
   "cell_type": "markdown",
   "id": "4a8712a5",
   "metadata": {},
   "source": [
    "2271 null merchnums with 663 unique descriptions\n",
    "\n",
    "#### Create new Merchnums using the description field"
   ]
  },
  {
   "cell_type": "code",
   "execution_count": 19,
   "id": "626f325b",
   "metadata": {},
   "outputs": [],
   "source": [
    "# each new unique merchnum will be max(merchnum) + 1\n",
    "merchnum_create = {}\n",
    "max_merchnum = pd.to_numeric(data['Merchnum'], errors = 'coerce').max()\n",
    "for merch_desc in data.loc[data['Merchnum'].isna(), 'Merch description'].unique():\n",
    "    merchnum_create[merch_desc] = str(int(max_merchnum + 1))\n",
    "    max_merchnum += 1"
   ]
  },
  {
   "cell_type": "code",
   "execution_count": 20,
   "id": "abb2be44",
   "metadata": {},
   "outputs": [],
   "source": [
    "# fill in by mapping the newly created merchnums with Merch description \n",
    "data['Merchnum'] = data['Merchnum'].fillna(data['Merch description'].map(merchnum_create))"
   ]
  },
  {
   "cell_type": "code",
   "execution_count": 21,
   "id": "2f1587d9",
   "metadata": {},
   "outputs": [
    {
     "data": {
      "text/plain": [
       "0"
      ]
     },
     "execution_count": 21,
     "metadata": {},
     "output_type": "execute_result"
    }
   ],
   "source": [
    "data['Merchnum'].isna().sum()"
   ]
  },
  {
   "cell_type": "markdown",
   "id": "943a4e42",
   "metadata": {},
   "source": [
    "### Fill in Merch state"
   ]
  },
  {
   "cell_type": "code",
   "execution_count": 22,
   "id": "b34fc963",
   "metadata": {},
   "outputs": [],
   "source": [
    "# dict for mapping\n",
    "zip_state = {}\n",
    "for index, zip5 in data[data['Merch zip'].notnull()]['Merch zip'].items():\n",
    "    if zip5 not in zip_state:\n",
    "        zip_state[zip5] = data.loc[index, 'Merch state']"
   ]
  },
  {
   "cell_type": "code",
   "execution_count": 23,
   "id": "a9a2bef2",
   "metadata": {},
   "outputs": [],
   "source": [
    "zip_state['00926'] = 'PR'\n",
    "zip_state['00929'] = 'PR'\n",
    "zip_state['00934'] = 'PR'\n",
    "zip_state['00902'] = 'PR'\n",
    "zip_state['00738'] = 'PR'\n",
    "zip_state['90805'] = 'CA'\n",
    "zip_state['76302'] = 'TX'\n",
    "zip_state['00914'] = 'PR'\n",
    "zip_state['95461'] = 'CA'\n",
    "zip_state['00680'] = 'PR'\n",
    "zip_state['00623'] = 'PR'\n",
    "zip_state['00726'] = 'PR'\n",
    "zip_state['00936'] = 'PR'\n",
    "zip_state['12108'] = 'NY'\n",
    "zip_state['00791'] = 'PR'\n",
    "zip_state['00907'] = 'PR'\n",
    "zip_state['00922'] = 'PR'\n",
    "zip_state['00920'] = 'PR'\n",
    "zip_state['00801'] = 'VI'\n",
    "zip_state['31040'] = 'GA'\n",
    "zip_state['41160'] = 'KY'\n",
    "zip_state['00681'] = 'PR'"
   ]
  },
  {
   "cell_type": "code",
   "execution_count": 24,
   "id": "13639932",
   "metadata": {},
   "outputs": [],
   "source": [
    "merchnum_state = {}\n",
    "for index, merchnum in data[data['Merchnum'].notnull()]['Merchnum'].items():\n",
    "    if merchnum not in merchnum_state :\n",
    "        merchnum_state [merchnum] = data.loc[index, 'Merch state']"
   ]
  },
  {
   "cell_type": "code",
   "execution_count": 25,
   "id": "027200de",
   "metadata": {},
   "outputs": [],
   "source": [
    "merchdes_state = {}\n",
    "for index, merchdes in data[data['Merch description'].notnull()]['Merch description'].items():\n",
    "    if merchdes not in merchdes_state :\n",
    "        merchdes_state [merchdes] = data.loc[index, 'Merch state']"
   ]
  },
  {
   "cell_type": "code",
   "execution_count": 26,
   "id": "cc9d973d",
   "metadata": {},
   "outputs": [],
   "source": [
    "# fill in by mapping with zip, merchnum and merch description\n",
    "data['Merch state'] = data['Merch state'].fillna(data['Merch zip'].map(zip_state))\n",
    "data['Merch state'] = data['Merch state'].fillna(data['Merchnum'].map(merchnum_state))\n",
    "data['Merch state'] = data['Merch state'].fillna(data['Merch description'].map(merchdes_state))"
   ]
  },
  {
   "cell_type": "code",
   "execution_count": 27,
   "id": "90655070",
   "metadata": {},
   "outputs": [],
   "source": [
    "# assign unknown for adjustments transactions\n",
    "data['Merch state'] = data['Merch state'].mask(data['Merch description'] == 'RETAIL CREDIT ADJUSTMENT', 'unknown')\n",
    "data['Merch state'] = data['Merch state'].mask(data['Merch description'] == 'RETAIL DEBIT ADJUSTMENT', 'unknown')"
   ]
  },
  {
   "cell_type": "code",
   "execution_count": 28,
   "id": "ce4d32b9",
   "metadata": {},
   "outputs": [
    {
     "data": {
      "text/plain": [
       "346"
      ]
     },
     "execution_count": 28,
     "metadata": {},
     "output_type": "execute_result"
    }
   ],
   "source": [
    "data['Merch state'].isna().sum()"
   ]
  },
  {
   "cell_type": "markdown",
   "id": "d7471b37",
   "metadata": {},
   "source": [
    "### Fill in Merch zip"
   ]
  },
  {
   "cell_type": "code",
   "execution_count": 29,
   "id": "80113bd1",
   "metadata": {},
   "outputs": [],
   "source": [
    "merchnum_zip = {}\n",
    "for index, merchnum in data[data['Merchnum'].notnull()]['Merchnum'].items():\n",
    "    if merchnum not in merchnum_zip :\n",
    "        merchnum_zip [merchnum] = data.loc[index, 'Merch zip']"
   ]
  },
  {
   "cell_type": "code",
   "execution_count": 30,
   "id": "c96eb7da",
   "metadata": {},
   "outputs": [],
   "source": [
    "merchdes_zip = {}\n",
    "for index, merchdes in data[data['Merch description'].notnull()]['Merch description'].items():\n",
    "    if merchdes not in merchdes_zip :\n",
    "        merchdes_zip [merchdes] = data.loc[index, 'Merch zip']"
   ]
  },
  {
   "cell_type": "code",
   "execution_count": 31,
   "id": "e86e3e16",
   "metadata": {},
   "outputs": [],
   "source": [
    "# fill in by mapping with merchnum and merch description\n",
    "data['Merch zip'] = data['Merch zip'].fillna(data['Merchnum'].map(merchnum_zip))\n",
    "data['Merch zip'] = data['Merch zip'].fillna(data['Merch description'].map(merchdes_zip))"
   ]
  },
  {
   "cell_type": "code",
   "execution_count": 32,
   "id": "6b6552bf",
   "metadata": {},
   "outputs": [],
   "source": [
    "# assign unknown for adjustments transactions\n",
    "data['Merch zip'] = data['Merch zip'].mask(data['Merch zip'] == 'RETAIL CREDIT ADJUSTMENT', 'unknown')\n",
    "data['Merch zip'] = data['Merch zip'].mask(data['Merch zip'] == 'RETAIL DEBIT ADJUSTMENT', 'unknown')"
   ]
  },
  {
   "cell_type": "code",
   "execution_count": 33,
   "id": "539dff16",
   "metadata": {},
   "outputs": [
    {
     "data": {
      "text/plain": [
       "2658"
      ]
     },
     "execution_count": 33,
     "metadata": {},
     "output_type": "execute_result"
    }
   ],
   "source": [
    "data['Merch zip'].isna().sum()"
   ]
  },
  {
   "cell_type": "markdown",
   "id": "c7b9dd38",
   "metadata": {},
   "source": [
    "### Fill the rest with unknown"
   ]
  },
  {
   "cell_type": "code",
   "execution_count": 34,
   "id": "89d3aaf3",
   "metadata": {},
   "outputs": [
    {
     "name": "stdout",
     "output_type": "stream",
     "text": [
      "<class 'pandas.core.frame.DataFrame'>\n",
      "Int64Index: 96397 entries, 0 to 96752\n",
      "Data columns (total 10 columns):\n",
      " #   Column             Non-Null Count  Dtype  \n",
      "---  ------             --------------  -----  \n",
      " 0   Recnum             96397 non-null  int64  \n",
      " 1   Cardnum            96397 non-null  object \n",
      " 2   Date               96397 non-null  object \n",
      " 3   Merchnum           96397 non-null  object \n",
      " 4   Merch description  96397 non-null  object \n",
      " 5   Merch state        96397 non-null  object \n",
      " 6   Merch zip          96397 non-null  object \n",
      " 7   Transtype          96397 non-null  object \n",
      " 8   Amount             96397 non-null  float64\n",
      " 9   Fraud              96397 non-null  int64  \n",
      "dtypes: float64(1), int64(2), object(7)\n",
      "memory usage: 10.1+ MB\n"
     ]
    }
   ],
   "source": [
    "data = data.fillna('unknown')\n",
    "data.info()"
   ]
  },
  {
   "cell_type": "markdown",
   "id": "dc85153d",
   "metadata": {},
   "source": [
    "# Make Variables"
   ]
  },
  {
   "cell_type": "code",
   "execution_count": 35,
   "id": "4374ef65",
   "metadata": {},
   "outputs": [],
   "source": [
    "df = data.copy()"
   ]
  },
  {
   "cell_type": "markdown",
   "id": "802ac0b0",
   "metadata": {},
   "source": [
    "## Day of Week Target Encoding"
   ]
  },
  {
   "cell_type": "code",
   "execution_count": 36,
   "id": "91eccc2e",
   "metadata": {},
   "outputs": [
    {
     "data": {
      "text/plain": [
       "22599       Sunday\n",
       "63025     Saturday\n",
       "39310      Tuesday\n",
       "24102       Friday\n",
       "49877    Wednesday\n",
       "Name: Dow, dtype: object"
      ]
     },
     "execution_count": 36,
     "metadata": {},
     "output_type": "execute_result"
    }
   ],
   "source": [
    "# day of Week Target Encoding\n",
    "df['Date'] = pd.to_datetime(df['Date'])\n",
    "df['Dow'] = df.Date.apply(lambda x: calendar.day_name[x.weekday()])\n",
    "df['Dow'].sample(5)"
   ]
  },
  {
   "cell_type": "code",
   "execution_count": 37,
   "id": "c14ed237",
   "metadata": {},
   "outputs": [],
   "source": [
    "# separate the OOT\n",
    "train_test = df[df.Date < '2010-11-01']"
   ]
  },
  {
   "cell_type": "code",
   "execution_count": 38,
   "id": "d52ea6a8",
   "metadata": {},
   "outputs": [],
   "source": [
    "# statistical smoothing\n",
    "c = 4; nmid = 20; y_avg = train_test['Fraud'].mean()\n",
    "y_dow = train_test.groupby('Dow')['Fraud'].mean()\n",
    "num = train_test.groupby('Dow').size()\n",
    "y_dow_smooth = y_avg + (y_dow - y_avg)/ (1 + np.exp(-(num - nmid)/ c))\n",
    "df['Dow_risk'] = df.Dow.map(y_dow_smooth)"
   ]
  },
  {
   "cell_type": "code",
   "execution_count": 39,
   "id": "3fe57c56",
   "metadata": {},
   "outputs": [],
   "source": [
    "# delete files that we don't need any more to free up memory\n",
    "del train_test"
   ]
  },
  {
   "cell_type": "code",
   "execution_count": 40,
   "id": "104478b7",
   "metadata": {},
   "outputs": [],
   "source": [
    "y_dow = y_dow.reset_index()\n",
    "cats = ['Monday','Tuesday','Wednesday','Thursday','Friday','Saturday','Sunday']\n",
    "y_dow['Dow'] = pd.Categorical(y_dow['Dow'],categories = cats, ordered = True)\n",
    "y_dow = y_dow.sort_values('Dow')\n",
    "y_dow = y_dow.set_index('Dow')"
   ]
  },
  {
   "cell_type": "code",
   "execution_count": 41,
   "id": "dbfe4cb9",
   "metadata": {},
   "outputs": [
    {
     "data": {
      "image/png": "[encoded data removed]",
      "text/plain": [
       "<Figure size 1440x720 with 1 Axes>"
      ]
     },
     "metadata": {},
     "output_type": "display_data"
    }
   ],
   "source": [
    "# plot\n",
    "plt.style.use('ggplot')\n",
    "fig, ax = plt.subplots(figsize = (20, 10))\n",
    "plt.bar(data = y_dow, x = y_dow.index, height = 'Fraud', color = 'darkblue')\n",
    "ax.axhline(y = y_avg, ls = '--', lw = 2, label = 'Average Fraud Population')\n",
    "\n",
    "for i, v in enumerate(y_dow.index):\n",
    "    ax.text(v, y_dow.loc[v, 'Fraud'] + 0.0001, round(y_dow.loc[v, 'Fraud'], 5),\n",
    "           horizontalalignment = 'center', fontsize = 15)\n",
    "\n",
    "plt.legend(['Average Fraud Population'], fontsize = 15)\n",
    "plt.xlabel('Day of Week', fontsize = 20)\n",
    "plt.ylabel('Percentage', fontsize = 20)\n",
    "plt.xticks(fontsize = 15)\n",
    "plt.yticks(fontsize = 15)\n",
    "plt.title('Fraud Proportion of Each Weekday', fontsize = 30)\n",
    "plt.show()"
   ]
  },
  {
   "cell_type": "markdown",
   "id": "84e458f7",
   "metadata": {},
   "source": [
    "## Make new entities for variables"
   ]
  },
  {
   "cell_type": "code",
   "execution_count": 42,
   "id": "5282b59a",
   "metadata": {},
   "outputs": [],
   "source": [
    "# convert to string to concatenate\n",
    "df['Merch zip'] = df['Merch zip'].astype(str)"
   ]
  },
  {
   "cell_type": "code",
   "execution_count": 43,
   "id": "526bdb8e",
   "metadata": {},
   "outputs": [],
   "source": [
    "df['card_merch'] = df['Cardnum'] + df['Merchnum']\n",
    "df['card_zip'] = df['Cardnum'] + df['Merch zip']\n",
    "df['merch_zip'] = df['Merchnum'] + df['Merch zip']\n",
    "df['zip3'] = df['Merch zip'].str[:3]\n",
    "df['card_zip3'] = df['Cardnum'] + df['zip3']\n",
    "df['Card_Merchdesc'] = df['Cardnum'] + df['Merch description']\n",
    "df['Merchnum_desc'] = df['Merchnum'] + df['Merch description']\n",
    "df['Card_Merchnum_desc'] = df['Cardnum'] + df['Merchnum'] + df['Merch description']"
   ]
  },
  {
   "cell_type": "code",
   "execution_count": 44,
   "id": "dbb151fd",
   "metadata": {},
   "outputs": [
    {
     "data": {
      "text/plain": [
       "Index(['Recnum', 'Cardnum', 'Date', 'Merchnum', 'Merch description',\n",
       "       'Merch state', 'Merch zip', 'Transtype', 'Amount', 'Fraud', 'Dow',\n",
       "       'Dow_risk', 'card_merch', 'card_zip', 'merch_zip', 'zip3', 'card_zip3',\n",
       "       'Card_Merchdesc', 'Merchnum_desc', 'Card_Merchnum_desc'],\n",
       "      dtype='object')"
      ]
     },
     "execution_count": 44,
     "metadata": {},
     "output_type": "execute_result"
    }
   ],
   "source": [
    "df.columns"
   ]
  },
  {
   "cell_type": "code",
   "execution_count": 45,
   "id": "6d4f095d",
   "metadata": {},
   "outputs": [],
   "source": [
    "entities = list(df.iloc[:, np.r_[1, 3, 12:20]].columns)"
   ]
  },
  {
   "cell_type": "code",
   "execution_count": 46,
   "id": "faaa6765",
   "metadata": {
    "scrolled": false
   },
   "outputs": [
    {
     "data": {
      "text/plain": [
       "['Cardnum',\n",
       " 'Merchnum',\n",
       " 'card_merch',\n",
       " 'card_zip',\n",
       " 'merch_zip',\n",
       " 'zip3',\n",
       " 'card_zip3',\n",
       " 'Card_Merchdesc',\n",
       " 'Merchnum_desc',\n",
       " 'Card_Merchnum_desc']"
      ]
     },
     "execution_count": 46,
     "metadata": {},
     "output_type": "execute_result"
    }
   ],
   "source": [
    "entities"
   ]
  },
  {
   "cell_type": "code",
   "execution_count": 47,
   "id": "b2cf6b53",
   "metadata": {},
   "outputs": [
    {
     "data": {
      "text/plain": [
       "10"
      ]
     },
     "execution_count": 47,
     "metadata": {},
     "output_type": "execute_result"
    }
   ],
   "source": [
    "len(entities)"
   ]
  },
  {
   "cell_type": "code",
   "execution_count": 48,
   "id": "e9e1d721",
   "metadata": {},
   "outputs": [
    {
     "name": "stdout",
     "output_type": "stream",
     "text": [
      "<class 'pandas.core.frame.DataFrame'>\n",
      "Int64Index: 96397 entries, 0 to 96752\n",
      "Data columns (total 20 columns):\n",
      " #   Column              Non-Null Count  Dtype         \n",
      "---  ------              --------------  -----         \n",
      " 0   Recnum              96397 non-null  int64         \n",
      " 1   Cardnum             96397 non-null  object        \n",
      " 2   Date                96397 non-null  datetime64[ns]\n",
      " 3   Merchnum            96397 non-null  object        \n",
      " 4   Merch description   96397 non-null  object        \n",
      " 5   Merch state         96397 non-null  object        \n",
      " 6   Merch zip           96397 non-null  object        \n",
      " 7   Transtype           96397 non-null  object        \n",
      " 8   Amount              96397 non-null  float64       \n",
      " 9   Fraud               96397 non-null  int64         \n",
      " 10  Dow                 96397 non-null  object        \n",
      " 11  Dow_risk            96397 non-null  float64       \n",
      " 12  card_merch          96397 non-null  object        \n",
      " 13  card_zip            96397 non-null  object        \n",
      " 14  merch_zip           96397 non-null  object        \n",
      " 15  zip3                96397 non-null  object        \n",
      " 16  card_zip3           96397 non-null  object        \n",
      " 17  Card_Merchdesc      96397 non-null  object        \n",
      " 18  Merchnum_desc       96397 non-null  object        \n",
      " 19  Card_Merchnum_desc  96397 non-null  object        \n",
      "dtypes: datetime64[ns](1), float64(2), int64(2), object(15)\n",
      "memory usage: 17.5+ MB\n"
     ]
    }
   ],
   "source": [
    "df.info()"
   ]
  },
  {
   "cell_type": "code",
   "execution_count": 49,
   "id": "49d2437d",
   "metadata": {},
   "outputs": [
    {
     "data": {
      "text/html": [
       "<div>\n",
       "<style scoped>\n",
       "    .dataframe tbody tr th:only-of-type {\n",
       "        vertical-align: middle;\n",
       "    }\n",
       "\n",
       "    .dataframe tbody tr th {\n",
       "        vertical-align: top;\n",
       "    }\n",
       "\n",
       "    .dataframe thead th {\n",
       "        text-align: right;\n",
       "    }\n",
       "</style>\n",
       "<table border=\"1\" class=\"dataframe\">\n",
       "  <thead>\n",
       "    <tr style=\"text-align: right;\">\n",
       "      <th></th>\n",
       "      <th>Recnum</th>\n",
       "      <th>Cardnum</th>\n",
       "      <th>Date</th>\n",
       "      <th>Merchnum</th>\n",
       "      <th>Merch description</th>\n",
       "      <th>Merch state</th>\n",
       "      <th>Merch zip</th>\n",
       "      <th>Transtype</th>\n",
       "      <th>Amount</th>\n",
       "      <th>Fraud</th>\n",
       "      <th>Dow</th>\n",
       "      <th>Dow_risk</th>\n",
       "      <th>card_merch</th>\n",
       "      <th>card_zip</th>\n",
       "      <th>merch_zip</th>\n",
       "      <th>zip3</th>\n",
       "      <th>card_zip3</th>\n",
       "      <th>Card_Merchdesc</th>\n",
       "      <th>Merchnum_desc</th>\n",
       "      <th>Card_Merchnum_desc</th>\n",
       "    </tr>\n",
       "  </thead>\n",
       "  <tbody>\n",
       "    <tr>\n",
       "      <th>0</th>\n",
       "      <td>1</td>\n",
       "      <td>5142190439</td>\n",
       "      <td>2010-01-01</td>\n",
       "      <td>5509006296254</td>\n",
       "      <td>FEDEX SHP 12/23/09 AB#</td>\n",
       "      <td>TN</td>\n",
       "      <td>38118.0</td>\n",
       "      <td>P</td>\n",
       "      <td>3.62</td>\n",
       "      <td>0</td>\n",
       "      <td>Friday</td>\n",
       "      <td>0.025994</td>\n",
       "      <td>51421904395509006296254</td>\n",
       "      <td>514219043938118.0</td>\n",
       "      <td>550900629625438118.0</td>\n",
       "      <td>381</td>\n",
       "      <td>5142190439381</td>\n",
       "      <td>5142190439FEDEX SHP 12/23/09 AB#</td>\n",
       "      <td>5509006296254FEDEX SHP 12/23/09 AB#</td>\n",
       "      <td>51421904395509006296254FEDEX SHP 12/23/09 AB#</td>\n",
       "    </tr>\n",
       "    <tr>\n",
       "      <th>1</th>\n",
       "      <td>2</td>\n",
       "      <td>5142183973</td>\n",
       "      <td>2010-01-01</td>\n",
       "      <td>61003026333</td>\n",
       "      <td>SERVICE MERCHANDISE #81</td>\n",
       "      <td>MA</td>\n",
       "      <td>1803.0</td>\n",
       "      <td>P</td>\n",
       "      <td>31.42</td>\n",
       "      <td>0</td>\n",
       "      <td>Friday</td>\n",
       "      <td>0.025994</td>\n",
       "      <td>514218397361003026333</td>\n",
       "      <td>51421839731803.0</td>\n",
       "      <td>610030263331803.0</td>\n",
       "      <td>180</td>\n",
       "      <td>5142183973180</td>\n",
       "      <td>5142183973SERVICE MERCHANDISE #81</td>\n",
       "      <td>61003026333SERVICE MERCHANDISE #81</td>\n",
       "      <td>514218397361003026333SERVICE MERCHANDISE #81</td>\n",
       "    </tr>\n",
       "    <tr>\n",
       "      <th>2</th>\n",
       "      <td>3</td>\n",
       "      <td>5142131721</td>\n",
       "      <td>2010-01-01</td>\n",
       "      <td>4503082993600</td>\n",
       "      <td>OFFICE DEPOT #191</td>\n",
       "      <td>MD</td>\n",
       "      <td>20706.0</td>\n",
       "      <td>P</td>\n",
       "      <td>178.49</td>\n",
       "      <td>0</td>\n",
       "      <td>Friday</td>\n",
       "      <td>0.025994</td>\n",
       "      <td>51421317214503082993600</td>\n",
       "      <td>514213172120706.0</td>\n",
       "      <td>450308299360020706.0</td>\n",
       "      <td>207</td>\n",
       "      <td>5142131721207</td>\n",
       "      <td>5142131721OFFICE DEPOT #191</td>\n",
       "      <td>4503082993600OFFICE DEPOT #191</td>\n",
       "      <td>51421317214503082993600OFFICE DEPOT #191</td>\n",
       "    </tr>\n",
       "    <tr>\n",
       "      <th>3</th>\n",
       "      <td>4</td>\n",
       "      <td>5142148452</td>\n",
       "      <td>2010-01-01</td>\n",
       "      <td>5509006296254</td>\n",
       "      <td>FEDEX SHP 12/28/09 AB#</td>\n",
       "      <td>TN</td>\n",
       "      <td>38118.0</td>\n",
       "      <td>P</td>\n",
       "      <td>3.62</td>\n",
       "      <td>0</td>\n",
       "      <td>Friday</td>\n",
       "      <td>0.025994</td>\n",
       "      <td>51421484525509006296254</td>\n",
       "      <td>514214845238118.0</td>\n",
       "      <td>550900629625438118.0</td>\n",
       "      <td>381</td>\n",
       "      <td>5142148452381</td>\n",
       "      <td>5142148452FEDEX SHP 12/28/09 AB#</td>\n",
       "      <td>5509006296254FEDEX SHP 12/28/09 AB#</td>\n",
       "      <td>51421484525509006296254FEDEX SHP 12/28/09 AB#</td>\n",
       "    </tr>\n",
       "    <tr>\n",
       "      <th>4</th>\n",
       "      <td>5</td>\n",
       "      <td>5142190439</td>\n",
       "      <td>2010-01-01</td>\n",
       "      <td>5509006296254</td>\n",
       "      <td>FEDEX SHP 12/23/09 AB#</td>\n",
       "      <td>TN</td>\n",
       "      <td>38118.0</td>\n",
       "      <td>P</td>\n",
       "      <td>3.62</td>\n",
       "      <td>0</td>\n",
       "      <td>Friday</td>\n",
       "      <td>0.025994</td>\n",
       "      <td>51421904395509006296254</td>\n",
       "      <td>514219043938118.0</td>\n",
       "      <td>550900629625438118.0</td>\n",
       "      <td>381</td>\n",
       "      <td>5142190439381</td>\n",
       "      <td>5142190439FEDEX SHP 12/23/09 AB#</td>\n",
       "      <td>5509006296254FEDEX SHP 12/23/09 AB#</td>\n",
       "      <td>51421904395509006296254FEDEX SHP 12/23/09 AB#</td>\n",
       "    </tr>\n",
       "  </tbody>\n",
       "</table>\n",
       "</div>"
      ],
      "text/plain": [
       "   Recnum     Cardnum       Date       Merchnum        Merch description  \\\n",
       "0       1  5142190439 2010-01-01  5509006296254   FEDEX SHP 12/23/09 AB#   \n",
       "1       2  5142183973 2010-01-01    61003026333  SERVICE MERCHANDISE #81   \n",
       "2       3  5142131721 2010-01-01  4503082993600        OFFICE DEPOT #191   \n",
       "3       4  5142148452 2010-01-01  5509006296254   FEDEX SHP 12/28/09 AB#   \n",
       "4       5  5142190439 2010-01-01  5509006296254   FEDEX SHP 12/23/09 AB#   \n",
       "\n",
       "  Merch state Merch zip Transtype  Amount  Fraud     Dow  Dow_risk  \\\n",
       "0          TN   38118.0         P    3.62      0  Friday  0.025994   \n",
       "1          MA    1803.0         P   31.42      0  Friday  0.025994   \n",
       "2          MD   20706.0         P  178.49      0  Friday  0.025994   \n",
       "3          TN   38118.0         P    3.62      0  Friday  0.025994   \n",
       "4          TN   38118.0         P    3.62      0  Friday  0.025994   \n",
       "\n",
       "                card_merch           card_zip             merch_zip zip3  \\\n",
       "0  51421904395509006296254  514219043938118.0  550900629625438118.0  381   \n",
       "1    514218397361003026333   51421839731803.0     610030263331803.0  180   \n",
       "2  51421317214503082993600  514213172120706.0  450308299360020706.0  207   \n",
       "3  51421484525509006296254  514214845238118.0  550900629625438118.0  381   \n",
       "4  51421904395509006296254  514219043938118.0  550900629625438118.0  381   \n",
       "\n",
       "       card_zip3                     Card_Merchdesc  \\\n",
       "0  5142190439381   5142190439FEDEX SHP 12/23/09 AB#   \n",
       "1  5142183973180  5142183973SERVICE MERCHANDISE #81   \n",
       "2  5142131721207        5142131721OFFICE DEPOT #191   \n",
       "3  5142148452381   5142148452FEDEX SHP 12/28/09 AB#   \n",
       "4  5142190439381   5142190439FEDEX SHP 12/23/09 AB#   \n",
       "\n",
       "                         Merchnum_desc  \\\n",
       "0  5509006296254FEDEX SHP 12/23/09 AB#   \n",
       "1   61003026333SERVICE MERCHANDISE #81   \n",
       "2       4503082993600OFFICE DEPOT #191   \n",
       "3  5509006296254FEDEX SHP 12/28/09 AB#   \n",
       "4  5509006296254FEDEX SHP 12/23/09 AB#   \n",
       "\n",
       "                              Card_Merchnum_desc  \n",
       "0  51421904395509006296254FEDEX SHP 12/23/09 AB#  \n",
       "1   514218397361003026333SERVICE MERCHANDISE #81  \n",
       "2       51421317214503082993600OFFICE DEPOT #191  \n",
       "3  51421484525509006296254FEDEX SHP 12/28/09 AB#  \n",
       "4  51421904395509006296254FEDEX SHP 12/23/09 AB#  "
      ]
     },
     "execution_count": 49,
     "metadata": {},
     "output_type": "execute_result"
    }
   ],
   "source": [
    "df.head()"
   ]
  },
  {
   "cell_type": "markdown",
   "id": "d49d9e75",
   "metadata": {},
   "source": [
    "## Benford's law variables"
   ]
  },
  {
   "cell_type": "code",
   "execution_count": 50,
   "id": "0ced81d0",
   "metadata": {},
   "outputs": [],
   "source": [
    "bf = data.copy()\n",
    "bf['amount_100'] = (bf['Amount'] * 100).astype(str)\n",
    "bf['first_digit'] = bf['amount_100'].str[0]"
   ]
  },
  {
   "cell_type": "code",
   "execution_count": 51,
   "id": "a6ee5d76",
   "metadata": {},
   "outputs": [],
   "source": [
    "# remove FEDEX first only for this part\n",
    "dropfedex = bf[bf['Merch description'].str.contains('FEDEX')]\n",
    "droplist = dropfedex.index.tolist()\n",
    "bf1 = bf.drop(droplist)\n",
    "bf1['bin'] = bf1['first_digit'].apply(lambda x: 'low' if x == '1' else\n",
    "                                     ('low' if x == '2' else 'high'))"
   ]
  },
  {
   "cell_type": "markdown",
   "id": "47448b15",
   "metadata": {},
   "source": [
    "### U*'s for card numbers"
   ]
  },
  {
   "cell_type": "code",
   "execution_count": 52,
   "id": "efbb96f4",
   "metadata": {},
   "outputs": [],
   "source": [
    "card_bf = bf1.groupby(['Cardnum', 'bin']).agg({'bin': ['count']}).reset_index()\n",
    "card_bf.columns = ['Cardnum', 'bin', 'count']\n",
    "card_bf = card_bf.pivot_table(index = 'Cardnum', columns = 'bin', values = 'count', \n",
    "                             aggfunc = 'sum').reset_index()\n",
    "card_bf.columns = ['Cardnum', 'n_high', 'n_low']\n",
    "card_bf = card_bf.fillna(1)"
   ]
  },
  {
   "cell_type": "code",
   "execution_count": 53,
   "id": "9cdf7166",
   "metadata": {},
   "outputs": [],
   "source": [
    "# calculate R, 1/R, U, n, t, U*\n",
    "c = 3\n",
    "n_mid = 15\n",
    "card_bf['R'] = (1.096 * card_bf['n_low']/ card_bf['n_high'])\n",
    "card_bf['1/R'] = (1/ card_bf['R'])\n",
    "card_bf['U'] = list(map(lambda x, y : max(x, y), card_bf['R'], card_bf['1/R']))\n",
    "card_bf['n'] = card_bf['n_high'] + card_bf['n_low']\n",
    "card_bf['t'] = ((card_bf['n'] - n_mid)/ c)\n",
    "card_bf['U*'] = list(map(lambda x, y : (1 + (x - 1)/ (1 + np.exp(-y))), \n",
    "                        card_bf['U'], card_bf['t']))"
   ]
  },
  {
   "cell_type": "code",
   "execution_count": 54,
   "id": "6ebe25de",
   "metadata": {},
   "outputs": [
    {
     "data": {
      "text/html": [
       "<div>\n",
       "<style scoped>\n",
       "    .dataframe tbody tr th:only-of-type {\n",
       "        vertical-align: middle;\n",
       "    }\n",
       "\n",
       "    .dataframe tbody tr th {\n",
       "        vertical-align: top;\n",
       "    }\n",
       "\n",
       "    .dataframe thead th {\n",
       "        text-align: right;\n",
       "    }\n",
       "</style>\n",
       "<table border=\"1\" class=\"dataframe\">\n",
       "  <thead>\n",
       "    <tr style=\"text-align: right;\">\n",
       "      <th></th>\n",
       "      <th>U*</th>\n",
       "    </tr>\n",
       "    <tr>\n",
       "      <th>Cardnum</th>\n",
       "      <th></th>\n",
       "    </tr>\n",
       "  </thead>\n",
       "  <tbody>\n",
       "    <tr>\n",
       "      <th>5142253356</th>\n",
       "      <td>13.371199</td>\n",
       "    </tr>\n",
       "    <tr>\n",
       "      <th>5142299705</th>\n",
       "      <td>9.027976</td>\n",
       "    </tr>\n",
       "    <tr>\n",
       "      <th>5142197563</th>\n",
       "      <td>8.150852</td>\n",
       "    </tr>\n",
       "  </tbody>\n",
       "</table>\n",
       "</div>"
      ],
      "text/plain": [
       "                   U*\n",
       "Cardnum              \n",
       "5142253356  13.371199\n",
       "5142299705   9.027976\n",
       "5142197563   8.150852"
      ]
     },
     "execution_count": 54,
     "metadata": {},
     "output_type": "execute_result"
    }
   ],
   "source": [
    "card_bf['Cardnum'] = card_bf['Cardnum'].apply(str)\n",
    "card_bf.set_index('Cardnum', inplace = True)\n",
    "card_Ustar = pd.DataFrame(card_bf['U*'])\n",
    "card_Ustar.sort_values(['U*'], ascending = False).head(3)"
   ]
  },
  {
   "cell_type": "markdown",
   "id": "9cdfe608",
   "metadata": {},
   "source": [
    "### U*'s for merchant numbers"
   ]
  },
  {
   "cell_type": "code",
   "execution_count": 55,
   "id": "e55373d0",
   "metadata": {},
   "outputs": [],
   "source": [
    "merch_bf = bf1.groupby(['Merchnum', 'bin']).agg({'bin': ['count']}).reset_index()\n",
    "merch_bf.columns = ['Merchnum', 'bin', 'count']\n",
    "merch_bf = merch_bf.pivot_table(index = 'Merchnum', columns = 'bin', values = 'count', \n",
    "                             aggfunc = 'sum').reset_index()\n",
    "merch_bf.columns = ['Merchnum', 'n_high', 'n_low']\n",
    "merch_bf = merch_bf.fillna(1)"
   ]
  },
  {
   "cell_type": "code",
   "execution_count": 56,
   "id": "72a1ddfe",
   "metadata": {},
   "outputs": [],
   "source": [
    "# calculate R, 1/R, U, n, t, U*\n",
    "merch_bf['R'] = (1.096 * merch_bf['n_low']/ merch_bf['n_high'])\n",
    "merch_bf['1/R'] = (1/ merch_bf['R'])\n",
    "merch_bf['U'] = list(map(lambda x, y : max(x, y), merch_bf['R'], merch_bf['1/R']))\n",
    "merch_bf['n'] = merch_bf['n_high'] + merch_bf['n_low']\n",
    "merch_bf['t'] = ((merch_bf['n'] - n_mid)/ c)\n",
    "merch_bf['U*'] = list(map(lambda x, y : (1 + (x - 1)/ (1 + np.exp(-y))), \n",
    "                        merch_bf['U'], merch_bf['t']))"
   ]
  },
  {
   "cell_type": "code",
   "execution_count": 57,
   "id": "1b4ee7a3",
   "metadata": {},
   "outputs": [
    {
     "data": {
      "text/html": [
       "<div>\n",
       "<style scoped>\n",
       "    .dataframe tbody tr th:only-of-type {\n",
       "        vertical-align: middle;\n",
       "    }\n",
       "\n",
       "    .dataframe tbody tr th {\n",
       "        vertical-align: top;\n",
       "    }\n",
       "\n",
       "    .dataframe thead th {\n",
       "        text-align: right;\n",
       "    }\n",
       "</style>\n",
       "<table border=\"1\" class=\"dataframe\">\n",
       "  <thead>\n",
       "    <tr style=\"text-align: right;\">\n",
       "      <th></th>\n",
       "      <th>U*</th>\n",
       "    </tr>\n",
       "    <tr>\n",
       "      <th>Merchnum</th>\n",
       "      <th></th>\n",
       "    </tr>\n",
       "  </thead>\n",
       "  <tbody>\n",
       "    <tr>\n",
       "      <th>991808369338</th>\n",
       "      <td>165.145985</td>\n",
       "    </tr>\n",
       "    <tr>\n",
       "      <th>8078200641472</th>\n",
       "      <td>64.663981</td>\n",
       "    </tr>\n",
       "    <tr>\n",
       "      <th>308904389335</th>\n",
       "      <td>48.357557</td>\n",
       "    </tr>\n",
       "  </tbody>\n",
       "</table>\n",
       "</div>"
      ],
      "text/plain": [
       "                       U*\n",
       "Merchnum                 \n",
       "991808369338   165.145985\n",
       "8078200641472   64.663981\n",
       "308904389335    48.357557"
      ]
     },
     "execution_count": 57,
     "metadata": {},
     "output_type": "execute_result"
    }
   ],
   "source": [
    "merch_bf['Merchnum'] = merch_bf['Merchnum'].apply(str)\n",
    "merch_bf.set_index('Merchnum', inplace = True)\n",
    "merch_Ustar = pd.DataFrame(merch_bf['U*'])\n",
    "merch_Ustar.sort_values(['U*'], ascending = False).head(3)"
   ]
  },
  {
   "cell_type": "markdown",
   "id": "279ba07d",
   "metadata": {},
   "source": [
    "### Merge Benford's law variables with dataset"
   ]
  },
  {
   "cell_type": "code",
   "execution_count": 58,
   "id": "c37017c9",
   "metadata": {},
   "outputs": [],
   "source": [
    "df = df.merge(card_Ustar, how = 'left', left_on = 'Cardnum', right_on = card_Ustar.index)\n",
    "df = df.rename(columns = {'U*': 'U*_cardnum'})\n",
    "df = df.merge(merch_Ustar, how = 'left', left_on = 'Merchnum', right_on = merch_Ustar.index)\n",
    "df = df.rename(columns = {'U*': 'U*_merchnum'})"
   ]
  },
  {
   "cell_type": "code",
   "execution_count": 59,
   "id": "0927b096",
   "metadata": {},
   "outputs": [
    {
     "name": "stdout",
     "output_type": "stream",
     "text": [
      "<class 'pandas.core.frame.DataFrame'>\n",
      "Int64Index: 96397 entries, 0 to 96396\n",
      "Data columns (total 22 columns):\n",
      " #   Column              Non-Null Count  Dtype         \n",
      "---  ------              --------------  -----         \n",
      " 0   Recnum              96397 non-null  int64         \n",
      " 1   Cardnum             96397 non-null  object        \n",
      " 2   Date                96397 non-null  datetime64[ns]\n",
      " 3   Merchnum            96397 non-null  object        \n",
      " 4   Merch description   96397 non-null  object        \n",
      " 5   Merch state         96397 non-null  object        \n",
      " 6   Merch zip           96397 non-null  object        \n",
      " 7   Transtype           96397 non-null  object        \n",
      " 8   Amount              96397 non-null  float64       \n",
      " 9   Fraud               96397 non-null  int64         \n",
      " 10  Dow                 96397 non-null  object        \n",
      " 11  Dow_risk            96397 non-null  float64       \n",
      " 12  card_merch          96397 non-null  object        \n",
      " 13  card_zip            96397 non-null  object        \n",
      " 14  merch_zip           96397 non-null  object        \n",
      " 15  zip3                96397 non-null  object        \n",
      " 16  card_zip3           96397 non-null  object        \n",
      " 17  Card_Merchdesc      96397 non-null  object        \n",
      " 18  Merchnum_desc       96397 non-null  object        \n",
      " 19  Card_Merchnum_desc  96397 non-null  object        \n",
      " 20  U*_cardnum          96325 non-null  float64       \n",
      " 21  U*_merchnum         84622 non-null  float64       \n",
      "dtypes: datetime64[ns](1), float64(4), int64(2), object(15)\n",
      "memory usage: 16.9+ MB\n"
     ]
    }
   ],
   "source": [
    "df.info()"
   ]
  },
  {
   "cell_type": "code",
   "execution_count": 60,
   "id": "8a37ef70",
   "metadata": {},
   "outputs": [
    {
     "data": {
      "text/html": [
       "<div>\n",
       "<style scoped>\n",
       "    .dataframe tbody tr th:only-of-type {\n",
       "        vertical-align: middle;\n",
       "    }\n",
       "\n",
       "    .dataframe tbody tr th {\n",
       "        vertical-align: top;\n",
       "    }\n",
       "\n",
       "    .dataframe thead th {\n",
       "        text-align: right;\n",
       "    }\n",
       "</style>\n",
       "<table border=\"1\" class=\"dataframe\">\n",
       "  <thead>\n",
       "    <tr style=\"text-align: right;\">\n",
       "      <th></th>\n",
       "      <th>Recnum</th>\n",
       "      <th>Cardnum</th>\n",
       "      <th>Date</th>\n",
       "      <th>Merchnum</th>\n",
       "      <th>Merch description</th>\n",
       "      <th>Merch state</th>\n",
       "      <th>Merch zip</th>\n",
       "      <th>Transtype</th>\n",
       "      <th>Amount</th>\n",
       "      <th>Fraud</th>\n",
       "      <th>...</th>\n",
       "      <th>card_merch</th>\n",
       "      <th>card_zip</th>\n",
       "      <th>merch_zip</th>\n",
       "      <th>zip3</th>\n",
       "      <th>card_zip3</th>\n",
       "      <th>Card_Merchdesc</th>\n",
       "      <th>Merchnum_desc</th>\n",
       "      <th>Card_Merchnum_desc</th>\n",
       "      <th>U*_cardnum</th>\n",
       "      <th>U*_merchnum</th>\n",
       "    </tr>\n",
       "  </thead>\n",
       "  <tbody>\n",
       "    <tr>\n",
       "      <th>0</th>\n",
       "      <td>1</td>\n",
       "      <td>5142190439</td>\n",
       "      <td>2010-01-01</td>\n",
       "      <td>5509006296254</td>\n",
       "      <td>FEDEX SHP 12/23/09 AB#</td>\n",
       "      <td>TN</td>\n",
       "      <td>38118.0</td>\n",
       "      <td>P</td>\n",
       "      <td>3.62</td>\n",
       "      <td>0</td>\n",
       "      <td>...</td>\n",
       "      <td>51421904395509006296254</td>\n",
       "      <td>514219043938118.0</td>\n",
       "      <td>550900629625438118.0</td>\n",
       "      <td>381</td>\n",
       "      <td>5142190439381</td>\n",
       "      <td>5142190439FEDEX SHP 12/23/09 AB#</td>\n",
       "      <td>5509006296254FEDEX SHP 12/23/09 AB#</td>\n",
       "      <td>51421904395509006296254FEDEX SHP 12/23/09 AB#</td>\n",
       "      <td>2.178008</td>\n",
       "      <td>1.000000</td>\n",
       "    </tr>\n",
       "    <tr>\n",
       "      <th>1</th>\n",
       "      <td>2</td>\n",
       "      <td>5142183973</td>\n",
       "      <td>2010-01-01</td>\n",
       "      <td>61003026333</td>\n",
       "      <td>SERVICE MERCHANDISE #81</td>\n",
       "      <td>MA</td>\n",
       "      <td>1803.0</td>\n",
       "      <td>P</td>\n",
       "      <td>31.42</td>\n",
       "      <td>0</td>\n",
       "      <td>...</td>\n",
       "      <td>514218397361003026333</td>\n",
       "      <td>51421839731803.0</td>\n",
       "      <td>610030263331803.0</td>\n",
       "      <td>180</td>\n",
       "      <td>5142183973180</td>\n",
       "      <td>5142183973SERVICE MERCHANDISE #81</td>\n",
       "      <td>61003026333SERVICE MERCHANDISE #81</td>\n",
       "      <td>514218397361003026333SERVICE MERCHANDISE #81</td>\n",
       "      <td>1.604857</td>\n",
       "      <td>1.001244</td>\n",
       "    </tr>\n",
       "    <tr>\n",
       "      <th>2</th>\n",
       "      <td>3</td>\n",
       "      <td>5142131721</td>\n",
       "      <td>2010-01-01</td>\n",
       "      <td>4503082993600</td>\n",
       "      <td>OFFICE DEPOT #191</td>\n",
       "      <td>MD</td>\n",
       "      <td>20706.0</td>\n",
       "      <td>P</td>\n",
       "      <td>178.49</td>\n",
       "      <td>0</td>\n",
       "      <td>...</td>\n",
       "      <td>51421317214503082993600</td>\n",
       "      <td>514213172120706.0</td>\n",
       "      <td>450308299360020706.0</td>\n",
       "      <td>207</td>\n",
       "      <td>5142131721207</td>\n",
       "      <td>5142131721OFFICE DEPOT #191</td>\n",
       "      <td>4503082993600OFFICE DEPOT #191</td>\n",
       "      <td>51421317214503082993600OFFICE DEPOT #191</td>\n",
       "      <td>2.368143</td>\n",
       "      <td>1.025818</td>\n",
       "    </tr>\n",
       "    <tr>\n",
       "      <th>3</th>\n",
       "      <td>4</td>\n",
       "      <td>5142148452</td>\n",
       "      <td>2010-01-01</td>\n",
       "      <td>5509006296254</td>\n",
       "      <td>FEDEX SHP 12/28/09 AB#</td>\n",
       "      <td>TN</td>\n",
       "      <td>38118.0</td>\n",
       "      <td>P</td>\n",
       "      <td>3.62</td>\n",
       "      <td>0</td>\n",
       "      <td>...</td>\n",
       "      <td>51421484525509006296254</td>\n",
       "      <td>514214845238118.0</td>\n",
       "      <td>550900629625438118.0</td>\n",
       "      <td>381</td>\n",
       "      <td>5142148452381</td>\n",
       "      <td>5142148452FEDEX SHP 12/28/09 AB#</td>\n",
       "      <td>5509006296254FEDEX SHP 12/28/09 AB#</td>\n",
       "      <td>51421484525509006296254FEDEX SHP 12/28/09 AB#</td>\n",
       "      <td>1.044105</td>\n",
       "      <td>1.000000</td>\n",
       "    </tr>\n",
       "    <tr>\n",
       "      <th>4</th>\n",
       "      <td>5</td>\n",
       "      <td>5142190439</td>\n",
       "      <td>2010-01-01</td>\n",
       "      <td>5509006296254</td>\n",
       "      <td>FEDEX SHP 12/23/09 AB#</td>\n",
       "      <td>TN</td>\n",
       "      <td>38118.0</td>\n",
       "      <td>P</td>\n",
       "      <td>3.62</td>\n",
       "      <td>0</td>\n",
       "      <td>...</td>\n",
       "      <td>51421904395509006296254</td>\n",
       "      <td>514219043938118.0</td>\n",
       "      <td>550900629625438118.0</td>\n",
       "      <td>381</td>\n",
       "      <td>5142190439381</td>\n",
       "      <td>5142190439FEDEX SHP 12/23/09 AB#</td>\n",
       "      <td>5509006296254FEDEX SHP 12/23/09 AB#</td>\n",
       "      <td>51421904395509006296254FEDEX SHP 12/23/09 AB#</td>\n",
       "      <td>2.178008</td>\n",
       "      <td>1.000000</td>\n",
       "    </tr>\n",
       "  </tbody>\n",
       "</table>\n",
       "<p>5 rows × 22 columns</p>\n",
       "</div>"
      ],
      "text/plain": [
       "   Recnum     Cardnum       Date       Merchnum        Merch description  \\\n",
       "0       1  5142190439 2010-01-01  5509006296254   FEDEX SHP 12/23/09 AB#   \n",
       "1       2  5142183973 2010-01-01    61003026333  SERVICE MERCHANDISE #81   \n",
       "2       3  5142131721 2010-01-01  4503082993600        OFFICE DEPOT #191   \n",
       "3       4  5142148452 2010-01-01  5509006296254   FEDEX SHP 12/28/09 AB#   \n",
       "4       5  5142190439 2010-01-01  5509006296254   FEDEX SHP 12/23/09 AB#   \n",
       "\n",
       "  Merch state Merch zip Transtype  Amount  Fraud  ...  \\\n",
       "0          TN   38118.0         P    3.62      0  ...   \n",
       "1          MA    1803.0         P   31.42      0  ...   \n",
       "2          MD   20706.0         P  178.49      0  ...   \n",
       "3          TN   38118.0         P    3.62      0  ...   \n",
       "4          TN   38118.0         P    3.62      0  ...   \n",
       "\n",
       "                card_merch           card_zip             merch_zip zip3  \\\n",
       "0  51421904395509006296254  514219043938118.0  550900629625438118.0  381   \n",
       "1    514218397361003026333   51421839731803.0     610030263331803.0  180   \n",
       "2  51421317214503082993600  514213172120706.0  450308299360020706.0  207   \n",
       "3  51421484525509006296254  514214845238118.0  550900629625438118.0  381   \n",
       "4  51421904395509006296254  514219043938118.0  550900629625438118.0  381   \n",
       "\n",
       "       card_zip3                     Card_Merchdesc  \\\n",
       "0  5142190439381   5142190439FEDEX SHP 12/23/09 AB#   \n",
       "1  5142183973180  5142183973SERVICE MERCHANDISE #81   \n",
       "2  5142131721207        5142131721OFFICE DEPOT #191   \n",
       "3  5142148452381   5142148452FEDEX SHP 12/28/09 AB#   \n",
       "4  5142190439381   5142190439FEDEX SHP 12/23/09 AB#   \n",
       "\n",
       "                         Merchnum_desc  \\\n",
       "0  5509006296254FEDEX SHP 12/23/09 AB#   \n",
       "1   61003026333SERVICE MERCHANDISE #81   \n",
       "2       4503082993600OFFICE DEPOT #191   \n",
       "3  5509006296254FEDEX SHP 12/28/09 AB#   \n",
       "4  5509006296254FEDEX SHP 12/23/09 AB#   \n",
       "\n",
       "                              Card_Merchnum_desc U*_cardnum U*_merchnum  \n",
       "0  51421904395509006296254FEDEX SHP 12/23/09 AB#   2.178008    1.000000  \n",
       "1   514218397361003026333SERVICE MERCHANDISE #81   1.604857    1.001244  \n",
       "2       51421317214503082993600OFFICE DEPOT #191   2.368143    1.025818  \n",
       "3  51421484525509006296254FEDEX SHP 12/28/09 AB#   1.044105    1.000000  \n",
       "4  51421904395509006296254FEDEX SHP 12/23/09 AB#   2.178008    1.000000  \n",
       "\n",
       "[5 rows x 22 columns]"
      ]
     },
     "execution_count": 60,
     "metadata": {},
     "output_type": "execute_result"
    }
   ],
   "source": [
    "df = df.fillna(1)\n",
    "df.head()"
   ]
  },
  {
   "cell_type": "markdown",
   "id": "d46d486d",
   "metadata": {},
   "source": [
    "## Velocity/counts and days since variables"
   ]
  },
  {
   "cell_type": "code",
   "execution_count": 61,
   "id": "3e0a242e",
   "metadata": {},
   "outputs": [],
   "source": [
    "# check point\n",
    "df1 = df.copy()\n",
    "final = df.copy()\n",
    "df1['check_date'] = df1.Date\n",
    "df1['check_record'] = df1.Recnum"
   ]
  },
  {
   "cell_type": "code",
   "execution_count": 62,
   "id": "b7429b0e",
   "metadata": {
    "scrolled": true
   },
   "outputs": [
    {
     "data": {
      "text/plain": [
       "3"
      ]
     },
     "execution_count": 62,
     "metadata": {},
     "output_type": "execute_result"
    }
   ],
   "source": [
    "varnum = len(final.columns) - 19\n",
    "varnum"
   ]
  },
  {
   "cell_type": "code",
   "execution_count": 63,
   "id": "ece1183b",
   "metadata": {
    "scrolled": true
   },
   "outputs": [
    {
     "name": "stdout",
     "output_type": "stream",
     "text": [
      "\n",
      "\n",
      "Cardnum_day_since ---> Done\n",
      "Cardnum_count_0 ---> Done\n",
      "Cardnum amount variables over past 0 ---> Done\n",
      "Cardnum_count_1 ---> Done\n",
      "Cardnum amount variables over past 1 ---> Done\n",
      "Cardnum_count_3 ---> Done\n",
      "Cardnum amount variables over past 3 ---> Done\n",
      "Cardnum_count_7 ---> Done\n",
      "Cardnum amount variables over past 7 ---> Done\n",
      "Cardnum_count_14 ---> Done\n",
      "Cardnum amount variables over past 14 ---> Done\n",
      "Cardnum_count_30 ---> Done\n",
      "Cardnum amount variables over past 30 ---> Done\n",
      "Run time for the last entity ----------------- 4.6088453s\n",
      "\n",
      "Merchnum_day_since ---> Done\n",
      "Merchnum_count_0 ---> Done\n",
      "Merchnum amount variables over past 0 ---> Done\n",
      "Merchnum_count_1 ---> Done\n",
      "Merchnum amount variables over past 1 ---> Done\n",
      "Merchnum_count_3 ---> Done\n",
      "Merchnum amount variables over past 3 ---> Done\n",
      "Merchnum_count_7 ---> Done\n",
      "Merchnum amount variables over past 7 ---> Done\n",
      "Merchnum_count_14 ---> Done\n"
     ]
    },
    {
     "name": "stderr",
     "output_type": "stream",
     "text": [
      "C:\\Users\\Alex Tan\\AppData\\Local\\Temp\\ipykernel_15732\\783239204.py:27: PerformanceWarning: DataFrame is highly fragmented.  This is usually the result of calling `frame.insert` many times, which has poor performance.  Consider joining all columns at once using pd.concat(axis=1) instead. To get a de-fragmented frame, use `newframe = frame.copy()`\n",
      "  final[entity + '_total_' + str(time)] = final.Recnum.map(temp2.groupby('Recnum')['Amount'].sum())\n",
      "C:\\Users\\Alex Tan\\AppData\\Local\\Temp\\ipykernel_15732\\783239204.py:28: PerformanceWarning: DataFrame is highly fragmented.  This is usually the result of calling `frame.insert` many times, which has poor performance.  Consider joining all columns at once using pd.concat(axis=1) instead. To get a de-fragmented frame, use `newframe = frame.copy()`\n",
      "  final[entity + '_actual/avg_' + str(time)] = final['Amount'] / final[entity + '_avg_' + str(time)]\n",
      "C:\\Users\\Alex Tan\\AppData\\Local\\Temp\\ipykernel_15732\\783239204.py:29: PerformanceWarning: DataFrame is highly fragmented.  This is usually the result of calling `frame.insert` many times, which has poor performance.  Consider joining all columns at once using pd.concat(axis=1) instead. To get a de-fragmented frame, use `newframe = frame.copy()`\n",
      "  final[entity + '_actual/max_' + str(time)] = final['Amount'] / final[entity + '_max_' + str(time)]\n",
      "C:\\Users\\Alex Tan\\AppData\\Local\\Temp\\ipykernel_15732\\783239204.py:30: PerformanceWarning: DataFrame is highly fragmented.  This is usually the result of calling `frame.insert` many times, which has poor performance.  Consider joining all columns at once using pd.concat(axis=1) instead. To get a de-fragmented frame, use `newframe = frame.copy()`\n",
      "  final[entity + '_actual/med_' + str(time)] = final['Amount'] / final[entity + '_med_' + str(time)]\n",
      "C:\\Users\\Alex Tan\\AppData\\Local\\Temp\\ipykernel_15732\\783239204.py:31: PerformanceWarning: DataFrame is highly fragmented.  This is usually the result of calling `frame.insert` many times, which has poor performance.  Consider joining all columns at once using pd.concat(axis=1) instead. To get a de-fragmented frame, use `newframe = frame.copy()`\n",
      "  final[entity + '_actual/toal_' + str(time)] = final['Amount'] / final[entity + '_total_' + str(time)]\n"
     ]
    },
    {
     "name": "stdout",
     "output_type": "stream",
     "text": [
      "Merchnum amount variables over past 14 ---> Done\n"
     ]
    },
    {
     "name": "stderr",
     "output_type": "stream",
     "text": [
      "C:\\Users\\Alex Tan\\AppData\\Local\\Temp\\ipykernel_15732\\783239204.py:22: PerformanceWarning: DataFrame is highly fragmented.  This is usually the result of calling `frame.insert` many times, which has poor performance.  Consider joining all columns at once using pd.concat(axis=1) instead. To get a de-fragmented frame, use `newframe = frame.copy()`\n",
      "  final[col_name] = final.Recnum.map(mapper2)\n"
     ]
    },
    {
     "name": "stdout",
     "output_type": "stream",
     "text": [
      "Merchnum_count_30 ---> Done\n"
     ]
    },
    {
     "name": "stderr",
     "output_type": "stream",
     "text": [
      "C:\\Users\\Alex Tan\\AppData\\Local\\Temp\\ipykernel_15732\\783239204.py:24: PerformanceWarning: DataFrame is highly fragmented.  This is usually the result of calling `frame.insert` many times, which has poor performance.  Consider joining all columns at once using pd.concat(axis=1) instead. To get a de-fragmented frame, use `newframe = frame.copy()`\n",
      "  final[entity + '_avg_' + str(time)] = final.Recnum.map(temp2.groupby('Recnum')['Amount'].mean())\n",
      "C:\\Users\\Alex Tan\\AppData\\Local\\Temp\\ipykernel_15732\\783239204.py:25: PerformanceWarning: DataFrame is highly fragmented.  This is usually the result of calling `frame.insert` many times, which has poor performance.  Consider joining all columns at once using pd.concat(axis=1) instead. To get a de-fragmented frame, use `newframe = frame.copy()`\n",
      "  final[entity + '_max_' + str(time)] = final.Recnum.map(temp2.groupby('Recnum')['Amount'].max())\n",
      "C:\\Users\\Alex Tan\\AppData\\Local\\Temp\\ipykernel_15732\\783239204.py:26: PerformanceWarning: DataFrame is highly fragmented.  This is usually the result of calling `frame.insert` many times, which has poor performance.  Consider joining all columns at once using pd.concat(axis=1) instead. To get a de-fragmented frame, use `newframe = frame.copy()`\n",
      "  final[entity + '_med_' + str(time)] = final.Recnum.map(temp2.groupby('Recnum')['Amount'].median())\n",
      "C:\\Users\\Alex Tan\\AppData\\Local\\Temp\\ipykernel_15732\\783239204.py:27: PerformanceWarning: DataFrame is highly fragmented.  This is usually the result of calling `frame.insert` many times, which has poor performance.  Consider joining all columns at once using pd.concat(axis=1) instead. To get a de-fragmented frame, use `newframe = frame.copy()`\n",
      "  final[entity + '_total_' + str(time)] = final.Recnum.map(temp2.groupby('Recnum')['Amount'].sum())\n",
      "C:\\Users\\Alex Tan\\AppData\\Local\\Temp\\ipykernel_15732\\783239204.py:28: PerformanceWarning: DataFrame is highly fragmented.  This is usually the result of calling `frame.insert` many times, which has poor performance.  Consider joining all columns at once using pd.concat(axis=1) instead. To get a de-fragmented frame, use `newframe = frame.copy()`\n",
      "  final[entity + '_actual/avg_' + str(time)] = final['Amount'] / final[entity + '_avg_' + str(time)]\n",
      "C:\\Users\\Alex Tan\\AppData\\Local\\Temp\\ipykernel_15732\\783239204.py:29: PerformanceWarning: DataFrame is highly fragmented.  This is usually the result of calling `frame.insert` many times, which has poor performance.  Consider joining all columns at once using pd.concat(axis=1) instead. To get a de-fragmented frame, use `newframe = frame.copy()`\n",
      "  final[entity + '_actual/max_' + str(time)] = final['Amount'] / final[entity + '_max_' + str(time)]\n",
      "C:\\Users\\Alex Tan\\AppData\\Local\\Temp\\ipykernel_15732\\783239204.py:30: PerformanceWarning: DataFrame is highly fragmented.  This is usually the result of calling `frame.insert` many times, which has poor performance.  Consider joining all columns at once using pd.concat(axis=1) instead. To get a de-fragmented frame, use `newframe = frame.copy()`\n",
      "  final[entity + '_actual/med_' + str(time)] = final['Amount'] / final[entity + '_med_' + str(time)]\n",
      "C:\\Users\\Alex Tan\\AppData\\Local\\Temp\\ipykernel_15732\\783239204.py:31: PerformanceWarning: DataFrame is highly fragmented.  This is usually the result of calling `frame.insert` many times, which has poor performance.  Consider joining all columns at once using pd.concat(axis=1) instead. To get a de-fragmented frame, use `newframe = frame.copy()`\n",
      "  final[entity + '_actual/toal_' + str(time)] = final['Amount'] / final[entity + '_total_' + str(time)]\n"
     ]
    },
    {
     "name": "stdout",
     "output_type": "stream",
     "text": [
      "Merchnum amount variables over past 30 ---> Done\n",
      "Run time for the last entity ----------------- 25.176485999999997s\n"
     ]
    },
    {
     "name": "stderr",
     "output_type": "stream",
     "text": [
      "C:\\Users\\Alex Tan\\AppData\\Local\\Temp\\ipykernel_15732\\783239204.py:13: PerformanceWarning: DataFrame is highly fragmented.  This is usually the result of calling `frame.insert` many times, which has poor performance.  Consider joining all columns at once using pd.concat(axis=1) instead. To get a de-fragmented frame, use `newframe = frame.copy()`\n",
      "  final[entity + '_day_since'] = final.Recnum.map(mapper)\n",
      "C:\\Users\\Alex Tan\\AppData\\Local\\Temp\\ipykernel_15732\\783239204.py:22: PerformanceWarning: DataFrame is highly fragmented.  This is usually the result of calling `frame.insert` many times, which has poor performance.  Consider joining all columns at once using pd.concat(axis=1) instead. To get a de-fragmented frame, use `newframe = frame.copy()`\n",
      "  final[col_name] = final.Recnum.map(mapper2)\n",
      "C:\\Users\\Alex Tan\\AppData\\Local\\Temp\\ipykernel_15732\\783239204.py:24: PerformanceWarning: DataFrame is highly fragmented.  This is usually the result of calling `frame.insert` many times, which has poor performance.  Consider joining all columns at once using pd.concat(axis=1) instead. To get a de-fragmented frame, use `newframe = frame.copy()`\n",
      "  final[entity + '_avg_' + str(time)] = final.Recnum.map(temp2.groupby('Recnum')['Amount'].mean())\n"
     ]
    },
    {
     "name": "stdout",
     "output_type": "stream",
     "text": [
      "\n",
      "card_merch_day_since ---> Done\n",
      "card_merch_count_0 ---> Done\n"
     ]
    },
    {
     "name": "stderr",
     "output_type": "stream",
     "text": [
      "C:\\Users\\Alex Tan\\AppData\\Local\\Temp\\ipykernel_15732\\783239204.py:25: PerformanceWarning: DataFrame is highly fragmented.  This is usually the result of calling `frame.insert` many times, which has poor performance.  Consider joining all columns at once using pd.concat(axis=1) instead. To get a de-fragmented frame, use `newframe = frame.copy()`\n",
      "  final[entity + '_max_' + str(time)] = final.Recnum.map(temp2.groupby('Recnum')['Amount'].max())\n",
      "C:\\Users\\Alex Tan\\AppData\\Local\\Temp\\ipykernel_15732\\783239204.py:26: PerformanceWarning: DataFrame is highly fragmented.  This is usually the result of calling `frame.insert` many times, which has poor performance.  Consider joining all columns at once using pd.concat(axis=1) instead. To get a de-fragmented frame, use `newframe = frame.copy()`\n",
      "  final[entity + '_med_' + str(time)] = final.Recnum.map(temp2.groupby('Recnum')['Amount'].median())\n",
      "C:\\Users\\Alex Tan\\AppData\\Local\\Temp\\ipykernel_15732\\783239204.py:27: PerformanceWarning: DataFrame is highly fragmented.  This is usually the result of calling `frame.insert` many times, which has poor performance.  Consider joining all columns at once using pd.concat(axis=1) instead. To get a de-fragmented frame, use `newframe = frame.copy()`\n",
      "  final[entity + '_total_' + str(time)] = final.Recnum.map(temp2.groupby('Recnum')['Amount'].sum())\n",
      "C:\\Users\\Alex Tan\\AppData\\Local\\Temp\\ipykernel_15732\\783239204.py:28: PerformanceWarning: DataFrame is highly fragmented.  This is usually the result of calling `frame.insert` many times, which has poor performance.  Consider joining all columns at once using pd.concat(axis=1) instead. To get a de-fragmented frame, use `newframe = frame.copy()`\n",
      "  final[entity + '_actual/avg_' + str(time)] = final['Amount'] / final[entity + '_avg_' + str(time)]\n",
      "C:\\Users\\Alex Tan\\AppData\\Local\\Temp\\ipykernel_15732\\783239204.py:29: PerformanceWarning: DataFrame is highly fragmented.  This is usually the result of calling `frame.insert` many times, which has poor performance.  Consider joining all columns at once using pd.concat(axis=1) instead. To get a de-fragmented frame, use `newframe = frame.copy()`\n",
      "  final[entity + '_actual/max_' + str(time)] = final['Amount'] / final[entity + '_max_' + str(time)]\n",
      "C:\\Users\\Alex Tan\\AppData\\Local\\Temp\\ipykernel_15732\\783239204.py:30: PerformanceWarning: DataFrame is highly fragmented.  This is usually the result of calling `frame.insert` many times, which has poor performance.  Consider joining all columns at once using pd.concat(axis=1) instead. To get a de-fragmented frame, use `newframe = frame.copy()`\n",
      "  final[entity + '_actual/med_' + str(time)] = final['Amount'] / final[entity + '_med_' + str(time)]\n",
      "C:\\Users\\Alex Tan\\AppData\\Local\\Temp\\ipykernel_15732\\783239204.py:31: PerformanceWarning: DataFrame is highly fragmented.  This is usually the result of calling `frame.insert` many times, which has poor performance.  Consider joining all columns at once using pd.concat(axis=1) instead. To get a de-fragmented frame, use `newframe = frame.copy()`\n",
      "  final[entity + '_actual/toal_' + str(time)] = final['Amount'] / final[entity + '_total_' + str(time)]\n",
      "C:\\Users\\Alex Tan\\AppData\\Local\\Temp\\ipykernel_15732\\783239204.py:22: PerformanceWarning: DataFrame is highly fragmented.  This is usually the result of calling `frame.insert` many times, which has poor performance.  Consider joining all columns at once using pd.concat(axis=1) instead. To get a de-fragmented frame, use `newframe = frame.copy()`\n",
      "  final[col_name] = final.Recnum.map(mapper2)\n"
     ]
    },
    {
     "name": "stdout",
     "output_type": "stream",
     "text": [
      "card_merch amount variables over past 0 ---> Done\n",
      "card_merch_count_1 ---> Done\n"
     ]
    },
    {
     "name": "stderr",
     "output_type": "stream",
     "text": [
      "C:\\Users\\Alex Tan\\AppData\\Local\\Temp\\ipykernel_15732\\783239204.py:24: PerformanceWarning: DataFrame is highly fragmented.  This is usually the result of calling `frame.insert` many times, which has poor performance.  Consider joining all columns at once using pd.concat(axis=1) instead. To get a de-fragmented frame, use `newframe = frame.copy()`\n",
      "  final[entity + '_avg_' + str(time)] = final.Recnum.map(temp2.groupby('Recnum')['Amount'].mean())\n",
      "C:\\Users\\Alex Tan\\AppData\\Local\\Temp\\ipykernel_15732\\783239204.py:25: PerformanceWarning: DataFrame is highly fragmented.  This is usually the result of calling `frame.insert` many times, which has poor performance.  Consider joining all columns at once using pd.concat(axis=1) instead. To get a de-fragmented frame, use `newframe = frame.copy()`\n",
      "  final[entity + '_max_' + str(time)] = final.Recnum.map(temp2.groupby('Recnum')['Amount'].max())\n",
      "C:\\Users\\Alex Tan\\AppData\\Local\\Temp\\ipykernel_15732\\783239204.py:26: PerformanceWarning: DataFrame is highly fragmented.  This is usually the result of calling `frame.insert` many times, which has poor performance.  Consider joining all columns at once using pd.concat(axis=1) instead. To get a de-fragmented frame, use `newframe = frame.copy()`\n",
      "  final[entity + '_med_' + str(time)] = final.Recnum.map(temp2.groupby('Recnum')['Amount'].median())\n",
      "C:\\Users\\Alex Tan\\AppData\\Local\\Temp\\ipykernel_15732\\783239204.py:27: PerformanceWarning: DataFrame is highly fragmented.  This is usually the result of calling `frame.insert` many times, which has poor performance.  Consider joining all columns at once using pd.concat(axis=1) instead. To get a de-fragmented frame, use `newframe = frame.copy()`\n",
      "  final[entity + '_total_' + str(time)] = final.Recnum.map(temp2.groupby('Recnum')['Amount'].sum())\n",
      "C:\\Users\\Alex Tan\\AppData\\Local\\Temp\\ipykernel_15732\\783239204.py:28: PerformanceWarning: DataFrame is highly fragmented.  This is usually the result of calling `frame.insert` many times, which has poor performance.  Consider joining all columns at once using pd.concat(axis=1) instead. To get a de-fragmented frame, use `newframe = frame.copy()`\n",
      "  final[entity + '_actual/avg_' + str(time)] = final['Amount'] / final[entity + '_avg_' + str(time)]\n",
      "C:\\Users\\Alex Tan\\AppData\\Local\\Temp\\ipykernel_15732\\783239204.py:29: PerformanceWarning: DataFrame is highly fragmented.  This is usually the result of calling `frame.insert` many times, which has poor performance.  Consider joining all columns at once using pd.concat(axis=1) instead. To get a de-fragmented frame, use `newframe = frame.copy()`\n",
      "  final[entity + '_actual/max_' + str(time)] = final['Amount'] / final[entity + '_max_' + str(time)]\n",
      "C:\\Users\\Alex Tan\\AppData\\Local\\Temp\\ipykernel_15732\\783239204.py:30: PerformanceWarning: DataFrame is highly fragmented.  This is usually the result of calling `frame.insert` many times, which has poor performance.  Consider joining all columns at once using pd.concat(axis=1) instead. To get a de-fragmented frame, use `newframe = frame.copy()`\n",
      "  final[entity + '_actual/med_' + str(time)] = final['Amount'] / final[entity + '_med_' + str(time)]\n",
      "C:\\Users\\Alex Tan\\AppData\\Local\\Temp\\ipykernel_15732\\783239204.py:31: PerformanceWarning: DataFrame is highly fragmented.  This is usually the result of calling `frame.insert` many times, which has poor performance.  Consider joining all columns at once using pd.concat(axis=1) instead. To get a de-fragmented frame, use `newframe = frame.copy()`\n",
      "  final[entity + '_actual/toal_' + str(time)] = final['Amount'] / final[entity + '_total_' + str(time)]\n"
     ]
    },
    {
     "name": "stdout",
     "output_type": "stream",
     "text": [
      "card_merch amount variables over past 1 ---> Done\n",
      "card_merch_count_3 ---> Done\n"
     ]
    },
    {
     "name": "stderr",
     "output_type": "stream",
     "text": [
      "C:\\Users\\Alex Tan\\AppData\\Local\\Temp\\ipykernel_15732\\783239204.py:22: PerformanceWarning: DataFrame is highly fragmented.  This is usually the result of calling `frame.insert` many times, which has poor performance.  Consider joining all columns at once using pd.concat(axis=1) instead. To get a de-fragmented frame, use `newframe = frame.copy()`\n",
      "  final[col_name] = final.Recnum.map(mapper2)\n",
      "C:\\Users\\Alex Tan\\AppData\\Local\\Temp\\ipykernel_15732\\783239204.py:24: PerformanceWarning: DataFrame is highly fragmented.  This is usually the result of calling `frame.insert` many times, which has poor performance.  Consider joining all columns at once using pd.concat(axis=1) instead. To get a de-fragmented frame, use `newframe = frame.copy()`\n",
      "  final[entity + '_avg_' + str(time)] = final.Recnum.map(temp2.groupby('Recnum')['Amount'].mean())\n",
      "C:\\Users\\Alex Tan\\AppData\\Local\\Temp\\ipykernel_15732\\783239204.py:25: PerformanceWarning: DataFrame is highly fragmented.  This is usually the result of calling `frame.insert` many times, which has poor performance.  Consider joining all columns at once using pd.concat(axis=1) instead. To get a de-fragmented frame, use `newframe = frame.copy()`\n",
      "  final[entity + '_max_' + str(time)] = final.Recnum.map(temp2.groupby('Recnum')['Amount'].max())\n",
      "C:\\Users\\Alex Tan\\AppData\\Local\\Temp\\ipykernel_15732\\783239204.py:26: PerformanceWarning: DataFrame is highly fragmented.  This is usually the result of calling `frame.insert` many times, which has poor performance.  Consider joining all columns at once using pd.concat(axis=1) instead. To get a de-fragmented frame, use `newframe = frame.copy()`\n",
      "  final[entity + '_med_' + str(time)] = final.Recnum.map(temp2.groupby('Recnum')['Amount'].median())\n",
      "C:\\Users\\Alex Tan\\AppData\\Local\\Temp\\ipykernel_15732\\783239204.py:27: PerformanceWarning: DataFrame is highly fragmented.  This is usually the result of calling `frame.insert` many times, which has poor performance.  Consider joining all columns at once using pd.concat(axis=1) instead. To get a de-fragmented frame, use `newframe = frame.copy()`\n",
      "  final[entity + '_total_' + str(time)] = final.Recnum.map(temp2.groupby('Recnum')['Amount'].sum())\n",
      "C:\\Users\\Alex Tan\\AppData\\Local\\Temp\\ipykernel_15732\\783239204.py:28: PerformanceWarning: DataFrame is highly fragmented.  This is usually the result of calling `frame.insert` many times, which has poor performance.  Consider joining all columns at once using pd.concat(axis=1) instead. To get a de-fragmented frame, use `newframe = frame.copy()`\n",
      "  final[entity + '_actual/avg_' + str(time)] = final['Amount'] / final[entity + '_avg_' + str(time)]\n",
      "C:\\Users\\Alex Tan\\AppData\\Local\\Temp\\ipykernel_15732\\783239204.py:29: PerformanceWarning: DataFrame is highly fragmented.  This is usually the result of calling `frame.insert` many times, which has poor performance.  Consider joining all columns at once using pd.concat(axis=1) instead. To get a de-fragmented frame, use `newframe = frame.copy()`\n",
      "  final[entity + '_actual/max_' + str(time)] = final['Amount'] / final[entity + '_max_' + str(time)]\n",
      "C:\\Users\\Alex Tan\\AppData\\Local\\Temp\\ipykernel_15732\\783239204.py:30: PerformanceWarning: DataFrame is highly fragmented.  This is usually the result of calling `frame.insert` many times, which has poor performance.  Consider joining all columns at once using pd.concat(axis=1) instead. To get a de-fragmented frame, use `newframe = frame.copy()`\n",
      "  final[entity + '_actual/med_' + str(time)] = final['Amount'] / final[entity + '_med_' + str(time)]\n",
      "C:\\Users\\Alex Tan\\AppData\\Local\\Temp\\ipykernel_15732\\783239204.py:31: PerformanceWarning: DataFrame is highly fragmented.  This is usually the result of calling `frame.insert` many times, which has poor performance.  Consider joining all columns at once using pd.concat(axis=1) instead. To get a de-fragmented frame, use `newframe = frame.copy()`\n",
      "  final[entity + '_actual/toal_' + str(time)] = final['Amount'] / final[entity + '_total_' + str(time)]\n"
     ]
    },
    {
     "name": "stdout",
     "output_type": "stream",
     "text": [
      "card_merch amount variables over past 3 ---> Done\n",
      "card_merch_count_7 ---> Done\n"
     ]
    },
    {
     "name": "stderr",
     "output_type": "stream",
     "text": [
      "C:\\Users\\Alex Tan\\AppData\\Local\\Temp\\ipykernel_15732\\783239204.py:22: PerformanceWarning: DataFrame is highly fragmented.  This is usually the result of calling `frame.insert` many times, which has poor performance.  Consider joining all columns at once using pd.concat(axis=1) instead. To get a de-fragmented frame, use `newframe = frame.copy()`\n",
      "  final[col_name] = final.Recnum.map(mapper2)\n",
      "C:\\Users\\Alex Tan\\AppData\\Local\\Temp\\ipykernel_15732\\783239204.py:24: PerformanceWarning: DataFrame is highly fragmented.  This is usually the result of calling `frame.insert` many times, which has poor performance.  Consider joining all columns at once using pd.concat(axis=1) instead. To get a de-fragmented frame, use `newframe = frame.copy()`\n",
      "  final[entity + '_avg_' + str(time)] = final.Recnum.map(temp2.groupby('Recnum')['Amount'].mean())\n",
      "C:\\Users\\Alex Tan\\AppData\\Local\\Temp\\ipykernel_15732\\783239204.py:25: PerformanceWarning: DataFrame is highly fragmented.  This is usually the result of calling `frame.insert` many times, which has poor performance.  Consider joining all columns at once using pd.concat(axis=1) instead. To get a de-fragmented frame, use `newframe = frame.copy()`\n",
      "  final[entity + '_max_' + str(time)] = final.Recnum.map(temp2.groupby('Recnum')['Amount'].max())\n",
      "C:\\Users\\Alex Tan\\AppData\\Local\\Temp\\ipykernel_15732\\783239204.py:26: PerformanceWarning: DataFrame is highly fragmented.  This is usually the result of calling `frame.insert` many times, which has poor performance.  Consider joining all columns at once using pd.concat(axis=1) instead. To get a de-fragmented frame, use `newframe = frame.copy()`\n",
      "  final[entity + '_med_' + str(time)] = final.Recnum.map(temp2.groupby('Recnum')['Amount'].median())\n",
      "C:\\Users\\Alex Tan\\AppData\\Local\\Temp\\ipykernel_15732\\783239204.py:27: PerformanceWarning: DataFrame is highly fragmented.  This is usually the result of calling `frame.insert` many times, which has poor performance.  Consider joining all columns at once using pd.concat(axis=1) instead. To get a de-fragmented frame, use `newframe = frame.copy()`\n",
      "  final[entity + '_total_' + str(time)] = final.Recnum.map(temp2.groupby('Recnum')['Amount'].sum())\n",
      "C:\\Users\\Alex Tan\\AppData\\Local\\Temp\\ipykernel_15732\\783239204.py:28: PerformanceWarning: DataFrame is highly fragmented.  This is usually the result of calling `frame.insert` many times, which has poor performance.  Consider joining all columns at once using pd.concat(axis=1) instead. To get a de-fragmented frame, use `newframe = frame.copy()`\n",
      "  final[entity + '_actual/avg_' + str(time)] = final['Amount'] / final[entity + '_avg_' + str(time)]\n",
      "C:\\Users\\Alex Tan\\AppData\\Local\\Temp\\ipykernel_15732\\783239204.py:29: PerformanceWarning: DataFrame is highly fragmented.  This is usually the result of calling `frame.insert` many times, which has poor performance.  Consider joining all columns at once using pd.concat(axis=1) instead. To get a de-fragmented frame, use `newframe = frame.copy()`\n",
      "  final[entity + '_actual/max_' + str(time)] = final['Amount'] / final[entity + '_max_' + str(time)]\n",
      "C:\\Users\\Alex Tan\\AppData\\Local\\Temp\\ipykernel_15732\\783239204.py:30: PerformanceWarning: DataFrame is highly fragmented.  This is usually the result of calling `frame.insert` many times, which has poor performance.  Consider joining all columns at once using pd.concat(axis=1) instead. To get a de-fragmented frame, use `newframe = frame.copy()`\n",
      "  final[entity + '_actual/med_' + str(time)] = final['Amount'] / final[entity + '_med_' + str(time)]\n",
      "C:\\Users\\Alex Tan\\AppData\\Local\\Temp\\ipykernel_15732\\783239204.py:31: PerformanceWarning: DataFrame is highly fragmented.  This is usually the result of calling `frame.insert` many times, which has poor performance.  Consider joining all columns at once using pd.concat(axis=1) instead. To get a de-fragmented frame, use `newframe = frame.copy()`\n",
      "  final[entity + '_actual/toal_' + str(time)] = final['Amount'] / final[entity + '_total_' + str(time)]\n"
     ]
    },
    {
     "name": "stdout",
     "output_type": "stream",
     "text": [
      "card_merch amount variables over past 7 ---> Done\n",
      "card_merch_count_14 ---> Done\n"
     ]
    },
    {
     "name": "stderr",
     "output_type": "stream",
     "text": [
      "C:\\Users\\Alex Tan\\AppData\\Local\\Temp\\ipykernel_15732\\783239204.py:22: PerformanceWarning: DataFrame is highly fragmented.  This is usually the result of calling `frame.insert` many times, which has poor performance.  Consider joining all columns at once using pd.concat(axis=1) instead. To get a de-fragmented frame, use `newframe = frame.copy()`\n",
      "  final[col_name] = final.Recnum.map(mapper2)\n",
      "C:\\Users\\Alex Tan\\AppData\\Local\\Temp\\ipykernel_15732\\783239204.py:24: PerformanceWarning: DataFrame is highly fragmented.  This is usually the result of calling `frame.insert` many times, which has poor performance.  Consider joining all columns at once using pd.concat(axis=1) instead. To get a de-fragmented frame, use `newframe = frame.copy()`\n",
      "  final[entity + '_avg_' + str(time)] = final.Recnum.map(temp2.groupby('Recnum')['Amount'].mean())\n",
      "C:\\Users\\Alex Tan\\AppData\\Local\\Temp\\ipykernel_15732\\783239204.py:25: PerformanceWarning: DataFrame is highly fragmented.  This is usually the result of calling `frame.insert` many times, which has poor performance.  Consider joining all columns at once using pd.concat(axis=1) instead. To get a de-fragmented frame, use `newframe = frame.copy()`\n",
      "  final[entity + '_max_' + str(time)] = final.Recnum.map(temp2.groupby('Recnum')['Amount'].max())\n",
      "C:\\Users\\Alex Tan\\AppData\\Local\\Temp\\ipykernel_15732\\783239204.py:26: PerformanceWarning: DataFrame is highly fragmented.  This is usually the result of calling `frame.insert` many times, which has poor performance.  Consider joining all columns at once using pd.concat(axis=1) instead. To get a de-fragmented frame, use `newframe = frame.copy()`\n",
      "  final[entity + '_med_' + str(time)] = final.Recnum.map(temp2.groupby('Recnum')['Amount'].median())\n",
      "C:\\Users\\Alex Tan\\AppData\\Local\\Temp\\ipykernel_15732\\783239204.py:27: PerformanceWarning: DataFrame is highly fragmented.  This is usually the result of calling `frame.insert` many times, which has poor performance.  Consider joining all columns at once using pd.concat(axis=1) instead. To get a de-fragmented frame, use `newframe = frame.copy()`\n",
      "  final[entity + '_total_' + str(time)] = final.Recnum.map(temp2.groupby('Recnum')['Amount'].sum())\n",
      "C:\\Users\\Alex Tan\\AppData\\Local\\Temp\\ipykernel_15732\\783239204.py:28: PerformanceWarning: DataFrame is highly fragmented.  This is usually the result of calling `frame.insert` many times, which has poor performance.  Consider joining all columns at once using pd.concat(axis=1) instead. To get a de-fragmented frame, use `newframe = frame.copy()`\n",
      "  final[entity + '_actual/avg_' + str(time)] = final['Amount'] / final[entity + '_avg_' + str(time)]\n",
      "C:\\Users\\Alex Tan\\AppData\\Local\\Temp\\ipykernel_15732\\783239204.py:29: PerformanceWarning: DataFrame is highly fragmented.  This is usually the result of calling `frame.insert` many times, which has poor performance.  Consider joining all columns at once using pd.concat(axis=1) instead. To get a de-fragmented frame, use `newframe = frame.copy()`\n",
      "  final[entity + '_actual/max_' + str(time)] = final['Amount'] / final[entity + '_max_' + str(time)]\n",
      "C:\\Users\\Alex Tan\\AppData\\Local\\Temp\\ipykernel_15732\\783239204.py:30: PerformanceWarning: DataFrame is highly fragmented.  This is usually the result of calling `frame.insert` many times, which has poor performance.  Consider joining all columns at once using pd.concat(axis=1) instead. To get a de-fragmented frame, use `newframe = frame.copy()`\n",
      "  final[entity + '_actual/med_' + str(time)] = final['Amount'] / final[entity + '_med_' + str(time)]\n",
      "C:\\Users\\Alex Tan\\AppData\\Local\\Temp\\ipykernel_15732\\783239204.py:31: PerformanceWarning: DataFrame is highly fragmented.  This is usually the result of calling `frame.insert` many times, which has poor performance.  Consider joining all columns at once using pd.concat(axis=1) instead. To get a de-fragmented frame, use `newframe = frame.copy()`\n",
      "  final[entity + '_actual/toal_' + str(time)] = final['Amount'] / final[entity + '_total_' + str(time)]\n",
      "C:\\Users\\Alex Tan\\AppData\\Local\\Temp\\ipykernel_15732\\783239204.py:22: PerformanceWarning: DataFrame is highly fragmented.  This is usually the result of calling `frame.insert` many times, which has poor performance.  Consider joining all columns at once using pd.concat(axis=1) instead. To get a de-fragmented frame, use `newframe = frame.copy()`\n",
      "  final[col_name] = final.Recnum.map(mapper2)\n",
      "C:\\Users\\Alex Tan\\AppData\\Local\\Temp\\ipykernel_15732\\783239204.py:24: PerformanceWarning: DataFrame is highly fragmented.  This is usually the result of calling `frame.insert` many times, which has poor performance.  Consider joining all columns at once using pd.concat(axis=1) instead. To get a de-fragmented frame, use `newframe = frame.copy()`\n",
      "  final[entity + '_avg_' + str(time)] = final.Recnum.map(temp2.groupby('Recnum')['Amount'].mean())\n",
      "C:\\Users\\Alex Tan\\AppData\\Local\\Temp\\ipykernel_15732\\783239204.py:25: PerformanceWarning: DataFrame is highly fragmented.  This is usually the result of calling `frame.insert` many times, which has poor performance.  Consider joining all columns at once using pd.concat(axis=1) instead. To get a de-fragmented frame, use `newframe = frame.copy()`\n",
      "  final[entity + '_max_' + str(time)] = final.Recnum.map(temp2.groupby('Recnum')['Amount'].max())\n"
     ]
    },
    {
     "name": "stdout",
     "output_type": "stream",
     "text": [
      "card_merch amount variables over past 14 ---> Done\n",
      "card_merch_count_30 ---> Done\n"
     ]
    },
    {
     "name": "stderr",
     "output_type": "stream",
     "text": [
      "C:\\Users\\Alex Tan\\AppData\\Local\\Temp\\ipykernel_15732\\783239204.py:26: PerformanceWarning: DataFrame is highly fragmented.  This is usually the result of calling `frame.insert` many times, which has poor performance.  Consider joining all columns at once using pd.concat(axis=1) instead. To get a de-fragmented frame, use `newframe = frame.copy()`\n",
      "  final[entity + '_med_' + str(time)] = final.Recnum.map(temp2.groupby('Recnum')['Amount'].median())\n",
      "C:\\Users\\Alex Tan\\AppData\\Local\\Temp\\ipykernel_15732\\783239204.py:27: PerformanceWarning: DataFrame is highly fragmented.  This is usually the result of calling `frame.insert` many times, which has poor performance.  Consider joining all columns at once using pd.concat(axis=1) instead. To get a de-fragmented frame, use `newframe = frame.copy()`\n",
      "  final[entity + '_total_' + str(time)] = final.Recnum.map(temp2.groupby('Recnum')['Amount'].sum())\n",
      "C:\\Users\\Alex Tan\\AppData\\Local\\Temp\\ipykernel_15732\\783239204.py:28: PerformanceWarning: DataFrame is highly fragmented.  This is usually the result of calling `frame.insert` many times, which has poor performance.  Consider joining all columns at once using pd.concat(axis=1) instead. To get a de-fragmented frame, use `newframe = frame.copy()`\n",
      "  final[entity + '_actual/avg_' + str(time)] = final['Amount'] / final[entity + '_avg_' + str(time)]\n",
      "C:\\Users\\Alex Tan\\AppData\\Local\\Temp\\ipykernel_15732\\783239204.py:29: PerformanceWarning: DataFrame is highly fragmented.  This is usually the result of calling `frame.insert` many times, which has poor performance.  Consider joining all columns at once using pd.concat(axis=1) instead. To get a de-fragmented frame, use `newframe = frame.copy()`\n",
      "  final[entity + '_actual/max_' + str(time)] = final['Amount'] / final[entity + '_max_' + str(time)]\n",
      "C:\\Users\\Alex Tan\\AppData\\Local\\Temp\\ipykernel_15732\\783239204.py:30: PerformanceWarning: DataFrame is highly fragmented.  This is usually the result of calling `frame.insert` many times, which has poor performance.  Consider joining all columns at once using pd.concat(axis=1) instead. To get a de-fragmented frame, use `newframe = frame.copy()`\n",
      "  final[entity + '_actual/med_' + str(time)] = final['Amount'] / final[entity + '_med_' + str(time)]\n",
      "C:\\Users\\Alex Tan\\AppData\\Local\\Temp\\ipykernel_15732\\783239204.py:31: PerformanceWarning: DataFrame is highly fragmented.  This is usually the result of calling `frame.insert` many times, which has poor performance.  Consider joining all columns at once using pd.concat(axis=1) instead. To get a de-fragmented frame, use `newframe = frame.copy()`\n",
      "  final[entity + '_actual/toal_' + str(time)] = final['Amount'] / final[entity + '_total_' + str(time)]\n"
     ]
    },
    {
     "name": "stdout",
     "output_type": "stream",
     "text": [
      "card_merch amount variables over past 30 ---> Done\n",
      "Run time for the last entity ----------------- 2.8692256s\n"
     ]
    },
    {
     "name": "stderr",
     "output_type": "stream",
     "text": [
      "C:\\Users\\Alex Tan\\AppData\\Local\\Temp\\ipykernel_15732\\783239204.py:13: PerformanceWarning: DataFrame is highly fragmented.  This is usually the result of calling `frame.insert` many times, which has poor performance.  Consider joining all columns at once using pd.concat(axis=1) instead. To get a de-fragmented frame, use `newframe = frame.copy()`\n",
      "  final[entity + '_day_since'] = final.Recnum.map(mapper)\n",
      "C:\\Users\\Alex Tan\\AppData\\Local\\Temp\\ipykernel_15732\\783239204.py:22: PerformanceWarning: DataFrame is highly fragmented.  This is usually the result of calling `frame.insert` many times, which has poor performance.  Consider joining all columns at once using pd.concat(axis=1) instead. To get a de-fragmented frame, use `newframe = frame.copy()`\n",
      "  final[col_name] = final.Recnum.map(mapper2)\n",
      "C:\\Users\\Alex Tan\\AppData\\Local\\Temp\\ipykernel_15732\\783239204.py:24: PerformanceWarning: DataFrame is highly fragmented.  This is usually the result of calling `frame.insert` many times, which has poor performance.  Consider joining all columns at once using pd.concat(axis=1) instead. To get a de-fragmented frame, use `newframe = frame.copy()`\n",
      "  final[entity + '_avg_' + str(time)] = final.Recnum.map(temp2.groupby('Recnum')['Amount'].mean())\n",
      "C:\\Users\\Alex Tan\\AppData\\Local\\Temp\\ipykernel_15732\\783239204.py:25: PerformanceWarning: DataFrame is highly fragmented.  This is usually the result of calling `frame.insert` many times, which has poor performance.  Consider joining all columns at once using pd.concat(axis=1) instead. To get a de-fragmented frame, use `newframe = frame.copy()`\n",
      "  final[entity + '_max_' + str(time)] = final.Recnum.map(temp2.groupby('Recnum')['Amount'].max())\n"
     ]
    },
    {
     "name": "stdout",
     "output_type": "stream",
     "text": [
      "\n",
      "card_zip_day_since ---> Done\n",
      "card_zip_count_0 ---> Done\n"
     ]
    },
    {
     "name": "stderr",
     "output_type": "stream",
     "text": [
      "C:\\Users\\Alex Tan\\AppData\\Local\\Temp\\ipykernel_15732\\783239204.py:26: PerformanceWarning: DataFrame is highly fragmented.  This is usually the result of calling `frame.insert` many times, which has poor performance.  Consider joining all columns at once using pd.concat(axis=1) instead. To get a de-fragmented frame, use `newframe = frame.copy()`\n",
      "  final[entity + '_med_' + str(time)] = final.Recnum.map(temp2.groupby('Recnum')['Amount'].median())\n",
      "C:\\Users\\Alex Tan\\AppData\\Local\\Temp\\ipykernel_15732\\783239204.py:27: PerformanceWarning: DataFrame is highly fragmented.  This is usually the result of calling `frame.insert` many times, which has poor performance.  Consider joining all columns at once using pd.concat(axis=1) instead. To get a de-fragmented frame, use `newframe = frame.copy()`\n",
      "  final[entity + '_total_' + str(time)] = final.Recnum.map(temp2.groupby('Recnum')['Amount'].sum())\n",
      "C:\\Users\\Alex Tan\\AppData\\Local\\Temp\\ipykernel_15732\\783239204.py:28: PerformanceWarning: DataFrame is highly fragmented.  This is usually the result of calling `frame.insert` many times, which has poor performance.  Consider joining all columns at once using pd.concat(axis=1) instead. To get a de-fragmented frame, use `newframe = frame.copy()`\n",
      "  final[entity + '_actual/avg_' + str(time)] = final['Amount'] / final[entity + '_avg_' + str(time)]\n",
      "C:\\Users\\Alex Tan\\AppData\\Local\\Temp\\ipykernel_15732\\783239204.py:29: PerformanceWarning: DataFrame is highly fragmented.  This is usually the result of calling `frame.insert` many times, which has poor performance.  Consider joining all columns at once using pd.concat(axis=1) instead. To get a de-fragmented frame, use `newframe = frame.copy()`\n",
      "  final[entity + '_actual/max_' + str(time)] = final['Amount'] / final[entity + '_max_' + str(time)]\n",
      "C:\\Users\\Alex Tan\\AppData\\Local\\Temp\\ipykernel_15732\\783239204.py:30: PerformanceWarning: DataFrame is highly fragmented.  This is usually the result of calling `frame.insert` many times, which has poor performance.  Consider joining all columns at once using pd.concat(axis=1) instead. To get a de-fragmented frame, use `newframe = frame.copy()`\n",
      "  final[entity + '_actual/med_' + str(time)] = final['Amount'] / final[entity + '_med_' + str(time)]\n",
      "C:\\Users\\Alex Tan\\AppData\\Local\\Temp\\ipykernel_15732\\783239204.py:31: PerformanceWarning: DataFrame is highly fragmented.  This is usually the result of calling `frame.insert` many times, which has poor performance.  Consider joining all columns at once using pd.concat(axis=1) instead. To get a de-fragmented frame, use `newframe = frame.copy()`\n",
      "  final[entity + '_actual/toal_' + str(time)] = final['Amount'] / final[entity + '_total_' + str(time)]\n"
     ]
    },
    {
     "name": "stdout",
     "output_type": "stream",
     "text": [
      "card_zip amount variables over past 0 ---> Done\n",
      "card_zip_count_1 ---> Done\n"
     ]
    },
    {
     "name": "stderr",
     "output_type": "stream",
     "text": [
      "C:\\Users\\Alex Tan\\AppData\\Local\\Temp\\ipykernel_15732\\783239204.py:22: PerformanceWarning: DataFrame is highly fragmented.  This is usually the result of calling `frame.insert` many times, which has poor performance.  Consider joining all columns at once using pd.concat(axis=1) instead. To get a de-fragmented frame, use `newframe = frame.copy()`\n",
      "  final[col_name] = final.Recnum.map(mapper2)\n",
      "C:\\Users\\Alex Tan\\AppData\\Local\\Temp\\ipykernel_15732\\783239204.py:24: PerformanceWarning: DataFrame is highly fragmented.  This is usually the result of calling `frame.insert` many times, which has poor performance.  Consider joining all columns at once using pd.concat(axis=1) instead. To get a de-fragmented frame, use `newframe = frame.copy()`\n",
      "  final[entity + '_avg_' + str(time)] = final.Recnum.map(temp2.groupby('Recnum')['Amount'].mean())\n",
      "C:\\Users\\Alex Tan\\AppData\\Local\\Temp\\ipykernel_15732\\783239204.py:25: PerformanceWarning: DataFrame is highly fragmented.  This is usually the result of calling `frame.insert` many times, which has poor performance.  Consider joining all columns at once using pd.concat(axis=1) instead. To get a de-fragmented frame, use `newframe = frame.copy()`\n",
      "  final[entity + '_max_' + str(time)] = final.Recnum.map(temp2.groupby('Recnum')['Amount'].max())\n",
      "C:\\Users\\Alex Tan\\AppData\\Local\\Temp\\ipykernel_15732\\783239204.py:26: PerformanceWarning: DataFrame is highly fragmented.  This is usually the result of calling `frame.insert` many times, which has poor performance.  Consider joining all columns at once using pd.concat(axis=1) instead. To get a de-fragmented frame, use `newframe = frame.copy()`\n",
      "  final[entity + '_med_' + str(time)] = final.Recnum.map(temp2.groupby('Recnum')['Amount'].median())\n",
      "C:\\Users\\Alex Tan\\AppData\\Local\\Temp\\ipykernel_15732\\783239204.py:27: PerformanceWarning: DataFrame is highly fragmented.  This is usually the result of calling `frame.insert` many times, which has poor performance.  Consider joining all columns at once using pd.concat(axis=1) instead. To get a de-fragmented frame, use `newframe = frame.copy()`\n",
      "  final[entity + '_total_' + str(time)] = final.Recnum.map(temp2.groupby('Recnum')['Amount'].sum())\n",
      "C:\\Users\\Alex Tan\\AppData\\Local\\Temp\\ipykernel_15732\\783239204.py:28: PerformanceWarning: DataFrame is highly fragmented.  This is usually the result of calling `frame.insert` many times, which has poor performance.  Consider joining all columns at once using pd.concat(axis=1) instead. To get a de-fragmented frame, use `newframe = frame.copy()`\n",
      "  final[entity + '_actual/avg_' + str(time)] = final['Amount'] / final[entity + '_avg_' + str(time)]\n",
      "C:\\Users\\Alex Tan\\AppData\\Local\\Temp\\ipykernel_15732\\783239204.py:29: PerformanceWarning: DataFrame is highly fragmented.  This is usually the result of calling `frame.insert` many times, which has poor performance.  Consider joining all columns at once using pd.concat(axis=1) instead. To get a de-fragmented frame, use `newframe = frame.copy()`\n",
      "  final[entity + '_actual/max_' + str(time)] = final['Amount'] / final[entity + '_max_' + str(time)]\n",
      "C:\\Users\\Alex Tan\\AppData\\Local\\Temp\\ipykernel_15732\\783239204.py:30: PerformanceWarning: DataFrame is highly fragmented.  This is usually the result of calling `frame.insert` many times, which has poor performance.  Consider joining all columns at once using pd.concat(axis=1) instead. To get a de-fragmented frame, use `newframe = frame.copy()`\n",
      "  final[entity + '_actual/med_' + str(time)] = final['Amount'] / final[entity + '_med_' + str(time)]\n",
      "C:\\Users\\Alex Tan\\AppData\\Local\\Temp\\ipykernel_15732\\783239204.py:31: PerformanceWarning: DataFrame is highly fragmented.  This is usually the result of calling `frame.insert` many times, which has poor performance.  Consider joining all columns at once using pd.concat(axis=1) instead. To get a de-fragmented frame, use `newframe = frame.copy()`\n",
      "  final[entity + '_actual/toal_' + str(time)] = final['Amount'] / final[entity + '_total_' + str(time)]\n"
     ]
    },
    {
     "name": "stdout",
     "output_type": "stream",
     "text": [
      "card_zip amount variables over past 1 ---> Done\n",
      "card_zip_count_3 ---> Done\n"
     ]
    },
    {
     "name": "stderr",
     "output_type": "stream",
     "text": [
      "C:\\Users\\Alex Tan\\AppData\\Local\\Temp\\ipykernel_15732\\783239204.py:22: PerformanceWarning: DataFrame is highly fragmented.  This is usually the result of calling `frame.insert` many times, which has poor performance.  Consider joining all columns at once using pd.concat(axis=1) instead. To get a de-fragmented frame, use `newframe = frame.copy()`\n",
      "  final[col_name] = final.Recnum.map(mapper2)\n",
      "C:\\Users\\Alex Tan\\AppData\\Local\\Temp\\ipykernel_15732\\783239204.py:24: PerformanceWarning: DataFrame is highly fragmented.  This is usually the result of calling `frame.insert` many times, which has poor performance.  Consider joining all columns at once using pd.concat(axis=1) instead. To get a de-fragmented frame, use `newframe = frame.copy()`\n",
      "  final[entity + '_avg_' + str(time)] = final.Recnum.map(temp2.groupby('Recnum')['Amount'].mean())\n",
      "C:\\Users\\Alex Tan\\AppData\\Local\\Temp\\ipykernel_15732\\783239204.py:25: PerformanceWarning: DataFrame is highly fragmented.  This is usually the result of calling `frame.insert` many times, which has poor performance.  Consider joining all columns at once using pd.concat(axis=1) instead. To get a de-fragmented frame, use `newframe = frame.copy()`\n",
      "  final[entity + '_max_' + str(time)] = final.Recnum.map(temp2.groupby('Recnum')['Amount'].max())\n",
      "C:\\Users\\Alex Tan\\AppData\\Local\\Temp\\ipykernel_15732\\783239204.py:26: PerformanceWarning: DataFrame is highly fragmented.  This is usually the result of calling `frame.insert` many times, which has poor performance.  Consider joining all columns at once using pd.concat(axis=1) instead. To get a de-fragmented frame, use `newframe = frame.copy()`\n",
      "  final[entity + '_med_' + str(time)] = final.Recnum.map(temp2.groupby('Recnum')['Amount'].median())\n",
      "C:\\Users\\Alex Tan\\AppData\\Local\\Temp\\ipykernel_15732\\783239204.py:27: PerformanceWarning: DataFrame is highly fragmented.  This is usually the result of calling `frame.insert` many times, which has poor performance.  Consider joining all columns at once using pd.concat(axis=1) instead. To get a de-fragmented frame, use `newframe = frame.copy()`\n",
      "  final[entity + '_total_' + str(time)] = final.Recnum.map(temp2.groupby('Recnum')['Amount'].sum())\n",
      "C:\\Users\\Alex Tan\\AppData\\Local\\Temp\\ipykernel_15732\\783239204.py:28: PerformanceWarning: DataFrame is highly fragmented.  This is usually the result of calling `frame.insert` many times, which has poor performance.  Consider joining all columns at once using pd.concat(axis=1) instead. To get a de-fragmented frame, use `newframe = frame.copy()`\n",
      "  final[entity + '_actual/avg_' + str(time)] = final['Amount'] / final[entity + '_avg_' + str(time)]\n",
      "C:\\Users\\Alex Tan\\AppData\\Local\\Temp\\ipykernel_15732\\783239204.py:29: PerformanceWarning: DataFrame is highly fragmented.  This is usually the result of calling `frame.insert` many times, which has poor performance.  Consider joining all columns at once using pd.concat(axis=1) instead. To get a de-fragmented frame, use `newframe = frame.copy()`\n",
      "  final[entity + '_actual/max_' + str(time)] = final['Amount'] / final[entity + '_max_' + str(time)]\n",
      "C:\\Users\\Alex Tan\\AppData\\Local\\Temp\\ipykernel_15732\\783239204.py:30: PerformanceWarning: DataFrame is highly fragmented.  This is usually the result of calling `frame.insert` many times, which has poor performance.  Consider joining all columns at once using pd.concat(axis=1) instead. To get a de-fragmented frame, use `newframe = frame.copy()`\n",
      "  final[entity + '_actual/med_' + str(time)] = final['Amount'] / final[entity + '_med_' + str(time)]\n",
      "C:\\Users\\Alex Tan\\AppData\\Local\\Temp\\ipykernel_15732\\783239204.py:31: PerformanceWarning: DataFrame is highly fragmented.  This is usually the result of calling `frame.insert` many times, which has poor performance.  Consider joining all columns at once using pd.concat(axis=1) instead. To get a de-fragmented frame, use `newframe = frame.copy()`\n",
      "  final[entity + '_actual/toal_' + str(time)] = final['Amount'] / final[entity + '_total_' + str(time)]\n"
     ]
    },
    {
     "name": "stdout",
     "output_type": "stream",
     "text": [
      "card_zip amount variables over past 3 ---> Done\n",
      "card_zip_count_7 ---> Done\n"
     ]
    },
    {
     "name": "stderr",
     "output_type": "stream",
     "text": [
      "C:\\Users\\Alex Tan\\AppData\\Local\\Temp\\ipykernel_15732\\783239204.py:22: PerformanceWarning: DataFrame is highly fragmented.  This is usually the result of calling `frame.insert` many times, which has poor performance.  Consider joining all columns at once using pd.concat(axis=1) instead. To get a de-fragmented frame, use `newframe = frame.copy()`\n",
      "  final[col_name] = final.Recnum.map(mapper2)\n",
      "C:\\Users\\Alex Tan\\AppData\\Local\\Temp\\ipykernel_15732\\783239204.py:24: PerformanceWarning: DataFrame is highly fragmented.  This is usually the result of calling `frame.insert` many times, which has poor performance.  Consider joining all columns at once using pd.concat(axis=1) instead. To get a de-fragmented frame, use `newframe = frame.copy()`\n",
      "  final[entity + '_avg_' + str(time)] = final.Recnum.map(temp2.groupby('Recnum')['Amount'].mean())\n",
      "C:\\Users\\Alex Tan\\AppData\\Local\\Temp\\ipykernel_15732\\783239204.py:25: PerformanceWarning: DataFrame is highly fragmented.  This is usually the result of calling `frame.insert` many times, which has poor performance.  Consider joining all columns at once using pd.concat(axis=1) instead. To get a de-fragmented frame, use `newframe = frame.copy()`\n",
      "  final[entity + '_max_' + str(time)] = final.Recnum.map(temp2.groupby('Recnum')['Amount'].max())\n",
      "C:\\Users\\Alex Tan\\AppData\\Local\\Temp\\ipykernel_15732\\783239204.py:26: PerformanceWarning: DataFrame is highly fragmented.  This is usually the result of calling `frame.insert` many times, which has poor performance.  Consider joining all columns at once using pd.concat(axis=1) instead. To get a de-fragmented frame, use `newframe = frame.copy()`\n",
      "  final[entity + '_med_' + str(time)] = final.Recnum.map(temp2.groupby('Recnum')['Amount'].median())\n",
      "C:\\Users\\Alex Tan\\AppData\\Local\\Temp\\ipykernel_15732\\783239204.py:27: PerformanceWarning: DataFrame is highly fragmented.  This is usually the result of calling `frame.insert` many times, which has poor performance.  Consider joining all columns at once using pd.concat(axis=1) instead. To get a de-fragmented frame, use `newframe = frame.copy()`\n",
      "  final[entity + '_total_' + str(time)] = final.Recnum.map(temp2.groupby('Recnum')['Amount'].sum())\n",
      "C:\\Users\\Alex Tan\\AppData\\Local\\Temp\\ipykernel_15732\\783239204.py:28: PerformanceWarning: DataFrame is highly fragmented.  This is usually the result of calling `frame.insert` many times, which has poor performance.  Consider joining all columns at once using pd.concat(axis=1) instead. To get a de-fragmented frame, use `newframe = frame.copy()`\n",
      "  final[entity + '_actual/avg_' + str(time)] = final['Amount'] / final[entity + '_avg_' + str(time)]\n",
      "C:\\Users\\Alex Tan\\AppData\\Local\\Temp\\ipykernel_15732\\783239204.py:29: PerformanceWarning: DataFrame is highly fragmented.  This is usually the result of calling `frame.insert` many times, which has poor performance.  Consider joining all columns at once using pd.concat(axis=1) instead. To get a de-fragmented frame, use `newframe = frame.copy()`\n",
      "  final[entity + '_actual/max_' + str(time)] = final['Amount'] / final[entity + '_max_' + str(time)]\n",
      "C:\\Users\\Alex Tan\\AppData\\Local\\Temp\\ipykernel_15732\\783239204.py:30: PerformanceWarning: DataFrame is highly fragmented.  This is usually the result of calling `frame.insert` many times, which has poor performance.  Consider joining all columns at once using pd.concat(axis=1) instead. To get a de-fragmented frame, use `newframe = frame.copy()`\n",
      "  final[entity + '_actual/med_' + str(time)] = final['Amount'] / final[entity + '_med_' + str(time)]\n",
      "C:\\Users\\Alex Tan\\AppData\\Local\\Temp\\ipykernel_15732\\783239204.py:31: PerformanceWarning: DataFrame is highly fragmented.  This is usually the result of calling `frame.insert` many times, which has poor performance.  Consider joining all columns at once using pd.concat(axis=1) instead. To get a de-fragmented frame, use `newframe = frame.copy()`\n",
      "  final[entity + '_actual/toal_' + str(time)] = final['Amount'] / final[entity + '_total_' + str(time)]\n"
     ]
    },
    {
     "name": "stdout",
     "output_type": "stream",
     "text": [
      "card_zip amount variables over past 7 ---> Done\n",
      "card_zip_count_14 ---> Done\n"
     ]
    },
    {
     "name": "stderr",
     "output_type": "stream",
     "text": [
      "C:\\Users\\Alex Tan\\AppData\\Local\\Temp\\ipykernel_15732\\783239204.py:22: PerformanceWarning: DataFrame is highly fragmented.  This is usually the result of calling `frame.insert` many times, which has poor performance.  Consider joining all columns at once using pd.concat(axis=1) instead. To get a de-fragmented frame, use `newframe = frame.copy()`\n",
      "  final[col_name] = final.Recnum.map(mapper2)\n",
      "C:\\Users\\Alex Tan\\AppData\\Local\\Temp\\ipykernel_15732\\783239204.py:24: PerformanceWarning: DataFrame is highly fragmented.  This is usually the result of calling `frame.insert` many times, which has poor performance.  Consider joining all columns at once using pd.concat(axis=1) instead. To get a de-fragmented frame, use `newframe = frame.copy()`\n",
      "  final[entity + '_avg_' + str(time)] = final.Recnum.map(temp2.groupby('Recnum')['Amount'].mean())\n",
      "C:\\Users\\Alex Tan\\AppData\\Local\\Temp\\ipykernel_15732\\783239204.py:25: PerformanceWarning: DataFrame is highly fragmented.  This is usually the result of calling `frame.insert` many times, which has poor performance.  Consider joining all columns at once using pd.concat(axis=1) instead. To get a de-fragmented frame, use `newframe = frame.copy()`\n",
      "  final[entity + '_max_' + str(time)] = final.Recnum.map(temp2.groupby('Recnum')['Amount'].max())\n",
      "C:\\Users\\Alex Tan\\AppData\\Local\\Temp\\ipykernel_15732\\783239204.py:26: PerformanceWarning: DataFrame is highly fragmented.  This is usually the result of calling `frame.insert` many times, which has poor performance.  Consider joining all columns at once using pd.concat(axis=1) instead. To get a de-fragmented frame, use `newframe = frame.copy()`\n",
      "  final[entity + '_med_' + str(time)] = final.Recnum.map(temp2.groupby('Recnum')['Amount'].median())\n",
      "C:\\Users\\Alex Tan\\AppData\\Local\\Temp\\ipykernel_15732\\783239204.py:27: PerformanceWarning: DataFrame is highly fragmented.  This is usually the result of calling `frame.insert` many times, which has poor performance.  Consider joining all columns at once using pd.concat(axis=1) instead. To get a de-fragmented frame, use `newframe = frame.copy()`\n",
      "  final[entity + '_total_' + str(time)] = final.Recnum.map(temp2.groupby('Recnum')['Amount'].sum())\n",
      "C:\\Users\\Alex Tan\\AppData\\Local\\Temp\\ipykernel_15732\\783239204.py:28: PerformanceWarning: DataFrame is highly fragmented.  This is usually the result of calling `frame.insert` many times, which has poor performance.  Consider joining all columns at once using pd.concat(axis=1) instead. To get a de-fragmented frame, use `newframe = frame.copy()`\n",
      "  final[entity + '_actual/avg_' + str(time)] = final['Amount'] / final[entity + '_avg_' + str(time)]\n",
      "C:\\Users\\Alex Tan\\AppData\\Local\\Temp\\ipykernel_15732\\783239204.py:29: PerformanceWarning: DataFrame is highly fragmented.  This is usually the result of calling `frame.insert` many times, which has poor performance.  Consider joining all columns at once using pd.concat(axis=1) instead. To get a de-fragmented frame, use `newframe = frame.copy()`\n",
      "  final[entity + '_actual/max_' + str(time)] = final['Amount'] / final[entity + '_max_' + str(time)]\n",
      "C:\\Users\\Alex Tan\\AppData\\Local\\Temp\\ipykernel_15732\\783239204.py:30: PerformanceWarning: DataFrame is highly fragmented.  This is usually the result of calling `frame.insert` many times, which has poor performance.  Consider joining all columns at once using pd.concat(axis=1) instead. To get a de-fragmented frame, use `newframe = frame.copy()`\n",
      "  final[entity + '_actual/med_' + str(time)] = final['Amount'] / final[entity + '_med_' + str(time)]\n",
      "C:\\Users\\Alex Tan\\AppData\\Local\\Temp\\ipykernel_15732\\783239204.py:31: PerformanceWarning: DataFrame is highly fragmented.  This is usually the result of calling `frame.insert` many times, which has poor performance.  Consider joining all columns at once using pd.concat(axis=1) instead. To get a de-fragmented frame, use `newframe = frame.copy()`\n",
      "  final[entity + '_actual/toal_' + str(time)] = final['Amount'] / final[entity + '_total_' + str(time)]\n"
     ]
    },
    {
     "name": "stdout",
     "output_type": "stream",
     "text": [
      "card_zip amount variables over past 14 ---> Done\n",
      "card_zip_count_30 ---> Done\n"
     ]
    },
    {
     "name": "stderr",
     "output_type": "stream",
     "text": [
      "C:\\Users\\Alex Tan\\AppData\\Local\\Temp\\ipykernel_15732\\783239204.py:22: PerformanceWarning: DataFrame is highly fragmented.  This is usually the result of calling `frame.insert` many times, which has poor performance.  Consider joining all columns at once using pd.concat(axis=1) instead. To get a de-fragmented frame, use `newframe = frame.copy()`\n",
      "  final[col_name] = final.Recnum.map(mapper2)\n",
      "C:\\Users\\Alex Tan\\AppData\\Local\\Temp\\ipykernel_15732\\783239204.py:24: PerformanceWarning: DataFrame is highly fragmented.  This is usually the result of calling `frame.insert` many times, which has poor performance.  Consider joining all columns at once using pd.concat(axis=1) instead. To get a de-fragmented frame, use `newframe = frame.copy()`\n",
      "  final[entity + '_avg_' + str(time)] = final.Recnum.map(temp2.groupby('Recnum')['Amount'].mean())\n",
      "C:\\Users\\Alex Tan\\AppData\\Local\\Temp\\ipykernel_15732\\783239204.py:25: PerformanceWarning: DataFrame is highly fragmented.  This is usually the result of calling `frame.insert` many times, which has poor performance.  Consider joining all columns at once using pd.concat(axis=1) instead. To get a de-fragmented frame, use `newframe = frame.copy()`\n",
      "  final[entity + '_max_' + str(time)] = final.Recnum.map(temp2.groupby('Recnum')['Amount'].max())\n",
      "C:\\Users\\Alex Tan\\AppData\\Local\\Temp\\ipykernel_15732\\783239204.py:26: PerformanceWarning: DataFrame is highly fragmented.  This is usually the result of calling `frame.insert` many times, which has poor performance.  Consider joining all columns at once using pd.concat(axis=1) instead. To get a de-fragmented frame, use `newframe = frame.copy()`\n",
      "  final[entity + '_med_' + str(time)] = final.Recnum.map(temp2.groupby('Recnum')['Amount'].median())\n",
      "C:\\Users\\Alex Tan\\AppData\\Local\\Temp\\ipykernel_15732\\783239204.py:27: PerformanceWarning: DataFrame is highly fragmented.  This is usually the result of calling `frame.insert` many times, which has poor performance.  Consider joining all columns at once using pd.concat(axis=1) instead. To get a de-fragmented frame, use `newframe = frame.copy()`\n",
      "  final[entity + '_total_' + str(time)] = final.Recnum.map(temp2.groupby('Recnum')['Amount'].sum())\n",
      "C:\\Users\\Alex Tan\\AppData\\Local\\Temp\\ipykernel_15732\\783239204.py:28: PerformanceWarning: DataFrame is highly fragmented.  This is usually the result of calling `frame.insert` many times, which has poor performance.  Consider joining all columns at once using pd.concat(axis=1) instead. To get a de-fragmented frame, use `newframe = frame.copy()`\n",
      "  final[entity + '_actual/avg_' + str(time)] = final['Amount'] / final[entity + '_avg_' + str(time)]\n",
      "C:\\Users\\Alex Tan\\AppData\\Local\\Temp\\ipykernel_15732\\783239204.py:29: PerformanceWarning: DataFrame is highly fragmented.  This is usually the result of calling `frame.insert` many times, which has poor performance.  Consider joining all columns at once using pd.concat(axis=1) instead. To get a de-fragmented frame, use `newframe = frame.copy()`\n",
      "  final[entity + '_actual/max_' + str(time)] = final['Amount'] / final[entity + '_max_' + str(time)]\n",
      "C:\\Users\\Alex Tan\\AppData\\Local\\Temp\\ipykernel_15732\\783239204.py:30: PerformanceWarning: DataFrame is highly fragmented.  This is usually the result of calling `frame.insert` many times, which has poor performance.  Consider joining all columns at once using pd.concat(axis=1) instead. To get a de-fragmented frame, use `newframe = frame.copy()`\n",
      "  final[entity + '_actual/med_' + str(time)] = final['Amount'] / final[entity + '_med_' + str(time)]\n",
      "C:\\Users\\Alex Tan\\AppData\\Local\\Temp\\ipykernel_15732\\783239204.py:31: PerformanceWarning: DataFrame is highly fragmented.  This is usually the result of calling `frame.insert` many times, which has poor performance.  Consider joining all columns at once using pd.concat(axis=1) instead. To get a de-fragmented frame, use `newframe = frame.copy()`\n",
      "  final[entity + '_actual/toal_' + str(time)] = final['Amount'] / final[entity + '_total_' + str(time)]\n"
     ]
    },
    {
     "name": "stdout",
     "output_type": "stream",
     "text": [
      "card_zip amount variables over past 30 ---> Done\n",
      "Run time for the last entity ----------------- 2.231068200000003s\n"
     ]
    },
    {
     "name": "stderr",
     "output_type": "stream",
     "text": [
      "C:\\Users\\Alex Tan\\AppData\\Local\\Temp\\ipykernel_15732\\783239204.py:13: PerformanceWarning: DataFrame is highly fragmented.  This is usually the result of calling `frame.insert` many times, which has poor performance.  Consider joining all columns at once using pd.concat(axis=1) instead. To get a de-fragmented frame, use `newframe = frame.copy()`\n",
      "  final[entity + '_day_since'] = final.Recnum.map(mapper)\n"
     ]
    },
    {
     "name": "stdout",
     "output_type": "stream",
     "text": [
      "\n",
      "merch_zip_day_since ---> Done\n"
     ]
    },
    {
     "name": "stderr",
     "output_type": "stream",
     "text": [
      "C:\\Users\\Alex Tan\\AppData\\Local\\Temp\\ipykernel_15732\\783239204.py:22: PerformanceWarning: DataFrame is highly fragmented.  This is usually the result of calling `frame.insert` many times, which has poor performance.  Consider joining all columns at once using pd.concat(axis=1) instead. To get a de-fragmented frame, use `newframe = frame.copy()`\n",
      "  final[col_name] = final.Recnum.map(mapper2)\n",
      "C:\\Users\\Alex Tan\\AppData\\Local\\Temp\\ipykernel_15732\\783239204.py:24: PerformanceWarning: DataFrame is highly fragmented.  This is usually the result of calling `frame.insert` many times, which has poor performance.  Consider joining all columns at once using pd.concat(axis=1) instead. To get a de-fragmented frame, use `newframe = frame.copy()`\n",
      "  final[entity + '_avg_' + str(time)] = final.Recnum.map(temp2.groupby('Recnum')['Amount'].mean())\n",
      "C:\\Users\\Alex Tan\\AppData\\Local\\Temp\\ipykernel_15732\\783239204.py:25: PerformanceWarning: DataFrame is highly fragmented.  This is usually the result of calling `frame.insert` many times, which has poor performance.  Consider joining all columns at once using pd.concat(axis=1) instead. To get a de-fragmented frame, use `newframe = frame.copy()`\n",
      "  final[entity + '_max_' + str(time)] = final.Recnum.map(temp2.groupby('Recnum')['Amount'].max())\n",
      "C:\\Users\\Alex Tan\\AppData\\Local\\Temp\\ipykernel_15732\\783239204.py:26: PerformanceWarning: DataFrame is highly fragmented.  This is usually the result of calling `frame.insert` many times, which has poor performance.  Consider joining all columns at once using pd.concat(axis=1) instead. To get a de-fragmented frame, use `newframe = frame.copy()`\n",
      "  final[entity + '_med_' + str(time)] = final.Recnum.map(temp2.groupby('Recnum')['Amount'].median())\n",
      "C:\\Users\\Alex Tan\\AppData\\Local\\Temp\\ipykernel_15732\\783239204.py:27: PerformanceWarning: DataFrame is highly fragmented.  This is usually the result of calling `frame.insert` many times, which has poor performance.  Consider joining all columns at once using pd.concat(axis=1) instead. To get a de-fragmented frame, use `newframe = frame.copy()`\n",
      "  final[entity + '_total_' + str(time)] = final.Recnum.map(temp2.groupby('Recnum')['Amount'].sum())\n",
      "C:\\Users\\Alex Tan\\AppData\\Local\\Temp\\ipykernel_15732\\783239204.py:28: PerformanceWarning: DataFrame is highly fragmented.  This is usually the result of calling `frame.insert` many times, which has poor performance.  Consider joining all columns at once using pd.concat(axis=1) instead. To get a de-fragmented frame, use `newframe = frame.copy()`\n",
      "  final[entity + '_actual/avg_' + str(time)] = final['Amount'] / final[entity + '_avg_' + str(time)]\n",
      "C:\\Users\\Alex Tan\\AppData\\Local\\Temp\\ipykernel_15732\\783239204.py:29: PerformanceWarning: DataFrame is highly fragmented.  This is usually the result of calling `frame.insert` many times, which has poor performance.  Consider joining all columns at once using pd.concat(axis=1) instead. To get a de-fragmented frame, use `newframe = frame.copy()`\n",
      "  final[entity + '_actual/max_' + str(time)] = final['Amount'] / final[entity + '_max_' + str(time)]\n",
      "C:\\Users\\Alex Tan\\AppData\\Local\\Temp\\ipykernel_15732\\783239204.py:30: PerformanceWarning: DataFrame is highly fragmented.  This is usually the result of calling `frame.insert` many times, which has poor performance.  Consider joining all columns at once using pd.concat(axis=1) instead. To get a de-fragmented frame, use `newframe = frame.copy()`\n",
      "  final[entity + '_actual/med_' + str(time)] = final['Amount'] / final[entity + '_med_' + str(time)]\n",
      "C:\\Users\\Alex Tan\\AppData\\Local\\Temp\\ipykernel_15732\\783239204.py:31: PerformanceWarning: DataFrame is highly fragmented.  This is usually the result of calling `frame.insert` many times, which has poor performance.  Consider joining all columns at once using pd.concat(axis=1) instead. To get a de-fragmented frame, use `newframe = frame.copy()`\n",
      "  final[entity + '_actual/toal_' + str(time)] = final['Amount'] / final[entity + '_total_' + str(time)]\n"
     ]
    },
    {
     "name": "stdout",
     "output_type": "stream",
     "text": [
      "merch_zip_count_0 ---> Done\n",
      "merch_zip amount variables over past 0 ---> Done\n"
     ]
    },
    {
     "name": "stderr",
     "output_type": "stream",
     "text": [
      "C:\\Users\\Alex Tan\\AppData\\Local\\Temp\\ipykernel_15732\\783239204.py:22: PerformanceWarning: DataFrame is highly fragmented.  This is usually the result of calling `frame.insert` many times, which has poor performance.  Consider joining all columns at once using pd.concat(axis=1) instead. To get a de-fragmented frame, use `newframe = frame.copy()`\n",
      "  final[col_name] = final.Recnum.map(mapper2)\n",
      "C:\\Users\\Alex Tan\\AppData\\Local\\Temp\\ipykernel_15732\\783239204.py:24: PerformanceWarning: DataFrame is highly fragmented.  This is usually the result of calling `frame.insert` many times, which has poor performance.  Consider joining all columns at once using pd.concat(axis=1) instead. To get a de-fragmented frame, use `newframe = frame.copy()`\n",
      "  final[entity + '_avg_' + str(time)] = final.Recnum.map(temp2.groupby('Recnum')['Amount'].mean())\n",
      "C:\\Users\\Alex Tan\\AppData\\Local\\Temp\\ipykernel_15732\\783239204.py:25: PerformanceWarning: DataFrame is highly fragmented.  This is usually the result of calling `frame.insert` many times, which has poor performance.  Consider joining all columns at once using pd.concat(axis=1) instead. To get a de-fragmented frame, use `newframe = frame.copy()`\n",
      "  final[entity + '_max_' + str(time)] = final.Recnum.map(temp2.groupby('Recnum')['Amount'].max())\n",
      "C:\\Users\\Alex Tan\\AppData\\Local\\Temp\\ipykernel_15732\\783239204.py:26: PerformanceWarning: DataFrame is highly fragmented.  This is usually the result of calling `frame.insert` many times, which has poor performance.  Consider joining all columns at once using pd.concat(axis=1) instead. To get a de-fragmented frame, use `newframe = frame.copy()`\n",
      "  final[entity + '_med_' + str(time)] = final.Recnum.map(temp2.groupby('Recnum')['Amount'].median())\n",
      "C:\\Users\\Alex Tan\\AppData\\Local\\Temp\\ipykernel_15732\\783239204.py:27: PerformanceWarning: DataFrame is highly fragmented.  This is usually the result of calling `frame.insert` many times, which has poor performance.  Consider joining all columns at once using pd.concat(axis=1) instead. To get a de-fragmented frame, use `newframe = frame.copy()`\n",
      "  final[entity + '_total_' + str(time)] = final.Recnum.map(temp2.groupby('Recnum')['Amount'].sum())\n"
     ]
    },
    {
     "name": "stdout",
     "output_type": "stream",
     "text": [
      "merch_zip_count_1 ---> Done\n"
     ]
    },
    {
     "name": "stderr",
     "output_type": "stream",
     "text": [
      "C:\\Users\\Alex Tan\\AppData\\Local\\Temp\\ipykernel_15732\\783239204.py:28: PerformanceWarning: DataFrame is highly fragmented.  This is usually the result of calling `frame.insert` many times, which has poor performance.  Consider joining all columns at once using pd.concat(axis=1) instead. To get a de-fragmented frame, use `newframe = frame.copy()`\n",
      "  final[entity + '_actual/avg_' + str(time)] = final['Amount'] / final[entity + '_avg_' + str(time)]\n",
      "C:\\Users\\Alex Tan\\AppData\\Local\\Temp\\ipykernel_15732\\783239204.py:29: PerformanceWarning: DataFrame is highly fragmented.  This is usually the result of calling `frame.insert` many times, which has poor performance.  Consider joining all columns at once using pd.concat(axis=1) instead. To get a de-fragmented frame, use `newframe = frame.copy()`\n",
      "  final[entity + '_actual/max_' + str(time)] = final['Amount'] / final[entity + '_max_' + str(time)]\n",
      "C:\\Users\\Alex Tan\\AppData\\Local\\Temp\\ipykernel_15732\\783239204.py:30: PerformanceWarning: DataFrame is highly fragmented.  This is usually the result of calling `frame.insert` many times, which has poor performance.  Consider joining all columns at once using pd.concat(axis=1) instead. To get a de-fragmented frame, use `newframe = frame.copy()`\n",
      "  final[entity + '_actual/med_' + str(time)] = final['Amount'] / final[entity + '_med_' + str(time)]\n",
      "C:\\Users\\Alex Tan\\AppData\\Local\\Temp\\ipykernel_15732\\783239204.py:31: PerformanceWarning: DataFrame is highly fragmented.  This is usually the result of calling `frame.insert` many times, which has poor performance.  Consider joining all columns at once using pd.concat(axis=1) instead. To get a de-fragmented frame, use `newframe = frame.copy()`\n",
      "  final[entity + '_actual/toal_' + str(time)] = final['Amount'] / final[entity + '_total_' + str(time)]\n"
     ]
    },
    {
     "name": "stdout",
     "output_type": "stream",
     "text": [
      "merch_zip amount variables over past 1 ---> Done\n"
     ]
    },
    {
     "name": "stderr",
     "output_type": "stream",
     "text": [
      "C:\\Users\\Alex Tan\\AppData\\Local\\Temp\\ipykernel_15732\\783239204.py:22: PerformanceWarning: DataFrame is highly fragmented.  This is usually the result of calling `frame.insert` many times, which has poor performance.  Consider joining all columns at once using pd.concat(axis=1) instead. To get a de-fragmented frame, use `newframe = frame.copy()`\n",
      "  final[col_name] = final.Recnum.map(mapper2)\n",
      "C:\\Users\\Alex Tan\\AppData\\Local\\Temp\\ipykernel_15732\\783239204.py:24: PerformanceWarning: DataFrame is highly fragmented.  This is usually the result of calling `frame.insert` many times, which has poor performance.  Consider joining all columns at once using pd.concat(axis=1) instead. To get a de-fragmented frame, use `newframe = frame.copy()`\n",
      "  final[entity + '_avg_' + str(time)] = final.Recnum.map(temp2.groupby('Recnum')['Amount'].mean())\n",
      "C:\\Users\\Alex Tan\\AppData\\Local\\Temp\\ipykernel_15732\\783239204.py:25: PerformanceWarning: DataFrame is highly fragmented.  This is usually the result of calling `frame.insert` many times, which has poor performance.  Consider joining all columns at once using pd.concat(axis=1) instead. To get a de-fragmented frame, use `newframe = frame.copy()`\n",
      "  final[entity + '_max_' + str(time)] = final.Recnum.map(temp2.groupby('Recnum')['Amount'].max())\n"
     ]
    },
    {
     "name": "stdout",
     "output_type": "stream",
     "text": [
      "merch_zip_count_3 ---> Done\n"
     ]
    },
    {
     "name": "stderr",
     "output_type": "stream",
     "text": [
      "C:\\Users\\Alex Tan\\AppData\\Local\\Temp\\ipykernel_15732\\783239204.py:26: PerformanceWarning: DataFrame is highly fragmented.  This is usually the result of calling `frame.insert` many times, which has poor performance.  Consider joining all columns at once using pd.concat(axis=1) instead. To get a de-fragmented frame, use `newframe = frame.copy()`\n",
      "  final[entity + '_med_' + str(time)] = final.Recnum.map(temp2.groupby('Recnum')['Amount'].median())\n",
      "C:\\Users\\Alex Tan\\AppData\\Local\\Temp\\ipykernel_15732\\783239204.py:27: PerformanceWarning: DataFrame is highly fragmented.  This is usually the result of calling `frame.insert` many times, which has poor performance.  Consider joining all columns at once using pd.concat(axis=1) instead. To get a de-fragmented frame, use `newframe = frame.copy()`\n",
      "  final[entity + '_total_' + str(time)] = final.Recnum.map(temp2.groupby('Recnum')['Amount'].sum())\n",
      "C:\\Users\\Alex Tan\\AppData\\Local\\Temp\\ipykernel_15732\\783239204.py:28: PerformanceWarning: DataFrame is highly fragmented.  This is usually the result of calling `frame.insert` many times, which has poor performance.  Consider joining all columns at once using pd.concat(axis=1) instead. To get a de-fragmented frame, use `newframe = frame.copy()`\n",
      "  final[entity + '_actual/avg_' + str(time)] = final['Amount'] / final[entity + '_avg_' + str(time)]\n",
      "C:\\Users\\Alex Tan\\AppData\\Local\\Temp\\ipykernel_15732\\783239204.py:29: PerformanceWarning: DataFrame is highly fragmented.  This is usually the result of calling `frame.insert` many times, which has poor performance.  Consider joining all columns at once using pd.concat(axis=1) instead. To get a de-fragmented frame, use `newframe = frame.copy()`\n",
      "  final[entity + '_actual/max_' + str(time)] = final['Amount'] / final[entity + '_max_' + str(time)]\n",
      "C:\\Users\\Alex Tan\\AppData\\Local\\Temp\\ipykernel_15732\\783239204.py:30: PerformanceWarning: DataFrame is highly fragmented.  This is usually the result of calling `frame.insert` many times, which has poor performance.  Consider joining all columns at once using pd.concat(axis=1) instead. To get a de-fragmented frame, use `newframe = frame.copy()`\n",
      "  final[entity + '_actual/med_' + str(time)] = final['Amount'] / final[entity + '_med_' + str(time)]\n",
      "C:\\Users\\Alex Tan\\AppData\\Local\\Temp\\ipykernel_15732\\783239204.py:31: PerformanceWarning: DataFrame is highly fragmented.  This is usually the result of calling `frame.insert` many times, which has poor performance.  Consider joining all columns at once using pd.concat(axis=1) instead. To get a de-fragmented frame, use `newframe = frame.copy()`\n",
      "  final[entity + '_actual/toal_' + str(time)] = final['Amount'] / final[entity + '_total_' + str(time)]\n"
     ]
    },
    {
     "name": "stdout",
     "output_type": "stream",
     "text": [
      "merch_zip amount variables over past 3 ---> Done\n"
     ]
    },
    {
     "name": "stderr",
     "output_type": "stream",
     "text": [
      "C:\\Users\\Alex Tan\\AppData\\Local\\Temp\\ipykernel_15732\\783239204.py:22: PerformanceWarning: DataFrame is highly fragmented.  This is usually the result of calling `frame.insert` many times, which has poor performance.  Consider joining all columns at once using pd.concat(axis=1) instead. To get a de-fragmented frame, use `newframe = frame.copy()`\n",
      "  final[col_name] = final.Recnum.map(mapper2)\n",
      "C:\\Users\\Alex Tan\\AppData\\Local\\Temp\\ipykernel_15732\\783239204.py:24: PerformanceWarning: DataFrame is highly fragmented.  This is usually the result of calling `frame.insert` many times, which has poor performance.  Consider joining all columns at once using pd.concat(axis=1) instead. To get a de-fragmented frame, use `newframe = frame.copy()`\n",
      "  final[entity + '_avg_' + str(time)] = final.Recnum.map(temp2.groupby('Recnum')['Amount'].mean())\n",
      "C:\\Users\\Alex Tan\\AppData\\Local\\Temp\\ipykernel_15732\\783239204.py:25: PerformanceWarning: DataFrame is highly fragmented.  This is usually the result of calling `frame.insert` many times, which has poor performance.  Consider joining all columns at once using pd.concat(axis=1) instead. To get a de-fragmented frame, use `newframe = frame.copy()`\n",
      "  final[entity + '_max_' + str(time)] = final.Recnum.map(temp2.groupby('Recnum')['Amount'].max())\n"
     ]
    },
    {
     "name": "stdout",
     "output_type": "stream",
     "text": [
      "merch_zip_count_7 ---> Done\n"
     ]
    },
    {
     "name": "stderr",
     "output_type": "stream",
     "text": [
      "C:\\Users\\Alex Tan\\AppData\\Local\\Temp\\ipykernel_15732\\783239204.py:26: PerformanceWarning: DataFrame is highly fragmented.  This is usually the result of calling `frame.insert` many times, which has poor performance.  Consider joining all columns at once using pd.concat(axis=1) instead. To get a de-fragmented frame, use `newframe = frame.copy()`\n",
      "  final[entity + '_med_' + str(time)] = final.Recnum.map(temp2.groupby('Recnum')['Amount'].median())\n",
      "C:\\Users\\Alex Tan\\AppData\\Local\\Temp\\ipykernel_15732\\783239204.py:27: PerformanceWarning: DataFrame is highly fragmented.  This is usually the result of calling `frame.insert` many times, which has poor performance.  Consider joining all columns at once using pd.concat(axis=1) instead. To get a de-fragmented frame, use `newframe = frame.copy()`\n",
      "  final[entity + '_total_' + str(time)] = final.Recnum.map(temp2.groupby('Recnum')['Amount'].sum())\n",
      "C:\\Users\\Alex Tan\\AppData\\Local\\Temp\\ipykernel_15732\\783239204.py:28: PerformanceWarning: DataFrame is highly fragmented.  This is usually the result of calling `frame.insert` many times, which has poor performance.  Consider joining all columns at once using pd.concat(axis=1) instead. To get a de-fragmented frame, use `newframe = frame.copy()`\n",
      "  final[entity + '_actual/avg_' + str(time)] = final['Amount'] / final[entity + '_avg_' + str(time)]\n",
      "C:\\Users\\Alex Tan\\AppData\\Local\\Temp\\ipykernel_15732\\783239204.py:29: PerformanceWarning: DataFrame is highly fragmented.  This is usually the result of calling `frame.insert` many times, which has poor performance.  Consider joining all columns at once using pd.concat(axis=1) instead. To get a de-fragmented frame, use `newframe = frame.copy()`\n",
      "  final[entity + '_actual/max_' + str(time)] = final['Amount'] / final[entity + '_max_' + str(time)]\n",
      "C:\\Users\\Alex Tan\\AppData\\Local\\Temp\\ipykernel_15732\\783239204.py:30: PerformanceWarning: DataFrame is highly fragmented.  This is usually the result of calling `frame.insert` many times, which has poor performance.  Consider joining all columns at once using pd.concat(axis=1) instead. To get a de-fragmented frame, use `newframe = frame.copy()`\n",
      "  final[entity + '_actual/med_' + str(time)] = final['Amount'] / final[entity + '_med_' + str(time)]\n",
      "C:\\Users\\Alex Tan\\AppData\\Local\\Temp\\ipykernel_15732\\783239204.py:31: PerformanceWarning: DataFrame is highly fragmented.  This is usually the result of calling `frame.insert` many times, which has poor performance.  Consider joining all columns at once using pd.concat(axis=1) instead. To get a de-fragmented frame, use `newframe = frame.copy()`\n",
      "  final[entity + '_actual/toal_' + str(time)] = final['Amount'] / final[entity + '_total_' + str(time)]\n"
     ]
    },
    {
     "name": "stdout",
     "output_type": "stream",
     "text": [
      "merch_zip amount variables over past 7 ---> Done\n"
     ]
    },
    {
     "name": "stderr",
     "output_type": "stream",
     "text": [
      "C:\\Users\\Alex Tan\\AppData\\Local\\Temp\\ipykernel_15732\\783239204.py:22: PerformanceWarning: DataFrame is highly fragmented.  This is usually the result of calling `frame.insert` many times, which has poor performance.  Consider joining all columns at once using pd.concat(axis=1) instead. To get a de-fragmented frame, use `newframe = frame.copy()`\n",
      "  final[col_name] = final.Recnum.map(mapper2)\n",
      "C:\\Users\\Alex Tan\\AppData\\Local\\Temp\\ipykernel_15732\\783239204.py:24: PerformanceWarning: DataFrame is highly fragmented.  This is usually the result of calling `frame.insert` many times, which has poor performance.  Consider joining all columns at once using pd.concat(axis=1) instead. To get a de-fragmented frame, use `newframe = frame.copy()`\n",
      "  final[entity + '_avg_' + str(time)] = final.Recnum.map(temp2.groupby('Recnum')['Amount'].mean())\n"
     ]
    },
    {
     "name": "stdout",
     "output_type": "stream",
     "text": [
      "merch_zip_count_14 ---> Done\n"
     ]
    },
    {
     "name": "stderr",
     "output_type": "stream",
     "text": [
      "C:\\Users\\Alex Tan\\AppData\\Local\\Temp\\ipykernel_15732\\783239204.py:25: PerformanceWarning: DataFrame is highly fragmented.  This is usually the result of calling `frame.insert` many times, which has poor performance.  Consider joining all columns at once using pd.concat(axis=1) instead. To get a de-fragmented frame, use `newframe = frame.copy()`\n",
      "  final[entity + '_max_' + str(time)] = final.Recnum.map(temp2.groupby('Recnum')['Amount'].max())\n",
      "C:\\Users\\Alex Tan\\AppData\\Local\\Temp\\ipykernel_15732\\783239204.py:26: PerformanceWarning: DataFrame is highly fragmented.  This is usually the result of calling `frame.insert` many times, which has poor performance.  Consider joining all columns at once using pd.concat(axis=1) instead. To get a de-fragmented frame, use `newframe = frame.copy()`\n",
      "  final[entity + '_med_' + str(time)] = final.Recnum.map(temp2.groupby('Recnum')['Amount'].median())\n",
      "C:\\Users\\Alex Tan\\AppData\\Local\\Temp\\ipykernel_15732\\783239204.py:27: PerformanceWarning: DataFrame is highly fragmented.  This is usually the result of calling `frame.insert` many times, which has poor performance.  Consider joining all columns at once using pd.concat(axis=1) instead. To get a de-fragmented frame, use `newframe = frame.copy()`\n",
      "  final[entity + '_total_' + str(time)] = final.Recnum.map(temp2.groupby('Recnum')['Amount'].sum())\n",
      "C:\\Users\\Alex Tan\\AppData\\Local\\Temp\\ipykernel_15732\\783239204.py:28: PerformanceWarning: DataFrame is highly fragmented.  This is usually the result of calling `frame.insert` many times, which has poor performance.  Consider joining all columns at once using pd.concat(axis=1) instead. To get a de-fragmented frame, use `newframe = frame.copy()`\n",
      "  final[entity + '_actual/avg_' + str(time)] = final['Amount'] / final[entity + '_avg_' + str(time)]\n",
      "C:\\Users\\Alex Tan\\AppData\\Local\\Temp\\ipykernel_15732\\783239204.py:29: PerformanceWarning: DataFrame is highly fragmented.  This is usually the result of calling `frame.insert` many times, which has poor performance.  Consider joining all columns at once using pd.concat(axis=1) instead. To get a de-fragmented frame, use `newframe = frame.copy()`\n",
      "  final[entity + '_actual/max_' + str(time)] = final['Amount'] / final[entity + '_max_' + str(time)]\n",
      "C:\\Users\\Alex Tan\\AppData\\Local\\Temp\\ipykernel_15732\\783239204.py:30: PerformanceWarning: DataFrame is highly fragmented.  This is usually the result of calling `frame.insert` many times, which has poor performance.  Consider joining all columns at once using pd.concat(axis=1) instead. To get a de-fragmented frame, use `newframe = frame.copy()`\n",
      "  final[entity + '_actual/med_' + str(time)] = final['Amount'] / final[entity + '_med_' + str(time)]\n",
      "C:\\Users\\Alex Tan\\AppData\\Local\\Temp\\ipykernel_15732\\783239204.py:31: PerformanceWarning: DataFrame is highly fragmented.  This is usually the result of calling `frame.insert` many times, which has poor performance.  Consider joining all columns at once using pd.concat(axis=1) instead. To get a de-fragmented frame, use `newframe = frame.copy()`\n",
      "  final[entity + '_actual/toal_' + str(time)] = final['Amount'] / final[entity + '_total_' + str(time)]\n"
     ]
    },
    {
     "name": "stdout",
     "output_type": "stream",
     "text": [
      "merch_zip amount variables over past 14 ---> Done\n"
     ]
    },
    {
     "name": "stderr",
     "output_type": "stream",
     "text": [
      "C:\\Users\\Alex Tan\\AppData\\Local\\Temp\\ipykernel_15732\\783239204.py:22: PerformanceWarning: DataFrame is highly fragmented.  This is usually the result of calling `frame.insert` many times, which has poor performance.  Consider joining all columns at once using pd.concat(axis=1) instead. To get a de-fragmented frame, use `newframe = frame.copy()`\n",
      "  final[col_name] = final.Recnum.map(mapper2)\n"
     ]
    },
    {
     "name": "stdout",
     "output_type": "stream",
     "text": [
      "merch_zip_count_30 ---> Done\n"
     ]
    },
    {
     "name": "stderr",
     "output_type": "stream",
     "text": [
      "C:\\Users\\Alex Tan\\AppData\\Local\\Temp\\ipykernel_15732\\783239204.py:24: PerformanceWarning: DataFrame is highly fragmented.  This is usually the result of calling `frame.insert` many times, which has poor performance.  Consider joining all columns at once using pd.concat(axis=1) instead. To get a de-fragmented frame, use `newframe = frame.copy()`\n",
      "  final[entity + '_avg_' + str(time)] = final.Recnum.map(temp2.groupby('Recnum')['Amount'].mean())\n",
      "C:\\Users\\Alex Tan\\AppData\\Local\\Temp\\ipykernel_15732\\783239204.py:25: PerformanceWarning: DataFrame is highly fragmented.  This is usually the result of calling `frame.insert` many times, which has poor performance.  Consider joining all columns at once using pd.concat(axis=1) instead. To get a de-fragmented frame, use `newframe = frame.copy()`\n",
      "  final[entity + '_max_' + str(time)] = final.Recnum.map(temp2.groupby('Recnum')['Amount'].max())\n",
      "C:\\Users\\Alex Tan\\AppData\\Local\\Temp\\ipykernel_15732\\783239204.py:26: PerformanceWarning: DataFrame is highly fragmented.  This is usually the result of calling `frame.insert` many times, which has poor performance.  Consider joining all columns at once using pd.concat(axis=1) instead. To get a de-fragmented frame, use `newframe = frame.copy()`\n",
      "  final[entity + '_med_' + str(time)] = final.Recnum.map(temp2.groupby('Recnum')['Amount'].median())\n",
      "C:\\Users\\Alex Tan\\AppData\\Local\\Temp\\ipykernel_15732\\783239204.py:27: PerformanceWarning: DataFrame is highly fragmented.  This is usually the result of calling `frame.insert` many times, which has poor performance.  Consider joining all columns at once using pd.concat(axis=1) instead. To get a de-fragmented frame, use `newframe = frame.copy()`\n",
      "  final[entity + '_total_' + str(time)] = final.Recnum.map(temp2.groupby('Recnum')['Amount'].sum())\n",
      "C:\\Users\\Alex Tan\\AppData\\Local\\Temp\\ipykernel_15732\\783239204.py:28: PerformanceWarning: DataFrame is highly fragmented.  This is usually the result of calling `frame.insert` many times, which has poor performance.  Consider joining all columns at once using pd.concat(axis=1) instead. To get a de-fragmented frame, use `newframe = frame.copy()`\n",
      "  final[entity + '_actual/avg_' + str(time)] = final['Amount'] / final[entity + '_avg_' + str(time)]\n",
      "C:\\Users\\Alex Tan\\AppData\\Local\\Temp\\ipykernel_15732\\783239204.py:29: PerformanceWarning: DataFrame is highly fragmented.  This is usually the result of calling `frame.insert` many times, which has poor performance.  Consider joining all columns at once using pd.concat(axis=1) instead. To get a de-fragmented frame, use `newframe = frame.copy()`\n",
      "  final[entity + '_actual/max_' + str(time)] = final['Amount'] / final[entity + '_max_' + str(time)]\n",
      "C:\\Users\\Alex Tan\\AppData\\Local\\Temp\\ipykernel_15732\\783239204.py:30: PerformanceWarning: DataFrame is highly fragmented.  This is usually the result of calling `frame.insert` many times, which has poor performance.  Consider joining all columns at once using pd.concat(axis=1) instead. To get a de-fragmented frame, use `newframe = frame.copy()`\n",
      "  final[entity + '_actual/med_' + str(time)] = final['Amount'] / final[entity + '_med_' + str(time)]\n",
      "C:\\Users\\Alex Tan\\AppData\\Local\\Temp\\ipykernel_15732\\783239204.py:31: PerformanceWarning: DataFrame is highly fragmented.  This is usually the result of calling `frame.insert` many times, which has poor performance.  Consider joining all columns at once using pd.concat(axis=1) instead. To get a de-fragmented frame, use `newframe = frame.copy()`\n",
      "  final[entity + '_actual/toal_' + str(time)] = final['Amount'] / final[entity + '_total_' + str(time)]\n"
     ]
    },
    {
     "name": "stdout",
     "output_type": "stream",
     "text": [
      "merch_zip amount variables over past 30 ---> Done\n",
      "Run time for the last entity ----------------- 23.315675399999996s\n"
     ]
    },
    {
     "name": "stderr",
     "output_type": "stream",
     "text": [
      "C:\\Users\\Alex Tan\\AppData\\Local\\Temp\\ipykernel_15732\\783239204.py:13: PerformanceWarning: DataFrame is highly fragmented.  This is usually the result of calling `frame.insert` many times, which has poor performance.  Consider joining all columns at once using pd.concat(axis=1) instead. To get a de-fragmented frame, use `newframe = frame.copy()`\n",
      "  final[entity + '_day_since'] = final.Recnum.map(mapper)\n"
     ]
    },
    {
     "name": "stdout",
     "output_type": "stream",
     "text": [
      "\n",
      "zip3_day_since ---> Done\n"
     ]
    },
    {
     "name": "stderr",
     "output_type": "stream",
     "text": [
      "C:\\Users\\Alex Tan\\AppData\\Local\\Temp\\ipykernel_15732\\783239204.py:22: PerformanceWarning: DataFrame is highly fragmented.  This is usually the result of calling `frame.insert` many times, which has poor performance.  Consider joining all columns at once using pd.concat(axis=1) instead. To get a de-fragmented frame, use `newframe = frame.copy()`\n",
      "  final[col_name] = final.Recnum.map(mapper2)\n",
      "C:\\Users\\Alex Tan\\AppData\\Local\\Temp\\ipykernel_15732\\783239204.py:24: PerformanceWarning: DataFrame is highly fragmented.  This is usually the result of calling `frame.insert` many times, which has poor performance.  Consider joining all columns at once using pd.concat(axis=1) instead. To get a de-fragmented frame, use `newframe = frame.copy()`\n",
      "  final[entity + '_avg_' + str(time)] = final.Recnum.map(temp2.groupby('Recnum')['Amount'].mean())\n",
      "C:\\Users\\Alex Tan\\AppData\\Local\\Temp\\ipykernel_15732\\783239204.py:25: PerformanceWarning: DataFrame is highly fragmented.  This is usually the result of calling `frame.insert` many times, which has poor performance.  Consider joining all columns at once using pd.concat(axis=1) instead. To get a de-fragmented frame, use `newframe = frame.copy()`\n",
      "  final[entity + '_max_' + str(time)] = final.Recnum.map(temp2.groupby('Recnum')['Amount'].max())\n",
      "C:\\Users\\Alex Tan\\AppData\\Local\\Temp\\ipykernel_15732\\783239204.py:26: PerformanceWarning: DataFrame is highly fragmented.  This is usually the result of calling `frame.insert` many times, which has poor performance.  Consider joining all columns at once using pd.concat(axis=1) instead. To get a de-fragmented frame, use `newframe = frame.copy()`\n",
      "  final[entity + '_med_' + str(time)] = final.Recnum.map(temp2.groupby('Recnum')['Amount'].median())\n"
     ]
    },
    {
     "name": "stdout",
     "output_type": "stream",
     "text": [
      "zip3_count_0 ---> Done\n"
     ]
    },
    {
     "name": "stderr",
     "output_type": "stream",
     "text": [
      "C:\\Users\\Alex Tan\\AppData\\Local\\Temp\\ipykernel_15732\\783239204.py:27: PerformanceWarning: DataFrame is highly fragmented.  This is usually the result of calling `frame.insert` many times, which has poor performance.  Consider joining all columns at once using pd.concat(axis=1) instead. To get a de-fragmented frame, use `newframe = frame.copy()`\n",
      "  final[entity + '_total_' + str(time)] = final.Recnum.map(temp2.groupby('Recnum')['Amount'].sum())\n",
      "C:\\Users\\Alex Tan\\AppData\\Local\\Temp\\ipykernel_15732\\783239204.py:28: PerformanceWarning: DataFrame is highly fragmented.  This is usually the result of calling `frame.insert` many times, which has poor performance.  Consider joining all columns at once using pd.concat(axis=1) instead. To get a de-fragmented frame, use `newframe = frame.copy()`\n",
      "  final[entity + '_actual/avg_' + str(time)] = final['Amount'] / final[entity + '_avg_' + str(time)]\n",
      "C:\\Users\\Alex Tan\\AppData\\Local\\Temp\\ipykernel_15732\\783239204.py:29: PerformanceWarning: DataFrame is highly fragmented.  This is usually the result of calling `frame.insert` many times, which has poor performance.  Consider joining all columns at once using pd.concat(axis=1) instead. To get a de-fragmented frame, use `newframe = frame.copy()`\n",
      "  final[entity + '_actual/max_' + str(time)] = final['Amount'] / final[entity + '_max_' + str(time)]\n",
      "C:\\Users\\Alex Tan\\AppData\\Local\\Temp\\ipykernel_15732\\783239204.py:30: PerformanceWarning: DataFrame is highly fragmented.  This is usually the result of calling `frame.insert` many times, which has poor performance.  Consider joining all columns at once using pd.concat(axis=1) instead. To get a de-fragmented frame, use `newframe = frame.copy()`\n",
      "  final[entity + '_actual/med_' + str(time)] = final['Amount'] / final[entity + '_med_' + str(time)]\n",
      "C:\\Users\\Alex Tan\\AppData\\Local\\Temp\\ipykernel_15732\\783239204.py:31: PerformanceWarning: DataFrame is highly fragmented.  This is usually the result of calling `frame.insert` many times, which has poor performance.  Consider joining all columns at once using pd.concat(axis=1) instead. To get a de-fragmented frame, use `newframe = frame.copy()`\n",
      "  final[entity + '_actual/toal_' + str(time)] = final['Amount'] / final[entity + '_total_' + str(time)]\n"
     ]
    },
    {
     "name": "stdout",
     "output_type": "stream",
     "text": [
      "zip3 amount variables over past 0 ---> Done\n"
     ]
    },
    {
     "name": "stderr",
     "output_type": "stream",
     "text": [
      "C:\\Users\\Alex Tan\\AppData\\Local\\Temp\\ipykernel_15732\\783239204.py:22: PerformanceWarning: DataFrame is highly fragmented.  This is usually the result of calling `frame.insert` many times, which has poor performance.  Consider joining all columns at once using pd.concat(axis=1) instead. To get a de-fragmented frame, use `newframe = frame.copy()`\n",
      "  final[col_name] = final.Recnum.map(mapper2)\n",
      "C:\\Users\\Alex Tan\\AppData\\Local\\Temp\\ipykernel_15732\\783239204.py:24: PerformanceWarning: DataFrame is highly fragmented.  This is usually the result of calling `frame.insert` many times, which has poor performance.  Consider joining all columns at once using pd.concat(axis=1) instead. To get a de-fragmented frame, use `newframe = frame.copy()`\n",
      "  final[entity + '_avg_' + str(time)] = final.Recnum.map(temp2.groupby('Recnum')['Amount'].mean())\n",
      "C:\\Users\\Alex Tan\\AppData\\Local\\Temp\\ipykernel_15732\\783239204.py:25: PerformanceWarning: DataFrame is highly fragmented.  This is usually the result of calling `frame.insert` many times, which has poor performance.  Consider joining all columns at once using pd.concat(axis=1) instead. To get a de-fragmented frame, use `newframe = frame.copy()`\n",
      "  final[entity + '_max_' + str(time)] = final.Recnum.map(temp2.groupby('Recnum')['Amount'].max())\n",
      "C:\\Users\\Alex Tan\\AppData\\Local\\Temp\\ipykernel_15732\\783239204.py:26: PerformanceWarning: DataFrame is highly fragmented.  This is usually the result of calling `frame.insert` many times, which has poor performance.  Consider joining all columns at once using pd.concat(axis=1) instead. To get a de-fragmented frame, use `newframe = frame.copy()`\n",
      "  final[entity + '_med_' + str(time)] = final.Recnum.map(temp2.groupby('Recnum')['Amount'].median())\n"
     ]
    },
    {
     "name": "stdout",
     "output_type": "stream",
     "text": [
      "zip3_count_1 ---> Done\n"
     ]
    },
    {
     "name": "stderr",
     "output_type": "stream",
     "text": [
      "C:\\Users\\Alex Tan\\AppData\\Local\\Temp\\ipykernel_15732\\783239204.py:27: PerformanceWarning: DataFrame is highly fragmented.  This is usually the result of calling `frame.insert` many times, which has poor performance.  Consider joining all columns at once using pd.concat(axis=1) instead. To get a de-fragmented frame, use `newframe = frame.copy()`\n",
      "  final[entity + '_total_' + str(time)] = final.Recnum.map(temp2.groupby('Recnum')['Amount'].sum())\n",
      "C:\\Users\\Alex Tan\\AppData\\Local\\Temp\\ipykernel_15732\\783239204.py:28: PerformanceWarning: DataFrame is highly fragmented.  This is usually the result of calling `frame.insert` many times, which has poor performance.  Consider joining all columns at once using pd.concat(axis=1) instead. To get a de-fragmented frame, use `newframe = frame.copy()`\n",
      "  final[entity + '_actual/avg_' + str(time)] = final['Amount'] / final[entity + '_avg_' + str(time)]\n",
      "C:\\Users\\Alex Tan\\AppData\\Local\\Temp\\ipykernel_15732\\783239204.py:29: PerformanceWarning: DataFrame is highly fragmented.  This is usually the result of calling `frame.insert` many times, which has poor performance.  Consider joining all columns at once using pd.concat(axis=1) instead. To get a de-fragmented frame, use `newframe = frame.copy()`\n",
      "  final[entity + '_actual/max_' + str(time)] = final['Amount'] / final[entity + '_max_' + str(time)]\n",
      "C:\\Users\\Alex Tan\\AppData\\Local\\Temp\\ipykernel_15732\\783239204.py:30: PerformanceWarning: DataFrame is highly fragmented.  This is usually the result of calling `frame.insert` many times, which has poor performance.  Consider joining all columns at once using pd.concat(axis=1) instead. To get a de-fragmented frame, use `newframe = frame.copy()`\n",
      "  final[entity + '_actual/med_' + str(time)] = final['Amount'] / final[entity + '_med_' + str(time)]\n",
      "C:\\Users\\Alex Tan\\AppData\\Local\\Temp\\ipykernel_15732\\783239204.py:31: PerformanceWarning: DataFrame is highly fragmented.  This is usually the result of calling `frame.insert` many times, which has poor performance.  Consider joining all columns at once using pd.concat(axis=1) instead. To get a de-fragmented frame, use `newframe = frame.copy()`\n",
      "  final[entity + '_actual/toal_' + str(time)] = final['Amount'] / final[entity + '_total_' + str(time)]\n"
     ]
    },
    {
     "name": "stdout",
     "output_type": "stream",
     "text": [
      "zip3 amount variables over past 1 ---> Done\n"
     ]
    },
    {
     "name": "stderr",
     "output_type": "stream",
     "text": [
      "C:\\Users\\Alex Tan\\AppData\\Local\\Temp\\ipykernel_15732\\783239204.py:22: PerformanceWarning: DataFrame is highly fragmented.  This is usually the result of calling `frame.insert` many times, which has poor performance.  Consider joining all columns at once using pd.concat(axis=1) instead. To get a de-fragmented frame, use `newframe = frame.copy()`\n",
      "  final[col_name] = final.Recnum.map(mapper2)\n",
      "C:\\Users\\Alex Tan\\AppData\\Local\\Temp\\ipykernel_15732\\783239204.py:24: PerformanceWarning: DataFrame is highly fragmented.  This is usually the result of calling `frame.insert` many times, which has poor performance.  Consider joining all columns at once using pd.concat(axis=1) instead. To get a de-fragmented frame, use `newframe = frame.copy()`\n",
      "  final[entity + '_avg_' + str(time)] = final.Recnum.map(temp2.groupby('Recnum')['Amount'].mean())\n",
      "C:\\Users\\Alex Tan\\AppData\\Local\\Temp\\ipykernel_15732\\783239204.py:25: PerformanceWarning: DataFrame is highly fragmented.  This is usually the result of calling `frame.insert` many times, which has poor performance.  Consider joining all columns at once using pd.concat(axis=1) instead. To get a de-fragmented frame, use `newframe = frame.copy()`\n",
      "  final[entity + '_max_' + str(time)] = final.Recnum.map(temp2.groupby('Recnum')['Amount'].max())\n"
     ]
    },
    {
     "name": "stdout",
     "output_type": "stream",
     "text": [
      "zip3_count_3 ---> Done\n"
     ]
    },
    {
     "name": "stderr",
     "output_type": "stream",
     "text": [
      "C:\\Users\\Alex Tan\\AppData\\Local\\Temp\\ipykernel_15732\\783239204.py:26: PerformanceWarning: DataFrame is highly fragmented.  This is usually the result of calling `frame.insert` many times, which has poor performance.  Consider joining all columns at once using pd.concat(axis=1) instead. To get a de-fragmented frame, use `newframe = frame.copy()`\n",
      "  final[entity + '_med_' + str(time)] = final.Recnum.map(temp2.groupby('Recnum')['Amount'].median())\n",
      "C:\\Users\\Alex Tan\\AppData\\Local\\Temp\\ipykernel_15732\\783239204.py:27: PerformanceWarning: DataFrame is highly fragmented.  This is usually the result of calling `frame.insert` many times, which has poor performance.  Consider joining all columns at once using pd.concat(axis=1) instead. To get a de-fragmented frame, use `newframe = frame.copy()`\n",
      "  final[entity + '_total_' + str(time)] = final.Recnum.map(temp2.groupby('Recnum')['Amount'].sum())\n",
      "C:\\Users\\Alex Tan\\AppData\\Local\\Temp\\ipykernel_15732\\783239204.py:28: PerformanceWarning: DataFrame is highly fragmented.  This is usually the result of calling `frame.insert` many times, which has poor performance.  Consider joining all columns at once using pd.concat(axis=1) instead. To get a de-fragmented frame, use `newframe = frame.copy()`\n",
      "  final[entity + '_actual/avg_' + str(time)] = final['Amount'] / final[entity + '_avg_' + str(time)]\n",
      "C:\\Users\\Alex Tan\\AppData\\Local\\Temp\\ipykernel_15732\\783239204.py:29: PerformanceWarning: DataFrame is highly fragmented.  This is usually the result of calling `frame.insert` many times, which has poor performance.  Consider joining all columns at once using pd.concat(axis=1) instead. To get a de-fragmented frame, use `newframe = frame.copy()`\n",
      "  final[entity + '_actual/max_' + str(time)] = final['Amount'] / final[entity + '_max_' + str(time)]\n",
      "C:\\Users\\Alex Tan\\AppData\\Local\\Temp\\ipykernel_15732\\783239204.py:30: PerformanceWarning: DataFrame is highly fragmented.  This is usually the result of calling `frame.insert` many times, which has poor performance.  Consider joining all columns at once using pd.concat(axis=1) instead. To get a de-fragmented frame, use `newframe = frame.copy()`\n",
      "  final[entity + '_actual/med_' + str(time)] = final['Amount'] / final[entity + '_med_' + str(time)]\n",
      "C:\\Users\\Alex Tan\\AppData\\Local\\Temp\\ipykernel_15732\\783239204.py:31: PerformanceWarning: DataFrame is highly fragmented.  This is usually the result of calling `frame.insert` many times, which has poor performance.  Consider joining all columns at once using pd.concat(axis=1) instead. To get a de-fragmented frame, use `newframe = frame.copy()`\n",
      "  final[entity + '_actual/toal_' + str(time)] = final['Amount'] / final[entity + '_total_' + str(time)]\n"
     ]
    },
    {
     "name": "stdout",
     "output_type": "stream",
     "text": [
      "zip3 amount variables over past 3 ---> Done\n"
     ]
    },
    {
     "name": "stderr",
     "output_type": "stream",
     "text": [
      "C:\\Users\\Alex Tan\\AppData\\Local\\Temp\\ipykernel_15732\\783239204.py:22: PerformanceWarning: DataFrame is highly fragmented.  This is usually the result of calling `frame.insert` many times, which has poor performance.  Consider joining all columns at once using pd.concat(axis=1) instead. To get a de-fragmented frame, use `newframe = frame.copy()`\n",
      "  final[col_name] = final.Recnum.map(mapper2)\n",
      "C:\\Users\\Alex Tan\\AppData\\Local\\Temp\\ipykernel_15732\\783239204.py:24: PerformanceWarning: DataFrame is highly fragmented.  This is usually the result of calling `frame.insert` many times, which has poor performance.  Consider joining all columns at once using pd.concat(axis=1) instead. To get a de-fragmented frame, use `newframe = frame.copy()`\n",
      "  final[entity + '_avg_' + str(time)] = final.Recnum.map(temp2.groupby('Recnum')['Amount'].mean())\n"
     ]
    },
    {
     "name": "stdout",
     "output_type": "stream",
     "text": [
      "zip3_count_7 ---> Done\n"
     ]
    },
    {
     "name": "stderr",
     "output_type": "stream",
     "text": [
      "C:\\Users\\Alex Tan\\AppData\\Local\\Temp\\ipykernel_15732\\783239204.py:25: PerformanceWarning: DataFrame is highly fragmented.  This is usually the result of calling `frame.insert` many times, which has poor performance.  Consider joining all columns at once using pd.concat(axis=1) instead. To get a de-fragmented frame, use `newframe = frame.copy()`\n",
      "  final[entity + '_max_' + str(time)] = final.Recnum.map(temp2.groupby('Recnum')['Amount'].max())\n",
      "C:\\Users\\Alex Tan\\AppData\\Local\\Temp\\ipykernel_15732\\783239204.py:26: PerformanceWarning: DataFrame is highly fragmented.  This is usually the result of calling `frame.insert` many times, which has poor performance.  Consider joining all columns at once using pd.concat(axis=1) instead. To get a de-fragmented frame, use `newframe = frame.copy()`\n",
      "  final[entity + '_med_' + str(time)] = final.Recnum.map(temp2.groupby('Recnum')['Amount'].median())\n",
      "C:\\Users\\Alex Tan\\AppData\\Local\\Temp\\ipykernel_15732\\783239204.py:27: PerformanceWarning: DataFrame is highly fragmented.  This is usually the result of calling `frame.insert` many times, which has poor performance.  Consider joining all columns at once using pd.concat(axis=1) instead. To get a de-fragmented frame, use `newframe = frame.copy()`\n",
      "  final[entity + '_total_' + str(time)] = final.Recnum.map(temp2.groupby('Recnum')['Amount'].sum())\n",
      "C:\\Users\\Alex Tan\\AppData\\Local\\Temp\\ipykernel_15732\\783239204.py:28: PerformanceWarning: DataFrame is highly fragmented.  This is usually the result of calling `frame.insert` many times, which has poor performance.  Consider joining all columns at once using pd.concat(axis=1) instead. To get a de-fragmented frame, use `newframe = frame.copy()`\n",
      "  final[entity + '_actual/avg_' + str(time)] = final['Amount'] / final[entity + '_avg_' + str(time)]\n",
      "C:\\Users\\Alex Tan\\AppData\\Local\\Temp\\ipykernel_15732\\783239204.py:29: PerformanceWarning: DataFrame is highly fragmented.  This is usually the result of calling `frame.insert` many times, which has poor performance.  Consider joining all columns at once using pd.concat(axis=1) instead. To get a de-fragmented frame, use `newframe = frame.copy()`\n",
      "  final[entity + '_actual/max_' + str(time)] = final['Amount'] / final[entity + '_max_' + str(time)]\n",
      "C:\\Users\\Alex Tan\\AppData\\Local\\Temp\\ipykernel_15732\\783239204.py:30: PerformanceWarning: DataFrame is highly fragmented.  This is usually the result of calling `frame.insert` many times, which has poor performance.  Consider joining all columns at once using pd.concat(axis=1) instead. To get a de-fragmented frame, use `newframe = frame.copy()`\n",
      "  final[entity + '_actual/med_' + str(time)] = final['Amount'] / final[entity + '_med_' + str(time)]\n",
      "C:\\Users\\Alex Tan\\AppData\\Local\\Temp\\ipykernel_15732\\783239204.py:31: PerformanceWarning: DataFrame is highly fragmented.  This is usually the result of calling `frame.insert` many times, which has poor performance.  Consider joining all columns at once using pd.concat(axis=1) instead. To get a de-fragmented frame, use `newframe = frame.copy()`\n",
      "  final[entity + '_actual/toal_' + str(time)] = final['Amount'] / final[entity + '_total_' + str(time)]\n"
     ]
    },
    {
     "name": "stdout",
     "output_type": "stream",
     "text": [
      "zip3 amount variables over past 7 ---> Done\n"
     ]
    },
    {
     "name": "stderr",
     "output_type": "stream",
     "text": [
      "C:\\Users\\Alex Tan\\AppData\\Local\\Temp\\ipykernel_15732\\783239204.py:22: PerformanceWarning: DataFrame is highly fragmented.  This is usually the result of calling `frame.insert` many times, which has poor performance.  Consider joining all columns at once using pd.concat(axis=1) instead. To get a de-fragmented frame, use `newframe = frame.copy()`\n",
      "  final[col_name] = final.Recnum.map(mapper2)\n",
      "C:\\Users\\Alex Tan\\AppData\\Local\\Temp\\ipykernel_15732\\783239204.py:24: PerformanceWarning: DataFrame is highly fragmented.  This is usually the result of calling `frame.insert` many times, which has poor performance.  Consider joining all columns at once using pd.concat(axis=1) instead. To get a de-fragmented frame, use `newframe = frame.copy()`\n",
      "  final[entity + '_avg_' + str(time)] = final.Recnum.map(temp2.groupby('Recnum')['Amount'].mean())\n"
     ]
    },
    {
     "name": "stdout",
     "output_type": "stream",
     "text": [
      "zip3_count_14 ---> Done\n"
     ]
    },
    {
     "name": "stderr",
     "output_type": "stream",
     "text": [
      "C:\\Users\\Alex Tan\\AppData\\Local\\Temp\\ipykernel_15732\\783239204.py:25: PerformanceWarning: DataFrame is highly fragmented.  This is usually the result of calling `frame.insert` many times, which has poor performance.  Consider joining all columns at once using pd.concat(axis=1) instead. To get a de-fragmented frame, use `newframe = frame.copy()`\n",
      "  final[entity + '_max_' + str(time)] = final.Recnum.map(temp2.groupby('Recnum')['Amount'].max())\n",
      "C:\\Users\\Alex Tan\\AppData\\Local\\Temp\\ipykernel_15732\\783239204.py:26: PerformanceWarning: DataFrame is highly fragmented.  This is usually the result of calling `frame.insert` many times, which has poor performance.  Consider joining all columns at once using pd.concat(axis=1) instead. To get a de-fragmented frame, use `newframe = frame.copy()`\n",
      "  final[entity + '_med_' + str(time)] = final.Recnum.map(temp2.groupby('Recnum')['Amount'].median())\n",
      "C:\\Users\\Alex Tan\\AppData\\Local\\Temp\\ipykernel_15732\\783239204.py:27: PerformanceWarning: DataFrame is highly fragmented.  This is usually the result of calling `frame.insert` many times, which has poor performance.  Consider joining all columns at once using pd.concat(axis=1) instead. To get a de-fragmented frame, use `newframe = frame.copy()`\n",
      "  final[entity + '_total_' + str(time)] = final.Recnum.map(temp2.groupby('Recnum')['Amount'].sum())\n",
      "C:\\Users\\Alex Tan\\AppData\\Local\\Temp\\ipykernel_15732\\783239204.py:28: PerformanceWarning: DataFrame is highly fragmented.  This is usually the result of calling `frame.insert` many times, which has poor performance.  Consider joining all columns at once using pd.concat(axis=1) instead. To get a de-fragmented frame, use `newframe = frame.copy()`\n",
      "  final[entity + '_actual/avg_' + str(time)] = final['Amount'] / final[entity + '_avg_' + str(time)]\n",
      "C:\\Users\\Alex Tan\\AppData\\Local\\Temp\\ipykernel_15732\\783239204.py:29: PerformanceWarning: DataFrame is highly fragmented.  This is usually the result of calling `frame.insert` many times, which has poor performance.  Consider joining all columns at once using pd.concat(axis=1) instead. To get a de-fragmented frame, use `newframe = frame.copy()`\n",
      "  final[entity + '_actual/max_' + str(time)] = final['Amount'] / final[entity + '_max_' + str(time)]\n",
      "C:\\Users\\Alex Tan\\AppData\\Local\\Temp\\ipykernel_15732\\783239204.py:30: PerformanceWarning: DataFrame is highly fragmented.  This is usually the result of calling `frame.insert` many times, which has poor performance.  Consider joining all columns at once using pd.concat(axis=1) instead. To get a de-fragmented frame, use `newframe = frame.copy()`\n",
      "  final[entity + '_actual/med_' + str(time)] = final['Amount'] / final[entity + '_med_' + str(time)]\n",
      "C:\\Users\\Alex Tan\\AppData\\Local\\Temp\\ipykernel_15732\\783239204.py:31: PerformanceWarning: DataFrame is highly fragmented.  This is usually the result of calling `frame.insert` many times, which has poor performance.  Consider joining all columns at once using pd.concat(axis=1) instead. To get a de-fragmented frame, use `newframe = frame.copy()`\n",
      "  final[entity + '_actual/toal_' + str(time)] = final['Amount'] / final[entity + '_total_' + str(time)]\n"
     ]
    },
    {
     "name": "stdout",
     "output_type": "stream",
     "text": [
      "zip3 amount variables over past 14 ---> Done\n"
     ]
    },
    {
     "name": "stderr",
     "output_type": "stream",
     "text": [
      "C:\\Users\\Alex Tan\\AppData\\Local\\Temp\\ipykernel_15732\\783239204.py:22: PerformanceWarning: DataFrame is highly fragmented.  This is usually the result of calling `frame.insert` many times, which has poor performance.  Consider joining all columns at once using pd.concat(axis=1) instead. To get a de-fragmented frame, use `newframe = frame.copy()`\n",
      "  final[col_name] = final.Recnum.map(mapper2)\n"
     ]
    },
    {
     "name": "stdout",
     "output_type": "stream",
     "text": [
      "zip3_count_30 ---> Done\n"
     ]
    },
    {
     "name": "stderr",
     "output_type": "stream",
     "text": [
      "C:\\Users\\Alex Tan\\AppData\\Local\\Temp\\ipykernel_15732\\783239204.py:24: PerformanceWarning: DataFrame is highly fragmented.  This is usually the result of calling `frame.insert` many times, which has poor performance.  Consider joining all columns at once using pd.concat(axis=1) instead. To get a de-fragmented frame, use `newframe = frame.copy()`\n",
      "  final[entity + '_avg_' + str(time)] = final.Recnum.map(temp2.groupby('Recnum')['Amount'].mean())\n",
      "C:\\Users\\Alex Tan\\AppData\\Local\\Temp\\ipykernel_15732\\783239204.py:25: PerformanceWarning: DataFrame is highly fragmented.  This is usually the result of calling `frame.insert` many times, which has poor performance.  Consider joining all columns at once using pd.concat(axis=1) instead. To get a de-fragmented frame, use `newframe = frame.copy()`\n",
      "  final[entity + '_max_' + str(time)] = final.Recnum.map(temp2.groupby('Recnum')['Amount'].max())\n",
      "C:\\Users\\Alex Tan\\AppData\\Local\\Temp\\ipykernel_15732\\783239204.py:26: PerformanceWarning: DataFrame is highly fragmented.  This is usually the result of calling `frame.insert` many times, which has poor performance.  Consider joining all columns at once using pd.concat(axis=1) instead. To get a de-fragmented frame, use `newframe = frame.copy()`\n",
      "  final[entity + '_med_' + str(time)] = final.Recnum.map(temp2.groupby('Recnum')['Amount'].median())\n",
      "C:\\Users\\Alex Tan\\AppData\\Local\\Temp\\ipykernel_15732\\783239204.py:27: PerformanceWarning: DataFrame is highly fragmented.  This is usually the result of calling `frame.insert` many times, which has poor performance.  Consider joining all columns at once using pd.concat(axis=1) instead. To get a de-fragmented frame, use `newframe = frame.copy()`\n",
      "  final[entity + '_total_' + str(time)] = final.Recnum.map(temp2.groupby('Recnum')['Amount'].sum())\n",
      "C:\\Users\\Alex Tan\\AppData\\Local\\Temp\\ipykernel_15732\\783239204.py:28: PerformanceWarning: DataFrame is highly fragmented.  This is usually the result of calling `frame.insert` many times, which has poor performance.  Consider joining all columns at once using pd.concat(axis=1) instead. To get a de-fragmented frame, use `newframe = frame.copy()`\n",
      "  final[entity + '_actual/avg_' + str(time)] = final['Amount'] / final[entity + '_avg_' + str(time)]\n",
      "C:\\Users\\Alex Tan\\AppData\\Local\\Temp\\ipykernel_15732\\783239204.py:29: PerformanceWarning: DataFrame is highly fragmented.  This is usually the result of calling `frame.insert` many times, which has poor performance.  Consider joining all columns at once using pd.concat(axis=1) instead. To get a de-fragmented frame, use `newframe = frame.copy()`\n",
      "  final[entity + '_actual/max_' + str(time)] = final['Amount'] / final[entity + '_max_' + str(time)]\n",
      "C:\\Users\\Alex Tan\\AppData\\Local\\Temp\\ipykernel_15732\\783239204.py:30: PerformanceWarning: DataFrame is highly fragmented.  This is usually the result of calling `frame.insert` many times, which has poor performance.  Consider joining all columns at once using pd.concat(axis=1) instead. To get a de-fragmented frame, use `newframe = frame.copy()`\n",
      "  final[entity + '_actual/med_' + str(time)] = final['Amount'] / final[entity + '_med_' + str(time)]\n",
      "C:\\Users\\Alex Tan\\AppData\\Local\\Temp\\ipykernel_15732\\783239204.py:31: PerformanceWarning: DataFrame is highly fragmented.  This is usually the result of calling `frame.insert` many times, which has poor performance.  Consider joining all columns at once using pd.concat(axis=1) instead. To get a de-fragmented frame, use `newframe = frame.copy()`\n",
      "  final[entity + '_actual/toal_' + str(time)] = final['Amount'] / final[entity + '_total_' + str(time)]\n"
     ]
    },
    {
     "name": "stdout",
     "output_type": "stream",
     "text": [
      "zip3 amount variables over past 30 ---> Done\n",
      "Run time for the last entity ----------------- 51.98493540000001s\n"
     ]
    },
    {
     "name": "stderr",
     "output_type": "stream",
     "text": [
      "C:\\Users\\Alex Tan\\AppData\\Local\\Temp\\ipykernel_15732\\783239204.py:13: PerformanceWarning: DataFrame is highly fragmented.  This is usually the result of calling `frame.insert` many times, which has poor performance.  Consider joining all columns at once using pd.concat(axis=1) instead. To get a de-fragmented frame, use `newframe = frame.copy()`\n",
      "  final[entity + '_day_since'] = final.Recnum.map(mapper)\n"
     ]
    },
    {
     "name": "stdout",
     "output_type": "stream",
     "text": [
      "\n",
      "card_zip3_day_since ---> Done\n"
     ]
    },
    {
     "name": "stderr",
     "output_type": "stream",
     "text": [
      "C:\\Users\\Alex Tan\\AppData\\Local\\Temp\\ipykernel_15732\\783239204.py:22: PerformanceWarning: DataFrame is highly fragmented.  This is usually the result of calling `frame.insert` many times, which has poor performance.  Consider joining all columns at once using pd.concat(axis=1) instead. To get a de-fragmented frame, use `newframe = frame.copy()`\n",
      "  final[col_name] = final.Recnum.map(mapper2)\n",
      "C:\\Users\\Alex Tan\\AppData\\Local\\Temp\\ipykernel_15732\\783239204.py:24: PerformanceWarning: DataFrame is highly fragmented.  This is usually the result of calling `frame.insert` many times, which has poor performance.  Consider joining all columns at once using pd.concat(axis=1) instead. To get a de-fragmented frame, use `newframe = frame.copy()`\n",
      "  final[entity + '_avg_' + str(time)] = final.Recnum.map(temp2.groupby('Recnum')['Amount'].mean())\n",
      "C:\\Users\\Alex Tan\\AppData\\Local\\Temp\\ipykernel_15732\\783239204.py:25: PerformanceWarning: DataFrame is highly fragmented.  This is usually the result of calling `frame.insert` many times, which has poor performance.  Consider joining all columns at once using pd.concat(axis=1) instead. To get a de-fragmented frame, use `newframe = frame.copy()`\n",
      "  final[entity + '_max_' + str(time)] = final.Recnum.map(temp2.groupby('Recnum')['Amount'].max())\n",
      "C:\\Users\\Alex Tan\\AppData\\Local\\Temp\\ipykernel_15732\\783239204.py:26: PerformanceWarning: DataFrame is highly fragmented.  This is usually the result of calling `frame.insert` many times, which has poor performance.  Consider joining all columns at once using pd.concat(axis=1) instead. To get a de-fragmented frame, use `newframe = frame.copy()`\n",
      "  final[entity + '_med_' + str(time)] = final.Recnum.map(temp2.groupby('Recnum')['Amount'].median())\n",
      "C:\\Users\\Alex Tan\\AppData\\Local\\Temp\\ipykernel_15732\\783239204.py:27: PerformanceWarning: DataFrame is highly fragmented.  This is usually the result of calling `frame.insert` many times, which has poor performance.  Consider joining all columns at once using pd.concat(axis=1) instead. To get a de-fragmented frame, use `newframe = frame.copy()`\n",
      "  final[entity + '_total_' + str(time)] = final.Recnum.map(temp2.groupby('Recnum')['Amount'].sum())\n",
      "C:\\Users\\Alex Tan\\AppData\\Local\\Temp\\ipykernel_15732\\783239204.py:28: PerformanceWarning: DataFrame is highly fragmented.  This is usually the result of calling `frame.insert` many times, which has poor performance.  Consider joining all columns at once using pd.concat(axis=1) instead. To get a de-fragmented frame, use `newframe = frame.copy()`\n",
      "  final[entity + '_actual/avg_' + str(time)] = final['Amount'] / final[entity + '_avg_' + str(time)]\n",
      "C:\\Users\\Alex Tan\\AppData\\Local\\Temp\\ipykernel_15732\\783239204.py:29: PerformanceWarning: DataFrame is highly fragmented.  This is usually the result of calling `frame.insert` many times, which has poor performance.  Consider joining all columns at once using pd.concat(axis=1) instead. To get a de-fragmented frame, use `newframe = frame.copy()`\n",
      "  final[entity + '_actual/max_' + str(time)] = final['Amount'] / final[entity + '_max_' + str(time)]\n",
      "C:\\Users\\Alex Tan\\AppData\\Local\\Temp\\ipykernel_15732\\783239204.py:30: PerformanceWarning: DataFrame is highly fragmented.  This is usually the result of calling `frame.insert` many times, which has poor performance.  Consider joining all columns at once using pd.concat(axis=1) instead. To get a de-fragmented frame, use `newframe = frame.copy()`\n",
      "  final[entity + '_actual/med_' + str(time)] = final['Amount'] / final[entity + '_med_' + str(time)]\n"
     ]
    },
    {
     "name": "stdout",
     "output_type": "stream",
     "text": [
      "card_zip3_count_0 ---> Done\n"
     ]
    },
    {
     "name": "stderr",
     "output_type": "stream",
     "text": [
      "C:\\Users\\Alex Tan\\AppData\\Local\\Temp\\ipykernel_15732\\783239204.py:31: PerformanceWarning: DataFrame is highly fragmented.  This is usually the result of calling `frame.insert` many times, which has poor performance.  Consider joining all columns at once using pd.concat(axis=1) instead. To get a de-fragmented frame, use `newframe = frame.copy()`\n",
      "  final[entity + '_actual/toal_' + str(time)] = final['Amount'] / final[entity + '_total_' + str(time)]\n",
      "C:\\Users\\Alex Tan\\AppData\\Local\\Temp\\ipykernel_15732\\783239204.py:22: PerformanceWarning: DataFrame is highly fragmented.  This is usually the result of calling `frame.insert` many times, which has poor performance.  Consider joining all columns at once using pd.concat(axis=1) instead. To get a de-fragmented frame, use `newframe = frame.copy()`\n",
      "  final[col_name] = final.Recnum.map(mapper2)\n",
      "C:\\Users\\Alex Tan\\AppData\\Local\\Temp\\ipykernel_15732\\783239204.py:24: PerformanceWarning: DataFrame is highly fragmented.  This is usually the result of calling `frame.insert` many times, which has poor performance.  Consider joining all columns at once using pd.concat(axis=1) instead. To get a de-fragmented frame, use `newframe = frame.copy()`\n",
      "  final[entity + '_avg_' + str(time)] = final.Recnum.map(temp2.groupby('Recnum')['Amount'].mean())\n"
     ]
    },
    {
     "name": "stdout",
     "output_type": "stream",
     "text": [
      "card_zip3 amount variables over past 0 ---> Done\n",
      "card_zip3_count_1 ---> Done\n"
     ]
    },
    {
     "name": "stderr",
     "output_type": "stream",
     "text": [
      "C:\\Users\\Alex Tan\\AppData\\Local\\Temp\\ipykernel_15732\\783239204.py:25: PerformanceWarning: DataFrame is highly fragmented.  This is usually the result of calling `frame.insert` many times, which has poor performance.  Consider joining all columns at once using pd.concat(axis=1) instead. To get a de-fragmented frame, use `newframe = frame.copy()`\n",
      "  final[entity + '_max_' + str(time)] = final.Recnum.map(temp2.groupby('Recnum')['Amount'].max())\n",
      "C:\\Users\\Alex Tan\\AppData\\Local\\Temp\\ipykernel_15732\\783239204.py:26: PerformanceWarning: DataFrame is highly fragmented.  This is usually the result of calling `frame.insert` many times, which has poor performance.  Consider joining all columns at once using pd.concat(axis=1) instead. To get a de-fragmented frame, use `newframe = frame.copy()`\n",
      "  final[entity + '_med_' + str(time)] = final.Recnum.map(temp2.groupby('Recnum')['Amount'].median())\n",
      "C:\\Users\\Alex Tan\\AppData\\Local\\Temp\\ipykernel_15732\\783239204.py:27: PerformanceWarning: DataFrame is highly fragmented.  This is usually the result of calling `frame.insert` many times, which has poor performance.  Consider joining all columns at once using pd.concat(axis=1) instead. To get a de-fragmented frame, use `newframe = frame.copy()`\n",
      "  final[entity + '_total_' + str(time)] = final.Recnum.map(temp2.groupby('Recnum')['Amount'].sum())\n",
      "C:\\Users\\Alex Tan\\AppData\\Local\\Temp\\ipykernel_15732\\783239204.py:28: PerformanceWarning: DataFrame is highly fragmented.  This is usually the result of calling `frame.insert` many times, which has poor performance.  Consider joining all columns at once using pd.concat(axis=1) instead. To get a de-fragmented frame, use `newframe = frame.copy()`\n",
      "  final[entity + '_actual/avg_' + str(time)] = final['Amount'] / final[entity + '_avg_' + str(time)]\n",
      "C:\\Users\\Alex Tan\\AppData\\Local\\Temp\\ipykernel_15732\\783239204.py:29: PerformanceWarning: DataFrame is highly fragmented.  This is usually the result of calling `frame.insert` many times, which has poor performance.  Consider joining all columns at once using pd.concat(axis=1) instead. To get a de-fragmented frame, use `newframe = frame.copy()`\n",
      "  final[entity + '_actual/max_' + str(time)] = final['Amount'] / final[entity + '_max_' + str(time)]\n",
      "C:\\Users\\Alex Tan\\AppData\\Local\\Temp\\ipykernel_15732\\783239204.py:30: PerformanceWarning: DataFrame is highly fragmented.  This is usually the result of calling `frame.insert` many times, which has poor performance.  Consider joining all columns at once using pd.concat(axis=1) instead. To get a de-fragmented frame, use `newframe = frame.copy()`\n",
      "  final[entity + '_actual/med_' + str(time)] = final['Amount'] / final[entity + '_med_' + str(time)]\n",
      "C:\\Users\\Alex Tan\\AppData\\Local\\Temp\\ipykernel_15732\\783239204.py:31: PerformanceWarning: DataFrame is highly fragmented.  This is usually the result of calling `frame.insert` many times, which has poor performance.  Consider joining all columns at once using pd.concat(axis=1) instead. To get a de-fragmented frame, use `newframe = frame.copy()`\n",
      "  final[entity + '_actual/toal_' + str(time)] = final['Amount'] / final[entity + '_total_' + str(time)]\n"
     ]
    },
    {
     "name": "stdout",
     "output_type": "stream",
     "text": [
      "card_zip3 amount variables over past 1 ---> Done\n",
      "card_zip3_count_3 ---> Done\n"
     ]
    },
    {
     "name": "stderr",
     "output_type": "stream",
     "text": [
      "C:\\Users\\Alex Tan\\AppData\\Local\\Temp\\ipykernel_15732\\783239204.py:22: PerformanceWarning: DataFrame is highly fragmented.  This is usually the result of calling `frame.insert` many times, which has poor performance.  Consider joining all columns at once using pd.concat(axis=1) instead. To get a de-fragmented frame, use `newframe = frame.copy()`\n",
      "  final[col_name] = final.Recnum.map(mapper2)\n",
      "C:\\Users\\Alex Tan\\AppData\\Local\\Temp\\ipykernel_15732\\783239204.py:24: PerformanceWarning: DataFrame is highly fragmented.  This is usually the result of calling `frame.insert` many times, which has poor performance.  Consider joining all columns at once using pd.concat(axis=1) instead. To get a de-fragmented frame, use `newframe = frame.copy()`\n",
      "  final[entity + '_avg_' + str(time)] = final.Recnum.map(temp2.groupby('Recnum')['Amount'].mean())\n",
      "C:\\Users\\Alex Tan\\AppData\\Local\\Temp\\ipykernel_15732\\783239204.py:25: PerformanceWarning: DataFrame is highly fragmented.  This is usually the result of calling `frame.insert` many times, which has poor performance.  Consider joining all columns at once using pd.concat(axis=1) instead. To get a de-fragmented frame, use `newframe = frame.copy()`\n",
      "  final[entity + '_max_' + str(time)] = final.Recnum.map(temp2.groupby('Recnum')['Amount'].max())\n",
      "C:\\Users\\Alex Tan\\AppData\\Local\\Temp\\ipykernel_15732\\783239204.py:26: PerformanceWarning: DataFrame is highly fragmented.  This is usually the result of calling `frame.insert` many times, which has poor performance.  Consider joining all columns at once using pd.concat(axis=1) instead. To get a de-fragmented frame, use `newframe = frame.copy()`\n",
      "  final[entity + '_med_' + str(time)] = final.Recnum.map(temp2.groupby('Recnum')['Amount'].median())\n",
      "C:\\Users\\Alex Tan\\AppData\\Local\\Temp\\ipykernel_15732\\783239204.py:27: PerformanceWarning: DataFrame is highly fragmented.  This is usually the result of calling `frame.insert` many times, which has poor performance.  Consider joining all columns at once using pd.concat(axis=1) instead. To get a de-fragmented frame, use `newframe = frame.copy()`\n",
      "  final[entity + '_total_' + str(time)] = final.Recnum.map(temp2.groupby('Recnum')['Amount'].sum())\n",
      "C:\\Users\\Alex Tan\\AppData\\Local\\Temp\\ipykernel_15732\\783239204.py:28: PerformanceWarning: DataFrame is highly fragmented.  This is usually the result of calling `frame.insert` many times, which has poor performance.  Consider joining all columns at once using pd.concat(axis=1) instead. To get a de-fragmented frame, use `newframe = frame.copy()`\n",
      "  final[entity + '_actual/avg_' + str(time)] = final['Amount'] / final[entity + '_avg_' + str(time)]\n",
      "C:\\Users\\Alex Tan\\AppData\\Local\\Temp\\ipykernel_15732\\783239204.py:29: PerformanceWarning: DataFrame is highly fragmented.  This is usually the result of calling `frame.insert` many times, which has poor performance.  Consider joining all columns at once using pd.concat(axis=1) instead. To get a de-fragmented frame, use `newframe = frame.copy()`\n",
      "  final[entity + '_actual/max_' + str(time)] = final['Amount'] / final[entity + '_max_' + str(time)]\n",
      "C:\\Users\\Alex Tan\\AppData\\Local\\Temp\\ipykernel_15732\\783239204.py:30: PerformanceWarning: DataFrame is highly fragmented.  This is usually the result of calling `frame.insert` many times, which has poor performance.  Consider joining all columns at once using pd.concat(axis=1) instead. To get a de-fragmented frame, use `newframe = frame.copy()`\n",
      "  final[entity + '_actual/med_' + str(time)] = final['Amount'] / final[entity + '_med_' + str(time)]\n",
      "C:\\Users\\Alex Tan\\AppData\\Local\\Temp\\ipykernel_15732\\783239204.py:31: PerformanceWarning: DataFrame is highly fragmented.  This is usually the result of calling `frame.insert` many times, which has poor performance.  Consider joining all columns at once using pd.concat(axis=1) instead. To get a de-fragmented frame, use `newframe = frame.copy()`\n",
      "  final[entity + '_actual/toal_' + str(time)] = final['Amount'] / final[entity + '_total_' + str(time)]\n"
     ]
    },
    {
     "name": "stdout",
     "output_type": "stream",
     "text": [
      "card_zip3 amount variables over past 3 ---> Done\n",
      "card_zip3_count_7 ---> Done\n"
     ]
    },
    {
     "name": "stderr",
     "output_type": "stream",
     "text": [
      "C:\\Users\\Alex Tan\\AppData\\Local\\Temp\\ipykernel_15732\\783239204.py:22: PerformanceWarning: DataFrame is highly fragmented.  This is usually the result of calling `frame.insert` many times, which has poor performance.  Consider joining all columns at once using pd.concat(axis=1) instead. To get a de-fragmented frame, use `newframe = frame.copy()`\n",
      "  final[col_name] = final.Recnum.map(mapper2)\n",
      "C:\\Users\\Alex Tan\\AppData\\Local\\Temp\\ipykernel_15732\\783239204.py:24: PerformanceWarning: DataFrame is highly fragmented.  This is usually the result of calling `frame.insert` many times, which has poor performance.  Consider joining all columns at once using pd.concat(axis=1) instead. To get a de-fragmented frame, use `newframe = frame.copy()`\n",
      "  final[entity + '_avg_' + str(time)] = final.Recnum.map(temp2.groupby('Recnum')['Amount'].mean())\n",
      "C:\\Users\\Alex Tan\\AppData\\Local\\Temp\\ipykernel_15732\\783239204.py:25: PerformanceWarning: DataFrame is highly fragmented.  This is usually the result of calling `frame.insert` many times, which has poor performance.  Consider joining all columns at once using pd.concat(axis=1) instead. To get a de-fragmented frame, use `newframe = frame.copy()`\n",
      "  final[entity + '_max_' + str(time)] = final.Recnum.map(temp2.groupby('Recnum')['Amount'].max())\n",
      "C:\\Users\\Alex Tan\\AppData\\Local\\Temp\\ipykernel_15732\\783239204.py:26: PerformanceWarning: DataFrame is highly fragmented.  This is usually the result of calling `frame.insert` many times, which has poor performance.  Consider joining all columns at once using pd.concat(axis=1) instead. To get a de-fragmented frame, use `newframe = frame.copy()`\n",
      "  final[entity + '_med_' + str(time)] = final.Recnum.map(temp2.groupby('Recnum')['Amount'].median())\n",
      "C:\\Users\\Alex Tan\\AppData\\Local\\Temp\\ipykernel_15732\\783239204.py:27: PerformanceWarning: DataFrame is highly fragmented.  This is usually the result of calling `frame.insert` many times, which has poor performance.  Consider joining all columns at once using pd.concat(axis=1) instead. To get a de-fragmented frame, use `newframe = frame.copy()`\n",
      "  final[entity + '_total_' + str(time)] = final.Recnum.map(temp2.groupby('Recnum')['Amount'].sum())\n",
      "C:\\Users\\Alex Tan\\AppData\\Local\\Temp\\ipykernel_15732\\783239204.py:28: PerformanceWarning: DataFrame is highly fragmented.  This is usually the result of calling `frame.insert` many times, which has poor performance.  Consider joining all columns at once using pd.concat(axis=1) instead. To get a de-fragmented frame, use `newframe = frame.copy()`\n",
      "  final[entity + '_actual/avg_' + str(time)] = final['Amount'] / final[entity + '_avg_' + str(time)]\n",
      "C:\\Users\\Alex Tan\\AppData\\Local\\Temp\\ipykernel_15732\\783239204.py:29: PerformanceWarning: DataFrame is highly fragmented.  This is usually the result of calling `frame.insert` many times, which has poor performance.  Consider joining all columns at once using pd.concat(axis=1) instead. To get a de-fragmented frame, use `newframe = frame.copy()`\n",
      "  final[entity + '_actual/max_' + str(time)] = final['Amount'] / final[entity + '_max_' + str(time)]\n",
      "C:\\Users\\Alex Tan\\AppData\\Local\\Temp\\ipykernel_15732\\783239204.py:30: PerformanceWarning: DataFrame is highly fragmented.  This is usually the result of calling `frame.insert` many times, which has poor performance.  Consider joining all columns at once using pd.concat(axis=1) instead. To get a de-fragmented frame, use `newframe = frame.copy()`\n",
      "  final[entity + '_actual/med_' + str(time)] = final['Amount'] / final[entity + '_med_' + str(time)]\n",
      "C:\\Users\\Alex Tan\\AppData\\Local\\Temp\\ipykernel_15732\\783239204.py:31: PerformanceWarning: DataFrame is highly fragmented.  This is usually the result of calling `frame.insert` many times, which has poor performance.  Consider joining all columns at once using pd.concat(axis=1) instead. To get a de-fragmented frame, use `newframe = frame.copy()`\n",
      "  final[entity + '_actual/toal_' + str(time)] = final['Amount'] / final[entity + '_total_' + str(time)]\n",
      "C:\\Users\\Alex Tan\\AppData\\Local\\Temp\\ipykernel_15732\\783239204.py:22: PerformanceWarning: DataFrame is highly fragmented.  This is usually the result of calling `frame.insert` many times, which has poor performance.  Consider joining all columns at once using pd.concat(axis=1) instead. To get a de-fragmented frame, use `newframe = frame.copy()`\n",
      "  final[col_name] = final.Recnum.map(mapper2)\n"
     ]
    },
    {
     "name": "stdout",
     "output_type": "stream",
     "text": [
      "card_zip3 amount variables over past 7 ---> Done\n",
      "card_zip3_count_14 ---> Done\n"
     ]
    },
    {
     "name": "stderr",
     "output_type": "stream",
     "text": [
      "C:\\Users\\Alex Tan\\AppData\\Local\\Temp\\ipykernel_15732\\783239204.py:24: PerformanceWarning: DataFrame is highly fragmented.  This is usually the result of calling `frame.insert` many times, which has poor performance.  Consider joining all columns at once using pd.concat(axis=1) instead. To get a de-fragmented frame, use `newframe = frame.copy()`\n",
      "  final[entity + '_avg_' + str(time)] = final.Recnum.map(temp2.groupby('Recnum')['Amount'].mean())\n",
      "C:\\Users\\Alex Tan\\AppData\\Local\\Temp\\ipykernel_15732\\783239204.py:25: PerformanceWarning: DataFrame is highly fragmented.  This is usually the result of calling `frame.insert` many times, which has poor performance.  Consider joining all columns at once using pd.concat(axis=1) instead. To get a de-fragmented frame, use `newframe = frame.copy()`\n",
      "  final[entity + '_max_' + str(time)] = final.Recnum.map(temp2.groupby('Recnum')['Amount'].max())\n",
      "C:\\Users\\Alex Tan\\AppData\\Local\\Temp\\ipykernel_15732\\783239204.py:26: PerformanceWarning: DataFrame is highly fragmented.  This is usually the result of calling `frame.insert` many times, which has poor performance.  Consider joining all columns at once using pd.concat(axis=1) instead. To get a de-fragmented frame, use `newframe = frame.copy()`\n",
      "  final[entity + '_med_' + str(time)] = final.Recnum.map(temp2.groupby('Recnum')['Amount'].median())\n",
      "C:\\Users\\Alex Tan\\AppData\\Local\\Temp\\ipykernel_15732\\783239204.py:27: PerformanceWarning: DataFrame is highly fragmented.  This is usually the result of calling `frame.insert` many times, which has poor performance.  Consider joining all columns at once using pd.concat(axis=1) instead. To get a de-fragmented frame, use `newframe = frame.copy()`\n",
      "  final[entity + '_total_' + str(time)] = final.Recnum.map(temp2.groupby('Recnum')['Amount'].sum())\n",
      "C:\\Users\\Alex Tan\\AppData\\Local\\Temp\\ipykernel_15732\\783239204.py:28: PerformanceWarning: DataFrame is highly fragmented.  This is usually the result of calling `frame.insert` many times, which has poor performance.  Consider joining all columns at once using pd.concat(axis=1) instead. To get a de-fragmented frame, use `newframe = frame.copy()`\n",
      "  final[entity + '_actual/avg_' + str(time)] = final['Amount'] / final[entity + '_avg_' + str(time)]\n",
      "C:\\Users\\Alex Tan\\AppData\\Local\\Temp\\ipykernel_15732\\783239204.py:29: PerformanceWarning: DataFrame is highly fragmented.  This is usually the result of calling `frame.insert` many times, which has poor performance.  Consider joining all columns at once using pd.concat(axis=1) instead. To get a de-fragmented frame, use `newframe = frame.copy()`\n",
      "  final[entity + '_actual/max_' + str(time)] = final['Amount'] / final[entity + '_max_' + str(time)]\n",
      "C:\\Users\\Alex Tan\\AppData\\Local\\Temp\\ipykernel_15732\\783239204.py:30: PerformanceWarning: DataFrame is highly fragmented.  This is usually the result of calling `frame.insert` many times, which has poor performance.  Consider joining all columns at once using pd.concat(axis=1) instead. To get a de-fragmented frame, use `newframe = frame.copy()`\n",
      "  final[entity + '_actual/med_' + str(time)] = final['Amount'] / final[entity + '_med_' + str(time)]\n",
      "C:\\Users\\Alex Tan\\AppData\\Local\\Temp\\ipykernel_15732\\783239204.py:31: PerformanceWarning: DataFrame is highly fragmented.  This is usually the result of calling `frame.insert` many times, which has poor performance.  Consider joining all columns at once using pd.concat(axis=1) instead. To get a de-fragmented frame, use `newframe = frame.copy()`\n",
      "  final[entity + '_actual/toal_' + str(time)] = final['Amount'] / final[entity + '_total_' + str(time)]\n"
     ]
    },
    {
     "name": "stdout",
     "output_type": "stream",
     "text": [
      "card_zip3 amount variables over past 14 ---> Done\n"
     ]
    },
    {
     "name": "stderr",
     "output_type": "stream",
     "text": [
      "C:\\Users\\Alex Tan\\AppData\\Local\\Temp\\ipykernel_15732\\783239204.py:22: PerformanceWarning: DataFrame is highly fragmented.  This is usually the result of calling `frame.insert` many times, which has poor performance.  Consider joining all columns at once using pd.concat(axis=1) instead. To get a de-fragmented frame, use `newframe = frame.copy()`\n",
      "  final[col_name] = final.Recnum.map(mapper2)\n",
      "C:\\Users\\Alex Tan\\AppData\\Local\\Temp\\ipykernel_15732\\783239204.py:24: PerformanceWarning: DataFrame is highly fragmented.  This is usually the result of calling `frame.insert` many times, which has poor performance.  Consider joining all columns at once using pd.concat(axis=1) instead. To get a de-fragmented frame, use `newframe = frame.copy()`\n",
      "  final[entity + '_avg_' + str(time)] = final.Recnum.map(temp2.groupby('Recnum')['Amount'].mean())\n",
      "C:\\Users\\Alex Tan\\AppData\\Local\\Temp\\ipykernel_15732\\783239204.py:25: PerformanceWarning: DataFrame is highly fragmented.  This is usually the result of calling `frame.insert` many times, which has poor performance.  Consider joining all columns at once using pd.concat(axis=1) instead. To get a de-fragmented frame, use `newframe = frame.copy()`\n",
      "  final[entity + '_max_' + str(time)] = final.Recnum.map(temp2.groupby('Recnum')['Amount'].max())\n",
      "C:\\Users\\Alex Tan\\AppData\\Local\\Temp\\ipykernel_15732\\783239204.py:26: PerformanceWarning: DataFrame is highly fragmented.  This is usually the result of calling `frame.insert` many times, which has poor performance.  Consider joining all columns at once using pd.concat(axis=1) instead. To get a de-fragmented frame, use `newframe = frame.copy()`\n",
      "  final[entity + '_med_' + str(time)] = final.Recnum.map(temp2.groupby('Recnum')['Amount'].median())\n",
      "C:\\Users\\Alex Tan\\AppData\\Local\\Temp\\ipykernel_15732\\783239204.py:27: PerformanceWarning: DataFrame is highly fragmented.  This is usually the result of calling `frame.insert` many times, which has poor performance.  Consider joining all columns at once using pd.concat(axis=1) instead. To get a de-fragmented frame, use `newframe = frame.copy()`\n",
      "  final[entity + '_total_' + str(time)] = final.Recnum.map(temp2.groupby('Recnum')['Amount'].sum())\n"
     ]
    },
    {
     "name": "stdout",
     "output_type": "stream",
     "text": [
      "card_zip3_count_30 ---> Done\n"
     ]
    },
    {
     "name": "stderr",
     "output_type": "stream",
     "text": [
      "C:\\Users\\Alex Tan\\AppData\\Local\\Temp\\ipykernel_15732\\783239204.py:28: PerformanceWarning: DataFrame is highly fragmented.  This is usually the result of calling `frame.insert` many times, which has poor performance.  Consider joining all columns at once using pd.concat(axis=1) instead. To get a de-fragmented frame, use `newframe = frame.copy()`\n",
      "  final[entity + '_actual/avg_' + str(time)] = final['Amount'] / final[entity + '_avg_' + str(time)]\n",
      "C:\\Users\\Alex Tan\\AppData\\Local\\Temp\\ipykernel_15732\\783239204.py:29: PerformanceWarning: DataFrame is highly fragmented.  This is usually the result of calling `frame.insert` many times, which has poor performance.  Consider joining all columns at once using pd.concat(axis=1) instead. To get a de-fragmented frame, use `newframe = frame.copy()`\n",
      "  final[entity + '_actual/max_' + str(time)] = final['Amount'] / final[entity + '_max_' + str(time)]\n",
      "C:\\Users\\Alex Tan\\AppData\\Local\\Temp\\ipykernel_15732\\783239204.py:30: PerformanceWarning: DataFrame is highly fragmented.  This is usually the result of calling `frame.insert` many times, which has poor performance.  Consider joining all columns at once using pd.concat(axis=1) instead. To get a de-fragmented frame, use `newframe = frame.copy()`\n",
      "  final[entity + '_actual/med_' + str(time)] = final['Amount'] / final[entity + '_med_' + str(time)]\n",
      "C:\\Users\\Alex Tan\\AppData\\Local\\Temp\\ipykernel_15732\\783239204.py:31: PerformanceWarning: DataFrame is highly fragmented.  This is usually the result of calling `frame.insert` many times, which has poor performance.  Consider joining all columns at once using pd.concat(axis=1) instead. To get a de-fragmented frame, use `newframe = frame.copy()`\n",
      "  final[entity + '_actual/toal_' + str(time)] = final['Amount'] / final[entity + '_total_' + str(time)]\n"
     ]
    },
    {
     "name": "stdout",
     "output_type": "stream",
     "text": [
      "card_zip3 amount variables over past 30 ---> Done\n",
      "Run time for the last entity ----------------- 4.308770299999992s\n"
     ]
    },
    {
     "name": "stderr",
     "output_type": "stream",
     "text": [
      "C:\\Users\\Alex Tan\\AppData\\Local\\Temp\\ipykernel_15732\\783239204.py:13: PerformanceWarning: DataFrame is highly fragmented.  This is usually the result of calling `frame.insert` many times, which has poor performance.  Consider joining all columns at once using pd.concat(axis=1) instead. To get a de-fragmented frame, use `newframe = frame.copy()`\n",
      "  final[entity + '_day_since'] = final.Recnum.map(mapper)\n",
      "C:\\Users\\Alex Tan\\AppData\\Local\\Temp\\ipykernel_15732\\783239204.py:22: PerformanceWarning: DataFrame is highly fragmented.  This is usually the result of calling `frame.insert` many times, which has poor performance.  Consider joining all columns at once using pd.concat(axis=1) instead. To get a de-fragmented frame, use `newframe = frame.copy()`\n",
      "  final[col_name] = final.Recnum.map(mapper2)\n",
      "C:\\Users\\Alex Tan\\AppData\\Local\\Temp\\ipykernel_15732\\783239204.py:24: PerformanceWarning: DataFrame is highly fragmented.  This is usually the result of calling `frame.insert` many times, which has poor performance.  Consider joining all columns at once using pd.concat(axis=1) instead. To get a de-fragmented frame, use `newframe = frame.copy()`\n",
      "  final[entity + '_avg_' + str(time)] = final.Recnum.map(temp2.groupby('Recnum')['Amount'].mean())\n",
      "C:\\Users\\Alex Tan\\AppData\\Local\\Temp\\ipykernel_15732\\783239204.py:25: PerformanceWarning: DataFrame is highly fragmented.  This is usually the result of calling `frame.insert` many times, which has poor performance.  Consider joining all columns at once using pd.concat(axis=1) instead. To get a de-fragmented frame, use `newframe = frame.copy()`\n",
      "  final[entity + '_max_' + str(time)] = final.Recnum.map(temp2.groupby('Recnum')['Amount'].max())\n",
      "C:\\Users\\Alex Tan\\AppData\\Local\\Temp\\ipykernel_15732\\783239204.py:26: PerformanceWarning: DataFrame is highly fragmented.  This is usually the result of calling `frame.insert` many times, which has poor performance.  Consider joining all columns at once using pd.concat(axis=1) instead. To get a de-fragmented frame, use `newframe = frame.copy()`\n",
      "  final[entity + '_med_' + str(time)] = final.Recnum.map(temp2.groupby('Recnum')['Amount'].median())\n",
      "C:\\Users\\Alex Tan\\AppData\\Local\\Temp\\ipykernel_15732\\783239204.py:27: PerformanceWarning: DataFrame is highly fragmented.  This is usually the result of calling `frame.insert` many times, which has poor performance.  Consider joining all columns at once using pd.concat(axis=1) instead. To get a de-fragmented frame, use `newframe = frame.copy()`\n",
      "  final[entity + '_total_' + str(time)] = final.Recnum.map(temp2.groupby('Recnum')['Amount'].sum())\n",
      "C:\\Users\\Alex Tan\\AppData\\Local\\Temp\\ipykernel_15732\\783239204.py:28: PerformanceWarning: DataFrame is highly fragmented.  This is usually the result of calling `frame.insert` many times, which has poor performance.  Consider joining all columns at once using pd.concat(axis=1) instead. To get a de-fragmented frame, use `newframe = frame.copy()`\n",
      "  final[entity + '_actual/avg_' + str(time)] = final['Amount'] / final[entity + '_avg_' + str(time)]\n",
      "C:\\Users\\Alex Tan\\AppData\\Local\\Temp\\ipykernel_15732\\783239204.py:29: PerformanceWarning: DataFrame is highly fragmented.  This is usually the result of calling `frame.insert` many times, which has poor performance.  Consider joining all columns at once using pd.concat(axis=1) instead. To get a de-fragmented frame, use `newframe = frame.copy()`\n",
      "  final[entity + '_actual/max_' + str(time)] = final['Amount'] / final[entity + '_max_' + str(time)]\n",
      "C:\\Users\\Alex Tan\\AppData\\Local\\Temp\\ipykernel_15732\\783239204.py:30: PerformanceWarning: DataFrame is highly fragmented.  This is usually the result of calling `frame.insert` many times, which has poor performance.  Consider joining all columns at once using pd.concat(axis=1) instead. To get a de-fragmented frame, use `newframe = frame.copy()`\n",
      "  final[entity + '_actual/med_' + str(time)] = final['Amount'] / final[entity + '_med_' + str(time)]\n",
      "C:\\Users\\Alex Tan\\AppData\\Local\\Temp\\ipykernel_15732\\783239204.py:31: PerformanceWarning: DataFrame is highly fragmented.  This is usually the result of calling `frame.insert` many times, which has poor performance.  Consider joining all columns at once using pd.concat(axis=1) instead. To get a de-fragmented frame, use `newframe = frame.copy()`\n",
      "  final[entity + '_actual/toal_' + str(time)] = final['Amount'] / final[entity + '_total_' + str(time)]\n"
     ]
    },
    {
     "name": "stdout",
     "output_type": "stream",
     "text": [
      "\n",
      "Card_Merchdesc_day_since ---> Done\n",
      "Card_Merchdesc_count_0 ---> Done\n",
      "Card_Merchdesc amount variables over past 0 ---> Done\n"
     ]
    },
    {
     "name": "stderr",
     "output_type": "stream",
     "text": [
      "C:\\Users\\Alex Tan\\AppData\\Local\\Temp\\ipykernel_15732\\783239204.py:22: PerformanceWarning: DataFrame is highly fragmented.  This is usually the result of calling `frame.insert` many times, which has poor performance.  Consider joining all columns at once using pd.concat(axis=1) instead. To get a de-fragmented frame, use `newframe = frame.copy()`\n",
      "  final[col_name] = final.Recnum.map(mapper2)\n",
      "C:\\Users\\Alex Tan\\AppData\\Local\\Temp\\ipykernel_15732\\783239204.py:24: PerformanceWarning: DataFrame is highly fragmented.  This is usually the result of calling `frame.insert` many times, which has poor performance.  Consider joining all columns at once using pd.concat(axis=1) instead. To get a de-fragmented frame, use `newframe = frame.copy()`\n",
      "  final[entity + '_avg_' + str(time)] = final.Recnum.map(temp2.groupby('Recnum')['Amount'].mean())\n",
      "C:\\Users\\Alex Tan\\AppData\\Local\\Temp\\ipykernel_15732\\783239204.py:25: PerformanceWarning: DataFrame is highly fragmented.  This is usually the result of calling `frame.insert` many times, which has poor performance.  Consider joining all columns at once using pd.concat(axis=1) instead. To get a de-fragmented frame, use `newframe = frame.copy()`\n",
      "  final[entity + '_max_' + str(time)] = final.Recnum.map(temp2.groupby('Recnum')['Amount'].max())\n",
      "C:\\Users\\Alex Tan\\AppData\\Local\\Temp\\ipykernel_15732\\783239204.py:26: PerformanceWarning: DataFrame is highly fragmented.  This is usually the result of calling `frame.insert` many times, which has poor performance.  Consider joining all columns at once using pd.concat(axis=1) instead. To get a de-fragmented frame, use `newframe = frame.copy()`\n",
      "  final[entity + '_med_' + str(time)] = final.Recnum.map(temp2.groupby('Recnum')['Amount'].median())\n",
      "C:\\Users\\Alex Tan\\AppData\\Local\\Temp\\ipykernel_15732\\783239204.py:27: PerformanceWarning: DataFrame is highly fragmented.  This is usually the result of calling `frame.insert` many times, which has poor performance.  Consider joining all columns at once using pd.concat(axis=1) instead. To get a de-fragmented frame, use `newframe = frame.copy()`\n",
      "  final[entity + '_total_' + str(time)] = final.Recnum.map(temp2.groupby('Recnum')['Amount'].sum())\n",
      "C:\\Users\\Alex Tan\\AppData\\Local\\Temp\\ipykernel_15732\\783239204.py:28: PerformanceWarning: DataFrame is highly fragmented.  This is usually the result of calling `frame.insert` many times, which has poor performance.  Consider joining all columns at once using pd.concat(axis=1) instead. To get a de-fragmented frame, use `newframe = frame.copy()`\n",
      "  final[entity + '_actual/avg_' + str(time)] = final['Amount'] / final[entity + '_avg_' + str(time)]\n",
      "C:\\Users\\Alex Tan\\AppData\\Local\\Temp\\ipykernel_15732\\783239204.py:29: PerformanceWarning: DataFrame is highly fragmented.  This is usually the result of calling `frame.insert` many times, which has poor performance.  Consider joining all columns at once using pd.concat(axis=1) instead. To get a de-fragmented frame, use `newframe = frame.copy()`\n",
      "  final[entity + '_actual/max_' + str(time)] = final['Amount'] / final[entity + '_max_' + str(time)]\n",
      "C:\\Users\\Alex Tan\\AppData\\Local\\Temp\\ipykernel_15732\\783239204.py:30: PerformanceWarning: DataFrame is highly fragmented.  This is usually the result of calling `frame.insert` many times, which has poor performance.  Consider joining all columns at once using pd.concat(axis=1) instead. To get a de-fragmented frame, use `newframe = frame.copy()`\n",
      "  final[entity + '_actual/med_' + str(time)] = final['Amount'] / final[entity + '_med_' + str(time)]\n",
      "C:\\Users\\Alex Tan\\AppData\\Local\\Temp\\ipykernel_15732\\783239204.py:31: PerformanceWarning: DataFrame is highly fragmented.  This is usually the result of calling `frame.insert` many times, which has poor performance.  Consider joining all columns at once using pd.concat(axis=1) instead. To get a de-fragmented frame, use `newframe = frame.copy()`\n",
      "  final[entity + '_actual/toal_' + str(time)] = final['Amount'] / final[entity + '_total_' + str(time)]\n",
      "C:\\Users\\Alex Tan\\AppData\\Local\\Temp\\ipykernel_15732\\783239204.py:22: PerformanceWarning: DataFrame is highly fragmented.  This is usually the result of calling `frame.insert` many times, which has poor performance.  Consider joining all columns at once using pd.concat(axis=1) instead. To get a de-fragmented frame, use `newframe = frame.copy()`\n",
      "  final[col_name] = final.Recnum.map(mapper2)\n",
      "C:\\Users\\Alex Tan\\AppData\\Local\\Temp\\ipykernel_15732\\783239204.py:24: PerformanceWarning: DataFrame is highly fragmented.  This is usually the result of calling `frame.insert` many times, which has poor performance.  Consider joining all columns at once using pd.concat(axis=1) instead. To get a de-fragmented frame, use `newframe = frame.copy()`\n",
      "  final[entity + '_avg_' + str(time)] = final.Recnum.map(temp2.groupby('Recnum')['Amount'].mean())\n"
     ]
    },
    {
     "name": "stdout",
     "output_type": "stream",
     "text": [
      "Card_Merchdesc_count_1 ---> Done\n",
      "Card_Merchdesc amount variables over past 1 ---> Done\n",
      "Card_Merchdesc_count_3 ---> Done\n"
     ]
    },
    {
     "name": "stderr",
     "output_type": "stream",
     "text": [
      "C:\\Users\\Alex Tan\\AppData\\Local\\Temp\\ipykernel_15732\\783239204.py:25: PerformanceWarning: DataFrame is highly fragmented.  This is usually the result of calling `frame.insert` many times, which has poor performance.  Consider joining all columns at once using pd.concat(axis=1) instead. To get a de-fragmented frame, use `newframe = frame.copy()`\n",
      "  final[entity + '_max_' + str(time)] = final.Recnum.map(temp2.groupby('Recnum')['Amount'].max())\n",
      "C:\\Users\\Alex Tan\\AppData\\Local\\Temp\\ipykernel_15732\\783239204.py:26: PerformanceWarning: DataFrame is highly fragmented.  This is usually the result of calling `frame.insert` many times, which has poor performance.  Consider joining all columns at once using pd.concat(axis=1) instead. To get a de-fragmented frame, use `newframe = frame.copy()`\n",
      "  final[entity + '_med_' + str(time)] = final.Recnum.map(temp2.groupby('Recnum')['Amount'].median())\n",
      "C:\\Users\\Alex Tan\\AppData\\Local\\Temp\\ipykernel_15732\\783239204.py:27: PerformanceWarning: DataFrame is highly fragmented.  This is usually the result of calling `frame.insert` many times, which has poor performance.  Consider joining all columns at once using pd.concat(axis=1) instead. To get a de-fragmented frame, use `newframe = frame.copy()`\n",
      "  final[entity + '_total_' + str(time)] = final.Recnum.map(temp2.groupby('Recnum')['Amount'].sum())\n",
      "C:\\Users\\Alex Tan\\AppData\\Local\\Temp\\ipykernel_15732\\783239204.py:28: PerformanceWarning: DataFrame is highly fragmented.  This is usually the result of calling `frame.insert` many times, which has poor performance.  Consider joining all columns at once using pd.concat(axis=1) instead. To get a de-fragmented frame, use `newframe = frame.copy()`\n",
      "  final[entity + '_actual/avg_' + str(time)] = final['Amount'] / final[entity + '_avg_' + str(time)]\n",
      "C:\\Users\\Alex Tan\\AppData\\Local\\Temp\\ipykernel_15732\\783239204.py:29: PerformanceWarning: DataFrame is highly fragmented.  This is usually the result of calling `frame.insert` many times, which has poor performance.  Consider joining all columns at once using pd.concat(axis=1) instead. To get a de-fragmented frame, use `newframe = frame.copy()`\n",
      "  final[entity + '_actual/max_' + str(time)] = final['Amount'] / final[entity + '_max_' + str(time)]\n",
      "C:\\Users\\Alex Tan\\AppData\\Local\\Temp\\ipykernel_15732\\783239204.py:30: PerformanceWarning: DataFrame is highly fragmented.  This is usually the result of calling `frame.insert` many times, which has poor performance.  Consider joining all columns at once using pd.concat(axis=1) instead. To get a de-fragmented frame, use `newframe = frame.copy()`\n",
      "  final[entity + '_actual/med_' + str(time)] = final['Amount'] / final[entity + '_med_' + str(time)]\n",
      "C:\\Users\\Alex Tan\\AppData\\Local\\Temp\\ipykernel_15732\\783239204.py:31: PerformanceWarning: DataFrame is highly fragmented.  This is usually the result of calling `frame.insert` many times, which has poor performance.  Consider joining all columns at once using pd.concat(axis=1) instead. To get a de-fragmented frame, use `newframe = frame.copy()`\n",
      "  final[entity + '_actual/toal_' + str(time)] = final['Amount'] / final[entity + '_total_' + str(time)]\n",
      "C:\\Users\\Alex Tan\\AppData\\Local\\Temp\\ipykernel_15732\\783239204.py:22: PerformanceWarning: DataFrame is highly fragmented.  This is usually the result of calling `frame.insert` many times, which has poor performance.  Consider joining all columns at once using pd.concat(axis=1) instead. To get a de-fragmented frame, use `newframe = frame.copy()`\n",
      "  final[col_name] = final.Recnum.map(mapper2)\n",
      "C:\\Users\\Alex Tan\\AppData\\Local\\Temp\\ipykernel_15732\\783239204.py:24: PerformanceWarning: DataFrame is highly fragmented.  This is usually the result of calling `frame.insert` many times, which has poor performance.  Consider joining all columns at once using pd.concat(axis=1) instead. To get a de-fragmented frame, use `newframe = frame.copy()`\n",
      "  final[entity + '_avg_' + str(time)] = final.Recnum.map(temp2.groupby('Recnum')['Amount'].mean())\n",
      "C:\\Users\\Alex Tan\\AppData\\Local\\Temp\\ipykernel_15732\\783239204.py:25: PerformanceWarning: DataFrame is highly fragmented.  This is usually the result of calling `frame.insert` many times, which has poor performance.  Consider joining all columns at once using pd.concat(axis=1) instead. To get a de-fragmented frame, use `newframe = frame.copy()`\n",
      "  final[entity + '_max_' + str(time)] = final.Recnum.map(temp2.groupby('Recnum')['Amount'].max())\n",
      "C:\\Users\\Alex Tan\\AppData\\Local\\Temp\\ipykernel_15732\\783239204.py:26: PerformanceWarning: DataFrame is highly fragmented.  This is usually the result of calling `frame.insert` many times, which has poor performance.  Consider joining all columns at once using pd.concat(axis=1) instead. To get a de-fragmented frame, use `newframe = frame.copy()`\n",
      "  final[entity + '_med_' + str(time)] = final.Recnum.map(temp2.groupby('Recnum')['Amount'].median())\n"
     ]
    },
    {
     "name": "stdout",
     "output_type": "stream",
     "text": [
      "Card_Merchdesc amount variables over past 3 ---> Done\n",
      "Card_Merchdesc_count_7 ---> Done\n",
      "Card_Merchdesc amount variables over past 7 ---> Done\n"
     ]
    },
    {
     "name": "stderr",
     "output_type": "stream",
     "text": [
      "C:\\Users\\Alex Tan\\AppData\\Local\\Temp\\ipykernel_15732\\783239204.py:27: PerformanceWarning: DataFrame is highly fragmented.  This is usually the result of calling `frame.insert` many times, which has poor performance.  Consider joining all columns at once using pd.concat(axis=1) instead. To get a de-fragmented frame, use `newframe = frame.copy()`\n",
      "  final[entity + '_total_' + str(time)] = final.Recnum.map(temp2.groupby('Recnum')['Amount'].sum())\n",
      "C:\\Users\\Alex Tan\\AppData\\Local\\Temp\\ipykernel_15732\\783239204.py:28: PerformanceWarning: DataFrame is highly fragmented.  This is usually the result of calling `frame.insert` many times, which has poor performance.  Consider joining all columns at once using pd.concat(axis=1) instead. To get a de-fragmented frame, use `newframe = frame.copy()`\n",
      "  final[entity + '_actual/avg_' + str(time)] = final['Amount'] / final[entity + '_avg_' + str(time)]\n",
      "C:\\Users\\Alex Tan\\AppData\\Local\\Temp\\ipykernel_15732\\783239204.py:29: PerformanceWarning: DataFrame is highly fragmented.  This is usually the result of calling `frame.insert` many times, which has poor performance.  Consider joining all columns at once using pd.concat(axis=1) instead. To get a de-fragmented frame, use `newframe = frame.copy()`\n",
      "  final[entity + '_actual/max_' + str(time)] = final['Amount'] / final[entity + '_max_' + str(time)]\n",
      "C:\\Users\\Alex Tan\\AppData\\Local\\Temp\\ipykernel_15732\\783239204.py:30: PerformanceWarning: DataFrame is highly fragmented.  This is usually the result of calling `frame.insert` many times, which has poor performance.  Consider joining all columns at once using pd.concat(axis=1) instead. To get a de-fragmented frame, use `newframe = frame.copy()`\n",
      "  final[entity + '_actual/med_' + str(time)] = final['Amount'] / final[entity + '_med_' + str(time)]\n",
      "C:\\Users\\Alex Tan\\AppData\\Local\\Temp\\ipykernel_15732\\783239204.py:31: PerformanceWarning: DataFrame is highly fragmented.  This is usually the result of calling `frame.insert` many times, which has poor performance.  Consider joining all columns at once using pd.concat(axis=1) instead. To get a de-fragmented frame, use `newframe = frame.copy()`\n",
      "  final[entity + '_actual/toal_' + str(time)] = final['Amount'] / final[entity + '_total_' + str(time)]\n",
      "C:\\Users\\Alex Tan\\AppData\\Local\\Temp\\ipykernel_15732\\783239204.py:22: PerformanceWarning: DataFrame is highly fragmented.  This is usually the result of calling `frame.insert` many times, which has poor performance.  Consider joining all columns at once using pd.concat(axis=1) instead. To get a de-fragmented frame, use `newframe = frame.copy()`\n",
      "  final[col_name] = final.Recnum.map(mapper2)\n",
      "C:\\Users\\Alex Tan\\AppData\\Local\\Temp\\ipykernel_15732\\783239204.py:24: PerformanceWarning: DataFrame is highly fragmented.  This is usually the result of calling `frame.insert` many times, which has poor performance.  Consider joining all columns at once using pd.concat(axis=1) instead. To get a de-fragmented frame, use `newframe = frame.copy()`\n",
      "  final[entity + '_avg_' + str(time)] = final.Recnum.map(temp2.groupby('Recnum')['Amount'].mean())\n",
      "C:\\Users\\Alex Tan\\AppData\\Local\\Temp\\ipykernel_15732\\783239204.py:25: PerformanceWarning: DataFrame is highly fragmented.  This is usually the result of calling `frame.insert` many times, which has poor performance.  Consider joining all columns at once using pd.concat(axis=1) instead. To get a de-fragmented frame, use `newframe = frame.copy()`\n",
      "  final[entity + '_max_' + str(time)] = final.Recnum.map(temp2.groupby('Recnum')['Amount'].max())\n",
      "C:\\Users\\Alex Tan\\AppData\\Local\\Temp\\ipykernel_15732\\783239204.py:26: PerformanceWarning: DataFrame is highly fragmented.  This is usually the result of calling `frame.insert` many times, which has poor performance.  Consider joining all columns at once using pd.concat(axis=1) instead. To get a de-fragmented frame, use `newframe = frame.copy()`\n",
      "  final[entity + '_med_' + str(time)] = final.Recnum.map(temp2.groupby('Recnum')['Amount'].median())\n",
      "C:\\Users\\Alex Tan\\AppData\\Local\\Temp\\ipykernel_15732\\783239204.py:27: PerformanceWarning: DataFrame is highly fragmented.  This is usually the result of calling `frame.insert` many times, which has poor performance.  Consider joining all columns at once using pd.concat(axis=1) instead. To get a de-fragmented frame, use `newframe = frame.copy()`\n",
      "  final[entity + '_total_' + str(time)] = final.Recnum.map(temp2.groupby('Recnum')['Amount'].sum())\n"
     ]
    },
    {
     "name": "stdout",
     "output_type": "stream",
     "text": [
      "Card_Merchdesc_count_14 ---> Done\n",
      "Card_Merchdesc amount variables over past 14 ---> Done\n",
      "Card_Merchdesc_count_30 ---> Done\n"
     ]
    },
    {
     "name": "stderr",
     "output_type": "stream",
     "text": [
      "C:\\Users\\Alex Tan\\AppData\\Local\\Temp\\ipykernel_15732\\783239204.py:28: PerformanceWarning: DataFrame is highly fragmented.  This is usually the result of calling `frame.insert` many times, which has poor performance.  Consider joining all columns at once using pd.concat(axis=1) instead. To get a de-fragmented frame, use `newframe = frame.copy()`\n",
      "  final[entity + '_actual/avg_' + str(time)] = final['Amount'] / final[entity + '_avg_' + str(time)]\n",
      "C:\\Users\\Alex Tan\\AppData\\Local\\Temp\\ipykernel_15732\\783239204.py:29: PerformanceWarning: DataFrame is highly fragmented.  This is usually the result of calling `frame.insert` many times, which has poor performance.  Consider joining all columns at once using pd.concat(axis=1) instead. To get a de-fragmented frame, use `newframe = frame.copy()`\n",
      "  final[entity + '_actual/max_' + str(time)] = final['Amount'] / final[entity + '_max_' + str(time)]\n",
      "C:\\Users\\Alex Tan\\AppData\\Local\\Temp\\ipykernel_15732\\783239204.py:30: PerformanceWarning: DataFrame is highly fragmented.  This is usually the result of calling `frame.insert` many times, which has poor performance.  Consider joining all columns at once using pd.concat(axis=1) instead. To get a de-fragmented frame, use `newframe = frame.copy()`\n",
      "  final[entity + '_actual/med_' + str(time)] = final['Amount'] / final[entity + '_med_' + str(time)]\n",
      "C:\\Users\\Alex Tan\\AppData\\Local\\Temp\\ipykernel_15732\\783239204.py:31: PerformanceWarning: DataFrame is highly fragmented.  This is usually the result of calling `frame.insert` many times, which has poor performance.  Consider joining all columns at once using pd.concat(axis=1) instead. To get a de-fragmented frame, use `newframe = frame.copy()`\n",
      "  final[entity + '_actual/toal_' + str(time)] = final['Amount'] / final[entity + '_total_' + str(time)]\n",
      "C:\\Users\\Alex Tan\\AppData\\Local\\Temp\\ipykernel_15732\\783239204.py:22: PerformanceWarning: DataFrame is highly fragmented.  This is usually the result of calling `frame.insert` many times, which has poor performance.  Consider joining all columns at once using pd.concat(axis=1) instead. To get a de-fragmented frame, use `newframe = frame.copy()`\n",
      "  final[col_name] = final.Recnum.map(mapper2)\n",
      "C:\\Users\\Alex Tan\\AppData\\Local\\Temp\\ipykernel_15732\\783239204.py:24: PerformanceWarning: DataFrame is highly fragmented.  This is usually the result of calling `frame.insert` many times, which has poor performance.  Consider joining all columns at once using pd.concat(axis=1) instead. To get a de-fragmented frame, use `newframe = frame.copy()`\n",
      "  final[entity + '_avg_' + str(time)] = final.Recnum.map(temp2.groupby('Recnum')['Amount'].mean())\n",
      "C:\\Users\\Alex Tan\\AppData\\Local\\Temp\\ipykernel_15732\\783239204.py:25: PerformanceWarning: DataFrame is highly fragmented.  This is usually the result of calling `frame.insert` many times, which has poor performance.  Consider joining all columns at once using pd.concat(axis=1) instead. To get a de-fragmented frame, use `newframe = frame.copy()`\n",
      "  final[entity + '_max_' + str(time)] = final.Recnum.map(temp2.groupby('Recnum')['Amount'].max())\n",
      "C:\\Users\\Alex Tan\\AppData\\Local\\Temp\\ipykernel_15732\\783239204.py:26: PerformanceWarning: DataFrame is highly fragmented.  This is usually the result of calling `frame.insert` many times, which has poor performance.  Consider joining all columns at once using pd.concat(axis=1) instead. To get a de-fragmented frame, use `newframe = frame.copy()`\n",
      "  final[entity + '_med_' + str(time)] = final.Recnum.map(temp2.groupby('Recnum')['Amount'].median())\n",
      "C:\\Users\\Alex Tan\\AppData\\Local\\Temp\\ipykernel_15732\\783239204.py:27: PerformanceWarning: DataFrame is highly fragmented.  This is usually the result of calling `frame.insert` many times, which has poor performance.  Consider joining all columns at once using pd.concat(axis=1) instead. To get a de-fragmented frame, use `newframe = frame.copy()`\n",
      "  final[entity + '_total_' + str(time)] = final.Recnum.map(temp2.groupby('Recnum')['Amount'].sum())\n",
      "C:\\Users\\Alex Tan\\AppData\\Local\\Temp\\ipykernel_15732\\783239204.py:28: PerformanceWarning: DataFrame is highly fragmented.  This is usually the result of calling `frame.insert` many times, which has poor performance.  Consider joining all columns at once using pd.concat(axis=1) instead. To get a de-fragmented frame, use `newframe = frame.copy()`\n",
      "  final[entity + '_actual/avg_' + str(time)] = final['Amount'] / final[entity + '_avg_' + str(time)]\n",
      "C:\\Users\\Alex Tan\\AppData\\Local\\Temp\\ipykernel_15732\\783239204.py:29: PerformanceWarning: DataFrame is highly fragmented.  This is usually the result of calling `frame.insert` many times, which has poor performance.  Consider joining all columns at once using pd.concat(axis=1) instead. To get a de-fragmented frame, use `newframe = frame.copy()`\n",
      "  final[entity + '_actual/max_' + str(time)] = final['Amount'] / final[entity + '_max_' + str(time)]\n",
      "C:\\Users\\Alex Tan\\AppData\\Local\\Temp\\ipykernel_15732\\783239204.py:30: PerformanceWarning: DataFrame is highly fragmented.  This is usually the result of calling `frame.insert` many times, which has poor performance.  Consider joining all columns at once using pd.concat(axis=1) instead. To get a de-fragmented frame, use `newframe = frame.copy()`\n",
      "  final[entity + '_actual/med_' + str(time)] = final['Amount'] / final[entity + '_med_' + str(time)]\n",
      "C:\\Users\\Alex Tan\\AppData\\Local\\Temp\\ipykernel_15732\\783239204.py:31: PerformanceWarning: DataFrame is highly fragmented.  This is usually the result of calling `frame.insert` many times, which has poor performance.  Consider joining all columns at once using pd.concat(axis=1) instead. To get a de-fragmented frame, use `newframe = frame.copy()`\n",
      "  final[entity + '_actual/toal_' + str(time)] = final['Amount'] / final[entity + '_total_' + str(time)]\n"
     ]
    },
    {
     "name": "stdout",
     "output_type": "stream",
     "text": [
      "Card_Merchdesc amount variables over past 30 ---> Done\n",
      "Run time for the last entity ----------------- 1.2843388000000004s\n"
     ]
    },
    {
     "name": "stderr",
     "output_type": "stream",
     "text": [
      "C:\\Users\\Alex Tan\\AppData\\Local\\Temp\\ipykernel_15732\\783239204.py:13: PerformanceWarning: DataFrame is highly fragmented.  This is usually the result of calling `frame.insert` many times, which has poor performance.  Consider joining all columns at once using pd.concat(axis=1) instead. To get a de-fragmented frame, use `newframe = frame.copy()`\n",
      "  final[entity + '_day_since'] = final.Recnum.map(mapper)\n"
     ]
    },
    {
     "name": "stdout",
     "output_type": "stream",
     "text": [
      "\n",
      "Merchnum_desc_day_since ---> Done\n"
     ]
    },
    {
     "name": "stderr",
     "output_type": "stream",
     "text": [
      "C:\\Users\\Alex Tan\\AppData\\Local\\Temp\\ipykernel_15732\\783239204.py:22: PerformanceWarning: DataFrame is highly fragmented.  This is usually the result of calling `frame.insert` many times, which has poor performance.  Consider joining all columns at once using pd.concat(axis=1) instead. To get a de-fragmented frame, use `newframe = frame.copy()`\n",
      "  final[col_name] = final.Recnum.map(mapper2)\n",
      "C:\\Users\\Alex Tan\\AppData\\Local\\Temp\\ipykernel_15732\\783239204.py:24: PerformanceWarning: DataFrame is highly fragmented.  This is usually the result of calling `frame.insert` many times, which has poor performance.  Consider joining all columns at once using pd.concat(axis=1) instead. To get a de-fragmented frame, use `newframe = frame.copy()`\n",
      "  final[entity + '_avg_' + str(time)] = final.Recnum.map(temp2.groupby('Recnum')['Amount'].mean())\n",
      "C:\\Users\\Alex Tan\\AppData\\Local\\Temp\\ipykernel_15732\\783239204.py:25: PerformanceWarning: DataFrame is highly fragmented.  This is usually the result of calling `frame.insert` many times, which has poor performance.  Consider joining all columns at once using pd.concat(axis=1) instead. To get a de-fragmented frame, use `newframe = frame.copy()`\n",
      "  final[entity + '_max_' + str(time)] = final.Recnum.map(temp2.groupby('Recnum')['Amount'].max())\n",
      "C:\\Users\\Alex Tan\\AppData\\Local\\Temp\\ipykernel_15732\\783239204.py:26: PerformanceWarning: DataFrame is highly fragmented.  This is usually the result of calling `frame.insert` many times, which has poor performance.  Consider joining all columns at once using pd.concat(axis=1) instead. To get a de-fragmented frame, use `newframe = frame.copy()`\n",
      "  final[entity + '_med_' + str(time)] = final.Recnum.map(temp2.groupby('Recnum')['Amount'].median())\n",
      "C:\\Users\\Alex Tan\\AppData\\Local\\Temp\\ipykernel_15732\\783239204.py:27: PerformanceWarning: DataFrame is highly fragmented.  This is usually the result of calling `frame.insert` many times, which has poor performance.  Consider joining all columns at once using pd.concat(axis=1) instead. To get a de-fragmented frame, use `newframe = frame.copy()`\n",
      "  final[entity + '_total_' + str(time)] = final.Recnum.map(temp2.groupby('Recnum')['Amount'].sum())\n",
      "C:\\Users\\Alex Tan\\AppData\\Local\\Temp\\ipykernel_15732\\783239204.py:28: PerformanceWarning: DataFrame is highly fragmented.  This is usually the result of calling `frame.insert` many times, which has poor performance.  Consider joining all columns at once using pd.concat(axis=1) instead. To get a de-fragmented frame, use `newframe = frame.copy()`\n",
      "  final[entity + '_actual/avg_' + str(time)] = final['Amount'] / final[entity + '_avg_' + str(time)]\n",
      "C:\\Users\\Alex Tan\\AppData\\Local\\Temp\\ipykernel_15732\\783239204.py:29: PerformanceWarning: DataFrame is highly fragmented.  This is usually the result of calling `frame.insert` many times, which has poor performance.  Consider joining all columns at once using pd.concat(axis=1) instead. To get a de-fragmented frame, use `newframe = frame.copy()`\n",
      "  final[entity + '_actual/max_' + str(time)] = final['Amount'] / final[entity + '_max_' + str(time)]\n",
      "C:\\Users\\Alex Tan\\AppData\\Local\\Temp\\ipykernel_15732\\783239204.py:30: PerformanceWarning: DataFrame is highly fragmented.  This is usually the result of calling `frame.insert` many times, which has poor performance.  Consider joining all columns at once using pd.concat(axis=1) instead. To get a de-fragmented frame, use `newframe = frame.copy()`\n",
      "  final[entity + '_actual/med_' + str(time)] = final['Amount'] / final[entity + '_med_' + str(time)]\n",
      "C:\\Users\\Alex Tan\\AppData\\Local\\Temp\\ipykernel_15732\\783239204.py:31: PerformanceWarning: DataFrame is highly fragmented.  This is usually the result of calling `frame.insert` many times, which has poor performance.  Consider joining all columns at once using pd.concat(axis=1) instead. To get a de-fragmented frame, use `newframe = frame.copy()`\n",
      "  final[entity + '_actual/toal_' + str(time)] = final['Amount'] / final[entity + '_total_' + str(time)]\n"
     ]
    },
    {
     "name": "stdout",
     "output_type": "stream",
     "text": [
      "Merchnum_desc_count_0 ---> Done\n",
      "Merchnum_desc amount variables over past 0 ---> Done\n"
     ]
    },
    {
     "name": "stderr",
     "output_type": "stream",
     "text": [
      "C:\\Users\\Alex Tan\\AppData\\Local\\Temp\\ipykernel_15732\\783239204.py:22: PerformanceWarning: DataFrame is highly fragmented.  This is usually the result of calling `frame.insert` many times, which has poor performance.  Consider joining all columns at once using pd.concat(axis=1) instead. To get a de-fragmented frame, use `newframe = frame.copy()`\n",
      "  final[col_name] = final.Recnum.map(mapper2)\n",
      "C:\\Users\\Alex Tan\\AppData\\Local\\Temp\\ipykernel_15732\\783239204.py:24: PerformanceWarning: DataFrame is highly fragmented.  This is usually the result of calling `frame.insert` many times, which has poor performance.  Consider joining all columns at once using pd.concat(axis=1) instead. To get a de-fragmented frame, use `newframe = frame.copy()`\n",
      "  final[entity + '_avg_' + str(time)] = final.Recnum.map(temp2.groupby('Recnum')['Amount'].mean())\n",
      "C:\\Users\\Alex Tan\\AppData\\Local\\Temp\\ipykernel_15732\\783239204.py:25: PerformanceWarning: DataFrame is highly fragmented.  This is usually the result of calling `frame.insert` many times, which has poor performance.  Consider joining all columns at once using pd.concat(axis=1) instead. To get a de-fragmented frame, use `newframe = frame.copy()`\n",
      "  final[entity + '_max_' + str(time)] = final.Recnum.map(temp2.groupby('Recnum')['Amount'].max())\n",
      "C:\\Users\\Alex Tan\\AppData\\Local\\Temp\\ipykernel_15732\\783239204.py:26: PerformanceWarning: DataFrame is highly fragmented.  This is usually the result of calling `frame.insert` many times, which has poor performance.  Consider joining all columns at once using pd.concat(axis=1) instead. To get a de-fragmented frame, use `newframe = frame.copy()`\n",
      "  final[entity + '_med_' + str(time)] = final.Recnum.map(temp2.groupby('Recnum')['Amount'].median())\n",
      "C:\\Users\\Alex Tan\\AppData\\Local\\Temp\\ipykernel_15732\\783239204.py:27: PerformanceWarning: DataFrame is highly fragmented.  This is usually the result of calling `frame.insert` many times, which has poor performance.  Consider joining all columns at once using pd.concat(axis=1) instead. To get a de-fragmented frame, use `newframe = frame.copy()`\n",
      "  final[entity + '_total_' + str(time)] = final.Recnum.map(temp2.groupby('Recnum')['Amount'].sum())\n",
      "C:\\Users\\Alex Tan\\AppData\\Local\\Temp\\ipykernel_15732\\783239204.py:28: PerformanceWarning: DataFrame is highly fragmented.  This is usually the result of calling `frame.insert` many times, which has poor performance.  Consider joining all columns at once using pd.concat(axis=1) instead. To get a de-fragmented frame, use `newframe = frame.copy()`\n",
      "  final[entity + '_actual/avg_' + str(time)] = final['Amount'] / final[entity + '_avg_' + str(time)]\n",
      "C:\\Users\\Alex Tan\\AppData\\Local\\Temp\\ipykernel_15732\\783239204.py:29: PerformanceWarning: DataFrame is highly fragmented.  This is usually the result of calling `frame.insert` many times, which has poor performance.  Consider joining all columns at once using pd.concat(axis=1) instead. To get a de-fragmented frame, use `newframe = frame.copy()`\n",
      "  final[entity + '_actual/max_' + str(time)] = final['Amount'] / final[entity + '_max_' + str(time)]\n",
      "C:\\Users\\Alex Tan\\AppData\\Local\\Temp\\ipykernel_15732\\783239204.py:30: PerformanceWarning: DataFrame is highly fragmented.  This is usually the result of calling `frame.insert` many times, which has poor performance.  Consider joining all columns at once using pd.concat(axis=1) instead. To get a de-fragmented frame, use `newframe = frame.copy()`\n",
      "  final[entity + '_actual/med_' + str(time)] = final['Amount'] / final[entity + '_med_' + str(time)]\n",
      "C:\\Users\\Alex Tan\\AppData\\Local\\Temp\\ipykernel_15732\\783239204.py:31: PerformanceWarning: DataFrame is highly fragmented.  This is usually the result of calling `frame.insert` many times, which has poor performance.  Consider joining all columns at once using pd.concat(axis=1) instead. To get a de-fragmented frame, use `newframe = frame.copy()`\n",
      "  final[entity + '_actual/toal_' + str(time)] = final['Amount'] / final[entity + '_total_' + str(time)]\n"
     ]
    },
    {
     "name": "stdout",
     "output_type": "stream",
     "text": [
      "Merchnum_desc_count_1 ---> Done\n",
      "Merchnum_desc amount variables over past 1 ---> Done\n"
     ]
    },
    {
     "name": "stderr",
     "output_type": "stream",
     "text": [
      "C:\\Users\\Alex Tan\\AppData\\Local\\Temp\\ipykernel_15732\\783239204.py:22: PerformanceWarning: DataFrame is highly fragmented.  This is usually the result of calling `frame.insert` many times, which has poor performance.  Consider joining all columns at once using pd.concat(axis=1) instead. To get a de-fragmented frame, use `newframe = frame.copy()`\n",
      "  final[col_name] = final.Recnum.map(mapper2)\n",
      "C:\\Users\\Alex Tan\\AppData\\Local\\Temp\\ipykernel_15732\\783239204.py:24: PerformanceWarning: DataFrame is highly fragmented.  This is usually the result of calling `frame.insert` many times, which has poor performance.  Consider joining all columns at once using pd.concat(axis=1) instead. To get a de-fragmented frame, use `newframe = frame.copy()`\n",
      "  final[entity + '_avg_' + str(time)] = final.Recnum.map(temp2.groupby('Recnum')['Amount'].mean())\n",
      "C:\\Users\\Alex Tan\\AppData\\Local\\Temp\\ipykernel_15732\\783239204.py:25: PerformanceWarning: DataFrame is highly fragmented.  This is usually the result of calling `frame.insert` many times, which has poor performance.  Consider joining all columns at once using pd.concat(axis=1) instead. To get a de-fragmented frame, use `newframe = frame.copy()`\n",
      "  final[entity + '_max_' + str(time)] = final.Recnum.map(temp2.groupby('Recnum')['Amount'].max())\n",
      "C:\\Users\\Alex Tan\\AppData\\Local\\Temp\\ipykernel_15732\\783239204.py:26: PerformanceWarning: DataFrame is highly fragmented.  This is usually the result of calling `frame.insert` many times, which has poor performance.  Consider joining all columns at once using pd.concat(axis=1) instead. To get a de-fragmented frame, use `newframe = frame.copy()`\n",
      "  final[entity + '_med_' + str(time)] = final.Recnum.map(temp2.groupby('Recnum')['Amount'].median())\n",
      "C:\\Users\\Alex Tan\\AppData\\Local\\Temp\\ipykernel_15732\\783239204.py:27: PerformanceWarning: DataFrame is highly fragmented.  This is usually the result of calling `frame.insert` many times, which has poor performance.  Consider joining all columns at once using pd.concat(axis=1) instead. To get a de-fragmented frame, use `newframe = frame.copy()`\n",
      "  final[entity + '_total_' + str(time)] = final.Recnum.map(temp2.groupby('Recnum')['Amount'].sum())\n",
      "C:\\Users\\Alex Tan\\AppData\\Local\\Temp\\ipykernel_15732\\783239204.py:28: PerformanceWarning: DataFrame is highly fragmented.  This is usually the result of calling `frame.insert` many times, which has poor performance.  Consider joining all columns at once using pd.concat(axis=1) instead. To get a de-fragmented frame, use `newframe = frame.copy()`\n",
      "  final[entity + '_actual/avg_' + str(time)] = final['Amount'] / final[entity + '_avg_' + str(time)]\n",
      "C:\\Users\\Alex Tan\\AppData\\Local\\Temp\\ipykernel_15732\\783239204.py:29: PerformanceWarning: DataFrame is highly fragmented.  This is usually the result of calling `frame.insert` many times, which has poor performance.  Consider joining all columns at once using pd.concat(axis=1) instead. To get a de-fragmented frame, use `newframe = frame.copy()`\n",
      "  final[entity + '_actual/max_' + str(time)] = final['Amount'] / final[entity + '_max_' + str(time)]\n",
      "C:\\Users\\Alex Tan\\AppData\\Local\\Temp\\ipykernel_15732\\783239204.py:30: PerformanceWarning: DataFrame is highly fragmented.  This is usually the result of calling `frame.insert` many times, which has poor performance.  Consider joining all columns at once using pd.concat(axis=1) instead. To get a de-fragmented frame, use `newframe = frame.copy()`\n",
      "  final[entity + '_actual/med_' + str(time)] = final['Amount'] / final[entity + '_med_' + str(time)]\n",
      "C:\\Users\\Alex Tan\\AppData\\Local\\Temp\\ipykernel_15732\\783239204.py:31: PerformanceWarning: DataFrame is highly fragmented.  This is usually the result of calling `frame.insert` many times, which has poor performance.  Consider joining all columns at once using pd.concat(axis=1) instead. To get a de-fragmented frame, use `newframe = frame.copy()`\n",
      "  final[entity + '_actual/toal_' + str(time)] = final['Amount'] / final[entity + '_total_' + str(time)]\n"
     ]
    },
    {
     "name": "stdout",
     "output_type": "stream",
     "text": [
      "Merchnum_desc_count_3 ---> Done\n",
      "Merchnum_desc amount variables over past 3 ---> Done\n"
     ]
    },
    {
     "name": "stderr",
     "output_type": "stream",
     "text": [
      "C:\\Users\\Alex Tan\\AppData\\Local\\Temp\\ipykernel_15732\\783239204.py:22: PerformanceWarning: DataFrame is highly fragmented.  This is usually the result of calling `frame.insert` many times, which has poor performance.  Consider joining all columns at once using pd.concat(axis=1) instead. To get a de-fragmented frame, use `newframe = frame.copy()`\n",
      "  final[col_name] = final.Recnum.map(mapper2)\n",
      "C:\\Users\\Alex Tan\\AppData\\Local\\Temp\\ipykernel_15732\\783239204.py:24: PerformanceWarning: DataFrame is highly fragmented.  This is usually the result of calling `frame.insert` many times, which has poor performance.  Consider joining all columns at once using pd.concat(axis=1) instead. To get a de-fragmented frame, use `newframe = frame.copy()`\n",
      "  final[entity + '_avg_' + str(time)] = final.Recnum.map(temp2.groupby('Recnum')['Amount'].mean())\n",
      "C:\\Users\\Alex Tan\\AppData\\Local\\Temp\\ipykernel_15732\\783239204.py:25: PerformanceWarning: DataFrame is highly fragmented.  This is usually the result of calling `frame.insert` many times, which has poor performance.  Consider joining all columns at once using pd.concat(axis=1) instead. To get a de-fragmented frame, use `newframe = frame.copy()`\n",
      "  final[entity + '_max_' + str(time)] = final.Recnum.map(temp2.groupby('Recnum')['Amount'].max())\n",
      "C:\\Users\\Alex Tan\\AppData\\Local\\Temp\\ipykernel_15732\\783239204.py:26: PerformanceWarning: DataFrame is highly fragmented.  This is usually the result of calling `frame.insert` many times, which has poor performance.  Consider joining all columns at once using pd.concat(axis=1) instead. To get a de-fragmented frame, use `newframe = frame.copy()`\n",
      "  final[entity + '_med_' + str(time)] = final.Recnum.map(temp2.groupby('Recnum')['Amount'].median())\n",
      "C:\\Users\\Alex Tan\\AppData\\Local\\Temp\\ipykernel_15732\\783239204.py:27: PerformanceWarning: DataFrame is highly fragmented.  This is usually the result of calling `frame.insert` many times, which has poor performance.  Consider joining all columns at once using pd.concat(axis=1) instead. To get a de-fragmented frame, use `newframe = frame.copy()`\n",
      "  final[entity + '_total_' + str(time)] = final.Recnum.map(temp2.groupby('Recnum')['Amount'].sum())\n",
      "C:\\Users\\Alex Tan\\AppData\\Local\\Temp\\ipykernel_15732\\783239204.py:28: PerformanceWarning: DataFrame is highly fragmented.  This is usually the result of calling `frame.insert` many times, which has poor performance.  Consider joining all columns at once using pd.concat(axis=1) instead. To get a de-fragmented frame, use `newframe = frame.copy()`\n",
      "  final[entity + '_actual/avg_' + str(time)] = final['Amount'] / final[entity + '_avg_' + str(time)]\n",
      "C:\\Users\\Alex Tan\\AppData\\Local\\Temp\\ipykernel_15732\\783239204.py:29: PerformanceWarning: DataFrame is highly fragmented.  This is usually the result of calling `frame.insert` many times, which has poor performance.  Consider joining all columns at once using pd.concat(axis=1) instead. To get a de-fragmented frame, use `newframe = frame.copy()`\n",
      "  final[entity + '_actual/max_' + str(time)] = final['Amount'] / final[entity + '_max_' + str(time)]\n"
     ]
    },
    {
     "name": "stdout",
     "output_type": "stream",
     "text": [
      "Merchnum_desc_count_7 ---> Done\n"
     ]
    },
    {
     "name": "stderr",
     "output_type": "stream",
     "text": [
      "C:\\Users\\Alex Tan\\AppData\\Local\\Temp\\ipykernel_15732\\783239204.py:30: PerformanceWarning: DataFrame is highly fragmented.  This is usually the result of calling `frame.insert` many times, which has poor performance.  Consider joining all columns at once using pd.concat(axis=1) instead. To get a de-fragmented frame, use `newframe = frame.copy()`\n",
      "  final[entity + '_actual/med_' + str(time)] = final['Amount'] / final[entity + '_med_' + str(time)]\n",
      "C:\\Users\\Alex Tan\\AppData\\Local\\Temp\\ipykernel_15732\\783239204.py:31: PerformanceWarning: DataFrame is highly fragmented.  This is usually the result of calling `frame.insert` many times, which has poor performance.  Consider joining all columns at once using pd.concat(axis=1) instead. To get a de-fragmented frame, use `newframe = frame.copy()`\n",
      "  final[entity + '_actual/toal_' + str(time)] = final['Amount'] / final[entity + '_total_' + str(time)]\n"
     ]
    },
    {
     "name": "stdout",
     "output_type": "stream",
     "text": [
      "Merchnum_desc amount variables over past 7 ---> Done\n"
     ]
    },
    {
     "name": "stderr",
     "output_type": "stream",
     "text": [
      "C:\\Users\\Alex Tan\\AppData\\Local\\Temp\\ipykernel_15732\\783239204.py:22: PerformanceWarning: DataFrame is highly fragmented.  This is usually the result of calling `frame.insert` many times, which has poor performance.  Consider joining all columns at once using pd.concat(axis=1) instead. To get a de-fragmented frame, use `newframe = frame.copy()`\n",
      "  final[col_name] = final.Recnum.map(mapper2)\n",
      "C:\\Users\\Alex Tan\\AppData\\Local\\Temp\\ipykernel_15732\\783239204.py:24: PerformanceWarning: DataFrame is highly fragmented.  This is usually the result of calling `frame.insert` many times, which has poor performance.  Consider joining all columns at once using pd.concat(axis=1) instead. To get a de-fragmented frame, use `newframe = frame.copy()`\n",
      "  final[entity + '_avg_' + str(time)] = final.Recnum.map(temp2.groupby('Recnum')['Amount'].mean())\n",
      "C:\\Users\\Alex Tan\\AppData\\Local\\Temp\\ipykernel_15732\\783239204.py:25: PerformanceWarning: DataFrame is highly fragmented.  This is usually the result of calling `frame.insert` many times, which has poor performance.  Consider joining all columns at once using pd.concat(axis=1) instead. To get a de-fragmented frame, use `newframe = frame.copy()`\n",
      "  final[entity + '_max_' + str(time)] = final.Recnum.map(temp2.groupby('Recnum')['Amount'].max())\n",
      "C:\\Users\\Alex Tan\\AppData\\Local\\Temp\\ipykernel_15732\\783239204.py:26: PerformanceWarning: DataFrame is highly fragmented.  This is usually the result of calling `frame.insert` many times, which has poor performance.  Consider joining all columns at once using pd.concat(axis=1) instead. To get a de-fragmented frame, use `newframe = frame.copy()`\n",
      "  final[entity + '_med_' + str(time)] = final.Recnum.map(temp2.groupby('Recnum')['Amount'].median())\n",
      "C:\\Users\\Alex Tan\\AppData\\Local\\Temp\\ipykernel_15732\\783239204.py:27: PerformanceWarning: DataFrame is highly fragmented.  This is usually the result of calling `frame.insert` many times, which has poor performance.  Consider joining all columns at once using pd.concat(axis=1) instead. To get a de-fragmented frame, use `newframe = frame.copy()`\n",
      "  final[entity + '_total_' + str(time)] = final.Recnum.map(temp2.groupby('Recnum')['Amount'].sum())\n"
     ]
    },
    {
     "name": "stdout",
     "output_type": "stream",
     "text": [
      "Merchnum_desc_count_14 ---> Done\n"
     ]
    },
    {
     "name": "stderr",
     "output_type": "stream",
     "text": [
      "C:\\Users\\Alex Tan\\AppData\\Local\\Temp\\ipykernel_15732\\783239204.py:28: PerformanceWarning: DataFrame is highly fragmented.  This is usually the result of calling `frame.insert` many times, which has poor performance.  Consider joining all columns at once using pd.concat(axis=1) instead. To get a de-fragmented frame, use `newframe = frame.copy()`\n",
      "  final[entity + '_actual/avg_' + str(time)] = final['Amount'] / final[entity + '_avg_' + str(time)]\n",
      "C:\\Users\\Alex Tan\\AppData\\Local\\Temp\\ipykernel_15732\\783239204.py:29: PerformanceWarning: DataFrame is highly fragmented.  This is usually the result of calling `frame.insert` many times, which has poor performance.  Consider joining all columns at once using pd.concat(axis=1) instead. To get a de-fragmented frame, use `newframe = frame.copy()`\n",
      "  final[entity + '_actual/max_' + str(time)] = final['Amount'] / final[entity + '_max_' + str(time)]\n",
      "C:\\Users\\Alex Tan\\AppData\\Local\\Temp\\ipykernel_15732\\783239204.py:30: PerformanceWarning: DataFrame is highly fragmented.  This is usually the result of calling `frame.insert` many times, which has poor performance.  Consider joining all columns at once using pd.concat(axis=1) instead. To get a de-fragmented frame, use `newframe = frame.copy()`\n",
      "  final[entity + '_actual/med_' + str(time)] = final['Amount'] / final[entity + '_med_' + str(time)]\n",
      "C:\\Users\\Alex Tan\\AppData\\Local\\Temp\\ipykernel_15732\\783239204.py:31: PerformanceWarning: DataFrame is highly fragmented.  This is usually the result of calling `frame.insert` many times, which has poor performance.  Consider joining all columns at once using pd.concat(axis=1) instead. To get a de-fragmented frame, use `newframe = frame.copy()`\n",
      "  final[entity + '_actual/toal_' + str(time)] = final['Amount'] / final[entity + '_total_' + str(time)]\n"
     ]
    },
    {
     "name": "stdout",
     "output_type": "stream",
     "text": [
      "Merchnum_desc amount variables over past 14 ---> Done\n"
     ]
    },
    {
     "name": "stderr",
     "output_type": "stream",
     "text": [
      "C:\\Users\\Alex Tan\\AppData\\Local\\Temp\\ipykernel_15732\\783239204.py:22: PerformanceWarning: DataFrame is highly fragmented.  This is usually the result of calling `frame.insert` many times, which has poor performance.  Consider joining all columns at once using pd.concat(axis=1) instead. To get a de-fragmented frame, use `newframe = frame.copy()`\n",
      "  final[col_name] = final.Recnum.map(mapper2)\n",
      "C:\\Users\\Alex Tan\\AppData\\Local\\Temp\\ipykernel_15732\\783239204.py:24: PerformanceWarning: DataFrame is highly fragmented.  This is usually the result of calling `frame.insert` many times, which has poor performance.  Consider joining all columns at once using pd.concat(axis=1) instead. To get a de-fragmented frame, use `newframe = frame.copy()`\n",
      "  final[entity + '_avg_' + str(time)] = final.Recnum.map(temp2.groupby('Recnum')['Amount'].mean())\n",
      "C:\\Users\\Alex Tan\\AppData\\Local\\Temp\\ipykernel_15732\\783239204.py:25: PerformanceWarning: DataFrame is highly fragmented.  This is usually the result of calling `frame.insert` many times, which has poor performance.  Consider joining all columns at once using pd.concat(axis=1) instead. To get a de-fragmented frame, use `newframe = frame.copy()`\n",
      "  final[entity + '_max_' + str(time)] = final.Recnum.map(temp2.groupby('Recnum')['Amount'].max())\n",
      "C:\\Users\\Alex Tan\\AppData\\Local\\Temp\\ipykernel_15732\\783239204.py:26: PerformanceWarning: DataFrame is highly fragmented.  This is usually the result of calling `frame.insert` many times, which has poor performance.  Consider joining all columns at once using pd.concat(axis=1) instead. To get a de-fragmented frame, use `newframe = frame.copy()`\n",
      "  final[entity + '_med_' + str(time)] = final.Recnum.map(temp2.groupby('Recnum')['Amount'].median())\n"
     ]
    },
    {
     "name": "stdout",
     "output_type": "stream",
     "text": [
      "Merchnum_desc_count_30 ---> Done\n"
     ]
    },
    {
     "name": "stderr",
     "output_type": "stream",
     "text": [
      "C:\\Users\\Alex Tan\\AppData\\Local\\Temp\\ipykernel_15732\\783239204.py:27: PerformanceWarning: DataFrame is highly fragmented.  This is usually the result of calling `frame.insert` many times, which has poor performance.  Consider joining all columns at once using pd.concat(axis=1) instead. To get a de-fragmented frame, use `newframe = frame.copy()`\n",
      "  final[entity + '_total_' + str(time)] = final.Recnum.map(temp2.groupby('Recnum')['Amount'].sum())\n",
      "C:\\Users\\Alex Tan\\AppData\\Local\\Temp\\ipykernel_15732\\783239204.py:28: PerformanceWarning: DataFrame is highly fragmented.  This is usually the result of calling `frame.insert` many times, which has poor performance.  Consider joining all columns at once using pd.concat(axis=1) instead. To get a de-fragmented frame, use `newframe = frame.copy()`\n",
      "  final[entity + '_actual/avg_' + str(time)] = final['Amount'] / final[entity + '_avg_' + str(time)]\n",
      "C:\\Users\\Alex Tan\\AppData\\Local\\Temp\\ipykernel_15732\\783239204.py:29: PerformanceWarning: DataFrame is highly fragmented.  This is usually the result of calling `frame.insert` many times, which has poor performance.  Consider joining all columns at once using pd.concat(axis=1) instead. To get a de-fragmented frame, use `newframe = frame.copy()`\n",
      "  final[entity + '_actual/max_' + str(time)] = final['Amount'] / final[entity + '_max_' + str(time)]\n",
      "C:\\Users\\Alex Tan\\AppData\\Local\\Temp\\ipykernel_15732\\783239204.py:30: PerformanceWarning: DataFrame is highly fragmented.  This is usually the result of calling `frame.insert` many times, which has poor performance.  Consider joining all columns at once using pd.concat(axis=1) instead. To get a de-fragmented frame, use `newframe = frame.copy()`\n",
      "  final[entity + '_actual/med_' + str(time)] = final['Amount'] / final[entity + '_med_' + str(time)]\n",
      "C:\\Users\\Alex Tan\\AppData\\Local\\Temp\\ipykernel_15732\\783239204.py:31: PerformanceWarning: DataFrame is highly fragmented.  This is usually the result of calling `frame.insert` many times, which has poor performance.  Consider joining all columns at once using pd.concat(axis=1) instead. To get a de-fragmented frame, use `newframe = frame.copy()`\n",
      "  final[entity + '_actual/toal_' + str(time)] = final['Amount'] / final[entity + '_total_' + str(time)]\n"
     ]
    },
    {
     "name": "stdout",
     "output_type": "stream",
     "text": [
      "Merchnum_desc amount variables over past 30 ---> Done\n",
      "Run time for the last entity ----------------- 4.473524500000011s\n"
     ]
    },
    {
     "name": "stderr",
     "output_type": "stream",
     "text": [
      "C:\\Users\\Alex Tan\\AppData\\Local\\Temp\\ipykernel_15732\\783239204.py:13: PerformanceWarning: DataFrame is highly fragmented.  This is usually the result of calling `frame.insert` many times, which has poor performance.  Consider joining all columns at once using pd.concat(axis=1) instead. To get a de-fragmented frame, use `newframe = frame.copy()`\n",
      "  final[entity + '_day_since'] = final.Recnum.map(mapper)\n",
      "C:\\Users\\Alex Tan\\AppData\\Local\\Temp\\ipykernel_15732\\783239204.py:22: PerformanceWarning: DataFrame is highly fragmented.  This is usually the result of calling `frame.insert` many times, which has poor performance.  Consider joining all columns at once using pd.concat(axis=1) instead. To get a de-fragmented frame, use `newframe = frame.copy()`\n",
      "  final[col_name] = final.Recnum.map(mapper2)\n",
      "C:\\Users\\Alex Tan\\AppData\\Local\\Temp\\ipykernel_15732\\783239204.py:24: PerformanceWarning: DataFrame is highly fragmented.  This is usually the result of calling `frame.insert` many times, which has poor performance.  Consider joining all columns at once using pd.concat(axis=1) instead. To get a de-fragmented frame, use `newframe = frame.copy()`\n",
      "  final[entity + '_avg_' + str(time)] = final.Recnum.map(temp2.groupby('Recnum')['Amount'].mean())\n",
      "C:\\Users\\Alex Tan\\AppData\\Local\\Temp\\ipykernel_15732\\783239204.py:25: PerformanceWarning: DataFrame is highly fragmented.  This is usually the result of calling `frame.insert` many times, which has poor performance.  Consider joining all columns at once using pd.concat(axis=1) instead. To get a de-fragmented frame, use `newframe = frame.copy()`\n",
      "  final[entity + '_max_' + str(time)] = final.Recnum.map(temp2.groupby('Recnum')['Amount'].max())\n",
      "C:\\Users\\Alex Tan\\AppData\\Local\\Temp\\ipykernel_15732\\783239204.py:26: PerformanceWarning: DataFrame is highly fragmented.  This is usually the result of calling `frame.insert` many times, which has poor performance.  Consider joining all columns at once using pd.concat(axis=1) instead. To get a de-fragmented frame, use `newframe = frame.copy()`\n",
      "  final[entity + '_med_' + str(time)] = final.Recnum.map(temp2.groupby('Recnum')['Amount'].median())\n",
      "C:\\Users\\Alex Tan\\AppData\\Local\\Temp\\ipykernel_15732\\783239204.py:27: PerformanceWarning: DataFrame is highly fragmented.  This is usually the result of calling `frame.insert` many times, which has poor performance.  Consider joining all columns at once using pd.concat(axis=1) instead. To get a de-fragmented frame, use `newframe = frame.copy()`\n",
      "  final[entity + '_total_' + str(time)] = final.Recnum.map(temp2.groupby('Recnum')['Amount'].sum())\n",
      "C:\\Users\\Alex Tan\\AppData\\Local\\Temp\\ipykernel_15732\\783239204.py:28: PerformanceWarning: DataFrame is highly fragmented.  This is usually the result of calling `frame.insert` many times, which has poor performance.  Consider joining all columns at once using pd.concat(axis=1) instead. To get a de-fragmented frame, use `newframe = frame.copy()`\n",
      "  final[entity + '_actual/avg_' + str(time)] = final['Amount'] / final[entity + '_avg_' + str(time)]\n"
     ]
    },
    {
     "name": "stdout",
     "output_type": "stream",
     "text": [
      "\n",
      "Card_Merchnum_desc_day_since ---> Done\n",
      "Card_Merchnum_desc_count_0 ---> Done\n"
     ]
    },
    {
     "name": "stderr",
     "output_type": "stream",
     "text": [
      "C:\\Users\\Alex Tan\\AppData\\Local\\Temp\\ipykernel_15732\\783239204.py:29: PerformanceWarning: DataFrame is highly fragmented.  This is usually the result of calling `frame.insert` many times, which has poor performance.  Consider joining all columns at once using pd.concat(axis=1) instead. To get a de-fragmented frame, use `newframe = frame.copy()`\n",
      "  final[entity + '_actual/max_' + str(time)] = final['Amount'] / final[entity + '_max_' + str(time)]\n",
      "C:\\Users\\Alex Tan\\AppData\\Local\\Temp\\ipykernel_15732\\783239204.py:30: PerformanceWarning: DataFrame is highly fragmented.  This is usually the result of calling `frame.insert` many times, which has poor performance.  Consider joining all columns at once using pd.concat(axis=1) instead. To get a de-fragmented frame, use `newframe = frame.copy()`\n",
      "  final[entity + '_actual/med_' + str(time)] = final['Amount'] / final[entity + '_med_' + str(time)]\n",
      "C:\\Users\\Alex Tan\\AppData\\Local\\Temp\\ipykernel_15732\\783239204.py:31: PerformanceWarning: DataFrame is highly fragmented.  This is usually the result of calling `frame.insert` many times, which has poor performance.  Consider joining all columns at once using pd.concat(axis=1) instead. To get a de-fragmented frame, use `newframe = frame.copy()`\n",
      "  final[entity + '_actual/toal_' + str(time)] = final['Amount'] / final[entity + '_total_' + str(time)]\n",
      "C:\\Users\\Alex Tan\\AppData\\Local\\Temp\\ipykernel_15732\\783239204.py:22: PerformanceWarning: DataFrame is highly fragmented.  This is usually the result of calling `frame.insert` many times, which has poor performance.  Consider joining all columns at once using pd.concat(axis=1) instead. To get a de-fragmented frame, use `newframe = frame.copy()`\n",
      "  final[col_name] = final.Recnum.map(mapper2)\n",
      "C:\\Users\\Alex Tan\\AppData\\Local\\Temp\\ipykernel_15732\\783239204.py:24: PerformanceWarning: DataFrame is highly fragmented.  This is usually the result of calling `frame.insert` many times, which has poor performance.  Consider joining all columns at once using pd.concat(axis=1) instead. To get a de-fragmented frame, use `newframe = frame.copy()`\n",
      "  final[entity + '_avg_' + str(time)] = final.Recnum.map(temp2.groupby('Recnum')['Amount'].mean())\n",
      "C:\\Users\\Alex Tan\\AppData\\Local\\Temp\\ipykernel_15732\\783239204.py:25: PerformanceWarning: DataFrame is highly fragmented.  This is usually the result of calling `frame.insert` many times, which has poor performance.  Consider joining all columns at once using pd.concat(axis=1) instead. To get a de-fragmented frame, use `newframe = frame.copy()`\n",
      "  final[entity + '_max_' + str(time)] = final.Recnum.map(temp2.groupby('Recnum')['Amount'].max())\n",
      "C:\\Users\\Alex Tan\\AppData\\Local\\Temp\\ipykernel_15732\\783239204.py:26: PerformanceWarning: DataFrame is highly fragmented.  This is usually the result of calling `frame.insert` many times, which has poor performance.  Consider joining all columns at once using pd.concat(axis=1) instead. To get a de-fragmented frame, use `newframe = frame.copy()`\n",
      "  final[entity + '_med_' + str(time)] = final.Recnum.map(temp2.groupby('Recnum')['Amount'].median())\n",
      "C:\\Users\\Alex Tan\\AppData\\Local\\Temp\\ipykernel_15732\\783239204.py:27: PerformanceWarning: DataFrame is highly fragmented.  This is usually the result of calling `frame.insert` many times, which has poor performance.  Consider joining all columns at once using pd.concat(axis=1) instead. To get a de-fragmented frame, use `newframe = frame.copy()`\n",
      "  final[entity + '_total_' + str(time)] = final.Recnum.map(temp2.groupby('Recnum')['Amount'].sum())\n",
      "C:\\Users\\Alex Tan\\AppData\\Local\\Temp\\ipykernel_15732\\783239204.py:28: PerformanceWarning: DataFrame is highly fragmented.  This is usually the result of calling `frame.insert` many times, which has poor performance.  Consider joining all columns at once using pd.concat(axis=1) instead. To get a de-fragmented frame, use `newframe = frame.copy()`\n",
      "  final[entity + '_actual/avg_' + str(time)] = final['Amount'] / final[entity + '_avg_' + str(time)]\n",
      "C:\\Users\\Alex Tan\\AppData\\Local\\Temp\\ipykernel_15732\\783239204.py:29: PerformanceWarning: DataFrame is highly fragmented.  This is usually the result of calling `frame.insert` many times, which has poor performance.  Consider joining all columns at once using pd.concat(axis=1) instead. To get a de-fragmented frame, use `newframe = frame.copy()`\n",
      "  final[entity + '_actual/max_' + str(time)] = final['Amount'] / final[entity + '_max_' + str(time)]\n",
      "C:\\Users\\Alex Tan\\AppData\\Local\\Temp\\ipykernel_15732\\783239204.py:30: PerformanceWarning: DataFrame is highly fragmented.  This is usually the result of calling `frame.insert` many times, which has poor performance.  Consider joining all columns at once using pd.concat(axis=1) instead. To get a de-fragmented frame, use `newframe = frame.copy()`\n",
      "  final[entity + '_actual/med_' + str(time)] = final['Amount'] / final[entity + '_med_' + str(time)]\n",
      "C:\\Users\\Alex Tan\\AppData\\Local\\Temp\\ipykernel_15732\\783239204.py:31: PerformanceWarning: DataFrame is highly fragmented.  This is usually the result of calling `frame.insert` many times, which has poor performance.  Consider joining all columns at once using pd.concat(axis=1) instead. To get a de-fragmented frame, use `newframe = frame.copy()`\n",
      "  final[entity + '_actual/toal_' + str(time)] = final['Amount'] / final[entity + '_total_' + str(time)]\n"
     ]
    },
    {
     "name": "stdout",
     "output_type": "stream",
     "text": [
      "Card_Merchnum_desc amount variables over past 0 ---> Done\n",
      "Card_Merchnum_desc_count_1 ---> Done\n",
      "Card_Merchnum_desc amount variables over past 1 ---> Done\n"
     ]
    },
    {
     "name": "stderr",
     "output_type": "stream",
     "text": [
      "C:\\Users\\Alex Tan\\AppData\\Local\\Temp\\ipykernel_15732\\783239204.py:22: PerformanceWarning: DataFrame is highly fragmented.  This is usually the result of calling `frame.insert` many times, which has poor performance.  Consider joining all columns at once using pd.concat(axis=1) instead. To get a de-fragmented frame, use `newframe = frame.copy()`\n",
      "  final[col_name] = final.Recnum.map(mapper2)\n",
      "C:\\Users\\Alex Tan\\AppData\\Local\\Temp\\ipykernel_15732\\783239204.py:24: PerformanceWarning: DataFrame is highly fragmented.  This is usually the result of calling `frame.insert` many times, which has poor performance.  Consider joining all columns at once using pd.concat(axis=1) instead. To get a de-fragmented frame, use `newframe = frame.copy()`\n",
      "  final[entity + '_avg_' + str(time)] = final.Recnum.map(temp2.groupby('Recnum')['Amount'].mean())\n",
      "C:\\Users\\Alex Tan\\AppData\\Local\\Temp\\ipykernel_15732\\783239204.py:25: PerformanceWarning: DataFrame is highly fragmented.  This is usually the result of calling `frame.insert` many times, which has poor performance.  Consider joining all columns at once using pd.concat(axis=1) instead. To get a de-fragmented frame, use `newframe = frame.copy()`\n",
      "  final[entity + '_max_' + str(time)] = final.Recnum.map(temp2.groupby('Recnum')['Amount'].max())\n",
      "C:\\Users\\Alex Tan\\AppData\\Local\\Temp\\ipykernel_15732\\783239204.py:26: PerformanceWarning: DataFrame is highly fragmented.  This is usually the result of calling `frame.insert` many times, which has poor performance.  Consider joining all columns at once using pd.concat(axis=1) instead. To get a de-fragmented frame, use `newframe = frame.copy()`\n",
      "  final[entity + '_med_' + str(time)] = final.Recnum.map(temp2.groupby('Recnum')['Amount'].median())\n",
      "C:\\Users\\Alex Tan\\AppData\\Local\\Temp\\ipykernel_15732\\783239204.py:27: PerformanceWarning: DataFrame is highly fragmented.  This is usually the result of calling `frame.insert` many times, which has poor performance.  Consider joining all columns at once using pd.concat(axis=1) instead. To get a de-fragmented frame, use `newframe = frame.copy()`\n",
      "  final[entity + '_total_' + str(time)] = final.Recnum.map(temp2.groupby('Recnum')['Amount'].sum())\n",
      "C:\\Users\\Alex Tan\\AppData\\Local\\Temp\\ipykernel_15732\\783239204.py:28: PerformanceWarning: DataFrame is highly fragmented.  This is usually the result of calling `frame.insert` many times, which has poor performance.  Consider joining all columns at once using pd.concat(axis=1) instead. To get a de-fragmented frame, use `newframe = frame.copy()`\n",
      "  final[entity + '_actual/avg_' + str(time)] = final['Amount'] / final[entity + '_avg_' + str(time)]\n",
      "C:\\Users\\Alex Tan\\AppData\\Local\\Temp\\ipykernel_15732\\783239204.py:29: PerformanceWarning: DataFrame is highly fragmented.  This is usually the result of calling `frame.insert` many times, which has poor performance.  Consider joining all columns at once using pd.concat(axis=1) instead. To get a de-fragmented frame, use `newframe = frame.copy()`\n",
      "  final[entity + '_actual/max_' + str(time)] = final['Amount'] / final[entity + '_max_' + str(time)]\n",
      "C:\\Users\\Alex Tan\\AppData\\Local\\Temp\\ipykernel_15732\\783239204.py:30: PerformanceWarning: DataFrame is highly fragmented.  This is usually the result of calling `frame.insert` many times, which has poor performance.  Consider joining all columns at once using pd.concat(axis=1) instead. To get a de-fragmented frame, use `newframe = frame.copy()`\n",
      "  final[entity + '_actual/med_' + str(time)] = final['Amount'] / final[entity + '_med_' + str(time)]\n",
      "C:\\Users\\Alex Tan\\AppData\\Local\\Temp\\ipykernel_15732\\783239204.py:31: PerformanceWarning: DataFrame is highly fragmented.  This is usually the result of calling `frame.insert` many times, which has poor performance.  Consider joining all columns at once using pd.concat(axis=1) instead. To get a de-fragmented frame, use `newframe = frame.copy()`\n",
      "  final[entity + '_actual/toal_' + str(time)] = final['Amount'] / final[entity + '_total_' + str(time)]\n",
      "C:\\Users\\Alex Tan\\AppData\\Local\\Temp\\ipykernel_15732\\783239204.py:22: PerformanceWarning: DataFrame is highly fragmented.  This is usually the result of calling `frame.insert` many times, which has poor performance.  Consider joining all columns at once using pd.concat(axis=1) instead. To get a de-fragmented frame, use `newframe = frame.copy()`\n",
      "  final[col_name] = final.Recnum.map(mapper2)\n",
      "C:\\Users\\Alex Tan\\AppData\\Local\\Temp\\ipykernel_15732\\783239204.py:24: PerformanceWarning: DataFrame is highly fragmented.  This is usually the result of calling `frame.insert` many times, which has poor performance.  Consider joining all columns at once using pd.concat(axis=1) instead. To get a de-fragmented frame, use `newframe = frame.copy()`\n",
      "  final[entity + '_avg_' + str(time)] = final.Recnum.map(temp2.groupby('Recnum')['Amount'].mean())\n"
     ]
    },
    {
     "name": "stdout",
     "output_type": "stream",
     "text": [
      "Card_Merchnum_desc_count_3 ---> Done\n",
      "Card_Merchnum_desc amount variables over past 3 ---> Done\n",
      "Card_Merchnum_desc_count_7 ---> Done\n"
     ]
    },
    {
     "name": "stderr",
     "output_type": "stream",
     "text": [
      "C:\\Users\\Alex Tan\\AppData\\Local\\Temp\\ipykernel_15732\\783239204.py:25: PerformanceWarning: DataFrame is highly fragmented.  This is usually the result of calling `frame.insert` many times, which has poor performance.  Consider joining all columns at once using pd.concat(axis=1) instead. To get a de-fragmented frame, use `newframe = frame.copy()`\n",
      "  final[entity + '_max_' + str(time)] = final.Recnum.map(temp2.groupby('Recnum')['Amount'].max())\n",
      "C:\\Users\\Alex Tan\\AppData\\Local\\Temp\\ipykernel_15732\\783239204.py:26: PerformanceWarning: DataFrame is highly fragmented.  This is usually the result of calling `frame.insert` many times, which has poor performance.  Consider joining all columns at once using pd.concat(axis=1) instead. To get a de-fragmented frame, use `newframe = frame.copy()`\n",
      "  final[entity + '_med_' + str(time)] = final.Recnum.map(temp2.groupby('Recnum')['Amount'].median())\n",
      "C:\\Users\\Alex Tan\\AppData\\Local\\Temp\\ipykernel_15732\\783239204.py:27: PerformanceWarning: DataFrame is highly fragmented.  This is usually the result of calling `frame.insert` many times, which has poor performance.  Consider joining all columns at once using pd.concat(axis=1) instead. To get a de-fragmented frame, use `newframe = frame.copy()`\n",
      "  final[entity + '_total_' + str(time)] = final.Recnum.map(temp2.groupby('Recnum')['Amount'].sum())\n",
      "C:\\Users\\Alex Tan\\AppData\\Local\\Temp\\ipykernel_15732\\783239204.py:28: PerformanceWarning: DataFrame is highly fragmented.  This is usually the result of calling `frame.insert` many times, which has poor performance.  Consider joining all columns at once using pd.concat(axis=1) instead. To get a de-fragmented frame, use `newframe = frame.copy()`\n",
      "  final[entity + '_actual/avg_' + str(time)] = final['Amount'] / final[entity + '_avg_' + str(time)]\n",
      "C:\\Users\\Alex Tan\\AppData\\Local\\Temp\\ipykernel_15732\\783239204.py:29: PerformanceWarning: DataFrame is highly fragmented.  This is usually the result of calling `frame.insert` many times, which has poor performance.  Consider joining all columns at once using pd.concat(axis=1) instead. To get a de-fragmented frame, use `newframe = frame.copy()`\n",
      "  final[entity + '_actual/max_' + str(time)] = final['Amount'] / final[entity + '_max_' + str(time)]\n",
      "C:\\Users\\Alex Tan\\AppData\\Local\\Temp\\ipykernel_15732\\783239204.py:30: PerformanceWarning: DataFrame is highly fragmented.  This is usually the result of calling `frame.insert` many times, which has poor performance.  Consider joining all columns at once using pd.concat(axis=1) instead. To get a de-fragmented frame, use `newframe = frame.copy()`\n",
      "  final[entity + '_actual/med_' + str(time)] = final['Amount'] / final[entity + '_med_' + str(time)]\n",
      "C:\\Users\\Alex Tan\\AppData\\Local\\Temp\\ipykernel_15732\\783239204.py:31: PerformanceWarning: DataFrame is highly fragmented.  This is usually the result of calling `frame.insert` many times, which has poor performance.  Consider joining all columns at once using pd.concat(axis=1) instead. To get a de-fragmented frame, use `newframe = frame.copy()`\n",
      "  final[entity + '_actual/toal_' + str(time)] = final['Amount'] / final[entity + '_total_' + str(time)]\n",
      "C:\\Users\\Alex Tan\\AppData\\Local\\Temp\\ipykernel_15732\\783239204.py:22: PerformanceWarning: DataFrame is highly fragmented.  This is usually the result of calling `frame.insert` many times, which has poor performance.  Consider joining all columns at once using pd.concat(axis=1) instead. To get a de-fragmented frame, use `newframe = frame.copy()`\n",
      "  final[col_name] = final.Recnum.map(mapper2)\n",
      "C:\\Users\\Alex Tan\\AppData\\Local\\Temp\\ipykernel_15732\\783239204.py:24: PerformanceWarning: DataFrame is highly fragmented.  This is usually the result of calling `frame.insert` many times, which has poor performance.  Consider joining all columns at once using pd.concat(axis=1) instead. To get a de-fragmented frame, use `newframe = frame.copy()`\n",
      "  final[entity + '_avg_' + str(time)] = final.Recnum.map(temp2.groupby('Recnum')['Amount'].mean())\n",
      "C:\\Users\\Alex Tan\\AppData\\Local\\Temp\\ipykernel_15732\\783239204.py:25: PerformanceWarning: DataFrame is highly fragmented.  This is usually the result of calling `frame.insert` many times, which has poor performance.  Consider joining all columns at once using pd.concat(axis=1) instead. To get a de-fragmented frame, use `newframe = frame.copy()`\n",
      "  final[entity + '_max_' + str(time)] = final.Recnum.map(temp2.groupby('Recnum')['Amount'].max())\n"
     ]
    },
    {
     "name": "stdout",
     "output_type": "stream",
     "text": [
      "Card_Merchnum_desc amount variables over past 7 ---> Done\n",
      "Card_Merchnum_desc_count_14 ---> Done\n"
     ]
    },
    {
     "name": "stderr",
     "output_type": "stream",
     "text": [
      "C:\\Users\\Alex Tan\\AppData\\Local\\Temp\\ipykernel_15732\\783239204.py:26: PerformanceWarning: DataFrame is highly fragmented.  This is usually the result of calling `frame.insert` many times, which has poor performance.  Consider joining all columns at once using pd.concat(axis=1) instead. To get a de-fragmented frame, use `newframe = frame.copy()`\n",
      "  final[entity + '_med_' + str(time)] = final.Recnum.map(temp2.groupby('Recnum')['Amount'].median())\n",
      "C:\\Users\\Alex Tan\\AppData\\Local\\Temp\\ipykernel_15732\\783239204.py:27: PerformanceWarning: DataFrame is highly fragmented.  This is usually the result of calling `frame.insert` many times, which has poor performance.  Consider joining all columns at once using pd.concat(axis=1) instead. To get a de-fragmented frame, use `newframe = frame.copy()`\n",
      "  final[entity + '_total_' + str(time)] = final.Recnum.map(temp2.groupby('Recnum')['Amount'].sum())\n",
      "C:\\Users\\Alex Tan\\AppData\\Local\\Temp\\ipykernel_15732\\783239204.py:28: PerformanceWarning: DataFrame is highly fragmented.  This is usually the result of calling `frame.insert` many times, which has poor performance.  Consider joining all columns at once using pd.concat(axis=1) instead. To get a de-fragmented frame, use `newframe = frame.copy()`\n",
      "  final[entity + '_actual/avg_' + str(time)] = final['Amount'] / final[entity + '_avg_' + str(time)]\n",
      "C:\\Users\\Alex Tan\\AppData\\Local\\Temp\\ipykernel_15732\\783239204.py:29: PerformanceWarning: DataFrame is highly fragmented.  This is usually the result of calling `frame.insert` many times, which has poor performance.  Consider joining all columns at once using pd.concat(axis=1) instead. To get a de-fragmented frame, use `newframe = frame.copy()`\n",
      "  final[entity + '_actual/max_' + str(time)] = final['Amount'] / final[entity + '_max_' + str(time)]\n",
      "C:\\Users\\Alex Tan\\AppData\\Local\\Temp\\ipykernel_15732\\783239204.py:30: PerformanceWarning: DataFrame is highly fragmented.  This is usually the result of calling `frame.insert` many times, which has poor performance.  Consider joining all columns at once using pd.concat(axis=1) instead. To get a de-fragmented frame, use `newframe = frame.copy()`\n",
      "  final[entity + '_actual/med_' + str(time)] = final['Amount'] / final[entity + '_med_' + str(time)]\n",
      "C:\\Users\\Alex Tan\\AppData\\Local\\Temp\\ipykernel_15732\\783239204.py:31: PerformanceWarning: DataFrame is highly fragmented.  This is usually the result of calling `frame.insert` many times, which has poor performance.  Consider joining all columns at once using pd.concat(axis=1) instead. To get a de-fragmented frame, use `newframe = frame.copy()`\n",
      "  final[entity + '_actual/toal_' + str(time)] = final['Amount'] / final[entity + '_total_' + str(time)]\n",
      "C:\\Users\\Alex Tan\\AppData\\Local\\Temp\\ipykernel_15732\\783239204.py:22: PerformanceWarning: DataFrame is highly fragmented.  This is usually the result of calling `frame.insert` many times, which has poor performance.  Consider joining all columns at once using pd.concat(axis=1) instead. To get a de-fragmented frame, use `newframe = frame.copy()`\n",
      "  final[col_name] = final.Recnum.map(mapper2)\n",
      "C:\\Users\\Alex Tan\\AppData\\Local\\Temp\\ipykernel_15732\\783239204.py:24: PerformanceWarning: DataFrame is highly fragmented.  This is usually the result of calling `frame.insert` many times, which has poor performance.  Consider joining all columns at once using pd.concat(axis=1) instead. To get a de-fragmented frame, use `newframe = frame.copy()`\n",
      "  final[entity + '_avg_' + str(time)] = final.Recnum.map(temp2.groupby('Recnum')['Amount'].mean())\n",
      "C:\\Users\\Alex Tan\\AppData\\Local\\Temp\\ipykernel_15732\\783239204.py:25: PerformanceWarning: DataFrame is highly fragmented.  This is usually the result of calling `frame.insert` many times, which has poor performance.  Consider joining all columns at once using pd.concat(axis=1) instead. To get a de-fragmented frame, use `newframe = frame.copy()`\n",
      "  final[entity + '_max_' + str(time)] = final.Recnum.map(temp2.groupby('Recnum')['Amount'].max())\n",
      "C:\\Users\\Alex Tan\\AppData\\Local\\Temp\\ipykernel_15732\\783239204.py:26: PerformanceWarning: DataFrame is highly fragmented.  This is usually the result of calling `frame.insert` many times, which has poor performance.  Consider joining all columns at once using pd.concat(axis=1) instead. To get a de-fragmented frame, use `newframe = frame.copy()`\n",
      "  final[entity + '_med_' + str(time)] = final.Recnum.map(temp2.groupby('Recnum')['Amount'].median())\n"
     ]
    },
    {
     "name": "stdout",
     "output_type": "stream",
     "text": [
      "Card_Merchnum_desc amount variables over past 14 ---> Done\n",
      "Card_Merchnum_desc_count_30 ---> Done\n",
      "Card_Merchnum_desc amount variables over past 30 ---> Done\n"
     ]
    },
    {
     "name": "stderr",
     "output_type": "stream",
     "text": [
      "C:\\Users\\Alex Tan\\AppData\\Local\\Temp\\ipykernel_15732\\783239204.py:27: PerformanceWarning: DataFrame is highly fragmented.  This is usually the result of calling `frame.insert` many times, which has poor performance.  Consider joining all columns at once using pd.concat(axis=1) instead. To get a de-fragmented frame, use `newframe = frame.copy()`\n",
      "  final[entity + '_total_' + str(time)] = final.Recnum.map(temp2.groupby('Recnum')['Amount'].sum())\n",
      "C:\\Users\\Alex Tan\\AppData\\Local\\Temp\\ipykernel_15732\\783239204.py:28: PerformanceWarning: DataFrame is highly fragmented.  This is usually the result of calling `frame.insert` many times, which has poor performance.  Consider joining all columns at once using pd.concat(axis=1) instead. To get a de-fragmented frame, use `newframe = frame.copy()`\n",
      "  final[entity + '_actual/avg_' + str(time)] = final['Amount'] / final[entity + '_avg_' + str(time)]\n",
      "C:\\Users\\Alex Tan\\AppData\\Local\\Temp\\ipykernel_15732\\783239204.py:29: PerformanceWarning: DataFrame is highly fragmented.  This is usually the result of calling `frame.insert` many times, which has poor performance.  Consider joining all columns at once using pd.concat(axis=1) instead. To get a de-fragmented frame, use `newframe = frame.copy()`\n",
      "  final[entity + '_actual/max_' + str(time)] = final['Amount'] / final[entity + '_max_' + str(time)]\n",
      "C:\\Users\\Alex Tan\\AppData\\Local\\Temp\\ipykernel_15732\\783239204.py:30: PerformanceWarning: DataFrame is highly fragmented.  This is usually the result of calling `frame.insert` many times, which has poor performance.  Consider joining all columns at once using pd.concat(axis=1) instead. To get a de-fragmented frame, use `newframe = frame.copy()`\n",
      "  final[entity + '_actual/med_' + str(time)] = final['Amount'] / final[entity + '_med_' + str(time)]\n",
      "C:\\Users\\Alex Tan\\AppData\\Local\\Temp\\ipykernel_15732\\783239204.py:31: PerformanceWarning: DataFrame is highly fragmented.  This is usually the result of calling `frame.insert` many times, which has poor performance.  Consider joining all columns at once using pd.concat(axis=1) instead. To get a de-fragmented frame, use `newframe = frame.copy()`\n",
      "  final[entity + '_actual/toal_' + str(time)] = final['Amount'] / final[entity + '_total_' + str(time)]\n"
     ]
    }
   ],
   "source": [
    "start = timeit.default_timer()\n",
    "for entity in entities:    \n",
    "    try: print('Run time for the last entity ----------------- {}s'.format(timeit.default_timer() - st))\n",
    "    except: print('')\n",
    "    st = timeit.default_timer()    \n",
    "    ## Day-since variables:   \n",
    "    df_l = df1[['Recnum', 'Date', entity]]\n",
    "    df_r = df1[['check_record', 'check_date', entity, 'Amount']]    \n",
    "    temp = pd.merge(df_l, df_r, left_on = entity, right_on = entity)   \n",
    "    temp1 = temp[temp.Recnum > temp.check_record][['Recnum','Date','check_date']]\\\n",
    "                                                   .groupby('Recnum')[['Date', 'check_date']].last()\n",
    "    mapper = (temp1.Date - temp1.check_date).dt.days\n",
    "    final[entity + '_day_since'] = final.Recnum.map(mapper)\n",
    "    final[entity + '_day_since'].fillna((final.Date - pd.to_datetime('2010-01-01')).dt.days, inplace = True)\n",
    "    print('\\n' + entity + '_day_since ---> Done')   \n",
    "    ## Frequency & Amount variables:   \n",
    "    for time in [0,1,3,7,14,30]:       \n",
    "        temp2 = temp[(temp.check_date >= (temp.Date - dt.timedelta(time))) &\\\n",
    "                       (temp.Recnum >= temp.check_record)][['Recnum', entity, 'Amount']]       \n",
    "        col_name = entity + '_count_' + str(time)    \n",
    "        mapper2 = temp2.groupby('Recnum')[entity].count()      \n",
    "        final[col_name] = final.Recnum.map(mapper2)        \n",
    "        print(col_name + ' ---> Done')       \n",
    "        final[entity + '_avg_' + str(time)] = final.Recnum.map(temp2.groupby('Recnum')['Amount'].mean())\n",
    "        final[entity + '_max_' + str(time)] = final.Recnum.map(temp2.groupby('Recnum')['Amount'].max())\n",
    "        final[entity + '_med_' + str(time)] = final.Recnum.map(temp2.groupby('Recnum')['Amount'].median())\n",
    "        final[entity + '_total_' + str(time)] = final.Recnum.map(temp2.groupby('Recnum')['Amount'].sum())\n",
    "        final[entity + '_actual/avg_' + str(time)] = final['Amount'] / final[entity + '_avg_' + str(time)]\n",
    "        final[entity + '_actual/max_' + str(time)] = final['Amount'] / final[entity + '_max_' + str(time)]\n",
    "        final[entity + '_actual/med_' + str(time)] = final['Amount'] / final[entity + '_med_' + str(time)]\n",
    "        final[entity + '_actual/toal_' + str(time)] = final['Amount'] / final[entity + '_total_' + str(time)]       \n",
    "        print(entity + ' amount variables over past ' + str(time) + ' ---> Done')"
   ]
  },
  {
   "cell_type": "code",
   "execution_count": 64,
   "id": "fba159bf",
   "metadata": {},
   "outputs": [
    {
     "data": {
      "text/plain": [
       "550"
      ]
     },
     "execution_count": 64,
     "metadata": {},
     "output_type": "execute_result"
    }
   ],
   "source": [
    "newvars = len(final.columns) - 19 - varnum\n",
    "newvars"
   ]
  },
  {
   "cell_type": "code",
   "execution_count": 69,
   "id": "acb0c780",
   "metadata": {},
   "outputs": [
    {
     "data": {
      "text/plain": [
       "553"
      ]
     },
     "execution_count": 69,
     "metadata": {},
     "output_type": "execute_result"
    }
   ],
   "source": [
    "varnum = len(final.columns) - 19\n",
    "varnum"
   ]
  },
  {
   "cell_type": "code",
   "execution_count": 70,
   "id": "70c1542d",
   "metadata": {},
   "outputs": [
    {
     "name": "stderr",
     "output_type": "stream",
     "text": [
      "C:\\Users\\Alex Tan\\AppData\\Local\\Temp\\ipykernel_15732\\3282759089.py:6: PerformanceWarning: DataFrame is highly fragmented.  This is usually the result of calling `frame.insert` many times, which has poor performance.  Consider joining all columns at once using pd.concat(axis=1) instead. To get a de-fragmented frame, use `newframe = frame.copy()`\n",
      "  final[ent + '_count_' + d + '_by_' + dd] =\\\n",
      "C:\\Users\\Alex Tan\\AppData\\Local\\Temp\\ipykernel_15732\\3282759089.py:6: PerformanceWarning: DataFrame is highly fragmented.  This is usually the result of calling `frame.insert` many times, which has poor performance.  Consider joining all columns at once using pd.concat(axis=1) instead. To get a de-fragmented frame, use `newframe = frame.copy()`\n",
      "  final[ent + '_count_' + d + '_by_' + dd] =\\\n",
      "C:\\Users\\Alex Tan\\AppData\\Local\\Temp\\ipykernel_15732\\3282759089.py:6: PerformanceWarning: DataFrame is highly fragmented.  This is usually the result of calling `frame.insert` many times, which has poor performance.  Consider joining all columns at once using pd.concat(axis=1) instead. To get a de-fragmented frame, use `newframe = frame.copy()`\n",
      "  final[ent + '_count_' + d + '_by_' + dd] =\\\n",
      "C:\\Users\\Alex Tan\\AppData\\Local\\Temp\\ipykernel_15732\\3282759089.py:6: PerformanceWarning: DataFrame is highly fragmented.  This is usually the result of calling `frame.insert` many times, which has poor performance.  Consider joining all columns at once using pd.concat(axis=1) instead. To get a de-fragmented frame, use `newframe = frame.copy()`\n",
      "  final[ent + '_count_' + d + '_by_' + dd] =\\\n",
      "C:\\Users\\Alex Tan\\AppData\\Local\\Temp\\ipykernel_15732\\3282759089.py:6: PerformanceWarning: DataFrame is highly fragmented.  This is usually the result of calling `frame.insert` many times, which has poor performance.  Consider joining all columns at once using pd.concat(axis=1) instead. To get a de-fragmented frame, use `newframe = frame.copy()`\n",
      "  final[ent + '_count_' + d + '_by_' + dd] =\\\n",
      "C:\\Users\\Alex Tan\\AppData\\Local\\Temp\\ipykernel_15732\\3282759089.py:6: PerformanceWarning: DataFrame is highly fragmented.  This is usually the result of calling `frame.insert` many times, which has poor performance.  Consider joining all columns at once using pd.concat(axis=1) instead. To get a de-fragmented frame, use `newframe = frame.copy()`\n",
      "  final[ent + '_count_' + d + '_by_' + dd] =\\\n",
      "C:\\Users\\Alex Tan\\AppData\\Local\\Temp\\ipykernel_15732\\3282759089.py:6: PerformanceWarning: DataFrame is highly fragmented.  This is usually the result of calling `frame.insert` many times, which has poor performance.  Consider joining all columns at once using pd.concat(axis=1) instead. To get a de-fragmented frame, use `newframe = frame.copy()`\n",
      "  final[ent + '_count_' + d + '_by_' + dd] =\\\n",
      "C:\\Users\\Alex Tan\\AppData\\Local\\Temp\\ipykernel_15732\\3282759089.py:6: PerformanceWarning: DataFrame is highly fragmented.  This is usually the result of calling `frame.insert` many times, which has poor performance.  Consider joining all columns at once using pd.concat(axis=1) instead. To get a de-fragmented frame, use `newframe = frame.copy()`\n",
      "  final[ent + '_count_' + d + '_by_' + dd] =\\\n",
      "C:\\Users\\Alex Tan\\AppData\\Local\\Temp\\ipykernel_15732\\3282759089.py:6: PerformanceWarning: DataFrame is highly fragmented.  This is usually the result of calling `frame.insert` many times, which has poor performance.  Consider joining all columns at once using pd.concat(axis=1) instead. To get a de-fragmented frame, use `newframe = frame.copy()`\n",
      "  final[ent + '_count_' + d + '_by_' + dd] =\\\n",
      "C:\\Users\\Alex Tan\\AppData\\Local\\Temp\\ipykernel_15732\\3282759089.py:6: PerformanceWarning: DataFrame is highly fragmented.  This is usually the result of calling `frame.insert` many times, which has poor performance.  Consider joining all columns at once using pd.concat(axis=1) instead. To get a de-fragmented frame, use `newframe = frame.copy()`\n",
      "  final[ent + '_count_' + d + '_by_' + dd] =\\\n",
      "C:\\Users\\Alex Tan\\AppData\\Local\\Temp\\ipykernel_15732\\3282759089.py:6: PerformanceWarning: DataFrame is highly fragmented.  This is usually the result of calling `frame.insert` many times, which has poor performance.  Consider joining all columns at once using pd.concat(axis=1) instead. To get a de-fragmented frame, use `newframe = frame.copy()`\n",
      "  final[ent + '_count_' + d + '_by_' + dd] =\\\n",
      "C:\\Users\\Alex Tan\\AppData\\Local\\Temp\\ipykernel_15732\\3282759089.py:6: PerformanceWarning: DataFrame is highly fragmented.  This is usually the result of calling `frame.insert` many times, which has poor performance.  Consider joining all columns at once using pd.concat(axis=1) instead. To get a de-fragmented frame, use `newframe = frame.copy()`\n",
      "  final[ent + '_count_' + d + '_by_' + dd] =\\\n",
      "C:\\Users\\Alex Tan\\AppData\\Local\\Temp\\ipykernel_15732\\3282759089.py:6: PerformanceWarning: DataFrame is highly fragmented.  This is usually the result of calling `frame.insert` many times, which has poor performance.  Consider joining all columns at once using pd.concat(axis=1) instead. To get a de-fragmented frame, use `newframe = frame.copy()`\n",
      "  final[ent + '_count_' + d + '_by_' + dd] =\\\n",
      "C:\\Users\\Alex Tan\\AppData\\Local\\Temp\\ipykernel_15732\\3282759089.py:6: PerformanceWarning: DataFrame is highly fragmented.  This is usually the result of calling `frame.insert` many times, which has poor performance.  Consider joining all columns at once using pd.concat(axis=1) instead. To get a de-fragmented frame, use `newframe = frame.copy()`\n",
      "  final[ent + '_count_' + d + '_by_' + dd] =\\\n",
      "C:\\Users\\Alex Tan\\AppData\\Local\\Temp\\ipykernel_15732\\3282759089.py:6: PerformanceWarning: DataFrame is highly fragmented.  This is usually the result of calling `frame.insert` many times, which has poor performance.  Consider joining all columns at once using pd.concat(axis=1) instead. To get a de-fragmented frame, use `newframe = frame.copy()`\n",
      "  final[ent + '_count_' + d + '_by_' + dd] =\\\n",
      "C:\\Users\\Alex Tan\\AppData\\Local\\Temp\\ipykernel_15732\\3282759089.py:6: PerformanceWarning: DataFrame is highly fragmented.  This is usually the result of calling `frame.insert` many times, which has poor performance.  Consider joining all columns at once using pd.concat(axis=1) instead. To get a de-fragmented frame, use `newframe = frame.copy()`\n",
      "  final[ent + '_count_' + d + '_by_' + dd] =\\\n",
      "C:\\Users\\Alex Tan\\AppData\\Local\\Temp\\ipykernel_15732\\3282759089.py:6: PerformanceWarning: DataFrame is highly fragmented.  This is usually the result of calling `frame.insert` many times, which has poor performance.  Consider joining all columns at once using pd.concat(axis=1) instead. To get a de-fragmented frame, use `newframe = frame.copy()`\n",
      "  final[ent + '_count_' + d + '_by_' + dd] =\\\n",
      "C:\\Users\\Alex Tan\\AppData\\Local\\Temp\\ipykernel_15732\\3282759089.py:6: PerformanceWarning: DataFrame is highly fragmented.  This is usually the result of calling `frame.insert` many times, which has poor performance.  Consider joining all columns at once using pd.concat(axis=1) instead. To get a de-fragmented frame, use `newframe = frame.copy()`\n",
      "  final[ent + '_count_' + d + '_by_' + dd] =\\\n",
      "C:\\Users\\Alex Tan\\AppData\\Local\\Temp\\ipykernel_15732\\3282759089.py:6: PerformanceWarning: DataFrame is highly fragmented.  This is usually the result of calling `frame.insert` many times, which has poor performance.  Consider joining all columns at once using pd.concat(axis=1) instead. To get a de-fragmented frame, use `newframe = frame.copy()`\n",
      "  final[ent + '_count_' + d + '_by_' + dd] =\\\n",
      "C:\\Users\\Alex Tan\\AppData\\Local\\Temp\\ipykernel_15732\\3282759089.py:6: PerformanceWarning: DataFrame is highly fragmented.  This is usually the result of calling `frame.insert` many times, which has poor performance.  Consider joining all columns at once using pd.concat(axis=1) instead. To get a de-fragmented frame, use `newframe = frame.copy()`\n",
      "  final[ent + '_count_' + d + '_by_' + dd] =\\\n",
      "C:\\Users\\Alex Tan\\AppData\\Local\\Temp\\ipykernel_15732\\3282759089.py:6: PerformanceWarning: DataFrame is highly fragmented.  This is usually the result of calling `frame.insert` many times, which has poor performance.  Consider joining all columns at once using pd.concat(axis=1) instead. To get a de-fragmented frame, use `newframe = frame.copy()`\n",
      "  final[ent + '_count_' + d + '_by_' + dd] =\\\n",
      "C:\\Users\\Alex Tan\\AppData\\Local\\Temp\\ipykernel_15732\\3282759089.py:6: PerformanceWarning: DataFrame is highly fragmented.  This is usually the result of calling `frame.insert` many times, which has poor performance.  Consider joining all columns at once using pd.concat(axis=1) instead. To get a de-fragmented frame, use `newframe = frame.copy()`\n",
      "  final[ent + '_count_' + d + '_by_' + dd] =\\\n",
      "C:\\Users\\Alex Tan\\AppData\\Local\\Temp\\ipykernel_15732\\3282759089.py:6: PerformanceWarning: DataFrame is highly fragmented.  This is usually the result of calling `frame.insert` many times, which has poor performance.  Consider joining all columns at once using pd.concat(axis=1) instead. To get a de-fragmented frame, use `newframe = frame.copy()`\n",
      "  final[ent + '_count_' + d + '_by_' + dd] =\\\n",
      "C:\\Users\\Alex Tan\\AppData\\Local\\Temp\\ipykernel_15732\\3282759089.py:6: PerformanceWarning: DataFrame is highly fragmented.  This is usually the result of calling `frame.insert` many times, which has poor performance.  Consider joining all columns at once using pd.concat(axis=1) instead. To get a de-fragmented frame, use `newframe = frame.copy()`\n",
      "  final[ent + '_count_' + d + '_by_' + dd] =\\\n",
      "C:\\Users\\Alex Tan\\AppData\\Local\\Temp\\ipykernel_15732\\3282759089.py:6: PerformanceWarning: DataFrame is highly fragmented.  This is usually the result of calling `frame.insert` many times, which has poor performance.  Consider joining all columns at once using pd.concat(axis=1) instead. To get a de-fragmented frame, use `newframe = frame.copy()`\n",
      "  final[ent + '_count_' + d + '_by_' + dd] =\\\n",
      "C:\\Users\\Alex Tan\\AppData\\Local\\Temp\\ipykernel_15732\\3282759089.py:6: PerformanceWarning: DataFrame is highly fragmented.  This is usually the result of calling `frame.insert` many times, which has poor performance.  Consider joining all columns at once using pd.concat(axis=1) instead. To get a de-fragmented frame, use `newframe = frame.copy()`\n",
      "  final[ent + '_count_' + d + '_by_' + dd] =\\\n",
      "C:\\Users\\Alex Tan\\AppData\\Local\\Temp\\ipykernel_15732\\3282759089.py:6: PerformanceWarning: DataFrame is highly fragmented.  This is usually the result of calling `frame.insert` many times, which has poor performance.  Consider joining all columns at once using pd.concat(axis=1) instead. To get a de-fragmented frame, use `newframe = frame.copy()`\n",
      "  final[ent + '_count_' + d + '_by_' + dd] =\\\n"
     ]
    },
    {
     "name": "stderr",
     "output_type": "stream",
     "text": [
      "C:\\Users\\Alex Tan\\AppData\\Local\\Temp\\ipykernel_15732\\3282759089.py:6: PerformanceWarning: DataFrame is highly fragmented.  This is usually the result of calling `frame.insert` many times, which has poor performance.  Consider joining all columns at once using pd.concat(axis=1) instead. To get a de-fragmented frame, use `newframe = frame.copy()`\n",
      "  final[ent + '_count_' + d + '_by_' + dd] =\\\n",
      "C:\\Users\\Alex Tan\\AppData\\Local\\Temp\\ipykernel_15732\\3282759089.py:6: PerformanceWarning: DataFrame is highly fragmented.  This is usually the result of calling `frame.insert` many times, which has poor performance.  Consider joining all columns at once using pd.concat(axis=1) instead. To get a de-fragmented frame, use `newframe = frame.copy()`\n",
      "  final[ent + '_count_' + d + '_by_' + dd] =\\\n",
      "C:\\Users\\Alex Tan\\AppData\\Local\\Temp\\ipykernel_15732\\3282759089.py:6: PerformanceWarning: DataFrame is highly fragmented.  This is usually the result of calling `frame.insert` many times, which has poor performance.  Consider joining all columns at once using pd.concat(axis=1) instead. To get a de-fragmented frame, use `newframe = frame.copy()`\n",
      "  final[ent + '_count_' + d + '_by_' + dd] =\\\n",
      "C:\\Users\\Alex Tan\\AppData\\Local\\Temp\\ipykernel_15732\\3282759089.py:6: PerformanceWarning: DataFrame is highly fragmented.  This is usually the result of calling `frame.insert` many times, which has poor performance.  Consider joining all columns at once using pd.concat(axis=1) instead. To get a de-fragmented frame, use `newframe = frame.copy()`\n",
      "  final[ent + '_count_' + d + '_by_' + dd] =\\\n",
      "C:\\Users\\Alex Tan\\AppData\\Local\\Temp\\ipykernel_15732\\3282759089.py:6: PerformanceWarning: DataFrame is highly fragmented.  This is usually the result of calling `frame.insert` many times, which has poor performance.  Consider joining all columns at once using pd.concat(axis=1) instead. To get a de-fragmented frame, use `newframe = frame.copy()`\n",
      "  final[ent + '_count_' + d + '_by_' + dd] =\\\n",
      "C:\\Users\\Alex Tan\\AppData\\Local\\Temp\\ipykernel_15732\\3282759089.py:6: PerformanceWarning: DataFrame is highly fragmented.  This is usually the result of calling `frame.insert` many times, which has poor performance.  Consider joining all columns at once using pd.concat(axis=1) instead. To get a de-fragmented frame, use `newframe = frame.copy()`\n",
      "  final[ent + '_count_' + d + '_by_' + dd] =\\\n",
      "C:\\Users\\Alex Tan\\AppData\\Local\\Temp\\ipykernel_15732\\3282759089.py:6: PerformanceWarning: DataFrame is highly fragmented.  This is usually the result of calling `frame.insert` many times, which has poor performance.  Consider joining all columns at once using pd.concat(axis=1) instead. To get a de-fragmented frame, use `newframe = frame.copy()`\n",
      "  final[ent + '_count_' + d + '_by_' + dd] =\\\n",
      "C:\\Users\\Alex Tan\\AppData\\Local\\Temp\\ipykernel_15732\\3282759089.py:6: PerformanceWarning: DataFrame is highly fragmented.  This is usually the result of calling `frame.insert` many times, which has poor performance.  Consider joining all columns at once using pd.concat(axis=1) instead. To get a de-fragmented frame, use `newframe = frame.copy()`\n",
      "  final[ent + '_count_' + d + '_by_' + dd] =\\\n",
      "C:\\Users\\Alex Tan\\AppData\\Local\\Temp\\ipykernel_15732\\3282759089.py:6: PerformanceWarning: DataFrame is highly fragmented.  This is usually the result of calling `frame.insert` many times, which has poor performance.  Consider joining all columns at once using pd.concat(axis=1) instead. To get a de-fragmented frame, use `newframe = frame.copy()`\n",
      "  final[ent + '_count_' + d + '_by_' + dd] =\\\n",
      "C:\\Users\\Alex Tan\\AppData\\Local\\Temp\\ipykernel_15732\\3282759089.py:6: PerformanceWarning: DataFrame is highly fragmented.  This is usually the result of calling `frame.insert` many times, which has poor performance.  Consider joining all columns at once using pd.concat(axis=1) instead. To get a de-fragmented frame, use `newframe = frame.copy()`\n",
      "  final[ent + '_count_' + d + '_by_' + dd] =\\\n",
      "C:\\Users\\Alex Tan\\AppData\\Local\\Temp\\ipykernel_15732\\3282759089.py:6: PerformanceWarning: DataFrame is highly fragmented.  This is usually the result of calling `frame.insert` many times, which has poor performance.  Consider joining all columns at once using pd.concat(axis=1) instead. To get a de-fragmented frame, use `newframe = frame.copy()`\n",
      "  final[ent + '_count_' + d + '_by_' + dd] =\\\n",
      "C:\\Users\\Alex Tan\\AppData\\Local\\Temp\\ipykernel_15732\\3282759089.py:6: PerformanceWarning: DataFrame is highly fragmented.  This is usually the result of calling `frame.insert` many times, which has poor performance.  Consider joining all columns at once using pd.concat(axis=1) instead. To get a de-fragmented frame, use `newframe = frame.copy()`\n",
      "  final[ent + '_count_' + d + '_by_' + dd] =\\\n",
      "C:\\Users\\Alex Tan\\AppData\\Local\\Temp\\ipykernel_15732\\3282759089.py:6: PerformanceWarning: DataFrame is highly fragmented.  This is usually the result of calling `frame.insert` many times, which has poor performance.  Consider joining all columns at once using pd.concat(axis=1) instead. To get a de-fragmented frame, use `newframe = frame.copy()`\n",
      "  final[ent + '_count_' + d + '_by_' + dd] =\\\n",
      "C:\\Users\\Alex Tan\\AppData\\Local\\Temp\\ipykernel_15732\\3282759089.py:6: PerformanceWarning: DataFrame is highly fragmented.  This is usually the result of calling `frame.insert` many times, which has poor performance.  Consider joining all columns at once using pd.concat(axis=1) instead. To get a de-fragmented frame, use `newframe = frame.copy()`\n",
      "  final[ent + '_count_' + d + '_by_' + dd] =\\\n",
      "C:\\Users\\Alex Tan\\AppData\\Local\\Temp\\ipykernel_15732\\3282759089.py:6: PerformanceWarning: DataFrame is highly fragmented.  This is usually the result of calling `frame.insert` many times, which has poor performance.  Consider joining all columns at once using pd.concat(axis=1) instead. To get a de-fragmented frame, use `newframe = frame.copy()`\n",
      "  final[ent + '_count_' + d + '_by_' + dd] =\\\n",
      "C:\\Users\\Alex Tan\\AppData\\Local\\Temp\\ipykernel_15732\\3282759089.py:6: PerformanceWarning: DataFrame is highly fragmented.  This is usually the result of calling `frame.insert` many times, which has poor performance.  Consider joining all columns at once using pd.concat(axis=1) instead. To get a de-fragmented frame, use `newframe = frame.copy()`\n",
      "  final[ent + '_count_' + d + '_by_' + dd] =\\\n",
      "C:\\Users\\Alex Tan\\AppData\\Local\\Temp\\ipykernel_15732\\3282759089.py:6: PerformanceWarning: DataFrame is highly fragmented.  This is usually the result of calling `frame.insert` many times, which has poor performance.  Consider joining all columns at once using pd.concat(axis=1) instead. To get a de-fragmented frame, use `newframe = frame.copy()`\n",
      "  final[ent + '_count_' + d + '_by_' + dd] =\\\n",
      "C:\\Users\\Alex Tan\\AppData\\Local\\Temp\\ipykernel_15732\\3282759089.py:6: PerformanceWarning: DataFrame is highly fragmented.  This is usually the result of calling `frame.insert` many times, which has poor performance.  Consider joining all columns at once using pd.concat(axis=1) instead. To get a de-fragmented frame, use `newframe = frame.copy()`\n",
      "  final[ent + '_count_' + d + '_by_' + dd] =\\\n",
      "C:\\Users\\Alex Tan\\AppData\\Local\\Temp\\ipykernel_15732\\3282759089.py:6: PerformanceWarning: DataFrame is highly fragmented.  This is usually the result of calling `frame.insert` many times, which has poor performance.  Consider joining all columns at once using pd.concat(axis=1) instead. To get a de-fragmented frame, use `newframe = frame.copy()`\n",
      "  final[ent + '_count_' + d + '_by_' + dd] =\\\n",
      "C:\\Users\\Alex Tan\\AppData\\Local\\Temp\\ipykernel_15732\\3282759089.py:6: PerformanceWarning: DataFrame is highly fragmented.  This is usually the result of calling `frame.insert` many times, which has poor performance.  Consider joining all columns at once using pd.concat(axis=1) instead. To get a de-fragmented frame, use `newframe = frame.copy()`\n",
      "  final[ent + '_count_' + d + '_by_' + dd] =\\\n",
      "C:\\Users\\Alex Tan\\AppData\\Local\\Temp\\ipykernel_15732\\3282759089.py:6: PerformanceWarning: DataFrame is highly fragmented.  This is usually the result of calling `frame.insert` many times, which has poor performance.  Consider joining all columns at once using pd.concat(axis=1) instead. To get a de-fragmented frame, use `newframe = frame.copy()`\n",
      "  final[ent + '_count_' + d + '_by_' + dd] =\\\n",
      "C:\\Users\\Alex Tan\\AppData\\Local\\Temp\\ipykernel_15732\\3282759089.py:6: PerformanceWarning: DataFrame is highly fragmented.  This is usually the result of calling `frame.insert` many times, which has poor performance.  Consider joining all columns at once using pd.concat(axis=1) instead. To get a de-fragmented frame, use `newframe = frame.copy()`\n",
      "  final[ent + '_count_' + d + '_by_' + dd] =\\\n",
      "C:\\Users\\Alex Tan\\AppData\\Local\\Temp\\ipykernel_15732\\3282759089.py:6: PerformanceWarning: DataFrame is highly fragmented.  This is usually the result of calling `frame.insert` many times, which has poor performance.  Consider joining all columns at once using pd.concat(axis=1) instead. To get a de-fragmented frame, use `newframe = frame.copy()`\n",
      "  final[ent + '_count_' + d + '_by_' + dd] =\\\n",
      "C:\\Users\\Alex Tan\\AppData\\Local\\Temp\\ipykernel_15732\\3282759089.py:6: PerformanceWarning: DataFrame is highly fragmented.  This is usually the result of calling `frame.insert` many times, which has poor performance.  Consider joining all columns at once using pd.concat(axis=1) instead. To get a de-fragmented frame, use `newframe = frame.copy()`\n",
      "  final[ent + '_count_' + d + '_by_' + dd] =\\\n",
      "C:\\Users\\Alex Tan\\AppData\\Local\\Temp\\ipykernel_15732\\3282759089.py:6: PerformanceWarning: DataFrame is highly fragmented.  This is usually the result of calling `frame.insert` many times, which has poor performance.  Consider joining all columns at once using pd.concat(axis=1) instead. To get a de-fragmented frame, use `newframe = frame.copy()`\n",
      "  final[ent + '_count_' + d + '_by_' + dd] =\\\n",
      "C:\\Users\\Alex Tan\\AppData\\Local\\Temp\\ipykernel_15732\\3282759089.py:6: PerformanceWarning: DataFrame is highly fragmented.  This is usually the result of calling `frame.insert` many times, which has poor performance.  Consider joining all columns at once using pd.concat(axis=1) instead. To get a de-fragmented frame, use `newframe = frame.copy()`\n",
      "  final[ent + '_count_' + d + '_by_' + dd] =\\\n",
      "C:\\Users\\Alex Tan\\AppData\\Local\\Temp\\ipykernel_15732\\3282759089.py:6: PerformanceWarning: DataFrame is highly fragmented.  This is usually the result of calling `frame.insert` many times, which has poor performance.  Consider joining all columns at once using pd.concat(axis=1) instead. To get a de-fragmented frame, use `newframe = frame.copy()`\n",
      "  final[ent + '_count_' + d + '_by_' + dd] =\\\n",
      "C:\\Users\\Alex Tan\\AppData\\Local\\Temp\\ipykernel_15732\\3282759089.py:6: PerformanceWarning: DataFrame is highly fragmented.  This is usually the result of calling `frame.insert` many times, which has poor performance.  Consider joining all columns at once using pd.concat(axis=1) instead. To get a de-fragmented frame, use `newframe = frame.copy()`\n",
      "  final[ent + '_count_' + d + '_by_' + dd] =\\\n",
      "C:\\Users\\Alex Tan\\AppData\\Local\\Temp\\ipykernel_15732\\3282759089.py:6: PerformanceWarning: DataFrame is highly fragmented.  This is usually the result of calling `frame.insert` many times, which has poor performance.  Consider joining all columns at once using pd.concat(axis=1) instead. To get a de-fragmented frame, use `newframe = frame.copy()`\n",
      "  final[ent + '_count_' + d + '_by_' + dd] =\\\n"
     ]
    },
    {
     "name": "stderr",
     "output_type": "stream",
     "text": [
      "C:\\Users\\Alex Tan\\AppData\\Local\\Temp\\ipykernel_15732\\3282759089.py:6: PerformanceWarning: DataFrame is highly fragmented.  This is usually the result of calling `frame.insert` many times, which has poor performance.  Consider joining all columns at once using pd.concat(axis=1) instead. To get a de-fragmented frame, use `newframe = frame.copy()`\n",
      "  final[ent + '_count_' + d + '_by_' + dd] =\\\n",
      "C:\\Users\\Alex Tan\\AppData\\Local\\Temp\\ipykernel_15732\\3282759089.py:6: PerformanceWarning: DataFrame is highly fragmented.  This is usually the result of calling `frame.insert` many times, which has poor performance.  Consider joining all columns at once using pd.concat(axis=1) instead. To get a de-fragmented frame, use `newframe = frame.copy()`\n",
      "  final[ent + '_count_' + d + '_by_' + dd] =\\\n",
      "C:\\Users\\Alex Tan\\AppData\\Local\\Temp\\ipykernel_15732\\3282759089.py:6: PerformanceWarning: DataFrame is highly fragmented.  This is usually the result of calling `frame.insert` many times, which has poor performance.  Consider joining all columns at once using pd.concat(axis=1) instead. To get a de-fragmented frame, use `newframe = frame.copy()`\n",
      "  final[ent + '_count_' + d + '_by_' + dd] =\\\n",
      "C:\\Users\\Alex Tan\\AppData\\Local\\Temp\\ipykernel_15732\\3282759089.py:6: PerformanceWarning: DataFrame is highly fragmented.  This is usually the result of calling `frame.insert` many times, which has poor performance.  Consider joining all columns at once using pd.concat(axis=1) instead. To get a de-fragmented frame, use `newframe = frame.copy()`\n",
      "  final[ent + '_count_' + d + '_by_' + dd] =\\\n"
     ]
    }
   ],
   "source": [
    "start = timeit.default_timer()\n",
    "# velocity change variables\n",
    "for ent in entities:\n",
    "    for d in ['0', '1']:\n",
    "        for dd in ['7', '14', '30']:\n",
    "            final[ent + '_count_' + d + '_by_' + dd] =\\\n",
    "            final[ent + '_count_' + d]/(final[ent + '_count_' + dd])/float(dd)"
   ]
  },
  {
   "cell_type": "code",
   "execution_count": 71,
   "id": "90de4a36",
   "metadata": {},
   "outputs": [
    {
     "data": {
      "text/plain": [
       "60"
      ]
     },
     "execution_count": 71,
     "metadata": {},
     "output_type": "execute_result"
    }
   ],
   "source": [
    "newvars = len(final.columns) - 19 - varnum\n",
    "newvars"
   ]
  },
  {
   "cell_type": "code",
   "execution_count": 72,
   "id": "514ae216",
   "metadata": {},
   "outputs": [
    {
     "data": {
      "text/plain": [
       "613"
      ]
     },
     "execution_count": 72,
     "metadata": {},
     "output_type": "execute_result"
    }
   ],
   "source": [
    "varnum = len(final.columns) - 19\n",
    "varnum"
   ]
  },
  {
   "cell_type": "code",
   "execution_count": 73,
   "id": "48a761c4",
   "metadata": {
    "scrolled": true
   },
   "outputs": [
    {
     "name": "stderr",
     "output_type": "stream",
     "text": [
      "C:\\Users\\Alex Tan\\AppData\\Local\\Temp\\ipykernel_15732\\3320304332.py:6: PerformanceWarning: DataFrame is highly fragmented.  This is usually the result of calling `frame.insert` many times, which has poor performance.  Consider joining all columns at once using pd.concat(axis=1) instead. To get a de-fragmented frame, use `newframe = frame.copy()`\n",
      "  final[ent + '_vdratio_' + d  + 'by' + dd] =\\\n",
      "C:\\Users\\Alex Tan\\AppData\\Local\\Temp\\ipykernel_15732\\3320304332.py:6: PerformanceWarning: DataFrame is highly fragmented.  This is usually the result of calling `frame.insert` many times, which has poor performance.  Consider joining all columns at once using pd.concat(axis=1) instead. To get a de-fragmented frame, use `newframe = frame.copy()`\n",
      "  final[ent + '_vdratio_' + d  + 'by' + dd] =\\\n",
      "C:\\Users\\Alex Tan\\AppData\\Local\\Temp\\ipykernel_15732\\3320304332.py:6: PerformanceWarning: DataFrame is highly fragmented.  This is usually the result of calling `frame.insert` many times, which has poor performance.  Consider joining all columns at once using pd.concat(axis=1) instead. To get a de-fragmented frame, use `newframe = frame.copy()`\n",
      "  final[ent + '_vdratio_' + d  + 'by' + dd] =\\\n",
      "C:\\Users\\Alex Tan\\AppData\\Local\\Temp\\ipykernel_15732\\3320304332.py:6: PerformanceWarning: DataFrame is highly fragmented.  This is usually the result of calling `frame.insert` many times, which has poor performance.  Consider joining all columns at once using pd.concat(axis=1) instead. To get a de-fragmented frame, use `newframe = frame.copy()`\n",
      "  final[ent + '_vdratio_' + d  + 'by' + dd] =\\\n",
      "C:\\Users\\Alex Tan\\AppData\\Local\\Temp\\ipykernel_15732\\3320304332.py:6: PerformanceWarning: DataFrame is highly fragmented.  This is usually the result of calling `frame.insert` many times, which has poor performance.  Consider joining all columns at once using pd.concat(axis=1) instead. To get a de-fragmented frame, use `newframe = frame.copy()`\n",
      "  final[ent + '_vdratio_' + d  + 'by' + dd] =\\\n",
      "C:\\Users\\Alex Tan\\AppData\\Local\\Temp\\ipykernel_15732\\3320304332.py:6: PerformanceWarning: DataFrame is highly fragmented.  This is usually the result of calling `frame.insert` many times, which has poor performance.  Consider joining all columns at once using pd.concat(axis=1) instead. To get a de-fragmented frame, use `newframe = frame.copy()`\n",
      "  final[ent + '_vdratio_' + d  + 'by' + dd] =\\\n",
      "C:\\Users\\Alex Tan\\AppData\\Local\\Temp\\ipykernel_15732\\3320304332.py:6: PerformanceWarning: DataFrame is highly fragmented.  This is usually the result of calling `frame.insert` many times, which has poor performance.  Consider joining all columns at once using pd.concat(axis=1) instead. To get a de-fragmented frame, use `newframe = frame.copy()`\n",
      "  final[ent + '_vdratio_' + d  + 'by' + dd] =\\\n",
      "C:\\Users\\Alex Tan\\AppData\\Local\\Temp\\ipykernel_15732\\3320304332.py:6: PerformanceWarning: DataFrame is highly fragmented.  This is usually the result of calling `frame.insert` many times, which has poor performance.  Consider joining all columns at once using pd.concat(axis=1) instead. To get a de-fragmented frame, use `newframe = frame.copy()`\n",
      "  final[ent + '_vdratio_' + d  + 'by' + dd] =\\\n",
      "C:\\Users\\Alex Tan\\AppData\\Local\\Temp\\ipykernel_15732\\3320304332.py:6: PerformanceWarning: DataFrame is highly fragmented.  This is usually the result of calling `frame.insert` many times, which has poor performance.  Consider joining all columns at once using pd.concat(axis=1) instead. To get a de-fragmented frame, use `newframe = frame.copy()`\n",
      "  final[ent + '_vdratio_' + d  + 'by' + dd] =\\\n",
      "C:\\Users\\Alex Tan\\AppData\\Local\\Temp\\ipykernel_15732\\3320304332.py:6: PerformanceWarning: DataFrame is highly fragmented.  This is usually the result of calling `frame.insert` many times, which has poor performance.  Consider joining all columns at once using pd.concat(axis=1) instead. To get a de-fragmented frame, use `newframe = frame.copy()`\n",
      "  final[ent + '_vdratio_' + d  + 'by' + dd] =\\\n",
      "C:\\Users\\Alex Tan\\AppData\\Local\\Temp\\ipykernel_15732\\3320304332.py:6: PerformanceWarning: DataFrame is highly fragmented.  This is usually the result of calling `frame.insert` many times, which has poor performance.  Consider joining all columns at once using pd.concat(axis=1) instead. To get a de-fragmented frame, use `newframe = frame.copy()`\n",
      "  final[ent + '_vdratio_' + d  + 'by' + dd] =\\\n",
      "C:\\Users\\Alex Tan\\AppData\\Local\\Temp\\ipykernel_15732\\3320304332.py:6: PerformanceWarning: DataFrame is highly fragmented.  This is usually the result of calling `frame.insert` many times, which has poor performance.  Consider joining all columns at once using pd.concat(axis=1) instead. To get a de-fragmented frame, use `newframe = frame.copy()`\n",
      "  final[ent + '_vdratio_' + d  + 'by' + dd] =\\\n",
      "C:\\Users\\Alex Tan\\AppData\\Local\\Temp\\ipykernel_15732\\3320304332.py:6: PerformanceWarning: DataFrame is highly fragmented.  This is usually the result of calling `frame.insert` many times, which has poor performance.  Consider joining all columns at once using pd.concat(axis=1) instead. To get a de-fragmented frame, use `newframe = frame.copy()`\n",
      "  final[ent + '_vdratio_' + d  + 'by' + dd] =\\\n",
      "C:\\Users\\Alex Tan\\AppData\\Local\\Temp\\ipykernel_15732\\3320304332.py:6: PerformanceWarning: DataFrame is highly fragmented.  This is usually the result of calling `frame.insert` many times, which has poor performance.  Consider joining all columns at once using pd.concat(axis=1) instead. To get a de-fragmented frame, use `newframe = frame.copy()`\n",
      "  final[ent + '_vdratio_' + d  + 'by' + dd] =\\\n",
      "C:\\Users\\Alex Tan\\AppData\\Local\\Temp\\ipykernel_15732\\3320304332.py:6: PerformanceWarning: DataFrame is highly fragmented.  This is usually the result of calling `frame.insert` many times, which has poor performance.  Consider joining all columns at once using pd.concat(axis=1) instead. To get a de-fragmented frame, use `newframe = frame.copy()`\n",
      "  final[ent + '_vdratio_' + d  + 'by' + dd] =\\\n",
      "C:\\Users\\Alex Tan\\AppData\\Local\\Temp\\ipykernel_15732\\3320304332.py:6: PerformanceWarning: DataFrame is highly fragmented.  This is usually the result of calling `frame.insert` many times, which has poor performance.  Consider joining all columns at once using pd.concat(axis=1) instead. To get a de-fragmented frame, use `newframe = frame.copy()`\n",
      "  final[ent + '_vdratio_' + d  + 'by' + dd] =\\\n",
      "C:\\Users\\Alex Tan\\AppData\\Local\\Temp\\ipykernel_15732\\3320304332.py:6: PerformanceWarning: DataFrame is highly fragmented.  This is usually the result of calling `frame.insert` many times, which has poor performance.  Consider joining all columns at once using pd.concat(axis=1) instead. To get a de-fragmented frame, use `newframe = frame.copy()`\n",
      "  final[ent + '_vdratio_' + d  + 'by' + dd] =\\\n",
      "C:\\Users\\Alex Tan\\AppData\\Local\\Temp\\ipykernel_15732\\3320304332.py:6: PerformanceWarning: DataFrame is highly fragmented.  This is usually the result of calling `frame.insert` many times, which has poor performance.  Consider joining all columns at once using pd.concat(axis=1) instead. To get a de-fragmented frame, use `newframe = frame.copy()`\n",
      "  final[ent + '_vdratio_' + d  + 'by' + dd] =\\\n",
      "C:\\Users\\Alex Tan\\AppData\\Local\\Temp\\ipykernel_15732\\3320304332.py:6: PerformanceWarning: DataFrame is highly fragmented.  This is usually the result of calling `frame.insert` many times, which has poor performance.  Consider joining all columns at once using pd.concat(axis=1) instead. To get a de-fragmented frame, use `newframe = frame.copy()`\n",
      "  final[ent + '_vdratio_' + d  + 'by' + dd] =\\\n",
      "C:\\Users\\Alex Tan\\AppData\\Local\\Temp\\ipykernel_15732\\3320304332.py:6: PerformanceWarning: DataFrame is highly fragmented.  This is usually the result of calling `frame.insert` many times, which has poor performance.  Consider joining all columns at once using pd.concat(axis=1) instead. To get a de-fragmented frame, use `newframe = frame.copy()`\n",
      "  final[ent + '_vdratio_' + d  + 'by' + dd] =\\\n",
      "C:\\Users\\Alex Tan\\AppData\\Local\\Temp\\ipykernel_15732\\3320304332.py:6: PerformanceWarning: DataFrame is highly fragmented.  This is usually the result of calling `frame.insert` many times, which has poor performance.  Consider joining all columns at once using pd.concat(axis=1) instead. To get a de-fragmented frame, use `newframe = frame.copy()`\n",
      "  final[ent + '_vdratio_' + d  + 'by' + dd] =\\\n",
      "C:\\Users\\Alex Tan\\AppData\\Local\\Temp\\ipykernel_15732\\3320304332.py:6: PerformanceWarning: DataFrame is highly fragmented.  This is usually the result of calling `frame.insert` many times, which has poor performance.  Consider joining all columns at once using pd.concat(axis=1) instead. To get a de-fragmented frame, use `newframe = frame.copy()`\n",
      "  final[ent + '_vdratio_' + d  + 'by' + dd] =\\\n",
      "C:\\Users\\Alex Tan\\AppData\\Local\\Temp\\ipykernel_15732\\3320304332.py:6: PerformanceWarning: DataFrame is highly fragmented.  This is usually the result of calling `frame.insert` many times, which has poor performance.  Consider joining all columns at once using pd.concat(axis=1) instead. To get a de-fragmented frame, use `newframe = frame.copy()`\n",
      "  final[ent + '_vdratio_' + d  + 'by' + dd] =\\\n",
      "C:\\Users\\Alex Tan\\AppData\\Local\\Temp\\ipykernel_15732\\3320304332.py:6: PerformanceWarning: DataFrame is highly fragmented.  This is usually the result of calling `frame.insert` many times, which has poor performance.  Consider joining all columns at once using pd.concat(axis=1) instead. To get a de-fragmented frame, use `newframe = frame.copy()`\n",
      "  final[ent + '_vdratio_' + d  + 'by' + dd] =\\\n",
      "C:\\Users\\Alex Tan\\AppData\\Local\\Temp\\ipykernel_15732\\3320304332.py:6: PerformanceWarning: DataFrame is highly fragmented.  This is usually the result of calling `frame.insert` many times, which has poor performance.  Consider joining all columns at once using pd.concat(axis=1) instead. To get a de-fragmented frame, use `newframe = frame.copy()`\n",
      "  final[ent + '_vdratio_' + d  + 'by' + dd] =\\\n",
      "C:\\Users\\Alex Tan\\AppData\\Local\\Temp\\ipykernel_15732\\3320304332.py:6: PerformanceWarning: DataFrame is highly fragmented.  This is usually the result of calling `frame.insert` many times, which has poor performance.  Consider joining all columns at once using pd.concat(axis=1) instead. To get a de-fragmented frame, use `newframe = frame.copy()`\n",
      "  final[ent + '_vdratio_' + d  + 'by' + dd] =\\\n",
      "C:\\Users\\Alex Tan\\AppData\\Local\\Temp\\ipykernel_15732\\3320304332.py:6: PerformanceWarning: DataFrame is highly fragmented.  This is usually the result of calling `frame.insert` many times, which has poor performance.  Consider joining all columns at once using pd.concat(axis=1) instead. To get a de-fragmented frame, use `newframe = frame.copy()`\n",
      "  final[ent + '_vdratio_' + d  + 'by' + dd] =\\\n"
     ]
    },
    {
     "name": "stderr",
     "output_type": "stream",
     "text": [
      "C:\\Users\\Alex Tan\\AppData\\Local\\Temp\\ipykernel_15732\\3320304332.py:6: PerformanceWarning: DataFrame is highly fragmented.  This is usually the result of calling `frame.insert` many times, which has poor performance.  Consider joining all columns at once using pd.concat(axis=1) instead. To get a de-fragmented frame, use `newframe = frame.copy()`\n",
      "  final[ent + '_vdratio_' + d  + 'by' + dd] =\\\n",
      "C:\\Users\\Alex Tan\\AppData\\Local\\Temp\\ipykernel_15732\\3320304332.py:6: PerformanceWarning: DataFrame is highly fragmented.  This is usually the result of calling `frame.insert` many times, which has poor performance.  Consider joining all columns at once using pd.concat(axis=1) instead. To get a de-fragmented frame, use `newframe = frame.copy()`\n",
      "  final[ent + '_vdratio_' + d  + 'by' + dd] =\\\n",
      "C:\\Users\\Alex Tan\\AppData\\Local\\Temp\\ipykernel_15732\\3320304332.py:6: PerformanceWarning: DataFrame is highly fragmented.  This is usually the result of calling `frame.insert` many times, which has poor performance.  Consider joining all columns at once using pd.concat(axis=1) instead. To get a de-fragmented frame, use `newframe = frame.copy()`\n",
      "  final[ent + '_vdratio_' + d  + 'by' + dd] =\\\n",
      "C:\\Users\\Alex Tan\\AppData\\Local\\Temp\\ipykernel_15732\\3320304332.py:6: PerformanceWarning: DataFrame is highly fragmented.  This is usually the result of calling `frame.insert` many times, which has poor performance.  Consider joining all columns at once using pd.concat(axis=1) instead. To get a de-fragmented frame, use `newframe = frame.copy()`\n",
      "  final[ent + '_vdratio_' + d  + 'by' + dd] =\\\n",
      "C:\\Users\\Alex Tan\\AppData\\Local\\Temp\\ipykernel_15732\\3320304332.py:6: PerformanceWarning: DataFrame is highly fragmented.  This is usually the result of calling `frame.insert` many times, which has poor performance.  Consider joining all columns at once using pd.concat(axis=1) instead. To get a de-fragmented frame, use `newframe = frame.copy()`\n",
      "  final[ent + '_vdratio_' + d  + 'by' + dd] =\\\n",
      "C:\\Users\\Alex Tan\\AppData\\Local\\Temp\\ipykernel_15732\\3320304332.py:6: PerformanceWarning: DataFrame is highly fragmented.  This is usually the result of calling `frame.insert` many times, which has poor performance.  Consider joining all columns at once using pd.concat(axis=1) instead. To get a de-fragmented frame, use `newframe = frame.copy()`\n",
      "  final[ent + '_vdratio_' + d  + 'by' + dd] =\\\n",
      "C:\\Users\\Alex Tan\\AppData\\Local\\Temp\\ipykernel_15732\\3320304332.py:6: PerformanceWarning: DataFrame is highly fragmented.  This is usually the result of calling `frame.insert` many times, which has poor performance.  Consider joining all columns at once using pd.concat(axis=1) instead. To get a de-fragmented frame, use `newframe = frame.copy()`\n",
      "  final[ent + '_vdratio_' + d  + 'by' + dd] =\\\n",
      "C:\\Users\\Alex Tan\\AppData\\Local\\Temp\\ipykernel_15732\\3320304332.py:6: PerformanceWarning: DataFrame is highly fragmented.  This is usually the result of calling `frame.insert` many times, which has poor performance.  Consider joining all columns at once using pd.concat(axis=1) instead. To get a de-fragmented frame, use `newframe = frame.copy()`\n",
      "  final[ent + '_vdratio_' + d  + 'by' + dd] =\\\n",
      "C:\\Users\\Alex Tan\\AppData\\Local\\Temp\\ipykernel_15732\\3320304332.py:6: PerformanceWarning: DataFrame is highly fragmented.  This is usually the result of calling `frame.insert` many times, which has poor performance.  Consider joining all columns at once using pd.concat(axis=1) instead. To get a de-fragmented frame, use `newframe = frame.copy()`\n",
      "  final[ent + '_vdratio_' + d  + 'by' + dd] =\\\n",
      "C:\\Users\\Alex Tan\\AppData\\Local\\Temp\\ipykernel_15732\\3320304332.py:6: PerformanceWarning: DataFrame is highly fragmented.  This is usually the result of calling `frame.insert` many times, which has poor performance.  Consider joining all columns at once using pd.concat(axis=1) instead. To get a de-fragmented frame, use `newframe = frame.copy()`\n",
      "  final[ent + '_vdratio_' + d  + 'by' + dd] =\\\n",
      "C:\\Users\\Alex Tan\\AppData\\Local\\Temp\\ipykernel_15732\\3320304332.py:6: PerformanceWarning: DataFrame is highly fragmented.  This is usually the result of calling `frame.insert` many times, which has poor performance.  Consider joining all columns at once using pd.concat(axis=1) instead. To get a de-fragmented frame, use `newframe = frame.copy()`\n",
      "  final[ent + '_vdratio_' + d  + 'by' + dd] =\\\n",
      "C:\\Users\\Alex Tan\\AppData\\Local\\Temp\\ipykernel_15732\\3320304332.py:6: PerformanceWarning: DataFrame is highly fragmented.  This is usually the result of calling `frame.insert` many times, which has poor performance.  Consider joining all columns at once using pd.concat(axis=1) instead. To get a de-fragmented frame, use `newframe = frame.copy()`\n",
      "  final[ent + '_vdratio_' + d  + 'by' + dd] =\\\n",
      "C:\\Users\\Alex Tan\\AppData\\Local\\Temp\\ipykernel_15732\\3320304332.py:6: PerformanceWarning: DataFrame is highly fragmented.  This is usually the result of calling `frame.insert` many times, which has poor performance.  Consider joining all columns at once using pd.concat(axis=1) instead. To get a de-fragmented frame, use `newframe = frame.copy()`\n",
      "  final[ent + '_vdratio_' + d  + 'by' + dd] =\\\n",
      "C:\\Users\\Alex Tan\\AppData\\Local\\Temp\\ipykernel_15732\\3320304332.py:6: PerformanceWarning: DataFrame is highly fragmented.  This is usually the result of calling `frame.insert` many times, which has poor performance.  Consider joining all columns at once using pd.concat(axis=1) instead. To get a de-fragmented frame, use `newframe = frame.copy()`\n",
      "  final[ent + '_vdratio_' + d  + 'by' + dd] =\\\n",
      "C:\\Users\\Alex Tan\\AppData\\Local\\Temp\\ipykernel_15732\\3320304332.py:6: PerformanceWarning: DataFrame is highly fragmented.  This is usually the result of calling `frame.insert` many times, which has poor performance.  Consider joining all columns at once using pd.concat(axis=1) instead. To get a de-fragmented frame, use `newframe = frame.copy()`\n",
      "  final[ent + '_vdratio_' + d  + 'by' + dd] =\\\n",
      "C:\\Users\\Alex Tan\\AppData\\Local\\Temp\\ipykernel_15732\\3320304332.py:6: PerformanceWarning: DataFrame is highly fragmented.  This is usually the result of calling `frame.insert` many times, which has poor performance.  Consider joining all columns at once using pd.concat(axis=1) instead. To get a de-fragmented frame, use `newframe = frame.copy()`\n",
      "  final[ent + '_vdratio_' + d  + 'by' + dd] =\\\n",
      "C:\\Users\\Alex Tan\\AppData\\Local\\Temp\\ipykernel_15732\\3320304332.py:6: PerformanceWarning: DataFrame is highly fragmented.  This is usually the result of calling `frame.insert` many times, which has poor performance.  Consider joining all columns at once using pd.concat(axis=1) instead. To get a de-fragmented frame, use `newframe = frame.copy()`\n",
      "  final[ent + '_vdratio_' + d  + 'by' + dd] =\\\n",
      "C:\\Users\\Alex Tan\\AppData\\Local\\Temp\\ipykernel_15732\\3320304332.py:6: PerformanceWarning: DataFrame is highly fragmented.  This is usually the result of calling `frame.insert` many times, which has poor performance.  Consider joining all columns at once using pd.concat(axis=1) instead. To get a de-fragmented frame, use `newframe = frame.copy()`\n",
      "  final[ent + '_vdratio_' + d  + 'by' + dd] =\\\n",
      "C:\\Users\\Alex Tan\\AppData\\Local\\Temp\\ipykernel_15732\\3320304332.py:6: PerformanceWarning: DataFrame is highly fragmented.  This is usually the result of calling `frame.insert` many times, which has poor performance.  Consider joining all columns at once using pd.concat(axis=1) instead. To get a de-fragmented frame, use `newframe = frame.copy()`\n",
      "  final[ent + '_vdratio_' + d  + 'by' + dd] =\\\n",
      "C:\\Users\\Alex Tan\\AppData\\Local\\Temp\\ipykernel_15732\\3320304332.py:6: PerformanceWarning: DataFrame is highly fragmented.  This is usually the result of calling `frame.insert` many times, which has poor performance.  Consider joining all columns at once using pd.concat(axis=1) instead. To get a de-fragmented frame, use `newframe = frame.copy()`\n",
      "  final[ent + '_vdratio_' + d  + 'by' + dd] =\\\n",
      "C:\\Users\\Alex Tan\\AppData\\Local\\Temp\\ipykernel_15732\\3320304332.py:6: PerformanceWarning: DataFrame is highly fragmented.  This is usually the result of calling `frame.insert` many times, which has poor performance.  Consider joining all columns at once using pd.concat(axis=1) instead. To get a de-fragmented frame, use `newframe = frame.copy()`\n",
      "  final[ent + '_vdratio_' + d  + 'by' + dd] =\\\n",
      "C:\\Users\\Alex Tan\\AppData\\Local\\Temp\\ipykernel_15732\\3320304332.py:6: PerformanceWarning: DataFrame is highly fragmented.  This is usually the result of calling `frame.insert` many times, which has poor performance.  Consider joining all columns at once using pd.concat(axis=1) instead. To get a de-fragmented frame, use `newframe = frame.copy()`\n",
      "  final[ent + '_vdratio_' + d  + 'by' + dd] =\\\n",
      "C:\\Users\\Alex Tan\\AppData\\Local\\Temp\\ipykernel_15732\\3320304332.py:6: PerformanceWarning: DataFrame is highly fragmented.  This is usually the result of calling `frame.insert` many times, which has poor performance.  Consider joining all columns at once using pd.concat(axis=1) instead. To get a de-fragmented frame, use `newframe = frame.copy()`\n",
      "  final[ent + '_vdratio_' + d  + 'by' + dd] =\\\n",
      "C:\\Users\\Alex Tan\\AppData\\Local\\Temp\\ipykernel_15732\\3320304332.py:6: PerformanceWarning: DataFrame is highly fragmented.  This is usually the result of calling `frame.insert` many times, which has poor performance.  Consider joining all columns at once using pd.concat(axis=1) instead. To get a de-fragmented frame, use `newframe = frame.copy()`\n",
      "  final[ent + '_vdratio_' + d  + 'by' + dd] =\\\n",
      "C:\\Users\\Alex Tan\\AppData\\Local\\Temp\\ipykernel_15732\\3320304332.py:6: PerformanceWarning: DataFrame is highly fragmented.  This is usually the result of calling `frame.insert` many times, which has poor performance.  Consider joining all columns at once using pd.concat(axis=1) instead. To get a de-fragmented frame, use `newframe = frame.copy()`\n",
      "  final[ent + '_vdratio_' + d  + 'by' + dd] =\\\n",
      "C:\\Users\\Alex Tan\\AppData\\Local\\Temp\\ipykernel_15732\\3320304332.py:6: PerformanceWarning: DataFrame is highly fragmented.  This is usually the result of calling `frame.insert` many times, which has poor performance.  Consider joining all columns at once using pd.concat(axis=1) instead. To get a de-fragmented frame, use `newframe = frame.copy()`\n",
      "  final[ent + '_vdratio_' + d  + 'by' + dd] =\\\n",
      "C:\\Users\\Alex Tan\\AppData\\Local\\Temp\\ipykernel_15732\\3320304332.py:6: PerformanceWarning: DataFrame is highly fragmented.  This is usually the result of calling `frame.insert` many times, which has poor performance.  Consider joining all columns at once using pd.concat(axis=1) instead. To get a de-fragmented frame, use `newframe = frame.copy()`\n",
      "  final[ent + '_vdratio_' + d  + 'by' + dd] =\\\n",
      "C:\\Users\\Alex Tan\\AppData\\Local\\Temp\\ipykernel_15732\\3320304332.py:6: PerformanceWarning: DataFrame is highly fragmented.  This is usually the result of calling `frame.insert` many times, which has poor performance.  Consider joining all columns at once using pd.concat(axis=1) instead. To get a de-fragmented frame, use `newframe = frame.copy()`\n",
      "  final[ent + '_vdratio_' + d  + 'by' + dd] =\\\n",
      "C:\\Users\\Alex Tan\\AppData\\Local\\Temp\\ipykernel_15732\\3320304332.py:6: PerformanceWarning: DataFrame is highly fragmented.  This is usually the result of calling `frame.insert` many times, which has poor performance.  Consider joining all columns at once using pd.concat(axis=1) instead. To get a de-fragmented frame, use `newframe = frame.copy()`\n",
      "  final[ent + '_vdratio_' + d  + 'by' + dd] =\\\n"
     ]
    },
    {
     "name": "stderr",
     "output_type": "stream",
     "text": [
      "C:\\Users\\Alex Tan\\AppData\\Local\\Temp\\ipykernel_15732\\3320304332.py:6: PerformanceWarning: DataFrame is highly fragmented.  This is usually the result of calling `frame.insert` many times, which has poor performance.  Consider joining all columns at once using pd.concat(axis=1) instead. To get a de-fragmented frame, use `newframe = frame.copy()`\n",
      "  final[ent + '_vdratio_' + d  + 'by' + dd] =\\\n",
      "C:\\Users\\Alex Tan\\AppData\\Local\\Temp\\ipykernel_15732\\3320304332.py:6: PerformanceWarning: DataFrame is highly fragmented.  This is usually the result of calling `frame.insert` many times, which has poor performance.  Consider joining all columns at once using pd.concat(axis=1) instead. To get a de-fragmented frame, use `newframe = frame.copy()`\n",
      "  final[ent + '_vdratio_' + d  + 'by' + dd] =\\\n",
      "C:\\Users\\Alex Tan\\AppData\\Local\\Temp\\ipykernel_15732\\3320304332.py:6: PerformanceWarning: DataFrame is highly fragmented.  This is usually the result of calling `frame.insert` many times, which has poor performance.  Consider joining all columns at once using pd.concat(axis=1) instead. To get a de-fragmented frame, use `newframe = frame.copy()`\n",
      "  final[ent + '_vdratio_' + d  + 'by' + dd] =\\\n",
      "C:\\Users\\Alex Tan\\AppData\\Local\\Temp\\ipykernel_15732\\3320304332.py:6: PerformanceWarning: DataFrame is highly fragmented.  This is usually the result of calling `frame.insert` many times, which has poor performance.  Consider joining all columns at once using pd.concat(axis=1) instead. To get a de-fragmented frame, use `newframe = frame.copy()`\n",
      "  final[ent + '_vdratio_' + d  + 'by' + dd] =\\\n"
     ]
    }
   ],
   "source": [
    "start = timeit.default_timer()\n",
    "# velocity days since ratio\n",
    "for ent in entities:\n",
    "    for d in ['0', '1']:\n",
    "        for dd in ['7', '14', '30']:\n",
    "            final[ent + '_vdratio_' + d  + 'by' + dd] =\\\n",
    "            final[ent + '_count_' + d + '_by_' + dd]/(final[ent + '_day_since']+1)"
   ]
  },
  {
   "cell_type": "code",
   "execution_count": 74,
   "id": "176880a4",
   "metadata": {},
   "outputs": [
    {
     "data": {
      "text/plain": [
       "60"
      ]
     },
     "execution_count": 74,
     "metadata": {},
     "output_type": "execute_result"
    }
   ],
   "source": [
    "newvars = len(final.columns) - 19 - varnum\n",
    "newvars"
   ]
  },
  {
   "cell_type": "code",
   "execution_count": 75,
   "id": "9ab832e7",
   "metadata": {},
   "outputs": [
    {
     "data": {
      "text/plain": [
       "692"
      ]
     },
     "execution_count": 75,
     "metadata": {},
     "output_type": "execute_result"
    }
   ],
   "source": [
    "len(final.columns)"
   ]
  },
  {
   "cell_type": "markdown",
   "id": "107495fb",
   "metadata": {},
   "source": [
    "## Entities variables"
   ]
  },
  {
   "cell_type": "code",
   "execution_count": 76,
   "id": "74e6c4b7",
   "metadata": {},
   "outputs": [
    {
     "data": {
      "text/plain": [
       "673"
      ]
     },
     "execution_count": 76,
     "metadata": {},
     "output_type": "execute_result"
    }
   ],
   "source": [
    "varnum = len(final.columns) - 19\n",
    "varnum"
   ]
  },
  {
   "cell_type": "code",
   "execution_count": 77,
   "id": "a8b514c6",
   "metadata": {},
   "outputs": [
    {
     "name": "stderr",
     "output_type": "stream",
     "text": [
      "C:\\Users\\Alex Tan\\AppData\\Local\\Temp\\ipykernel_15732\\1564456075.py:15: PerformanceWarning: DataFrame is highly fragmented.  This is usually the result of calling `frame.insert` many times, which has poor performance.  Consider joining all columns at once using pd.concat(axis=1) instead. To get a de-fragmented frame, use `newframe = frame.copy()`\n",
      "  final[col_name]=final.Recnum.map(mapper)\n",
      "C:\\Users\\Alex Tan\\AppData\\Local\\Temp\\ipykernel_15732\\1564456075.py:15: PerformanceWarning: DataFrame is highly fragmented.  This is usually the result of calling `frame.insert` many times, which has poor performance.  Consider joining all columns at once using pd.concat(axis=1) instead. To get a de-fragmented frame, use `newframe = frame.copy()`\n",
      "  final[col_name]=final.Recnum.map(mapper)\n",
      "C:\\Users\\Alex Tan\\AppData\\Local\\Temp\\ipykernel_15732\\1564456075.py:15: PerformanceWarning: DataFrame is highly fragmented.  This is usually the result of calling `frame.insert` many times, which has poor performance.  Consider joining all columns at once using pd.concat(axis=1) instead. To get a de-fragmented frame, use `newframe = frame.copy()`\n",
      "  final[col_name]=final.Recnum.map(mapper)\n",
      "C:\\Users\\Alex Tan\\AppData\\Local\\Temp\\ipykernel_15732\\1564456075.py:15: PerformanceWarning: DataFrame is highly fragmented.  This is usually the result of calling `frame.insert` many times, which has poor performance.  Consider joining all columns at once using pd.concat(axis=1) instead. To get a de-fragmented frame, use `newframe = frame.copy()`\n",
      "  final[col_name]=final.Recnum.map(mapper)\n",
      "C:\\Users\\Alex Tan\\AppData\\Local\\Temp\\ipykernel_15732\\1564456075.py:15: PerformanceWarning: DataFrame is highly fragmented.  This is usually the result of calling `frame.insert` many times, which has poor performance.  Consider joining all columns at once using pd.concat(axis=1) instead. To get a de-fragmented frame, use `newframe = frame.copy()`\n",
      "  final[col_name]=final.Recnum.map(mapper)\n",
      "C:\\Users\\Alex Tan\\AppData\\Local\\Temp\\ipykernel_15732\\1564456075.py:15: PerformanceWarning: DataFrame is highly fragmented.  This is usually the result of calling `frame.insert` many times, which has poor performance.  Consider joining all columns at once using pd.concat(axis=1) instead. To get a de-fragmented frame, use `newframe = frame.copy()`\n",
      "  final[col_name]=final.Recnum.map(mapper)\n",
      "C:\\Users\\Alex Tan\\AppData\\Local\\Temp\\ipykernel_15732\\1564456075.py:15: PerformanceWarning: DataFrame is highly fragmented.  This is usually the result of calling `frame.insert` many times, which has poor performance.  Consider joining all columns at once using pd.concat(axis=1) instead. To get a de-fragmented frame, use `newframe = frame.copy()`\n",
      "  final[col_name]=final.Recnum.map(mapper)\n",
      "C:\\Users\\Alex Tan\\AppData\\Local\\Temp\\ipykernel_15732\\1564456075.py:15: PerformanceWarning: DataFrame is highly fragmented.  This is usually the result of calling `frame.insert` many times, which has poor performance.  Consider joining all columns at once using pd.concat(axis=1) instead. To get a de-fragmented frame, use `newframe = frame.copy()`\n",
      "  final[col_name]=final.Recnum.map(mapper)\n",
      "C:\\Users\\Alex Tan\\AppData\\Local\\Temp\\ipykernel_15732\\1564456075.py:15: PerformanceWarning: DataFrame is highly fragmented.  This is usually the result of calling `frame.insert` many times, which has poor performance.  Consider joining all columns at once using pd.concat(axis=1) instead. To get a de-fragmented frame, use `newframe = frame.copy()`\n",
      "  final[col_name]=final.Recnum.map(mapper)\n",
      "C:\\Users\\Alex Tan\\AppData\\Local\\Temp\\ipykernel_15732\\1564456075.py:15: PerformanceWarning: DataFrame is highly fragmented.  This is usually the result of calling `frame.insert` many times, which has poor performance.  Consider joining all columns at once using pd.concat(axis=1) instead. To get a de-fragmented frame, use `newframe = frame.copy()`\n",
      "  final[col_name]=final.Recnum.map(mapper)\n",
      "C:\\Users\\Alex Tan\\AppData\\Local\\Temp\\ipykernel_15732\\1564456075.py:15: PerformanceWarning: DataFrame is highly fragmented.  This is usually the result of calling `frame.insert` many times, which has poor performance.  Consider joining all columns at once using pd.concat(axis=1) instead. To get a de-fragmented frame, use `newframe = frame.copy()`\n",
      "  final[col_name]=final.Recnum.map(mapper)\n",
      "C:\\Users\\Alex Tan\\AppData\\Local\\Temp\\ipykernel_15732\\1564456075.py:15: PerformanceWarning: DataFrame is highly fragmented.  This is usually the result of calling `frame.insert` many times, which has poor performance.  Consider joining all columns at once using pd.concat(axis=1) instead. To get a de-fragmented frame, use `newframe = frame.copy()`\n",
      "  final[col_name]=final.Recnum.map(mapper)\n",
      "C:\\Users\\Alex Tan\\AppData\\Local\\Temp\\ipykernel_15732\\1564456075.py:15: PerformanceWarning: DataFrame is highly fragmented.  This is usually the result of calling `frame.insert` many times, which has poor performance.  Consider joining all columns at once using pd.concat(axis=1) instead. To get a de-fragmented frame, use `newframe = frame.copy()`\n",
      "  final[col_name]=final.Recnum.map(mapper)\n",
      "C:\\Users\\Alex Tan\\AppData\\Local\\Temp\\ipykernel_15732\\1564456075.py:15: PerformanceWarning: DataFrame is highly fragmented.  This is usually the result of calling `frame.insert` many times, which has poor performance.  Consider joining all columns at once using pd.concat(axis=1) instead. To get a de-fragmented frame, use `newframe = frame.copy()`\n",
      "  final[col_name]=final.Recnum.map(mapper)\n",
      "C:\\Users\\Alex Tan\\AppData\\Local\\Temp\\ipykernel_15732\\1564456075.py:15: PerformanceWarning: DataFrame is highly fragmented.  This is usually the result of calling `frame.insert` many times, which has poor performance.  Consider joining all columns at once using pd.concat(axis=1) instead. To get a de-fragmented frame, use `newframe = frame.copy()`\n",
      "  final[col_name]=final.Recnum.map(mapper)\n",
      "C:\\Users\\Alex Tan\\AppData\\Local\\Temp\\ipykernel_15732\\1564456075.py:15: PerformanceWarning: DataFrame is highly fragmented.  This is usually the result of calling `frame.insert` many times, which has poor performance.  Consider joining all columns at once using pd.concat(axis=1) instead. To get a de-fragmented frame, use `newframe = frame.copy()`\n",
      "  final[col_name]=final.Recnum.map(mapper)\n",
      "C:\\Users\\Alex Tan\\AppData\\Local\\Temp\\ipykernel_15732\\1564456075.py:15: PerformanceWarning: DataFrame is highly fragmented.  This is usually the result of calling `frame.insert` many times, which has poor performance.  Consider joining all columns at once using pd.concat(axis=1) instead. To get a de-fragmented frame, use `newframe = frame.copy()`\n",
      "  final[col_name]=final.Recnum.map(mapper)\n",
      "C:\\Users\\Alex Tan\\AppData\\Local\\Temp\\ipykernel_15732\\1564456075.py:15: PerformanceWarning: DataFrame is highly fragmented.  This is usually the result of calling `frame.insert` many times, which has poor performance.  Consider joining all columns at once using pd.concat(axis=1) instead. To get a de-fragmented frame, use `newframe = frame.copy()`\n",
      "  final[col_name]=final.Recnum.map(mapper)\n",
      "C:\\Users\\Alex Tan\\AppData\\Local\\Temp\\ipykernel_15732\\1564456075.py:15: PerformanceWarning: DataFrame is highly fragmented.  This is usually the result of calling `frame.insert` many times, which has poor performance.  Consider joining all columns at once using pd.concat(axis=1) instead. To get a de-fragmented frame, use `newframe = frame.copy()`\n",
      "  final[col_name]=final.Recnum.map(mapper)\n",
      "C:\\Users\\Alex Tan\\AppData\\Local\\Temp\\ipykernel_15732\\1564456075.py:15: PerformanceWarning: DataFrame is highly fragmented.  This is usually the result of calling `frame.insert` many times, which has poor performance.  Consider joining all columns at once using pd.concat(axis=1) instead. To get a de-fragmented frame, use `newframe = frame.copy()`\n",
      "  final[col_name]=final.Recnum.map(mapper)\n",
      "C:\\Users\\Alex Tan\\AppData\\Local\\Temp\\ipykernel_15732\\1564456075.py:15: PerformanceWarning: DataFrame is highly fragmented.  This is usually the result of calling `frame.insert` many times, which has poor performance.  Consider joining all columns at once using pd.concat(axis=1) instead. To get a de-fragmented frame, use `newframe = frame.copy()`\n",
      "  final[col_name]=final.Recnum.map(mapper)\n"
     ]
    },
    {
     "name": "stderr",
     "output_type": "stream",
     "text": [
      "C:\\Users\\Alex Tan\\AppData\\Local\\Temp\\ipykernel_15732\\1564456075.py:15: PerformanceWarning: DataFrame is highly fragmented.  This is usually the result of calling `frame.insert` many times, which has poor performance.  Consider joining all columns at once using pd.concat(axis=1) instead. To get a de-fragmented frame, use `newframe = frame.copy()`\n",
      "  final[col_name]=final.Recnum.map(mapper)\n",
      "C:\\Users\\Alex Tan\\AppData\\Local\\Temp\\ipykernel_15732\\1564456075.py:15: PerformanceWarning: DataFrame is highly fragmented.  This is usually the result of calling `frame.insert` many times, which has poor performance.  Consider joining all columns at once using pd.concat(axis=1) instead. To get a de-fragmented frame, use `newframe = frame.copy()`\n",
      "  final[col_name]=final.Recnum.map(mapper)\n",
      "C:\\Users\\Alex Tan\\AppData\\Local\\Temp\\ipykernel_15732\\1564456075.py:15: PerformanceWarning: DataFrame is highly fragmented.  This is usually the result of calling `frame.insert` many times, which has poor performance.  Consider joining all columns at once using pd.concat(axis=1) instead. To get a de-fragmented frame, use `newframe = frame.copy()`\n",
      "  final[col_name]=final.Recnum.map(mapper)\n",
      "C:\\Users\\Alex Tan\\AppData\\Local\\Temp\\ipykernel_15732\\1564456075.py:15: PerformanceWarning: DataFrame is highly fragmented.  This is usually the result of calling `frame.insert` many times, which has poor performance.  Consider joining all columns at once using pd.concat(axis=1) instead. To get a de-fragmented frame, use `newframe = frame.copy()`\n",
      "  final[col_name]=final.Recnum.map(mapper)\n",
      "C:\\Users\\Alex Tan\\AppData\\Local\\Temp\\ipykernel_15732\\1564456075.py:15: PerformanceWarning: DataFrame is highly fragmented.  This is usually the result of calling `frame.insert` many times, which has poor performance.  Consider joining all columns at once using pd.concat(axis=1) instead. To get a de-fragmented frame, use `newframe = frame.copy()`\n",
      "  final[col_name]=final.Recnum.map(mapper)\n",
      "C:\\Users\\Alex Tan\\AppData\\Local\\Temp\\ipykernel_15732\\1564456075.py:15: PerformanceWarning: DataFrame is highly fragmented.  This is usually the result of calling `frame.insert` many times, which has poor performance.  Consider joining all columns at once using pd.concat(axis=1) instead. To get a de-fragmented frame, use `newframe = frame.copy()`\n",
      "  final[col_name]=final.Recnum.map(mapper)\n",
      "C:\\Users\\Alex Tan\\AppData\\Local\\Temp\\ipykernel_15732\\1564456075.py:15: PerformanceWarning: DataFrame is highly fragmented.  This is usually the result of calling `frame.insert` many times, which has poor performance.  Consider joining all columns at once using pd.concat(axis=1) instead. To get a de-fragmented frame, use `newframe = frame.copy()`\n",
      "  final[col_name]=final.Recnum.map(mapper)\n",
      "C:\\Users\\Alex Tan\\AppData\\Local\\Temp\\ipykernel_15732\\1564456075.py:15: PerformanceWarning: DataFrame is highly fragmented.  This is usually the result of calling `frame.insert` many times, which has poor performance.  Consider joining all columns at once using pd.concat(axis=1) instead. To get a de-fragmented frame, use `newframe = frame.copy()`\n",
      "  final[col_name]=final.Recnum.map(mapper)\n",
      "C:\\Users\\Alex Tan\\AppData\\Local\\Temp\\ipykernel_15732\\1564456075.py:15: PerformanceWarning: DataFrame is highly fragmented.  This is usually the result of calling `frame.insert` many times, which has poor performance.  Consider joining all columns at once using pd.concat(axis=1) instead. To get a de-fragmented frame, use `newframe = frame.copy()`\n",
      "  final[col_name]=final.Recnum.map(mapper)\n",
      "C:\\Users\\Alex Tan\\AppData\\Local\\Temp\\ipykernel_15732\\1564456075.py:15: PerformanceWarning: DataFrame is highly fragmented.  This is usually the result of calling `frame.insert` many times, which has poor performance.  Consider joining all columns at once using pd.concat(axis=1) instead. To get a de-fragmented frame, use `newframe = frame.copy()`\n",
      "  final[col_name]=final.Recnum.map(mapper)\n",
      "C:\\Users\\Alex Tan\\AppData\\Local\\Temp\\ipykernel_15732\\1564456075.py:15: PerformanceWarning: DataFrame is highly fragmented.  This is usually the result of calling `frame.insert` many times, which has poor performance.  Consider joining all columns at once using pd.concat(axis=1) instead. To get a de-fragmented frame, use `newframe = frame.copy()`\n",
      "  final[col_name]=final.Recnum.map(mapper)\n",
      "C:\\Users\\Alex Tan\\AppData\\Local\\Temp\\ipykernel_15732\\1564456075.py:15: PerformanceWarning: DataFrame is highly fragmented.  This is usually the result of calling `frame.insert` many times, which has poor performance.  Consider joining all columns at once using pd.concat(axis=1) instead. To get a de-fragmented frame, use `newframe = frame.copy()`\n",
      "  final[col_name]=final.Recnum.map(mapper)\n",
      "C:\\Users\\Alex Tan\\AppData\\Local\\Temp\\ipykernel_15732\\1564456075.py:15: PerformanceWarning: DataFrame is highly fragmented.  This is usually the result of calling `frame.insert` many times, which has poor performance.  Consider joining all columns at once using pd.concat(axis=1) instead. To get a de-fragmented frame, use `newframe = frame.copy()`\n",
      "  final[col_name]=final.Recnum.map(mapper)\n",
      "C:\\Users\\Alex Tan\\AppData\\Local\\Temp\\ipykernel_15732\\1564456075.py:15: PerformanceWarning: DataFrame is highly fragmented.  This is usually the result of calling `frame.insert` many times, which has poor performance.  Consider joining all columns at once using pd.concat(axis=1) instead. To get a de-fragmented frame, use `newframe = frame.copy()`\n",
      "  final[col_name]=final.Recnum.map(mapper)\n",
      "C:\\Users\\Alex Tan\\AppData\\Local\\Temp\\ipykernel_15732\\1564456075.py:15: PerformanceWarning: DataFrame is highly fragmented.  This is usually the result of calling `frame.insert` many times, which has poor performance.  Consider joining all columns at once using pd.concat(axis=1) instead. To get a de-fragmented frame, use `newframe = frame.copy()`\n",
      "  final[col_name]=final.Recnum.map(mapper)\n",
      "C:\\Users\\Alex Tan\\AppData\\Local\\Temp\\ipykernel_15732\\1564456075.py:15: PerformanceWarning: DataFrame is highly fragmented.  This is usually the result of calling `frame.insert` many times, which has poor performance.  Consider joining all columns at once using pd.concat(axis=1) instead. To get a de-fragmented frame, use `newframe = frame.copy()`\n",
      "  final[col_name]=final.Recnum.map(mapper)\n",
      "C:\\Users\\Alex Tan\\AppData\\Local\\Temp\\ipykernel_15732\\1564456075.py:15: PerformanceWarning: DataFrame is highly fragmented.  This is usually the result of calling `frame.insert` many times, which has poor performance.  Consider joining all columns at once using pd.concat(axis=1) instead. To get a de-fragmented frame, use `newframe = frame.copy()`\n",
      "  final[col_name]=final.Recnum.map(mapper)\n",
      "C:\\Users\\Alex Tan\\AppData\\Local\\Temp\\ipykernel_15732\\1564456075.py:15: PerformanceWarning: DataFrame is highly fragmented.  This is usually the result of calling `frame.insert` many times, which has poor performance.  Consider joining all columns at once using pd.concat(axis=1) instead. To get a de-fragmented frame, use `newframe = frame.copy()`\n",
      "  final[col_name]=final.Recnum.map(mapper)\n",
      "C:\\Users\\Alex Tan\\AppData\\Local\\Temp\\ipykernel_15732\\1564456075.py:15: PerformanceWarning: DataFrame is highly fragmented.  This is usually the result of calling `frame.insert` many times, which has poor performance.  Consider joining all columns at once using pd.concat(axis=1) instead. To get a de-fragmented frame, use `newframe = frame.copy()`\n",
      "  final[col_name]=final.Recnum.map(mapper)\n",
      "C:\\Users\\Alex Tan\\AppData\\Local\\Temp\\ipykernel_15732\\1564456075.py:15: PerformanceWarning: DataFrame is highly fragmented.  This is usually the result of calling `frame.insert` many times, which has poor performance.  Consider joining all columns at once using pd.concat(axis=1) instead. To get a de-fragmented frame, use `newframe = frame.copy()`\n",
      "  final[col_name]=final.Recnum.map(mapper)\n",
      "C:\\Users\\Alex Tan\\AppData\\Local\\Temp\\ipykernel_15732\\1564456075.py:15: PerformanceWarning: DataFrame is highly fragmented.  This is usually the result of calling `frame.insert` many times, which has poor performance.  Consider joining all columns at once using pd.concat(axis=1) instead. To get a de-fragmented frame, use `newframe = frame.copy()`\n",
      "  final[col_name]=final.Recnum.map(mapper)\n"
     ]
    },
    {
     "name": "stderr",
     "output_type": "stream",
     "text": [
      "C:\\Users\\Alex Tan\\AppData\\Local\\Temp\\ipykernel_15732\\1564456075.py:15: PerformanceWarning: DataFrame is highly fragmented.  This is usually the result of calling `frame.insert` many times, which has poor performance.  Consider joining all columns at once using pd.concat(axis=1) instead. To get a de-fragmented frame, use `newframe = frame.copy()`\n",
      "  final[col_name]=final.Recnum.map(mapper)\n",
      "C:\\Users\\Alex Tan\\AppData\\Local\\Temp\\ipykernel_15732\\1564456075.py:15: PerformanceWarning: DataFrame is highly fragmented.  This is usually the result of calling `frame.insert` many times, which has poor performance.  Consider joining all columns at once using pd.concat(axis=1) instead. To get a de-fragmented frame, use `newframe = frame.copy()`\n",
      "  final[col_name]=final.Recnum.map(mapper)\n",
      "C:\\Users\\Alex Tan\\AppData\\Local\\Temp\\ipykernel_15732\\1564456075.py:15: PerformanceWarning: DataFrame is highly fragmented.  This is usually the result of calling `frame.insert` many times, which has poor performance.  Consider joining all columns at once using pd.concat(axis=1) instead. To get a de-fragmented frame, use `newframe = frame.copy()`\n",
      "  final[col_name]=final.Recnum.map(mapper)\n",
      "C:\\Users\\Alex Tan\\AppData\\Local\\Temp\\ipykernel_15732\\1564456075.py:15: PerformanceWarning: DataFrame is highly fragmented.  This is usually the result of calling `frame.insert` many times, which has poor performance.  Consider joining all columns at once using pd.concat(axis=1) instead. To get a de-fragmented frame, use `newframe = frame.copy()`\n",
      "  final[col_name]=final.Recnum.map(mapper)\n",
      "C:\\Users\\Alex Tan\\AppData\\Local\\Temp\\ipykernel_15732\\1564456075.py:15: PerformanceWarning: DataFrame is highly fragmented.  This is usually the result of calling `frame.insert` many times, which has poor performance.  Consider joining all columns at once using pd.concat(axis=1) instead. To get a de-fragmented frame, use `newframe = frame.copy()`\n",
      "  final[col_name]=final.Recnum.map(mapper)\n",
      "C:\\Users\\Alex Tan\\AppData\\Local\\Temp\\ipykernel_15732\\1564456075.py:15: PerformanceWarning: DataFrame is highly fragmented.  This is usually the result of calling `frame.insert` many times, which has poor performance.  Consider joining all columns at once using pd.concat(axis=1) instead. To get a de-fragmented frame, use `newframe = frame.copy()`\n",
      "  final[col_name]=final.Recnum.map(mapper)\n",
      "C:\\Users\\Alex Tan\\AppData\\Local\\Temp\\ipykernel_15732\\1564456075.py:15: PerformanceWarning: DataFrame is highly fragmented.  This is usually the result of calling `frame.insert` many times, which has poor performance.  Consider joining all columns at once using pd.concat(axis=1) instead. To get a de-fragmented frame, use `newframe = frame.copy()`\n",
      "  final[col_name]=final.Recnum.map(mapper)\n",
      "C:\\Users\\Alex Tan\\AppData\\Local\\Temp\\ipykernel_15732\\1564456075.py:15: PerformanceWarning: DataFrame is highly fragmented.  This is usually the result of calling `frame.insert` many times, which has poor performance.  Consider joining all columns at once using pd.concat(axis=1) instead. To get a de-fragmented frame, use `newframe = frame.copy()`\n",
      "  final[col_name]=final.Recnum.map(mapper)\n",
      "C:\\Users\\Alex Tan\\AppData\\Local\\Temp\\ipykernel_15732\\1564456075.py:15: PerformanceWarning: DataFrame is highly fragmented.  This is usually the result of calling `frame.insert` many times, which has poor performance.  Consider joining all columns at once using pd.concat(axis=1) instead. To get a de-fragmented frame, use `newframe = frame.copy()`\n",
      "  final[col_name]=final.Recnum.map(mapper)\n",
      "C:\\Users\\Alex Tan\\AppData\\Local\\Temp\\ipykernel_15732\\1564456075.py:15: PerformanceWarning: DataFrame is highly fragmented.  This is usually the result of calling `frame.insert` many times, which has poor performance.  Consider joining all columns at once using pd.concat(axis=1) instead. To get a de-fragmented frame, use `newframe = frame.copy()`\n",
      "  final[col_name]=final.Recnum.map(mapper)\n",
      "C:\\Users\\Alex Tan\\AppData\\Local\\Temp\\ipykernel_15732\\1564456075.py:15: PerformanceWarning: DataFrame is highly fragmented.  This is usually the result of calling `frame.insert` many times, which has poor performance.  Consider joining all columns at once using pd.concat(axis=1) instead. To get a de-fragmented frame, use `newframe = frame.copy()`\n",
      "  final[col_name]=final.Recnum.map(mapper)\n",
      "C:\\Users\\Alex Tan\\AppData\\Local\\Temp\\ipykernel_15732\\1564456075.py:15: PerformanceWarning: DataFrame is highly fragmented.  This is usually the result of calling `frame.insert` many times, which has poor performance.  Consider joining all columns at once using pd.concat(axis=1) instead. To get a de-fragmented frame, use `newframe = frame.copy()`\n",
      "  final[col_name]=final.Recnum.map(mapper)\n",
      "C:\\Users\\Alex Tan\\AppData\\Local\\Temp\\ipykernel_15732\\1564456075.py:15: PerformanceWarning: DataFrame is highly fragmented.  This is usually the result of calling `frame.insert` many times, which has poor performance.  Consider joining all columns at once using pd.concat(axis=1) instead. To get a de-fragmented frame, use `newframe = frame.copy()`\n",
      "  final[col_name]=final.Recnum.map(mapper)\n",
      "C:\\Users\\Alex Tan\\AppData\\Local\\Temp\\ipykernel_15732\\1564456075.py:15: PerformanceWarning: DataFrame is highly fragmented.  This is usually the result of calling `frame.insert` many times, which has poor performance.  Consider joining all columns at once using pd.concat(axis=1) instead. To get a de-fragmented frame, use `newframe = frame.copy()`\n",
      "  final[col_name]=final.Recnum.map(mapper)\n",
      "C:\\Users\\Alex Tan\\AppData\\Local\\Temp\\ipykernel_15732\\1564456075.py:15: PerformanceWarning: DataFrame is highly fragmented.  This is usually the result of calling `frame.insert` many times, which has poor performance.  Consider joining all columns at once using pd.concat(axis=1) instead. To get a de-fragmented frame, use `newframe = frame.copy()`\n",
      "  final[col_name]=final.Recnum.map(mapper)\n",
      "C:\\Users\\Alex Tan\\AppData\\Local\\Temp\\ipykernel_15732\\1564456075.py:15: PerformanceWarning: DataFrame is highly fragmented.  This is usually the result of calling `frame.insert` many times, which has poor performance.  Consider joining all columns at once using pd.concat(axis=1) instead. To get a de-fragmented frame, use `newframe = frame.copy()`\n",
      "  final[col_name]=final.Recnum.map(mapper)\n",
      "C:\\Users\\Alex Tan\\AppData\\Local\\Temp\\ipykernel_15732\\1564456075.py:15: PerformanceWarning: DataFrame is highly fragmented.  This is usually the result of calling `frame.insert` many times, which has poor performance.  Consider joining all columns at once using pd.concat(axis=1) instead. To get a de-fragmented frame, use `newframe = frame.copy()`\n",
      "  final[col_name]=final.Recnum.map(mapper)\n",
      "C:\\Users\\Alex Tan\\AppData\\Local\\Temp\\ipykernel_15732\\1564456075.py:15: PerformanceWarning: DataFrame is highly fragmented.  This is usually the result of calling `frame.insert` many times, which has poor performance.  Consider joining all columns at once using pd.concat(axis=1) instead. To get a de-fragmented frame, use `newframe = frame.copy()`\n",
      "  final[col_name]=final.Recnum.map(mapper)\n",
      "C:\\Users\\Alex Tan\\AppData\\Local\\Temp\\ipykernel_15732\\1564456075.py:15: PerformanceWarning: DataFrame is highly fragmented.  This is usually the result of calling `frame.insert` many times, which has poor performance.  Consider joining all columns at once using pd.concat(axis=1) instead. To get a de-fragmented frame, use `newframe = frame.copy()`\n",
      "  final[col_name]=final.Recnum.map(mapper)\n",
      "C:\\Users\\Alex Tan\\AppData\\Local\\Temp\\ipykernel_15732\\1564456075.py:15: PerformanceWarning: DataFrame is highly fragmented.  This is usually the result of calling `frame.insert` many times, which has poor performance.  Consider joining all columns at once using pd.concat(axis=1) instead. To get a de-fragmented frame, use `newframe = frame.copy()`\n",
      "  final[col_name]=final.Recnum.map(mapper)\n",
      "C:\\Users\\Alex Tan\\AppData\\Local\\Temp\\ipykernel_15732\\1564456075.py:15: PerformanceWarning: DataFrame is highly fragmented.  This is usually the result of calling `frame.insert` many times, which has poor performance.  Consider joining all columns at once using pd.concat(axis=1) instead. To get a de-fragmented frame, use `newframe = frame.copy()`\n",
      "  final[col_name]=final.Recnum.map(mapper)\n"
     ]
    },
    {
     "name": "stderr",
     "output_type": "stream",
     "text": [
      "C:\\Users\\Alex Tan\\AppData\\Local\\Temp\\ipykernel_15732\\1564456075.py:15: PerformanceWarning: DataFrame is highly fragmented.  This is usually the result of calling `frame.insert` many times, which has poor performance.  Consider joining all columns at once using pd.concat(axis=1) instead. To get a de-fragmented frame, use `newframe = frame.copy()`\n",
      "  final[col_name]=final.Recnum.map(mapper)\n",
      "C:\\Users\\Alex Tan\\AppData\\Local\\Temp\\ipykernel_15732\\1564456075.py:15: PerformanceWarning: DataFrame is highly fragmented.  This is usually the result of calling `frame.insert` many times, which has poor performance.  Consider joining all columns at once using pd.concat(axis=1) instead. To get a de-fragmented frame, use `newframe = frame.copy()`\n",
      "  final[col_name]=final.Recnum.map(mapper)\n",
      "C:\\Users\\Alex Tan\\AppData\\Local\\Temp\\ipykernel_15732\\1564456075.py:15: PerformanceWarning: DataFrame is highly fragmented.  This is usually the result of calling `frame.insert` many times, which has poor performance.  Consider joining all columns at once using pd.concat(axis=1) instead. To get a de-fragmented frame, use `newframe = frame.copy()`\n",
      "  final[col_name]=final.Recnum.map(mapper)\n",
      "C:\\Users\\Alex Tan\\AppData\\Local\\Temp\\ipykernel_15732\\1564456075.py:15: PerformanceWarning: DataFrame is highly fragmented.  This is usually the result of calling `frame.insert` many times, which has poor performance.  Consider joining all columns at once using pd.concat(axis=1) instead. To get a de-fragmented frame, use `newframe = frame.copy()`\n",
      "  final[col_name]=final.Recnum.map(mapper)\n",
      "C:\\Users\\Alex Tan\\AppData\\Local\\Temp\\ipykernel_15732\\1564456075.py:15: PerformanceWarning: DataFrame is highly fragmented.  This is usually the result of calling `frame.insert` many times, which has poor performance.  Consider joining all columns at once using pd.concat(axis=1) instead. To get a de-fragmented frame, use `newframe = frame.copy()`\n",
      "  final[col_name]=final.Recnum.map(mapper)\n",
      "C:\\Users\\Alex Tan\\AppData\\Local\\Temp\\ipykernel_15732\\1564456075.py:15: PerformanceWarning: DataFrame is highly fragmented.  This is usually the result of calling `frame.insert` many times, which has poor performance.  Consider joining all columns at once using pd.concat(axis=1) instead. To get a de-fragmented frame, use `newframe = frame.copy()`\n",
      "  final[col_name]=final.Recnum.map(mapper)\n",
      "C:\\Users\\Alex Tan\\AppData\\Local\\Temp\\ipykernel_15732\\1564456075.py:15: PerformanceWarning: DataFrame is highly fragmented.  This is usually the result of calling `frame.insert` many times, which has poor performance.  Consider joining all columns at once using pd.concat(axis=1) instead. To get a de-fragmented frame, use `newframe = frame.copy()`\n",
      "  final[col_name]=final.Recnum.map(mapper)\n",
      "C:\\Users\\Alex Tan\\AppData\\Local\\Temp\\ipykernel_15732\\1564456075.py:15: PerformanceWarning: DataFrame is highly fragmented.  This is usually the result of calling `frame.insert` many times, which has poor performance.  Consider joining all columns at once using pd.concat(axis=1) instead. To get a de-fragmented frame, use `newframe = frame.copy()`\n",
      "  final[col_name]=final.Recnum.map(mapper)\n",
      "C:\\Users\\Alex Tan\\AppData\\Local\\Temp\\ipykernel_15732\\1564456075.py:15: PerformanceWarning: DataFrame is highly fragmented.  This is usually the result of calling `frame.insert` many times, which has poor performance.  Consider joining all columns at once using pd.concat(axis=1) instead. To get a de-fragmented frame, use `newframe = frame.copy()`\n",
      "  final[col_name]=final.Recnum.map(mapper)\n",
      "C:\\Users\\Alex Tan\\AppData\\Local\\Temp\\ipykernel_15732\\1564456075.py:15: PerformanceWarning: DataFrame is highly fragmented.  This is usually the result of calling `frame.insert` many times, which has poor performance.  Consider joining all columns at once using pd.concat(axis=1) instead. To get a de-fragmented frame, use `newframe = frame.copy()`\n",
      "  final[col_name]=final.Recnum.map(mapper)\n",
      "C:\\Users\\Alex Tan\\AppData\\Local\\Temp\\ipykernel_15732\\1564456075.py:15: PerformanceWarning: DataFrame is highly fragmented.  This is usually the result of calling `frame.insert` many times, which has poor performance.  Consider joining all columns at once using pd.concat(axis=1) instead. To get a de-fragmented frame, use `newframe = frame.copy()`\n",
      "  final[col_name]=final.Recnum.map(mapper)\n",
      "C:\\Users\\Alex Tan\\AppData\\Local\\Temp\\ipykernel_15732\\1564456075.py:15: PerformanceWarning: DataFrame is highly fragmented.  This is usually the result of calling `frame.insert` many times, which has poor performance.  Consider joining all columns at once using pd.concat(axis=1) instead. To get a de-fragmented frame, use `newframe = frame.copy()`\n",
      "  final[col_name]=final.Recnum.map(mapper)\n",
      "C:\\Users\\Alex Tan\\AppData\\Local\\Temp\\ipykernel_15732\\1564456075.py:15: PerformanceWarning: DataFrame is highly fragmented.  This is usually the result of calling `frame.insert` many times, which has poor performance.  Consider joining all columns at once using pd.concat(axis=1) instead. To get a de-fragmented frame, use `newframe = frame.copy()`\n",
      "  final[col_name]=final.Recnum.map(mapper)\n",
      "C:\\Users\\Alex Tan\\AppData\\Local\\Temp\\ipykernel_15732\\1564456075.py:15: PerformanceWarning: DataFrame is highly fragmented.  This is usually the result of calling `frame.insert` many times, which has poor performance.  Consider joining all columns at once using pd.concat(axis=1) instead. To get a de-fragmented frame, use `newframe = frame.copy()`\n",
      "  final[col_name]=final.Recnum.map(mapper)\n",
      "C:\\Users\\Alex Tan\\AppData\\Local\\Temp\\ipykernel_15732\\1564456075.py:15: PerformanceWarning: DataFrame is highly fragmented.  This is usually the result of calling `frame.insert` many times, which has poor performance.  Consider joining all columns at once using pd.concat(axis=1) instead. To get a de-fragmented frame, use `newframe = frame.copy()`\n",
      "  final[col_name]=final.Recnum.map(mapper)\n",
      "C:\\Users\\Alex Tan\\AppData\\Local\\Temp\\ipykernel_15732\\1564456075.py:15: PerformanceWarning: DataFrame is highly fragmented.  This is usually the result of calling `frame.insert` many times, which has poor performance.  Consider joining all columns at once using pd.concat(axis=1) instead. To get a de-fragmented frame, use `newframe = frame.copy()`\n",
      "  final[col_name]=final.Recnum.map(mapper)\n",
      "C:\\Users\\Alex Tan\\AppData\\Local\\Temp\\ipykernel_15732\\1564456075.py:15: PerformanceWarning: DataFrame is highly fragmented.  This is usually the result of calling `frame.insert` many times, which has poor performance.  Consider joining all columns at once using pd.concat(axis=1) instead. To get a de-fragmented frame, use `newframe = frame.copy()`\n",
      "  final[col_name]=final.Recnum.map(mapper)\n",
      "C:\\Users\\Alex Tan\\AppData\\Local\\Temp\\ipykernel_15732\\1564456075.py:15: PerformanceWarning: DataFrame is highly fragmented.  This is usually the result of calling `frame.insert` many times, which has poor performance.  Consider joining all columns at once using pd.concat(axis=1) instead. To get a de-fragmented frame, use `newframe = frame.copy()`\n",
      "  final[col_name]=final.Recnum.map(mapper)\n",
      "C:\\Users\\Alex Tan\\AppData\\Local\\Temp\\ipykernel_15732\\1564456075.py:15: PerformanceWarning: DataFrame is highly fragmented.  This is usually the result of calling `frame.insert` many times, which has poor performance.  Consider joining all columns at once using pd.concat(axis=1) instead. To get a de-fragmented frame, use `newframe = frame.copy()`\n",
      "  final[col_name]=final.Recnum.map(mapper)\n",
      "C:\\Users\\Alex Tan\\AppData\\Local\\Temp\\ipykernel_15732\\1564456075.py:15: PerformanceWarning: DataFrame is highly fragmented.  This is usually the result of calling `frame.insert` many times, which has poor performance.  Consider joining all columns at once using pd.concat(axis=1) instead. To get a de-fragmented frame, use `newframe = frame.copy()`\n",
      "  final[col_name]=final.Recnum.map(mapper)\n",
      "C:\\Users\\Alex Tan\\AppData\\Local\\Temp\\ipykernel_15732\\1564456075.py:15: PerformanceWarning: DataFrame is highly fragmented.  This is usually the result of calling `frame.insert` many times, which has poor performance.  Consider joining all columns at once using pd.concat(axis=1) instead. To get a de-fragmented frame, use `newframe = frame.copy()`\n",
      "  final[col_name]=final.Recnum.map(mapper)\n"
     ]
    },
    {
     "name": "stderr",
     "output_type": "stream",
     "text": [
      "C:\\Users\\Alex Tan\\AppData\\Local\\Temp\\ipykernel_15732\\1564456075.py:15: PerformanceWarning: DataFrame is highly fragmented.  This is usually the result of calling `frame.insert` many times, which has poor performance.  Consider joining all columns at once using pd.concat(axis=1) instead. To get a de-fragmented frame, use `newframe = frame.copy()`\n",
      "  final[col_name]=final.Recnum.map(mapper)\n",
      "C:\\Users\\Alex Tan\\AppData\\Local\\Temp\\ipykernel_15732\\1564456075.py:15: PerformanceWarning: DataFrame is highly fragmented.  This is usually the result of calling `frame.insert` many times, which has poor performance.  Consider joining all columns at once using pd.concat(axis=1) instead. To get a de-fragmented frame, use `newframe = frame.copy()`\n",
      "  final[col_name]=final.Recnum.map(mapper)\n",
      "C:\\Users\\Alex Tan\\AppData\\Local\\Temp\\ipykernel_15732\\1564456075.py:15: PerformanceWarning: DataFrame is highly fragmented.  This is usually the result of calling `frame.insert` many times, which has poor performance.  Consider joining all columns at once using pd.concat(axis=1) instead. To get a de-fragmented frame, use `newframe = frame.copy()`\n",
      "  final[col_name]=final.Recnum.map(mapper)\n",
      "C:\\Users\\Alex Tan\\AppData\\Local\\Temp\\ipykernel_15732\\1564456075.py:15: PerformanceWarning: DataFrame is highly fragmented.  This is usually the result of calling `frame.insert` many times, which has poor performance.  Consider joining all columns at once using pd.concat(axis=1) instead. To get a de-fragmented frame, use `newframe = frame.copy()`\n",
      "  final[col_name]=final.Recnum.map(mapper)\n",
      "C:\\Users\\Alex Tan\\AppData\\Local\\Temp\\ipykernel_15732\\1564456075.py:15: PerformanceWarning: DataFrame is highly fragmented.  This is usually the result of calling `frame.insert` many times, which has poor performance.  Consider joining all columns at once using pd.concat(axis=1) instead. To get a de-fragmented frame, use `newframe = frame.copy()`\n",
      "  final[col_name]=final.Recnum.map(mapper)\n",
      "C:\\Users\\Alex Tan\\AppData\\Local\\Temp\\ipykernel_15732\\1564456075.py:15: PerformanceWarning: DataFrame is highly fragmented.  This is usually the result of calling `frame.insert` many times, which has poor performance.  Consider joining all columns at once using pd.concat(axis=1) instead. To get a de-fragmented frame, use `newframe = frame.copy()`\n",
      "  final[col_name]=final.Recnum.map(mapper)\n",
      "C:\\Users\\Alex Tan\\AppData\\Local\\Temp\\ipykernel_15732\\1564456075.py:15: PerformanceWarning: DataFrame is highly fragmented.  This is usually the result of calling `frame.insert` many times, which has poor performance.  Consider joining all columns at once using pd.concat(axis=1) instead. To get a de-fragmented frame, use `newframe = frame.copy()`\n",
      "  final[col_name]=final.Recnum.map(mapper)\n",
      "C:\\Users\\Alex Tan\\AppData\\Local\\Temp\\ipykernel_15732\\1564456075.py:15: PerformanceWarning: DataFrame is highly fragmented.  This is usually the result of calling `frame.insert` many times, which has poor performance.  Consider joining all columns at once using pd.concat(axis=1) instead. To get a de-fragmented frame, use `newframe = frame.copy()`\n",
      "  final[col_name]=final.Recnum.map(mapper)\n",
      "C:\\Users\\Alex Tan\\AppData\\Local\\Temp\\ipykernel_15732\\1564456075.py:15: PerformanceWarning: DataFrame is highly fragmented.  This is usually the result of calling `frame.insert` many times, which has poor performance.  Consider joining all columns at once using pd.concat(axis=1) instead. To get a de-fragmented frame, use `newframe = frame.copy()`\n",
      "  final[col_name]=final.Recnum.map(mapper)\n",
      "C:\\Users\\Alex Tan\\AppData\\Local\\Temp\\ipykernel_15732\\1564456075.py:15: PerformanceWarning: DataFrame is highly fragmented.  This is usually the result of calling `frame.insert` many times, which has poor performance.  Consider joining all columns at once using pd.concat(axis=1) instead. To get a de-fragmented frame, use `newframe = frame.copy()`\n",
      "  final[col_name]=final.Recnum.map(mapper)\n",
      "C:\\Users\\Alex Tan\\AppData\\Local\\Temp\\ipykernel_15732\\1564456075.py:15: PerformanceWarning: DataFrame is highly fragmented.  This is usually the result of calling `frame.insert` many times, which has poor performance.  Consider joining all columns at once using pd.concat(axis=1) instead. To get a de-fragmented frame, use `newframe = frame.copy()`\n",
      "  final[col_name]=final.Recnum.map(mapper)\n",
      "C:\\Users\\Alex Tan\\AppData\\Local\\Temp\\ipykernel_15732\\1564456075.py:15: PerformanceWarning: DataFrame is highly fragmented.  This is usually the result of calling `frame.insert` many times, which has poor performance.  Consider joining all columns at once using pd.concat(axis=1) instead. To get a de-fragmented frame, use `newframe = frame.copy()`\n",
      "  final[col_name]=final.Recnum.map(mapper)\n",
      "C:\\Users\\Alex Tan\\AppData\\Local\\Temp\\ipykernel_15732\\1564456075.py:15: PerformanceWarning: DataFrame is highly fragmented.  This is usually the result of calling `frame.insert` many times, which has poor performance.  Consider joining all columns at once using pd.concat(axis=1) instead. To get a de-fragmented frame, use `newframe = frame.copy()`\n",
      "  final[col_name]=final.Recnum.map(mapper)\n",
      "C:\\Users\\Alex Tan\\AppData\\Local\\Temp\\ipykernel_15732\\1564456075.py:15: PerformanceWarning: DataFrame is highly fragmented.  This is usually the result of calling `frame.insert` many times, which has poor performance.  Consider joining all columns at once using pd.concat(axis=1) instead. To get a de-fragmented frame, use `newframe = frame.copy()`\n",
      "  final[col_name]=final.Recnum.map(mapper)\n",
      "C:\\Users\\Alex Tan\\AppData\\Local\\Temp\\ipykernel_15732\\1564456075.py:15: PerformanceWarning: DataFrame is highly fragmented.  This is usually the result of calling `frame.insert` many times, which has poor performance.  Consider joining all columns at once using pd.concat(axis=1) instead. To get a de-fragmented frame, use `newframe = frame.copy()`\n",
      "  final[col_name]=final.Recnum.map(mapper)\n",
      "C:\\Users\\Alex Tan\\AppData\\Local\\Temp\\ipykernel_15732\\1564456075.py:15: PerformanceWarning: DataFrame is highly fragmented.  This is usually the result of calling `frame.insert` many times, which has poor performance.  Consider joining all columns at once using pd.concat(axis=1) instead. To get a de-fragmented frame, use `newframe = frame.copy()`\n",
      "  final[col_name]=final.Recnum.map(mapper)\n",
      "C:\\Users\\Alex Tan\\AppData\\Local\\Temp\\ipykernel_15732\\1564456075.py:15: PerformanceWarning: DataFrame is highly fragmented.  This is usually the result of calling `frame.insert` many times, which has poor performance.  Consider joining all columns at once using pd.concat(axis=1) instead. To get a de-fragmented frame, use `newframe = frame.copy()`\n",
      "  final[col_name]=final.Recnum.map(mapper)\n",
      "C:\\Users\\Alex Tan\\AppData\\Local\\Temp\\ipykernel_15732\\1564456075.py:15: PerformanceWarning: DataFrame is highly fragmented.  This is usually the result of calling `frame.insert` many times, which has poor performance.  Consider joining all columns at once using pd.concat(axis=1) instead. To get a de-fragmented frame, use `newframe = frame.copy()`\n",
      "  final[col_name]=final.Recnum.map(mapper)\n",
      "C:\\Users\\Alex Tan\\AppData\\Local\\Temp\\ipykernel_15732\\1564456075.py:15: PerformanceWarning: DataFrame is highly fragmented.  This is usually the result of calling `frame.insert` many times, which has poor performance.  Consider joining all columns at once using pd.concat(axis=1) instead. To get a de-fragmented frame, use `newframe = frame.copy()`\n",
      "  final[col_name]=final.Recnum.map(mapper)\n",
      "C:\\Users\\Alex Tan\\AppData\\Local\\Temp\\ipykernel_15732\\1564456075.py:15: PerformanceWarning: DataFrame is highly fragmented.  This is usually the result of calling `frame.insert` many times, which has poor performance.  Consider joining all columns at once using pd.concat(axis=1) instead. To get a de-fragmented frame, use `newframe = frame.copy()`\n",
      "  final[col_name]=final.Recnum.map(mapper)\n",
      "C:\\Users\\Alex Tan\\AppData\\Local\\Temp\\ipykernel_15732\\1564456075.py:15: PerformanceWarning: DataFrame is highly fragmented.  This is usually the result of calling `frame.insert` many times, which has poor performance.  Consider joining all columns at once using pd.concat(axis=1) instead. To get a de-fragmented frame, use `newframe = frame.copy()`\n",
      "  final[col_name]=final.Recnum.map(mapper)\n"
     ]
    },
    {
     "name": "stderr",
     "output_type": "stream",
     "text": [
      "C:\\Users\\Alex Tan\\AppData\\Local\\Temp\\ipykernel_15732\\1564456075.py:15: PerformanceWarning: DataFrame is highly fragmented.  This is usually the result of calling `frame.insert` many times, which has poor performance.  Consider joining all columns at once using pd.concat(axis=1) instead. To get a de-fragmented frame, use `newframe = frame.copy()`\n",
      "  final[col_name]=final.Recnum.map(mapper)\n",
      "C:\\Users\\Alex Tan\\AppData\\Local\\Temp\\ipykernel_15732\\1564456075.py:15: PerformanceWarning: DataFrame is highly fragmented.  This is usually the result of calling `frame.insert` many times, which has poor performance.  Consider joining all columns at once using pd.concat(axis=1) instead. To get a de-fragmented frame, use `newframe = frame.copy()`\n",
      "  final[col_name]=final.Recnum.map(mapper)\n",
      "C:\\Users\\Alex Tan\\AppData\\Local\\Temp\\ipykernel_15732\\1564456075.py:15: PerformanceWarning: DataFrame is highly fragmented.  This is usually the result of calling `frame.insert` many times, which has poor performance.  Consider joining all columns at once using pd.concat(axis=1) instead. To get a de-fragmented frame, use `newframe = frame.copy()`\n",
      "  final[col_name]=final.Recnum.map(mapper)\n",
      "C:\\Users\\Alex Tan\\AppData\\Local\\Temp\\ipykernel_15732\\1564456075.py:15: PerformanceWarning: DataFrame is highly fragmented.  This is usually the result of calling `frame.insert` many times, which has poor performance.  Consider joining all columns at once using pd.concat(axis=1) instead. To get a de-fragmented frame, use `newframe = frame.copy()`\n",
      "  final[col_name]=final.Recnum.map(mapper)\n",
      "C:\\Users\\Alex Tan\\AppData\\Local\\Temp\\ipykernel_15732\\1564456075.py:15: PerformanceWarning: DataFrame is highly fragmented.  This is usually the result of calling `frame.insert` many times, which has poor performance.  Consider joining all columns at once using pd.concat(axis=1) instead. To get a de-fragmented frame, use `newframe = frame.copy()`\n",
      "  final[col_name]=final.Recnum.map(mapper)\n",
      "C:\\Users\\Alex Tan\\AppData\\Local\\Temp\\ipykernel_15732\\1564456075.py:15: PerformanceWarning: DataFrame is highly fragmented.  This is usually the result of calling `frame.insert` many times, which has poor performance.  Consider joining all columns at once using pd.concat(axis=1) instead. To get a de-fragmented frame, use `newframe = frame.copy()`\n",
      "  final[col_name]=final.Recnum.map(mapper)\n",
      "C:\\Users\\Alex Tan\\AppData\\Local\\Temp\\ipykernel_15732\\1564456075.py:15: PerformanceWarning: DataFrame is highly fragmented.  This is usually the result of calling `frame.insert` many times, which has poor performance.  Consider joining all columns at once using pd.concat(axis=1) instead. To get a de-fragmented frame, use `newframe = frame.copy()`\n",
      "  final[col_name]=final.Recnum.map(mapper)\n",
      "C:\\Users\\Alex Tan\\AppData\\Local\\Temp\\ipykernel_15732\\1564456075.py:15: PerformanceWarning: DataFrame is highly fragmented.  This is usually the result of calling `frame.insert` many times, which has poor performance.  Consider joining all columns at once using pd.concat(axis=1) instead. To get a de-fragmented frame, use `newframe = frame.copy()`\n",
      "  final[col_name]=final.Recnum.map(mapper)\n",
      "C:\\Users\\Alex Tan\\AppData\\Local\\Temp\\ipykernel_15732\\1564456075.py:15: PerformanceWarning: DataFrame is highly fragmented.  This is usually the result of calling `frame.insert` many times, which has poor performance.  Consider joining all columns at once using pd.concat(axis=1) instead. To get a de-fragmented frame, use `newframe = frame.copy()`\n",
      "  final[col_name]=final.Recnum.map(mapper)\n",
      "C:\\Users\\Alex Tan\\AppData\\Local\\Temp\\ipykernel_15732\\1564456075.py:15: PerformanceWarning: DataFrame is highly fragmented.  This is usually the result of calling `frame.insert` many times, which has poor performance.  Consider joining all columns at once using pd.concat(axis=1) instead. To get a de-fragmented frame, use `newframe = frame.copy()`\n",
      "  final[col_name]=final.Recnum.map(mapper)\n",
      "C:\\Users\\Alex Tan\\AppData\\Local\\Temp\\ipykernel_15732\\1564456075.py:15: PerformanceWarning: DataFrame is highly fragmented.  This is usually the result of calling `frame.insert` many times, which has poor performance.  Consider joining all columns at once using pd.concat(axis=1) instead. To get a de-fragmented frame, use `newframe = frame.copy()`\n",
      "  final[col_name]=final.Recnum.map(mapper)\n",
      "C:\\Users\\Alex Tan\\AppData\\Local\\Temp\\ipykernel_15732\\1564456075.py:15: PerformanceWarning: DataFrame is highly fragmented.  This is usually the result of calling `frame.insert` many times, which has poor performance.  Consider joining all columns at once using pd.concat(axis=1) instead. To get a de-fragmented frame, use `newframe = frame.copy()`\n",
      "  final[col_name]=final.Recnum.map(mapper)\n",
      "C:\\Users\\Alex Tan\\AppData\\Local\\Temp\\ipykernel_15732\\1564456075.py:15: PerformanceWarning: DataFrame is highly fragmented.  This is usually the result of calling `frame.insert` many times, which has poor performance.  Consider joining all columns at once using pd.concat(axis=1) instead. To get a de-fragmented frame, use `newframe = frame.copy()`\n",
      "  final[col_name]=final.Recnum.map(mapper)\n",
      "C:\\Users\\Alex Tan\\AppData\\Local\\Temp\\ipykernel_15732\\1564456075.py:15: PerformanceWarning: DataFrame is highly fragmented.  This is usually the result of calling `frame.insert` many times, which has poor performance.  Consider joining all columns at once using pd.concat(axis=1) instead. To get a de-fragmented frame, use `newframe = frame.copy()`\n",
      "  final[col_name]=final.Recnum.map(mapper)\n",
      "C:\\Users\\Alex Tan\\AppData\\Local\\Temp\\ipykernel_15732\\1564456075.py:15: PerformanceWarning: DataFrame is highly fragmented.  This is usually the result of calling `frame.insert` many times, which has poor performance.  Consider joining all columns at once using pd.concat(axis=1) instead. To get a de-fragmented frame, use `newframe = frame.copy()`\n",
      "  final[col_name]=final.Recnum.map(mapper)\n",
      "C:\\Users\\Alex Tan\\AppData\\Local\\Temp\\ipykernel_15732\\1564456075.py:15: PerformanceWarning: DataFrame is highly fragmented.  This is usually the result of calling `frame.insert` many times, which has poor performance.  Consider joining all columns at once using pd.concat(axis=1) instead. To get a de-fragmented frame, use `newframe = frame.copy()`\n",
      "  final[col_name]=final.Recnum.map(mapper)\n",
      "C:\\Users\\Alex Tan\\AppData\\Local\\Temp\\ipykernel_15732\\1564456075.py:15: PerformanceWarning: DataFrame is highly fragmented.  This is usually the result of calling `frame.insert` many times, which has poor performance.  Consider joining all columns at once using pd.concat(axis=1) instead. To get a de-fragmented frame, use `newframe = frame.copy()`\n",
      "  final[col_name]=final.Recnum.map(mapper)\n",
      "C:\\Users\\Alex Tan\\AppData\\Local\\Temp\\ipykernel_15732\\1564456075.py:15: PerformanceWarning: DataFrame is highly fragmented.  This is usually the result of calling `frame.insert` many times, which has poor performance.  Consider joining all columns at once using pd.concat(axis=1) instead. To get a de-fragmented frame, use `newframe = frame.copy()`\n",
      "  final[col_name]=final.Recnum.map(mapper)\n",
      "C:\\Users\\Alex Tan\\AppData\\Local\\Temp\\ipykernel_15732\\1564456075.py:15: PerformanceWarning: DataFrame is highly fragmented.  This is usually the result of calling `frame.insert` many times, which has poor performance.  Consider joining all columns at once using pd.concat(axis=1) instead. To get a de-fragmented frame, use `newframe = frame.copy()`\n",
      "  final[col_name]=final.Recnum.map(mapper)\n",
      "C:\\Users\\Alex Tan\\AppData\\Local\\Temp\\ipykernel_15732\\1564456075.py:15: PerformanceWarning: DataFrame is highly fragmented.  This is usually the result of calling `frame.insert` many times, which has poor performance.  Consider joining all columns at once using pd.concat(axis=1) instead. To get a de-fragmented frame, use `newframe = frame.copy()`\n",
      "  final[col_name]=final.Recnum.map(mapper)\n",
      "C:\\Users\\Alex Tan\\AppData\\Local\\Temp\\ipykernel_15732\\1564456075.py:15: PerformanceWarning: DataFrame is highly fragmented.  This is usually the result of calling `frame.insert` many times, which has poor performance.  Consider joining all columns at once using pd.concat(axis=1) instead. To get a de-fragmented frame, use `newframe = frame.copy()`\n",
      "  final[col_name]=final.Recnum.map(mapper)\n"
     ]
    },
    {
     "name": "stderr",
     "output_type": "stream",
     "text": [
      "C:\\Users\\Alex Tan\\AppData\\Local\\Temp\\ipykernel_15732\\1564456075.py:15: PerformanceWarning: DataFrame is highly fragmented.  This is usually the result of calling `frame.insert` many times, which has poor performance.  Consider joining all columns at once using pd.concat(axis=1) instead. To get a de-fragmented frame, use `newframe = frame.copy()`\n",
      "  final[col_name]=final.Recnum.map(mapper)\n",
      "C:\\Users\\Alex Tan\\AppData\\Local\\Temp\\ipykernel_15732\\1564456075.py:15: PerformanceWarning: DataFrame is highly fragmented.  This is usually the result of calling `frame.insert` many times, which has poor performance.  Consider joining all columns at once using pd.concat(axis=1) instead. To get a de-fragmented frame, use `newframe = frame.copy()`\n",
      "  final[col_name]=final.Recnum.map(mapper)\n",
      "C:\\Users\\Alex Tan\\AppData\\Local\\Temp\\ipykernel_15732\\1564456075.py:15: PerformanceWarning: DataFrame is highly fragmented.  This is usually the result of calling `frame.insert` many times, which has poor performance.  Consider joining all columns at once using pd.concat(axis=1) instead. To get a de-fragmented frame, use `newframe = frame.copy()`\n",
      "  final[col_name]=final.Recnum.map(mapper)\n",
      "C:\\Users\\Alex Tan\\AppData\\Local\\Temp\\ipykernel_15732\\1564456075.py:15: PerformanceWarning: DataFrame is highly fragmented.  This is usually the result of calling `frame.insert` many times, which has poor performance.  Consider joining all columns at once using pd.concat(axis=1) instead. To get a de-fragmented frame, use `newframe = frame.copy()`\n",
      "  final[col_name]=final.Recnum.map(mapper)\n",
      "C:\\Users\\Alex Tan\\AppData\\Local\\Temp\\ipykernel_15732\\1564456075.py:15: PerformanceWarning: DataFrame is highly fragmented.  This is usually the result of calling `frame.insert` many times, which has poor performance.  Consider joining all columns at once using pd.concat(axis=1) instead. To get a de-fragmented frame, use `newframe = frame.copy()`\n",
      "  final[col_name]=final.Recnum.map(mapper)\n",
      "C:\\Users\\Alex Tan\\AppData\\Local\\Temp\\ipykernel_15732\\1564456075.py:15: PerformanceWarning: DataFrame is highly fragmented.  This is usually the result of calling `frame.insert` many times, which has poor performance.  Consider joining all columns at once using pd.concat(axis=1) instead. To get a de-fragmented frame, use `newframe = frame.copy()`\n",
      "  final[col_name]=final.Recnum.map(mapper)\n",
      "C:\\Users\\Alex Tan\\AppData\\Local\\Temp\\ipykernel_15732\\1564456075.py:15: PerformanceWarning: DataFrame is highly fragmented.  This is usually the result of calling `frame.insert` many times, which has poor performance.  Consider joining all columns at once using pd.concat(axis=1) instead. To get a de-fragmented frame, use `newframe = frame.copy()`\n",
      "  final[col_name]=final.Recnum.map(mapper)\n",
      "C:\\Users\\Alex Tan\\AppData\\Local\\Temp\\ipykernel_15732\\1564456075.py:15: PerformanceWarning: DataFrame is highly fragmented.  This is usually the result of calling `frame.insert` many times, which has poor performance.  Consider joining all columns at once using pd.concat(axis=1) instead. To get a de-fragmented frame, use `newframe = frame.copy()`\n",
      "  final[col_name]=final.Recnum.map(mapper)\n",
      "C:\\Users\\Alex Tan\\AppData\\Local\\Temp\\ipykernel_15732\\1564456075.py:15: PerformanceWarning: DataFrame is highly fragmented.  This is usually the result of calling `frame.insert` many times, which has poor performance.  Consider joining all columns at once using pd.concat(axis=1) instead. To get a de-fragmented frame, use `newframe = frame.copy()`\n",
      "  final[col_name]=final.Recnum.map(mapper)\n",
      "C:\\Users\\Alex Tan\\AppData\\Local\\Temp\\ipykernel_15732\\1564456075.py:15: PerformanceWarning: DataFrame is highly fragmented.  This is usually the result of calling `frame.insert` many times, which has poor performance.  Consider joining all columns at once using pd.concat(axis=1) instead. To get a de-fragmented frame, use `newframe = frame.copy()`\n",
      "  final[col_name]=final.Recnum.map(mapper)\n",
      "C:\\Users\\Alex Tan\\AppData\\Local\\Temp\\ipykernel_15732\\1564456075.py:15: PerformanceWarning: DataFrame is highly fragmented.  This is usually the result of calling `frame.insert` many times, which has poor performance.  Consider joining all columns at once using pd.concat(axis=1) instead. To get a de-fragmented frame, use `newframe = frame.copy()`\n",
      "  final[col_name]=final.Recnum.map(mapper)\n",
      "C:\\Users\\Alex Tan\\AppData\\Local\\Temp\\ipykernel_15732\\1564456075.py:15: PerformanceWarning: DataFrame is highly fragmented.  This is usually the result of calling `frame.insert` many times, which has poor performance.  Consider joining all columns at once using pd.concat(axis=1) instead. To get a de-fragmented frame, use `newframe = frame.copy()`\n",
      "  final[col_name]=final.Recnum.map(mapper)\n",
      "C:\\Users\\Alex Tan\\AppData\\Local\\Temp\\ipykernel_15732\\1564456075.py:15: PerformanceWarning: DataFrame is highly fragmented.  This is usually the result of calling `frame.insert` many times, which has poor performance.  Consider joining all columns at once using pd.concat(axis=1) instead. To get a de-fragmented frame, use `newframe = frame.copy()`\n",
      "  final[col_name]=final.Recnum.map(mapper)\n",
      "C:\\Users\\Alex Tan\\AppData\\Local\\Temp\\ipykernel_15732\\1564456075.py:15: PerformanceWarning: DataFrame is highly fragmented.  This is usually the result of calling `frame.insert` many times, which has poor performance.  Consider joining all columns at once using pd.concat(axis=1) instead. To get a de-fragmented frame, use `newframe = frame.copy()`\n",
      "  final[col_name]=final.Recnum.map(mapper)\n",
      "C:\\Users\\Alex Tan\\AppData\\Local\\Temp\\ipykernel_15732\\1564456075.py:15: PerformanceWarning: DataFrame is highly fragmented.  This is usually the result of calling `frame.insert` many times, which has poor performance.  Consider joining all columns at once using pd.concat(axis=1) instead. To get a de-fragmented frame, use `newframe = frame.copy()`\n",
      "  final[col_name]=final.Recnum.map(mapper)\n",
      "C:\\Users\\Alex Tan\\AppData\\Local\\Temp\\ipykernel_15732\\1564456075.py:15: PerformanceWarning: DataFrame is highly fragmented.  This is usually the result of calling `frame.insert` many times, which has poor performance.  Consider joining all columns at once using pd.concat(axis=1) instead. To get a de-fragmented frame, use `newframe = frame.copy()`\n",
      "  final[col_name]=final.Recnum.map(mapper)\n",
      "C:\\Users\\Alex Tan\\AppData\\Local\\Temp\\ipykernel_15732\\1564456075.py:15: PerformanceWarning: DataFrame is highly fragmented.  This is usually the result of calling `frame.insert` many times, which has poor performance.  Consider joining all columns at once using pd.concat(axis=1) instead. To get a de-fragmented frame, use `newframe = frame.copy()`\n",
      "  final[col_name]=final.Recnum.map(mapper)\n",
      "C:\\Users\\Alex Tan\\AppData\\Local\\Temp\\ipykernel_15732\\1564456075.py:15: PerformanceWarning: DataFrame is highly fragmented.  This is usually the result of calling `frame.insert` many times, which has poor performance.  Consider joining all columns at once using pd.concat(axis=1) instead. To get a de-fragmented frame, use `newframe = frame.copy()`\n",
      "  final[col_name]=final.Recnum.map(mapper)\n",
      "C:\\Users\\Alex Tan\\AppData\\Local\\Temp\\ipykernel_15732\\1564456075.py:15: PerformanceWarning: DataFrame is highly fragmented.  This is usually the result of calling `frame.insert` many times, which has poor performance.  Consider joining all columns at once using pd.concat(axis=1) instead. To get a de-fragmented frame, use `newframe = frame.copy()`\n",
      "  final[col_name]=final.Recnum.map(mapper)\n",
      "C:\\Users\\Alex Tan\\AppData\\Local\\Temp\\ipykernel_15732\\1564456075.py:15: PerformanceWarning: DataFrame is highly fragmented.  This is usually the result of calling `frame.insert` many times, which has poor performance.  Consider joining all columns at once using pd.concat(axis=1) instead. To get a de-fragmented frame, use `newframe = frame.copy()`\n",
      "  final[col_name]=final.Recnum.map(mapper)\n",
      "C:\\Users\\Alex Tan\\AppData\\Local\\Temp\\ipykernel_15732\\1564456075.py:15: PerformanceWarning: DataFrame is highly fragmented.  This is usually the result of calling `frame.insert` many times, which has poor performance.  Consider joining all columns at once using pd.concat(axis=1) instead. To get a de-fragmented frame, use `newframe = frame.copy()`\n",
      "  final[col_name]=final.Recnum.map(mapper)\n",
      "C:\\Users\\Alex Tan\\AppData\\Local\\Temp\\ipykernel_15732\\1564456075.py:15: PerformanceWarning: DataFrame is highly fragmented.  This is usually the result of calling `frame.insert` many times, which has poor performance.  Consider joining all columns at once using pd.concat(axis=1) instead. To get a de-fragmented frame, use `newframe = frame.copy()`\n",
      "  final[col_name]=final.Recnum.map(mapper)\n"
     ]
    },
    {
     "name": "stderr",
     "output_type": "stream",
     "text": [
      "C:\\Users\\Alex Tan\\AppData\\Local\\Temp\\ipykernel_15732\\1564456075.py:15: PerformanceWarning: DataFrame is highly fragmented.  This is usually the result of calling `frame.insert` many times, which has poor performance.  Consider joining all columns at once using pd.concat(axis=1) instead. To get a de-fragmented frame, use `newframe = frame.copy()`\n",
      "  final[col_name]=final.Recnum.map(mapper)\n",
      "C:\\Users\\Alex Tan\\AppData\\Local\\Temp\\ipykernel_15732\\1564456075.py:15: PerformanceWarning: DataFrame is highly fragmented.  This is usually the result of calling `frame.insert` many times, which has poor performance.  Consider joining all columns at once using pd.concat(axis=1) instead. To get a de-fragmented frame, use `newframe = frame.copy()`\n",
      "  final[col_name]=final.Recnum.map(mapper)\n",
      "C:\\Users\\Alex Tan\\AppData\\Local\\Temp\\ipykernel_15732\\1564456075.py:15: PerformanceWarning: DataFrame is highly fragmented.  This is usually the result of calling `frame.insert` many times, which has poor performance.  Consider joining all columns at once using pd.concat(axis=1) instead. To get a de-fragmented frame, use `newframe = frame.copy()`\n",
      "  final[col_name]=final.Recnum.map(mapper)\n",
      "C:\\Users\\Alex Tan\\AppData\\Local\\Temp\\ipykernel_15732\\1564456075.py:15: PerformanceWarning: DataFrame is highly fragmented.  This is usually the result of calling `frame.insert` many times, which has poor performance.  Consider joining all columns at once using pd.concat(axis=1) instead. To get a de-fragmented frame, use `newframe = frame.copy()`\n",
      "  final[col_name]=final.Recnum.map(mapper)\n",
      "C:\\Users\\Alex Tan\\AppData\\Local\\Temp\\ipykernel_15732\\1564456075.py:15: PerformanceWarning: DataFrame is highly fragmented.  This is usually the result of calling `frame.insert` many times, which has poor performance.  Consider joining all columns at once using pd.concat(axis=1) instead. To get a de-fragmented frame, use `newframe = frame.copy()`\n",
      "  final[col_name]=final.Recnum.map(mapper)\n",
      "C:\\Users\\Alex Tan\\AppData\\Local\\Temp\\ipykernel_15732\\1564456075.py:15: PerformanceWarning: DataFrame is highly fragmented.  This is usually the result of calling `frame.insert` many times, which has poor performance.  Consider joining all columns at once using pd.concat(axis=1) instead. To get a de-fragmented frame, use `newframe = frame.copy()`\n",
      "  final[col_name]=final.Recnum.map(mapper)\n",
      "C:\\Users\\Alex Tan\\AppData\\Local\\Temp\\ipykernel_15732\\1564456075.py:15: PerformanceWarning: DataFrame is highly fragmented.  This is usually the result of calling `frame.insert` many times, which has poor performance.  Consider joining all columns at once using pd.concat(axis=1) instead. To get a de-fragmented frame, use `newframe = frame.copy()`\n",
      "  final[col_name]=final.Recnum.map(mapper)\n",
      "C:\\Users\\Alex Tan\\AppData\\Local\\Temp\\ipykernel_15732\\1564456075.py:15: PerformanceWarning: DataFrame is highly fragmented.  This is usually the result of calling `frame.insert` many times, which has poor performance.  Consider joining all columns at once using pd.concat(axis=1) instead. To get a de-fragmented frame, use `newframe = frame.copy()`\n",
      "  final[col_name]=final.Recnum.map(mapper)\n",
      "C:\\Users\\Alex Tan\\AppData\\Local\\Temp\\ipykernel_15732\\1564456075.py:15: PerformanceWarning: DataFrame is highly fragmented.  This is usually the result of calling `frame.insert` many times, which has poor performance.  Consider joining all columns at once using pd.concat(axis=1) instead. To get a de-fragmented frame, use `newframe = frame.copy()`\n",
      "  final[col_name]=final.Recnum.map(mapper)\n",
      "C:\\Users\\Alex Tan\\AppData\\Local\\Temp\\ipykernel_15732\\1564456075.py:15: PerformanceWarning: DataFrame is highly fragmented.  This is usually the result of calling `frame.insert` many times, which has poor performance.  Consider joining all columns at once using pd.concat(axis=1) instead. To get a de-fragmented frame, use `newframe = frame.copy()`\n",
      "  final[col_name]=final.Recnum.map(mapper)\n",
      "C:\\Users\\Alex Tan\\AppData\\Local\\Temp\\ipykernel_15732\\1564456075.py:15: PerformanceWarning: DataFrame is highly fragmented.  This is usually the result of calling `frame.insert` many times, which has poor performance.  Consider joining all columns at once using pd.concat(axis=1) instead. To get a de-fragmented frame, use `newframe = frame.copy()`\n",
      "  final[col_name]=final.Recnum.map(mapper)\n",
      "C:\\Users\\Alex Tan\\AppData\\Local\\Temp\\ipykernel_15732\\1564456075.py:15: PerformanceWarning: DataFrame is highly fragmented.  This is usually the result of calling `frame.insert` many times, which has poor performance.  Consider joining all columns at once using pd.concat(axis=1) instead. To get a de-fragmented frame, use `newframe = frame.copy()`\n",
      "  final[col_name]=final.Recnum.map(mapper)\n",
      "C:\\Users\\Alex Tan\\AppData\\Local\\Temp\\ipykernel_15732\\1564456075.py:15: PerformanceWarning: DataFrame is highly fragmented.  This is usually the result of calling `frame.insert` many times, which has poor performance.  Consider joining all columns at once using pd.concat(axis=1) instead. To get a de-fragmented frame, use `newframe = frame.copy()`\n",
      "  final[col_name]=final.Recnum.map(mapper)\n",
      "C:\\Users\\Alex Tan\\AppData\\Local\\Temp\\ipykernel_15732\\1564456075.py:15: PerformanceWarning: DataFrame is highly fragmented.  This is usually the result of calling `frame.insert` many times, which has poor performance.  Consider joining all columns at once using pd.concat(axis=1) instead. To get a de-fragmented frame, use `newframe = frame.copy()`\n",
      "  final[col_name]=final.Recnum.map(mapper)\n",
      "C:\\Users\\Alex Tan\\AppData\\Local\\Temp\\ipykernel_15732\\1564456075.py:15: PerformanceWarning: DataFrame is highly fragmented.  This is usually the result of calling `frame.insert` many times, which has poor performance.  Consider joining all columns at once using pd.concat(axis=1) instead. To get a de-fragmented frame, use `newframe = frame.copy()`\n",
      "  final[col_name]=final.Recnum.map(mapper)\n",
      "C:\\Users\\Alex Tan\\AppData\\Local\\Temp\\ipykernel_15732\\1564456075.py:15: PerformanceWarning: DataFrame is highly fragmented.  This is usually the result of calling `frame.insert` many times, which has poor performance.  Consider joining all columns at once using pd.concat(axis=1) instead. To get a de-fragmented frame, use `newframe = frame.copy()`\n",
      "  final[col_name]=final.Recnum.map(mapper)\n",
      "C:\\Users\\Alex Tan\\AppData\\Local\\Temp\\ipykernel_15732\\1564456075.py:15: PerformanceWarning: DataFrame is highly fragmented.  This is usually the result of calling `frame.insert` many times, which has poor performance.  Consider joining all columns at once using pd.concat(axis=1) instead. To get a de-fragmented frame, use `newframe = frame.copy()`\n",
      "  final[col_name]=final.Recnum.map(mapper)\n",
      "C:\\Users\\Alex Tan\\AppData\\Local\\Temp\\ipykernel_15732\\1564456075.py:15: PerformanceWarning: DataFrame is highly fragmented.  This is usually the result of calling `frame.insert` many times, which has poor performance.  Consider joining all columns at once using pd.concat(axis=1) instead. To get a de-fragmented frame, use `newframe = frame.copy()`\n",
      "  final[col_name]=final.Recnum.map(mapper)\n",
      "C:\\Users\\Alex Tan\\AppData\\Local\\Temp\\ipykernel_15732\\1564456075.py:15: PerformanceWarning: DataFrame is highly fragmented.  This is usually the result of calling `frame.insert` many times, which has poor performance.  Consider joining all columns at once using pd.concat(axis=1) instead. To get a de-fragmented frame, use `newframe = frame.copy()`\n",
      "  final[col_name]=final.Recnum.map(mapper)\n",
      "C:\\Users\\Alex Tan\\AppData\\Local\\Temp\\ipykernel_15732\\1564456075.py:15: PerformanceWarning: DataFrame is highly fragmented.  This is usually the result of calling `frame.insert` many times, which has poor performance.  Consider joining all columns at once using pd.concat(axis=1) instead. To get a de-fragmented frame, use `newframe = frame.copy()`\n",
      "  final[col_name]=final.Recnum.map(mapper)\n",
      "C:\\Users\\Alex Tan\\AppData\\Local\\Temp\\ipykernel_15732\\1564456075.py:15: PerformanceWarning: DataFrame is highly fragmented.  This is usually the result of calling `frame.insert` many times, which has poor performance.  Consider joining all columns at once using pd.concat(axis=1) instead. To get a de-fragmented frame, use `newframe = frame.copy()`\n",
      "  final[col_name]=final.Recnum.map(mapper)\n",
      "C:\\Users\\Alex Tan\\AppData\\Local\\Temp\\ipykernel_15732\\1564456075.py:15: PerformanceWarning: DataFrame is highly fragmented.  This is usually the result of calling `frame.insert` many times, which has poor performance.  Consider joining all columns at once using pd.concat(axis=1) instead. To get a de-fragmented frame, use `newframe = frame.copy()`\n",
      "  final[col_name]=final.Recnum.map(mapper)\n"
     ]
    },
    {
     "name": "stderr",
     "output_type": "stream",
     "text": [
      "C:\\Users\\Alex Tan\\AppData\\Local\\Temp\\ipykernel_15732\\1564456075.py:15: PerformanceWarning: DataFrame is highly fragmented.  This is usually the result of calling `frame.insert` many times, which has poor performance.  Consider joining all columns at once using pd.concat(axis=1) instead. To get a de-fragmented frame, use `newframe = frame.copy()`\n",
      "  final[col_name]=final.Recnum.map(mapper)\n",
      "C:\\Users\\Alex Tan\\AppData\\Local\\Temp\\ipykernel_15732\\1564456075.py:15: PerformanceWarning: DataFrame is highly fragmented.  This is usually the result of calling `frame.insert` many times, which has poor performance.  Consider joining all columns at once using pd.concat(axis=1) instead. To get a de-fragmented frame, use `newframe = frame.copy()`\n",
      "  final[col_name]=final.Recnum.map(mapper)\n",
      "C:\\Users\\Alex Tan\\AppData\\Local\\Temp\\ipykernel_15732\\1564456075.py:15: PerformanceWarning: DataFrame is highly fragmented.  This is usually the result of calling `frame.insert` many times, which has poor performance.  Consider joining all columns at once using pd.concat(axis=1) instead. To get a de-fragmented frame, use `newframe = frame.copy()`\n",
      "  final[col_name]=final.Recnum.map(mapper)\n",
      "C:\\Users\\Alex Tan\\AppData\\Local\\Temp\\ipykernel_15732\\1564456075.py:15: PerformanceWarning: DataFrame is highly fragmented.  This is usually the result of calling `frame.insert` many times, which has poor performance.  Consider joining all columns at once using pd.concat(axis=1) instead. To get a de-fragmented frame, use `newframe = frame.copy()`\n",
      "  final[col_name]=final.Recnum.map(mapper)\n",
      "C:\\Users\\Alex Tan\\AppData\\Local\\Temp\\ipykernel_15732\\1564456075.py:15: PerformanceWarning: DataFrame is highly fragmented.  This is usually the result of calling `frame.insert` many times, which has poor performance.  Consider joining all columns at once using pd.concat(axis=1) instead. To get a de-fragmented frame, use `newframe = frame.copy()`\n",
      "  final[col_name]=final.Recnum.map(mapper)\n",
      "C:\\Users\\Alex Tan\\AppData\\Local\\Temp\\ipykernel_15732\\1564456075.py:15: PerformanceWarning: DataFrame is highly fragmented.  This is usually the result of calling `frame.insert` many times, which has poor performance.  Consider joining all columns at once using pd.concat(axis=1) instead. To get a de-fragmented frame, use `newframe = frame.copy()`\n",
      "  final[col_name]=final.Recnum.map(mapper)\n",
      "C:\\Users\\Alex Tan\\AppData\\Local\\Temp\\ipykernel_15732\\1564456075.py:15: PerformanceWarning: DataFrame is highly fragmented.  This is usually the result of calling `frame.insert` many times, which has poor performance.  Consider joining all columns at once using pd.concat(axis=1) instead. To get a de-fragmented frame, use `newframe = frame.copy()`\n",
      "  final[col_name]=final.Recnum.map(mapper)\n",
      "C:\\Users\\Alex Tan\\AppData\\Local\\Temp\\ipykernel_15732\\1564456075.py:15: PerformanceWarning: DataFrame is highly fragmented.  This is usually the result of calling `frame.insert` many times, which has poor performance.  Consider joining all columns at once using pd.concat(axis=1) instead. To get a de-fragmented frame, use `newframe = frame.copy()`\n",
      "  final[col_name]=final.Recnum.map(mapper)\n",
      "C:\\Users\\Alex Tan\\AppData\\Local\\Temp\\ipykernel_15732\\1564456075.py:15: PerformanceWarning: DataFrame is highly fragmented.  This is usually the result of calling `frame.insert` many times, which has poor performance.  Consider joining all columns at once using pd.concat(axis=1) instead. To get a de-fragmented frame, use `newframe = frame.copy()`\n",
      "  final[col_name]=final.Recnum.map(mapper)\n",
      "C:\\Users\\Alex Tan\\AppData\\Local\\Temp\\ipykernel_15732\\1564456075.py:15: PerformanceWarning: DataFrame is highly fragmented.  This is usually the result of calling `frame.insert` many times, which has poor performance.  Consider joining all columns at once using pd.concat(axis=1) instead. To get a de-fragmented frame, use `newframe = frame.copy()`\n",
      "  final[col_name]=final.Recnum.map(mapper)\n",
      "C:\\Users\\Alex Tan\\AppData\\Local\\Temp\\ipykernel_15732\\1564456075.py:15: PerformanceWarning: DataFrame is highly fragmented.  This is usually the result of calling `frame.insert` many times, which has poor performance.  Consider joining all columns at once using pd.concat(axis=1) instead. To get a de-fragmented frame, use `newframe = frame.copy()`\n",
      "  final[col_name]=final.Recnum.map(mapper)\n",
      "C:\\Users\\Alex Tan\\AppData\\Local\\Temp\\ipykernel_15732\\1564456075.py:15: PerformanceWarning: DataFrame is highly fragmented.  This is usually the result of calling `frame.insert` many times, which has poor performance.  Consider joining all columns at once using pd.concat(axis=1) instead. To get a de-fragmented frame, use `newframe = frame.copy()`\n",
      "  final[col_name]=final.Recnum.map(mapper)\n",
      "C:\\Users\\Alex Tan\\AppData\\Local\\Temp\\ipykernel_15732\\1564456075.py:15: PerformanceWarning: DataFrame is highly fragmented.  This is usually the result of calling `frame.insert` many times, which has poor performance.  Consider joining all columns at once using pd.concat(axis=1) instead. To get a de-fragmented frame, use `newframe = frame.copy()`\n",
      "  final[col_name]=final.Recnum.map(mapper)\n",
      "C:\\Users\\Alex Tan\\AppData\\Local\\Temp\\ipykernel_15732\\1564456075.py:15: PerformanceWarning: DataFrame is highly fragmented.  This is usually the result of calling `frame.insert` many times, which has poor performance.  Consider joining all columns at once using pd.concat(axis=1) instead. To get a de-fragmented frame, use `newframe = frame.copy()`\n",
      "  final[col_name]=final.Recnum.map(mapper)\n",
      "C:\\Users\\Alex Tan\\AppData\\Local\\Temp\\ipykernel_15732\\1564456075.py:15: PerformanceWarning: DataFrame is highly fragmented.  This is usually the result of calling `frame.insert` many times, which has poor performance.  Consider joining all columns at once using pd.concat(axis=1) instead. To get a de-fragmented frame, use `newframe = frame.copy()`\n",
      "  final[col_name]=final.Recnum.map(mapper)\n",
      "C:\\Users\\Alex Tan\\AppData\\Local\\Temp\\ipykernel_15732\\1564456075.py:15: PerformanceWarning: DataFrame is highly fragmented.  This is usually the result of calling `frame.insert` many times, which has poor performance.  Consider joining all columns at once using pd.concat(axis=1) instead. To get a de-fragmented frame, use `newframe = frame.copy()`\n",
      "  final[col_name]=final.Recnum.map(mapper)\n",
      "C:\\Users\\Alex Tan\\AppData\\Local\\Temp\\ipykernel_15732\\1564456075.py:15: PerformanceWarning: DataFrame is highly fragmented.  This is usually the result of calling `frame.insert` many times, which has poor performance.  Consider joining all columns at once using pd.concat(axis=1) instead. To get a de-fragmented frame, use `newframe = frame.copy()`\n",
      "  final[col_name]=final.Recnum.map(mapper)\n",
      "C:\\Users\\Alex Tan\\AppData\\Local\\Temp\\ipykernel_15732\\1564456075.py:15: PerformanceWarning: DataFrame is highly fragmented.  This is usually the result of calling `frame.insert` many times, which has poor performance.  Consider joining all columns at once using pd.concat(axis=1) instead. To get a de-fragmented frame, use `newframe = frame.copy()`\n",
      "  final[col_name]=final.Recnum.map(mapper)\n",
      "C:\\Users\\Alex Tan\\AppData\\Local\\Temp\\ipykernel_15732\\1564456075.py:15: PerformanceWarning: DataFrame is highly fragmented.  This is usually the result of calling `frame.insert` many times, which has poor performance.  Consider joining all columns at once using pd.concat(axis=1) instead. To get a de-fragmented frame, use `newframe = frame.copy()`\n",
      "  final[col_name]=final.Recnum.map(mapper)\n",
      "C:\\Users\\Alex Tan\\AppData\\Local\\Temp\\ipykernel_15732\\1564456075.py:15: PerformanceWarning: DataFrame is highly fragmented.  This is usually the result of calling `frame.insert` many times, which has poor performance.  Consider joining all columns at once using pd.concat(axis=1) instead. To get a de-fragmented frame, use `newframe = frame.copy()`\n",
      "  final[col_name]=final.Recnum.map(mapper)\n",
      "C:\\Users\\Alex Tan\\AppData\\Local\\Temp\\ipykernel_15732\\1564456075.py:15: PerformanceWarning: DataFrame is highly fragmented.  This is usually the result of calling `frame.insert` many times, which has poor performance.  Consider joining all columns at once using pd.concat(axis=1) instead. To get a de-fragmented frame, use `newframe = frame.copy()`\n",
      "  final[col_name]=final.Recnum.map(mapper)\n"
     ]
    },
    {
     "name": "stderr",
     "output_type": "stream",
     "text": [
      "C:\\Users\\Alex Tan\\AppData\\Local\\Temp\\ipykernel_15732\\1564456075.py:15: PerformanceWarning: DataFrame is highly fragmented.  This is usually the result of calling `frame.insert` many times, which has poor performance.  Consider joining all columns at once using pd.concat(axis=1) instead. To get a de-fragmented frame, use `newframe = frame.copy()`\n",
      "  final[col_name]=final.Recnum.map(mapper)\n",
      "C:\\Users\\Alex Tan\\AppData\\Local\\Temp\\ipykernel_15732\\1564456075.py:15: PerformanceWarning: DataFrame is highly fragmented.  This is usually the result of calling `frame.insert` many times, which has poor performance.  Consider joining all columns at once using pd.concat(axis=1) instead. To get a de-fragmented frame, use `newframe = frame.copy()`\n",
      "  final[col_name]=final.Recnum.map(mapper)\n",
      "C:\\Users\\Alex Tan\\AppData\\Local\\Temp\\ipykernel_15732\\1564456075.py:15: PerformanceWarning: DataFrame is highly fragmented.  This is usually the result of calling `frame.insert` many times, which has poor performance.  Consider joining all columns at once using pd.concat(axis=1) instead. To get a de-fragmented frame, use `newframe = frame.copy()`\n",
      "  final[col_name]=final.Recnum.map(mapper)\n",
      "C:\\Users\\Alex Tan\\AppData\\Local\\Temp\\ipykernel_15732\\1564456075.py:15: PerformanceWarning: DataFrame is highly fragmented.  This is usually the result of calling `frame.insert` many times, which has poor performance.  Consider joining all columns at once using pd.concat(axis=1) instead. To get a de-fragmented frame, use `newframe = frame.copy()`\n",
      "  final[col_name]=final.Recnum.map(mapper)\n",
      "C:\\Users\\Alex Tan\\AppData\\Local\\Temp\\ipykernel_15732\\1564456075.py:15: PerformanceWarning: DataFrame is highly fragmented.  This is usually the result of calling `frame.insert` many times, which has poor performance.  Consider joining all columns at once using pd.concat(axis=1) instead. To get a de-fragmented frame, use `newframe = frame.copy()`\n",
      "  final[col_name]=final.Recnum.map(mapper)\n",
      "C:\\Users\\Alex Tan\\AppData\\Local\\Temp\\ipykernel_15732\\1564456075.py:15: PerformanceWarning: DataFrame is highly fragmented.  This is usually the result of calling `frame.insert` many times, which has poor performance.  Consider joining all columns at once using pd.concat(axis=1) instead. To get a de-fragmented frame, use `newframe = frame.copy()`\n",
      "  final[col_name]=final.Recnum.map(mapper)\n",
      "C:\\Users\\Alex Tan\\AppData\\Local\\Temp\\ipykernel_15732\\1564456075.py:15: PerformanceWarning: DataFrame is highly fragmented.  This is usually the result of calling `frame.insert` many times, which has poor performance.  Consider joining all columns at once using pd.concat(axis=1) instead. To get a de-fragmented frame, use `newframe = frame.copy()`\n",
      "  final[col_name]=final.Recnum.map(mapper)\n",
      "C:\\Users\\Alex Tan\\AppData\\Local\\Temp\\ipykernel_15732\\1564456075.py:15: PerformanceWarning: DataFrame is highly fragmented.  This is usually the result of calling `frame.insert` many times, which has poor performance.  Consider joining all columns at once using pd.concat(axis=1) instead. To get a de-fragmented frame, use `newframe = frame.copy()`\n",
      "  final[col_name]=final.Recnum.map(mapper)\n",
      "C:\\Users\\Alex Tan\\AppData\\Local\\Temp\\ipykernel_15732\\1564456075.py:15: PerformanceWarning: DataFrame is highly fragmented.  This is usually the result of calling `frame.insert` many times, which has poor performance.  Consider joining all columns at once using pd.concat(axis=1) instead. To get a de-fragmented frame, use `newframe = frame.copy()`\n",
      "  final[col_name]=final.Recnum.map(mapper)\n",
      "C:\\Users\\Alex Tan\\AppData\\Local\\Temp\\ipykernel_15732\\1564456075.py:15: PerformanceWarning: DataFrame is highly fragmented.  This is usually the result of calling `frame.insert` many times, which has poor performance.  Consider joining all columns at once using pd.concat(axis=1) instead. To get a de-fragmented frame, use `newframe = frame.copy()`\n",
      "  final[col_name]=final.Recnum.map(mapper)\n",
      "C:\\Users\\Alex Tan\\AppData\\Local\\Temp\\ipykernel_15732\\1564456075.py:15: PerformanceWarning: DataFrame is highly fragmented.  This is usually the result of calling `frame.insert` many times, which has poor performance.  Consider joining all columns at once using pd.concat(axis=1) instead. To get a de-fragmented frame, use `newframe = frame.copy()`\n",
      "  final[col_name]=final.Recnum.map(mapper)\n",
      "C:\\Users\\Alex Tan\\AppData\\Local\\Temp\\ipykernel_15732\\1564456075.py:15: PerformanceWarning: DataFrame is highly fragmented.  This is usually the result of calling `frame.insert` many times, which has poor performance.  Consider joining all columns at once using pd.concat(axis=1) instead. To get a de-fragmented frame, use `newframe = frame.copy()`\n",
      "  final[col_name]=final.Recnum.map(mapper)\n",
      "C:\\Users\\Alex Tan\\AppData\\Local\\Temp\\ipykernel_15732\\1564456075.py:15: PerformanceWarning: DataFrame is highly fragmented.  This is usually the result of calling `frame.insert` many times, which has poor performance.  Consider joining all columns at once using pd.concat(axis=1) instead. To get a de-fragmented frame, use `newframe = frame.copy()`\n",
      "  final[col_name]=final.Recnum.map(mapper)\n",
      "C:\\Users\\Alex Tan\\AppData\\Local\\Temp\\ipykernel_15732\\1564456075.py:15: PerformanceWarning: DataFrame is highly fragmented.  This is usually the result of calling `frame.insert` many times, which has poor performance.  Consider joining all columns at once using pd.concat(axis=1) instead. To get a de-fragmented frame, use `newframe = frame.copy()`\n",
      "  final[col_name]=final.Recnum.map(mapper)\n",
      "C:\\Users\\Alex Tan\\AppData\\Local\\Temp\\ipykernel_15732\\1564456075.py:15: PerformanceWarning: DataFrame is highly fragmented.  This is usually the result of calling `frame.insert` many times, which has poor performance.  Consider joining all columns at once using pd.concat(axis=1) instead. To get a de-fragmented frame, use `newframe = frame.copy()`\n",
      "  final[col_name]=final.Recnum.map(mapper)\n",
      "C:\\Users\\Alex Tan\\AppData\\Local\\Temp\\ipykernel_15732\\1564456075.py:15: PerformanceWarning: DataFrame is highly fragmented.  This is usually the result of calling `frame.insert` many times, which has poor performance.  Consider joining all columns at once using pd.concat(axis=1) instead. To get a de-fragmented frame, use `newframe = frame.copy()`\n",
      "  final[col_name]=final.Recnum.map(mapper)\n",
      "C:\\Users\\Alex Tan\\AppData\\Local\\Temp\\ipykernel_15732\\1564456075.py:15: PerformanceWarning: DataFrame is highly fragmented.  This is usually the result of calling `frame.insert` many times, which has poor performance.  Consider joining all columns at once using pd.concat(axis=1) instead. To get a de-fragmented frame, use `newframe = frame.copy()`\n",
      "  final[col_name]=final.Recnum.map(mapper)\n",
      "C:\\Users\\Alex Tan\\AppData\\Local\\Temp\\ipykernel_15732\\1564456075.py:15: PerformanceWarning: DataFrame is highly fragmented.  This is usually the result of calling `frame.insert` many times, which has poor performance.  Consider joining all columns at once using pd.concat(axis=1) instead. To get a de-fragmented frame, use `newframe = frame.copy()`\n",
      "  final[col_name]=final.Recnum.map(mapper)\n",
      "C:\\Users\\Alex Tan\\AppData\\Local\\Temp\\ipykernel_15732\\1564456075.py:15: PerformanceWarning: DataFrame is highly fragmented.  This is usually the result of calling `frame.insert` many times, which has poor performance.  Consider joining all columns at once using pd.concat(axis=1) instead. To get a de-fragmented frame, use `newframe = frame.copy()`\n",
      "  final[col_name]=final.Recnum.map(mapper)\n",
      "C:\\Users\\Alex Tan\\AppData\\Local\\Temp\\ipykernel_15732\\1564456075.py:15: PerformanceWarning: DataFrame is highly fragmented.  This is usually the result of calling `frame.insert` many times, which has poor performance.  Consider joining all columns at once using pd.concat(axis=1) instead. To get a de-fragmented frame, use `newframe = frame.copy()`\n",
      "  final[col_name]=final.Recnum.map(mapper)\n",
      "C:\\Users\\Alex Tan\\AppData\\Local\\Temp\\ipykernel_15732\\1564456075.py:15: PerformanceWarning: DataFrame is highly fragmented.  This is usually the result of calling `frame.insert` many times, which has poor performance.  Consider joining all columns at once using pd.concat(axis=1) instead. To get a de-fragmented frame, use `newframe = frame.copy()`\n",
      "  final[col_name]=final.Recnum.map(mapper)\n"
     ]
    },
    {
     "name": "stderr",
     "output_type": "stream",
     "text": [
      "C:\\Users\\Alex Tan\\AppData\\Local\\Temp\\ipykernel_15732\\1564456075.py:15: PerformanceWarning: DataFrame is highly fragmented.  This is usually the result of calling `frame.insert` many times, which has poor performance.  Consider joining all columns at once using pd.concat(axis=1) instead. To get a de-fragmented frame, use `newframe = frame.copy()`\n",
      "  final[col_name]=final.Recnum.map(mapper)\n",
      "C:\\Users\\Alex Tan\\AppData\\Local\\Temp\\ipykernel_15732\\1564456075.py:15: PerformanceWarning: DataFrame is highly fragmented.  This is usually the result of calling `frame.insert` many times, which has poor performance.  Consider joining all columns at once using pd.concat(axis=1) instead. To get a de-fragmented frame, use `newframe = frame.copy()`\n",
      "  final[col_name]=final.Recnum.map(mapper)\n",
      "C:\\Users\\Alex Tan\\AppData\\Local\\Temp\\ipykernel_15732\\1564456075.py:15: PerformanceWarning: DataFrame is highly fragmented.  This is usually the result of calling `frame.insert` many times, which has poor performance.  Consider joining all columns at once using pd.concat(axis=1) instead. To get a de-fragmented frame, use `newframe = frame.copy()`\n",
      "  final[col_name]=final.Recnum.map(mapper)\n",
      "C:\\Users\\Alex Tan\\AppData\\Local\\Temp\\ipykernel_15732\\1564456075.py:15: PerformanceWarning: DataFrame is highly fragmented.  This is usually the result of calling `frame.insert` many times, which has poor performance.  Consider joining all columns at once using pd.concat(axis=1) instead. To get a de-fragmented frame, use `newframe = frame.copy()`\n",
      "  final[col_name]=final.Recnum.map(mapper)\n",
      "C:\\Users\\Alex Tan\\AppData\\Local\\Temp\\ipykernel_15732\\1564456075.py:15: PerformanceWarning: DataFrame is highly fragmented.  This is usually the result of calling `frame.insert` many times, which has poor performance.  Consider joining all columns at once using pd.concat(axis=1) instead. To get a de-fragmented frame, use `newframe = frame.copy()`\n",
      "  final[col_name]=final.Recnum.map(mapper)\n",
      "C:\\Users\\Alex Tan\\AppData\\Local\\Temp\\ipykernel_15732\\1564456075.py:15: PerformanceWarning: DataFrame is highly fragmented.  This is usually the result of calling `frame.insert` many times, which has poor performance.  Consider joining all columns at once using pd.concat(axis=1) instead. To get a de-fragmented frame, use `newframe = frame.copy()`\n",
      "  final[col_name]=final.Recnum.map(mapper)\n",
      "C:\\Users\\Alex Tan\\AppData\\Local\\Temp\\ipykernel_15732\\1564456075.py:15: PerformanceWarning: DataFrame is highly fragmented.  This is usually the result of calling `frame.insert` many times, which has poor performance.  Consider joining all columns at once using pd.concat(axis=1) instead. To get a de-fragmented frame, use `newframe = frame.copy()`\n",
      "  final[col_name]=final.Recnum.map(mapper)\n",
      "C:\\Users\\Alex Tan\\AppData\\Local\\Temp\\ipykernel_15732\\1564456075.py:15: PerformanceWarning: DataFrame is highly fragmented.  This is usually the result of calling `frame.insert` many times, which has poor performance.  Consider joining all columns at once using pd.concat(axis=1) instead. To get a de-fragmented frame, use `newframe = frame.copy()`\n",
      "  final[col_name]=final.Recnum.map(mapper)\n",
      "C:\\Users\\Alex Tan\\AppData\\Local\\Temp\\ipykernel_15732\\1564456075.py:15: PerformanceWarning: DataFrame is highly fragmented.  This is usually the result of calling `frame.insert` many times, which has poor performance.  Consider joining all columns at once using pd.concat(axis=1) instead. To get a de-fragmented frame, use `newframe = frame.copy()`\n",
      "  final[col_name]=final.Recnum.map(mapper)\n",
      "C:\\Users\\Alex Tan\\AppData\\Local\\Temp\\ipykernel_15732\\1564456075.py:15: PerformanceWarning: DataFrame is highly fragmented.  This is usually the result of calling `frame.insert` many times, which has poor performance.  Consider joining all columns at once using pd.concat(axis=1) instead. To get a de-fragmented frame, use `newframe = frame.copy()`\n",
      "  final[col_name]=final.Recnum.map(mapper)\n",
      "C:\\Users\\Alex Tan\\AppData\\Local\\Temp\\ipykernel_15732\\1564456075.py:15: PerformanceWarning: DataFrame is highly fragmented.  This is usually the result of calling `frame.insert` many times, which has poor performance.  Consider joining all columns at once using pd.concat(axis=1) instead. To get a de-fragmented frame, use `newframe = frame.copy()`\n",
      "  final[col_name]=final.Recnum.map(mapper)\n",
      "C:\\Users\\Alex Tan\\AppData\\Local\\Temp\\ipykernel_15732\\1564456075.py:15: PerformanceWarning: DataFrame is highly fragmented.  This is usually the result of calling `frame.insert` many times, which has poor performance.  Consider joining all columns at once using pd.concat(axis=1) instead. To get a de-fragmented frame, use `newframe = frame.copy()`\n",
      "  final[col_name]=final.Recnum.map(mapper)\n",
      "C:\\Users\\Alex Tan\\AppData\\Local\\Temp\\ipykernel_15732\\1564456075.py:15: PerformanceWarning: DataFrame is highly fragmented.  This is usually the result of calling `frame.insert` many times, which has poor performance.  Consider joining all columns at once using pd.concat(axis=1) instead. To get a de-fragmented frame, use `newframe = frame.copy()`\n",
      "  final[col_name]=final.Recnum.map(mapper)\n",
      "C:\\Users\\Alex Tan\\AppData\\Local\\Temp\\ipykernel_15732\\1564456075.py:15: PerformanceWarning: DataFrame is highly fragmented.  This is usually the result of calling `frame.insert` many times, which has poor performance.  Consider joining all columns at once using pd.concat(axis=1) instead. To get a de-fragmented frame, use `newframe = frame.copy()`\n",
      "  final[col_name]=final.Recnum.map(mapper)\n",
      "C:\\Users\\Alex Tan\\AppData\\Local\\Temp\\ipykernel_15732\\1564456075.py:15: PerformanceWarning: DataFrame is highly fragmented.  This is usually the result of calling `frame.insert` many times, which has poor performance.  Consider joining all columns at once using pd.concat(axis=1) instead. To get a de-fragmented frame, use `newframe = frame.copy()`\n",
      "  final[col_name]=final.Recnum.map(mapper)\n",
      "C:\\Users\\Alex Tan\\AppData\\Local\\Temp\\ipykernel_15732\\1564456075.py:15: PerformanceWarning: DataFrame is highly fragmented.  This is usually the result of calling `frame.insert` many times, which has poor performance.  Consider joining all columns at once using pd.concat(axis=1) instead. To get a de-fragmented frame, use `newframe = frame.copy()`\n",
      "  final[col_name]=final.Recnum.map(mapper)\n",
      "C:\\Users\\Alex Tan\\AppData\\Local\\Temp\\ipykernel_15732\\1564456075.py:15: PerformanceWarning: DataFrame is highly fragmented.  This is usually the result of calling `frame.insert` many times, which has poor performance.  Consider joining all columns at once using pd.concat(axis=1) instead. To get a de-fragmented frame, use `newframe = frame.copy()`\n",
      "  final[col_name]=final.Recnum.map(mapper)\n",
      "C:\\Users\\Alex Tan\\AppData\\Local\\Temp\\ipykernel_15732\\1564456075.py:15: PerformanceWarning: DataFrame is highly fragmented.  This is usually the result of calling `frame.insert` many times, which has poor performance.  Consider joining all columns at once using pd.concat(axis=1) instead. To get a de-fragmented frame, use `newframe = frame.copy()`\n",
      "  final[col_name]=final.Recnum.map(mapper)\n",
      "C:\\Users\\Alex Tan\\AppData\\Local\\Temp\\ipykernel_15732\\1564456075.py:15: PerformanceWarning: DataFrame is highly fragmented.  This is usually the result of calling `frame.insert` many times, which has poor performance.  Consider joining all columns at once using pd.concat(axis=1) instead. To get a de-fragmented frame, use `newframe = frame.copy()`\n",
      "  final[col_name]=final.Recnum.map(mapper)\n",
      "C:\\Users\\Alex Tan\\AppData\\Local\\Temp\\ipykernel_15732\\1564456075.py:15: PerformanceWarning: DataFrame is highly fragmented.  This is usually the result of calling `frame.insert` many times, which has poor performance.  Consider joining all columns at once using pd.concat(axis=1) instead. To get a de-fragmented frame, use `newframe = frame.copy()`\n",
      "  final[col_name]=final.Recnum.map(mapper)\n",
      "C:\\Users\\Alex Tan\\AppData\\Local\\Temp\\ipykernel_15732\\1564456075.py:15: PerformanceWarning: DataFrame is highly fragmented.  This is usually the result of calling `frame.insert` many times, which has poor performance.  Consider joining all columns at once using pd.concat(axis=1) instead. To get a de-fragmented frame, use `newframe = frame.copy()`\n",
      "  final[col_name]=final.Recnum.map(mapper)\n"
     ]
    },
    {
     "name": "stderr",
     "output_type": "stream",
     "text": [
      "C:\\Users\\Alex Tan\\AppData\\Local\\Temp\\ipykernel_15732\\1564456075.py:15: PerformanceWarning: DataFrame is highly fragmented.  This is usually the result of calling `frame.insert` many times, which has poor performance.  Consider joining all columns at once using pd.concat(axis=1) instead. To get a de-fragmented frame, use `newframe = frame.copy()`\n",
      "  final[col_name]=final.Recnum.map(mapper)\n",
      "C:\\Users\\Alex Tan\\AppData\\Local\\Temp\\ipykernel_15732\\1564456075.py:15: PerformanceWarning: DataFrame is highly fragmented.  This is usually the result of calling `frame.insert` many times, which has poor performance.  Consider joining all columns at once using pd.concat(axis=1) instead. To get a de-fragmented frame, use `newframe = frame.copy()`\n",
      "  final[col_name]=final.Recnum.map(mapper)\n",
      "C:\\Users\\Alex Tan\\AppData\\Local\\Temp\\ipykernel_15732\\1564456075.py:15: PerformanceWarning: DataFrame is highly fragmented.  This is usually the result of calling `frame.insert` many times, which has poor performance.  Consider joining all columns at once using pd.concat(axis=1) instead. To get a de-fragmented frame, use `newframe = frame.copy()`\n",
      "  final[col_name]=final.Recnum.map(mapper)\n",
      "C:\\Users\\Alex Tan\\AppData\\Local\\Temp\\ipykernel_15732\\1564456075.py:15: PerformanceWarning: DataFrame is highly fragmented.  This is usually the result of calling `frame.insert` many times, which has poor performance.  Consider joining all columns at once using pd.concat(axis=1) instead. To get a de-fragmented frame, use `newframe = frame.copy()`\n",
      "  final[col_name]=final.Recnum.map(mapper)\n",
      "C:\\Users\\Alex Tan\\AppData\\Local\\Temp\\ipykernel_15732\\1564456075.py:15: PerformanceWarning: DataFrame is highly fragmented.  This is usually the result of calling `frame.insert` many times, which has poor performance.  Consider joining all columns at once using pd.concat(axis=1) instead. To get a de-fragmented frame, use `newframe = frame.copy()`\n",
      "  final[col_name]=final.Recnum.map(mapper)\n",
      "C:\\Users\\Alex Tan\\AppData\\Local\\Temp\\ipykernel_15732\\1564456075.py:15: PerformanceWarning: DataFrame is highly fragmented.  This is usually the result of calling `frame.insert` many times, which has poor performance.  Consider joining all columns at once using pd.concat(axis=1) instead. To get a de-fragmented frame, use `newframe = frame.copy()`\n",
      "  final[col_name]=final.Recnum.map(mapper)\n",
      "C:\\Users\\Alex Tan\\AppData\\Local\\Temp\\ipykernel_15732\\1564456075.py:15: PerformanceWarning: DataFrame is highly fragmented.  This is usually the result of calling `frame.insert` many times, which has poor performance.  Consider joining all columns at once using pd.concat(axis=1) instead. To get a de-fragmented frame, use `newframe = frame.copy()`\n",
      "  final[col_name]=final.Recnum.map(mapper)\n",
      "C:\\Users\\Alex Tan\\AppData\\Local\\Temp\\ipykernel_15732\\1564456075.py:15: PerformanceWarning: DataFrame is highly fragmented.  This is usually the result of calling `frame.insert` many times, which has poor performance.  Consider joining all columns at once using pd.concat(axis=1) instead. To get a de-fragmented frame, use `newframe = frame.copy()`\n",
      "  final[col_name]=final.Recnum.map(mapper)\n",
      "C:\\Users\\Alex Tan\\AppData\\Local\\Temp\\ipykernel_15732\\1564456075.py:15: PerformanceWarning: DataFrame is highly fragmented.  This is usually the result of calling `frame.insert` many times, which has poor performance.  Consider joining all columns at once using pd.concat(axis=1) instead. To get a de-fragmented frame, use `newframe = frame.copy()`\n",
      "  final[col_name]=final.Recnum.map(mapper)\n",
      "C:\\Users\\Alex Tan\\AppData\\Local\\Temp\\ipykernel_15732\\1564456075.py:15: PerformanceWarning: DataFrame is highly fragmented.  This is usually the result of calling `frame.insert` many times, which has poor performance.  Consider joining all columns at once using pd.concat(axis=1) instead. To get a de-fragmented frame, use `newframe = frame.copy()`\n",
      "  final[col_name]=final.Recnum.map(mapper)\n",
      "C:\\Users\\Alex Tan\\AppData\\Local\\Temp\\ipykernel_15732\\1564456075.py:15: PerformanceWarning: DataFrame is highly fragmented.  This is usually the result of calling `frame.insert` many times, which has poor performance.  Consider joining all columns at once using pd.concat(axis=1) instead. To get a de-fragmented frame, use `newframe = frame.copy()`\n",
      "  final[col_name]=final.Recnum.map(mapper)\n",
      "C:\\Users\\Alex Tan\\AppData\\Local\\Temp\\ipykernel_15732\\1564456075.py:15: PerformanceWarning: DataFrame is highly fragmented.  This is usually the result of calling `frame.insert` many times, which has poor performance.  Consider joining all columns at once using pd.concat(axis=1) instead. To get a de-fragmented frame, use `newframe = frame.copy()`\n",
      "  final[col_name]=final.Recnum.map(mapper)\n",
      "C:\\Users\\Alex Tan\\AppData\\Local\\Temp\\ipykernel_15732\\1564456075.py:15: PerformanceWarning: DataFrame is highly fragmented.  This is usually the result of calling `frame.insert` many times, which has poor performance.  Consider joining all columns at once using pd.concat(axis=1) instead. To get a de-fragmented frame, use `newframe = frame.copy()`\n",
      "  final[col_name]=final.Recnum.map(mapper)\n",
      "C:\\Users\\Alex Tan\\AppData\\Local\\Temp\\ipykernel_15732\\1564456075.py:15: PerformanceWarning: DataFrame is highly fragmented.  This is usually the result of calling `frame.insert` many times, which has poor performance.  Consider joining all columns at once using pd.concat(axis=1) instead. To get a de-fragmented frame, use `newframe = frame.copy()`\n",
      "  final[col_name]=final.Recnum.map(mapper)\n",
      "C:\\Users\\Alex Tan\\AppData\\Local\\Temp\\ipykernel_15732\\1564456075.py:15: PerformanceWarning: DataFrame is highly fragmented.  This is usually the result of calling `frame.insert` many times, which has poor performance.  Consider joining all columns at once using pd.concat(axis=1) instead. To get a de-fragmented frame, use `newframe = frame.copy()`\n",
      "  final[col_name]=final.Recnum.map(mapper)\n",
      "C:\\Users\\Alex Tan\\AppData\\Local\\Temp\\ipykernel_15732\\1564456075.py:15: PerformanceWarning: DataFrame is highly fragmented.  This is usually the result of calling `frame.insert` many times, which has poor performance.  Consider joining all columns at once using pd.concat(axis=1) instead. To get a de-fragmented frame, use `newframe = frame.copy()`\n",
      "  final[col_name]=final.Recnum.map(mapper)\n",
      "C:\\Users\\Alex Tan\\AppData\\Local\\Temp\\ipykernel_15732\\1564456075.py:15: PerformanceWarning: DataFrame is highly fragmented.  This is usually the result of calling `frame.insert` many times, which has poor performance.  Consider joining all columns at once using pd.concat(axis=1) instead. To get a de-fragmented frame, use `newframe = frame.copy()`\n",
      "  final[col_name]=final.Recnum.map(mapper)\n",
      "C:\\Users\\Alex Tan\\AppData\\Local\\Temp\\ipykernel_15732\\1564456075.py:15: PerformanceWarning: DataFrame is highly fragmented.  This is usually the result of calling `frame.insert` many times, which has poor performance.  Consider joining all columns at once using pd.concat(axis=1) instead. To get a de-fragmented frame, use `newframe = frame.copy()`\n",
      "  final[col_name]=final.Recnum.map(mapper)\n",
      "C:\\Users\\Alex Tan\\AppData\\Local\\Temp\\ipykernel_15732\\1564456075.py:15: PerformanceWarning: DataFrame is highly fragmented.  This is usually the result of calling `frame.insert` many times, which has poor performance.  Consider joining all columns at once using pd.concat(axis=1) instead. To get a de-fragmented frame, use `newframe = frame.copy()`\n",
      "  final[col_name]=final.Recnum.map(mapper)\n",
      "C:\\Users\\Alex Tan\\AppData\\Local\\Temp\\ipykernel_15732\\1564456075.py:15: PerformanceWarning: DataFrame is highly fragmented.  This is usually the result of calling `frame.insert` many times, which has poor performance.  Consider joining all columns at once using pd.concat(axis=1) instead. To get a de-fragmented frame, use `newframe = frame.copy()`\n",
      "  final[col_name]=final.Recnum.map(mapper)\n",
      "C:\\Users\\Alex Tan\\AppData\\Local\\Temp\\ipykernel_15732\\1564456075.py:15: PerformanceWarning: DataFrame is highly fragmented.  This is usually the result of calling `frame.insert` many times, which has poor performance.  Consider joining all columns at once using pd.concat(axis=1) instead. To get a de-fragmented frame, use `newframe = frame.copy()`\n",
      "  final[col_name]=final.Recnum.map(mapper)\n"
     ]
    },
    {
     "name": "stderr",
     "output_type": "stream",
     "text": [
      "C:\\Users\\Alex Tan\\AppData\\Local\\Temp\\ipykernel_15732\\1564456075.py:15: PerformanceWarning: DataFrame is highly fragmented.  This is usually the result of calling `frame.insert` many times, which has poor performance.  Consider joining all columns at once using pd.concat(axis=1) instead. To get a de-fragmented frame, use `newframe = frame.copy()`\n",
      "  final[col_name]=final.Recnum.map(mapper)\n",
      "C:\\Users\\Alex Tan\\AppData\\Local\\Temp\\ipykernel_15732\\1564456075.py:15: PerformanceWarning: DataFrame is highly fragmented.  This is usually the result of calling `frame.insert` many times, which has poor performance.  Consider joining all columns at once using pd.concat(axis=1) instead. To get a de-fragmented frame, use `newframe = frame.copy()`\n",
      "  final[col_name]=final.Recnum.map(mapper)\n",
      "C:\\Users\\Alex Tan\\AppData\\Local\\Temp\\ipykernel_15732\\1564456075.py:15: PerformanceWarning: DataFrame is highly fragmented.  This is usually the result of calling `frame.insert` many times, which has poor performance.  Consider joining all columns at once using pd.concat(axis=1) instead. To get a de-fragmented frame, use `newframe = frame.copy()`\n",
      "  final[col_name]=final.Recnum.map(mapper)\n",
      "C:\\Users\\Alex Tan\\AppData\\Local\\Temp\\ipykernel_15732\\1564456075.py:15: PerformanceWarning: DataFrame is highly fragmented.  This is usually the result of calling `frame.insert` many times, which has poor performance.  Consider joining all columns at once using pd.concat(axis=1) instead. To get a de-fragmented frame, use `newframe = frame.copy()`\n",
      "  final[col_name]=final.Recnum.map(mapper)\n",
      "C:\\Users\\Alex Tan\\AppData\\Local\\Temp\\ipykernel_15732\\1564456075.py:15: PerformanceWarning: DataFrame is highly fragmented.  This is usually the result of calling `frame.insert` many times, which has poor performance.  Consider joining all columns at once using pd.concat(axis=1) instead. To get a de-fragmented frame, use `newframe = frame.copy()`\n",
      "  final[col_name]=final.Recnum.map(mapper)\n",
      "C:\\Users\\Alex Tan\\AppData\\Local\\Temp\\ipykernel_15732\\1564456075.py:15: PerformanceWarning: DataFrame is highly fragmented.  This is usually the result of calling `frame.insert` many times, which has poor performance.  Consider joining all columns at once using pd.concat(axis=1) instead. To get a de-fragmented frame, use `newframe = frame.copy()`\n",
      "  final[col_name]=final.Recnum.map(mapper)\n",
      "C:\\Users\\Alex Tan\\AppData\\Local\\Temp\\ipykernel_15732\\1564456075.py:15: PerformanceWarning: DataFrame is highly fragmented.  This is usually the result of calling `frame.insert` many times, which has poor performance.  Consider joining all columns at once using pd.concat(axis=1) instead. To get a de-fragmented frame, use `newframe = frame.copy()`\n",
      "  final[col_name]=final.Recnum.map(mapper)\n",
      "C:\\Users\\Alex Tan\\AppData\\Local\\Temp\\ipykernel_15732\\1564456075.py:15: PerformanceWarning: DataFrame is highly fragmented.  This is usually the result of calling `frame.insert` many times, which has poor performance.  Consider joining all columns at once using pd.concat(axis=1) instead. To get a de-fragmented frame, use `newframe = frame.copy()`\n",
      "  final[col_name]=final.Recnum.map(mapper)\n",
      "C:\\Users\\Alex Tan\\AppData\\Local\\Temp\\ipykernel_15732\\1564456075.py:15: PerformanceWarning: DataFrame is highly fragmented.  This is usually the result of calling `frame.insert` many times, which has poor performance.  Consider joining all columns at once using pd.concat(axis=1) instead. To get a de-fragmented frame, use `newframe = frame.copy()`\n",
      "  final[col_name]=final.Recnum.map(mapper)\n",
      "C:\\Users\\Alex Tan\\AppData\\Local\\Temp\\ipykernel_15732\\1564456075.py:15: PerformanceWarning: DataFrame is highly fragmented.  This is usually the result of calling `frame.insert` many times, which has poor performance.  Consider joining all columns at once using pd.concat(axis=1) instead. To get a de-fragmented frame, use `newframe = frame.copy()`\n",
      "  final[col_name]=final.Recnum.map(mapper)\n",
      "C:\\Users\\Alex Tan\\AppData\\Local\\Temp\\ipykernel_15732\\1564456075.py:15: PerformanceWarning: DataFrame is highly fragmented.  This is usually the result of calling `frame.insert` many times, which has poor performance.  Consider joining all columns at once using pd.concat(axis=1) instead. To get a de-fragmented frame, use `newframe = frame.copy()`\n",
      "  final[col_name]=final.Recnum.map(mapper)\n",
      "C:\\Users\\Alex Tan\\AppData\\Local\\Temp\\ipykernel_15732\\1564456075.py:15: PerformanceWarning: DataFrame is highly fragmented.  This is usually the result of calling `frame.insert` many times, which has poor performance.  Consider joining all columns at once using pd.concat(axis=1) instead. To get a de-fragmented frame, use `newframe = frame.copy()`\n",
      "  final[col_name]=final.Recnum.map(mapper)\n",
      "C:\\Users\\Alex Tan\\AppData\\Local\\Temp\\ipykernel_15732\\1564456075.py:15: PerformanceWarning: DataFrame is highly fragmented.  This is usually the result of calling `frame.insert` many times, which has poor performance.  Consider joining all columns at once using pd.concat(axis=1) instead. To get a de-fragmented frame, use `newframe = frame.copy()`\n",
      "  final[col_name]=final.Recnum.map(mapper)\n",
      "C:\\Users\\Alex Tan\\AppData\\Local\\Temp\\ipykernel_15732\\1564456075.py:15: PerformanceWarning: DataFrame is highly fragmented.  This is usually the result of calling `frame.insert` many times, which has poor performance.  Consider joining all columns at once using pd.concat(axis=1) instead. To get a de-fragmented frame, use `newframe = frame.copy()`\n",
      "  final[col_name]=final.Recnum.map(mapper)\n",
      "C:\\Users\\Alex Tan\\AppData\\Local\\Temp\\ipykernel_15732\\1564456075.py:15: PerformanceWarning: DataFrame is highly fragmented.  This is usually the result of calling `frame.insert` many times, which has poor performance.  Consider joining all columns at once using pd.concat(axis=1) instead. To get a de-fragmented frame, use `newframe = frame.copy()`\n",
      "  final[col_name]=final.Recnum.map(mapper)\n",
      "C:\\Users\\Alex Tan\\AppData\\Local\\Temp\\ipykernel_15732\\1564456075.py:15: PerformanceWarning: DataFrame is highly fragmented.  This is usually the result of calling `frame.insert` many times, which has poor performance.  Consider joining all columns at once using pd.concat(axis=1) instead. To get a de-fragmented frame, use `newframe = frame.copy()`\n",
      "  final[col_name]=final.Recnum.map(mapper)\n",
      "C:\\Users\\Alex Tan\\AppData\\Local\\Temp\\ipykernel_15732\\1564456075.py:15: PerformanceWarning: DataFrame is highly fragmented.  This is usually the result of calling `frame.insert` many times, which has poor performance.  Consider joining all columns at once using pd.concat(axis=1) instead. To get a de-fragmented frame, use `newframe = frame.copy()`\n",
      "  final[col_name]=final.Recnum.map(mapper)\n",
      "C:\\Users\\Alex Tan\\AppData\\Local\\Temp\\ipykernel_15732\\1564456075.py:15: PerformanceWarning: DataFrame is highly fragmented.  This is usually the result of calling `frame.insert` many times, which has poor performance.  Consider joining all columns at once using pd.concat(axis=1) instead. To get a de-fragmented frame, use `newframe = frame.copy()`\n",
      "  final[col_name]=final.Recnum.map(mapper)\n",
      "C:\\Users\\Alex Tan\\AppData\\Local\\Temp\\ipykernel_15732\\1564456075.py:15: PerformanceWarning: DataFrame is highly fragmented.  This is usually the result of calling `frame.insert` many times, which has poor performance.  Consider joining all columns at once using pd.concat(axis=1) instead. To get a de-fragmented frame, use `newframe = frame.copy()`\n",
      "  final[col_name]=final.Recnum.map(mapper)\n",
      "C:\\Users\\Alex Tan\\AppData\\Local\\Temp\\ipykernel_15732\\1564456075.py:15: PerformanceWarning: DataFrame is highly fragmented.  This is usually the result of calling `frame.insert` many times, which has poor performance.  Consider joining all columns at once using pd.concat(axis=1) instead. To get a de-fragmented frame, use `newframe = frame.copy()`\n",
      "  final[col_name]=final.Recnum.map(mapper)\n",
      "C:\\Users\\Alex Tan\\AppData\\Local\\Temp\\ipykernel_15732\\1564456075.py:15: PerformanceWarning: DataFrame is highly fragmented.  This is usually the result of calling `frame.insert` many times, which has poor performance.  Consider joining all columns at once using pd.concat(axis=1) instead. To get a de-fragmented frame, use `newframe = frame.copy()`\n",
      "  final[col_name]=final.Recnum.map(mapper)\n"
     ]
    },
    {
     "name": "stderr",
     "output_type": "stream",
     "text": [
      "C:\\Users\\Alex Tan\\AppData\\Local\\Temp\\ipykernel_15732\\1564456075.py:15: PerformanceWarning: DataFrame is highly fragmented.  This is usually the result of calling `frame.insert` many times, which has poor performance.  Consider joining all columns at once using pd.concat(axis=1) instead. To get a de-fragmented frame, use `newframe = frame.copy()`\n",
      "  final[col_name]=final.Recnum.map(mapper)\n",
      "C:\\Users\\Alex Tan\\AppData\\Local\\Temp\\ipykernel_15732\\1564456075.py:15: PerformanceWarning: DataFrame is highly fragmented.  This is usually the result of calling `frame.insert` many times, which has poor performance.  Consider joining all columns at once using pd.concat(axis=1) instead. To get a de-fragmented frame, use `newframe = frame.copy()`\n",
      "  final[col_name]=final.Recnum.map(mapper)\n",
      "C:\\Users\\Alex Tan\\AppData\\Local\\Temp\\ipykernel_15732\\1564456075.py:15: PerformanceWarning: DataFrame is highly fragmented.  This is usually the result of calling `frame.insert` many times, which has poor performance.  Consider joining all columns at once using pd.concat(axis=1) instead. To get a de-fragmented frame, use `newframe = frame.copy()`\n",
      "  final[col_name]=final.Recnum.map(mapper)\n",
      "C:\\Users\\Alex Tan\\AppData\\Local\\Temp\\ipykernel_15732\\1564456075.py:15: PerformanceWarning: DataFrame is highly fragmented.  This is usually the result of calling `frame.insert` many times, which has poor performance.  Consider joining all columns at once using pd.concat(axis=1) instead. To get a de-fragmented frame, use `newframe = frame.copy()`\n",
      "  final[col_name]=final.Recnum.map(mapper)\n",
      "C:\\Users\\Alex Tan\\AppData\\Local\\Temp\\ipykernel_15732\\1564456075.py:15: PerformanceWarning: DataFrame is highly fragmented.  This is usually the result of calling `frame.insert` many times, which has poor performance.  Consider joining all columns at once using pd.concat(axis=1) instead. To get a de-fragmented frame, use `newframe = frame.copy()`\n",
      "  final[col_name]=final.Recnum.map(mapper)\n",
      "C:\\Users\\Alex Tan\\AppData\\Local\\Temp\\ipykernel_15732\\1564456075.py:15: PerformanceWarning: DataFrame is highly fragmented.  This is usually the result of calling `frame.insert` many times, which has poor performance.  Consider joining all columns at once using pd.concat(axis=1) instead. To get a de-fragmented frame, use `newframe = frame.copy()`\n",
      "  final[col_name]=final.Recnum.map(mapper)\n",
      "C:\\Users\\Alex Tan\\AppData\\Local\\Temp\\ipykernel_15732\\1564456075.py:15: PerformanceWarning: DataFrame is highly fragmented.  This is usually the result of calling `frame.insert` many times, which has poor performance.  Consider joining all columns at once using pd.concat(axis=1) instead. To get a de-fragmented frame, use `newframe = frame.copy()`\n",
      "  final[col_name]=final.Recnum.map(mapper)\n",
      "C:\\Users\\Alex Tan\\AppData\\Local\\Temp\\ipykernel_15732\\1564456075.py:15: PerformanceWarning: DataFrame is highly fragmented.  This is usually the result of calling `frame.insert` many times, which has poor performance.  Consider joining all columns at once using pd.concat(axis=1) instead. To get a de-fragmented frame, use `newframe = frame.copy()`\n",
      "  final[col_name]=final.Recnum.map(mapper)\n",
      "C:\\Users\\Alex Tan\\AppData\\Local\\Temp\\ipykernel_15732\\1564456075.py:15: PerformanceWarning: DataFrame is highly fragmented.  This is usually the result of calling `frame.insert` many times, which has poor performance.  Consider joining all columns at once using pd.concat(axis=1) instead. To get a de-fragmented frame, use `newframe = frame.copy()`\n",
      "  final[col_name]=final.Recnum.map(mapper)\n",
      "C:\\Users\\Alex Tan\\AppData\\Local\\Temp\\ipykernel_15732\\1564456075.py:15: PerformanceWarning: DataFrame is highly fragmented.  This is usually the result of calling `frame.insert` many times, which has poor performance.  Consider joining all columns at once using pd.concat(axis=1) instead. To get a de-fragmented frame, use `newframe = frame.copy()`\n",
      "  final[col_name]=final.Recnum.map(mapper)\n",
      "C:\\Users\\Alex Tan\\AppData\\Local\\Temp\\ipykernel_15732\\1564456075.py:15: PerformanceWarning: DataFrame is highly fragmented.  This is usually the result of calling `frame.insert` many times, which has poor performance.  Consider joining all columns at once using pd.concat(axis=1) instead. To get a de-fragmented frame, use `newframe = frame.copy()`\n",
      "  final[col_name]=final.Recnum.map(mapper)\n",
      "C:\\Users\\Alex Tan\\AppData\\Local\\Temp\\ipykernel_15732\\1564456075.py:15: PerformanceWarning: DataFrame is highly fragmented.  This is usually the result of calling `frame.insert` many times, which has poor performance.  Consider joining all columns at once using pd.concat(axis=1) instead. To get a de-fragmented frame, use `newframe = frame.copy()`\n",
      "  final[col_name]=final.Recnum.map(mapper)\n",
      "C:\\Users\\Alex Tan\\AppData\\Local\\Temp\\ipykernel_15732\\1564456075.py:15: PerformanceWarning: DataFrame is highly fragmented.  This is usually the result of calling `frame.insert` many times, which has poor performance.  Consider joining all columns at once using pd.concat(axis=1) instead. To get a de-fragmented frame, use `newframe = frame.copy()`\n",
      "  final[col_name]=final.Recnum.map(mapper)\n",
      "C:\\Users\\Alex Tan\\AppData\\Local\\Temp\\ipykernel_15732\\1564456075.py:15: PerformanceWarning: DataFrame is highly fragmented.  This is usually the result of calling `frame.insert` many times, which has poor performance.  Consider joining all columns at once using pd.concat(axis=1) instead. To get a de-fragmented frame, use `newframe = frame.copy()`\n",
      "  final[col_name]=final.Recnum.map(mapper)\n",
      "C:\\Users\\Alex Tan\\AppData\\Local\\Temp\\ipykernel_15732\\1564456075.py:15: PerformanceWarning: DataFrame is highly fragmented.  This is usually the result of calling `frame.insert` many times, which has poor performance.  Consider joining all columns at once using pd.concat(axis=1) instead. To get a de-fragmented frame, use `newframe = frame.copy()`\n",
      "  final[col_name]=final.Recnum.map(mapper)\n",
      "C:\\Users\\Alex Tan\\AppData\\Local\\Temp\\ipykernel_15732\\1564456075.py:15: PerformanceWarning: DataFrame is highly fragmented.  This is usually the result of calling `frame.insert` many times, which has poor performance.  Consider joining all columns at once using pd.concat(axis=1) instead. To get a de-fragmented frame, use `newframe = frame.copy()`\n",
      "  final[col_name]=final.Recnum.map(mapper)\n",
      "C:\\Users\\Alex Tan\\AppData\\Local\\Temp\\ipykernel_15732\\1564456075.py:15: PerformanceWarning: DataFrame is highly fragmented.  This is usually the result of calling `frame.insert` many times, which has poor performance.  Consider joining all columns at once using pd.concat(axis=1) instead. To get a de-fragmented frame, use `newframe = frame.copy()`\n",
      "  final[col_name]=final.Recnum.map(mapper)\n",
      "C:\\Users\\Alex Tan\\AppData\\Local\\Temp\\ipykernel_15732\\1564456075.py:15: PerformanceWarning: DataFrame is highly fragmented.  This is usually the result of calling `frame.insert` many times, which has poor performance.  Consider joining all columns at once using pd.concat(axis=1) instead. To get a de-fragmented frame, use `newframe = frame.copy()`\n",
      "  final[col_name]=final.Recnum.map(mapper)\n",
      "C:\\Users\\Alex Tan\\AppData\\Local\\Temp\\ipykernel_15732\\1564456075.py:15: PerformanceWarning: DataFrame is highly fragmented.  This is usually the result of calling `frame.insert` many times, which has poor performance.  Consider joining all columns at once using pd.concat(axis=1) instead. To get a de-fragmented frame, use `newframe = frame.copy()`\n",
      "  final[col_name]=final.Recnum.map(mapper)\n",
      "C:\\Users\\Alex Tan\\AppData\\Local\\Temp\\ipykernel_15732\\1564456075.py:15: PerformanceWarning: DataFrame is highly fragmented.  This is usually the result of calling `frame.insert` many times, which has poor performance.  Consider joining all columns at once using pd.concat(axis=1) instead. To get a de-fragmented frame, use `newframe = frame.copy()`\n",
      "  final[col_name]=final.Recnum.map(mapper)\n",
      "C:\\Users\\Alex Tan\\AppData\\Local\\Temp\\ipykernel_15732\\1564456075.py:15: PerformanceWarning: DataFrame is highly fragmented.  This is usually the result of calling `frame.insert` many times, which has poor performance.  Consider joining all columns at once using pd.concat(axis=1) instead. To get a de-fragmented frame, use `newframe = frame.copy()`\n",
      "  final[col_name]=final.Recnum.map(mapper)\n"
     ]
    },
    {
     "name": "stderr",
     "output_type": "stream",
     "text": [
      "C:\\Users\\Alex Tan\\AppData\\Local\\Temp\\ipykernel_15732\\1564456075.py:15: PerformanceWarning: DataFrame is highly fragmented.  This is usually the result of calling `frame.insert` many times, which has poor performance.  Consider joining all columns at once using pd.concat(axis=1) instead. To get a de-fragmented frame, use `newframe = frame.copy()`\n",
      "  final[col_name]=final.Recnum.map(mapper)\n",
      "C:\\Users\\Alex Tan\\AppData\\Local\\Temp\\ipykernel_15732\\1564456075.py:15: PerformanceWarning: DataFrame is highly fragmented.  This is usually the result of calling `frame.insert` many times, which has poor performance.  Consider joining all columns at once using pd.concat(axis=1) instead. To get a de-fragmented frame, use `newframe = frame.copy()`\n",
      "  final[col_name]=final.Recnum.map(mapper)\n",
      "C:\\Users\\Alex Tan\\AppData\\Local\\Temp\\ipykernel_15732\\1564456075.py:15: PerformanceWarning: DataFrame is highly fragmented.  This is usually the result of calling `frame.insert` many times, which has poor performance.  Consider joining all columns at once using pd.concat(axis=1) instead. To get a de-fragmented frame, use `newframe = frame.copy()`\n",
      "  final[col_name]=final.Recnum.map(mapper)\n",
      "C:\\Users\\Alex Tan\\AppData\\Local\\Temp\\ipykernel_15732\\1564456075.py:15: PerformanceWarning: DataFrame is highly fragmented.  This is usually the result of calling `frame.insert` many times, which has poor performance.  Consider joining all columns at once using pd.concat(axis=1) instead. To get a de-fragmented frame, use `newframe = frame.copy()`\n",
      "  final[col_name]=final.Recnum.map(mapper)\n",
      "C:\\Users\\Alex Tan\\AppData\\Local\\Temp\\ipykernel_15732\\1564456075.py:15: PerformanceWarning: DataFrame is highly fragmented.  This is usually the result of calling `frame.insert` many times, which has poor performance.  Consider joining all columns at once using pd.concat(axis=1) instead. To get a de-fragmented frame, use `newframe = frame.copy()`\n",
      "  final[col_name]=final.Recnum.map(mapper)\n",
      "C:\\Users\\Alex Tan\\AppData\\Local\\Temp\\ipykernel_15732\\1564456075.py:15: PerformanceWarning: DataFrame is highly fragmented.  This is usually the result of calling `frame.insert` many times, which has poor performance.  Consider joining all columns at once using pd.concat(axis=1) instead. To get a de-fragmented frame, use `newframe = frame.copy()`\n",
      "  final[col_name]=final.Recnum.map(mapper)\n",
      "C:\\Users\\Alex Tan\\AppData\\Local\\Temp\\ipykernel_15732\\1564456075.py:15: PerformanceWarning: DataFrame is highly fragmented.  This is usually the result of calling `frame.insert` many times, which has poor performance.  Consider joining all columns at once using pd.concat(axis=1) instead. To get a de-fragmented frame, use `newframe = frame.copy()`\n",
      "  final[col_name]=final.Recnum.map(mapper)\n",
      "C:\\Users\\Alex Tan\\AppData\\Local\\Temp\\ipykernel_15732\\1564456075.py:15: PerformanceWarning: DataFrame is highly fragmented.  This is usually the result of calling `frame.insert` many times, which has poor performance.  Consider joining all columns at once using pd.concat(axis=1) instead. To get a de-fragmented frame, use `newframe = frame.copy()`\n",
      "  final[col_name]=final.Recnum.map(mapper)\n",
      "C:\\Users\\Alex Tan\\AppData\\Local\\Temp\\ipykernel_15732\\1564456075.py:15: PerformanceWarning: DataFrame is highly fragmented.  This is usually the result of calling `frame.insert` many times, which has poor performance.  Consider joining all columns at once using pd.concat(axis=1) instead. To get a de-fragmented frame, use `newframe = frame.copy()`\n",
      "  final[col_name]=final.Recnum.map(mapper)\n",
      "C:\\Users\\Alex Tan\\AppData\\Local\\Temp\\ipykernel_15732\\1564456075.py:15: PerformanceWarning: DataFrame is highly fragmented.  This is usually the result of calling `frame.insert` many times, which has poor performance.  Consider joining all columns at once using pd.concat(axis=1) instead. To get a de-fragmented frame, use `newframe = frame.copy()`\n",
      "  final[col_name]=final.Recnum.map(mapper)\n",
      "C:\\Users\\Alex Tan\\AppData\\Local\\Temp\\ipykernel_15732\\1564456075.py:15: PerformanceWarning: DataFrame is highly fragmented.  This is usually the result of calling `frame.insert` many times, which has poor performance.  Consider joining all columns at once using pd.concat(axis=1) instead. To get a de-fragmented frame, use `newframe = frame.copy()`\n",
      "  final[col_name]=final.Recnum.map(mapper)\n",
      "C:\\Users\\Alex Tan\\AppData\\Local\\Temp\\ipykernel_15732\\1564456075.py:15: PerformanceWarning: DataFrame is highly fragmented.  This is usually the result of calling `frame.insert` many times, which has poor performance.  Consider joining all columns at once using pd.concat(axis=1) instead. To get a de-fragmented frame, use `newframe = frame.copy()`\n",
      "  final[col_name]=final.Recnum.map(mapper)\n",
      "C:\\Users\\Alex Tan\\AppData\\Local\\Temp\\ipykernel_15732\\1564456075.py:15: PerformanceWarning: DataFrame is highly fragmented.  This is usually the result of calling `frame.insert` many times, which has poor performance.  Consider joining all columns at once using pd.concat(axis=1) instead. To get a de-fragmented frame, use `newframe = frame.copy()`\n",
      "  final[col_name]=final.Recnum.map(mapper)\n",
      "C:\\Users\\Alex Tan\\AppData\\Local\\Temp\\ipykernel_15732\\1564456075.py:15: PerformanceWarning: DataFrame is highly fragmented.  This is usually the result of calling `frame.insert` many times, which has poor performance.  Consider joining all columns at once using pd.concat(axis=1) instead. To get a de-fragmented frame, use `newframe = frame.copy()`\n",
      "  final[col_name]=final.Recnum.map(mapper)\n",
      "C:\\Users\\Alex Tan\\AppData\\Local\\Temp\\ipykernel_15732\\1564456075.py:15: PerformanceWarning: DataFrame is highly fragmented.  This is usually the result of calling `frame.insert` many times, which has poor performance.  Consider joining all columns at once using pd.concat(axis=1) instead. To get a de-fragmented frame, use `newframe = frame.copy()`\n",
      "  final[col_name]=final.Recnum.map(mapper)\n",
      "C:\\Users\\Alex Tan\\AppData\\Local\\Temp\\ipykernel_15732\\1564456075.py:15: PerformanceWarning: DataFrame is highly fragmented.  This is usually the result of calling `frame.insert` many times, which has poor performance.  Consider joining all columns at once using pd.concat(axis=1) instead. To get a de-fragmented frame, use `newframe = frame.copy()`\n",
      "  final[col_name]=final.Recnum.map(mapper)\n",
      "C:\\Users\\Alex Tan\\AppData\\Local\\Temp\\ipykernel_15732\\1564456075.py:15: PerformanceWarning: DataFrame is highly fragmented.  This is usually the result of calling `frame.insert` many times, which has poor performance.  Consider joining all columns at once using pd.concat(axis=1) instead. To get a de-fragmented frame, use `newframe = frame.copy()`\n",
      "  final[col_name]=final.Recnum.map(mapper)\n",
      "C:\\Users\\Alex Tan\\AppData\\Local\\Temp\\ipykernel_15732\\1564456075.py:15: PerformanceWarning: DataFrame is highly fragmented.  This is usually the result of calling `frame.insert` many times, which has poor performance.  Consider joining all columns at once using pd.concat(axis=1) instead. To get a de-fragmented frame, use `newframe = frame.copy()`\n",
      "  final[col_name]=final.Recnum.map(mapper)\n",
      "C:\\Users\\Alex Tan\\AppData\\Local\\Temp\\ipykernel_15732\\1564456075.py:15: PerformanceWarning: DataFrame is highly fragmented.  This is usually the result of calling `frame.insert` many times, which has poor performance.  Consider joining all columns at once using pd.concat(axis=1) instead. To get a de-fragmented frame, use `newframe = frame.copy()`\n",
      "  final[col_name]=final.Recnum.map(mapper)\n",
      "C:\\Users\\Alex Tan\\AppData\\Local\\Temp\\ipykernel_15732\\1564456075.py:15: PerformanceWarning: DataFrame is highly fragmented.  This is usually the result of calling `frame.insert` many times, which has poor performance.  Consider joining all columns at once using pd.concat(axis=1) instead. To get a de-fragmented frame, use `newframe = frame.copy()`\n",
      "  final[col_name]=final.Recnum.map(mapper)\n",
      "C:\\Users\\Alex Tan\\AppData\\Local\\Temp\\ipykernel_15732\\1564456075.py:15: PerformanceWarning: DataFrame is highly fragmented.  This is usually the result of calling `frame.insert` many times, which has poor performance.  Consider joining all columns at once using pd.concat(axis=1) instead. To get a de-fragmented frame, use `newframe = frame.copy()`\n",
      "  final[col_name]=final.Recnum.map(mapper)\n"
     ]
    },
    {
     "name": "stderr",
     "output_type": "stream",
     "text": [
      "C:\\Users\\Alex Tan\\AppData\\Local\\Temp\\ipykernel_15732\\1564456075.py:15: PerformanceWarning: DataFrame is highly fragmented.  This is usually the result of calling `frame.insert` many times, which has poor performance.  Consider joining all columns at once using pd.concat(axis=1) instead. To get a de-fragmented frame, use `newframe = frame.copy()`\n",
      "  final[col_name]=final.Recnum.map(mapper)\n",
      "C:\\Users\\Alex Tan\\AppData\\Local\\Temp\\ipykernel_15732\\1564456075.py:15: PerformanceWarning: DataFrame is highly fragmented.  This is usually the result of calling `frame.insert` many times, which has poor performance.  Consider joining all columns at once using pd.concat(axis=1) instead. To get a de-fragmented frame, use `newframe = frame.copy()`\n",
      "  final[col_name]=final.Recnum.map(mapper)\n",
      "C:\\Users\\Alex Tan\\AppData\\Local\\Temp\\ipykernel_15732\\1564456075.py:15: PerformanceWarning: DataFrame is highly fragmented.  This is usually the result of calling `frame.insert` many times, which has poor performance.  Consider joining all columns at once using pd.concat(axis=1) instead. To get a de-fragmented frame, use `newframe = frame.copy()`\n",
      "  final[col_name]=final.Recnum.map(mapper)\n",
      "C:\\Users\\Alex Tan\\AppData\\Local\\Temp\\ipykernel_15732\\1564456075.py:15: PerformanceWarning: DataFrame is highly fragmented.  This is usually the result of calling `frame.insert` many times, which has poor performance.  Consider joining all columns at once using pd.concat(axis=1) instead. To get a de-fragmented frame, use `newframe = frame.copy()`\n",
      "  final[col_name]=final.Recnum.map(mapper)\n",
      "C:\\Users\\Alex Tan\\AppData\\Local\\Temp\\ipykernel_15732\\1564456075.py:15: PerformanceWarning: DataFrame is highly fragmented.  This is usually the result of calling `frame.insert` many times, which has poor performance.  Consider joining all columns at once using pd.concat(axis=1) instead. To get a de-fragmented frame, use `newframe = frame.copy()`\n",
      "  final[col_name]=final.Recnum.map(mapper)\n",
      "C:\\Users\\Alex Tan\\AppData\\Local\\Temp\\ipykernel_15732\\1564456075.py:15: PerformanceWarning: DataFrame is highly fragmented.  This is usually the result of calling `frame.insert` many times, which has poor performance.  Consider joining all columns at once using pd.concat(axis=1) instead. To get a de-fragmented frame, use `newframe = frame.copy()`\n",
      "  final[col_name]=final.Recnum.map(mapper)\n",
      "C:\\Users\\Alex Tan\\AppData\\Local\\Temp\\ipykernel_15732\\1564456075.py:15: PerformanceWarning: DataFrame is highly fragmented.  This is usually the result of calling `frame.insert` many times, which has poor performance.  Consider joining all columns at once using pd.concat(axis=1) instead. To get a de-fragmented frame, use `newframe = frame.copy()`\n",
      "  final[col_name]=final.Recnum.map(mapper)\n",
      "C:\\Users\\Alex Tan\\AppData\\Local\\Temp\\ipykernel_15732\\1564456075.py:15: PerformanceWarning: DataFrame is highly fragmented.  This is usually the result of calling `frame.insert` many times, which has poor performance.  Consider joining all columns at once using pd.concat(axis=1) instead. To get a de-fragmented frame, use `newframe = frame.copy()`\n",
      "  final[col_name]=final.Recnum.map(mapper)\n",
      "C:\\Users\\Alex Tan\\AppData\\Local\\Temp\\ipykernel_15732\\1564456075.py:15: PerformanceWarning: DataFrame is highly fragmented.  This is usually the result of calling `frame.insert` many times, which has poor performance.  Consider joining all columns at once using pd.concat(axis=1) instead. To get a de-fragmented frame, use `newframe = frame.copy()`\n",
      "  final[col_name]=final.Recnum.map(mapper)\n",
      "C:\\Users\\Alex Tan\\AppData\\Local\\Temp\\ipykernel_15732\\1564456075.py:15: PerformanceWarning: DataFrame is highly fragmented.  This is usually the result of calling `frame.insert` many times, which has poor performance.  Consider joining all columns at once using pd.concat(axis=1) instead. To get a de-fragmented frame, use `newframe = frame.copy()`\n",
      "  final[col_name]=final.Recnum.map(mapper)\n",
      "C:\\Users\\Alex Tan\\AppData\\Local\\Temp\\ipykernel_15732\\1564456075.py:15: PerformanceWarning: DataFrame is highly fragmented.  This is usually the result of calling `frame.insert` many times, which has poor performance.  Consider joining all columns at once using pd.concat(axis=1) instead. To get a de-fragmented frame, use `newframe = frame.copy()`\n",
      "  final[col_name]=final.Recnum.map(mapper)\n",
      "C:\\Users\\Alex Tan\\AppData\\Local\\Temp\\ipykernel_15732\\1564456075.py:15: PerformanceWarning: DataFrame is highly fragmented.  This is usually the result of calling `frame.insert` many times, which has poor performance.  Consider joining all columns at once using pd.concat(axis=1) instead. To get a de-fragmented frame, use `newframe = frame.copy()`\n",
      "  final[col_name]=final.Recnum.map(mapper)\n",
      "C:\\Users\\Alex Tan\\AppData\\Local\\Temp\\ipykernel_15732\\1564456075.py:15: PerformanceWarning: DataFrame is highly fragmented.  This is usually the result of calling `frame.insert` many times, which has poor performance.  Consider joining all columns at once using pd.concat(axis=1) instead. To get a de-fragmented frame, use `newframe = frame.copy()`\n",
      "  final[col_name]=final.Recnum.map(mapper)\n",
      "C:\\Users\\Alex Tan\\AppData\\Local\\Temp\\ipykernel_15732\\1564456075.py:15: PerformanceWarning: DataFrame is highly fragmented.  This is usually the result of calling `frame.insert` many times, which has poor performance.  Consider joining all columns at once using pd.concat(axis=1) instead. To get a de-fragmented frame, use `newframe = frame.copy()`\n",
      "  final[col_name]=final.Recnum.map(mapper)\n",
      "C:\\Users\\Alex Tan\\AppData\\Local\\Temp\\ipykernel_15732\\1564456075.py:15: PerformanceWarning: DataFrame is highly fragmented.  This is usually the result of calling `frame.insert` many times, which has poor performance.  Consider joining all columns at once using pd.concat(axis=1) instead. To get a de-fragmented frame, use `newframe = frame.copy()`\n",
      "  final[col_name]=final.Recnum.map(mapper)\n",
      "C:\\Users\\Alex Tan\\AppData\\Local\\Temp\\ipykernel_15732\\1564456075.py:15: PerformanceWarning: DataFrame is highly fragmented.  This is usually the result of calling `frame.insert` many times, which has poor performance.  Consider joining all columns at once using pd.concat(axis=1) instead. To get a de-fragmented frame, use `newframe = frame.copy()`\n",
      "  final[col_name]=final.Recnum.map(mapper)\n",
      "C:\\Users\\Alex Tan\\AppData\\Local\\Temp\\ipykernel_15732\\1564456075.py:15: PerformanceWarning: DataFrame is highly fragmented.  This is usually the result of calling `frame.insert` many times, which has poor performance.  Consider joining all columns at once using pd.concat(axis=1) instead. To get a de-fragmented frame, use `newframe = frame.copy()`\n",
      "  final[col_name]=final.Recnum.map(mapper)\n",
      "C:\\Users\\Alex Tan\\AppData\\Local\\Temp\\ipykernel_15732\\1564456075.py:15: PerformanceWarning: DataFrame is highly fragmented.  This is usually the result of calling `frame.insert` many times, which has poor performance.  Consider joining all columns at once using pd.concat(axis=1) instead. To get a de-fragmented frame, use `newframe = frame.copy()`\n",
      "  final[col_name]=final.Recnum.map(mapper)\n",
      "C:\\Users\\Alex Tan\\AppData\\Local\\Temp\\ipykernel_15732\\1564456075.py:15: PerformanceWarning: DataFrame is highly fragmented.  This is usually the result of calling `frame.insert` many times, which has poor performance.  Consider joining all columns at once using pd.concat(axis=1) instead. To get a de-fragmented frame, use `newframe = frame.copy()`\n",
      "  final[col_name]=final.Recnum.map(mapper)\n",
      "C:\\Users\\Alex Tan\\AppData\\Local\\Temp\\ipykernel_15732\\1564456075.py:15: PerformanceWarning: DataFrame is highly fragmented.  This is usually the result of calling `frame.insert` many times, which has poor performance.  Consider joining all columns at once using pd.concat(axis=1) instead. To get a de-fragmented frame, use `newframe = frame.copy()`\n",
      "  final[col_name]=final.Recnum.map(mapper)\n",
      "C:\\Users\\Alex Tan\\AppData\\Local\\Temp\\ipykernel_15732\\1564456075.py:15: PerformanceWarning: DataFrame is highly fragmented.  This is usually the result of calling `frame.insert` many times, which has poor performance.  Consider joining all columns at once using pd.concat(axis=1) instead. To get a de-fragmented frame, use `newframe = frame.copy()`\n",
      "  final[col_name]=final.Recnum.map(mapper)\n"
     ]
    },
    {
     "name": "stderr",
     "output_type": "stream",
     "text": [
      "C:\\Users\\Alex Tan\\AppData\\Local\\Temp\\ipykernel_15732\\1564456075.py:15: PerformanceWarning: DataFrame is highly fragmented.  This is usually the result of calling `frame.insert` many times, which has poor performance.  Consider joining all columns at once using pd.concat(axis=1) instead. To get a de-fragmented frame, use `newframe = frame.copy()`\n",
      "  final[col_name]=final.Recnum.map(mapper)\n",
      "C:\\Users\\Alex Tan\\AppData\\Local\\Temp\\ipykernel_15732\\1564456075.py:15: PerformanceWarning: DataFrame is highly fragmented.  This is usually the result of calling `frame.insert` many times, which has poor performance.  Consider joining all columns at once using pd.concat(axis=1) instead. To get a de-fragmented frame, use `newframe = frame.copy()`\n",
      "  final[col_name]=final.Recnum.map(mapper)\n",
      "C:\\Users\\Alex Tan\\AppData\\Local\\Temp\\ipykernel_15732\\1564456075.py:15: PerformanceWarning: DataFrame is highly fragmented.  This is usually the result of calling `frame.insert` many times, which has poor performance.  Consider joining all columns at once using pd.concat(axis=1) instead. To get a de-fragmented frame, use `newframe = frame.copy()`\n",
      "  final[col_name]=final.Recnum.map(mapper)\n",
      "C:\\Users\\Alex Tan\\AppData\\Local\\Temp\\ipykernel_15732\\1564456075.py:15: PerformanceWarning: DataFrame is highly fragmented.  This is usually the result of calling `frame.insert` many times, which has poor performance.  Consider joining all columns at once using pd.concat(axis=1) instead. To get a de-fragmented frame, use `newframe = frame.copy()`\n",
      "  final[col_name]=final.Recnum.map(mapper)\n",
      "C:\\Users\\Alex Tan\\AppData\\Local\\Temp\\ipykernel_15732\\1564456075.py:15: PerformanceWarning: DataFrame is highly fragmented.  This is usually the result of calling `frame.insert` many times, which has poor performance.  Consider joining all columns at once using pd.concat(axis=1) instead. To get a de-fragmented frame, use `newframe = frame.copy()`\n",
      "  final[col_name]=final.Recnum.map(mapper)\n",
      "C:\\Users\\Alex Tan\\AppData\\Local\\Temp\\ipykernel_15732\\1564456075.py:15: PerformanceWarning: DataFrame is highly fragmented.  This is usually the result of calling `frame.insert` many times, which has poor performance.  Consider joining all columns at once using pd.concat(axis=1) instead. To get a de-fragmented frame, use `newframe = frame.copy()`\n",
      "  final[col_name]=final.Recnum.map(mapper)\n",
      "C:\\Users\\Alex Tan\\AppData\\Local\\Temp\\ipykernel_15732\\1564456075.py:15: PerformanceWarning: DataFrame is highly fragmented.  This is usually the result of calling `frame.insert` many times, which has poor performance.  Consider joining all columns at once using pd.concat(axis=1) instead. To get a de-fragmented frame, use `newframe = frame.copy()`\n",
      "  final[col_name]=final.Recnum.map(mapper)\n",
      "C:\\Users\\Alex Tan\\AppData\\Local\\Temp\\ipykernel_15732\\1564456075.py:15: PerformanceWarning: DataFrame is highly fragmented.  This is usually the result of calling `frame.insert` many times, which has poor performance.  Consider joining all columns at once using pd.concat(axis=1) instead. To get a de-fragmented frame, use `newframe = frame.copy()`\n",
      "  final[col_name]=final.Recnum.map(mapper)\n",
      "C:\\Users\\Alex Tan\\AppData\\Local\\Temp\\ipykernel_15732\\1564456075.py:15: PerformanceWarning: DataFrame is highly fragmented.  This is usually the result of calling `frame.insert` many times, which has poor performance.  Consider joining all columns at once using pd.concat(axis=1) instead. To get a de-fragmented frame, use `newframe = frame.copy()`\n",
      "  final[col_name]=final.Recnum.map(mapper)\n",
      "C:\\Users\\Alex Tan\\AppData\\Local\\Temp\\ipykernel_15732\\1564456075.py:15: PerformanceWarning: DataFrame is highly fragmented.  This is usually the result of calling `frame.insert` many times, which has poor performance.  Consider joining all columns at once using pd.concat(axis=1) instead. To get a de-fragmented frame, use `newframe = frame.copy()`\n",
      "  final[col_name]=final.Recnum.map(mapper)\n",
      "C:\\Users\\Alex Tan\\AppData\\Local\\Temp\\ipykernel_15732\\1564456075.py:15: PerformanceWarning: DataFrame is highly fragmented.  This is usually the result of calling `frame.insert` many times, which has poor performance.  Consider joining all columns at once using pd.concat(axis=1) instead. To get a de-fragmented frame, use `newframe = frame.copy()`\n",
      "  final[col_name]=final.Recnum.map(mapper)\n",
      "C:\\Users\\Alex Tan\\AppData\\Local\\Temp\\ipykernel_15732\\1564456075.py:15: PerformanceWarning: DataFrame is highly fragmented.  This is usually the result of calling `frame.insert` many times, which has poor performance.  Consider joining all columns at once using pd.concat(axis=1) instead. To get a de-fragmented frame, use `newframe = frame.copy()`\n",
      "  final[col_name]=final.Recnum.map(mapper)\n",
      "C:\\Users\\Alex Tan\\AppData\\Local\\Temp\\ipykernel_15732\\1564456075.py:15: PerformanceWarning: DataFrame is highly fragmented.  This is usually the result of calling `frame.insert` many times, which has poor performance.  Consider joining all columns at once using pd.concat(axis=1) instead. To get a de-fragmented frame, use `newframe = frame.copy()`\n",
      "  final[col_name]=final.Recnum.map(mapper)\n",
      "C:\\Users\\Alex Tan\\AppData\\Local\\Temp\\ipykernel_15732\\1564456075.py:15: PerformanceWarning: DataFrame is highly fragmented.  This is usually the result of calling `frame.insert` many times, which has poor performance.  Consider joining all columns at once using pd.concat(axis=1) instead. To get a de-fragmented frame, use `newframe = frame.copy()`\n",
      "  final[col_name]=final.Recnum.map(mapper)\n",
      "C:\\Users\\Alex Tan\\AppData\\Local\\Temp\\ipykernel_15732\\1564456075.py:15: PerformanceWarning: DataFrame is highly fragmented.  This is usually the result of calling `frame.insert` many times, which has poor performance.  Consider joining all columns at once using pd.concat(axis=1) instead. To get a de-fragmented frame, use `newframe = frame.copy()`\n",
      "  final[col_name]=final.Recnum.map(mapper)\n",
      "C:\\Users\\Alex Tan\\AppData\\Local\\Temp\\ipykernel_15732\\1564456075.py:15: PerformanceWarning: DataFrame is highly fragmented.  This is usually the result of calling `frame.insert` many times, which has poor performance.  Consider joining all columns at once using pd.concat(axis=1) instead. To get a de-fragmented frame, use `newframe = frame.copy()`\n",
      "  final[col_name]=final.Recnum.map(mapper)\n",
      "C:\\Users\\Alex Tan\\AppData\\Local\\Temp\\ipykernel_15732\\1564456075.py:15: PerformanceWarning: DataFrame is highly fragmented.  This is usually the result of calling `frame.insert` many times, which has poor performance.  Consider joining all columns at once using pd.concat(axis=1) instead. To get a de-fragmented frame, use `newframe = frame.copy()`\n",
      "  final[col_name]=final.Recnum.map(mapper)\n",
      "C:\\Users\\Alex Tan\\AppData\\Local\\Temp\\ipykernel_15732\\1564456075.py:15: PerformanceWarning: DataFrame is highly fragmented.  This is usually the result of calling `frame.insert` many times, which has poor performance.  Consider joining all columns at once using pd.concat(axis=1) instead. To get a de-fragmented frame, use `newframe = frame.copy()`\n",
      "  final[col_name]=final.Recnum.map(mapper)\n",
      "C:\\Users\\Alex Tan\\AppData\\Local\\Temp\\ipykernel_15732\\1564456075.py:15: PerformanceWarning: DataFrame is highly fragmented.  This is usually the result of calling `frame.insert` many times, which has poor performance.  Consider joining all columns at once using pd.concat(axis=1) instead. To get a de-fragmented frame, use `newframe = frame.copy()`\n",
      "  final[col_name]=final.Recnum.map(mapper)\n",
      "C:\\Users\\Alex Tan\\AppData\\Local\\Temp\\ipykernel_15732\\1564456075.py:15: PerformanceWarning: DataFrame is highly fragmented.  This is usually the result of calling `frame.insert` many times, which has poor performance.  Consider joining all columns at once using pd.concat(axis=1) instead. To get a de-fragmented frame, use `newframe = frame.copy()`\n",
      "  final[col_name]=final.Recnum.map(mapper)\n",
      "C:\\Users\\Alex Tan\\AppData\\Local\\Temp\\ipykernel_15732\\1564456075.py:15: PerformanceWarning: DataFrame is highly fragmented.  This is usually the result of calling `frame.insert` many times, which has poor performance.  Consider joining all columns at once using pd.concat(axis=1) instead. To get a de-fragmented frame, use `newframe = frame.copy()`\n",
      "  final[col_name]=final.Recnum.map(mapper)\n"
     ]
    },
    {
     "name": "stderr",
     "output_type": "stream",
     "text": [
      "C:\\Users\\Alex Tan\\AppData\\Local\\Temp\\ipykernel_15732\\1564456075.py:15: PerformanceWarning: DataFrame is highly fragmented.  This is usually the result of calling `frame.insert` many times, which has poor performance.  Consider joining all columns at once using pd.concat(axis=1) instead. To get a de-fragmented frame, use `newframe = frame.copy()`\n",
      "  final[col_name]=final.Recnum.map(mapper)\n",
      "C:\\Users\\Alex Tan\\AppData\\Local\\Temp\\ipykernel_15732\\1564456075.py:15: PerformanceWarning: DataFrame is highly fragmented.  This is usually the result of calling `frame.insert` many times, which has poor performance.  Consider joining all columns at once using pd.concat(axis=1) instead. To get a de-fragmented frame, use `newframe = frame.copy()`\n",
      "  final[col_name]=final.Recnum.map(mapper)\n",
      "C:\\Users\\Alex Tan\\AppData\\Local\\Temp\\ipykernel_15732\\1564456075.py:15: PerformanceWarning: DataFrame is highly fragmented.  This is usually the result of calling `frame.insert` many times, which has poor performance.  Consider joining all columns at once using pd.concat(axis=1) instead. To get a de-fragmented frame, use `newframe = frame.copy()`\n",
      "  final[col_name]=final.Recnum.map(mapper)\n",
      "C:\\Users\\Alex Tan\\AppData\\Local\\Temp\\ipykernel_15732\\1564456075.py:15: PerformanceWarning: DataFrame is highly fragmented.  This is usually the result of calling `frame.insert` many times, which has poor performance.  Consider joining all columns at once using pd.concat(axis=1) instead. To get a de-fragmented frame, use `newframe = frame.copy()`\n",
      "  final[col_name]=final.Recnum.map(mapper)\n",
      "C:\\Users\\Alex Tan\\AppData\\Local\\Temp\\ipykernel_15732\\1564456075.py:15: PerformanceWarning: DataFrame is highly fragmented.  This is usually the result of calling `frame.insert` many times, which has poor performance.  Consider joining all columns at once using pd.concat(axis=1) instead. To get a de-fragmented frame, use `newframe = frame.copy()`\n",
      "  final[col_name]=final.Recnum.map(mapper)\n",
      "C:\\Users\\Alex Tan\\AppData\\Local\\Temp\\ipykernel_15732\\1564456075.py:15: PerformanceWarning: DataFrame is highly fragmented.  This is usually the result of calling `frame.insert` many times, which has poor performance.  Consider joining all columns at once using pd.concat(axis=1) instead. To get a de-fragmented frame, use `newframe = frame.copy()`\n",
      "  final[col_name]=final.Recnum.map(mapper)\n",
      "C:\\Users\\Alex Tan\\AppData\\Local\\Temp\\ipykernel_15732\\1564456075.py:15: PerformanceWarning: DataFrame is highly fragmented.  This is usually the result of calling `frame.insert` many times, which has poor performance.  Consider joining all columns at once using pd.concat(axis=1) instead. To get a de-fragmented frame, use `newframe = frame.copy()`\n",
      "  final[col_name]=final.Recnum.map(mapper)\n",
      "C:\\Users\\Alex Tan\\AppData\\Local\\Temp\\ipykernel_15732\\1564456075.py:15: PerformanceWarning: DataFrame is highly fragmented.  This is usually the result of calling `frame.insert` many times, which has poor performance.  Consider joining all columns at once using pd.concat(axis=1) instead. To get a de-fragmented frame, use `newframe = frame.copy()`\n",
      "  final[col_name]=final.Recnum.map(mapper)\n",
      "C:\\Users\\Alex Tan\\AppData\\Local\\Temp\\ipykernel_15732\\1564456075.py:15: PerformanceWarning: DataFrame is highly fragmented.  This is usually the result of calling `frame.insert` many times, which has poor performance.  Consider joining all columns at once using pd.concat(axis=1) instead. To get a de-fragmented frame, use `newframe = frame.copy()`\n",
      "  final[col_name]=final.Recnum.map(mapper)\n",
      "C:\\Users\\Alex Tan\\AppData\\Local\\Temp\\ipykernel_15732\\1564456075.py:15: PerformanceWarning: DataFrame is highly fragmented.  This is usually the result of calling `frame.insert` many times, which has poor performance.  Consider joining all columns at once using pd.concat(axis=1) instead. To get a de-fragmented frame, use `newframe = frame.copy()`\n",
      "  final[col_name]=final.Recnum.map(mapper)\n",
      "C:\\Users\\Alex Tan\\AppData\\Local\\Temp\\ipykernel_15732\\1564456075.py:15: PerformanceWarning: DataFrame is highly fragmented.  This is usually the result of calling `frame.insert` many times, which has poor performance.  Consider joining all columns at once using pd.concat(axis=1) instead. To get a de-fragmented frame, use `newframe = frame.copy()`\n",
      "  final[col_name]=final.Recnum.map(mapper)\n",
      "C:\\Users\\Alex Tan\\AppData\\Local\\Temp\\ipykernel_15732\\1564456075.py:15: PerformanceWarning: DataFrame is highly fragmented.  This is usually the result of calling `frame.insert` many times, which has poor performance.  Consider joining all columns at once using pd.concat(axis=1) instead. To get a de-fragmented frame, use `newframe = frame.copy()`\n",
      "  final[col_name]=final.Recnum.map(mapper)\n",
      "C:\\Users\\Alex Tan\\AppData\\Local\\Temp\\ipykernel_15732\\1564456075.py:15: PerformanceWarning: DataFrame is highly fragmented.  This is usually the result of calling `frame.insert` many times, which has poor performance.  Consider joining all columns at once using pd.concat(axis=1) instead. To get a de-fragmented frame, use `newframe = frame.copy()`\n",
      "  final[col_name]=final.Recnum.map(mapper)\n",
      "C:\\Users\\Alex Tan\\AppData\\Local\\Temp\\ipykernel_15732\\1564456075.py:15: PerformanceWarning: DataFrame is highly fragmented.  This is usually the result of calling `frame.insert` many times, which has poor performance.  Consider joining all columns at once using pd.concat(axis=1) instead. To get a de-fragmented frame, use `newframe = frame.copy()`\n",
      "  final[col_name]=final.Recnum.map(mapper)\n",
      "C:\\Users\\Alex Tan\\AppData\\Local\\Temp\\ipykernel_15732\\1564456075.py:15: PerformanceWarning: DataFrame is highly fragmented.  This is usually the result of calling `frame.insert` many times, which has poor performance.  Consider joining all columns at once using pd.concat(axis=1) instead. To get a de-fragmented frame, use `newframe = frame.copy()`\n",
      "  final[col_name]=final.Recnum.map(mapper)\n",
      "C:\\Users\\Alex Tan\\AppData\\Local\\Temp\\ipykernel_15732\\1564456075.py:15: PerformanceWarning: DataFrame is highly fragmented.  This is usually the result of calling `frame.insert` many times, which has poor performance.  Consider joining all columns at once using pd.concat(axis=1) instead. To get a de-fragmented frame, use `newframe = frame.copy()`\n",
      "  final[col_name]=final.Recnum.map(mapper)\n",
      "C:\\Users\\Alex Tan\\AppData\\Local\\Temp\\ipykernel_15732\\1564456075.py:15: PerformanceWarning: DataFrame is highly fragmented.  This is usually the result of calling `frame.insert` many times, which has poor performance.  Consider joining all columns at once using pd.concat(axis=1) instead. To get a de-fragmented frame, use `newframe = frame.copy()`\n",
      "  final[col_name]=final.Recnum.map(mapper)\n",
      "C:\\Users\\Alex Tan\\AppData\\Local\\Temp\\ipykernel_15732\\1564456075.py:15: PerformanceWarning: DataFrame is highly fragmented.  This is usually the result of calling `frame.insert` many times, which has poor performance.  Consider joining all columns at once using pd.concat(axis=1) instead. To get a de-fragmented frame, use `newframe = frame.copy()`\n",
      "  final[col_name]=final.Recnum.map(mapper)\n",
      "C:\\Users\\Alex Tan\\AppData\\Local\\Temp\\ipykernel_15732\\1564456075.py:15: PerformanceWarning: DataFrame is highly fragmented.  This is usually the result of calling `frame.insert` many times, which has poor performance.  Consider joining all columns at once using pd.concat(axis=1) instead. To get a de-fragmented frame, use `newframe = frame.copy()`\n",
      "  final[col_name]=final.Recnum.map(mapper)\n",
      "C:\\Users\\Alex Tan\\AppData\\Local\\Temp\\ipykernel_15732\\1564456075.py:15: PerformanceWarning: DataFrame is highly fragmented.  This is usually the result of calling `frame.insert` many times, which has poor performance.  Consider joining all columns at once using pd.concat(axis=1) instead. To get a de-fragmented frame, use `newframe = frame.copy()`\n",
      "  final[col_name]=final.Recnum.map(mapper)\n",
      "C:\\Users\\Alex Tan\\AppData\\Local\\Temp\\ipykernel_15732\\1564456075.py:15: PerformanceWarning: DataFrame is highly fragmented.  This is usually the result of calling `frame.insert` many times, which has poor performance.  Consider joining all columns at once using pd.concat(axis=1) instead. To get a de-fragmented frame, use `newframe = frame.copy()`\n",
      "  final[col_name]=final.Recnum.map(mapper)\n",
      "C:\\Users\\Alex Tan\\AppData\\Local\\Temp\\ipykernel_15732\\1564456075.py:15: PerformanceWarning: DataFrame is highly fragmented.  This is usually the result of calling `frame.insert` many times, which has poor performance.  Consider joining all columns at once using pd.concat(axis=1) instead. To get a de-fragmented frame, use `newframe = frame.copy()`\n",
      "  final[col_name]=final.Recnum.map(mapper)\n"
     ]
    },
    {
     "name": "stderr",
     "output_type": "stream",
     "text": [
      "C:\\Users\\Alex Tan\\AppData\\Local\\Temp\\ipykernel_15732\\1564456075.py:15: PerformanceWarning: DataFrame is highly fragmented.  This is usually the result of calling `frame.insert` many times, which has poor performance.  Consider joining all columns at once using pd.concat(axis=1) instead. To get a de-fragmented frame, use `newframe = frame.copy()`\n",
      "  final[col_name]=final.Recnum.map(mapper)\n",
      "C:\\Users\\Alex Tan\\AppData\\Local\\Temp\\ipykernel_15732\\1564456075.py:15: PerformanceWarning: DataFrame is highly fragmented.  This is usually the result of calling `frame.insert` many times, which has poor performance.  Consider joining all columns at once using pd.concat(axis=1) instead. To get a de-fragmented frame, use `newframe = frame.copy()`\n",
      "  final[col_name]=final.Recnum.map(mapper)\n",
      "C:\\Users\\Alex Tan\\AppData\\Local\\Temp\\ipykernel_15732\\1564456075.py:15: PerformanceWarning: DataFrame is highly fragmented.  This is usually the result of calling `frame.insert` many times, which has poor performance.  Consider joining all columns at once using pd.concat(axis=1) instead. To get a de-fragmented frame, use `newframe = frame.copy()`\n",
      "  final[col_name]=final.Recnum.map(mapper)\n",
      "C:\\Users\\Alex Tan\\AppData\\Local\\Temp\\ipykernel_15732\\1564456075.py:15: PerformanceWarning: DataFrame is highly fragmented.  This is usually the result of calling `frame.insert` many times, which has poor performance.  Consider joining all columns at once using pd.concat(axis=1) instead. To get a de-fragmented frame, use `newframe = frame.copy()`\n",
      "  final[col_name]=final.Recnum.map(mapper)\n",
      "C:\\Users\\Alex Tan\\AppData\\Local\\Temp\\ipykernel_15732\\1564456075.py:15: PerformanceWarning: DataFrame is highly fragmented.  This is usually the result of calling `frame.insert` many times, which has poor performance.  Consider joining all columns at once using pd.concat(axis=1) instead. To get a de-fragmented frame, use `newframe = frame.copy()`\n",
      "  final[col_name]=final.Recnum.map(mapper)\n",
      "C:\\Users\\Alex Tan\\AppData\\Local\\Temp\\ipykernel_15732\\1564456075.py:15: PerformanceWarning: DataFrame is highly fragmented.  This is usually the result of calling `frame.insert` many times, which has poor performance.  Consider joining all columns at once using pd.concat(axis=1) instead. To get a de-fragmented frame, use `newframe = frame.copy()`\n",
      "  final[col_name]=final.Recnum.map(mapper)\n",
      "C:\\Users\\Alex Tan\\AppData\\Local\\Temp\\ipykernel_15732\\1564456075.py:15: PerformanceWarning: DataFrame is highly fragmented.  This is usually the result of calling `frame.insert` many times, which has poor performance.  Consider joining all columns at once using pd.concat(axis=1) instead. To get a de-fragmented frame, use `newframe = frame.copy()`\n",
      "  final[col_name]=final.Recnum.map(mapper)\n",
      "C:\\Users\\Alex Tan\\AppData\\Local\\Temp\\ipykernel_15732\\1564456075.py:15: PerformanceWarning: DataFrame is highly fragmented.  This is usually the result of calling `frame.insert` many times, which has poor performance.  Consider joining all columns at once using pd.concat(axis=1) instead. To get a de-fragmented frame, use `newframe = frame.copy()`\n",
      "  final[col_name]=final.Recnum.map(mapper)\n",
      "C:\\Users\\Alex Tan\\AppData\\Local\\Temp\\ipykernel_15732\\1564456075.py:15: PerformanceWarning: DataFrame is highly fragmented.  This is usually the result of calling `frame.insert` many times, which has poor performance.  Consider joining all columns at once using pd.concat(axis=1) instead. To get a de-fragmented frame, use `newframe = frame.copy()`\n",
      "  final[col_name]=final.Recnum.map(mapper)\n",
      "C:\\Users\\Alex Tan\\AppData\\Local\\Temp\\ipykernel_15732\\1564456075.py:15: PerformanceWarning: DataFrame is highly fragmented.  This is usually the result of calling `frame.insert` many times, which has poor performance.  Consider joining all columns at once using pd.concat(axis=1) instead. To get a de-fragmented frame, use `newframe = frame.copy()`\n",
      "  final[col_name]=final.Recnum.map(mapper)\n",
      "C:\\Users\\Alex Tan\\AppData\\Local\\Temp\\ipykernel_15732\\1564456075.py:15: PerformanceWarning: DataFrame is highly fragmented.  This is usually the result of calling `frame.insert` many times, which has poor performance.  Consider joining all columns at once using pd.concat(axis=1) instead. To get a de-fragmented frame, use `newframe = frame.copy()`\n",
      "  final[col_name]=final.Recnum.map(mapper)\n",
      "C:\\Users\\Alex Tan\\AppData\\Local\\Temp\\ipykernel_15732\\1564456075.py:15: PerformanceWarning: DataFrame is highly fragmented.  This is usually the result of calling `frame.insert` many times, which has poor performance.  Consider joining all columns at once using pd.concat(axis=1) instead. To get a de-fragmented frame, use `newframe = frame.copy()`\n",
      "  final[col_name]=final.Recnum.map(mapper)\n",
      "C:\\Users\\Alex Tan\\AppData\\Local\\Temp\\ipykernel_15732\\1564456075.py:15: PerformanceWarning: DataFrame is highly fragmented.  This is usually the result of calling `frame.insert` many times, which has poor performance.  Consider joining all columns at once using pd.concat(axis=1) instead. To get a de-fragmented frame, use `newframe = frame.copy()`\n",
      "  final[col_name]=final.Recnum.map(mapper)\n",
      "C:\\Users\\Alex Tan\\AppData\\Local\\Temp\\ipykernel_15732\\1564456075.py:15: PerformanceWarning: DataFrame is highly fragmented.  This is usually the result of calling `frame.insert` many times, which has poor performance.  Consider joining all columns at once using pd.concat(axis=1) instead. To get a de-fragmented frame, use `newframe = frame.copy()`\n",
      "  final[col_name]=final.Recnum.map(mapper)\n",
      "C:\\Users\\Alex Tan\\AppData\\Local\\Temp\\ipykernel_15732\\1564456075.py:15: PerformanceWarning: DataFrame is highly fragmented.  This is usually the result of calling `frame.insert` many times, which has poor performance.  Consider joining all columns at once using pd.concat(axis=1) instead. To get a de-fragmented frame, use `newframe = frame.copy()`\n",
      "  final[col_name]=final.Recnum.map(mapper)\n",
      "C:\\Users\\Alex Tan\\AppData\\Local\\Temp\\ipykernel_15732\\1564456075.py:15: PerformanceWarning: DataFrame is highly fragmented.  This is usually the result of calling `frame.insert` many times, which has poor performance.  Consider joining all columns at once using pd.concat(axis=1) instead. To get a de-fragmented frame, use `newframe = frame.copy()`\n",
      "  final[col_name]=final.Recnum.map(mapper)\n",
      "C:\\Users\\Alex Tan\\AppData\\Local\\Temp\\ipykernel_15732\\1564456075.py:15: PerformanceWarning: DataFrame is highly fragmented.  This is usually the result of calling `frame.insert` many times, which has poor performance.  Consider joining all columns at once using pd.concat(axis=1) instead. To get a de-fragmented frame, use `newframe = frame.copy()`\n",
      "  final[col_name]=final.Recnum.map(mapper)\n",
      "C:\\Users\\Alex Tan\\AppData\\Local\\Temp\\ipykernel_15732\\1564456075.py:15: PerformanceWarning: DataFrame is highly fragmented.  This is usually the result of calling `frame.insert` many times, which has poor performance.  Consider joining all columns at once using pd.concat(axis=1) instead. To get a de-fragmented frame, use `newframe = frame.copy()`\n",
      "  final[col_name]=final.Recnum.map(mapper)\n",
      "C:\\Users\\Alex Tan\\AppData\\Local\\Temp\\ipykernel_15732\\1564456075.py:15: PerformanceWarning: DataFrame is highly fragmented.  This is usually the result of calling `frame.insert` many times, which has poor performance.  Consider joining all columns at once using pd.concat(axis=1) instead. To get a de-fragmented frame, use `newframe = frame.copy()`\n",
      "  final[col_name]=final.Recnum.map(mapper)\n",
      "C:\\Users\\Alex Tan\\AppData\\Local\\Temp\\ipykernel_15732\\1564456075.py:15: PerformanceWarning: DataFrame is highly fragmented.  This is usually the result of calling `frame.insert` many times, which has poor performance.  Consider joining all columns at once using pd.concat(axis=1) instead. To get a de-fragmented frame, use `newframe = frame.copy()`\n",
      "  final[col_name]=final.Recnum.map(mapper)\n",
      "C:\\Users\\Alex Tan\\AppData\\Local\\Temp\\ipykernel_15732\\1564456075.py:15: PerformanceWarning: DataFrame is highly fragmented.  This is usually the result of calling `frame.insert` many times, which has poor performance.  Consider joining all columns at once using pd.concat(axis=1) instead. To get a de-fragmented frame, use `newframe = frame.copy()`\n",
      "  final[col_name]=final.Recnum.map(mapper)\n"
     ]
    },
    {
     "name": "stderr",
     "output_type": "stream",
     "text": [
      "C:\\Users\\Alex Tan\\AppData\\Local\\Temp\\ipykernel_15732\\1564456075.py:15: PerformanceWarning: DataFrame is highly fragmented.  This is usually the result of calling `frame.insert` many times, which has poor performance.  Consider joining all columns at once using pd.concat(axis=1) instead. To get a de-fragmented frame, use `newframe = frame.copy()`\n",
      "  final[col_name]=final.Recnum.map(mapper)\n",
      "C:\\Users\\Alex Tan\\AppData\\Local\\Temp\\ipykernel_15732\\1564456075.py:15: PerformanceWarning: DataFrame is highly fragmented.  This is usually the result of calling `frame.insert` many times, which has poor performance.  Consider joining all columns at once using pd.concat(axis=1) instead. To get a de-fragmented frame, use `newframe = frame.copy()`\n",
      "  final[col_name]=final.Recnum.map(mapper)\n",
      "C:\\Users\\Alex Tan\\AppData\\Local\\Temp\\ipykernel_15732\\1564456075.py:15: PerformanceWarning: DataFrame is highly fragmented.  This is usually the result of calling `frame.insert` many times, which has poor performance.  Consider joining all columns at once using pd.concat(axis=1) instead. To get a de-fragmented frame, use `newframe = frame.copy()`\n",
      "  final[col_name]=final.Recnum.map(mapper)\n",
      "C:\\Users\\Alex Tan\\AppData\\Local\\Temp\\ipykernel_15732\\1564456075.py:15: PerformanceWarning: DataFrame is highly fragmented.  This is usually the result of calling `frame.insert` many times, which has poor performance.  Consider joining all columns at once using pd.concat(axis=1) instead. To get a de-fragmented frame, use `newframe = frame.copy()`\n",
      "  final[col_name]=final.Recnum.map(mapper)\n",
      "C:\\Users\\Alex Tan\\AppData\\Local\\Temp\\ipykernel_15732\\1564456075.py:15: PerformanceWarning: DataFrame is highly fragmented.  This is usually the result of calling `frame.insert` many times, which has poor performance.  Consider joining all columns at once using pd.concat(axis=1) instead. To get a de-fragmented frame, use `newframe = frame.copy()`\n",
      "  final[col_name]=final.Recnum.map(mapper)\n",
      "C:\\Users\\Alex Tan\\AppData\\Local\\Temp\\ipykernel_15732\\1564456075.py:15: PerformanceWarning: DataFrame is highly fragmented.  This is usually the result of calling `frame.insert` many times, which has poor performance.  Consider joining all columns at once using pd.concat(axis=1) instead. To get a de-fragmented frame, use `newframe = frame.copy()`\n",
      "  final[col_name]=final.Recnum.map(mapper)\n",
      "C:\\Users\\Alex Tan\\AppData\\Local\\Temp\\ipykernel_15732\\1564456075.py:15: PerformanceWarning: DataFrame is highly fragmented.  This is usually the result of calling `frame.insert` many times, which has poor performance.  Consider joining all columns at once using pd.concat(axis=1) instead. To get a de-fragmented frame, use `newframe = frame.copy()`\n",
      "  final[col_name]=final.Recnum.map(mapper)\n",
      "C:\\Users\\Alex Tan\\AppData\\Local\\Temp\\ipykernel_15732\\1564456075.py:15: PerformanceWarning: DataFrame is highly fragmented.  This is usually the result of calling `frame.insert` many times, which has poor performance.  Consider joining all columns at once using pd.concat(axis=1) instead. To get a de-fragmented frame, use `newframe = frame.copy()`\n",
      "  final[col_name]=final.Recnum.map(mapper)\n",
      "C:\\Users\\Alex Tan\\AppData\\Local\\Temp\\ipykernel_15732\\1564456075.py:15: PerformanceWarning: DataFrame is highly fragmented.  This is usually the result of calling `frame.insert` many times, which has poor performance.  Consider joining all columns at once using pd.concat(axis=1) instead. To get a de-fragmented frame, use `newframe = frame.copy()`\n",
      "  final[col_name]=final.Recnum.map(mapper)\n",
      "C:\\Users\\Alex Tan\\AppData\\Local\\Temp\\ipykernel_15732\\1564456075.py:15: PerformanceWarning: DataFrame is highly fragmented.  This is usually the result of calling `frame.insert` many times, which has poor performance.  Consider joining all columns at once using pd.concat(axis=1) instead. To get a de-fragmented frame, use `newframe = frame.copy()`\n",
      "  final[col_name]=final.Recnum.map(mapper)\n",
      "C:\\Users\\Alex Tan\\AppData\\Local\\Temp\\ipykernel_15732\\1564456075.py:15: PerformanceWarning: DataFrame is highly fragmented.  This is usually the result of calling `frame.insert` many times, which has poor performance.  Consider joining all columns at once using pd.concat(axis=1) instead. To get a de-fragmented frame, use `newframe = frame.copy()`\n",
      "  final[col_name]=final.Recnum.map(mapper)\n",
      "C:\\Users\\Alex Tan\\AppData\\Local\\Temp\\ipykernel_15732\\1564456075.py:15: PerformanceWarning: DataFrame is highly fragmented.  This is usually the result of calling `frame.insert` many times, which has poor performance.  Consider joining all columns at once using pd.concat(axis=1) instead. To get a de-fragmented frame, use `newframe = frame.copy()`\n",
      "  final[col_name]=final.Recnum.map(mapper)\n",
      "C:\\Users\\Alex Tan\\AppData\\Local\\Temp\\ipykernel_15732\\1564456075.py:15: PerformanceWarning: DataFrame is highly fragmented.  This is usually the result of calling `frame.insert` many times, which has poor performance.  Consider joining all columns at once using pd.concat(axis=1) instead. To get a de-fragmented frame, use `newframe = frame.copy()`\n",
      "  final[col_name]=final.Recnum.map(mapper)\n",
      "C:\\Users\\Alex Tan\\AppData\\Local\\Temp\\ipykernel_15732\\1564456075.py:15: PerformanceWarning: DataFrame is highly fragmented.  This is usually the result of calling `frame.insert` many times, which has poor performance.  Consider joining all columns at once using pd.concat(axis=1) instead. To get a de-fragmented frame, use `newframe = frame.copy()`\n",
      "  final[col_name]=final.Recnum.map(mapper)\n",
      "C:\\Users\\Alex Tan\\AppData\\Local\\Temp\\ipykernel_15732\\1564456075.py:15: PerformanceWarning: DataFrame is highly fragmented.  This is usually the result of calling `frame.insert` many times, which has poor performance.  Consider joining all columns at once using pd.concat(axis=1) instead. To get a de-fragmented frame, use `newframe = frame.copy()`\n",
      "  final[col_name]=final.Recnum.map(mapper)\n",
      "C:\\Users\\Alex Tan\\AppData\\Local\\Temp\\ipykernel_15732\\1564456075.py:15: PerformanceWarning: DataFrame is highly fragmented.  This is usually the result of calling `frame.insert` many times, which has poor performance.  Consider joining all columns at once using pd.concat(axis=1) instead. To get a de-fragmented frame, use `newframe = frame.copy()`\n",
      "  final[col_name]=final.Recnum.map(mapper)\n",
      "C:\\Users\\Alex Tan\\AppData\\Local\\Temp\\ipykernel_15732\\1564456075.py:15: PerformanceWarning: DataFrame is highly fragmented.  This is usually the result of calling `frame.insert` many times, which has poor performance.  Consider joining all columns at once using pd.concat(axis=1) instead. To get a de-fragmented frame, use `newframe = frame.copy()`\n",
      "  final[col_name]=final.Recnum.map(mapper)\n",
      "C:\\Users\\Alex Tan\\AppData\\Local\\Temp\\ipykernel_15732\\1564456075.py:15: PerformanceWarning: DataFrame is highly fragmented.  This is usually the result of calling `frame.insert` many times, which has poor performance.  Consider joining all columns at once using pd.concat(axis=1) instead. To get a de-fragmented frame, use `newframe = frame.copy()`\n",
      "  final[col_name]=final.Recnum.map(mapper)\n",
      "C:\\Users\\Alex Tan\\AppData\\Local\\Temp\\ipykernel_15732\\1564456075.py:15: PerformanceWarning: DataFrame is highly fragmented.  This is usually the result of calling `frame.insert` many times, which has poor performance.  Consider joining all columns at once using pd.concat(axis=1) instead. To get a de-fragmented frame, use `newframe = frame.copy()`\n",
      "  final[col_name]=final.Recnum.map(mapper)\n",
      "C:\\Users\\Alex Tan\\AppData\\Local\\Temp\\ipykernel_15732\\1564456075.py:15: PerformanceWarning: DataFrame is highly fragmented.  This is usually the result of calling `frame.insert` many times, which has poor performance.  Consider joining all columns at once using pd.concat(axis=1) instead. To get a de-fragmented frame, use `newframe = frame.copy()`\n",
      "  final[col_name]=final.Recnum.map(mapper)\n",
      "C:\\Users\\Alex Tan\\AppData\\Local\\Temp\\ipykernel_15732\\1564456075.py:15: PerformanceWarning: DataFrame is highly fragmented.  This is usually the result of calling `frame.insert` many times, which has poor performance.  Consider joining all columns at once using pd.concat(axis=1) instead. To get a de-fragmented frame, use `newframe = frame.copy()`\n",
      "  final[col_name]=final.Recnum.map(mapper)\n"
     ]
    },
    {
     "name": "stderr",
     "output_type": "stream",
     "text": [
      "C:\\Users\\Alex Tan\\AppData\\Local\\Temp\\ipykernel_15732\\1564456075.py:15: PerformanceWarning: DataFrame is highly fragmented.  This is usually the result of calling `frame.insert` many times, which has poor performance.  Consider joining all columns at once using pd.concat(axis=1) instead. To get a de-fragmented frame, use `newframe = frame.copy()`\n",
      "  final[col_name]=final.Recnum.map(mapper)\n",
      "C:\\Users\\Alex Tan\\AppData\\Local\\Temp\\ipykernel_15732\\1564456075.py:15: PerformanceWarning: DataFrame is highly fragmented.  This is usually the result of calling `frame.insert` many times, which has poor performance.  Consider joining all columns at once using pd.concat(axis=1) instead. To get a de-fragmented frame, use `newframe = frame.copy()`\n",
      "  final[col_name]=final.Recnum.map(mapper)\n",
      "C:\\Users\\Alex Tan\\AppData\\Local\\Temp\\ipykernel_15732\\1564456075.py:15: PerformanceWarning: DataFrame is highly fragmented.  This is usually the result of calling `frame.insert` many times, which has poor performance.  Consider joining all columns at once using pd.concat(axis=1) instead. To get a de-fragmented frame, use `newframe = frame.copy()`\n",
      "  final[col_name]=final.Recnum.map(mapper)\n",
      "C:\\Users\\Alex Tan\\AppData\\Local\\Temp\\ipykernel_15732\\1564456075.py:15: PerformanceWarning: DataFrame is highly fragmented.  This is usually the result of calling `frame.insert` many times, which has poor performance.  Consider joining all columns at once using pd.concat(axis=1) instead. To get a de-fragmented frame, use `newframe = frame.copy()`\n",
      "  final[col_name]=final.Recnum.map(mapper)\n",
      "C:\\Users\\Alex Tan\\AppData\\Local\\Temp\\ipykernel_15732\\1564456075.py:15: PerformanceWarning: DataFrame is highly fragmented.  This is usually the result of calling `frame.insert` many times, which has poor performance.  Consider joining all columns at once using pd.concat(axis=1) instead. To get a de-fragmented frame, use `newframe = frame.copy()`\n",
      "  final[col_name]=final.Recnum.map(mapper)\n",
      "C:\\Users\\Alex Tan\\AppData\\Local\\Temp\\ipykernel_15732\\1564456075.py:15: PerformanceWarning: DataFrame is highly fragmented.  This is usually the result of calling `frame.insert` many times, which has poor performance.  Consider joining all columns at once using pd.concat(axis=1) instead. To get a de-fragmented frame, use `newframe = frame.copy()`\n",
      "  final[col_name]=final.Recnum.map(mapper)\n",
      "C:\\Users\\Alex Tan\\AppData\\Local\\Temp\\ipykernel_15732\\1564456075.py:15: PerformanceWarning: DataFrame is highly fragmented.  This is usually the result of calling `frame.insert` many times, which has poor performance.  Consider joining all columns at once using pd.concat(axis=1) instead. To get a de-fragmented frame, use `newframe = frame.copy()`\n",
      "  final[col_name]=final.Recnum.map(mapper)\n",
      "C:\\Users\\Alex Tan\\AppData\\Local\\Temp\\ipykernel_15732\\1564456075.py:15: PerformanceWarning: DataFrame is highly fragmented.  This is usually the result of calling `frame.insert` many times, which has poor performance.  Consider joining all columns at once using pd.concat(axis=1) instead. To get a de-fragmented frame, use `newframe = frame.copy()`\n",
      "  final[col_name]=final.Recnum.map(mapper)\n",
      "C:\\Users\\Alex Tan\\AppData\\Local\\Temp\\ipykernel_15732\\1564456075.py:15: PerformanceWarning: DataFrame is highly fragmented.  This is usually the result of calling `frame.insert` many times, which has poor performance.  Consider joining all columns at once using pd.concat(axis=1) instead. To get a de-fragmented frame, use `newframe = frame.copy()`\n",
      "  final[col_name]=final.Recnum.map(mapper)\n",
      "C:\\Users\\Alex Tan\\AppData\\Local\\Temp\\ipykernel_15732\\1564456075.py:15: PerformanceWarning: DataFrame is highly fragmented.  This is usually the result of calling `frame.insert` many times, which has poor performance.  Consider joining all columns at once using pd.concat(axis=1) instead. To get a de-fragmented frame, use `newframe = frame.copy()`\n",
      "  final[col_name]=final.Recnum.map(mapper)\n",
      "C:\\Users\\Alex Tan\\AppData\\Local\\Temp\\ipykernel_15732\\1564456075.py:15: PerformanceWarning: DataFrame is highly fragmented.  This is usually the result of calling `frame.insert` many times, which has poor performance.  Consider joining all columns at once using pd.concat(axis=1) instead. To get a de-fragmented frame, use `newframe = frame.copy()`\n",
      "  final[col_name]=final.Recnum.map(mapper)\n",
      "C:\\Users\\Alex Tan\\AppData\\Local\\Temp\\ipykernel_15732\\1564456075.py:15: PerformanceWarning: DataFrame is highly fragmented.  This is usually the result of calling `frame.insert` many times, which has poor performance.  Consider joining all columns at once using pd.concat(axis=1) instead. To get a de-fragmented frame, use `newframe = frame.copy()`\n",
      "  final[col_name]=final.Recnum.map(mapper)\n",
      "C:\\Users\\Alex Tan\\AppData\\Local\\Temp\\ipykernel_15732\\1564456075.py:15: PerformanceWarning: DataFrame is highly fragmented.  This is usually the result of calling `frame.insert` many times, which has poor performance.  Consider joining all columns at once using pd.concat(axis=1) instead. To get a de-fragmented frame, use `newframe = frame.copy()`\n",
      "  final[col_name]=final.Recnum.map(mapper)\n",
      "C:\\Users\\Alex Tan\\AppData\\Local\\Temp\\ipykernel_15732\\1564456075.py:15: PerformanceWarning: DataFrame is highly fragmented.  This is usually the result of calling `frame.insert` many times, which has poor performance.  Consider joining all columns at once using pd.concat(axis=1) instead. To get a de-fragmented frame, use `newframe = frame.copy()`\n",
      "  final[col_name]=final.Recnum.map(mapper)\n",
      "C:\\Users\\Alex Tan\\AppData\\Local\\Temp\\ipykernel_15732\\1564456075.py:15: PerformanceWarning: DataFrame is highly fragmented.  This is usually the result of calling `frame.insert` many times, which has poor performance.  Consider joining all columns at once using pd.concat(axis=1) instead. To get a de-fragmented frame, use `newframe = frame.copy()`\n",
      "  final[col_name]=final.Recnum.map(mapper)\n",
      "C:\\Users\\Alex Tan\\AppData\\Local\\Temp\\ipykernel_15732\\1564456075.py:15: PerformanceWarning: DataFrame is highly fragmented.  This is usually the result of calling `frame.insert` many times, which has poor performance.  Consider joining all columns at once using pd.concat(axis=1) instead. To get a de-fragmented frame, use `newframe = frame.copy()`\n",
      "  final[col_name]=final.Recnum.map(mapper)\n",
      "C:\\Users\\Alex Tan\\AppData\\Local\\Temp\\ipykernel_15732\\1564456075.py:15: PerformanceWarning: DataFrame is highly fragmented.  This is usually the result of calling `frame.insert` many times, which has poor performance.  Consider joining all columns at once using pd.concat(axis=1) instead. To get a de-fragmented frame, use `newframe = frame.copy()`\n",
      "  final[col_name]=final.Recnum.map(mapper)\n",
      "C:\\Users\\Alex Tan\\AppData\\Local\\Temp\\ipykernel_15732\\1564456075.py:15: PerformanceWarning: DataFrame is highly fragmented.  This is usually the result of calling `frame.insert` many times, which has poor performance.  Consider joining all columns at once using pd.concat(axis=1) instead. To get a de-fragmented frame, use `newframe = frame.copy()`\n",
      "  final[col_name]=final.Recnum.map(mapper)\n",
      "C:\\Users\\Alex Tan\\AppData\\Local\\Temp\\ipykernel_15732\\1564456075.py:15: PerformanceWarning: DataFrame is highly fragmented.  This is usually the result of calling `frame.insert` many times, which has poor performance.  Consider joining all columns at once using pd.concat(axis=1) instead. To get a de-fragmented frame, use `newframe = frame.copy()`\n",
      "  final[col_name]=final.Recnum.map(mapper)\n",
      "C:\\Users\\Alex Tan\\AppData\\Local\\Temp\\ipykernel_15732\\1564456075.py:15: PerformanceWarning: DataFrame is highly fragmented.  This is usually the result of calling `frame.insert` many times, which has poor performance.  Consider joining all columns at once using pd.concat(axis=1) instead. To get a de-fragmented frame, use `newframe = frame.copy()`\n",
      "  final[col_name]=final.Recnum.map(mapper)\n",
      "C:\\Users\\Alex Tan\\AppData\\Local\\Temp\\ipykernel_15732\\1564456075.py:15: PerformanceWarning: DataFrame is highly fragmented.  This is usually the result of calling `frame.insert` many times, which has poor performance.  Consider joining all columns at once using pd.concat(axis=1) instead. To get a de-fragmented frame, use `newframe = frame.copy()`\n",
      "  final[col_name]=final.Recnum.map(mapper)\n"
     ]
    },
    {
     "name": "stderr",
     "output_type": "stream",
     "text": [
      "C:\\Users\\Alex Tan\\AppData\\Local\\Temp\\ipykernel_15732\\1564456075.py:15: PerformanceWarning: DataFrame is highly fragmented.  This is usually the result of calling `frame.insert` many times, which has poor performance.  Consider joining all columns at once using pd.concat(axis=1) instead. To get a de-fragmented frame, use `newframe = frame.copy()`\n",
      "  final[col_name]=final.Recnum.map(mapper)\n",
      "C:\\Users\\Alex Tan\\AppData\\Local\\Temp\\ipykernel_15732\\1564456075.py:15: PerformanceWarning: DataFrame is highly fragmented.  This is usually the result of calling `frame.insert` many times, which has poor performance.  Consider joining all columns at once using pd.concat(axis=1) instead. To get a de-fragmented frame, use `newframe = frame.copy()`\n",
      "  final[col_name]=final.Recnum.map(mapper)\n",
      "C:\\Users\\Alex Tan\\AppData\\Local\\Temp\\ipykernel_15732\\1564456075.py:15: PerformanceWarning: DataFrame is highly fragmented.  This is usually the result of calling `frame.insert` many times, which has poor performance.  Consider joining all columns at once using pd.concat(axis=1) instead. To get a de-fragmented frame, use `newframe = frame.copy()`\n",
      "  final[col_name]=final.Recnum.map(mapper)\n",
      "C:\\Users\\Alex Tan\\AppData\\Local\\Temp\\ipykernel_15732\\1564456075.py:15: PerformanceWarning: DataFrame is highly fragmented.  This is usually the result of calling `frame.insert` many times, which has poor performance.  Consider joining all columns at once using pd.concat(axis=1) instead. To get a de-fragmented frame, use `newframe = frame.copy()`\n",
      "  final[col_name]=final.Recnum.map(mapper)\n",
      "C:\\Users\\Alex Tan\\AppData\\Local\\Temp\\ipykernel_15732\\1564456075.py:15: PerformanceWarning: DataFrame is highly fragmented.  This is usually the result of calling `frame.insert` many times, which has poor performance.  Consider joining all columns at once using pd.concat(axis=1) instead. To get a de-fragmented frame, use `newframe = frame.copy()`\n",
      "  final[col_name]=final.Recnum.map(mapper)\n",
      "C:\\Users\\Alex Tan\\AppData\\Local\\Temp\\ipykernel_15732\\1564456075.py:15: PerformanceWarning: DataFrame is highly fragmented.  This is usually the result of calling `frame.insert` many times, which has poor performance.  Consider joining all columns at once using pd.concat(axis=1) instead. To get a de-fragmented frame, use `newframe = frame.copy()`\n",
      "  final[col_name]=final.Recnum.map(mapper)\n",
      "C:\\Users\\Alex Tan\\AppData\\Local\\Temp\\ipykernel_15732\\1564456075.py:15: PerformanceWarning: DataFrame is highly fragmented.  This is usually the result of calling `frame.insert` many times, which has poor performance.  Consider joining all columns at once using pd.concat(axis=1) instead. To get a de-fragmented frame, use `newframe = frame.copy()`\n",
      "  final[col_name]=final.Recnum.map(mapper)\n",
      "C:\\Users\\Alex Tan\\AppData\\Local\\Temp\\ipykernel_15732\\1564456075.py:15: PerformanceWarning: DataFrame is highly fragmented.  This is usually the result of calling `frame.insert` many times, which has poor performance.  Consider joining all columns at once using pd.concat(axis=1) instead. To get a de-fragmented frame, use `newframe = frame.copy()`\n",
      "  final[col_name]=final.Recnum.map(mapper)\n",
      "C:\\Users\\Alex Tan\\AppData\\Local\\Temp\\ipykernel_15732\\1564456075.py:15: PerformanceWarning: DataFrame is highly fragmented.  This is usually the result of calling `frame.insert` many times, which has poor performance.  Consider joining all columns at once using pd.concat(axis=1) instead. To get a de-fragmented frame, use `newframe = frame.copy()`\n",
      "  final[col_name]=final.Recnum.map(mapper)\n",
      "C:\\Users\\Alex Tan\\AppData\\Local\\Temp\\ipykernel_15732\\1564456075.py:15: PerformanceWarning: DataFrame is highly fragmented.  This is usually the result of calling `frame.insert` many times, which has poor performance.  Consider joining all columns at once using pd.concat(axis=1) instead. To get a de-fragmented frame, use `newframe = frame.copy()`\n",
      "  final[col_name]=final.Recnum.map(mapper)\n",
      "C:\\Users\\Alex Tan\\AppData\\Local\\Temp\\ipykernel_15732\\1564456075.py:15: PerformanceWarning: DataFrame is highly fragmented.  This is usually the result of calling `frame.insert` many times, which has poor performance.  Consider joining all columns at once using pd.concat(axis=1) instead. To get a de-fragmented frame, use `newframe = frame.copy()`\n",
      "  final[col_name]=final.Recnum.map(mapper)\n",
      "C:\\Users\\Alex Tan\\AppData\\Local\\Temp\\ipykernel_15732\\1564456075.py:15: PerformanceWarning: DataFrame is highly fragmented.  This is usually the result of calling `frame.insert` many times, which has poor performance.  Consider joining all columns at once using pd.concat(axis=1) instead. To get a de-fragmented frame, use `newframe = frame.copy()`\n",
      "  final[col_name]=final.Recnum.map(mapper)\n",
      "C:\\Users\\Alex Tan\\AppData\\Local\\Temp\\ipykernel_15732\\1564456075.py:15: PerformanceWarning: DataFrame is highly fragmented.  This is usually the result of calling `frame.insert` many times, which has poor performance.  Consider joining all columns at once using pd.concat(axis=1) instead. To get a de-fragmented frame, use `newframe = frame.copy()`\n",
      "  final[col_name]=final.Recnum.map(mapper)\n",
      "C:\\Users\\Alex Tan\\AppData\\Local\\Temp\\ipykernel_15732\\1564456075.py:15: PerformanceWarning: DataFrame is highly fragmented.  This is usually the result of calling `frame.insert` many times, which has poor performance.  Consider joining all columns at once using pd.concat(axis=1) instead. To get a de-fragmented frame, use `newframe = frame.copy()`\n",
      "  final[col_name]=final.Recnum.map(mapper)\n",
      "C:\\Users\\Alex Tan\\AppData\\Local\\Temp\\ipykernel_15732\\1564456075.py:15: PerformanceWarning: DataFrame is highly fragmented.  This is usually the result of calling `frame.insert` many times, which has poor performance.  Consider joining all columns at once using pd.concat(axis=1) instead. To get a de-fragmented frame, use `newframe = frame.copy()`\n",
      "  final[col_name]=final.Recnum.map(mapper)\n",
      "C:\\Users\\Alex Tan\\AppData\\Local\\Temp\\ipykernel_15732\\1564456075.py:15: PerformanceWarning: DataFrame is highly fragmented.  This is usually the result of calling `frame.insert` many times, which has poor performance.  Consider joining all columns at once using pd.concat(axis=1) instead. To get a de-fragmented frame, use `newframe = frame.copy()`\n",
      "  final[col_name]=final.Recnum.map(mapper)\n",
      "C:\\Users\\Alex Tan\\AppData\\Local\\Temp\\ipykernel_15732\\1564456075.py:15: PerformanceWarning: DataFrame is highly fragmented.  This is usually the result of calling `frame.insert` many times, which has poor performance.  Consider joining all columns at once using pd.concat(axis=1) instead. To get a de-fragmented frame, use `newframe = frame.copy()`\n",
      "  final[col_name]=final.Recnum.map(mapper)\n",
      "C:\\Users\\Alex Tan\\AppData\\Local\\Temp\\ipykernel_15732\\1564456075.py:15: PerformanceWarning: DataFrame is highly fragmented.  This is usually the result of calling `frame.insert` many times, which has poor performance.  Consider joining all columns at once using pd.concat(axis=1) instead. To get a de-fragmented frame, use `newframe = frame.copy()`\n",
      "  final[col_name]=final.Recnum.map(mapper)\n",
      "C:\\Users\\Alex Tan\\AppData\\Local\\Temp\\ipykernel_15732\\1564456075.py:15: PerformanceWarning: DataFrame is highly fragmented.  This is usually the result of calling `frame.insert` many times, which has poor performance.  Consider joining all columns at once using pd.concat(axis=1) instead. To get a de-fragmented frame, use `newframe = frame.copy()`\n",
      "  final[col_name]=final.Recnum.map(mapper)\n",
      "C:\\Users\\Alex Tan\\AppData\\Local\\Temp\\ipykernel_15732\\1564456075.py:15: PerformanceWarning: DataFrame is highly fragmented.  This is usually the result of calling `frame.insert` many times, which has poor performance.  Consider joining all columns at once using pd.concat(axis=1) instead. To get a de-fragmented frame, use `newframe = frame.copy()`\n",
      "  final[col_name]=final.Recnum.map(mapper)\n",
      "C:\\Users\\Alex Tan\\AppData\\Local\\Temp\\ipykernel_15732\\1564456075.py:15: PerformanceWarning: DataFrame is highly fragmented.  This is usually the result of calling `frame.insert` many times, which has poor performance.  Consider joining all columns at once using pd.concat(axis=1) instead. To get a de-fragmented frame, use `newframe = frame.copy()`\n",
      "  final[col_name]=final.Recnum.map(mapper)\n"
     ]
    },
    {
     "name": "stderr",
     "output_type": "stream",
     "text": [
      "C:\\Users\\Alex Tan\\AppData\\Local\\Temp\\ipykernel_15732\\1564456075.py:15: PerformanceWarning: DataFrame is highly fragmented.  This is usually the result of calling `frame.insert` many times, which has poor performance.  Consider joining all columns at once using pd.concat(axis=1) instead. To get a de-fragmented frame, use `newframe = frame.copy()`\n",
      "  final[col_name]=final.Recnum.map(mapper)\n",
      "C:\\Users\\Alex Tan\\AppData\\Local\\Temp\\ipykernel_15732\\1564456075.py:15: PerformanceWarning: DataFrame is highly fragmented.  This is usually the result of calling `frame.insert` many times, which has poor performance.  Consider joining all columns at once using pd.concat(axis=1) instead. To get a de-fragmented frame, use `newframe = frame.copy()`\n",
      "  final[col_name]=final.Recnum.map(mapper)\n",
      "C:\\Users\\Alex Tan\\AppData\\Local\\Temp\\ipykernel_15732\\1564456075.py:15: PerformanceWarning: DataFrame is highly fragmented.  This is usually the result of calling `frame.insert` many times, which has poor performance.  Consider joining all columns at once using pd.concat(axis=1) instead. To get a de-fragmented frame, use `newframe = frame.copy()`\n",
      "  final[col_name]=final.Recnum.map(mapper)\n",
      "C:\\Users\\Alex Tan\\AppData\\Local\\Temp\\ipykernel_15732\\1564456075.py:15: PerformanceWarning: DataFrame is highly fragmented.  This is usually the result of calling `frame.insert` many times, which has poor performance.  Consider joining all columns at once using pd.concat(axis=1) instead. To get a de-fragmented frame, use `newframe = frame.copy()`\n",
      "  final[col_name]=final.Recnum.map(mapper)\n",
      "C:\\Users\\Alex Tan\\AppData\\Local\\Temp\\ipykernel_15732\\1564456075.py:15: PerformanceWarning: DataFrame is highly fragmented.  This is usually the result of calling `frame.insert` many times, which has poor performance.  Consider joining all columns at once using pd.concat(axis=1) instead. To get a de-fragmented frame, use `newframe = frame.copy()`\n",
      "  final[col_name]=final.Recnum.map(mapper)\n",
      "C:\\Users\\Alex Tan\\AppData\\Local\\Temp\\ipykernel_15732\\1564456075.py:15: PerformanceWarning: DataFrame is highly fragmented.  This is usually the result of calling `frame.insert` many times, which has poor performance.  Consider joining all columns at once using pd.concat(axis=1) instead. To get a de-fragmented frame, use `newframe = frame.copy()`\n",
      "  final[col_name]=final.Recnum.map(mapper)\n",
      "C:\\Users\\Alex Tan\\AppData\\Local\\Temp\\ipykernel_15732\\1564456075.py:15: PerformanceWarning: DataFrame is highly fragmented.  This is usually the result of calling `frame.insert` many times, which has poor performance.  Consider joining all columns at once using pd.concat(axis=1) instead. To get a de-fragmented frame, use `newframe = frame.copy()`\n",
      "  final[col_name]=final.Recnum.map(mapper)\n",
      "C:\\Users\\Alex Tan\\AppData\\Local\\Temp\\ipykernel_15732\\1564456075.py:15: PerformanceWarning: DataFrame is highly fragmented.  This is usually the result of calling `frame.insert` many times, which has poor performance.  Consider joining all columns at once using pd.concat(axis=1) instead. To get a de-fragmented frame, use `newframe = frame.copy()`\n",
      "  final[col_name]=final.Recnum.map(mapper)\n",
      "C:\\Users\\Alex Tan\\AppData\\Local\\Temp\\ipykernel_15732\\1564456075.py:15: PerformanceWarning: DataFrame is highly fragmented.  This is usually the result of calling `frame.insert` many times, which has poor performance.  Consider joining all columns at once using pd.concat(axis=1) instead. To get a de-fragmented frame, use `newframe = frame.copy()`\n",
      "  final[col_name]=final.Recnum.map(mapper)\n",
      "C:\\Users\\Alex Tan\\AppData\\Local\\Temp\\ipykernel_15732\\1564456075.py:15: PerformanceWarning: DataFrame is highly fragmented.  This is usually the result of calling `frame.insert` many times, which has poor performance.  Consider joining all columns at once using pd.concat(axis=1) instead. To get a de-fragmented frame, use `newframe = frame.copy()`\n",
      "  final[col_name]=final.Recnum.map(mapper)\n",
      "C:\\Users\\Alex Tan\\AppData\\Local\\Temp\\ipykernel_15732\\1564456075.py:15: PerformanceWarning: DataFrame is highly fragmented.  This is usually the result of calling `frame.insert` many times, which has poor performance.  Consider joining all columns at once using pd.concat(axis=1) instead. To get a de-fragmented frame, use `newframe = frame.copy()`\n",
      "  final[col_name]=final.Recnum.map(mapper)\n",
      "C:\\Users\\Alex Tan\\AppData\\Local\\Temp\\ipykernel_15732\\1564456075.py:15: PerformanceWarning: DataFrame is highly fragmented.  This is usually the result of calling `frame.insert` many times, which has poor performance.  Consider joining all columns at once using pd.concat(axis=1) instead. To get a de-fragmented frame, use `newframe = frame.copy()`\n",
      "  final[col_name]=final.Recnum.map(mapper)\n",
      "C:\\Users\\Alex Tan\\AppData\\Local\\Temp\\ipykernel_15732\\1564456075.py:15: PerformanceWarning: DataFrame is highly fragmented.  This is usually the result of calling `frame.insert` many times, which has poor performance.  Consider joining all columns at once using pd.concat(axis=1) instead. To get a de-fragmented frame, use `newframe = frame.copy()`\n",
      "  final[col_name]=final.Recnum.map(mapper)\n",
      "C:\\Users\\Alex Tan\\AppData\\Local\\Temp\\ipykernel_15732\\1564456075.py:15: PerformanceWarning: DataFrame is highly fragmented.  This is usually the result of calling `frame.insert` many times, which has poor performance.  Consider joining all columns at once using pd.concat(axis=1) instead. To get a de-fragmented frame, use `newframe = frame.copy()`\n",
      "  final[col_name]=final.Recnum.map(mapper)\n",
      "C:\\Users\\Alex Tan\\AppData\\Local\\Temp\\ipykernel_15732\\1564456075.py:15: PerformanceWarning: DataFrame is highly fragmented.  This is usually the result of calling `frame.insert` many times, which has poor performance.  Consider joining all columns at once using pd.concat(axis=1) instead. To get a de-fragmented frame, use `newframe = frame.copy()`\n",
      "  final[col_name]=final.Recnum.map(mapper)\n",
      "C:\\Users\\Alex Tan\\AppData\\Local\\Temp\\ipykernel_15732\\1564456075.py:15: PerformanceWarning: DataFrame is highly fragmented.  This is usually the result of calling `frame.insert` many times, which has poor performance.  Consider joining all columns at once using pd.concat(axis=1) instead. To get a de-fragmented frame, use `newframe = frame.copy()`\n",
      "  final[col_name]=final.Recnum.map(mapper)\n",
      "C:\\Users\\Alex Tan\\AppData\\Local\\Temp\\ipykernel_15732\\1564456075.py:15: PerformanceWarning: DataFrame is highly fragmented.  This is usually the result of calling `frame.insert` many times, which has poor performance.  Consider joining all columns at once using pd.concat(axis=1) instead. To get a de-fragmented frame, use `newframe = frame.copy()`\n",
      "  final[col_name]=final.Recnum.map(mapper)\n",
      "C:\\Users\\Alex Tan\\AppData\\Local\\Temp\\ipykernel_15732\\1564456075.py:15: PerformanceWarning: DataFrame is highly fragmented.  This is usually the result of calling `frame.insert` many times, which has poor performance.  Consider joining all columns at once using pd.concat(axis=1) instead. To get a de-fragmented frame, use `newframe = frame.copy()`\n",
      "  final[col_name]=final.Recnum.map(mapper)\n",
      "C:\\Users\\Alex Tan\\AppData\\Local\\Temp\\ipykernel_15732\\1564456075.py:15: PerformanceWarning: DataFrame is highly fragmented.  This is usually the result of calling `frame.insert` many times, which has poor performance.  Consider joining all columns at once using pd.concat(axis=1) instead. To get a de-fragmented frame, use `newframe = frame.copy()`\n",
      "  final[col_name]=final.Recnum.map(mapper)\n",
      "C:\\Users\\Alex Tan\\AppData\\Local\\Temp\\ipykernel_15732\\1564456075.py:15: PerformanceWarning: DataFrame is highly fragmented.  This is usually the result of calling `frame.insert` many times, which has poor performance.  Consider joining all columns at once using pd.concat(axis=1) instead. To get a de-fragmented frame, use `newframe = frame.copy()`\n",
      "  final[col_name]=final.Recnum.map(mapper)\n",
      "C:\\Users\\Alex Tan\\AppData\\Local\\Temp\\ipykernel_15732\\1564456075.py:15: PerformanceWarning: DataFrame is highly fragmented.  This is usually the result of calling `frame.insert` many times, which has poor performance.  Consider joining all columns at once using pd.concat(axis=1) instead. To get a de-fragmented frame, use `newframe = frame.copy()`\n",
      "  final[col_name]=final.Recnum.map(mapper)\n"
     ]
    },
    {
     "name": "stderr",
     "output_type": "stream",
     "text": [
      "C:\\Users\\Alex Tan\\AppData\\Local\\Temp\\ipykernel_15732\\1564456075.py:15: PerformanceWarning: DataFrame is highly fragmented.  This is usually the result of calling `frame.insert` many times, which has poor performance.  Consider joining all columns at once using pd.concat(axis=1) instead. To get a de-fragmented frame, use `newframe = frame.copy()`\n",
      "  final[col_name]=final.Recnum.map(mapper)\n",
      "C:\\Users\\Alex Tan\\AppData\\Local\\Temp\\ipykernel_15732\\1564456075.py:15: PerformanceWarning: DataFrame is highly fragmented.  This is usually the result of calling `frame.insert` many times, which has poor performance.  Consider joining all columns at once using pd.concat(axis=1) instead. To get a de-fragmented frame, use `newframe = frame.copy()`\n",
      "  final[col_name]=final.Recnum.map(mapper)\n",
      "C:\\Users\\Alex Tan\\AppData\\Local\\Temp\\ipykernel_15732\\1564456075.py:15: PerformanceWarning: DataFrame is highly fragmented.  This is usually the result of calling `frame.insert` many times, which has poor performance.  Consider joining all columns at once using pd.concat(axis=1) instead. To get a de-fragmented frame, use `newframe = frame.copy()`\n",
      "  final[col_name]=final.Recnum.map(mapper)\n",
      "C:\\Users\\Alex Tan\\AppData\\Local\\Temp\\ipykernel_15732\\1564456075.py:15: PerformanceWarning: DataFrame is highly fragmented.  This is usually the result of calling `frame.insert` many times, which has poor performance.  Consider joining all columns at once using pd.concat(axis=1) instead. To get a de-fragmented frame, use `newframe = frame.copy()`\n",
      "  final[col_name]=final.Recnum.map(mapper)\n",
      "C:\\Users\\Alex Tan\\AppData\\Local\\Temp\\ipykernel_15732\\1564456075.py:15: PerformanceWarning: DataFrame is highly fragmented.  This is usually the result of calling `frame.insert` many times, which has poor performance.  Consider joining all columns at once using pd.concat(axis=1) instead. To get a de-fragmented frame, use `newframe = frame.copy()`\n",
      "  final[col_name]=final.Recnum.map(mapper)\n",
      "C:\\Users\\Alex Tan\\AppData\\Local\\Temp\\ipykernel_15732\\1564456075.py:15: PerformanceWarning: DataFrame is highly fragmented.  This is usually the result of calling `frame.insert` many times, which has poor performance.  Consider joining all columns at once using pd.concat(axis=1) instead. To get a de-fragmented frame, use `newframe = frame.copy()`\n",
      "  final[col_name]=final.Recnum.map(mapper)\n",
      "C:\\Users\\Alex Tan\\AppData\\Local\\Temp\\ipykernel_15732\\1564456075.py:15: PerformanceWarning: DataFrame is highly fragmented.  This is usually the result of calling `frame.insert` many times, which has poor performance.  Consider joining all columns at once using pd.concat(axis=1) instead. To get a de-fragmented frame, use `newframe = frame.copy()`\n",
      "  final[col_name]=final.Recnum.map(mapper)\n",
      "C:\\Users\\Alex Tan\\AppData\\Local\\Temp\\ipykernel_15732\\1564456075.py:15: PerformanceWarning: DataFrame is highly fragmented.  This is usually the result of calling `frame.insert` many times, which has poor performance.  Consider joining all columns at once using pd.concat(axis=1) instead. To get a de-fragmented frame, use `newframe = frame.copy()`\n",
      "  final[col_name]=final.Recnum.map(mapper)\n",
      "C:\\Users\\Alex Tan\\AppData\\Local\\Temp\\ipykernel_15732\\1564456075.py:15: PerformanceWarning: DataFrame is highly fragmented.  This is usually the result of calling `frame.insert` many times, which has poor performance.  Consider joining all columns at once using pd.concat(axis=1) instead. To get a de-fragmented frame, use `newframe = frame.copy()`\n",
      "  final[col_name]=final.Recnum.map(mapper)\n",
      "C:\\Users\\Alex Tan\\AppData\\Local\\Temp\\ipykernel_15732\\1564456075.py:15: PerformanceWarning: DataFrame is highly fragmented.  This is usually the result of calling `frame.insert` many times, which has poor performance.  Consider joining all columns at once using pd.concat(axis=1) instead. To get a de-fragmented frame, use `newframe = frame.copy()`\n",
      "  final[col_name]=final.Recnum.map(mapper)\n",
      "C:\\Users\\Alex Tan\\AppData\\Local\\Temp\\ipykernel_15732\\1564456075.py:15: PerformanceWarning: DataFrame is highly fragmented.  This is usually the result of calling `frame.insert` many times, which has poor performance.  Consider joining all columns at once using pd.concat(axis=1) instead. To get a de-fragmented frame, use `newframe = frame.copy()`\n",
      "  final[col_name]=final.Recnum.map(mapper)\n",
      "C:\\Users\\Alex Tan\\AppData\\Local\\Temp\\ipykernel_15732\\1564456075.py:15: PerformanceWarning: DataFrame is highly fragmented.  This is usually the result of calling `frame.insert` many times, which has poor performance.  Consider joining all columns at once using pd.concat(axis=1) instead. To get a de-fragmented frame, use `newframe = frame.copy()`\n",
      "  final[col_name]=final.Recnum.map(mapper)\n",
      "C:\\Users\\Alex Tan\\AppData\\Local\\Temp\\ipykernel_15732\\1564456075.py:15: PerformanceWarning: DataFrame is highly fragmented.  This is usually the result of calling `frame.insert` many times, which has poor performance.  Consider joining all columns at once using pd.concat(axis=1) instead. To get a de-fragmented frame, use `newframe = frame.copy()`\n",
      "  final[col_name]=final.Recnum.map(mapper)\n",
      "C:\\Users\\Alex Tan\\AppData\\Local\\Temp\\ipykernel_15732\\1564456075.py:15: PerformanceWarning: DataFrame is highly fragmented.  This is usually the result of calling `frame.insert` many times, which has poor performance.  Consider joining all columns at once using pd.concat(axis=1) instead. To get a de-fragmented frame, use `newframe = frame.copy()`\n",
      "  final[col_name]=final.Recnum.map(mapper)\n",
      "C:\\Users\\Alex Tan\\AppData\\Local\\Temp\\ipykernel_15732\\1564456075.py:15: PerformanceWarning: DataFrame is highly fragmented.  This is usually the result of calling `frame.insert` many times, which has poor performance.  Consider joining all columns at once using pd.concat(axis=1) instead. To get a de-fragmented frame, use `newframe = frame.copy()`\n",
      "  final[col_name]=final.Recnum.map(mapper)\n",
      "C:\\Users\\Alex Tan\\AppData\\Local\\Temp\\ipykernel_15732\\1564456075.py:15: PerformanceWarning: DataFrame is highly fragmented.  This is usually the result of calling `frame.insert` many times, which has poor performance.  Consider joining all columns at once using pd.concat(axis=1) instead. To get a de-fragmented frame, use `newframe = frame.copy()`\n",
      "  final[col_name]=final.Recnum.map(mapper)\n",
      "C:\\Users\\Alex Tan\\AppData\\Local\\Temp\\ipykernel_15732\\1564456075.py:15: PerformanceWarning: DataFrame is highly fragmented.  This is usually the result of calling `frame.insert` many times, which has poor performance.  Consider joining all columns at once using pd.concat(axis=1) instead. To get a de-fragmented frame, use `newframe = frame.copy()`\n",
      "  final[col_name]=final.Recnum.map(mapper)\n",
      "C:\\Users\\Alex Tan\\AppData\\Local\\Temp\\ipykernel_15732\\1564456075.py:15: PerformanceWarning: DataFrame is highly fragmented.  This is usually the result of calling `frame.insert` many times, which has poor performance.  Consider joining all columns at once using pd.concat(axis=1) instead. To get a de-fragmented frame, use `newframe = frame.copy()`\n",
      "  final[col_name]=final.Recnum.map(mapper)\n",
      "C:\\Users\\Alex Tan\\AppData\\Local\\Temp\\ipykernel_15732\\1564456075.py:15: PerformanceWarning: DataFrame is highly fragmented.  This is usually the result of calling `frame.insert` many times, which has poor performance.  Consider joining all columns at once using pd.concat(axis=1) instead. To get a de-fragmented frame, use `newframe = frame.copy()`\n",
      "  final[col_name]=final.Recnum.map(mapper)\n",
      "C:\\Users\\Alex Tan\\AppData\\Local\\Temp\\ipykernel_15732\\1564456075.py:15: PerformanceWarning: DataFrame is highly fragmented.  This is usually the result of calling `frame.insert` many times, which has poor performance.  Consider joining all columns at once using pd.concat(axis=1) instead. To get a de-fragmented frame, use `newframe = frame.copy()`\n",
      "  final[col_name]=final.Recnum.map(mapper)\n",
      "C:\\Users\\Alex Tan\\AppData\\Local\\Temp\\ipykernel_15732\\1564456075.py:15: PerformanceWarning: DataFrame is highly fragmented.  This is usually the result of calling `frame.insert` many times, which has poor performance.  Consider joining all columns at once using pd.concat(axis=1) instead. To get a de-fragmented frame, use `newframe = frame.copy()`\n",
      "  final[col_name]=final.Recnum.map(mapper)\n"
     ]
    },
    {
     "name": "stderr",
     "output_type": "stream",
     "text": [
      "C:\\Users\\Alex Tan\\AppData\\Local\\Temp\\ipykernel_15732\\1564456075.py:15: PerformanceWarning: DataFrame is highly fragmented.  This is usually the result of calling `frame.insert` many times, which has poor performance.  Consider joining all columns at once using pd.concat(axis=1) instead. To get a de-fragmented frame, use `newframe = frame.copy()`\n",
      "  final[col_name]=final.Recnum.map(mapper)\n",
      "C:\\Users\\Alex Tan\\AppData\\Local\\Temp\\ipykernel_15732\\1564456075.py:15: PerformanceWarning: DataFrame is highly fragmented.  This is usually the result of calling `frame.insert` many times, which has poor performance.  Consider joining all columns at once using pd.concat(axis=1) instead. To get a de-fragmented frame, use `newframe = frame.copy()`\n",
      "  final[col_name]=final.Recnum.map(mapper)\n",
      "C:\\Users\\Alex Tan\\AppData\\Local\\Temp\\ipykernel_15732\\1564456075.py:15: PerformanceWarning: DataFrame is highly fragmented.  This is usually the result of calling `frame.insert` many times, which has poor performance.  Consider joining all columns at once using pd.concat(axis=1) instead. To get a de-fragmented frame, use `newframe = frame.copy()`\n",
      "  final[col_name]=final.Recnum.map(mapper)\n",
      "C:\\Users\\Alex Tan\\AppData\\Local\\Temp\\ipykernel_15732\\1564456075.py:15: PerformanceWarning: DataFrame is highly fragmented.  This is usually the result of calling `frame.insert` many times, which has poor performance.  Consider joining all columns at once using pd.concat(axis=1) instead. To get a de-fragmented frame, use `newframe = frame.copy()`\n",
      "  final[col_name]=final.Recnum.map(mapper)\n",
      "C:\\Users\\Alex Tan\\AppData\\Local\\Temp\\ipykernel_15732\\1564456075.py:15: PerformanceWarning: DataFrame is highly fragmented.  This is usually the result of calling `frame.insert` many times, which has poor performance.  Consider joining all columns at once using pd.concat(axis=1) instead. To get a de-fragmented frame, use `newframe = frame.copy()`\n",
      "  final[col_name]=final.Recnum.map(mapper)\n",
      "C:\\Users\\Alex Tan\\AppData\\Local\\Temp\\ipykernel_15732\\1564456075.py:15: PerformanceWarning: DataFrame is highly fragmented.  This is usually the result of calling `frame.insert` many times, which has poor performance.  Consider joining all columns at once using pd.concat(axis=1) instead. To get a de-fragmented frame, use `newframe = frame.copy()`\n",
      "  final[col_name]=final.Recnum.map(mapper)\n",
      "C:\\Users\\Alex Tan\\AppData\\Local\\Temp\\ipykernel_15732\\1564456075.py:15: PerformanceWarning: DataFrame is highly fragmented.  This is usually the result of calling `frame.insert` many times, which has poor performance.  Consider joining all columns at once using pd.concat(axis=1) instead. To get a de-fragmented frame, use `newframe = frame.copy()`\n",
      "  final[col_name]=final.Recnum.map(mapper)\n",
      "C:\\Users\\Alex Tan\\AppData\\Local\\Temp\\ipykernel_15732\\1564456075.py:15: PerformanceWarning: DataFrame is highly fragmented.  This is usually the result of calling `frame.insert` many times, which has poor performance.  Consider joining all columns at once using pd.concat(axis=1) instead. To get a de-fragmented frame, use `newframe = frame.copy()`\n",
      "  final[col_name]=final.Recnum.map(mapper)\n",
      "C:\\Users\\Alex Tan\\AppData\\Local\\Temp\\ipykernel_15732\\1564456075.py:15: PerformanceWarning: DataFrame is highly fragmented.  This is usually the result of calling `frame.insert` many times, which has poor performance.  Consider joining all columns at once using pd.concat(axis=1) instead. To get a de-fragmented frame, use `newframe = frame.copy()`\n",
      "  final[col_name]=final.Recnum.map(mapper)\n",
      "C:\\Users\\Alex Tan\\AppData\\Local\\Temp\\ipykernel_15732\\1564456075.py:15: PerformanceWarning: DataFrame is highly fragmented.  This is usually the result of calling `frame.insert` many times, which has poor performance.  Consider joining all columns at once using pd.concat(axis=1) instead. To get a de-fragmented frame, use `newframe = frame.copy()`\n",
      "  final[col_name]=final.Recnum.map(mapper)\n",
      "C:\\Users\\Alex Tan\\AppData\\Local\\Temp\\ipykernel_15732\\1564456075.py:15: PerformanceWarning: DataFrame is highly fragmented.  This is usually the result of calling `frame.insert` many times, which has poor performance.  Consider joining all columns at once using pd.concat(axis=1) instead. To get a de-fragmented frame, use `newframe = frame.copy()`\n",
      "  final[col_name]=final.Recnum.map(mapper)\n",
      "C:\\Users\\Alex Tan\\AppData\\Local\\Temp\\ipykernel_15732\\1564456075.py:15: PerformanceWarning: DataFrame is highly fragmented.  This is usually the result of calling `frame.insert` many times, which has poor performance.  Consider joining all columns at once using pd.concat(axis=1) instead. To get a de-fragmented frame, use `newframe = frame.copy()`\n",
      "  final[col_name]=final.Recnum.map(mapper)\n",
      "C:\\Users\\Alex Tan\\AppData\\Local\\Temp\\ipykernel_15732\\1564456075.py:15: PerformanceWarning: DataFrame is highly fragmented.  This is usually the result of calling `frame.insert` many times, which has poor performance.  Consider joining all columns at once using pd.concat(axis=1) instead. To get a de-fragmented frame, use `newframe = frame.copy()`\n",
      "  final[col_name]=final.Recnum.map(mapper)\n",
      "C:\\Users\\Alex Tan\\AppData\\Local\\Temp\\ipykernel_15732\\1564456075.py:15: PerformanceWarning: DataFrame is highly fragmented.  This is usually the result of calling `frame.insert` many times, which has poor performance.  Consider joining all columns at once using pd.concat(axis=1) instead. To get a de-fragmented frame, use `newframe = frame.copy()`\n",
      "  final[col_name]=final.Recnum.map(mapper)\n",
      "C:\\Users\\Alex Tan\\AppData\\Local\\Temp\\ipykernel_15732\\1564456075.py:15: PerformanceWarning: DataFrame is highly fragmented.  This is usually the result of calling `frame.insert` many times, which has poor performance.  Consider joining all columns at once using pd.concat(axis=1) instead. To get a de-fragmented frame, use `newframe = frame.copy()`\n",
      "  final[col_name]=final.Recnum.map(mapper)\n",
      "C:\\Users\\Alex Tan\\AppData\\Local\\Temp\\ipykernel_15732\\1564456075.py:15: PerformanceWarning: DataFrame is highly fragmented.  This is usually the result of calling `frame.insert` many times, which has poor performance.  Consider joining all columns at once using pd.concat(axis=1) instead. To get a de-fragmented frame, use `newframe = frame.copy()`\n",
      "  final[col_name]=final.Recnum.map(mapper)\n",
      "C:\\Users\\Alex Tan\\AppData\\Local\\Temp\\ipykernel_15732\\1564456075.py:15: PerformanceWarning: DataFrame is highly fragmented.  This is usually the result of calling `frame.insert` many times, which has poor performance.  Consider joining all columns at once using pd.concat(axis=1) instead. To get a de-fragmented frame, use `newframe = frame.copy()`\n",
      "  final[col_name]=final.Recnum.map(mapper)\n",
      "C:\\Users\\Alex Tan\\AppData\\Local\\Temp\\ipykernel_15732\\1564456075.py:15: PerformanceWarning: DataFrame is highly fragmented.  This is usually the result of calling `frame.insert` many times, which has poor performance.  Consider joining all columns at once using pd.concat(axis=1) instead. To get a de-fragmented frame, use `newframe = frame.copy()`\n",
      "  final[col_name]=final.Recnum.map(mapper)\n",
      "C:\\Users\\Alex Tan\\AppData\\Local\\Temp\\ipykernel_15732\\1564456075.py:15: PerformanceWarning: DataFrame is highly fragmented.  This is usually the result of calling `frame.insert` many times, which has poor performance.  Consider joining all columns at once using pd.concat(axis=1) instead. To get a de-fragmented frame, use `newframe = frame.copy()`\n",
      "  final[col_name]=final.Recnum.map(mapper)\n",
      "C:\\Users\\Alex Tan\\AppData\\Local\\Temp\\ipykernel_15732\\1564456075.py:15: PerformanceWarning: DataFrame is highly fragmented.  This is usually the result of calling `frame.insert` many times, which has poor performance.  Consider joining all columns at once using pd.concat(axis=1) instead. To get a de-fragmented frame, use `newframe = frame.copy()`\n",
      "  final[col_name]=final.Recnum.map(mapper)\n",
      "C:\\Users\\Alex Tan\\AppData\\Local\\Temp\\ipykernel_15732\\1564456075.py:15: PerformanceWarning: DataFrame is highly fragmented.  This is usually the result of calling `frame.insert` many times, which has poor performance.  Consider joining all columns at once using pd.concat(axis=1) instead. To get a de-fragmented frame, use `newframe = frame.copy()`\n",
      "  final[col_name]=final.Recnum.map(mapper)\n"
     ]
    },
    {
     "name": "stderr",
     "output_type": "stream",
     "text": [
      "C:\\Users\\Alex Tan\\AppData\\Local\\Temp\\ipykernel_15732\\1564456075.py:15: PerformanceWarning: DataFrame is highly fragmented.  This is usually the result of calling `frame.insert` many times, which has poor performance.  Consider joining all columns at once using pd.concat(axis=1) instead. To get a de-fragmented frame, use `newframe = frame.copy()`\n",
      "  final[col_name]=final.Recnum.map(mapper)\n",
      "C:\\Users\\Alex Tan\\AppData\\Local\\Temp\\ipykernel_15732\\1564456075.py:15: PerformanceWarning: DataFrame is highly fragmented.  This is usually the result of calling `frame.insert` many times, which has poor performance.  Consider joining all columns at once using pd.concat(axis=1) instead. To get a de-fragmented frame, use `newframe = frame.copy()`\n",
      "  final[col_name]=final.Recnum.map(mapper)\n",
      "C:\\Users\\Alex Tan\\AppData\\Local\\Temp\\ipykernel_15732\\1564456075.py:15: PerformanceWarning: DataFrame is highly fragmented.  This is usually the result of calling `frame.insert` many times, which has poor performance.  Consider joining all columns at once using pd.concat(axis=1) instead. To get a de-fragmented frame, use `newframe = frame.copy()`\n",
      "  final[col_name]=final.Recnum.map(mapper)\n",
      "C:\\Users\\Alex Tan\\AppData\\Local\\Temp\\ipykernel_15732\\1564456075.py:15: PerformanceWarning: DataFrame is highly fragmented.  This is usually the result of calling `frame.insert` many times, which has poor performance.  Consider joining all columns at once using pd.concat(axis=1) instead. To get a de-fragmented frame, use `newframe = frame.copy()`\n",
      "  final[col_name]=final.Recnum.map(mapper)\n",
      "C:\\Users\\Alex Tan\\AppData\\Local\\Temp\\ipykernel_15732\\1564456075.py:15: PerformanceWarning: DataFrame is highly fragmented.  This is usually the result of calling `frame.insert` many times, which has poor performance.  Consider joining all columns at once using pd.concat(axis=1) instead. To get a de-fragmented frame, use `newframe = frame.copy()`\n",
      "  final[col_name]=final.Recnum.map(mapper)\n",
      "C:\\Users\\Alex Tan\\AppData\\Local\\Temp\\ipykernel_15732\\1564456075.py:15: PerformanceWarning: DataFrame is highly fragmented.  This is usually the result of calling `frame.insert` many times, which has poor performance.  Consider joining all columns at once using pd.concat(axis=1) instead. To get a de-fragmented frame, use `newframe = frame.copy()`\n",
      "  final[col_name]=final.Recnum.map(mapper)\n",
      "C:\\Users\\Alex Tan\\AppData\\Local\\Temp\\ipykernel_15732\\1564456075.py:15: PerformanceWarning: DataFrame is highly fragmented.  This is usually the result of calling `frame.insert` many times, which has poor performance.  Consider joining all columns at once using pd.concat(axis=1) instead. To get a de-fragmented frame, use `newframe = frame.copy()`\n",
      "  final[col_name]=final.Recnum.map(mapper)\n",
      "C:\\Users\\Alex Tan\\AppData\\Local\\Temp\\ipykernel_15732\\1564456075.py:15: PerformanceWarning: DataFrame is highly fragmented.  This is usually the result of calling `frame.insert` many times, which has poor performance.  Consider joining all columns at once using pd.concat(axis=1) instead. To get a de-fragmented frame, use `newframe = frame.copy()`\n",
      "  final[col_name]=final.Recnum.map(mapper)\n",
      "C:\\Users\\Alex Tan\\AppData\\Local\\Temp\\ipykernel_15732\\1564456075.py:15: PerformanceWarning: DataFrame is highly fragmented.  This is usually the result of calling `frame.insert` many times, which has poor performance.  Consider joining all columns at once using pd.concat(axis=1) instead. To get a de-fragmented frame, use `newframe = frame.copy()`\n",
      "  final[col_name]=final.Recnum.map(mapper)\n",
      "C:\\Users\\Alex Tan\\AppData\\Local\\Temp\\ipykernel_15732\\1564456075.py:15: PerformanceWarning: DataFrame is highly fragmented.  This is usually the result of calling `frame.insert` many times, which has poor performance.  Consider joining all columns at once using pd.concat(axis=1) instead. To get a de-fragmented frame, use `newframe = frame.copy()`\n",
      "  final[col_name]=final.Recnum.map(mapper)\n",
      "C:\\Users\\Alex Tan\\AppData\\Local\\Temp\\ipykernel_15732\\1564456075.py:15: PerformanceWarning: DataFrame is highly fragmented.  This is usually the result of calling `frame.insert` many times, which has poor performance.  Consider joining all columns at once using pd.concat(axis=1) instead. To get a de-fragmented frame, use `newframe = frame.copy()`\n",
      "  final[col_name]=final.Recnum.map(mapper)\n",
      "C:\\Users\\Alex Tan\\AppData\\Local\\Temp\\ipykernel_15732\\1564456075.py:15: PerformanceWarning: DataFrame is highly fragmented.  This is usually the result of calling `frame.insert` many times, which has poor performance.  Consider joining all columns at once using pd.concat(axis=1) instead. To get a de-fragmented frame, use `newframe = frame.copy()`\n",
      "  final[col_name]=final.Recnum.map(mapper)\n"
     ]
    }
   ],
   "source": [
    "# unique entity counts\n",
    "for i in entities:\n",
    "    for v in entities:\n",
    "        if i==v:\n",
    "            continue\n",
    "        else:\n",
    "            df_c=df1[['Recnum','Date',i]]\n",
    "            df_d=df1[['check_record','check_date',i,v]]\n",
    "            temp=pd.merge(df_c,df_d,left_on=i,right_on=i)\n",
    "            \n",
    "        for t in [1,3,7,14,30,60]:\n",
    "            count_day_df=temp[(temp.check_date>=(temp.Date-dt.timedelta(t)))&(temp.Recnum>=temp.check_record)]\n",
    "            col_name=f'{i}_unique_count_for_{v}_{t}'\n",
    "            mapper=count_day_df.groupby(['Recnum'])[v].nunique()\n",
    "            final[col_name]=final.Recnum.map(mapper)"
   ]
  },
  {
   "cell_type": "code",
   "execution_count": 78,
   "id": "bac6701e",
   "metadata": {},
   "outputs": [
    {
     "data": {
      "text/plain": [
       "540"
      ]
     },
     "execution_count": 78,
     "metadata": {},
     "output_type": "execute_result"
    }
   ],
   "source": [
    "newvars = len(final.columns) - 19 - varnum\n",
    "newvars"
   ]
  },
  {
   "cell_type": "code",
   "execution_count": 82,
   "id": "b571cf92",
   "metadata": {},
   "outputs": [
    {
     "data": {
      "text/plain": [
       "1213"
      ]
     },
     "execution_count": 82,
     "metadata": {},
     "output_type": "execute_result"
    }
   ],
   "source": [
    "varnum = len(final.columns) - 19\n",
    "varnum"
   ]
  },
  {
   "cell_type": "code",
   "execution_count": 83,
   "id": "b0bd5feb",
   "metadata": {},
   "outputs": [
    {
     "name": "stdout",
     "output_type": "stream",
     "text": [
      "Run time for the last entity ----------------- 1389.9730327s\n"
     ]
    },
    {
     "name": "stderr",
     "output_type": "stream",
     "text": [
      "C:\\Users\\Alex Tan\\AppData\\Local\\Temp\\ipykernel_15732\\2659022082.py:18: PerformanceWarning: DataFrame is highly fragmented.  This is usually the result of calling `frame.insert` many times, which has poor performance.  Consider joining all columns at once using pd.concat(axis=1) instead. To get a de-fragmented frame, use `newframe = frame.copy()`\n",
      "  final[col_name] = final.Recnum.map(mapper2)\n",
      "C:\\Users\\Alex Tan\\AppData\\Local\\Temp\\ipykernel_15732\\2659022082.py:23: PerformanceWarning: DataFrame is highly fragmented.  This is usually the result of calling `frame.insert` many times, which has poor performance.  Consider joining all columns at once using pd.concat(axis=1) instead. To get a de-fragmented frame, use `newframe = frame.copy()`\n",
      "  final[col_name] = final.Recnum.map(mapper2)\n",
      "C:\\Users\\Alex Tan\\AppData\\Local\\Temp\\ipykernel_15732\\2659022082.py:28: PerformanceWarning: DataFrame is highly fragmented.  This is usually the result of calling `frame.insert` many times, which has poor performance.  Consider joining all columns at once using pd.concat(axis=1) instead. To get a de-fragmented frame, use `newframe = frame.copy()`\n",
      "  final[col_name] = final.Recnum.map(mapper2)\n"
     ]
    },
    {
     "name": "stdout",
     "output_type": "stream",
     "text": [
      "Cardnum_variability_avg_0 ---> Done\n",
      "Cardnum_variability_max_0 ---> Done\n",
      "Cardnum_variability_med_0 ---> Done\n",
      "Cardnum amount variables over past 0 ---> Done\n"
     ]
    },
    {
     "name": "stderr",
     "output_type": "stream",
     "text": [
      "C:\\Users\\Alex Tan\\AppData\\Local\\Temp\\ipykernel_15732\\2659022082.py:18: PerformanceWarning: DataFrame is highly fragmented.  This is usually the result of calling `frame.insert` many times, which has poor performance.  Consider joining all columns at once using pd.concat(axis=1) instead. To get a de-fragmented frame, use `newframe = frame.copy()`\n",
      "  final[col_name] = final.Recnum.map(mapper2)\n",
      "C:\\Users\\Alex Tan\\AppData\\Local\\Temp\\ipykernel_15732\\2659022082.py:23: PerformanceWarning: DataFrame is highly fragmented.  This is usually the result of calling `frame.insert` many times, which has poor performance.  Consider joining all columns at once using pd.concat(axis=1) instead. To get a de-fragmented frame, use `newframe = frame.copy()`\n",
      "  final[col_name] = final.Recnum.map(mapper2)\n",
      "C:\\Users\\Alex Tan\\AppData\\Local\\Temp\\ipykernel_15732\\2659022082.py:28: PerformanceWarning: DataFrame is highly fragmented.  This is usually the result of calling `frame.insert` many times, which has poor performance.  Consider joining all columns at once using pd.concat(axis=1) instead. To get a de-fragmented frame, use `newframe = frame.copy()`\n",
      "  final[col_name] = final.Recnum.map(mapper2)\n"
     ]
    },
    {
     "name": "stdout",
     "output_type": "stream",
     "text": [
      "Cardnum_variability_avg_1 ---> Done\n",
      "Cardnum_variability_max_1 ---> Done\n",
      "Cardnum_variability_med_1 ---> Done\n",
      "Cardnum amount variables over past 1 ---> Done\n"
     ]
    },
    {
     "name": "stderr",
     "output_type": "stream",
     "text": [
      "C:\\Users\\Alex Tan\\AppData\\Local\\Temp\\ipykernel_15732\\2659022082.py:18: PerformanceWarning: DataFrame is highly fragmented.  This is usually the result of calling `frame.insert` many times, which has poor performance.  Consider joining all columns at once using pd.concat(axis=1) instead. To get a de-fragmented frame, use `newframe = frame.copy()`\n",
      "  final[col_name] = final.Recnum.map(mapper2)\n",
      "C:\\Users\\Alex Tan\\AppData\\Local\\Temp\\ipykernel_15732\\2659022082.py:23: PerformanceWarning: DataFrame is highly fragmented.  This is usually the result of calling `frame.insert` many times, which has poor performance.  Consider joining all columns at once using pd.concat(axis=1) instead. To get a de-fragmented frame, use `newframe = frame.copy()`\n",
      "  final[col_name] = final.Recnum.map(mapper2)\n",
      "C:\\Users\\Alex Tan\\AppData\\Local\\Temp\\ipykernel_15732\\2659022082.py:28: PerformanceWarning: DataFrame is highly fragmented.  This is usually the result of calling `frame.insert` many times, which has poor performance.  Consider joining all columns at once using pd.concat(axis=1) instead. To get a de-fragmented frame, use `newframe = frame.copy()`\n",
      "  final[col_name] = final.Recnum.map(mapper2)\n"
     ]
    },
    {
     "name": "stdout",
     "output_type": "stream",
     "text": [
      "Cardnum_variability_avg_3 ---> Done\n",
      "Cardnum_variability_max_3 ---> Done\n",
      "Cardnum_variability_med_3 ---> Done\n",
      "Cardnum amount variables over past 3 ---> Done\n"
     ]
    },
    {
     "name": "stderr",
     "output_type": "stream",
     "text": [
      "C:\\Users\\Alex Tan\\AppData\\Local\\Temp\\ipykernel_15732\\2659022082.py:18: PerformanceWarning: DataFrame is highly fragmented.  This is usually the result of calling `frame.insert` many times, which has poor performance.  Consider joining all columns at once using pd.concat(axis=1) instead. To get a de-fragmented frame, use `newframe = frame.copy()`\n",
      "  final[col_name] = final.Recnum.map(mapper2)\n",
      "C:\\Users\\Alex Tan\\AppData\\Local\\Temp\\ipykernel_15732\\2659022082.py:23: PerformanceWarning: DataFrame is highly fragmented.  This is usually the result of calling `frame.insert` many times, which has poor performance.  Consider joining all columns at once using pd.concat(axis=1) instead. To get a de-fragmented frame, use `newframe = frame.copy()`\n",
      "  final[col_name] = final.Recnum.map(mapper2)\n",
      "C:\\Users\\Alex Tan\\AppData\\Local\\Temp\\ipykernel_15732\\2659022082.py:28: PerformanceWarning: DataFrame is highly fragmented.  This is usually the result of calling `frame.insert` many times, which has poor performance.  Consider joining all columns at once using pd.concat(axis=1) instead. To get a de-fragmented frame, use `newframe = frame.copy()`\n",
      "  final[col_name] = final.Recnum.map(mapper2)\n"
     ]
    },
    {
     "name": "stdout",
     "output_type": "stream",
     "text": [
      "Cardnum_variability_avg_7 ---> Done\n",
      "Cardnum_variability_max_7 ---> Done\n",
      "Cardnum_variability_med_7 ---> Done\n",
      "Cardnum amount variables over past 7 ---> Done\n"
     ]
    },
    {
     "name": "stderr",
     "output_type": "stream",
     "text": [
      "C:\\Users\\Alex Tan\\AppData\\Local\\Temp\\ipykernel_15732\\2659022082.py:18: PerformanceWarning: DataFrame is highly fragmented.  This is usually the result of calling `frame.insert` many times, which has poor performance.  Consider joining all columns at once using pd.concat(axis=1) instead. To get a de-fragmented frame, use `newframe = frame.copy()`\n",
      "  final[col_name] = final.Recnum.map(mapper2)\n",
      "C:\\Users\\Alex Tan\\AppData\\Local\\Temp\\ipykernel_15732\\2659022082.py:23: PerformanceWarning: DataFrame is highly fragmented.  This is usually the result of calling `frame.insert` many times, which has poor performance.  Consider joining all columns at once using pd.concat(axis=1) instead. To get a de-fragmented frame, use `newframe = frame.copy()`\n",
      "  final[col_name] = final.Recnum.map(mapper2)\n",
      "C:\\Users\\Alex Tan\\AppData\\Local\\Temp\\ipykernel_15732\\2659022082.py:28: PerformanceWarning: DataFrame is highly fragmented.  This is usually the result of calling `frame.insert` many times, which has poor performance.  Consider joining all columns at once using pd.concat(axis=1) instead. To get a de-fragmented frame, use `newframe = frame.copy()`\n",
      "  final[col_name] = final.Recnum.map(mapper2)\n"
     ]
    },
    {
     "name": "stdout",
     "output_type": "stream",
     "text": [
      "Cardnum_variability_avg_14 ---> Done\n",
      "Cardnum_variability_max_14 ---> Done\n",
      "Cardnum_variability_med_14 ---> Done\n",
      "Cardnum amount variables over past 14 ---> Done\n"
     ]
    },
    {
     "name": "stderr",
     "output_type": "stream",
     "text": [
      "C:\\Users\\Alex Tan\\AppData\\Local\\Temp\\ipykernel_15732\\2659022082.py:18: PerformanceWarning: DataFrame is highly fragmented.  This is usually the result of calling `frame.insert` many times, which has poor performance.  Consider joining all columns at once using pd.concat(axis=1) instead. To get a de-fragmented frame, use `newframe = frame.copy()`\n",
      "  final[col_name] = final.Recnum.map(mapper2)\n",
      "C:\\Users\\Alex Tan\\AppData\\Local\\Temp\\ipykernel_15732\\2659022082.py:23: PerformanceWarning: DataFrame is highly fragmented.  This is usually the result of calling `frame.insert` many times, which has poor performance.  Consider joining all columns at once using pd.concat(axis=1) instead. To get a de-fragmented frame, use `newframe = frame.copy()`\n",
      "  final[col_name] = final.Recnum.map(mapper2)\n",
      "C:\\Users\\Alex Tan\\AppData\\Local\\Temp\\ipykernel_15732\\2659022082.py:28: PerformanceWarning: DataFrame is highly fragmented.  This is usually the result of calling `frame.insert` many times, which has poor performance.  Consider joining all columns at once using pd.concat(axis=1) instead. To get a de-fragmented frame, use `newframe = frame.copy()`\n",
      "  final[col_name] = final.Recnum.map(mapper2)\n"
     ]
    },
    {
     "name": "stdout",
     "output_type": "stream",
     "text": [
      "Cardnum_variability_avg_30 ---> Done\n",
      "Cardnum_variability_max_30 ---> Done\n",
      "Cardnum_variability_med_30 ---> Done\n",
      "Cardnum amount variables over past 30 ---> Done\n",
      "Run time for the last entity ----------------- 3.62767040000017s\n"
     ]
    },
    {
     "name": "stderr",
     "output_type": "stream",
     "text": [
      "C:\\Users\\Alex Tan\\AppData\\Local\\Temp\\ipykernel_15732\\2659022082.py:18: PerformanceWarning: DataFrame is highly fragmented.  This is usually the result of calling `frame.insert` many times, which has poor performance.  Consider joining all columns at once using pd.concat(axis=1) instead. To get a de-fragmented frame, use `newframe = frame.copy()`\n",
      "  final[col_name] = final.Recnum.map(mapper2)\n",
      "C:\\Users\\Alex Tan\\AppData\\Local\\Temp\\ipykernel_15732\\2659022082.py:23: PerformanceWarning: DataFrame is highly fragmented.  This is usually the result of calling `frame.insert` many times, which has poor performance.  Consider joining all columns at once using pd.concat(axis=1) instead. To get a de-fragmented frame, use `newframe = frame.copy()`\n",
      "  final[col_name] = final.Recnum.map(mapper2)\n",
      "C:\\Users\\Alex Tan\\AppData\\Local\\Temp\\ipykernel_15732\\2659022082.py:28: PerformanceWarning: DataFrame is highly fragmented.  This is usually the result of calling `frame.insert` many times, which has poor performance.  Consider joining all columns at once using pd.concat(axis=1) instead. To get a de-fragmented frame, use `newframe = frame.copy()`\n",
      "  final[col_name] = final.Recnum.map(mapper2)\n"
     ]
    },
    {
     "name": "stdout",
     "output_type": "stream",
     "text": [
      "Merchnum_variability_avg_0 ---> Done\n",
      "Merchnum_variability_max_0 ---> Done\n",
      "Merchnum_variability_med_0 ---> Done\n",
      "Merchnum amount variables over past 0 ---> Done\n"
     ]
    },
    {
     "name": "stderr",
     "output_type": "stream",
     "text": [
      "C:\\Users\\Alex Tan\\AppData\\Local\\Temp\\ipykernel_15732\\2659022082.py:18: PerformanceWarning: DataFrame is highly fragmented.  This is usually the result of calling `frame.insert` many times, which has poor performance.  Consider joining all columns at once using pd.concat(axis=1) instead. To get a de-fragmented frame, use `newframe = frame.copy()`\n",
      "  final[col_name] = final.Recnum.map(mapper2)\n",
      "C:\\Users\\Alex Tan\\AppData\\Local\\Temp\\ipykernel_15732\\2659022082.py:23: PerformanceWarning: DataFrame is highly fragmented.  This is usually the result of calling `frame.insert` many times, which has poor performance.  Consider joining all columns at once using pd.concat(axis=1) instead. To get a de-fragmented frame, use `newframe = frame.copy()`\n",
      "  final[col_name] = final.Recnum.map(mapper2)\n",
      "C:\\Users\\Alex Tan\\AppData\\Local\\Temp\\ipykernel_15732\\2659022082.py:28: PerformanceWarning: DataFrame is highly fragmented.  This is usually the result of calling `frame.insert` many times, which has poor performance.  Consider joining all columns at once using pd.concat(axis=1) instead. To get a de-fragmented frame, use `newframe = frame.copy()`\n",
      "  final[col_name] = final.Recnum.map(mapper2)\n"
     ]
    },
    {
     "name": "stdout",
     "output_type": "stream",
     "text": [
      "Merchnum_variability_avg_1 ---> Done\n",
      "Merchnum_variability_max_1 ---> Done\n",
      "Merchnum_variability_med_1 ---> Done\n",
      "Merchnum amount variables over past 1 ---> Done\n"
     ]
    },
    {
     "name": "stderr",
     "output_type": "stream",
     "text": [
      "C:\\Users\\Alex Tan\\AppData\\Local\\Temp\\ipykernel_15732\\2659022082.py:18: PerformanceWarning: DataFrame is highly fragmented.  This is usually the result of calling `frame.insert` many times, which has poor performance.  Consider joining all columns at once using pd.concat(axis=1) instead. To get a de-fragmented frame, use `newframe = frame.copy()`\n",
      "  final[col_name] = final.Recnum.map(mapper2)\n",
      "C:\\Users\\Alex Tan\\AppData\\Local\\Temp\\ipykernel_15732\\2659022082.py:23: PerformanceWarning: DataFrame is highly fragmented.  This is usually the result of calling `frame.insert` many times, which has poor performance.  Consider joining all columns at once using pd.concat(axis=1) instead. To get a de-fragmented frame, use `newframe = frame.copy()`\n",
      "  final[col_name] = final.Recnum.map(mapper2)\n",
      "C:\\Users\\Alex Tan\\AppData\\Local\\Temp\\ipykernel_15732\\2659022082.py:28: PerformanceWarning: DataFrame is highly fragmented.  This is usually the result of calling `frame.insert` many times, which has poor performance.  Consider joining all columns at once using pd.concat(axis=1) instead. To get a de-fragmented frame, use `newframe = frame.copy()`\n",
      "  final[col_name] = final.Recnum.map(mapper2)\n"
     ]
    },
    {
     "name": "stdout",
     "output_type": "stream",
     "text": [
      "Merchnum_variability_avg_3 ---> Done\n",
      "Merchnum_variability_max_3 ---> Done\n",
      "Merchnum_variability_med_3 ---> Done\n",
      "Merchnum amount variables over past 3 ---> Done\n"
     ]
    },
    {
     "name": "stderr",
     "output_type": "stream",
     "text": [
      "C:\\Users\\Alex Tan\\AppData\\Local\\Temp\\ipykernel_15732\\2659022082.py:18: PerformanceWarning: DataFrame is highly fragmented.  This is usually the result of calling `frame.insert` many times, which has poor performance.  Consider joining all columns at once using pd.concat(axis=1) instead. To get a de-fragmented frame, use `newframe = frame.copy()`\n",
      "  final[col_name] = final.Recnum.map(mapper2)\n",
      "C:\\Users\\Alex Tan\\AppData\\Local\\Temp\\ipykernel_15732\\2659022082.py:23: PerformanceWarning: DataFrame is highly fragmented.  This is usually the result of calling `frame.insert` many times, which has poor performance.  Consider joining all columns at once using pd.concat(axis=1) instead. To get a de-fragmented frame, use `newframe = frame.copy()`\n",
      "  final[col_name] = final.Recnum.map(mapper2)\n",
      "C:\\Users\\Alex Tan\\AppData\\Local\\Temp\\ipykernel_15732\\2659022082.py:28: PerformanceWarning: DataFrame is highly fragmented.  This is usually the result of calling `frame.insert` many times, which has poor performance.  Consider joining all columns at once using pd.concat(axis=1) instead. To get a de-fragmented frame, use `newframe = frame.copy()`\n",
      "  final[col_name] = final.Recnum.map(mapper2)\n"
     ]
    },
    {
     "name": "stdout",
     "output_type": "stream",
     "text": [
      "Merchnum_variability_avg_7 ---> Done\n",
      "Merchnum_variability_max_7 ---> Done\n",
      "Merchnum_variability_med_7 ---> Done\n",
      "Merchnum amount variables over past 7 ---> Done\n"
     ]
    },
    {
     "name": "stderr",
     "output_type": "stream",
     "text": [
      "C:\\Users\\Alex Tan\\AppData\\Local\\Temp\\ipykernel_15732\\2659022082.py:18: PerformanceWarning: DataFrame is highly fragmented.  This is usually the result of calling `frame.insert` many times, which has poor performance.  Consider joining all columns at once using pd.concat(axis=1) instead. To get a de-fragmented frame, use `newframe = frame.copy()`\n",
      "  final[col_name] = final.Recnum.map(mapper2)\n",
      "C:\\Users\\Alex Tan\\AppData\\Local\\Temp\\ipykernel_15732\\2659022082.py:23: PerformanceWarning: DataFrame is highly fragmented.  This is usually the result of calling `frame.insert` many times, which has poor performance.  Consider joining all columns at once using pd.concat(axis=1) instead. To get a de-fragmented frame, use `newframe = frame.copy()`\n",
      "  final[col_name] = final.Recnum.map(mapper2)\n"
     ]
    },
    {
     "name": "stdout",
     "output_type": "stream",
     "text": [
      "Merchnum_variability_avg_14 ---> Done\n",
      "Merchnum_variability_max_14 ---> Done\n"
     ]
    },
    {
     "name": "stderr",
     "output_type": "stream",
     "text": [
      "C:\\Users\\Alex Tan\\AppData\\Local\\Temp\\ipykernel_15732\\2659022082.py:28: PerformanceWarning: DataFrame is highly fragmented.  This is usually the result of calling `frame.insert` many times, which has poor performance.  Consider joining all columns at once using pd.concat(axis=1) instead. To get a de-fragmented frame, use `newframe = frame.copy()`\n",
      "  final[col_name] = final.Recnum.map(mapper2)\n"
     ]
    },
    {
     "name": "stdout",
     "output_type": "stream",
     "text": [
      "Merchnum_variability_med_14 ---> Done\n",
      "Merchnum amount variables over past 14 ---> Done\n"
     ]
    },
    {
     "name": "stderr",
     "output_type": "stream",
     "text": [
      "C:\\Users\\Alex Tan\\AppData\\Local\\Temp\\ipykernel_15732\\2659022082.py:18: PerformanceWarning: DataFrame is highly fragmented.  This is usually the result of calling `frame.insert` many times, which has poor performance.  Consider joining all columns at once using pd.concat(axis=1) instead. To get a de-fragmented frame, use `newframe = frame.copy()`\n",
      "  final[col_name] = final.Recnum.map(mapper2)\n",
      "C:\\Users\\Alex Tan\\AppData\\Local\\Temp\\ipykernel_15732\\2659022082.py:23: PerformanceWarning: DataFrame is highly fragmented.  This is usually the result of calling `frame.insert` many times, which has poor performance.  Consider joining all columns at once using pd.concat(axis=1) instead. To get a de-fragmented frame, use `newframe = frame.copy()`\n",
      "  final[col_name] = final.Recnum.map(mapper2)\n"
     ]
    },
    {
     "name": "stdout",
     "output_type": "stream",
     "text": [
      "Merchnum_variability_avg_30 ---> Done\n",
      "Merchnum_variability_max_30 ---> Done\n"
     ]
    },
    {
     "name": "stderr",
     "output_type": "stream",
     "text": [
      "C:\\Users\\Alex Tan\\AppData\\Local\\Temp\\ipykernel_15732\\2659022082.py:28: PerformanceWarning: DataFrame is highly fragmented.  This is usually the result of calling `frame.insert` many times, which has poor performance.  Consider joining all columns at once using pd.concat(axis=1) instead. To get a de-fragmented frame, use `newframe = frame.copy()`\n",
      "  final[col_name] = final.Recnum.map(mapper2)\n"
     ]
    },
    {
     "name": "stdout",
     "output_type": "stream",
     "text": [
      "Merchnum_variability_med_30 ---> Done\n",
      "Merchnum amount variables over past 30 ---> Done\n",
      "Run time for the last entity ----------------- 17.648566399999936s\n"
     ]
    },
    {
     "name": "stderr",
     "output_type": "stream",
     "text": [
      "C:\\Users\\Alex Tan\\AppData\\Local\\Temp\\ipykernel_15732\\2659022082.py:18: PerformanceWarning: DataFrame is highly fragmented.  This is usually the result of calling `frame.insert` many times, which has poor performance.  Consider joining all columns at once using pd.concat(axis=1) instead. To get a de-fragmented frame, use `newframe = frame.copy()`\n",
      "  final[col_name] = final.Recnum.map(mapper2)\n",
      "C:\\Users\\Alex Tan\\AppData\\Local\\Temp\\ipykernel_15732\\2659022082.py:23: PerformanceWarning: DataFrame is highly fragmented.  This is usually the result of calling `frame.insert` many times, which has poor performance.  Consider joining all columns at once using pd.concat(axis=1) instead. To get a de-fragmented frame, use `newframe = frame.copy()`\n",
      "  final[col_name] = final.Recnum.map(mapper2)\n",
      "C:\\Users\\Alex Tan\\AppData\\Local\\Temp\\ipykernel_15732\\2659022082.py:28: PerformanceWarning: DataFrame is highly fragmented.  This is usually the result of calling `frame.insert` many times, which has poor performance.  Consider joining all columns at once using pd.concat(axis=1) instead. To get a de-fragmented frame, use `newframe = frame.copy()`\n",
      "  final[col_name] = final.Recnum.map(mapper2)\n",
      "C:\\Users\\Alex Tan\\AppData\\Local\\Temp\\ipykernel_15732\\2659022082.py:18: PerformanceWarning: DataFrame is highly fragmented.  This is usually the result of calling `frame.insert` many times, which has poor performance.  Consider joining all columns at once using pd.concat(axis=1) instead. To get a de-fragmented frame, use `newframe = frame.copy()`\n",
      "  final[col_name] = final.Recnum.map(mapper2)\n",
      "C:\\Users\\Alex Tan\\AppData\\Local\\Temp\\ipykernel_15732\\2659022082.py:23: PerformanceWarning: DataFrame is highly fragmented.  This is usually the result of calling `frame.insert` many times, which has poor performance.  Consider joining all columns at once using pd.concat(axis=1) instead. To get a de-fragmented frame, use `newframe = frame.copy()`\n",
      "  final[col_name] = final.Recnum.map(mapper2)\n"
     ]
    },
    {
     "name": "stdout",
     "output_type": "stream",
     "text": [
      "card_merch_variability_avg_0 ---> Done\n",
      "card_merch_variability_max_0 ---> Done\n",
      "card_merch_variability_med_0 ---> Done\n",
      "card_merch amount variables over past 0 ---> Done\n",
      "card_merch_variability_avg_1 ---> Done\n",
      "card_merch_variability_max_1 ---> Done\n"
     ]
    },
    {
     "name": "stderr",
     "output_type": "stream",
     "text": [
      "C:\\Users\\Alex Tan\\AppData\\Local\\Temp\\ipykernel_15732\\2659022082.py:28: PerformanceWarning: DataFrame is highly fragmented.  This is usually the result of calling `frame.insert` many times, which has poor performance.  Consider joining all columns at once using pd.concat(axis=1) instead. To get a de-fragmented frame, use `newframe = frame.copy()`\n",
      "  final[col_name] = final.Recnum.map(mapper2)\n",
      "C:\\Users\\Alex Tan\\AppData\\Local\\Temp\\ipykernel_15732\\2659022082.py:18: PerformanceWarning: DataFrame is highly fragmented.  This is usually the result of calling `frame.insert` many times, which has poor performance.  Consider joining all columns at once using pd.concat(axis=1) instead. To get a de-fragmented frame, use `newframe = frame.copy()`\n",
      "  final[col_name] = final.Recnum.map(mapper2)\n",
      "C:\\Users\\Alex Tan\\AppData\\Local\\Temp\\ipykernel_15732\\2659022082.py:23: PerformanceWarning: DataFrame is highly fragmented.  This is usually the result of calling `frame.insert` many times, which has poor performance.  Consider joining all columns at once using pd.concat(axis=1) instead. To get a de-fragmented frame, use `newframe = frame.copy()`\n",
      "  final[col_name] = final.Recnum.map(mapper2)\n",
      "C:\\Users\\Alex Tan\\AppData\\Local\\Temp\\ipykernel_15732\\2659022082.py:28: PerformanceWarning: DataFrame is highly fragmented.  This is usually the result of calling `frame.insert` many times, which has poor performance.  Consider joining all columns at once using pd.concat(axis=1) instead. To get a de-fragmented frame, use `newframe = frame.copy()`\n",
      "  final[col_name] = final.Recnum.map(mapper2)\n"
     ]
    },
    {
     "name": "stdout",
     "output_type": "stream",
     "text": [
      "card_merch_variability_med_1 ---> Done\n",
      "card_merch amount variables over past 1 ---> Done\n",
      "card_merch_variability_avg_3 ---> Done\n",
      "card_merch_variability_max_3 ---> Done\n",
      "card_merch_variability_med_3 ---> Done\n",
      "card_merch amount variables over past 3 ---> Done\n"
     ]
    },
    {
     "name": "stderr",
     "output_type": "stream",
     "text": [
      "C:\\Users\\Alex Tan\\AppData\\Local\\Temp\\ipykernel_15732\\2659022082.py:18: PerformanceWarning: DataFrame is highly fragmented.  This is usually the result of calling `frame.insert` many times, which has poor performance.  Consider joining all columns at once using pd.concat(axis=1) instead. To get a de-fragmented frame, use `newframe = frame.copy()`\n",
      "  final[col_name] = final.Recnum.map(mapper2)\n",
      "C:\\Users\\Alex Tan\\AppData\\Local\\Temp\\ipykernel_15732\\2659022082.py:23: PerformanceWarning: DataFrame is highly fragmented.  This is usually the result of calling `frame.insert` many times, which has poor performance.  Consider joining all columns at once using pd.concat(axis=1) instead. To get a de-fragmented frame, use `newframe = frame.copy()`\n",
      "  final[col_name] = final.Recnum.map(mapper2)\n",
      "C:\\Users\\Alex Tan\\AppData\\Local\\Temp\\ipykernel_15732\\2659022082.py:28: PerformanceWarning: DataFrame is highly fragmented.  This is usually the result of calling `frame.insert` many times, which has poor performance.  Consider joining all columns at once using pd.concat(axis=1) instead. To get a de-fragmented frame, use `newframe = frame.copy()`\n",
      "  final[col_name] = final.Recnum.map(mapper2)\n"
     ]
    },
    {
     "name": "stdout",
     "output_type": "stream",
     "text": [
      "card_merch_variability_avg_7 ---> Done\n",
      "card_merch_variability_max_7 ---> Done\n",
      "card_merch_variability_med_7 ---> Done\n",
      "card_merch amount variables over past 7 ---> Done\n"
     ]
    },
    {
     "name": "stderr",
     "output_type": "stream",
     "text": [
      "C:\\Users\\Alex Tan\\AppData\\Local\\Temp\\ipykernel_15732\\2659022082.py:18: PerformanceWarning: DataFrame is highly fragmented.  This is usually the result of calling `frame.insert` many times, which has poor performance.  Consider joining all columns at once using pd.concat(axis=1) instead. To get a de-fragmented frame, use `newframe = frame.copy()`\n",
      "  final[col_name] = final.Recnum.map(mapper2)\n",
      "C:\\Users\\Alex Tan\\AppData\\Local\\Temp\\ipykernel_15732\\2659022082.py:23: PerformanceWarning: DataFrame is highly fragmented.  This is usually the result of calling `frame.insert` many times, which has poor performance.  Consider joining all columns at once using pd.concat(axis=1) instead. To get a de-fragmented frame, use `newframe = frame.copy()`\n",
      "  final[col_name] = final.Recnum.map(mapper2)\n",
      "C:\\Users\\Alex Tan\\AppData\\Local\\Temp\\ipykernel_15732\\2659022082.py:28: PerformanceWarning: DataFrame is highly fragmented.  This is usually the result of calling `frame.insert` many times, which has poor performance.  Consider joining all columns at once using pd.concat(axis=1) instead. To get a de-fragmented frame, use `newframe = frame.copy()`\n",
      "  final[col_name] = final.Recnum.map(mapper2)\n"
     ]
    },
    {
     "name": "stdout",
     "output_type": "stream",
     "text": [
      "card_merch_variability_avg_14 ---> Done\n",
      "card_merch_variability_max_14 ---> Done\n",
      "card_merch_variability_med_14 ---> Done\n",
      "card_merch amount variables over past 14 ---> Done\n"
     ]
    },
    {
     "name": "stderr",
     "output_type": "stream",
     "text": [
      "C:\\Users\\Alex Tan\\AppData\\Local\\Temp\\ipykernel_15732\\2659022082.py:18: PerformanceWarning: DataFrame is highly fragmented.  This is usually the result of calling `frame.insert` many times, which has poor performance.  Consider joining all columns at once using pd.concat(axis=1) instead. To get a de-fragmented frame, use `newframe = frame.copy()`\n",
      "  final[col_name] = final.Recnum.map(mapper2)\n",
      "C:\\Users\\Alex Tan\\AppData\\Local\\Temp\\ipykernel_15732\\2659022082.py:23: PerformanceWarning: DataFrame is highly fragmented.  This is usually the result of calling `frame.insert` many times, which has poor performance.  Consider joining all columns at once using pd.concat(axis=1) instead. To get a de-fragmented frame, use `newframe = frame.copy()`\n",
      "  final[col_name] = final.Recnum.map(mapper2)\n",
      "C:\\Users\\Alex Tan\\AppData\\Local\\Temp\\ipykernel_15732\\2659022082.py:28: PerformanceWarning: DataFrame is highly fragmented.  This is usually the result of calling `frame.insert` many times, which has poor performance.  Consider joining all columns at once using pd.concat(axis=1) instead. To get a de-fragmented frame, use `newframe = frame.copy()`\n",
      "  final[col_name] = final.Recnum.map(mapper2)\n"
     ]
    },
    {
     "name": "stdout",
     "output_type": "stream",
     "text": [
      "card_merch_variability_avg_30 ---> Done\n",
      "card_merch_variability_max_30 ---> Done\n",
      "card_merch_variability_med_30 ---> Done\n",
      "card_merch amount variables over past 30 ---> Done\n",
      "Run time for the last entity ----------------- 2.160459200000105s\n"
     ]
    },
    {
     "name": "stderr",
     "output_type": "stream",
     "text": [
      "C:\\Users\\Alex Tan\\AppData\\Local\\Temp\\ipykernel_15732\\2659022082.py:18: PerformanceWarning: DataFrame is highly fragmented.  This is usually the result of calling `frame.insert` many times, which has poor performance.  Consider joining all columns at once using pd.concat(axis=1) instead. To get a de-fragmented frame, use `newframe = frame.copy()`\n",
      "  final[col_name] = final.Recnum.map(mapper2)\n",
      "C:\\Users\\Alex Tan\\AppData\\Local\\Temp\\ipykernel_15732\\2659022082.py:23: PerformanceWarning: DataFrame is highly fragmented.  This is usually the result of calling `frame.insert` many times, which has poor performance.  Consider joining all columns at once using pd.concat(axis=1) instead. To get a de-fragmented frame, use `newframe = frame.copy()`\n",
      "  final[col_name] = final.Recnum.map(mapper2)\n",
      "C:\\Users\\Alex Tan\\AppData\\Local\\Temp\\ipykernel_15732\\2659022082.py:28: PerformanceWarning: DataFrame is highly fragmented.  This is usually the result of calling `frame.insert` many times, which has poor performance.  Consider joining all columns at once using pd.concat(axis=1) instead. To get a de-fragmented frame, use `newframe = frame.copy()`\n",
      "  final[col_name] = final.Recnum.map(mapper2)\n",
      "C:\\Users\\Alex Tan\\AppData\\Local\\Temp\\ipykernel_15732\\2659022082.py:18: PerformanceWarning: DataFrame is highly fragmented.  This is usually the result of calling `frame.insert` many times, which has poor performance.  Consider joining all columns at once using pd.concat(axis=1) instead. To get a de-fragmented frame, use `newframe = frame.copy()`\n",
      "  final[col_name] = final.Recnum.map(mapper2)\n",
      "C:\\Users\\Alex Tan\\AppData\\Local\\Temp\\ipykernel_15732\\2659022082.py:23: PerformanceWarning: DataFrame is highly fragmented.  This is usually the result of calling `frame.insert` many times, which has poor performance.  Consider joining all columns at once using pd.concat(axis=1) instead. To get a de-fragmented frame, use `newframe = frame.copy()`\n",
      "  final[col_name] = final.Recnum.map(mapper2)\n"
     ]
    },
    {
     "name": "stdout",
     "output_type": "stream",
     "text": [
      "card_zip_variability_avg_0 ---> Done\n",
      "card_zip_variability_max_0 ---> Done\n",
      "card_zip_variability_med_0 ---> Done\n",
      "card_zip amount variables over past 0 ---> Done\n",
      "card_zip_variability_avg_1 ---> Done\n",
      "card_zip_variability_max_1 ---> Done\n"
     ]
    },
    {
     "name": "stderr",
     "output_type": "stream",
     "text": [
      "C:\\Users\\Alex Tan\\AppData\\Local\\Temp\\ipykernel_15732\\2659022082.py:28: PerformanceWarning: DataFrame is highly fragmented.  This is usually the result of calling `frame.insert` many times, which has poor performance.  Consider joining all columns at once using pd.concat(axis=1) instead. To get a de-fragmented frame, use `newframe = frame.copy()`\n",
      "  final[col_name] = final.Recnum.map(mapper2)\n",
      "C:\\Users\\Alex Tan\\AppData\\Local\\Temp\\ipykernel_15732\\2659022082.py:18: PerformanceWarning: DataFrame is highly fragmented.  This is usually the result of calling `frame.insert` many times, which has poor performance.  Consider joining all columns at once using pd.concat(axis=1) instead. To get a de-fragmented frame, use `newframe = frame.copy()`\n",
      "  final[col_name] = final.Recnum.map(mapper2)\n",
      "C:\\Users\\Alex Tan\\AppData\\Local\\Temp\\ipykernel_15732\\2659022082.py:23: PerformanceWarning: DataFrame is highly fragmented.  This is usually the result of calling `frame.insert` many times, which has poor performance.  Consider joining all columns at once using pd.concat(axis=1) instead. To get a de-fragmented frame, use `newframe = frame.copy()`\n",
      "  final[col_name] = final.Recnum.map(mapper2)\n",
      "C:\\Users\\Alex Tan\\AppData\\Local\\Temp\\ipykernel_15732\\2659022082.py:28: PerformanceWarning: DataFrame is highly fragmented.  This is usually the result of calling `frame.insert` many times, which has poor performance.  Consider joining all columns at once using pd.concat(axis=1) instead. To get a de-fragmented frame, use `newframe = frame.copy()`\n",
      "  final[col_name] = final.Recnum.map(mapper2)\n"
     ]
    },
    {
     "name": "stdout",
     "output_type": "stream",
     "text": [
      "card_zip_variability_med_1 ---> Done\n",
      "card_zip amount variables over past 1 ---> Done\n",
      "card_zip_variability_avg_3 ---> Done\n",
      "card_zip_variability_max_3 ---> Done\n",
      "card_zip_variability_med_3 ---> Done\n",
      "card_zip amount variables over past 3 ---> Done\n"
     ]
    },
    {
     "name": "stderr",
     "output_type": "stream",
     "text": [
      "C:\\Users\\Alex Tan\\AppData\\Local\\Temp\\ipykernel_15732\\2659022082.py:18: PerformanceWarning: DataFrame is highly fragmented.  This is usually the result of calling `frame.insert` many times, which has poor performance.  Consider joining all columns at once using pd.concat(axis=1) instead. To get a de-fragmented frame, use `newframe = frame.copy()`\n",
      "  final[col_name] = final.Recnum.map(mapper2)\n",
      "C:\\Users\\Alex Tan\\AppData\\Local\\Temp\\ipykernel_15732\\2659022082.py:23: PerformanceWarning: DataFrame is highly fragmented.  This is usually the result of calling `frame.insert` many times, which has poor performance.  Consider joining all columns at once using pd.concat(axis=1) instead. To get a de-fragmented frame, use `newframe = frame.copy()`\n",
      "  final[col_name] = final.Recnum.map(mapper2)\n",
      "C:\\Users\\Alex Tan\\AppData\\Local\\Temp\\ipykernel_15732\\2659022082.py:28: PerformanceWarning: DataFrame is highly fragmented.  This is usually the result of calling `frame.insert` many times, which has poor performance.  Consider joining all columns at once using pd.concat(axis=1) instead. To get a de-fragmented frame, use `newframe = frame.copy()`\n",
      "  final[col_name] = final.Recnum.map(mapper2)\n",
      "C:\\Users\\Alex Tan\\AppData\\Local\\Temp\\ipykernel_15732\\2659022082.py:18: PerformanceWarning: DataFrame is highly fragmented.  This is usually the result of calling `frame.insert` many times, which has poor performance.  Consider joining all columns at once using pd.concat(axis=1) instead. To get a de-fragmented frame, use `newframe = frame.copy()`\n",
      "  final[col_name] = final.Recnum.map(mapper2)\n"
     ]
    },
    {
     "name": "stdout",
     "output_type": "stream",
     "text": [
      "card_zip_variability_avg_7 ---> Done\n",
      "card_zip_variability_max_7 ---> Done\n",
      "card_zip_variability_med_7 ---> Done\n",
      "card_zip amount variables over past 7 ---> Done\n",
      "card_zip_variability_avg_14 ---> Done\n"
     ]
    },
    {
     "name": "stderr",
     "output_type": "stream",
     "text": [
      "C:\\Users\\Alex Tan\\AppData\\Local\\Temp\\ipykernel_15732\\2659022082.py:23: PerformanceWarning: DataFrame is highly fragmented.  This is usually the result of calling `frame.insert` many times, which has poor performance.  Consider joining all columns at once using pd.concat(axis=1) instead. To get a de-fragmented frame, use `newframe = frame.copy()`\n",
      "  final[col_name] = final.Recnum.map(mapper2)\n",
      "C:\\Users\\Alex Tan\\AppData\\Local\\Temp\\ipykernel_15732\\2659022082.py:28: PerformanceWarning: DataFrame is highly fragmented.  This is usually the result of calling `frame.insert` many times, which has poor performance.  Consider joining all columns at once using pd.concat(axis=1) instead. To get a de-fragmented frame, use `newframe = frame.copy()`\n",
      "  final[col_name] = final.Recnum.map(mapper2)\n",
      "C:\\Users\\Alex Tan\\AppData\\Local\\Temp\\ipykernel_15732\\2659022082.py:18: PerformanceWarning: DataFrame is highly fragmented.  This is usually the result of calling `frame.insert` many times, which has poor performance.  Consider joining all columns at once using pd.concat(axis=1) instead. To get a de-fragmented frame, use `newframe = frame.copy()`\n",
      "  final[col_name] = final.Recnum.map(mapper2)\n"
     ]
    },
    {
     "name": "stdout",
     "output_type": "stream",
     "text": [
      "card_zip_variability_max_14 ---> Done\n",
      "card_zip_variability_med_14 ---> Done\n",
      "card_zip amount variables over past 14 ---> Done\n",
      "card_zip_variability_avg_30 ---> Done\n"
     ]
    },
    {
     "name": "stderr",
     "output_type": "stream",
     "text": [
      "C:\\Users\\Alex Tan\\AppData\\Local\\Temp\\ipykernel_15732\\2659022082.py:23: PerformanceWarning: DataFrame is highly fragmented.  This is usually the result of calling `frame.insert` many times, which has poor performance.  Consider joining all columns at once using pd.concat(axis=1) instead. To get a de-fragmented frame, use `newframe = frame.copy()`\n",
      "  final[col_name] = final.Recnum.map(mapper2)\n",
      "C:\\Users\\Alex Tan\\AppData\\Local\\Temp\\ipykernel_15732\\2659022082.py:28: PerformanceWarning: DataFrame is highly fragmented.  This is usually the result of calling `frame.insert` many times, which has poor performance.  Consider joining all columns at once using pd.concat(axis=1) instead. To get a de-fragmented frame, use `newframe = frame.copy()`\n",
      "  final[col_name] = final.Recnum.map(mapper2)\n"
     ]
    },
    {
     "name": "stdout",
     "output_type": "stream",
     "text": [
      "card_zip_variability_max_30 ---> Done\n",
      "card_zip_variability_med_30 ---> Done\n",
      "card_zip amount variables over past 30 ---> Done\n",
      "Run time for the last entity ----------------- 1.4516388000001825s\n"
     ]
    },
    {
     "name": "stderr",
     "output_type": "stream",
     "text": [
      "C:\\Users\\Alex Tan\\AppData\\Local\\Temp\\ipykernel_15732\\2659022082.py:18: PerformanceWarning: DataFrame is highly fragmented.  This is usually the result of calling `frame.insert` many times, which has poor performance.  Consider joining all columns at once using pd.concat(axis=1) instead. To get a de-fragmented frame, use `newframe = frame.copy()`\n",
      "  final[col_name] = final.Recnum.map(mapper2)\n",
      "C:\\Users\\Alex Tan\\AppData\\Local\\Temp\\ipykernel_15732\\2659022082.py:23: PerformanceWarning: DataFrame is highly fragmented.  This is usually the result of calling `frame.insert` many times, which has poor performance.  Consider joining all columns at once using pd.concat(axis=1) instead. To get a de-fragmented frame, use `newframe = frame.copy()`\n",
      "  final[col_name] = final.Recnum.map(mapper2)\n",
      "C:\\Users\\Alex Tan\\AppData\\Local\\Temp\\ipykernel_15732\\2659022082.py:28: PerformanceWarning: DataFrame is highly fragmented.  This is usually the result of calling `frame.insert` many times, which has poor performance.  Consider joining all columns at once using pd.concat(axis=1) instead. To get a de-fragmented frame, use `newframe = frame.copy()`\n",
      "  final[col_name] = final.Recnum.map(mapper2)\n"
     ]
    },
    {
     "name": "stdout",
     "output_type": "stream",
     "text": [
      "merch_zip_variability_avg_0 ---> Done\n",
      "merch_zip_variability_max_0 ---> Done\n",
      "merch_zip_variability_med_0 ---> Done\n",
      "merch_zip amount variables over past 0 ---> Done\n"
     ]
    },
    {
     "name": "stderr",
     "output_type": "stream",
     "text": [
      "C:\\Users\\Alex Tan\\AppData\\Local\\Temp\\ipykernel_15732\\2659022082.py:18: PerformanceWarning: DataFrame is highly fragmented.  This is usually the result of calling `frame.insert` many times, which has poor performance.  Consider joining all columns at once using pd.concat(axis=1) instead. To get a de-fragmented frame, use `newframe = frame.copy()`\n",
      "  final[col_name] = final.Recnum.map(mapper2)\n",
      "C:\\Users\\Alex Tan\\AppData\\Local\\Temp\\ipykernel_15732\\2659022082.py:23: PerformanceWarning: DataFrame is highly fragmented.  This is usually the result of calling `frame.insert` many times, which has poor performance.  Consider joining all columns at once using pd.concat(axis=1) instead. To get a de-fragmented frame, use `newframe = frame.copy()`\n",
      "  final[col_name] = final.Recnum.map(mapper2)\n",
      "C:\\Users\\Alex Tan\\AppData\\Local\\Temp\\ipykernel_15732\\2659022082.py:28: PerformanceWarning: DataFrame is highly fragmented.  This is usually the result of calling `frame.insert` many times, which has poor performance.  Consider joining all columns at once using pd.concat(axis=1) instead. To get a de-fragmented frame, use `newframe = frame.copy()`\n",
      "  final[col_name] = final.Recnum.map(mapper2)\n"
     ]
    },
    {
     "name": "stdout",
     "output_type": "stream",
     "text": [
      "merch_zip_variability_avg_1 ---> Done\n",
      "merch_zip_variability_max_1 ---> Done\n",
      "merch_zip_variability_med_1 ---> Done\n",
      "merch_zip amount variables over past 1 ---> Done\n"
     ]
    },
    {
     "name": "stderr",
     "output_type": "stream",
     "text": [
      "C:\\Users\\Alex Tan\\AppData\\Local\\Temp\\ipykernel_15732\\2659022082.py:18: PerformanceWarning: DataFrame is highly fragmented.  This is usually the result of calling `frame.insert` many times, which has poor performance.  Consider joining all columns at once using pd.concat(axis=1) instead. To get a de-fragmented frame, use `newframe = frame.copy()`\n",
      "  final[col_name] = final.Recnum.map(mapper2)\n",
      "C:\\Users\\Alex Tan\\AppData\\Local\\Temp\\ipykernel_15732\\2659022082.py:23: PerformanceWarning: DataFrame is highly fragmented.  This is usually the result of calling `frame.insert` many times, which has poor performance.  Consider joining all columns at once using pd.concat(axis=1) instead. To get a de-fragmented frame, use `newframe = frame.copy()`\n",
      "  final[col_name] = final.Recnum.map(mapper2)\n",
      "C:\\Users\\Alex Tan\\AppData\\Local\\Temp\\ipykernel_15732\\2659022082.py:28: PerformanceWarning: DataFrame is highly fragmented.  This is usually the result of calling `frame.insert` many times, which has poor performance.  Consider joining all columns at once using pd.concat(axis=1) instead. To get a de-fragmented frame, use `newframe = frame.copy()`\n",
      "  final[col_name] = final.Recnum.map(mapper2)\n"
     ]
    },
    {
     "name": "stdout",
     "output_type": "stream",
     "text": [
      "merch_zip_variability_avg_3 ---> Done\n",
      "merch_zip_variability_max_3 ---> Done\n",
      "merch_zip_variability_med_3 ---> Done\n",
      "merch_zip amount variables over past 3 ---> Done\n"
     ]
    },
    {
     "name": "stderr",
     "output_type": "stream",
     "text": [
      "C:\\Users\\Alex Tan\\AppData\\Local\\Temp\\ipykernel_15732\\2659022082.py:18: PerformanceWarning: DataFrame is highly fragmented.  This is usually the result of calling `frame.insert` many times, which has poor performance.  Consider joining all columns at once using pd.concat(axis=1) instead. To get a de-fragmented frame, use `newframe = frame.copy()`\n",
      "  final[col_name] = final.Recnum.map(mapper2)\n",
      "C:\\Users\\Alex Tan\\AppData\\Local\\Temp\\ipykernel_15732\\2659022082.py:23: PerformanceWarning: DataFrame is highly fragmented.  This is usually the result of calling `frame.insert` many times, which has poor performance.  Consider joining all columns at once using pd.concat(axis=1) instead. To get a de-fragmented frame, use `newframe = frame.copy()`\n",
      "  final[col_name] = final.Recnum.map(mapper2)\n",
      "C:\\Users\\Alex Tan\\AppData\\Local\\Temp\\ipykernel_15732\\2659022082.py:28: PerformanceWarning: DataFrame is highly fragmented.  This is usually the result of calling `frame.insert` many times, which has poor performance.  Consider joining all columns at once using pd.concat(axis=1) instead. To get a de-fragmented frame, use `newframe = frame.copy()`\n",
      "  final[col_name] = final.Recnum.map(mapper2)\n"
     ]
    },
    {
     "name": "stdout",
     "output_type": "stream",
     "text": [
      "merch_zip_variability_avg_7 ---> Done\n",
      "merch_zip_variability_max_7 ---> Done\n",
      "merch_zip_variability_med_7 ---> Done\n",
      "merch_zip amount variables over past 7 ---> Done\n"
     ]
    },
    {
     "name": "stderr",
     "output_type": "stream",
     "text": [
      "C:\\Users\\Alex Tan\\AppData\\Local\\Temp\\ipykernel_15732\\2659022082.py:18: PerformanceWarning: DataFrame is highly fragmented.  This is usually the result of calling `frame.insert` many times, which has poor performance.  Consider joining all columns at once using pd.concat(axis=1) instead. To get a de-fragmented frame, use `newframe = frame.copy()`\n",
      "  final[col_name] = final.Recnum.map(mapper2)\n"
     ]
    },
    {
     "name": "stdout",
     "output_type": "stream",
     "text": [
      "merch_zip_variability_avg_14 ---> Done\n"
     ]
    },
    {
     "name": "stderr",
     "output_type": "stream",
     "text": [
      "C:\\Users\\Alex Tan\\AppData\\Local\\Temp\\ipykernel_15732\\2659022082.py:23: PerformanceWarning: DataFrame is highly fragmented.  This is usually the result of calling `frame.insert` many times, which has poor performance.  Consider joining all columns at once using pd.concat(axis=1) instead. To get a de-fragmented frame, use `newframe = frame.copy()`\n",
      "  final[col_name] = final.Recnum.map(mapper2)\n"
     ]
    },
    {
     "name": "stdout",
     "output_type": "stream",
     "text": [
      "merch_zip_variability_max_14 ---> Done\n"
     ]
    },
    {
     "name": "stderr",
     "output_type": "stream",
     "text": [
      "C:\\Users\\Alex Tan\\AppData\\Local\\Temp\\ipykernel_15732\\2659022082.py:28: PerformanceWarning: DataFrame is highly fragmented.  This is usually the result of calling `frame.insert` many times, which has poor performance.  Consider joining all columns at once using pd.concat(axis=1) instead. To get a de-fragmented frame, use `newframe = frame.copy()`\n",
      "  final[col_name] = final.Recnum.map(mapper2)\n"
     ]
    },
    {
     "name": "stdout",
     "output_type": "stream",
     "text": [
      "merch_zip_variability_med_14 ---> Done\n",
      "merch_zip amount variables over past 14 ---> Done\n"
     ]
    },
    {
     "name": "stderr",
     "output_type": "stream",
     "text": [
      "C:\\Users\\Alex Tan\\AppData\\Local\\Temp\\ipykernel_15732\\2659022082.py:18: PerformanceWarning: DataFrame is highly fragmented.  This is usually the result of calling `frame.insert` many times, which has poor performance.  Consider joining all columns at once using pd.concat(axis=1) instead. To get a de-fragmented frame, use `newframe = frame.copy()`\n",
      "  final[col_name] = final.Recnum.map(mapper2)\n",
      "C:\\Users\\Alex Tan\\AppData\\Local\\Temp\\ipykernel_15732\\2659022082.py:23: PerformanceWarning: DataFrame is highly fragmented.  This is usually the result of calling `frame.insert` many times, which has poor performance.  Consider joining all columns at once using pd.concat(axis=1) instead. To get a de-fragmented frame, use `newframe = frame.copy()`\n",
      "  final[col_name] = final.Recnum.map(mapper2)\n"
     ]
    },
    {
     "name": "stdout",
     "output_type": "stream",
     "text": [
      "merch_zip_variability_avg_30 ---> Done\n",
      "merch_zip_variability_max_30 ---> Done\n"
     ]
    },
    {
     "name": "stderr",
     "output_type": "stream",
     "text": [
      "C:\\Users\\Alex Tan\\AppData\\Local\\Temp\\ipykernel_15732\\2659022082.py:28: PerformanceWarning: DataFrame is highly fragmented.  This is usually the result of calling `frame.insert` many times, which has poor performance.  Consider joining all columns at once using pd.concat(axis=1) instead. To get a de-fragmented frame, use `newframe = frame.copy()`\n",
      "  final[col_name] = final.Recnum.map(mapper2)\n"
     ]
    },
    {
     "name": "stdout",
     "output_type": "stream",
     "text": [
      "merch_zip_variability_med_30 ---> Done\n",
      "merch_zip amount variables over past 30 ---> Done\n",
      "Run time for the last entity ----------------- 17.76813549999997s\n"
     ]
    },
    {
     "name": "stderr",
     "output_type": "stream",
     "text": [
      "C:\\Users\\Alex Tan\\AppData\\Local\\Temp\\ipykernel_15732\\2659022082.py:18: PerformanceWarning: DataFrame is highly fragmented.  This is usually the result of calling `frame.insert` many times, which has poor performance.  Consider joining all columns at once using pd.concat(axis=1) instead. To get a de-fragmented frame, use `newframe = frame.copy()`\n",
      "  final[col_name] = final.Recnum.map(mapper2)\n",
      "C:\\Users\\Alex Tan\\AppData\\Local\\Temp\\ipykernel_15732\\2659022082.py:23: PerformanceWarning: DataFrame is highly fragmented.  This is usually the result of calling `frame.insert` many times, which has poor performance.  Consider joining all columns at once using pd.concat(axis=1) instead. To get a de-fragmented frame, use `newframe = frame.copy()`\n",
      "  final[col_name] = final.Recnum.map(mapper2)\n",
      "C:\\Users\\Alex Tan\\AppData\\Local\\Temp\\ipykernel_15732\\2659022082.py:28: PerformanceWarning: DataFrame is highly fragmented.  This is usually the result of calling `frame.insert` many times, which has poor performance.  Consider joining all columns at once using pd.concat(axis=1) instead. To get a de-fragmented frame, use `newframe = frame.copy()`\n",
      "  final[col_name] = final.Recnum.map(mapper2)\n"
     ]
    },
    {
     "name": "stdout",
     "output_type": "stream",
     "text": [
      "zip3_variability_avg_0 ---> Done\n",
      "zip3_variability_max_0 ---> Done\n",
      "zip3_variability_med_0 ---> Done\n",
      "zip3 amount variables over past 0 ---> Done\n"
     ]
    },
    {
     "name": "stderr",
     "output_type": "stream",
     "text": [
      "C:\\Users\\Alex Tan\\AppData\\Local\\Temp\\ipykernel_15732\\2659022082.py:18: PerformanceWarning: DataFrame is highly fragmented.  This is usually the result of calling `frame.insert` many times, which has poor performance.  Consider joining all columns at once using pd.concat(axis=1) instead. To get a de-fragmented frame, use `newframe = frame.copy()`\n",
      "  final[col_name] = final.Recnum.map(mapper2)\n",
      "C:\\Users\\Alex Tan\\AppData\\Local\\Temp\\ipykernel_15732\\2659022082.py:23: PerformanceWarning: DataFrame is highly fragmented.  This is usually the result of calling `frame.insert` many times, which has poor performance.  Consider joining all columns at once using pd.concat(axis=1) instead. To get a de-fragmented frame, use `newframe = frame.copy()`\n",
      "  final[col_name] = final.Recnum.map(mapper2)\n",
      "C:\\Users\\Alex Tan\\AppData\\Local\\Temp\\ipykernel_15732\\2659022082.py:28: PerformanceWarning: DataFrame is highly fragmented.  This is usually the result of calling `frame.insert` many times, which has poor performance.  Consider joining all columns at once using pd.concat(axis=1) instead. To get a de-fragmented frame, use `newframe = frame.copy()`\n",
      "  final[col_name] = final.Recnum.map(mapper2)\n"
     ]
    },
    {
     "name": "stdout",
     "output_type": "stream",
     "text": [
      "zip3_variability_avg_1 ---> Done\n",
      "zip3_variability_max_1 ---> Done\n",
      "zip3_variability_med_1 ---> Done\n",
      "zip3 amount variables over past 1 ---> Done\n"
     ]
    },
    {
     "name": "stderr",
     "output_type": "stream",
     "text": [
      "C:\\Users\\Alex Tan\\AppData\\Local\\Temp\\ipykernel_15732\\2659022082.py:18: PerformanceWarning: DataFrame is highly fragmented.  This is usually the result of calling `frame.insert` many times, which has poor performance.  Consider joining all columns at once using pd.concat(axis=1) instead. To get a de-fragmented frame, use `newframe = frame.copy()`\n",
      "  final[col_name] = final.Recnum.map(mapper2)\n",
      "C:\\Users\\Alex Tan\\AppData\\Local\\Temp\\ipykernel_15732\\2659022082.py:23: PerformanceWarning: DataFrame is highly fragmented.  This is usually the result of calling `frame.insert` many times, which has poor performance.  Consider joining all columns at once using pd.concat(axis=1) instead. To get a de-fragmented frame, use `newframe = frame.copy()`\n",
      "  final[col_name] = final.Recnum.map(mapper2)\n",
      "C:\\Users\\Alex Tan\\AppData\\Local\\Temp\\ipykernel_15732\\2659022082.py:28: PerformanceWarning: DataFrame is highly fragmented.  This is usually the result of calling `frame.insert` many times, which has poor performance.  Consider joining all columns at once using pd.concat(axis=1) instead. To get a de-fragmented frame, use `newframe = frame.copy()`\n",
      "  final[col_name] = final.Recnum.map(mapper2)\n"
     ]
    },
    {
     "name": "stdout",
     "output_type": "stream",
     "text": [
      "zip3_variability_avg_3 ---> Done\n",
      "zip3_variability_max_3 ---> Done\n",
      "zip3_variability_med_3 ---> Done\n",
      "zip3 amount variables over past 3 ---> Done\n"
     ]
    },
    {
     "name": "stderr",
     "output_type": "stream",
     "text": [
      "C:\\Users\\Alex Tan\\AppData\\Local\\Temp\\ipykernel_15732\\2659022082.py:18: PerformanceWarning: DataFrame is highly fragmented.  This is usually the result of calling `frame.insert` many times, which has poor performance.  Consider joining all columns at once using pd.concat(axis=1) instead. To get a de-fragmented frame, use `newframe = frame.copy()`\n",
      "  final[col_name] = final.Recnum.map(mapper2)\n",
      "C:\\Users\\Alex Tan\\AppData\\Local\\Temp\\ipykernel_15732\\2659022082.py:23: PerformanceWarning: DataFrame is highly fragmented.  This is usually the result of calling `frame.insert` many times, which has poor performance.  Consider joining all columns at once using pd.concat(axis=1) instead. To get a de-fragmented frame, use `newframe = frame.copy()`\n",
      "  final[col_name] = final.Recnum.map(mapper2)\n"
     ]
    },
    {
     "name": "stdout",
     "output_type": "stream",
     "text": [
      "zip3_variability_avg_7 ---> Done\n",
      "zip3_variability_max_7 ---> Done\n"
     ]
    },
    {
     "name": "stderr",
     "output_type": "stream",
     "text": [
      "C:\\Users\\Alex Tan\\AppData\\Local\\Temp\\ipykernel_15732\\2659022082.py:28: PerformanceWarning: DataFrame is highly fragmented.  This is usually the result of calling `frame.insert` many times, which has poor performance.  Consider joining all columns at once using pd.concat(axis=1) instead. To get a de-fragmented frame, use `newframe = frame.copy()`\n",
      "  final[col_name] = final.Recnum.map(mapper2)\n"
     ]
    },
    {
     "name": "stdout",
     "output_type": "stream",
     "text": [
      "zip3_variability_med_7 ---> Done\n",
      "zip3 amount variables over past 7 ---> Done\n"
     ]
    },
    {
     "name": "stderr",
     "output_type": "stream",
     "text": [
      "C:\\Users\\Alex Tan\\AppData\\Local\\Temp\\ipykernel_15732\\2659022082.py:18: PerformanceWarning: DataFrame is highly fragmented.  This is usually the result of calling `frame.insert` many times, which has poor performance.  Consider joining all columns at once using pd.concat(axis=1) instead. To get a de-fragmented frame, use `newframe = frame.copy()`\n",
      "  final[col_name] = final.Recnum.map(mapper2)\n",
      "C:\\Users\\Alex Tan\\AppData\\Local\\Temp\\ipykernel_15732\\2659022082.py:23: PerformanceWarning: DataFrame is highly fragmented.  This is usually the result of calling `frame.insert` many times, which has poor performance.  Consider joining all columns at once using pd.concat(axis=1) instead. To get a de-fragmented frame, use `newframe = frame.copy()`\n",
      "  final[col_name] = final.Recnum.map(mapper2)\n"
     ]
    },
    {
     "name": "stdout",
     "output_type": "stream",
     "text": [
      "zip3_variability_avg_14 ---> Done\n",
      "zip3_variability_max_14 ---> Done\n"
     ]
    },
    {
     "name": "stderr",
     "output_type": "stream",
     "text": [
      "C:\\Users\\Alex Tan\\AppData\\Local\\Temp\\ipykernel_15732\\2659022082.py:28: PerformanceWarning: DataFrame is highly fragmented.  This is usually the result of calling `frame.insert` many times, which has poor performance.  Consider joining all columns at once using pd.concat(axis=1) instead. To get a de-fragmented frame, use `newframe = frame.copy()`\n",
      "  final[col_name] = final.Recnum.map(mapper2)\n"
     ]
    },
    {
     "name": "stdout",
     "output_type": "stream",
     "text": [
      "zip3_variability_med_14 ---> Done\n",
      "zip3 amount variables over past 14 ---> Done\n"
     ]
    },
    {
     "name": "stderr",
     "output_type": "stream",
     "text": [
      "C:\\Users\\Alex Tan\\AppData\\Local\\Temp\\ipykernel_15732\\2659022082.py:18: PerformanceWarning: DataFrame is highly fragmented.  This is usually the result of calling `frame.insert` many times, which has poor performance.  Consider joining all columns at once using pd.concat(axis=1) instead. To get a de-fragmented frame, use `newframe = frame.copy()`\n",
      "  final[col_name] = final.Recnum.map(mapper2)\n"
     ]
    },
    {
     "name": "stdout",
     "output_type": "stream",
     "text": [
      "zip3_variability_avg_30 ---> Done\n"
     ]
    },
    {
     "name": "stderr",
     "output_type": "stream",
     "text": [
      "C:\\Users\\Alex Tan\\AppData\\Local\\Temp\\ipykernel_15732\\2659022082.py:23: PerformanceWarning: DataFrame is highly fragmented.  This is usually the result of calling `frame.insert` many times, which has poor performance.  Consider joining all columns at once using pd.concat(axis=1) instead. To get a de-fragmented frame, use `newframe = frame.copy()`\n",
      "  final[col_name] = final.Recnum.map(mapper2)\n"
     ]
    },
    {
     "name": "stdout",
     "output_type": "stream",
     "text": [
      "zip3_variability_max_30 ---> Done\n"
     ]
    },
    {
     "name": "stderr",
     "output_type": "stream",
     "text": [
      "C:\\Users\\Alex Tan\\AppData\\Local\\Temp\\ipykernel_15732\\2659022082.py:28: PerformanceWarning: DataFrame is highly fragmented.  This is usually the result of calling `frame.insert` many times, which has poor performance.  Consider joining all columns at once using pd.concat(axis=1) instead. To get a de-fragmented frame, use `newframe = frame.copy()`\n",
      "  final[col_name] = final.Recnum.map(mapper2)\n"
     ]
    },
    {
     "name": "stdout",
     "output_type": "stream",
     "text": [
      "zip3_variability_med_30 ---> Done\n",
      "zip3 amount variables over past 30 ---> Done\n",
      "Run time for the last entity ----------------- 49.20939229999999s\n"
     ]
    },
    {
     "name": "stderr",
     "output_type": "stream",
     "text": [
      "C:\\Users\\Alex Tan\\AppData\\Local\\Temp\\ipykernel_15732\\2659022082.py:18: PerformanceWarning: DataFrame is highly fragmented.  This is usually the result of calling `frame.insert` many times, which has poor performance.  Consider joining all columns at once using pd.concat(axis=1) instead. To get a de-fragmented frame, use `newframe = frame.copy()`\n",
      "  final[col_name] = final.Recnum.map(mapper2)\n",
      "C:\\Users\\Alex Tan\\AppData\\Local\\Temp\\ipykernel_15732\\2659022082.py:23: PerformanceWarning: DataFrame is highly fragmented.  This is usually the result of calling `frame.insert` many times, which has poor performance.  Consider joining all columns at once using pd.concat(axis=1) instead. To get a de-fragmented frame, use `newframe = frame.copy()`\n",
      "  final[col_name] = final.Recnum.map(mapper2)\n",
      "C:\\Users\\Alex Tan\\AppData\\Local\\Temp\\ipykernel_15732\\2659022082.py:28: PerformanceWarning: DataFrame is highly fragmented.  This is usually the result of calling `frame.insert` many times, which has poor performance.  Consider joining all columns at once using pd.concat(axis=1) instead. To get a de-fragmented frame, use `newframe = frame.copy()`\n",
      "  final[col_name] = final.Recnum.map(mapper2)\n"
     ]
    },
    {
     "name": "stdout",
     "output_type": "stream",
     "text": [
      "card_zip3_variability_avg_0 ---> Done\n",
      "card_zip3_variability_max_0 ---> Done\n",
      "card_zip3_variability_med_0 ---> Done\n",
      "card_zip3 amount variables over past 0 ---> Done\n"
     ]
    },
    {
     "name": "stderr",
     "output_type": "stream",
     "text": [
      "C:\\Users\\Alex Tan\\AppData\\Local\\Temp\\ipykernel_15732\\2659022082.py:18: PerformanceWarning: DataFrame is highly fragmented.  This is usually the result of calling `frame.insert` many times, which has poor performance.  Consider joining all columns at once using pd.concat(axis=1) instead. To get a de-fragmented frame, use `newframe = frame.copy()`\n",
      "  final[col_name] = final.Recnum.map(mapper2)\n",
      "C:\\Users\\Alex Tan\\AppData\\Local\\Temp\\ipykernel_15732\\2659022082.py:23: PerformanceWarning: DataFrame is highly fragmented.  This is usually the result of calling `frame.insert` many times, which has poor performance.  Consider joining all columns at once using pd.concat(axis=1) instead. To get a de-fragmented frame, use `newframe = frame.copy()`\n",
      "  final[col_name] = final.Recnum.map(mapper2)\n",
      "C:\\Users\\Alex Tan\\AppData\\Local\\Temp\\ipykernel_15732\\2659022082.py:28: PerformanceWarning: DataFrame is highly fragmented.  This is usually the result of calling `frame.insert` many times, which has poor performance.  Consider joining all columns at once using pd.concat(axis=1) instead. To get a de-fragmented frame, use `newframe = frame.copy()`\n",
      "  final[col_name] = final.Recnum.map(mapper2)\n"
     ]
    },
    {
     "name": "stdout",
     "output_type": "stream",
     "text": [
      "card_zip3_variability_avg_1 ---> Done\n",
      "card_zip3_variability_max_1 ---> Done\n",
      "card_zip3_variability_med_1 ---> Done\n",
      "card_zip3 amount variables over past 1 ---> Done\n"
     ]
    },
    {
     "name": "stderr",
     "output_type": "stream",
     "text": [
      "C:\\Users\\Alex Tan\\AppData\\Local\\Temp\\ipykernel_15732\\2659022082.py:18: PerformanceWarning: DataFrame is highly fragmented.  This is usually the result of calling `frame.insert` many times, which has poor performance.  Consider joining all columns at once using pd.concat(axis=1) instead. To get a de-fragmented frame, use `newframe = frame.copy()`\n",
      "  final[col_name] = final.Recnum.map(mapper2)\n",
      "C:\\Users\\Alex Tan\\AppData\\Local\\Temp\\ipykernel_15732\\2659022082.py:23: PerformanceWarning: DataFrame is highly fragmented.  This is usually the result of calling `frame.insert` many times, which has poor performance.  Consider joining all columns at once using pd.concat(axis=1) instead. To get a de-fragmented frame, use `newframe = frame.copy()`\n",
      "  final[col_name] = final.Recnum.map(mapper2)\n",
      "C:\\Users\\Alex Tan\\AppData\\Local\\Temp\\ipykernel_15732\\2659022082.py:28: PerformanceWarning: DataFrame is highly fragmented.  This is usually the result of calling `frame.insert` many times, which has poor performance.  Consider joining all columns at once using pd.concat(axis=1) instead. To get a de-fragmented frame, use `newframe = frame.copy()`\n",
      "  final[col_name] = final.Recnum.map(mapper2)\n"
     ]
    },
    {
     "name": "stdout",
     "output_type": "stream",
     "text": [
      "card_zip3_variability_avg_3 ---> Done\n",
      "card_zip3_variability_max_3 ---> Done\n",
      "card_zip3_variability_med_3 ---> Done\n",
      "card_zip3 amount variables over past 3 ---> Done\n"
     ]
    },
    {
     "name": "stderr",
     "output_type": "stream",
     "text": [
      "C:\\Users\\Alex Tan\\AppData\\Local\\Temp\\ipykernel_15732\\2659022082.py:18: PerformanceWarning: DataFrame is highly fragmented.  This is usually the result of calling `frame.insert` many times, which has poor performance.  Consider joining all columns at once using pd.concat(axis=1) instead. To get a de-fragmented frame, use `newframe = frame.copy()`\n",
      "  final[col_name] = final.Recnum.map(mapper2)\n",
      "C:\\Users\\Alex Tan\\AppData\\Local\\Temp\\ipykernel_15732\\2659022082.py:23: PerformanceWarning: DataFrame is highly fragmented.  This is usually the result of calling `frame.insert` many times, which has poor performance.  Consider joining all columns at once using pd.concat(axis=1) instead. To get a de-fragmented frame, use `newframe = frame.copy()`\n",
      "  final[col_name] = final.Recnum.map(mapper2)\n",
      "C:\\Users\\Alex Tan\\AppData\\Local\\Temp\\ipykernel_15732\\2659022082.py:28: PerformanceWarning: DataFrame is highly fragmented.  This is usually the result of calling `frame.insert` many times, which has poor performance.  Consider joining all columns at once using pd.concat(axis=1) instead. To get a de-fragmented frame, use `newframe = frame.copy()`\n",
      "  final[col_name] = final.Recnum.map(mapper2)\n"
     ]
    },
    {
     "name": "stdout",
     "output_type": "stream",
     "text": [
      "card_zip3_variability_avg_7 ---> Done\n",
      "card_zip3_variability_max_7 ---> Done\n",
      "card_zip3_variability_med_7 ---> Done\n",
      "card_zip3 amount variables over past 7 ---> Done\n"
     ]
    },
    {
     "name": "stderr",
     "output_type": "stream",
     "text": [
      "C:\\Users\\Alex Tan\\AppData\\Local\\Temp\\ipykernel_15732\\2659022082.py:18: PerformanceWarning: DataFrame is highly fragmented.  This is usually the result of calling `frame.insert` many times, which has poor performance.  Consider joining all columns at once using pd.concat(axis=1) instead. To get a de-fragmented frame, use `newframe = frame.copy()`\n",
      "  final[col_name] = final.Recnum.map(mapper2)\n",
      "C:\\Users\\Alex Tan\\AppData\\Local\\Temp\\ipykernel_15732\\2659022082.py:23: PerformanceWarning: DataFrame is highly fragmented.  This is usually the result of calling `frame.insert` many times, which has poor performance.  Consider joining all columns at once using pd.concat(axis=1) instead. To get a de-fragmented frame, use `newframe = frame.copy()`\n",
      "  final[col_name] = final.Recnum.map(mapper2)\n",
      "C:\\Users\\Alex Tan\\AppData\\Local\\Temp\\ipykernel_15732\\2659022082.py:28: PerformanceWarning: DataFrame is highly fragmented.  This is usually the result of calling `frame.insert` many times, which has poor performance.  Consider joining all columns at once using pd.concat(axis=1) instead. To get a de-fragmented frame, use `newframe = frame.copy()`\n",
      "  final[col_name] = final.Recnum.map(mapper2)\n"
     ]
    },
    {
     "name": "stdout",
     "output_type": "stream",
     "text": [
      "card_zip3_variability_avg_14 ---> Done\n",
      "card_zip3_variability_max_14 ---> Done\n",
      "card_zip3_variability_med_14 ---> Done\n",
      "card_zip3 amount variables over past 14 ---> Done\n"
     ]
    },
    {
     "name": "stderr",
     "output_type": "stream",
     "text": [
      "C:\\Users\\Alex Tan\\AppData\\Local\\Temp\\ipykernel_15732\\2659022082.py:18: PerformanceWarning: DataFrame is highly fragmented.  This is usually the result of calling `frame.insert` many times, which has poor performance.  Consider joining all columns at once using pd.concat(axis=1) instead. To get a de-fragmented frame, use `newframe = frame.copy()`\n",
      "  final[col_name] = final.Recnum.map(mapper2)\n",
      "C:\\Users\\Alex Tan\\AppData\\Local\\Temp\\ipykernel_15732\\2659022082.py:23: PerformanceWarning: DataFrame is highly fragmented.  This is usually the result of calling `frame.insert` many times, which has poor performance.  Consider joining all columns at once using pd.concat(axis=1) instead. To get a de-fragmented frame, use `newframe = frame.copy()`\n",
      "  final[col_name] = final.Recnum.map(mapper2)\n",
      "C:\\Users\\Alex Tan\\AppData\\Local\\Temp\\ipykernel_15732\\2659022082.py:28: PerformanceWarning: DataFrame is highly fragmented.  This is usually the result of calling `frame.insert` many times, which has poor performance.  Consider joining all columns at once using pd.concat(axis=1) instead. To get a de-fragmented frame, use `newframe = frame.copy()`\n",
      "  final[col_name] = final.Recnum.map(mapper2)\n"
     ]
    },
    {
     "name": "stdout",
     "output_type": "stream",
     "text": [
      "card_zip3_variability_avg_30 ---> Done\n",
      "card_zip3_variability_max_30 ---> Done\n",
      "card_zip3_variability_med_30 ---> Done\n",
      "card_zip3 amount variables over past 30 ---> Done\n",
      "Run time for the last entity ----------------- 4.2713072999999895s\n"
     ]
    },
    {
     "name": "stderr",
     "output_type": "stream",
     "text": [
      "C:\\Users\\Alex Tan\\AppData\\Local\\Temp\\ipykernel_15732\\2659022082.py:18: PerformanceWarning: DataFrame is highly fragmented.  This is usually the result of calling `frame.insert` many times, which has poor performance.  Consider joining all columns at once using pd.concat(axis=1) instead. To get a de-fragmented frame, use `newframe = frame.copy()`\n",
      "  final[col_name] = final.Recnum.map(mapper2)\n",
      "C:\\Users\\Alex Tan\\AppData\\Local\\Temp\\ipykernel_15732\\2659022082.py:23: PerformanceWarning: DataFrame is highly fragmented.  This is usually the result of calling `frame.insert` many times, which has poor performance.  Consider joining all columns at once using pd.concat(axis=1) instead. To get a de-fragmented frame, use `newframe = frame.copy()`\n",
      "  final[col_name] = final.Recnum.map(mapper2)\n",
      "C:\\Users\\Alex Tan\\AppData\\Local\\Temp\\ipykernel_15732\\2659022082.py:28: PerformanceWarning: DataFrame is highly fragmented.  This is usually the result of calling `frame.insert` many times, which has poor performance.  Consider joining all columns at once using pd.concat(axis=1) instead. To get a de-fragmented frame, use `newframe = frame.copy()`\n",
      "  final[col_name] = final.Recnum.map(mapper2)\n",
      "C:\\Users\\Alex Tan\\AppData\\Local\\Temp\\ipykernel_15732\\2659022082.py:18: PerformanceWarning: DataFrame is highly fragmented.  This is usually the result of calling `frame.insert` many times, which has poor performance.  Consider joining all columns at once using pd.concat(axis=1) instead. To get a de-fragmented frame, use `newframe = frame.copy()`\n",
      "  final[col_name] = final.Recnum.map(mapper2)\n",
      "C:\\Users\\Alex Tan\\AppData\\Local\\Temp\\ipykernel_15732\\2659022082.py:23: PerformanceWarning: DataFrame is highly fragmented.  This is usually the result of calling `frame.insert` many times, which has poor performance.  Consider joining all columns at once using pd.concat(axis=1) instead. To get a de-fragmented frame, use `newframe = frame.copy()`\n",
      "  final[col_name] = final.Recnum.map(mapper2)\n"
     ]
    },
    {
     "name": "stdout",
     "output_type": "stream",
     "text": [
      "Card_Merchdesc_variability_avg_0 ---> Done\n",
      "Card_Merchdesc_variability_max_0 ---> Done\n",
      "Card_Merchdesc_variability_med_0 ---> Done\n",
      "Card_Merchdesc amount variables over past 0 ---> Done\n",
      "Card_Merchdesc_variability_avg_1 ---> Done\n",
      "Card_Merchdesc_variability_max_1 ---> Done\n"
     ]
    },
    {
     "name": "stderr",
     "output_type": "stream",
     "text": [
      "C:\\Users\\Alex Tan\\AppData\\Local\\Temp\\ipykernel_15732\\2659022082.py:28: PerformanceWarning: DataFrame is highly fragmented.  This is usually the result of calling `frame.insert` many times, which has poor performance.  Consider joining all columns at once using pd.concat(axis=1) instead. To get a de-fragmented frame, use `newframe = frame.copy()`\n",
      "  final[col_name] = final.Recnum.map(mapper2)\n",
      "C:\\Users\\Alex Tan\\AppData\\Local\\Temp\\ipykernel_15732\\2659022082.py:18: PerformanceWarning: DataFrame is highly fragmented.  This is usually the result of calling `frame.insert` many times, which has poor performance.  Consider joining all columns at once using pd.concat(axis=1) instead. To get a de-fragmented frame, use `newframe = frame.copy()`\n",
      "  final[col_name] = final.Recnum.map(mapper2)\n",
      "C:\\Users\\Alex Tan\\AppData\\Local\\Temp\\ipykernel_15732\\2659022082.py:23: PerformanceWarning: DataFrame is highly fragmented.  This is usually the result of calling `frame.insert` many times, which has poor performance.  Consider joining all columns at once using pd.concat(axis=1) instead. To get a de-fragmented frame, use `newframe = frame.copy()`\n",
      "  final[col_name] = final.Recnum.map(mapper2)\n",
      "C:\\Users\\Alex Tan\\AppData\\Local\\Temp\\ipykernel_15732\\2659022082.py:28: PerformanceWarning: DataFrame is highly fragmented.  This is usually the result of calling `frame.insert` many times, which has poor performance.  Consider joining all columns at once using pd.concat(axis=1) instead. To get a de-fragmented frame, use `newframe = frame.copy()`\n",
      "  final[col_name] = final.Recnum.map(mapper2)\n",
      "C:\\Users\\Alex Tan\\AppData\\Local\\Temp\\ipykernel_15732\\2659022082.py:18: PerformanceWarning: DataFrame is highly fragmented.  This is usually the result of calling `frame.insert` many times, which has poor performance.  Consider joining all columns at once using pd.concat(axis=1) instead. To get a de-fragmented frame, use `newframe = frame.copy()`\n",
      "  final[col_name] = final.Recnum.map(mapper2)\n"
     ]
    },
    {
     "name": "stdout",
     "output_type": "stream",
     "text": [
      "Card_Merchdesc_variability_med_1 ---> Done\n",
      "Card_Merchdesc amount variables over past 1 ---> Done\n",
      "Card_Merchdesc_variability_avg_3 ---> Done\n",
      "Card_Merchdesc_variability_max_3 ---> Done\n",
      "Card_Merchdesc_variability_med_3 ---> Done\n",
      "Card_Merchdesc amount variables over past 3 ---> Done\n",
      "Card_Merchdesc_variability_avg_7 ---> Done\n"
     ]
    },
    {
     "name": "stderr",
     "output_type": "stream",
     "text": [
      "C:\\Users\\Alex Tan\\AppData\\Local\\Temp\\ipykernel_15732\\2659022082.py:23: PerformanceWarning: DataFrame is highly fragmented.  This is usually the result of calling `frame.insert` many times, which has poor performance.  Consider joining all columns at once using pd.concat(axis=1) instead. To get a de-fragmented frame, use `newframe = frame.copy()`\n",
      "  final[col_name] = final.Recnum.map(mapper2)\n",
      "C:\\Users\\Alex Tan\\AppData\\Local\\Temp\\ipykernel_15732\\2659022082.py:28: PerformanceWarning: DataFrame is highly fragmented.  This is usually the result of calling `frame.insert` many times, which has poor performance.  Consider joining all columns at once using pd.concat(axis=1) instead. To get a de-fragmented frame, use `newframe = frame.copy()`\n",
      "  final[col_name] = final.Recnum.map(mapper2)\n",
      "C:\\Users\\Alex Tan\\AppData\\Local\\Temp\\ipykernel_15732\\2659022082.py:18: PerformanceWarning: DataFrame is highly fragmented.  This is usually the result of calling `frame.insert` many times, which has poor performance.  Consider joining all columns at once using pd.concat(axis=1) instead. To get a de-fragmented frame, use `newframe = frame.copy()`\n",
      "  final[col_name] = final.Recnum.map(mapper2)\n",
      "C:\\Users\\Alex Tan\\AppData\\Local\\Temp\\ipykernel_15732\\2659022082.py:23: PerformanceWarning: DataFrame is highly fragmented.  This is usually the result of calling `frame.insert` many times, which has poor performance.  Consider joining all columns at once using pd.concat(axis=1) instead. To get a de-fragmented frame, use `newframe = frame.copy()`\n",
      "  final[col_name] = final.Recnum.map(mapper2)\n",
      "C:\\Users\\Alex Tan\\AppData\\Local\\Temp\\ipykernel_15732\\2659022082.py:28: PerformanceWarning: DataFrame is highly fragmented.  This is usually the result of calling `frame.insert` many times, which has poor performance.  Consider joining all columns at once using pd.concat(axis=1) instead. To get a de-fragmented frame, use `newframe = frame.copy()`\n",
      "  final[col_name] = final.Recnum.map(mapper2)\n",
      "C:\\Users\\Alex Tan\\AppData\\Local\\Temp\\ipykernel_15732\\2659022082.py:18: PerformanceWarning: DataFrame is highly fragmented.  This is usually the result of calling `frame.insert` many times, which has poor performance.  Consider joining all columns at once using pd.concat(axis=1) instead. To get a de-fragmented frame, use `newframe = frame.copy()`\n",
      "  final[col_name] = final.Recnum.map(mapper2)\n"
     ]
    },
    {
     "name": "stdout",
     "output_type": "stream",
     "text": [
      "Card_Merchdesc_variability_max_7 ---> Done\n",
      "Card_Merchdesc_variability_med_7 ---> Done\n",
      "Card_Merchdesc amount variables over past 7 ---> Done\n",
      "Card_Merchdesc_variability_avg_14 ---> Done\n",
      "Card_Merchdesc_variability_max_14 ---> Done\n",
      "Card_Merchdesc_variability_med_14 ---> Done\n",
      "Card_Merchdesc amount variables over past 14 ---> Done\n",
      "Card_Merchdesc_variability_avg_30 ---> Done\n"
     ]
    },
    {
     "name": "stderr",
     "output_type": "stream",
     "text": [
      "C:\\Users\\Alex Tan\\AppData\\Local\\Temp\\ipykernel_15732\\2659022082.py:23: PerformanceWarning: DataFrame is highly fragmented.  This is usually the result of calling `frame.insert` many times, which has poor performance.  Consider joining all columns at once using pd.concat(axis=1) instead. To get a de-fragmented frame, use `newframe = frame.copy()`\n",
      "  final[col_name] = final.Recnum.map(mapper2)\n",
      "C:\\Users\\Alex Tan\\AppData\\Local\\Temp\\ipykernel_15732\\2659022082.py:28: PerformanceWarning: DataFrame is highly fragmented.  This is usually the result of calling `frame.insert` many times, which has poor performance.  Consider joining all columns at once using pd.concat(axis=1) instead. To get a de-fragmented frame, use `newframe = frame.copy()`\n",
      "  final[col_name] = final.Recnum.map(mapper2)\n"
     ]
    },
    {
     "name": "stdout",
     "output_type": "stream",
     "text": [
      "Card_Merchdesc_variability_max_30 ---> Done\n",
      "Card_Merchdesc_variability_med_30 ---> Done\n",
      "Card_Merchdesc amount variables over past 30 ---> Done\n",
      "Run time for the last entity ----------------- 0.9546155000000454s\n"
     ]
    },
    {
     "name": "stderr",
     "output_type": "stream",
     "text": [
      "C:\\Users\\Alex Tan\\AppData\\Local\\Temp\\ipykernel_15732\\2659022082.py:18: PerformanceWarning: DataFrame is highly fragmented.  This is usually the result of calling `frame.insert` many times, which has poor performance.  Consider joining all columns at once using pd.concat(axis=1) instead. To get a de-fragmented frame, use `newframe = frame.copy()`\n",
      "  final[col_name] = final.Recnum.map(mapper2)\n",
      "C:\\Users\\Alex Tan\\AppData\\Local\\Temp\\ipykernel_15732\\2659022082.py:23: PerformanceWarning: DataFrame is highly fragmented.  This is usually the result of calling `frame.insert` many times, which has poor performance.  Consider joining all columns at once using pd.concat(axis=1) instead. To get a de-fragmented frame, use `newframe = frame.copy()`\n",
      "  final[col_name] = final.Recnum.map(mapper2)\n",
      "C:\\Users\\Alex Tan\\AppData\\Local\\Temp\\ipykernel_15732\\2659022082.py:28: PerformanceWarning: DataFrame is highly fragmented.  This is usually the result of calling `frame.insert` many times, which has poor performance.  Consider joining all columns at once using pd.concat(axis=1) instead. To get a de-fragmented frame, use `newframe = frame.copy()`\n",
      "  final[col_name] = final.Recnum.map(mapper2)\n"
     ]
    },
    {
     "name": "stdout",
     "output_type": "stream",
     "text": [
      "Merchnum_desc_variability_avg_0 ---> Done\n",
      "Merchnum_desc_variability_max_0 ---> Done\n",
      "Merchnum_desc_variability_med_0 ---> Done\n",
      "Merchnum_desc amount variables over past 0 ---> Done\n"
     ]
    },
    {
     "name": "stderr",
     "output_type": "stream",
     "text": [
      "C:\\Users\\Alex Tan\\AppData\\Local\\Temp\\ipykernel_15732\\2659022082.py:18: PerformanceWarning: DataFrame is highly fragmented.  This is usually the result of calling `frame.insert` many times, which has poor performance.  Consider joining all columns at once using pd.concat(axis=1) instead. To get a de-fragmented frame, use `newframe = frame.copy()`\n",
      "  final[col_name] = final.Recnum.map(mapper2)\n",
      "C:\\Users\\Alex Tan\\AppData\\Local\\Temp\\ipykernel_15732\\2659022082.py:23: PerformanceWarning: DataFrame is highly fragmented.  This is usually the result of calling `frame.insert` many times, which has poor performance.  Consider joining all columns at once using pd.concat(axis=1) instead. To get a de-fragmented frame, use `newframe = frame.copy()`\n",
      "  final[col_name] = final.Recnum.map(mapper2)\n",
      "C:\\Users\\Alex Tan\\AppData\\Local\\Temp\\ipykernel_15732\\2659022082.py:28: PerformanceWarning: DataFrame is highly fragmented.  This is usually the result of calling `frame.insert` many times, which has poor performance.  Consider joining all columns at once using pd.concat(axis=1) instead. To get a de-fragmented frame, use `newframe = frame.copy()`\n",
      "  final[col_name] = final.Recnum.map(mapper2)\n"
     ]
    },
    {
     "name": "stdout",
     "output_type": "stream",
     "text": [
      "Merchnum_desc_variability_avg_1 ---> Done\n",
      "Merchnum_desc_variability_max_1 ---> Done\n",
      "Merchnum_desc_variability_med_1 ---> Done\n",
      "Merchnum_desc amount variables over past 1 ---> Done\n"
     ]
    },
    {
     "name": "stderr",
     "output_type": "stream",
     "text": [
      "C:\\Users\\Alex Tan\\AppData\\Local\\Temp\\ipykernel_15732\\2659022082.py:18: PerformanceWarning: DataFrame is highly fragmented.  This is usually the result of calling `frame.insert` many times, which has poor performance.  Consider joining all columns at once using pd.concat(axis=1) instead. To get a de-fragmented frame, use `newframe = frame.copy()`\n",
      "  final[col_name] = final.Recnum.map(mapper2)\n",
      "C:\\Users\\Alex Tan\\AppData\\Local\\Temp\\ipykernel_15732\\2659022082.py:23: PerformanceWarning: DataFrame is highly fragmented.  This is usually the result of calling `frame.insert` many times, which has poor performance.  Consider joining all columns at once using pd.concat(axis=1) instead. To get a de-fragmented frame, use `newframe = frame.copy()`\n",
      "  final[col_name] = final.Recnum.map(mapper2)\n",
      "C:\\Users\\Alex Tan\\AppData\\Local\\Temp\\ipykernel_15732\\2659022082.py:28: PerformanceWarning: DataFrame is highly fragmented.  This is usually the result of calling `frame.insert` many times, which has poor performance.  Consider joining all columns at once using pd.concat(axis=1) instead. To get a de-fragmented frame, use `newframe = frame.copy()`\n",
      "  final[col_name] = final.Recnum.map(mapper2)\n"
     ]
    },
    {
     "name": "stdout",
     "output_type": "stream",
     "text": [
      "Merchnum_desc_variability_avg_3 ---> Done\n",
      "Merchnum_desc_variability_max_3 ---> Done\n",
      "Merchnum_desc_variability_med_3 ---> Done\n",
      "Merchnum_desc amount variables over past 3 ---> Done\n"
     ]
    },
    {
     "name": "stderr",
     "output_type": "stream",
     "text": [
      "C:\\Users\\Alex Tan\\AppData\\Local\\Temp\\ipykernel_15732\\2659022082.py:18: PerformanceWarning: DataFrame is highly fragmented.  This is usually the result of calling `frame.insert` many times, which has poor performance.  Consider joining all columns at once using pd.concat(axis=1) instead. To get a de-fragmented frame, use `newframe = frame.copy()`\n",
      "  final[col_name] = final.Recnum.map(mapper2)\n",
      "C:\\Users\\Alex Tan\\AppData\\Local\\Temp\\ipykernel_15732\\2659022082.py:23: PerformanceWarning: DataFrame is highly fragmented.  This is usually the result of calling `frame.insert` many times, which has poor performance.  Consider joining all columns at once using pd.concat(axis=1) instead. To get a de-fragmented frame, use `newframe = frame.copy()`\n",
      "  final[col_name] = final.Recnum.map(mapper2)\n",
      "C:\\Users\\Alex Tan\\AppData\\Local\\Temp\\ipykernel_15732\\2659022082.py:28: PerformanceWarning: DataFrame is highly fragmented.  This is usually the result of calling `frame.insert` many times, which has poor performance.  Consider joining all columns at once using pd.concat(axis=1) instead. To get a de-fragmented frame, use `newframe = frame.copy()`\n",
      "  final[col_name] = final.Recnum.map(mapper2)\n"
     ]
    },
    {
     "name": "stdout",
     "output_type": "stream",
     "text": [
      "Merchnum_desc_variability_avg_7 ---> Done\n",
      "Merchnum_desc_variability_max_7 ---> Done\n",
      "Merchnum_desc_variability_med_7 ---> Done\n",
      "Merchnum_desc amount variables over past 7 ---> Done\n"
     ]
    },
    {
     "name": "stderr",
     "output_type": "stream",
     "text": [
      "C:\\Users\\Alex Tan\\AppData\\Local\\Temp\\ipykernel_15732\\2659022082.py:18: PerformanceWarning: DataFrame is highly fragmented.  This is usually the result of calling `frame.insert` many times, which has poor performance.  Consider joining all columns at once using pd.concat(axis=1) instead. To get a de-fragmented frame, use `newframe = frame.copy()`\n",
      "  final[col_name] = final.Recnum.map(mapper2)\n",
      "C:\\Users\\Alex Tan\\AppData\\Local\\Temp\\ipykernel_15732\\2659022082.py:23: PerformanceWarning: DataFrame is highly fragmented.  This is usually the result of calling `frame.insert` many times, which has poor performance.  Consider joining all columns at once using pd.concat(axis=1) instead. To get a de-fragmented frame, use `newframe = frame.copy()`\n",
      "  final[col_name] = final.Recnum.map(mapper2)\n",
      "C:\\Users\\Alex Tan\\AppData\\Local\\Temp\\ipykernel_15732\\2659022082.py:28: PerformanceWarning: DataFrame is highly fragmented.  This is usually the result of calling `frame.insert` many times, which has poor performance.  Consider joining all columns at once using pd.concat(axis=1) instead. To get a de-fragmented frame, use `newframe = frame.copy()`\n",
      "  final[col_name] = final.Recnum.map(mapper2)\n"
     ]
    },
    {
     "name": "stdout",
     "output_type": "stream",
     "text": [
      "Merchnum_desc_variability_avg_14 ---> Done\n",
      "Merchnum_desc_variability_max_14 ---> Done\n",
      "Merchnum_desc_variability_med_14 ---> Done\n",
      "Merchnum_desc amount variables over past 14 ---> Done\n"
     ]
    },
    {
     "name": "stderr",
     "output_type": "stream",
     "text": [
      "C:\\Users\\Alex Tan\\AppData\\Local\\Temp\\ipykernel_15732\\2659022082.py:18: PerformanceWarning: DataFrame is highly fragmented.  This is usually the result of calling `frame.insert` many times, which has poor performance.  Consider joining all columns at once using pd.concat(axis=1) instead. To get a de-fragmented frame, use `newframe = frame.copy()`\n",
      "  final[col_name] = final.Recnum.map(mapper2)\n",
      "C:\\Users\\Alex Tan\\AppData\\Local\\Temp\\ipykernel_15732\\2659022082.py:23: PerformanceWarning: DataFrame is highly fragmented.  This is usually the result of calling `frame.insert` many times, which has poor performance.  Consider joining all columns at once using pd.concat(axis=1) instead. To get a de-fragmented frame, use `newframe = frame.copy()`\n",
      "  final[col_name] = final.Recnum.map(mapper2)\n",
      "C:\\Users\\Alex Tan\\AppData\\Local\\Temp\\ipykernel_15732\\2659022082.py:28: PerformanceWarning: DataFrame is highly fragmented.  This is usually the result of calling `frame.insert` many times, which has poor performance.  Consider joining all columns at once using pd.concat(axis=1) instead. To get a de-fragmented frame, use `newframe = frame.copy()`\n",
      "  final[col_name] = final.Recnum.map(mapper2)\n"
     ]
    },
    {
     "name": "stdout",
     "output_type": "stream",
     "text": [
      "Merchnum_desc_variability_avg_30 ---> Done\n",
      "Merchnum_desc_variability_max_30 ---> Done\n",
      "Merchnum_desc_variability_med_30 ---> Done\n",
      "Merchnum_desc amount variables over past 30 ---> Done\n",
      "Run time for the last entity ----------------- 3.3956929000000855s\n"
     ]
    },
    {
     "name": "stderr",
     "output_type": "stream",
     "text": [
      "C:\\Users\\Alex Tan\\AppData\\Local\\Temp\\ipykernel_15732\\2659022082.py:18: PerformanceWarning: DataFrame is highly fragmented.  This is usually the result of calling `frame.insert` many times, which has poor performance.  Consider joining all columns at once using pd.concat(axis=1) instead. To get a de-fragmented frame, use `newframe = frame.copy()`\n",
      "  final[col_name] = final.Recnum.map(mapper2)\n",
      "C:\\Users\\Alex Tan\\AppData\\Local\\Temp\\ipykernel_15732\\2659022082.py:23: PerformanceWarning: DataFrame is highly fragmented.  This is usually the result of calling `frame.insert` many times, which has poor performance.  Consider joining all columns at once using pd.concat(axis=1) instead. To get a de-fragmented frame, use `newframe = frame.copy()`\n",
      "  final[col_name] = final.Recnum.map(mapper2)\n",
      "C:\\Users\\Alex Tan\\AppData\\Local\\Temp\\ipykernel_15732\\2659022082.py:28: PerformanceWarning: DataFrame is highly fragmented.  This is usually the result of calling `frame.insert` many times, which has poor performance.  Consider joining all columns at once using pd.concat(axis=1) instead. To get a de-fragmented frame, use `newframe = frame.copy()`\n",
      "  final[col_name] = final.Recnum.map(mapper2)\n",
      "C:\\Users\\Alex Tan\\AppData\\Local\\Temp\\ipykernel_15732\\2659022082.py:18: PerformanceWarning: DataFrame is highly fragmented.  This is usually the result of calling `frame.insert` many times, which has poor performance.  Consider joining all columns at once using pd.concat(axis=1) instead. To get a de-fragmented frame, use `newframe = frame.copy()`\n",
      "  final[col_name] = final.Recnum.map(mapper2)\n",
      "C:\\Users\\Alex Tan\\AppData\\Local\\Temp\\ipykernel_15732\\2659022082.py:23: PerformanceWarning: DataFrame is highly fragmented.  This is usually the result of calling `frame.insert` many times, which has poor performance.  Consider joining all columns at once using pd.concat(axis=1) instead. To get a de-fragmented frame, use `newframe = frame.copy()`\n",
      "  final[col_name] = final.Recnum.map(mapper2)\n",
      "C:\\Users\\Alex Tan\\AppData\\Local\\Temp\\ipykernel_15732\\2659022082.py:28: PerformanceWarning: DataFrame is highly fragmented.  This is usually the result of calling `frame.insert` many times, which has poor performance.  Consider joining all columns at once using pd.concat(axis=1) instead. To get a de-fragmented frame, use `newframe = frame.copy()`\n",
      "  final[col_name] = final.Recnum.map(mapper2)\n",
      "C:\\Users\\Alex Tan\\AppData\\Local\\Temp\\ipykernel_15732\\2659022082.py:18: PerformanceWarning: DataFrame is highly fragmented.  This is usually the result of calling `frame.insert` many times, which has poor performance.  Consider joining all columns at once using pd.concat(axis=1) instead. To get a de-fragmented frame, use `newframe = frame.copy()`\n",
      "  final[col_name] = final.Recnum.map(mapper2)\n"
     ]
    },
    {
     "name": "stdout",
     "output_type": "stream",
     "text": [
      "Card_Merchnum_desc_variability_avg_0 ---> Done\n",
      "Card_Merchnum_desc_variability_max_0 ---> Done\n",
      "Card_Merchnum_desc_variability_med_0 ---> Done\n",
      "Card_Merchnum_desc amount variables over past 0 ---> Done\n",
      "Card_Merchnum_desc_variability_avg_1 ---> Done\n",
      "Card_Merchnum_desc_variability_max_1 ---> Done\n",
      "Card_Merchnum_desc_variability_med_1 ---> Done\n",
      "Card_Merchnum_desc amount variables over past 1 ---> Done\n",
      "Card_Merchnum_desc_variability_avg_3 ---> Done\n"
     ]
    },
    {
     "name": "stderr",
     "output_type": "stream",
     "text": [
      "C:\\Users\\Alex Tan\\AppData\\Local\\Temp\\ipykernel_15732\\2659022082.py:23: PerformanceWarning: DataFrame is highly fragmented.  This is usually the result of calling `frame.insert` many times, which has poor performance.  Consider joining all columns at once using pd.concat(axis=1) instead. To get a de-fragmented frame, use `newframe = frame.copy()`\n",
      "  final[col_name] = final.Recnum.map(mapper2)\n",
      "C:\\Users\\Alex Tan\\AppData\\Local\\Temp\\ipykernel_15732\\2659022082.py:28: PerformanceWarning: DataFrame is highly fragmented.  This is usually the result of calling `frame.insert` many times, which has poor performance.  Consider joining all columns at once using pd.concat(axis=1) instead. To get a de-fragmented frame, use `newframe = frame.copy()`\n",
      "  final[col_name] = final.Recnum.map(mapper2)\n",
      "C:\\Users\\Alex Tan\\AppData\\Local\\Temp\\ipykernel_15732\\2659022082.py:18: PerformanceWarning: DataFrame is highly fragmented.  This is usually the result of calling `frame.insert` many times, which has poor performance.  Consider joining all columns at once using pd.concat(axis=1) instead. To get a de-fragmented frame, use `newframe = frame.copy()`\n",
      "  final[col_name] = final.Recnum.map(mapper2)\n",
      "C:\\Users\\Alex Tan\\AppData\\Local\\Temp\\ipykernel_15732\\2659022082.py:23: PerformanceWarning: DataFrame is highly fragmented.  This is usually the result of calling `frame.insert` many times, which has poor performance.  Consider joining all columns at once using pd.concat(axis=1) instead. To get a de-fragmented frame, use `newframe = frame.copy()`\n",
      "  final[col_name] = final.Recnum.map(mapper2)\n",
      "C:\\Users\\Alex Tan\\AppData\\Local\\Temp\\ipykernel_15732\\2659022082.py:28: PerformanceWarning: DataFrame is highly fragmented.  This is usually the result of calling `frame.insert` many times, which has poor performance.  Consider joining all columns at once using pd.concat(axis=1) instead. To get a de-fragmented frame, use `newframe = frame.copy()`\n",
      "  final[col_name] = final.Recnum.map(mapper2)\n",
      "C:\\Users\\Alex Tan\\AppData\\Local\\Temp\\ipykernel_15732\\2659022082.py:18: PerformanceWarning: DataFrame is highly fragmented.  This is usually the result of calling `frame.insert` many times, which has poor performance.  Consider joining all columns at once using pd.concat(axis=1) instead. To get a de-fragmented frame, use `newframe = frame.copy()`\n",
      "  final[col_name] = final.Recnum.map(mapper2)\n"
     ]
    },
    {
     "name": "stdout",
     "output_type": "stream",
     "text": [
      "Card_Merchnum_desc_variability_max_3 ---> Done\n",
      "Card_Merchnum_desc_variability_med_3 ---> Done\n",
      "Card_Merchnum_desc amount variables over past 3 ---> Done\n",
      "Card_Merchnum_desc_variability_avg_7 ---> Done\n",
      "Card_Merchnum_desc_variability_max_7 ---> Done\n",
      "Card_Merchnum_desc_variability_med_7 ---> Done\n",
      "Card_Merchnum_desc amount variables over past 7 ---> Done\n",
      "Card_Merchnum_desc_variability_avg_14 ---> Done\n",
      "Card_Merchnum_desc_variability_max_14 ---> Done\n",
      "Card_Merchnum_desc_variability_med_14 ---> Done\n",
      "Card_Merchnum_desc amount variables over past 14 ---> Done\n",
      "Card_Merchnum_desc_variability_avg_30 ---> Done\n",
      "Card_Merchnum_desc_variability_max_30 ---> Done\n",
      "Card_Merchnum_desc_variability_med_30 ---> Done\n",
      "Card_Merchnum_desc amount variables over past 30 ---> Done\n"
     ]
    },
    {
     "name": "stderr",
     "output_type": "stream",
     "text": [
      "C:\\Users\\Alex Tan\\AppData\\Local\\Temp\\ipykernel_15732\\2659022082.py:23: PerformanceWarning: DataFrame is highly fragmented.  This is usually the result of calling `frame.insert` many times, which has poor performance.  Consider joining all columns at once using pd.concat(axis=1) instead. To get a de-fragmented frame, use `newframe = frame.copy()`\n",
      "  final[col_name] = final.Recnum.map(mapper2)\n",
      "C:\\Users\\Alex Tan\\AppData\\Local\\Temp\\ipykernel_15732\\2659022082.py:28: PerformanceWarning: DataFrame is highly fragmented.  This is usually the result of calling `frame.insert` many times, which has poor performance.  Consider joining all columns at once using pd.concat(axis=1) instead. To get a de-fragmented frame, use `newframe = frame.copy()`\n",
      "  final[col_name] = final.Recnum.map(mapper2)\n",
      "C:\\Users\\Alex Tan\\AppData\\Local\\Temp\\ipykernel_15732\\2659022082.py:18: PerformanceWarning: DataFrame is highly fragmented.  This is usually the result of calling `frame.insert` many times, which has poor performance.  Consider joining all columns at once using pd.concat(axis=1) instead. To get a de-fragmented frame, use `newframe = frame.copy()`\n",
      "  final[col_name] = final.Recnum.map(mapper2)\n",
      "C:\\Users\\Alex Tan\\AppData\\Local\\Temp\\ipykernel_15732\\2659022082.py:23: PerformanceWarning: DataFrame is highly fragmented.  This is usually the result of calling `frame.insert` many times, which has poor performance.  Consider joining all columns at once using pd.concat(axis=1) instead. To get a de-fragmented frame, use `newframe = frame.copy()`\n",
      "  final[col_name] = final.Recnum.map(mapper2)\n",
      "C:\\Users\\Alex Tan\\AppData\\Local\\Temp\\ipykernel_15732\\2659022082.py:28: PerformanceWarning: DataFrame is highly fragmented.  This is usually the result of calling `frame.insert` many times, which has poor performance.  Consider joining all columns at once using pd.concat(axis=1) instead. To get a de-fragmented frame, use `newframe = frame.copy()`\n",
      "  final[col_name] = final.Recnum.map(mapper2)\n"
     ]
    }
   ],
   "source": [
    "# variability\n",
    "for entity in entities:\n",
    "    try: print('Run time for the last entity ----------------- {}s'.format(timeit.default_timer() - st))\n",
    "    except: \n",
    "        print('')\n",
    "    st = timeit.default_timer() \n",
    "    df_l = df1[['Recnum', 'Date', entity,'Amount']]\n",
    "    df_r = df1[['check_record', 'check_date', entity, 'Amount']]\n",
    "    temp = pd.merge(df_l, df_r, left_on = entity, right_on = entity)\n",
    "    \n",
    "    for time in [0,1,3,7,14,30]:\n",
    "        temp2 = temp[(temp.check_date >= (temp.Date - dt.timedelta(time))) &\\\n",
    "                       (temp.Recnum >= temp.check_record)][['Recnum', 'check_record',entity, 'Amount_x','Amount_y']]\n",
    "        temp2['Amount_diff']=temp2['Amount_y']-temp2['Amount_x']\n",
    "\n",
    "        col_name = entity + '_variability_avg_' + str(time)\n",
    "        mapper2 = temp2.groupby('Recnum')['Amount_diff'].mean()\n",
    "        final[col_name] = final.Recnum.map(mapper2)        \n",
    "        print(col_name + ' ---> Done')\n",
    "        \n",
    "        col_name = entity + '_variability_max_' + str(time)\n",
    "        mapper2 = temp2.groupby('Recnum')['Amount_diff'].max()\n",
    "        final[col_name] = final.Recnum.map(mapper2)        \n",
    "        print(col_name + ' ---> Done')\n",
    "        \n",
    "        col_name = entity + '_variability_med_' + str(time)\n",
    "        mapper2 = temp2.groupby('Recnum')['Amount_diff'].median()\n",
    "        final[col_name] = final.Recnum.map(mapper2)        \n",
    "        print(col_name + ' ---> Done')\n",
    "        \n",
    "        print(entity + ' amount variables over past ' + str(time) + ' ---> Done')"
   ]
  },
  {
   "cell_type": "code",
   "execution_count": 84,
   "id": "d3b09d00",
   "metadata": {},
   "outputs": [
    {
     "data": {
      "text/plain": [
       "180"
      ]
     },
     "execution_count": 84,
     "metadata": {},
     "output_type": "execute_result"
    }
   ],
   "source": [
    "newvars = len(final.columns) - 19 - varnum\n",
    "newvars"
   ]
  },
  {
   "cell_type": "code",
   "execution_count": 85,
   "id": "85ef6638",
   "metadata": {},
   "outputs": [
    {
     "data": {
      "text/plain": [
       "1412"
      ]
     },
     "execution_count": 85,
     "metadata": {},
     "output_type": "execute_result"
    }
   ],
   "source": [
    "len(final.columns)"
   ]
  },
  {
   "cell_type": "code",
   "execution_count": 86,
   "id": "0e754049",
   "metadata": {},
   "outputs": [
    {
     "name": "stdout",
     "output_type": "stream",
     "text": [
      "time to here:  0:26:54.940741\n"
     ]
    }
   ],
   "source": [
    "print('time to here: ',dt.datetime.now() - start_time)"
   ]
  },
  {
   "cell_type": "markdown",
   "id": "618c7b3d",
   "metadata": {},
   "source": [
    "## Other variables"
   ]
  },
  {
   "cell_type": "code",
   "execution_count": 87,
   "id": "b05f365c",
   "metadata": {},
   "outputs": [
    {
     "data": {
      "text/plain": [
       "1393"
      ]
     },
     "execution_count": 87,
     "metadata": {},
     "output_type": "execute_result"
    }
   ],
   "source": [
    "varnum = len(final.columns) - 19\n",
    "varnum"
   ]
  },
  {
   "cell_type": "code",
   "execution_count": 88,
   "id": "d135c027",
   "metadata": {},
   "outputs": [
    {
     "name": "stderr",
     "output_type": "stream",
     "text": [
      "C:\\Users\\Alex Tan\\AppData\\Local\\Temp\\ipykernel_15732\\2551397364.py:4: PerformanceWarning: DataFrame is highly fragmented.  This is usually the result of calling `frame.insert` many times, which has poor performance.  Consider joining all columns at once using pd.concat(axis=1) instead. To get a de-fragmented frame, use `newframe = frame.copy()`\n",
      "  final['amount_cat'] = pd.qcut(final.Amount, q=5,labels=[1,2,3,4,5])\n"
     ]
    },
    {
     "data": {
      "image/png": "[encoded data removed]",
      "text/plain": [
       "<Figure size 432x288 with 1 Axes>"
      ]
     },
     "metadata": {},
     "output_type": "display_data"
    }
   ],
   "source": [
    "# Amount bins\n",
    "AMOUNT = True\n",
    "if AMOUNT:\n",
    "      final['amount_cat'] = pd.qcut(final.Amount, q=5,labels=[1,2,3,4,5])\n",
    "      \n",
    "      final['amount_cat'].value_counts().plot(kind='barh')\n",
    "      plt.show()\n",
    "      \n",
    "      qcut_series, qcut_intervals = pd.qcut(final.Amount, q=5,labels=[1,2,3,4,5],retbins=True)\n",
    "      \n",
    "      qcut_series.value_counts()"
   ]
  },
  {
   "cell_type": "code",
   "execution_count": 89,
   "id": "34e4ee82",
   "metadata": {},
   "outputs": [
    {
     "data": {
      "text/plain": [
       "1"
      ]
     },
     "execution_count": 89,
     "metadata": {},
     "output_type": "execute_result"
    }
   ],
   "source": [
    "newvars = len(final.columns) - 19 - varnum\n",
    "newvars"
   ]
  },
  {
   "cell_type": "code",
   "execution_count": 90,
   "id": "73e5c801",
   "metadata": {},
   "outputs": [
    {
     "data": {
      "text/plain": [
       "1394"
      ]
     },
     "execution_count": 90,
     "metadata": {},
     "output_type": "execute_result"
    }
   ],
   "source": [
    "varnum = len(final.columns) - 19\n",
    "varnum"
   ]
  },
  {
   "cell_type": "code",
   "execution_count": 91,
   "id": "c4431b7e",
   "metadata": {},
   "outputs": [
    {
     "name": "stdout",
     "output_type": "stream",
     "text": [
      "Cardnum\n",
      "Merchnum\n",
      "card_merch\n",
      "card_zip\n"
     ]
    },
    {
     "name": "stderr",
     "output_type": "stream",
     "text": [
      "C:\\Users\\Alex Tan\\AppData\\Local\\Temp\\ipykernel_15732\\3361502282.py:6: PerformanceWarning: DataFrame is highly fragmented.  This is usually the result of calling `frame.insert` many times, which has poor performance.  Consider joining all columns at once using pd.concat(axis=1) instead. To get a de-fragmented frame, use `newframe = frame.copy()`\n",
      "  final[ent + '_count_' + d + '_by_' + dd + \"_sq\"] =\\\n",
      "C:\\Users\\Alex Tan\\AppData\\Local\\Temp\\ipykernel_15732\\3361502282.py:6: PerformanceWarning: DataFrame is highly fragmented.  This is usually the result of calling `frame.insert` many times, which has poor performance.  Consider joining all columns at once using pd.concat(axis=1) instead. To get a de-fragmented frame, use `newframe = frame.copy()`\n",
      "  final[ent + '_count_' + d + '_by_' + dd + \"_sq\"] =\\\n",
      "C:\\Users\\Alex Tan\\AppData\\Local\\Temp\\ipykernel_15732\\3361502282.py:6: PerformanceWarning: DataFrame is highly fragmented.  This is usually the result of calling `frame.insert` many times, which has poor performance.  Consider joining all columns at once using pd.concat(axis=1) instead. To get a de-fragmented frame, use `newframe = frame.copy()`\n",
      "  final[ent + '_count_' + d + '_by_' + dd + \"_sq\"] =\\\n",
      "C:\\Users\\Alex Tan\\AppData\\Local\\Temp\\ipykernel_15732\\3361502282.py:6: PerformanceWarning: DataFrame is highly fragmented.  This is usually the result of calling `frame.insert` many times, which has poor performance.  Consider joining all columns at once using pd.concat(axis=1) instead. To get a de-fragmented frame, use `newframe = frame.copy()`\n",
      "  final[ent + '_count_' + d + '_by_' + dd + \"_sq\"] =\\\n",
      "C:\\Users\\Alex Tan\\AppData\\Local\\Temp\\ipykernel_15732\\3361502282.py:6: PerformanceWarning: DataFrame is highly fragmented.  This is usually the result of calling `frame.insert` many times, which has poor performance.  Consider joining all columns at once using pd.concat(axis=1) instead. To get a de-fragmented frame, use `newframe = frame.copy()`\n",
      "  final[ent + '_count_' + d + '_by_' + dd + \"_sq\"] =\\\n",
      "C:\\Users\\Alex Tan\\AppData\\Local\\Temp\\ipykernel_15732\\3361502282.py:6: PerformanceWarning: DataFrame is highly fragmented.  This is usually the result of calling `frame.insert` many times, which has poor performance.  Consider joining all columns at once using pd.concat(axis=1) instead. To get a de-fragmented frame, use `newframe = frame.copy()`\n",
      "  final[ent + '_count_' + d + '_by_' + dd + \"_sq\"] =\\\n",
      "C:\\Users\\Alex Tan\\AppData\\Local\\Temp\\ipykernel_15732\\3361502282.py:6: PerformanceWarning: DataFrame is highly fragmented.  This is usually the result of calling `frame.insert` many times, which has poor performance.  Consider joining all columns at once using pd.concat(axis=1) instead. To get a de-fragmented frame, use `newframe = frame.copy()`\n",
      "  final[ent + '_count_' + d + '_by_' + dd + \"_sq\"] =\\\n",
      "C:\\Users\\Alex Tan\\AppData\\Local\\Temp\\ipykernel_15732\\3361502282.py:6: PerformanceWarning: DataFrame is highly fragmented.  This is usually the result of calling `frame.insert` many times, which has poor performance.  Consider joining all columns at once using pd.concat(axis=1) instead. To get a de-fragmented frame, use `newframe = frame.copy()`\n",
      "  final[ent + '_count_' + d + '_by_' + dd + \"_sq\"] =\\\n",
      "C:\\Users\\Alex Tan\\AppData\\Local\\Temp\\ipykernel_15732\\3361502282.py:6: PerformanceWarning: DataFrame is highly fragmented.  This is usually the result of calling `frame.insert` many times, which has poor performance.  Consider joining all columns at once using pd.concat(axis=1) instead. To get a de-fragmented frame, use `newframe = frame.copy()`\n",
      "  final[ent + '_count_' + d + '_by_' + dd + \"_sq\"] =\\\n",
      "C:\\Users\\Alex Tan\\AppData\\Local\\Temp\\ipykernel_15732\\3361502282.py:6: PerformanceWarning: DataFrame is highly fragmented.  This is usually the result of calling `frame.insert` many times, which has poor performance.  Consider joining all columns at once using pd.concat(axis=1) instead. To get a de-fragmented frame, use `newframe = frame.copy()`\n",
      "  final[ent + '_count_' + d + '_by_' + dd + \"_sq\"] =\\\n",
      "C:\\Users\\Alex Tan\\AppData\\Local\\Temp\\ipykernel_15732\\3361502282.py:6: PerformanceWarning: DataFrame is highly fragmented.  This is usually the result of calling `frame.insert` many times, which has poor performance.  Consider joining all columns at once using pd.concat(axis=1) instead. To get a de-fragmented frame, use `newframe = frame.copy()`\n",
      "  final[ent + '_count_' + d + '_by_' + dd + \"_sq\"] =\\\n",
      "C:\\Users\\Alex Tan\\AppData\\Local\\Temp\\ipykernel_15732\\3361502282.py:6: PerformanceWarning: DataFrame is highly fragmented.  This is usually the result of calling `frame.insert` many times, which has poor performance.  Consider joining all columns at once using pd.concat(axis=1) instead. To get a de-fragmented frame, use `newframe = frame.copy()`\n",
      "  final[ent + '_count_' + d + '_by_' + dd + \"_sq\"] =\\\n",
      "C:\\Users\\Alex Tan\\AppData\\Local\\Temp\\ipykernel_15732\\3361502282.py:6: PerformanceWarning: DataFrame is highly fragmented.  This is usually the result of calling `frame.insert` many times, which has poor performance.  Consider joining all columns at once using pd.concat(axis=1) instead. To get a de-fragmented frame, use `newframe = frame.copy()`\n",
      "  final[ent + '_count_' + d + '_by_' + dd + \"_sq\"] =\\\n",
      "C:\\Users\\Alex Tan\\AppData\\Local\\Temp\\ipykernel_15732\\3361502282.py:6: PerformanceWarning: DataFrame is highly fragmented.  This is usually the result of calling `frame.insert` many times, which has poor performance.  Consider joining all columns at once using pd.concat(axis=1) instead. To get a de-fragmented frame, use `newframe = frame.copy()`\n",
      "  final[ent + '_count_' + d + '_by_' + dd + \"_sq\"] =\\\n",
      "C:\\Users\\Alex Tan\\AppData\\Local\\Temp\\ipykernel_15732\\3361502282.py:6: PerformanceWarning: DataFrame is highly fragmented.  This is usually the result of calling `frame.insert` many times, which has poor performance.  Consider joining all columns at once using pd.concat(axis=1) instead. To get a de-fragmented frame, use `newframe = frame.copy()`\n",
      "  final[ent + '_count_' + d + '_by_' + dd + \"_sq\"] =\\\n",
      "C:\\Users\\Alex Tan\\AppData\\Local\\Temp\\ipykernel_15732\\3361502282.py:6: PerformanceWarning: DataFrame is highly fragmented.  This is usually the result of calling `frame.insert` many times, which has poor performance.  Consider joining all columns at once using pd.concat(axis=1) instead. To get a de-fragmented frame, use `newframe = frame.copy()`\n",
      "  final[ent + '_count_' + d + '_by_' + dd + \"_sq\"] =\\\n",
      "C:\\Users\\Alex Tan\\AppData\\Local\\Temp\\ipykernel_15732\\3361502282.py:6: PerformanceWarning: DataFrame is highly fragmented.  This is usually the result of calling `frame.insert` many times, which has poor performance.  Consider joining all columns at once using pd.concat(axis=1) instead. To get a de-fragmented frame, use `newframe = frame.copy()`\n",
      "  final[ent + '_count_' + d + '_by_' + dd + \"_sq\"] =\\\n",
      "C:\\Users\\Alex Tan\\AppData\\Local\\Temp\\ipykernel_15732\\3361502282.py:6: PerformanceWarning: DataFrame is highly fragmented.  This is usually the result of calling `frame.insert` many times, which has poor performance.  Consider joining all columns at once using pd.concat(axis=1) instead. To get a de-fragmented frame, use `newframe = frame.copy()`\n",
      "  final[ent + '_count_' + d + '_by_' + dd + \"_sq\"] =\\\n",
      "C:\\Users\\Alex Tan\\AppData\\Local\\Temp\\ipykernel_15732\\3361502282.py:6: PerformanceWarning: DataFrame is highly fragmented.  This is usually the result of calling `frame.insert` many times, which has poor performance.  Consider joining all columns at once using pd.concat(axis=1) instead. To get a de-fragmented frame, use `newframe = frame.copy()`\n",
      "  final[ent + '_count_' + d + '_by_' + dd + \"_sq\"] =\\\n",
      "C:\\Users\\Alex Tan\\AppData\\Local\\Temp\\ipykernel_15732\\3361502282.py:6: PerformanceWarning: DataFrame is highly fragmented.  This is usually the result of calling `frame.insert` many times, which has poor performance.  Consider joining all columns at once using pd.concat(axis=1) instead. To get a de-fragmented frame, use `newframe = frame.copy()`\n",
      "  final[ent + '_count_' + d + '_by_' + dd + \"_sq\"] =\\\n",
      "C:\\Users\\Alex Tan\\AppData\\Local\\Temp\\ipykernel_15732\\3361502282.py:6: PerformanceWarning: DataFrame is highly fragmented.  This is usually the result of calling `frame.insert` many times, which has poor performance.  Consider joining all columns at once using pd.concat(axis=1) instead. To get a de-fragmented frame, use `newframe = frame.copy()`\n",
      "  final[ent + '_count_' + d + '_by_' + dd + \"_sq\"] =\\\n",
      "C:\\Users\\Alex Tan\\AppData\\Local\\Temp\\ipykernel_15732\\3361502282.py:6: PerformanceWarning: DataFrame is highly fragmented.  This is usually the result of calling `frame.insert` many times, which has poor performance.  Consider joining all columns at once using pd.concat(axis=1) instead. To get a de-fragmented frame, use `newframe = frame.copy()`\n",
      "  final[ent + '_count_' + d + '_by_' + dd + \"_sq\"] =\\\n"
     ]
    },
    {
     "name": "stderr",
     "output_type": "stream",
     "text": [
      "C:\\Users\\Alex Tan\\AppData\\Local\\Temp\\ipykernel_15732\\3361502282.py:6: PerformanceWarning: DataFrame is highly fragmented.  This is usually the result of calling `frame.insert` many times, which has poor performance.  Consider joining all columns at once using pd.concat(axis=1) instead. To get a de-fragmented frame, use `newframe = frame.copy()`\n",
      "  final[ent + '_count_' + d + '_by_' + dd + \"_sq\"] =\\\n",
      "C:\\Users\\Alex Tan\\AppData\\Local\\Temp\\ipykernel_15732\\3361502282.py:6: PerformanceWarning: DataFrame is highly fragmented.  This is usually the result of calling `frame.insert` many times, which has poor performance.  Consider joining all columns at once using pd.concat(axis=1) instead. To get a de-fragmented frame, use `newframe = frame.copy()`\n",
      "  final[ent + '_count_' + d + '_by_' + dd + \"_sq\"] =\\\n",
      "C:\\Users\\Alex Tan\\AppData\\Local\\Temp\\ipykernel_15732\\3361502282.py:6: PerformanceWarning: DataFrame is highly fragmented.  This is usually the result of calling `frame.insert` many times, which has poor performance.  Consider joining all columns at once using pd.concat(axis=1) instead. To get a de-fragmented frame, use `newframe = frame.copy()`\n",
      "  final[ent + '_count_' + d + '_by_' + dd + \"_sq\"] =\\\n",
      "C:\\Users\\Alex Tan\\AppData\\Local\\Temp\\ipykernel_15732\\3361502282.py:6: PerformanceWarning: DataFrame is highly fragmented.  This is usually the result of calling `frame.insert` many times, which has poor performance.  Consider joining all columns at once using pd.concat(axis=1) instead. To get a de-fragmented frame, use `newframe = frame.copy()`\n",
      "  final[ent + '_count_' + d + '_by_' + dd + \"_sq\"] =\\\n",
      "C:\\Users\\Alex Tan\\AppData\\Local\\Temp\\ipykernel_15732\\3361502282.py:6: PerformanceWarning: DataFrame is highly fragmented.  This is usually the result of calling `frame.insert` many times, which has poor performance.  Consider joining all columns at once using pd.concat(axis=1) instead. To get a de-fragmented frame, use `newframe = frame.copy()`\n",
      "  final[ent + '_count_' + d + '_by_' + dd + \"_sq\"] =\\\n",
      "C:\\Users\\Alex Tan\\AppData\\Local\\Temp\\ipykernel_15732\\3361502282.py:6: PerformanceWarning: DataFrame is highly fragmented.  This is usually the result of calling `frame.insert` many times, which has poor performance.  Consider joining all columns at once using pd.concat(axis=1) instead. To get a de-fragmented frame, use `newframe = frame.copy()`\n",
      "  final[ent + '_count_' + d + '_by_' + dd + \"_sq\"] =\\\n",
      "C:\\Users\\Alex Tan\\AppData\\Local\\Temp\\ipykernel_15732\\3361502282.py:6: PerformanceWarning: DataFrame is highly fragmented.  This is usually the result of calling `frame.insert` many times, which has poor performance.  Consider joining all columns at once using pd.concat(axis=1) instead. To get a de-fragmented frame, use `newframe = frame.copy()`\n",
      "  final[ent + '_count_' + d + '_by_' + dd + \"_sq\"] =\\\n",
      "C:\\Users\\Alex Tan\\AppData\\Local\\Temp\\ipykernel_15732\\3361502282.py:6: PerformanceWarning: DataFrame is highly fragmented.  This is usually the result of calling `frame.insert` many times, which has poor performance.  Consider joining all columns at once using pd.concat(axis=1) instead. To get a de-fragmented frame, use `newframe = frame.copy()`\n",
      "  final[ent + '_count_' + d + '_by_' + dd + \"_sq\"] =\\\n",
      "C:\\Users\\Alex Tan\\AppData\\Local\\Temp\\ipykernel_15732\\3361502282.py:6: PerformanceWarning: DataFrame is highly fragmented.  This is usually the result of calling `frame.insert` many times, which has poor performance.  Consider joining all columns at once using pd.concat(axis=1) instead. To get a de-fragmented frame, use `newframe = frame.copy()`\n",
      "  final[ent + '_count_' + d + '_by_' + dd + \"_sq\"] =\\\n",
      "C:\\Users\\Alex Tan\\AppData\\Local\\Temp\\ipykernel_15732\\3361502282.py:6: PerformanceWarning: DataFrame is highly fragmented.  This is usually the result of calling `frame.insert` many times, which has poor performance.  Consider joining all columns at once using pd.concat(axis=1) instead. To get a de-fragmented frame, use `newframe = frame.copy()`\n",
      "  final[ent + '_count_' + d + '_by_' + dd + \"_sq\"] =\\\n",
      "C:\\Users\\Alex Tan\\AppData\\Local\\Temp\\ipykernel_15732\\3361502282.py:6: PerformanceWarning: DataFrame is highly fragmented.  This is usually the result of calling `frame.insert` many times, which has poor performance.  Consider joining all columns at once using pd.concat(axis=1) instead. To get a de-fragmented frame, use `newframe = frame.copy()`\n",
      "  final[ent + '_count_' + d + '_by_' + dd + \"_sq\"] =\\\n",
      "C:\\Users\\Alex Tan\\AppData\\Local\\Temp\\ipykernel_15732\\3361502282.py:6: PerformanceWarning: DataFrame is highly fragmented.  This is usually the result of calling `frame.insert` many times, which has poor performance.  Consider joining all columns at once using pd.concat(axis=1) instead. To get a de-fragmented frame, use `newframe = frame.copy()`\n",
      "  final[ent + '_count_' + d + '_by_' + dd + \"_sq\"] =\\\n",
      "C:\\Users\\Alex Tan\\AppData\\Local\\Temp\\ipykernel_15732\\3361502282.py:6: PerformanceWarning: DataFrame is highly fragmented.  This is usually the result of calling `frame.insert` many times, which has poor performance.  Consider joining all columns at once using pd.concat(axis=1) instead. To get a de-fragmented frame, use `newframe = frame.copy()`\n",
      "  final[ent + '_count_' + d + '_by_' + dd + \"_sq\"] =\\\n",
      "C:\\Users\\Alex Tan\\AppData\\Local\\Temp\\ipykernel_15732\\3361502282.py:6: PerformanceWarning: DataFrame is highly fragmented.  This is usually the result of calling `frame.insert` many times, which has poor performance.  Consider joining all columns at once using pd.concat(axis=1) instead. To get a de-fragmented frame, use `newframe = frame.copy()`\n",
      "  final[ent + '_count_' + d + '_by_' + dd + \"_sq\"] =\\\n",
      "C:\\Users\\Alex Tan\\AppData\\Local\\Temp\\ipykernel_15732\\3361502282.py:6: PerformanceWarning: DataFrame is highly fragmented.  This is usually the result of calling `frame.insert` many times, which has poor performance.  Consider joining all columns at once using pd.concat(axis=1) instead. To get a de-fragmented frame, use `newframe = frame.copy()`\n",
      "  final[ent + '_count_' + d + '_by_' + dd + \"_sq\"] =\\\n",
      "C:\\Users\\Alex Tan\\AppData\\Local\\Temp\\ipykernel_15732\\3361502282.py:6: PerformanceWarning: DataFrame is highly fragmented.  This is usually the result of calling `frame.insert` many times, which has poor performance.  Consider joining all columns at once using pd.concat(axis=1) instead. To get a de-fragmented frame, use `newframe = frame.copy()`\n",
      "  final[ent + '_count_' + d + '_by_' + dd + \"_sq\"] =\\\n",
      "C:\\Users\\Alex Tan\\AppData\\Local\\Temp\\ipykernel_15732\\3361502282.py:6: PerformanceWarning: DataFrame is highly fragmented.  This is usually the result of calling `frame.insert` many times, which has poor performance.  Consider joining all columns at once using pd.concat(axis=1) instead. To get a de-fragmented frame, use `newframe = frame.copy()`\n",
      "  final[ent + '_count_' + d + '_by_' + dd + \"_sq\"] =\\\n",
      "C:\\Users\\Alex Tan\\AppData\\Local\\Temp\\ipykernel_15732\\3361502282.py:6: PerformanceWarning: DataFrame is highly fragmented.  This is usually the result of calling `frame.insert` many times, which has poor performance.  Consider joining all columns at once using pd.concat(axis=1) instead. To get a de-fragmented frame, use `newframe = frame.copy()`\n",
      "  final[ent + '_count_' + d + '_by_' + dd + \"_sq\"] =\\\n",
      "C:\\Users\\Alex Tan\\AppData\\Local\\Temp\\ipykernel_15732\\3361502282.py:6: PerformanceWarning: DataFrame is highly fragmented.  This is usually the result of calling `frame.insert` many times, which has poor performance.  Consider joining all columns at once using pd.concat(axis=1) instead. To get a de-fragmented frame, use `newframe = frame.copy()`\n",
      "  final[ent + '_count_' + d + '_by_' + dd + \"_sq\"] =\\\n",
      "C:\\Users\\Alex Tan\\AppData\\Local\\Temp\\ipykernel_15732\\3361502282.py:6: PerformanceWarning: DataFrame is highly fragmented.  This is usually the result of calling `frame.insert` many times, which has poor performance.  Consider joining all columns at once using pd.concat(axis=1) instead. To get a de-fragmented frame, use `newframe = frame.copy()`\n",
      "  final[ent + '_count_' + d + '_by_' + dd + \"_sq\"] =\\\n",
      "C:\\Users\\Alex Tan\\AppData\\Local\\Temp\\ipykernel_15732\\3361502282.py:6: PerformanceWarning: DataFrame is highly fragmented.  This is usually the result of calling `frame.insert` many times, which has poor performance.  Consider joining all columns at once using pd.concat(axis=1) instead. To get a de-fragmented frame, use `newframe = frame.copy()`\n",
      "  final[ent + '_count_' + d + '_by_' + dd + \"_sq\"] =\\\n",
      "C:\\Users\\Alex Tan\\AppData\\Local\\Temp\\ipykernel_15732\\3361502282.py:6: PerformanceWarning: DataFrame is highly fragmented.  This is usually the result of calling `frame.insert` many times, which has poor performance.  Consider joining all columns at once using pd.concat(axis=1) instead. To get a de-fragmented frame, use `newframe = frame.copy()`\n",
      "  final[ent + '_count_' + d + '_by_' + dd + \"_sq\"] =\\\n"
     ]
    },
    {
     "name": "stdout",
     "output_type": "stream",
     "text": [
      "merch_zip\n",
      "zip3\n",
      "card_zip3\n",
      "Card_Merchdesc\n",
      "Merchnum_desc\n",
      "Card_Merchnum_desc\n"
     ]
    },
    {
     "name": "stderr",
     "output_type": "stream",
     "text": [
      "C:\\Users\\Alex Tan\\AppData\\Local\\Temp\\ipykernel_15732\\3361502282.py:6: PerformanceWarning: DataFrame is highly fragmented.  This is usually the result of calling `frame.insert` many times, which has poor performance.  Consider joining all columns at once using pd.concat(axis=1) instead. To get a de-fragmented frame, use `newframe = frame.copy()`\n",
      "  final[ent + '_count_' + d + '_by_' + dd + \"_sq\"] =\\\n",
      "C:\\Users\\Alex Tan\\AppData\\Local\\Temp\\ipykernel_15732\\3361502282.py:6: PerformanceWarning: DataFrame is highly fragmented.  This is usually the result of calling `frame.insert` many times, which has poor performance.  Consider joining all columns at once using pd.concat(axis=1) instead. To get a de-fragmented frame, use `newframe = frame.copy()`\n",
      "  final[ent + '_count_' + d + '_by_' + dd + \"_sq\"] =\\\n",
      "C:\\Users\\Alex Tan\\AppData\\Local\\Temp\\ipykernel_15732\\3361502282.py:6: PerformanceWarning: DataFrame is highly fragmented.  This is usually the result of calling `frame.insert` many times, which has poor performance.  Consider joining all columns at once using pd.concat(axis=1) instead. To get a de-fragmented frame, use `newframe = frame.copy()`\n",
      "  final[ent + '_count_' + d + '_by_' + dd + \"_sq\"] =\\\n",
      "C:\\Users\\Alex Tan\\AppData\\Local\\Temp\\ipykernel_15732\\3361502282.py:6: PerformanceWarning: DataFrame is highly fragmented.  This is usually the result of calling `frame.insert` many times, which has poor performance.  Consider joining all columns at once using pd.concat(axis=1) instead. To get a de-fragmented frame, use `newframe = frame.copy()`\n",
      "  final[ent + '_count_' + d + '_by_' + dd + \"_sq\"] =\\\n",
      "C:\\Users\\Alex Tan\\AppData\\Local\\Temp\\ipykernel_15732\\3361502282.py:6: PerformanceWarning: DataFrame is highly fragmented.  This is usually the result of calling `frame.insert` many times, which has poor performance.  Consider joining all columns at once using pd.concat(axis=1) instead. To get a de-fragmented frame, use `newframe = frame.copy()`\n",
      "  final[ent + '_count_' + d + '_by_' + dd + \"_sq\"] =\\\n",
      "C:\\Users\\Alex Tan\\AppData\\Local\\Temp\\ipykernel_15732\\3361502282.py:6: PerformanceWarning: DataFrame is highly fragmented.  This is usually the result of calling `frame.insert` many times, which has poor performance.  Consider joining all columns at once using pd.concat(axis=1) instead. To get a de-fragmented frame, use `newframe = frame.copy()`\n",
      "  final[ent + '_count_' + d + '_by_' + dd + \"_sq\"] =\\\n",
      "C:\\Users\\Alex Tan\\AppData\\Local\\Temp\\ipykernel_15732\\3361502282.py:6: PerformanceWarning: DataFrame is highly fragmented.  This is usually the result of calling `frame.insert` many times, which has poor performance.  Consider joining all columns at once using pd.concat(axis=1) instead. To get a de-fragmented frame, use `newframe = frame.copy()`\n",
      "  final[ent + '_count_' + d + '_by_' + dd + \"_sq\"] =\\\n",
      "C:\\Users\\Alex Tan\\AppData\\Local\\Temp\\ipykernel_15732\\3361502282.py:6: PerformanceWarning: DataFrame is highly fragmented.  This is usually the result of calling `frame.insert` many times, which has poor performance.  Consider joining all columns at once using pd.concat(axis=1) instead. To get a de-fragmented frame, use `newframe = frame.copy()`\n",
      "  final[ent + '_count_' + d + '_by_' + dd + \"_sq\"] =\\\n",
      "C:\\Users\\Alex Tan\\AppData\\Local\\Temp\\ipykernel_15732\\3361502282.py:6: PerformanceWarning: DataFrame is highly fragmented.  This is usually the result of calling `frame.insert` many times, which has poor performance.  Consider joining all columns at once using pd.concat(axis=1) instead. To get a de-fragmented frame, use `newframe = frame.copy()`\n",
      "  final[ent + '_count_' + d + '_by_' + dd + \"_sq\"] =\\\n",
      "C:\\Users\\Alex Tan\\AppData\\Local\\Temp\\ipykernel_15732\\3361502282.py:6: PerformanceWarning: DataFrame is highly fragmented.  This is usually the result of calling `frame.insert` many times, which has poor performance.  Consider joining all columns at once using pd.concat(axis=1) instead. To get a de-fragmented frame, use `newframe = frame.copy()`\n",
      "  final[ent + '_count_' + d + '_by_' + dd + \"_sq\"] =\\\n",
      "C:\\Users\\Alex Tan\\AppData\\Local\\Temp\\ipykernel_15732\\3361502282.py:6: PerformanceWarning: DataFrame is highly fragmented.  This is usually the result of calling `frame.insert` many times, which has poor performance.  Consider joining all columns at once using pd.concat(axis=1) instead. To get a de-fragmented frame, use `newframe = frame.copy()`\n",
      "  final[ent + '_count_' + d + '_by_' + dd + \"_sq\"] =\\\n",
      "C:\\Users\\Alex Tan\\AppData\\Local\\Temp\\ipykernel_15732\\3361502282.py:6: PerformanceWarning: DataFrame is highly fragmented.  This is usually the result of calling `frame.insert` many times, which has poor performance.  Consider joining all columns at once using pd.concat(axis=1) instead. To get a de-fragmented frame, use `newframe = frame.copy()`\n",
      "  final[ent + '_count_' + d + '_by_' + dd + \"_sq\"] =\\\n",
      "C:\\Users\\Alex Tan\\AppData\\Local\\Temp\\ipykernel_15732\\3361502282.py:6: PerformanceWarning: DataFrame is highly fragmented.  This is usually the result of calling `frame.insert` many times, which has poor performance.  Consider joining all columns at once using pd.concat(axis=1) instead. To get a de-fragmented frame, use `newframe = frame.copy()`\n",
      "  final[ent + '_count_' + d + '_by_' + dd + \"_sq\"] =\\\n",
      "C:\\Users\\Alex Tan\\AppData\\Local\\Temp\\ipykernel_15732\\3361502282.py:6: PerformanceWarning: DataFrame is highly fragmented.  This is usually the result of calling `frame.insert` many times, which has poor performance.  Consider joining all columns at once using pd.concat(axis=1) instead. To get a de-fragmented frame, use `newframe = frame.copy()`\n",
      "  final[ent + '_count_' + d + '_by_' + dd + \"_sq\"] =\\\n",
      "C:\\Users\\Alex Tan\\AppData\\Local\\Temp\\ipykernel_15732\\3361502282.py:6: PerformanceWarning: DataFrame is highly fragmented.  This is usually the result of calling `frame.insert` many times, which has poor performance.  Consider joining all columns at once using pd.concat(axis=1) instead. To get a de-fragmented frame, use `newframe = frame.copy()`\n",
      "  final[ent + '_count_' + d + '_by_' + dd + \"_sq\"] =\\\n",
      "C:\\Users\\Alex Tan\\AppData\\Local\\Temp\\ipykernel_15732\\3361502282.py:6: PerformanceWarning: DataFrame is highly fragmented.  This is usually the result of calling `frame.insert` many times, which has poor performance.  Consider joining all columns at once using pd.concat(axis=1) instead. To get a de-fragmented frame, use `newframe = frame.copy()`\n",
      "  final[ent + '_count_' + d + '_by_' + dd + \"_sq\"] =\\\n"
     ]
    }
   ],
   "source": [
    "# acceleration\n",
    "for ent in entities:\n",
    "    print(ent)\n",
    "    for d in ['0', '1']:\n",
    "        for dd in ['7', '14', '30']:\n",
    "            final[ent + '_count_' + d + '_by_' + dd + \"_sq\"] =\\\n",
    "            final[ent + '_count_' + d]/(final[ent + '_count_' + dd])/pow(float(dd),2)"
   ]
  },
  {
   "cell_type": "code",
   "execution_count": 92,
   "id": "1b742266",
   "metadata": {},
   "outputs": [
    {
     "data": {
      "text/plain": [
       "60"
      ]
     },
     "execution_count": 92,
     "metadata": {},
     "output_type": "execute_result"
    }
   ],
   "source": [
    "newvars = len(final.columns) - 19 - varnum\n",
    "newvars"
   ]
  },
  {
   "cell_type": "code",
   "execution_count": 93,
   "id": "f158981a",
   "metadata": {},
   "outputs": [
    {
     "data": {
      "text/plain": [
       "1454"
      ]
     },
     "execution_count": 93,
     "metadata": {},
     "output_type": "execute_result"
    }
   ],
   "source": [
    "varnum = len(final.columns) - 19\n",
    "varnum"
   ]
  },
  {
   "cell_type": "markdown",
   "id": "817aeddd",
   "metadata": {},
   "source": [
    "# Deduplicate variables"
   ]
  },
  {
   "cell_type": "code",
   "execution_count": 94,
   "id": "c2635e77",
   "metadata": {},
   "outputs": [],
   "source": [
    "backup = final.copy()"
   ]
  },
  {
   "cell_type": "code",
   "execution_count": 95,
   "id": "630c6031",
   "metadata": {},
   "outputs": [
    {
     "name": "stdout",
     "output_type": "stream",
     "text": [
      "(96397, 1473)\n",
      "CPU times: total: 31.6 s\n",
      "Wall time: 31.6 s\n"
     ]
    },
    {
     "data": {
      "text/plain": [
       "(96397, 1210)"
      ]
     },
     "execution_count": 95,
     "metadata": {},
     "output_type": "execute_result"
    }
   ],
   "source": [
    "%%time\n",
    "print(final.shape)\n",
    "final = final.T.drop_duplicates().T\n",
    "final.shape"
   ]
  },
  {
   "cell_type": "code",
   "execution_count": 96,
   "id": "eead7e77",
   "metadata": {},
   "outputs": [
    {
     "data": {
      "text/plain": [
       "1191"
      ]
     },
     "execution_count": 96,
     "metadata": {},
     "output_type": "execute_result"
    }
   ],
   "source": [
    "len(final.columns) - 19"
   ]
  },
  {
   "cell_type": "code",
   "execution_count": 97,
   "id": "2871b0fc",
   "metadata": {
    "scrolled": true
   },
   "outputs": [
    {
     "data": {
      "text/plain": [
       "['Recnum',\n",
       " 'Cardnum',\n",
       " 'Date',\n",
       " 'Merchnum',\n",
       " 'Merch description',\n",
       " 'Merch state',\n",
       " 'Merch zip',\n",
       " 'Transtype',\n",
       " 'Amount',\n",
       " 'Fraud',\n",
       " 'Dow',\n",
       " 'Dow_risk',\n",
       " 'card_merch',\n",
       " 'card_zip',\n",
       " 'merch_zip',\n",
       " 'zip3',\n",
       " 'card_zip3',\n",
       " 'Card_Merchdesc',\n",
       " 'Merchnum_desc',\n",
       " 'Card_Merchnum_desc',\n",
       " 'U*_cardnum',\n",
       " 'U*_merchnum',\n",
       " 'Cardnum_day_since',\n",
       " 'Cardnum_count_0',\n",
       " 'Cardnum_avg_0',\n",
       " 'Cardnum_max_0',\n",
       " 'Cardnum_med_0',\n",
       " 'Cardnum_total_0',\n",
       " 'Cardnum_actual/avg_0',\n",
       " 'Cardnum_actual/max_0',\n",
       " 'Cardnum_actual/med_0',\n",
       " 'Cardnum_actual/toal_0',\n",
       " 'Cardnum_count_1',\n",
       " 'Cardnum_avg_1',\n",
       " 'Cardnum_max_1',\n",
       " 'Cardnum_med_1',\n",
       " 'Cardnum_total_1',\n",
       " 'Cardnum_actual/avg_1',\n",
       " 'Cardnum_actual/max_1',\n",
       " 'Cardnum_actual/med_1',\n",
       " 'Cardnum_actual/toal_1',\n",
       " 'Cardnum_count_3',\n",
       " 'Cardnum_avg_3',\n",
       " 'Cardnum_max_3',\n",
       " 'Cardnum_med_3',\n",
       " 'Cardnum_total_3',\n",
       " 'Cardnum_actual/avg_3',\n",
       " 'Cardnum_actual/max_3',\n",
       " 'Cardnum_actual/med_3',\n",
       " 'Cardnum_actual/toal_3',\n",
       " 'Cardnum_count_7',\n",
       " 'Cardnum_avg_7',\n",
       " 'Cardnum_max_7',\n",
       " 'Cardnum_med_7',\n",
       " 'Cardnum_total_7',\n",
       " 'Cardnum_actual/avg_7',\n",
       " 'Cardnum_actual/max_7',\n",
       " 'Cardnum_actual/med_7',\n",
       " 'Cardnum_actual/toal_7',\n",
       " 'Cardnum_count_14',\n",
       " 'Cardnum_avg_14',\n",
       " 'Cardnum_max_14',\n",
       " 'Cardnum_med_14',\n",
       " 'Cardnum_total_14',\n",
       " 'Cardnum_actual/avg_14',\n",
       " 'Cardnum_actual/max_14',\n",
       " 'Cardnum_actual/med_14',\n",
       " 'Cardnum_actual/toal_14',\n",
       " 'Cardnum_count_30',\n",
       " 'Cardnum_avg_30',\n",
       " 'Cardnum_max_30',\n",
       " 'Cardnum_med_30',\n",
       " 'Cardnum_total_30',\n",
       " 'Cardnum_actual/avg_30',\n",
       " 'Cardnum_actual/max_30',\n",
       " 'Cardnum_actual/med_30',\n",
       " 'Cardnum_actual/toal_30',\n",
       " 'Merchnum_day_since',\n",
       " 'Merchnum_count_0',\n",
       " 'Merchnum_avg_0',\n",
       " 'Merchnum_max_0',\n",
       " 'Merchnum_med_0',\n",
       " 'Merchnum_total_0',\n",
       " 'Merchnum_actual/avg_0',\n",
       " 'Merchnum_actual/max_0',\n",
       " 'Merchnum_actual/med_0',\n",
       " 'Merchnum_actual/toal_0',\n",
       " 'Merchnum_count_1',\n",
       " 'Merchnum_avg_1',\n",
       " 'Merchnum_max_1',\n",
       " 'Merchnum_med_1',\n",
       " 'Merchnum_total_1',\n",
       " 'Merchnum_actual/avg_1',\n",
       " 'Merchnum_actual/max_1',\n",
       " 'Merchnum_actual/med_1',\n",
       " 'Merchnum_actual/toal_1',\n",
       " 'Merchnum_count_3',\n",
       " 'Merchnum_avg_3',\n",
       " 'Merchnum_max_3',\n",
       " 'Merchnum_med_3',\n",
       " 'Merchnum_total_3',\n",
       " 'Merchnum_actual/avg_3',\n",
       " 'Merchnum_actual/max_3',\n",
       " 'Merchnum_actual/med_3',\n",
       " 'Merchnum_actual/toal_3',\n",
       " 'Merchnum_count_7',\n",
       " 'Merchnum_avg_7',\n",
       " 'Merchnum_max_7',\n",
       " 'Merchnum_med_7',\n",
       " 'Merchnum_total_7',\n",
       " 'Merchnum_actual/avg_7',\n",
       " 'Merchnum_actual/max_7',\n",
       " 'Merchnum_actual/med_7',\n",
       " 'Merchnum_actual/toal_7',\n",
       " 'Merchnum_count_14',\n",
       " 'Merchnum_avg_14',\n",
       " 'Merchnum_max_14',\n",
       " 'Merchnum_med_14',\n",
       " 'Merchnum_total_14',\n",
       " 'Merchnum_actual/avg_14',\n",
       " 'Merchnum_actual/max_14',\n",
       " 'Merchnum_actual/med_14',\n",
       " 'Merchnum_actual/toal_14',\n",
       " 'Merchnum_count_30',\n",
       " 'Merchnum_avg_30',\n",
       " 'Merchnum_max_30',\n",
       " 'Merchnum_med_30',\n",
       " 'Merchnum_total_30',\n",
       " 'Merchnum_actual/avg_30',\n",
       " 'Merchnum_actual/max_30',\n",
       " 'Merchnum_actual/med_30',\n",
       " 'Merchnum_actual/toal_30',\n",
       " 'card_merch_day_since',\n",
       " 'card_merch_count_0',\n",
       " 'card_merch_avg_0',\n",
       " 'card_merch_max_0',\n",
       " 'card_merch_med_0',\n",
       " 'card_merch_total_0',\n",
       " 'card_merch_actual/avg_0',\n",
       " 'card_merch_actual/max_0',\n",
       " 'card_merch_actual/med_0',\n",
       " 'card_merch_actual/toal_0',\n",
       " 'card_merch_count_1',\n",
       " 'card_merch_avg_1',\n",
       " 'card_merch_max_1',\n",
       " 'card_merch_med_1',\n",
       " 'card_merch_total_1',\n",
       " 'card_merch_actual/avg_1',\n",
       " 'card_merch_actual/max_1',\n",
       " 'card_merch_actual/med_1',\n",
       " 'card_merch_actual/toal_1',\n",
       " 'card_merch_count_3',\n",
       " 'card_merch_avg_3',\n",
       " 'card_merch_max_3',\n",
       " 'card_merch_med_3',\n",
       " 'card_merch_total_3',\n",
       " 'card_merch_actual/avg_3',\n",
       " 'card_merch_actual/max_3',\n",
       " 'card_merch_actual/med_3',\n",
       " 'card_merch_actual/toal_3',\n",
       " 'card_merch_count_7',\n",
       " 'card_merch_avg_7',\n",
       " 'card_merch_max_7',\n",
       " 'card_merch_med_7',\n",
       " 'card_merch_total_7',\n",
       " 'card_merch_actual/avg_7',\n",
       " 'card_merch_actual/max_7',\n",
       " 'card_merch_actual/med_7',\n",
       " 'card_merch_actual/toal_7',\n",
       " 'card_merch_count_14',\n",
       " 'card_merch_avg_14',\n",
       " 'card_merch_max_14',\n",
       " 'card_merch_med_14',\n",
       " 'card_merch_total_14',\n",
       " 'card_merch_actual/avg_14',\n",
       " 'card_merch_actual/max_14',\n",
       " 'card_merch_actual/med_14',\n",
       " 'card_merch_actual/toal_14',\n",
       " 'card_merch_count_30',\n",
       " 'card_merch_avg_30',\n",
       " 'card_merch_max_30',\n",
       " 'card_merch_med_30',\n",
       " 'card_merch_total_30',\n",
       " 'card_merch_actual/avg_30',\n",
       " 'card_merch_actual/max_30',\n",
       " 'card_merch_actual/med_30',\n",
       " 'card_merch_actual/toal_30',\n",
       " 'card_zip_day_since',\n",
       " 'card_zip_count_0',\n",
       " 'card_zip_avg_0',\n",
       " 'card_zip_max_0',\n",
       " 'card_zip_med_0',\n",
       " 'card_zip_total_0',\n",
       " 'card_zip_actual/avg_0',\n",
       " 'card_zip_actual/max_0',\n",
       " 'card_zip_actual/med_0',\n",
       " 'card_zip_actual/toal_0',\n",
       " 'card_zip_count_1',\n",
       " 'card_zip_avg_1',\n",
       " 'card_zip_max_1',\n",
       " 'card_zip_med_1',\n",
       " 'card_zip_total_1',\n",
       " 'card_zip_actual/avg_1',\n",
       " 'card_zip_actual/max_1',\n",
       " 'card_zip_actual/med_1',\n",
       " 'card_zip_actual/toal_1',\n",
       " 'card_zip_count_3',\n",
       " 'card_zip_avg_3',\n",
       " 'card_zip_max_3',\n",
       " 'card_zip_med_3',\n",
       " 'card_zip_total_3',\n",
       " 'card_zip_actual/avg_3',\n",
       " 'card_zip_actual/max_3',\n",
       " 'card_zip_actual/med_3',\n",
       " 'card_zip_actual/toal_3',\n",
       " 'card_zip_count_7',\n",
       " 'card_zip_avg_7',\n",
       " 'card_zip_max_7',\n",
       " 'card_zip_med_7',\n",
       " 'card_zip_total_7',\n",
       " 'card_zip_actual/avg_7',\n",
       " 'card_zip_actual/max_7',\n",
       " 'card_zip_actual/med_7',\n",
       " 'card_zip_actual/toal_7',\n",
       " 'card_zip_count_14',\n",
       " 'card_zip_avg_14',\n",
       " 'card_zip_max_14',\n",
       " 'card_zip_med_14',\n",
       " 'card_zip_total_14',\n",
       " 'card_zip_actual/avg_14',\n",
       " 'card_zip_actual/max_14',\n",
       " 'card_zip_actual/med_14',\n",
       " 'card_zip_actual/toal_14',\n",
       " 'card_zip_count_30',\n",
       " 'card_zip_avg_30',\n",
       " 'card_zip_max_30',\n",
       " 'card_zip_med_30',\n",
       " 'card_zip_total_30',\n",
       " 'card_zip_actual/avg_30',\n",
       " 'card_zip_actual/max_30',\n",
       " 'card_zip_actual/med_30',\n",
       " 'card_zip_actual/toal_30',\n",
       " 'merch_zip_day_since',\n",
       " 'merch_zip_count_0',\n",
       " 'merch_zip_avg_0',\n",
       " 'merch_zip_max_0',\n",
       " 'merch_zip_med_0',\n",
       " 'merch_zip_total_0',\n",
       " 'merch_zip_actual/avg_0',\n",
       " 'merch_zip_actual/max_0',\n",
       " 'merch_zip_actual/med_0',\n",
       " 'merch_zip_actual/toal_0',\n",
       " 'merch_zip_count_1',\n",
       " 'merch_zip_avg_1',\n",
       " 'merch_zip_max_1',\n",
       " 'merch_zip_med_1',\n",
       " 'merch_zip_total_1',\n",
       " 'merch_zip_actual/avg_1',\n",
       " 'merch_zip_actual/max_1',\n",
       " 'merch_zip_actual/med_1',\n",
       " 'merch_zip_actual/toal_1',\n",
       " 'merch_zip_count_3',\n",
       " 'merch_zip_avg_3',\n",
       " 'merch_zip_max_3',\n",
       " 'merch_zip_med_3',\n",
       " 'merch_zip_total_3',\n",
       " 'merch_zip_actual/avg_3',\n",
       " 'merch_zip_actual/max_3',\n",
       " 'merch_zip_actual/med_3',\n",
       " 'merch_zip_actual/toal_3',\n",
       " 'merch_zip_count_7',\n",
       " 'merch_zip_avg_7',\n",
       " 'merch_zip_max_7',\n",
       " 'merch_zip_med_7',\n",
       " 'merch_zip_total_7',\n",
       " 'merch_zip_actual/avg_7',\n",
       " 'merch_zip_actual/max_7',\n",
       " 'merch_zip_actual/med_7',\n",
       " 'merch_zip_actual/toal_7',\n",
       " 'merch_zip_count_14',\n",
       " 'merch_zip_avg_14',\n",
       " 'merch_zip_max_14',\n",
       " 'merch_zip_med_14',\n",
       " 'merch_zip_total_14',\n",
       " 'merch_zip_actual/avg_14',\n",
       " 'merch_zip_actual/max_14',\n",
       " 'merch_zip_actual/med_14',\n",
       " 'merch_zip_actual/toal_14',\n",
       " 'merch_zip_count_30',\n",
       " 'merch_zip_avg_30',\n",
       " 'merch_zip_max_30',\n",
       " 'merch_zip_med_30',\n",
       " 'merch_zip_total_30',\n",
       " 'merch_zip_actual/avg_30',\n",
       " 'merch_zip_actual/max_30',\n",
       " 'merch_zip_actual/med_30',\n",
       " 'merch_zip_actual/toal_30',\n",
       " 'zip3_day_since',\n",
       " 'zip3_count_0',\n",
       " 'zip3_avg_0',\n",
       " 'zip3_max_0',\n",
       " 'zip3_med_0',\n",
       " 'zip3_total_0',\n",
       " 'zip3_actual/avg_0',\n",
       " 'zip3_actual/max_0',\n",
       " 'zip3_actual/med_0',\n",
       " 'zip3_actual/toal_0',\n",
       " 'zip3_count_1',\n",
       " 'zip3_avg_1',\n",
       " 'zip3_max_1',\n",
       " 'zip3_med_1',\n",
       " 'zip3_total_1',\n",
       " 'zip3_actual/avg_1',\n",
       " 'zip3_actual/max_1',\n",
       " 'zip3_actual/med_1',\n",
       " 'zip3_actual/toal_1',\n",
       " 'zip3_count_3',\n",
       " 'zip3_avg_3',\n",
       " 'zip3_max_3',\n",
       " 'zip3_med_3',\n",
       " 'zip3_total_3',\n",
       " 'zip3_actual/avg_3',\n",
       " 'zip3_actual/max_3',\n",
       " 'zip3_actual/med_3',\n",
       " 'zip3_actual/toal_3',\n",
       " 'zip3_count_7',\n",
       " 'zip3_avg_7',\n",
       " 'zip3_max_7',\n",
       " 'zip3_med_7',\n",
       " 'zip3_total_7',\n",
       " 'zip3_actual/avg_7',\n",
       " 'zip3_actual/max_7',\n",
       " 'zip3_actual/med_7',\n",
       " 'zip3_actual/toal_7',\n",
       " 'zip3_count_14',\n",
       " 'zip3_avg_14',\n",
       " 'zip3_max_14',\n",
       " 'zip3_med_14',\n",
       " 'zip3_total_14',\n",
       " 'zip3_actual/avg_14',\n",
       " 'zip3_actual/max_14',\n",
       " 'zip3_actual/med_14',\n",
       " 'zip3_actual/toal_14',\n",
       " 'zip3_count_30',\n",
       " 'zip3_avg_30',\n",
       " 'zip3_max_30',\n",
       " 'zip3_med_30',\n",
       " 'zip3_total_30',\n",
       " 'zip3_actual/avg_30',\n",
       " 'zip3_actual/max_30',\n",
       " 'zip3_actual/med_30',\n",
       " 'zip3_actual/toal_30',\n",
       " 'card_zip3_day_since',\n",
       " 'card_zip3_count_0',\n",
       " 'card_zip3_avg_0',\n",
       " 'card_zip3_max_0',\n",
       " 'card_zip3_med_0',\n",
       " 'card_zip3_total_0',\n",
       " 'card_zip3_actual/avg_0',\n",
       " 'card_zip3_actual/max_0',\n",
       " 'card_zip3_actual/med_0',\n",
       " 'card_zip3_actual/toal_0',\n",
       " 'card_zip3_count_1',\n",
       " 'card_zip3_avg_1',\n",
       " 'card_zip3_max_1',\n",
       " 'card_zip3_med_1',\n",
       " 'card_zip3_total_1',\n",
       " 'card_zip3_actual/avg_1',\n",
       " 'card_zip3_actual/max_1',\n",
       " 'card_zip3_actual/med_1',\n",
       " 'card_zip3_actual/toal_1',\n",
       " 'card_zip3_count_3',\n",
       " 'card_zip3_avg_3',\n",
       " 'card_zip3_max_3',\n",
       " 'card_zip3_med_3',\n",
       " 'card_zip3_total_3',\n",
       " 'card_zip3_actual/avg_3',\n",
       " 'card_zip3_actual/max_3',\n",
       " 'card_zip3_actual/med_3',\n",
       " 'card_zip3_actual/toal_3',\n",
       " 'card_zip3_count_7',\n",
       " 'card_zip3_avg_7',\n",
       " 'card_zip3_max_7',\n",
       " 'card_zip3_med_7',\n",
       " 'card_zip3_total_7',\n",
       " 'card_zip3_actual/avg_7',\n",
       " 'card_zip3_actual/max_7',\n",
       " 'card_zip3_actual/med_7',\n",
       " 'card_zip3_actual/toal_7',\n",
       " 'card_zip3_count_14',\n",
       " 'card_zip3_avg_14',\n",
       " 'card_zip3_max_14',\n",
       " 'card_zip3_med_14',\n",
       " 'card_zip3_total_14',\n",
       " 'card_zip3_actual/avg_14',\n",
       " 'card_zip3_actual/max_14',\n",
       " 'card_zip3_actual/med_14',\n",
       " 'card_zip3_actual/toal_14',\n",
       " 'card_zip3_count_30',\n",
       " 'card_zip3_avg_30',\n",
       " 'card_zip3_max_30',\n",
       " 'card_zip3_med_30',\n",
       " 'card_zip3_total_30',\n",
       " 'card_zip3_actual/avg_30',\n",
       " 'card_zip3_actual/max_30',\n",
       " 'card_zip3_actual/med_30',\n",
       " 'card_zip3_actual/toal_30',\n",
       " 'Card_Merchdesc_day_since',\n",
       " 'Card_Merchdesc_count_0',\n",
       " 'Card_Merchdesc_avg_0',\n",
       " 'Card_Merchdesc_max_0',\n",
       " 'Card_Merchdesc_med_0',\n",
       " 'Card_Merchdesc_total_0',\n",
       " 'Card_Merchdesc_actual/avg_0',\n",
       " 'Card_Merchdesc_actual/max_0',\n",
       " 'Card_Merchdesc_actual/med_0',\n",
       " 'Card_Merchdesc_actual/toal_0',\n",
       " 'Card_Merchdesc_count_1',\n",
       " 'Card_Merchdesc_avg_1',\n",
       " 'Card_Merchdesc_max_1',\n",
       " 'Card_Merchdesc_med_1',\n",
       " 'Card_Merchdesc_total_1',\n",
       " 'Card_Merchdesc_actual/avg_1',\n",
       " 'Card_Merchdesc_actual/max_1',\n",
       " 'Card_Merchdesc_actual/med_1',\n",
       " 'Card_Merchdesc_actual/toal_1',\n",
       " 'Card_Merchdesc_count_3',\n",
       " 'Card_Merchdesc_avg_3',\n",
       " 'Card_Merchdesc_max_3',\n",
       " 'Card_Merchdesc_med_3',\n",
       " 'Card_Merchdesc_total_3',\n",
       " 'Card_Merchdesc_actual/avg_3',\n",
       " 'Card_Merchdesc_actual/max_3',\n",
       " 'Card_Merchdesc_actual/med_3',\n",
       " 'Card_Merchdesc_actual/toal_3',\n",
       " 'Card_Merchdesc_count_7',\n",
       " 'Card_Merchdesc_avg_7',\n",
       " 'Card_Merchdesc_max_7',\n",
       " 'Card_Merchdesc_med_7',\n",
       " 'Card_Merchdesc_total_7',\n",
       " 'Card_Merchdesc_actual/avg_7',\n",
       " 'Card_Merchdesc_actual/max_7',\n",
       " 'Card_Merchdesc_actual/med_7',\n",
       " 'Card_Merchdesc_actual/toal_7',\n",
       " 'Card_Merchdesc_count_14',\n",
       " 'Card_Merchdesc_avg_14',\n",
       " 'Card_Merchdesc_max_14',\n",
       " 'Card_Merchdesc_med_14',\n",
       " 'Card_Merchdesc_total_14',\n",
       " 'Card_Merchdesc_actual/avg_14',\n",
       " 'Card_Merchdesc_actual/max_14',\n",
       " 'Card_Merchdesc_actual/med_14',\n",
       " 'Card_Merchdesc_actual/toal_14',\n",
       " 'Card_Merchdesc_count_30',\n",
       " 'Card_Merchdesc_avg_30',\n",
       " 'Card_Merchdesc_max_30',\n",
       " 'Card_Merchdesc_med_30',\n",
       " 'Card_Merchdesc_total_30',\n",
       " 'Card_Merchdesc_actual/avg_30',\n",
       " 'Card_Merchdesc_actual/max_30',\n",
       " 'Card_Merchdesc_actual/med_30',\n",
       " 'Card_Merchdesc_actual/toal_30',\n",
       " 'Merchnum_desc_day_since',\n",
       " 'Merchnum_desc_count_0',\n",
       " 'Merchnum_desc_avg_0',\n",
       " 'Merchnum_desc_max_0',\n",
       " 'Merchnum_desc_med_0',\n",
       " 'Merchnum_desc_total_0',\n",
       " 'Merchnum_desc_actual/avg_0',\n",
       " 'Merchnum_desc_actual/max_0',\n",
       " 'Merchnum_desc_actual/med_0',\n",
       " 'Merchnum_desc_actual/toal_0',\n",
       " 'Merchnum_desc_count_1',\n",
       " 'Merchnum_desc_avg_1',\n",
       " 'Merchnum_desc_max_1',\n",
       " 'Merchnum_desc_med_1',\n",
       " 'Merchnum_desc_total_1',\n",
       " 'Merchnum_desc_actual/avg_1',\n",
       " 'Merchnum_desc_actual/max_1',\n",
       " 'Merchnum_desc_actual/med_1',\n",
       " 'Merchnum_desc_actual/toal_1',\n",
       " 'Merchnum_desc_count_3',\n",
       " 'Merchnum_desc_avg_3',\n",
       " 'Merchnum_desc_max_3',\n",
       " 'Merchnum_desc_med_3',\n",
       " 'Merchnum_desc_total_3',\n",
       " 'Merchnum_desc_actual/avg_3',\n",
       " 'Merchnum_desc_actual/max_3',\n",
       " 'Merchnum_desc_actual/med_3',\n",
       " 'Merchnum_desc_actual/toal_3',\n",
       " 'Merchnum_desc_count_7',\n",
       " 'Merchnum_desc_avg_7',\n",
       " 'Merchnum_desc_max_7',\n",
       " 'Merchnum_desc_med_7',\n",
       " 'Merchnum_desc_total_7',\n",
       " 'Merchnum_desc_actual/avg_7',\n",
       " 'Merchnum_desc_actual/max_7',\n",
       " 'Merchnum_desc_actual/med_7',\n",
       " 'Merchnum_desc_actual/toal_7',\n",
       " 'Merchnum_desc_count_14',\n",
       " 'Merchnum_desc_avg_14',\n",
       " 'Merchnum_desc_max_14',\n",
       " 'Merchnum_desc_med_14',\n",
       " 'Merchnum_desc_total_14',\n",
       " 'Merchnum_desc_actual/avg_14',\n",
       " 'Merchnum_desc_actual/max_14',\n",
       " 'Merchnum_desc_actual/med_14',\n",
       " 'Merchnum_desc_actual/toal_14',\n",
       " 'Merchnum_desc_count_30',\n",
       " 'Merchnum_desc_avg_30',\n",
       " 'Merchnum_desc_max_30',\n",
       " 'Merchnum_desc_med_30',\n",
       " 'Merchnum_desc_total_30',\n",
       " 'Merchnum_desc_actual/avg_30',\n",
       " 'Merchnum_desc_actual/max_30',\n",
       " 'Merchnum_desc_actual/med_30',\n",
       " 'Merchnum_desc_actual/toal_30',\n",
       " 'Card_Merchnum_desc_day_since',\n",
       " 'Card_Merchnum_desc_count_0',\n",
       " 'Card_Merchnum_desc_avg_0',\n",
       " 'Card_Merchnum_desc_max_0',\n",
       " 'Card_Merchnum_desc_med_0',\n",
       " 'Card_Merchnum_desc_total_0',\n",
       " 'Card_Merchnum_desc_actual/avg_0',\n",
       " 'Card_Merchnum_desc_actual/max_0',\n",
       " 'Card_Merchnum_desc_actual/med_0',\n",
       " 'Card_Merchnum_desc_actual/toal_0',\n",
       " 'Card_Merchnum_desc_count_1',\n",
       " 'Card_Merchnum_desc_avg_1',\n",
       " 'Card_Merchnum_desc_max_1',\n",
       " 'Card_Merchnum_desc_med_1',\n",
       " 'Card_Merchnum_desc_total_1',\n",
       " 'Card_Merchnum_desc_actual/avg_1',\n",
       " 'Card_Merchnum_desc_actual/max_1',\n",
       " 'Card_Merchnum_desc_actual/med_1',\n",
       " 'Card_Merchnum_desc_actual/toal_1',\n",
       " 'Card_Merchnum_desc_count_3',\n",
       " 'Card_Merchnum_desc_avg_3',\n",
       " 'Card_Merchnum_desc_max_3',\n",
       " 'Card_Merchnum_desc_med_3',\n",
       " 'Card_Merchnum_desc_total_3',\n",
       " 'Card_Merchnum_desc_actual/avg_3',\n",
       " 'Card_Merchnum_desc_actual/max_3',\n",
       " 'Card_Merchnum_desc_actual/med_3',\n",
       " 'Card_Merchnum_desc_actual/toal_3',\n",
       " 'Card_Merchnum_desc_count_7',\n",
       " 'Card_Merchnum_desc_avg_7',\n",
       " 'Card_Merchnum_desc_max_7',\n",
       " 'Card_Merchnum_desc_med_7',\n",
       " 'Card_Merchnum_desc_total_7',\n",
       " 'Card_Merchnum_desc_actual/avg_7',\n",
       " 'Card_Merchnum_desc_actual/max_7',\n",
       " 'Card_Merchnum_desc_actual/med_7',\n",
       " 'Card_Merchnum_desc_actual/toal_7',\n",
       " 'Card_Merchnum_desc_count_14',\n",
       " 'Card_Merchnum_desc_avg_14',\n",
       " 'Card_Merchnum_desc_max_14',\n",
       " 'Card_Merchnum_desc_med_14',\n",
       " 'Card_Merchnum_desc_total_14',\n",
       " 'Card_Merchnum_desc_actual/avg_14',\n",
       " 'Card_Merchnum_desc_actual/max_14',\n",
       " 'Card_Merchnum_desc_actual/med_14',\n",
       " 'Card_Merchnum_desc_actual/toal_14',\n",
       " 'Card_Merchnum_desc_count_30',\n",
       " 'Card_Merchnum_desc_avg_30',\n",
       " 'Card_Merchnum_desc_max_30',\n",
       " 'Card_Merchnum_desc_med_30',\n",
       " 'Card_Merchnum_desc_total_30',\n",
       " 'Card_Merchnum_desc_actual/avg_30',\n",
       " 'Card_Merchnum_desc_actual/max_30',\n",
       " 'Card_Merchnum_desc_actual/med_30',\n",
       " 'Card_Merchnum_desc_actual/toal_30',\n",
       " 'Cardnum_count_0_by_7',\n",
       " 'Cardnum_count_0_by_14',\n",
       " 'Cardnum_count_0_by_30',\n",
       " 'Cardnum_count_1_by_7',\n",
       " 'Cardnum_count_1_by_14',\n",
       " 'Cardnum_count_1_by_30',\n",
       " 'Merchnum_count_0_by_7',\n",
       " 'Merchnum_count_0_by_14',\n",
       " 'Merchnum_count_0_by_30',\n",
       " 'Merchnum_count_1_by_7',\n",
       " 'Merchnum_count_1_by_14',\n",
       " 'Merchnum_count_1_by_30',\n",
       " 'card_merch_count_0_by_7',\n",
       " 'card_merch_count_0_by_14',\n",
       " 'card_merch_count_0_by_30',\n",
       " 'card_merch_count_1_by_7',\n",
       " 'card_merch_count_1_by_14',\n",
       " 'card_merch_count_1_by_30',\n",
       " 'card_zip_count_0_by_7',\n",
       " 'card_zip_count_0_by_14',\n",
       " 'card_zip_count_0_by_30',\n",
       " 'card_zip_count_1_by_7',\n",
       " 'card_zip_count_1_by_14',\n",
       " 'card_zip_count_1_by_30',\n",
       " 'merch_zip_count_0_by_7',\n",
       " 'merch_zip_count_0_by_14',\n",
       " 'merch_zip_count_0_by_30',\n",
       " 'merch_zip_count_1_by_7',\n",
       " 'merch_zip_count_1_by_14',\n",
       " 'merch_zip_count_1_by_30',\n",
       " 'zip3_count_0_by_7',\n",
       " 'zip3_count_0_by_14',\n",
       " 'zip3_count_0_by_30',\n",
       " 'zip3_count_1_by_7',\n",
       " 'zip3_count_1_by_14',\n",
       " 'zip3_count_1_by_30',\n",
       " 'card_zip3_count_0_by_7',\n",
       " 'card_zip3_count_0_by_14',\n",
       " 'card_zip3_count_0_by_30',\n",
       " 'card_zip3_count_1_by_7',\n",
       " 'card_zip3_count_1_by_14',\n",
       " 'card_zip3_count_1_by_30',\n",
       " 'Card_Merchdesc_count_0_by_7',\n",
       " 'Card_Merchdesc_count_0_by_14',\n",
       " 'Card_Merchdesc_count_0_by_30',\n",
       " 'Card_Merchdesc_count_1_by_7',\n",
       " 'Card_Merchdesc_count_1_by_14',\n",
       " 'Card_Merchdesc_count_1_by_30',\n",
       " 'Merchnum_desc_count_0_by_7',\n",
       " 'Merchnum_desc_count_0_by_14',\n",
       " 'Merchnum_desc_count_0_by_30',\n",
       " 'Merchnum_desc_count_1_by_7',\n",
       " 'Merchnum_desc_count_1_by_14',\n",
       " 'Merchnum_desc_count_1_by_30',\n",
       " 'Card_Merchnum_desc_count_0_by_7',\n",
       " 'Card_Merchnum_desc_count_0_by_14',\n",
       " 'Card_Merchnum_desc_count_0_by_30',\n",
       " 'Card_Merchnum_desc_count_1_by_7',\n",
       " 'Card_Merchnum_desc_count_1_by_14',\n",
       " 'Card_Merchnum_desc_count_1_by_30',\n",
       " 'Cardnum_vdratio_0by7',\n",
       " 'Cardnum_vdratio_0by14',\n",
       " 'Cardnum_vdratio_0by30',\n",
       " 'Cardnum_vdratio_1by7',\n",
       " 'Cardnum_vdratio_1by14',\n",
       " 'Cardnum_vdratio_1by30',\n",
       " 'Merchnum_vdratio_0by7',\n",
       " 'Merchnum_vdratio_0by14',\n",
       " 'Merchnum_vdratio_0by30',\n",
       " 'Merchnum_vdratio_1by7',\n",
       " 'Merchnum_vdratio_1by14',\n",
       " 'Merchnum_vdratio_1by30',\n",
       " 'card_merch_vdratio_0by7',\n",
       " 'card_merch_vdratio_0by14',\n",
       " 'card_merch_vdratio_0by30',\n",
       " 'card_merch_vdratio_1by7',\n",
       " 'card_merch_vdratio_1by14',\n",
       " 'card_merch_vdratio_1by30',\n",
       " 'card_zip_vdratio_0by7',\n",
       " 'card_zip_vdratio_0by14',\n",
       " 'card_zip_vdratio_0by30',\n",
       " 'card_zip_vdratio_1by7',\n",
       " 'card_zip_vdratio_1by14',\n",
       " 'card_zip_vdratio_1by30',\n",
       " 'merch_zip_vdratio_0by7',\n",
       " 'merch_zip_vdratio_0by14',\n",
       " 'merch_zip_vdratio_0by30',\n",
       " 'merch_zip_vdratio_1by7',\n",
       " 'merch_zip_vdratio_1by14',\n",
       " 'merch_zip_vdratio_1by30',\n",
       " 'zip3_vdratio_0by7',\n",
       " 'zip3_vdratio_0by14',\n",
       " 'zip3_vdratio_0by30',\n",
       " 'zip3_vdratio_1by7',\n",
       " 'zip3_vdratio_1by14',\n",
       " 'zip3_vdratio_1by30',\n",
       " 'card_zip3_vdratio_0by7',\n",
       " 'card_zip3_vdratio_0by14',\n",
       " 'card_zip3_vdratio_0by30',\n",
       " 'card_zip3_vdratio_1by7',\n",
       " 'card_zip3_vdratio_1by14',\n",
       " 'card_zip3_vdratio_1by30',\n",
       " 'Card_Merchdesc_vdratio_0by7',\n",
       " 'Card_Merchdesc_vdratio_0by14',\n",
       " 'Card_Merchdesc_vdratio_0by30',\n",
       " 'Card_Merchdesc_vdratio_1by7',\n",
       " 'Card_Merchdesc_vdratio_1by14',\n",
       " 'Card_Merchdesc_vdratio_1by30',\n",
       " 'Merchnum_desc_vdratio_0by7',\n",
       " 'Merchnum_desc_vdratio_0by14',\n",
       " 'Merchnum_desc_vdratio_0by30',\n",
       " 'Merchnum_desc_vdratio_1by7',\n",
       " 'Merchnum_desc_vdratio_1by14',\n",
       " 'Merchnum_desc_vdratio_1by30',\n",
       " 'Card_Merchnum_desc_vdratio_0by7',\n",
       " 'Card_Merchnum_desc_vdratio_0by14',\n",
       " 'Card_Merchnum_desc_vdratio_0by30',\n",
       " 'Card_Merchnum_desc_vdratio_1by7',\n",
       " 'Card_Merchnum_desc_vdratio_1by14',\n",
       " 'Card_Merchnum_desc_vdratio_1by30',\n",
       " 'Cardnum_unique_count_for_Merchnum_1',\n",
       " 'Cardnum_unique_count_for_Merchnum_3',\n",
       " 'Cardnum_unique_count_for_Merchnum_7',\n",
       " 'Cardnum_unique_count_for_Merchnum_14',\n",
       " 'Cardnum_unique_count_for_Merchnum_30',\n",
       " 'Cardnum_unique_count_for_Merchnum_60',\n",
       " 'Cardnum_unique_count_for_card_zip_1',\n",
       " 'Cardnum_unique_count_for_card_zip_3',\n",
       " 'Cardnum_unique_count_for_card_zip_7',\n",
       " 'Cardnum_unique_count_for_card_zip_14',\n",
       " 'Cardnum_unique_count_for_card_zip_30',\n",
       " 'Cardnum_unique_count_for_card_zip_60',\n",
       " 'Cardnum_unique_count_for_merch_zip_1',\n",
       " 'Cardnum_unique_count_for_merch_zip_3',\n",
       " 'Cardnum_unique_count_for_merch_zip_7',\n",
       " 'Cardnum_unique_count_for_merch_zip_14',\n",
       " 'Cardnum_unique_count_for_merch_zip_30',\n",
       " 'Cardnum_unique_count_for_merch_zip_60',\n",
       " 'Cardnum_unique_count_for_zip3_1',\n",
       " 'Cardnum_unique_count_for_zip3_3',\n",
       " 'Cardnum_unique_count_for_zip3_7',\n",
       " 'Cardnum_unique_count_for_zip3_14',\n",
       " 'Cardnum_unique_count_for_zip3_30',\n",
       " 'Cardnum_unique_count_for_zip3_60',\n",
       " 'Cardnum_unique_count_for_Card_Merchdesc_1',\n",
       " 'Cardnum_unique_count_for_Card_Merchdesc_3',\n",
       " 'Cardnum_unique_count_for_Card_Merchdesc_7',\n",
       " 'Cardnum_unique_count_for_Card_Merchdesc_14',\n",
       " 'Cardnum_unique_count_for_Card_Merchdesc_30',\n",
       " 'Cardnum_unique_count_for_Card_Merchdesc_60',\n",
       " 'Cardnum_unique_count_for_Merchnum_desc_1',\n",
       " 'Cardnum_unique_count_for_Merchnum_desc_3',\n",
       " 'Cardnum_unique_count_for_Merchnum_desc_7',\n",
       " 'Cardnum_unique_count_for_Merchnum_desc_14',\n",
       " 'Cardnum_unique_count_for_Merchnum_desc_30',\n",
       " 'Cardnum_unique_count_for_Merchnum_desc_60',\n",
       " 'Merchnum_unique_count_for_Cardnum_1',\n",
       " 'Merchnum_unique_count_for_Cardnum_3',\n",
       " 'Merchnum_unique_count_for_Cardnum_7',\n",
       " 'Merchnum_unique_count_for_Cardnum_14',\n",
       " 'Merchnum_unique_count_for_Cardnum_30',\n",
       " 'Merchnum_unique_count_for_Cardnum_60',\n",
       " 'Merchnum_unique_count_for_card_zip_1',\n",
       " 'Merchnum_unique_count_for_card_zip_3',\n",
       " 'Merchnum_unique_count_for_card_zip_7',\n",
       " 'Merchnum_unique_count_for_card_zip_14',\n",
       " 'Merchnum_unique_count_for_card_zip_30',\n",
       " 'Merchnum_unique_count_for_card_zip_60',\n",
       " 'Merchnum_unique_count_for_merch_zip_1',\n",
       " 'Merchnum_unique_count_for_merch_zip_3',\n",
       " 'Merchnum_unique_count_for_merch_zip_7',\n",
       " 'Merchnum_unique_count_for_merch_zip_14',\n",
       " 'Merchnum_unique_count_for_merch_zip_30',\n",
       " 'Merchnum_unique_count_for_merch_zip_60',\n",
       " 'Merchnum_unique_count_for_zip3_1',\n",
       " 'Merchnum_unique_count_for_zip3_3',\n",
       " 'Merchnum_unique_count_for_zip3_7',\n",
       " 'Merchnum_unique_count_for_zip3_14',\n",
       " 'Merchnum_unique_count_for_zip3_30',\n",
       " 'Merchnum_unique_count_for_zip3_60',\n",
       " 'Merchnum_unique_count_for_card_zip3_1',\n",
       " 'Merchnum_unique_count_for_card_zip3_3',\n",
       " 'Merchnum_unique_count_for_card_zip3_7',\n",
       " 'Merchnum_unique_count_for_card_zip3_14',\n",
       " 'Merchnum_unique_count_for_card_zip3_30',\n",
       " 'Merchnum_unique_count_for_card_zip3_60',\n",
       " 'Merchnum_unique_count_for_Card_Merchdesc_1',\n",
       " 'Merchnum_unique_count_for_Card_Merchdesc_3',\n",
       " 'Merchnum_unique_count_for_Card_Merchdesc_7',\n",
       " 'Merchnum_unique_count_for_Card_Merchdesc_14',\n",
       " 'Merchnum_unique_count_for_Card_Merchdesc_30',\n",
       " 'Merchnum_unique_count_for_Card_Merchdesc_60',\n",
       " 'Merchnum_unique_count_for_Merchnum_desc_1',\n",
       " 'Merchnum_unique_count_for_Merchnum_desc_3',\n",
       " 'Merchnum_unique_count_for_Merchnum_desc_7',\n",
       " 'Merchnum_unique_count_for_Merchnum_desc_14',\n",
       " 'Merchnum_unique_count_for_Merchnum_desc_30',\n",
       " 'Merchnum_unique_count_for_Merchnum_desc_60',\n",
       " 'card_merch_unique_count_for_Cardnum_1',\n",
       " 'card_merch_unique_count_for_card_zip_1',\n",
       " 'card_merch_unique_count_for_card_zip_3',\n",
       " 'card_merch_unique_count_for_card_zip_7',\n",
       " 'card_merch_unique_count_for_card_zip_14',\n",
       " 'card_merch_unique_count_for_card_zip_30',\n",
       " 'card_merch_unique_count_for_card_zip_60',\n",
       " 'card_merch_unique_count_for_zip3_1',\n",
       " 'card_merch_unique_count_for_zip3_3',\n",
       " 'card_merch_unique_count_for_zip3_7',\n",
       " 'card_merch_unique_count_for_zip3_14',\n",
       " 'card_merch_unique_count_for_zip3_30',\n",
       " 'card_merch_unique_count_for_zip3_60',\n",
       " 'card_merch_unique_count_for_Card_Merchdesc_1',\n",
       " 'card_merch_unique_count_for_Card_Merchdesc_3',\n",
       " 'card_merch_unique_count_for_Card_Merchdesc_7',\n",
       " 'card_merch_unique_count_for_Card_Merchdesc_14',\n",
       " 'card_merch_unique_count_for_Card_Merchdesc_30',\n",
       " 'card_merch_unique_count_for_Card_Merchdesc_60',\n",
       " 'card_zip_unique_count_for_Merchnum_1',\n",
       " 'card_zip_unique_count_for_Merchnum_3',\n",
       " 'card_zip_unique_count_for_Merchnum_7',\n",
       " 'card_zip_unique_count_for_Merchnum_14',\n",
       " 'card_zip_unique_count_for_Merchnum_30',\n",
       " 'card_zip_unique_count_for_Merchnum_60',\n",
       " 'card_zip_unique_count_for_Card_Merchdesc_1',\n",
       " 'card_zip_unique_count_for_Card_Merchdesc_3',\n",
       " 'card_zip_unique_count_for_Card_Merchdesc_7',\n",
       " 'card_zip_unique_count_for_Card_Merchdesc_14',\n",
       " 'card_zip_unique_count_for_Card_Merchdesc_30',\n",
       " 'card_zip_unique_count_for_Card_Merchdesc_60',\n",
       " 'card_zip_unique_count_for_Merchnum_desc_1',\n",
       " 'card_zip_unique_count_for_Merchnum_desc_3',\n",
       " 'card_zip_unique_count_for_Merchnum_desc_7',\n",
       " 'card_zip_unique_count_for_Merchnum_desc_14',\n",
       " 'card_zip_unique_count_for_Merchnum_desc_30',\n",
       " 'card_zip_unique_count_for_Merchnum_desc_60',\n",
       " 'merch_zip_unique_count_for_Cardnum_1',\n",
       " 'merch_zip_unique_count_for_Cardnum_3',\n",
       " 'merch_zip_unique_count_for_Cardnum_7',\n",
       " 'merch_zip_unique_count_for_Cardnum_14',\n",
       " 'merch_zip_unique_count_for_Cardnum_30',\n",
       " 'merch_zip_unique_count_for_Cardnum_60',\n",
       " 'merch_zip_unique_count_for_Card_Merchdesc_1',\n",
       " 'merch_zip_unique_count_for_Card_Merchdesc_3',\n",
       " 'merch_zip_unique_count_for_Card_Merchdesc_7',\n",
       " 'merch_zip_unique_count_for_Card_Merchdesc_14',\n",
       " 'merch_zip_unique_count_for_Card_Merchdesc_30',\n",
       " 'merch_zip_unique_count_for_Card_Merchdesc_60',\n",
       " 'merch_zip_unique_count_for_Merchnum_desc_1',\n",
       " 'merch_zip_unique_count_for_Merchnum_desc_3',\n",
       " 'merch_zip_unique_count_for_Merchnum_desc_7',\n",
       " 'merch_zip_unique_count_for_Merchnum_desc_14',\n",
       " 'merch_zip_unique_count_for_Merchnum_desc_30',\n",
       " 'merch_zip_unique_count_for_Merchnum_desc_60',\n",
       " 'zip3_unique_count_for_Cardnum_1',\n",
       " 'zip3_unique_count_for_Cardnum_3',\n",
       " 'zip3_unique_count_for_Cardnum_7',\n",
       " 'zip3_unique_count_for_Cardnum_14',\n",
       " 'zip3_unique_count_for_Cardnum_30',\n",
       " 'zip3_unique_count_for_Cardnum_60',\n",
       " 'zip3_unique_count_for_Merchnum_1',\n",
       " 'zip3_unique_count_for_Merchnum_3',\n",
       " 'zip3_unique_count_for_Merchnum_7',\n",
       " 'zip3_unique_count_for_Merchnum_14',\n",
       " 'zip3_unique_count_for_Merchnum_30',\n",
       " 'zip3_unique_count_for_Merchnum_60',\n",
       " 'zip3_unique_count_for_card_merch_1',\n",
       " 'zip3_unique_count_for_card_merch_3',\n",
       " 'zip3_unique_count_for_card_merch_7',\n",
       " 'zip3_unique_count_for_card_merch_14',\n",
       " 'zip3_unique_count_for_card_merch_30',\n",
       " 'zip3_unique_count_for_card_merch_60',\n",
       " 'zip3_unique_count_for_card_zip_1',\n",
       " 'zip3_unique_count_for_card_zip_3',\n",
       " 'zip3_unique_count_for_card_zip_7',\n",
       " 'zip3_unique_count_for_card_zip_14',\n",
       " 'zip3_unique_count_for_card_zip_30',\n",
       " 'zip3_unique_count_for_card_zip_60',\n",
       " 'zip3_unique_count_for_merch_zip_1',\n",
       " 'zip3_unique_count_for_merch_zip_3',\n",
       " 'zip3_unique_count_for_merch_zip_7',\n",
       " 'zip3_unique_count_for_merch_zip_14',\n",
       " 'zip3_unique_count_for_merch_zip_30',\n",
       " 'zip3_unique_count_for_merch_zip_60',\n",
       " 'zip3_unique_count_for_Card_Merchdesc_1',\n",
       " 'zip3_unique_count_for_Card_Merchdesc_3',\n",
       " 'zip3_unique_count_for_Card_Merchdesc_7',\n",
       " 'zip3_unique_count_for_Card_Merchdesc_14',\n",
       " 'zip3_unique_count_for_Card_Merchdesc_30',\n",
       " 'zip3_unique_count_for_Card_Merchdesc_60',\n",
       " 'zip3_unique_count_for_Merchnum_desc_1',\n",
       " 'zip3_unique_count_for_Merchnum_desc_3',\n",
       " 'zip3_unique_count_for_Merchnum_desc_7',\n",
       " 'zip3_unique_count_for_Merchnum_desc_14',\n",
       " 'zip3_unique_count_for_Merchnum_desc_30',\n",
       " 'zip3_unique_count_for_Merchnum_desc_60',\n",
       " 'zip3_unique_count_for_Card_Merchnum_desc_1',\n",
       " 'zip3_unique_count_for_Card_Merchnum_desc_3',\n",
       " 'zip3_unique_count_for_Card_Merchnum_desc_7',\n",
       " 'zip3_unique_count_for_Card_Merchnum_desc_14',\n",
       " 'zip3_unique_count_for_Card_Merchnum_desc_30',\n",
       " 'zip3_unique_count_for_Card_Merchnum_desc_60',\n",
       " 'card_zip3_unique_count_for_Merchnum_1',\n",
       " 'card_zip3_unique_count_for_Merchnum_3',\n",
       " 'card_zip3_unique_count_for_Merchnum_7',\n",
       " 'card_zip3_unique_count_for_Merchnum_14',\n",
       " 'card_zip3_unique_count_for_Merchnum_30',\n",
       " 'card_zip3_unique_count_for_Merchnum_60',\n",
       " 'card_zip3_unique_count_for_card_zip_1',\n",
       " 'card_zip3_unique_count_for_card_zip_3',\n",
       " 'card_zip3_unique_count_for_card_zip_7',\n",
       " 'card_zip3_unique_count_for_card_zip_14',\n",
       " 'card_zip3_unique_count_for_card_zip_30',\n",
       " 'card_zip3_unique_count_for_card_zip_60',\n",
       " 'card_zip3_unique_count_for_merch_zip_1',\n",
       " 'card_zip3_unique_count_for_merch_zip_3',\n",
       " 'card_zip3_unique_count_for_merch_zip_7',\n",
       " 'card_zip3_unique_count_for_merch_zip_14',\n",
       " 'card_zip3_unique_count_for_merch_zip_30',\n",
       " 'card_zip3_unique_count_for_merch_zip_60',\n",
       " 'card_zip3_unique_count_for_Card_Merchdesc_1',\n",
       " 'card_zip3_unique_count_for_Card_Merchdesc_3',\n",
       " 'card_zip3_unique_count_for_Card_Merchdesc_7',\n",
       " 'card_zip3_unique_count_for_Card_Merchdesc_14',\n",
       " 'card_zip3_unique_count_for_Card_Merchdesc_30',\n",
       " 'card_zip3_unique_count_for_Card_Merchdesc_60',\n",
       " 'card_zip3_unique_count_for_Merchnum_desc_1',\n",
       " 'card_zip3_unique_count_for_Merchnum_desc_3',\n",
       " 'card_zip3_unique_count_for_Merchnum_desc_7',\n",
       " 'card_zip3_unique_count_for_Merchnum_desc_14',\n",
       " 'card_zip3_unique_count_for_Merchnum_desc_30',\n",
       " 'card_zip3_unique_count_for_Merchnum_desc_60',\n",
       " 'Card_Merchdesc_unique_count_for_Merchnum_1',\n",
       " 'Card_Merchdesc_unique_count_for_Merchnum_3',\n",
       " 'Card_Merchdesc_unique_count_for_Merchnum_7',\n",
       " 'Card_Merchdesc_unique_count_for_Merchnum_14',\n",
       " 'Card_Merchdesc_unique_count_for_Merchnum_30',\n",
       " 'Card_Merchdesc_unique_count_for_Merchnum_60',\n",
       " 'Card_Merchdesc_unique_count_for_card_zip_1',\n",
       " 'Card_Merchdesc_unique_count_for_card_zip_3',\n",
       " 'Card_Merchdesc_unique_count_for_card_zip_7',\n",
       " 'Card_Merchdesc_unique_count_for_card_zip_14',\n",
       " 'Card_Merchdesc_unique_count_for_card_zip_30',\n",
       " 'Card_Merchdesc_unique_count_for_card_zip_60',\n",
       " 'Card_Merchdesc_unique_count_for_merch_zip_1',\n",
       " 'Card_Merchdesc_unique_count_for_merch_zip_3',\n",
       " 'Card_Merchdesc_unique_count_for_merch_zip_7',\n",
       " 'Card_Merchdesc_unique_count_for_merch_zip_14',\n",
       " 'Card_Merchdesc_unique_count_for_merch_zip_30',\n",
       " 'Card_Merchdesc_unique_count_for_merch_zip_60',\n",
       " 'Card_Merchdesc_unique_count_for_zip3_1',\n",
       " 'Card_Merchdesc_unique_count_for_zip3_3',\n",
       " 'Card_Merchdesc_unique_count_for_zip3_7',\n",
       " 'Card_Merchdesc_unique_count_for_zip3_14',\n",
       " 'Card_Merchdesc_unique_count_for_zip3_30',\n",
       " 'Card_Merchdesc_unique_count_for_zip3_60',\n",
       " 'Merchnum_desc_unique_count_for_Cardnum_1',\n",
       " 'Merchnum_desc_unique_count_for_Cardnum_3',\n",
       " 'Merchnum_desc_unique_count_for_Cardnum_7',\n",
       " 'Merchnum_desc_unique_count_for_Cardnum_14',\n",
       " 'Merchnum_desc_unique_count_for_Cardnum_30',\n",
       " 'Merchnum_desc_unique_count_for_Cardnum_60',\n",
       " 'Merchnum_desc_unique_count_for_card_zip_1',\n",
       " 'Merchnum_desc_unique_count_for_card_zip_3',\n",
       " 'Merchnum_desc_unique_count_for_card_zip_7',\n",
       " 'Merchnum_desc_unique_count_for_card_zip_14',\n",
       " 'Merchnum_desc_unique_count_for_card_zip_30',\n",
       " 'Merchnum_desc_unique_count_for_card_zip_60',\n",
       " 'Merchnum_desc_unique_count_for_merch_zip_1',\n",
       " 'Merchnum_desc_unique_count_for_merch_zip_3',\n",
       " 'Merchnum_desc_unique_count_for_merch_zip_7',\n",
       " 'Merchnum_desc_unique_count_for_merch_zip_14',\n",
       " 'Merchnum_desc_unique_count_for_merch_zip_30',\n",
       " 'Merchnum_desc_unique_count_for_merch_zip_60',\n",
       " 'Merchnum_desc_unique_count_for_zip3_1',\n",
       " 'Merchnum_desc_unique_count_for_zip3_3',\n",
       " 'Merchnum_desc_unique_count_for_zip3_7',\n",
       " 'Merchnum_desc_unique_count_for_zip3_14',\n",
       " 'Merchnum_desc_unique_count_for_zip3_30',\n",
       " 'Merchnum_desc_unique_count_for_zip3_60',\n",
       " 'Merchnum_desc_unique_count_for_card_zip3_1',\n",
       " 'Merchnum_desc_unique_count_for_card_zip3_3',\n",
       " 'Merchnum_desc_unique_count_for_card_zip3_7',\n",
       " 'Merchnum_desc_unique_count_for_card_zip3_14',\n",
       " 'Merchnum_desc_unique_count_for_card_zip3_30',\n",
       " 'Merchnum_desc_unique_count_for_card_zip3_60',\n",
       " 'Card_Merchnum_desc_unique_count_for_card_zip_1',\n",
       " 'Card_Merchnum_desc_unique_count_for_card_zip_3',\n",
       " 'Card_Merchnum_desc_unique_count_for_card_zip_7',\n",
       " 'Card_Merchnum_desc_unique_count_for_card_zip_14',\n",
       " 'Card_Merchnum_desc_unique_count_for_card_zip_30',\n",
       " 'Card_Merchnum_desc_unique_count_for_card_zip_60',\n",
       " 'Card_Merchnum_desc_unique_count_for_zip3_1',\n",
       " 'Card_Merchnum_desc_unique_count_for_zip3_3',\n",
       " 'Card_Merchnum_desc_unique_count_for_zip3_7',\n",
       " 'Card_Merchnum_desc_unique_count_for_zip3_14',\n",
       " 'Card_Merchnum_desc_unique_count_for_zip3_30',\n",
       " 'Card_Merchnum_desc_unique_count_for_zip3_60',\n",
       " 'Cardnum_variability_avg_0',\n",
       " 'Cardnum_variability_max_0',\n",
       " 'Cardnum_variability_med_0',\n",
       " 'Cardnum_variability_avg_1',\n",
       " 'Cardnum_variability_max_1',\n",
       " 'Cardnum_variability_med_1',\n",
       " 'Cardnum_variability_avg_3',\n",
       " 'Cardnum_variability_max_3',\n",
       " 'Cardnum_variability_med_3',\n",
       " 'Cardnum_variability_avg_7',\n",
       " 'Cardnum_variability_max_7',\n",
       " 'Cardnum_variability_med_7',\n",
       " 'Cardnum_variability_avg_14',\n",
       " 'Cardnum_variability_max_14',\n",
       " 'Cardnum_variability_med_14',\n",
       " 'Cardnum_variability_avg_30',\n",
       " 'Cardnum_variability_max_30',\n",
       " 'Cardnum_variability_med_30',\n",
       " 'Merchnum_variability_avg_0',\n",
       " 'Merchnum_variability_max_0',\n",
       " 'Merchnum_variability_med_0',\n",
       " 'Merchnum_variability_avg_1',\n",
       " 'Merchnum_variability_max_1',\n",
       " 'Merchnum_variability_med_1',\n",
       " 'Merchnum_variability_avg_3',\n",
       " 'Merchnum_variability_max_3',\n",
       " 'Merchnum_variability_med_3',\n",
       " 'Merchnum_variability_avg_7',\n",
       " 'Merchnum_variability_max_7',\n",
       " 'Merchnum_variability_med_7',\n",
       " 'Merchnum_variability_avg_14',\n",
       " ...]"
      ]
     },
     "execution_count": 97,
     "metadata": {},
     "output_type": "execute_result"
    }
   ],
   "source": [
    "final.columns.to_list()"
   ]
  },
  {
   "cell_type": "code",
   "execution_count": 98,
   "id": "b23e93ad",
   "metadata": {},
   "outputs": [
    {
     "data": {
      "text/plain": [
       "(96397, 1210)"
      ]
     },
     "execution_count": 98,
     "metadata": {},
     "output_type": "execute_result"
    }
   ],
   "source": [
    "final.shape"
   ]
  },
  {
   "cell_type": "code",
   "execution_count": 99,
   "id": "dc1f8be4",
   "metadata": {},
   "outputs": [
    {
     "name": "stdout",
     "output_type": "stream",
     "text": [
      "duration:  0:27:29.982824\n"
     ]
    }
   ],
   "source": [
    "print('duration: ',dt.datetime.now() - start_time)"
   ]
  },
  {
   "cell_type": "code",
   "execution_count": 100,
   "id": "34e2b8a0",
   "metadata": {},
   "outputs": [
    {
     "data": {
      "text/html": [
       "<div>\n",
       "<style scoped>\n",
       "    .dataframe tbody tr th:only-of-type {\n",
       "        vertical-align: middle;\n",
       "    }\n",
       "\n",
       "    .dataframe tbody tr th {\n",
       "        vertical-align: top;\n",
       "    }\n",
       "\n",
       "    .dataframe thead th {\n",
       "        text-align: right;\n",
       "    }\n",
       "</style>\n",
       "<table border=\"1\" class=\"dataframe\">\n",
       "  <thead>\n",
       "    <tr style=\"text-align: right;\">\n",
       "      <th></th>\n",
       "      <th>Recnum</th>\n",
       "      <th>Cardnum</th>\n",
       "      <th>Date</th>\n",
       "      <th>Merchnum</th>\n",
       "      <th>Merch description</th>\n",
       "      <th>Merch state</th>\n",
       "      <th>Merch zip</th>\n",
       "      <th>Transtype</th>\n",
       "      <th>Amount</th>\n",
       "      <th>Fraud</th>\n",
       "      <th>...</th>\n",
       "      <th>Merchnum_desc_count_0_by_30_sq</th>\n",
       "      <th>Merchnum_desc_count_1_by_7_sq</th>\n",
       "      <th>Merchnum_desc_count_1_by_14_sq</th>\n",
       "      <th>Merchnum_desc_count_1_by_30_sq</th>\n",
       "      <th>Card_Merchnum_desc_count_0_by_7_sq</th>\n",
       "      <th>Card_Merchnum_desc_count_0_by_14_sq</th>\n",
       "      <th>Card_Merchnum_desc_count_0_by_30_sq</th>\n",
       "      <th>Card_Merchnum_desc_count_1_by_7_sq</th>\n",
       "      <th>Card_Merchnum_desc_count_1_by_14_sq</th>\n",
       "      <th>Card_Merchnum_desc_count_1_by_30_sq</th>\n",
       "    </tr>\n",
       "  </thead>\n",
       "  <tbody>\n",
       "    <tr>\n",
       "      <th>0</th>\n",
       "      <td>1</td>\n",
       "      <td>5142190439</td>\n",
       "      <td>2010-01-01</td>\n",
       "      <td>5509006296254</td>\n",
       "      <td>FEDEX SHP 12/23/09 AB#</td>\n",
       "      <td>TN</td>\n",
       "      <td>38118.0</td>\n",
       "      <td>P</td>\n",
       "      <td>3.62</td>\n",
       "      <td>0</td>\n",
       "      <td>...</td>\n",
       "      <td>0.001111</td>\n",
       "      <td>0.020408</td>\n",
       "      <td>0.005102</td>\n",
       "      <td>0.001111</td>\n",
       "      <td>0.020408</td>\n",
       "      <td>0.005102</td>\n",
       "      <td>0.001111</td>\n",
       "      <td>0.020408</td>\n",
       "      <td>0.005102</td>\n",
       "      <td>0.001111</td>\n",
       "    </tr>\n",
       "    <tr>\n",
       "      <th>1</th>\n",
       "      <td>2</td>\n",
       "      <td>5142183973</td>\n",
       "      <td>2010-01-01</td>\n",
       "      <td>61003026333</td>\n",
       "      <td>SERVICE MERCHANDISE #81</td>\n",
       "      <td>MA</td>\n",
       "      <td>1803.0</td>\n",
       "      <td>P</td>\n",
       "      <td>31.42</td>\n",
       "      <td>0</td>\n",
       "      <td>...</td>\n",
       "      <td>0.001111</td>\n",
       "      <td>0.020408</td>\n",
       "      <td>0.005102</td>\n",
       "      <td>0.001111</td>\n",
       "      <td>0.020408</td>\n",
       "      <td>0.005102</td>\n",
       "      <td>0.001111</td>\n",
       "      <td>0.020408</td>\n",
       "      <td>0.005102</td>\n",
       "      <td>0.001111</td>\n",
       "    </tr>\n",
       "    <tr>\n",
       "      <th>2</th>\n",
       "      <td>3</td>\n",
       "      <td>5142131721</td>\n",
       "      <td>2010-01-01</td>\n",
       "      <td>4503082993600</td>\n",
       "      <td>OFFICE DEPOT #191</td>\n",
       "      <td>MD</td>\n",
       "      <td>20706.0</td>\n",
       "      <td>P</td>\n",
       "      <td>178.49</td>\n",
       "      <td>0</td>\n",
       "      <td>...</td>\n",
       "      <td>0.001111</td>\n",
       "      <td>0.020408</td>\n",
       "      <td>0.005102</td>\n",
       "      <td>0.001111</td>\n",
       "      <td>0.020408</td>\n",
       "      <td>0.005102</td>\n",
       "      <td>0.001111</td>\n",
       "      <td>0.020408</td>\n",
       "      <td>0.005102</td>\n",
       "      <td>0.001111</td>\n",
       "    </tr>\n",
       "    <tr>\n",
       "      <th>3</th>\n",
       "      <td>4</td>\n",
       "      <td>5142148452</td>\n",
       "      <td>2010-01-01</td>\n",
       "      <td>5509006296254</td>\n",
       "      <td>FEDEX SHP 12/28/09 AB#</td>\n",
       "      <td>TN</td>\n",
       "      <td>38118.0</td>\n",
       "      <td>P</td>\n",
       "      <td>3.62</td>\n",
       "      <td>0</td>\n",
       "      <td>...</td>\n",
       "      <td>0.001111</td>\n",
       "      <td>0.020408</td>\n",
       "      <td>0.005102</td>\n",
       "      <td>0.001111</td>\n",
       "      <td>0.020408</td>\n",
       "      <td>0.005102</td>\n",
       "      <td>0.001111</td>\n",
       "      <td>0.020408</td>\n",
       "      <td>0.005102</td>\n",
       "      <td>0.001111</td>\n",
       "    </tr>\n",
       "    <tr>\n",
       "      <th>4</th>\n",
       "      <td>5</td>\n",
       "      <td>5142190439</td>\n",
       "      <td>2010-01-01</td>\n",
       "      <td>5509006296254</td>\n",
       "      <td>FEDEX SHP 12/23/09 AB#</td>\n",
       "      <td>TN</td>\n",
       "      <td>38118.0</td>\n",
       "      <td>P</td>\n",
       "      <td>3.62</td>\n",
       "      <td>0</td>\n",
       "      <td>...</td>\n",
       "      <td>0.001111</td>\n",
       "      <td>0.020408</td>\n",
       "      <td>0.005102</td>\n",
       "      <td>0.001111</td>\n",
       "      <td>0.020408</td>\n",
       "      <td>0.005102</td>\n",
       "      <td>0.001111</td>\n",
       "      <td>0.020408</td>\n",
       "      <td>0.005102</td>\n",
       "      <td>0.001111</td>\n",
       "    </tr>\n",
       "  </tbody>\n",
       "</table>\n",
       "<p>5 rows × 1210 columns</p>\n",
       "</div>"
      ],
      "text/plain": [
       "  Recnum     Cardnum       Date       Merchnum        Merch description  \\\n",
       "0      1  5142190439 2010-01-01  5509006296254   FEDEX SHP 12/23/09 AB#   \n",
       "1      2  5142183973 2010-01-01    61003026333  SERVICE MERCHANDISE #81   \n",
       "2      3  5142131721 2010-01-01  4503082993600        OFFICE DEPOT #191   \n",
       "3      4  5142148452 2010-01-01  5509006296254   FEDEX SHP 12/28/09 AB#   \n",
       "4      5  5142190439 2010-01-01  5509006296254   FEDEX SHP 12/23/09 AB#   \n",
       "\n",
       "  Merch state Merch zip Transtype  Amount Fraud  ...  \\\n",
       "0          TN   38118.0         P    3.62     0  ...   \n",
       "1          MA    1803.0         P   31.42     0  ...   \n",
       "2          MD   20706.0         P  178.49     0  ...   \n",
       "3          TN   38118.0         P    3.62     0  ...   \n",
       "4          TN   38118.0         P    3.62     0  ...   \n",
       "\n",
       "  Merchnum_desc_count_0_by_30_sq Merchnum_desc_count_1_by_7_sq  \\\n",
       "0                       0.001111                      0.020408   \n",
       "1                       0.001111                      0.020408   \n",
       "2                       0.001111                      0.020408   \n",
       "3                       0.001111                      0.020408   \n",
       "4                       0.001111                      0.020408   \n",
       "\n",
       "  Merchnum_desc_count_1_by_14_sq Merchnum_desc_count_1_by_30_sq  \\\n",
       "0                       0.005102                       0.001111   \n",
       "1                       0.005102                       0.001111   \n",
       "2                       0.005102                       0.001111   \n",
       "3                       0.005102                       0.001111   \n",
       "4                       0.005102                       0.001111   \n",
       "\n",
       "  Card_Merchnum_desc_count_0_by_7_sq Card_Merchnum_desc_count_0_by_14_sq  \\\n",
       "0                           0.020408                            0.005102   \n",
       "1                           0.020408                            0.005102   \n",
       "2                           0.020408                            0.005102   \n",
       "3                           0.020408                            0.005102   \n",
       "4                           0.020408                            0.005102   \n",
       "\n",
       "  Card_Merchnum_desc_count_0_by_30_sq Card_Merchnum_desc_count_1_by_7_sq  \\\n",
       "0                            0.001111                           0.020408   \n",
       "1                            0.001111                           0.020408   \n",
       "2                            0.001111                           0.020408   \n",
       "3                            0.001111                           0.020408   \n",
       "4                            0.001111                           0.020408   \n",
       "\n",
       "  Card_Merchnum_desc_count_1_by_14_sq Card_Merchnum_desc_count_1_by_30_sq  \n",
       "0                            0.005102                            0.001111  \n",
       "1                            0.005102                            0.001111  \n",
       "2                            0.005102                            0.001111  \n",
       "3                            0.005102                            0.001111  \n",
       "4                            0.005102                            0.001111  \n",
       "\n",
       "[5 rows x 1210 columns]"
      ]
     },
     "execution_count": 100,
     "metadata": {},
     "output_type": "execute_result"
    }
   ],
   "source": [
    "final.head()"
   ]
  },
  {
   "cell_type": "code",
   "execution_count": 101,
   "id": "18830a7f",
   "metadata": {},
   "outputs": [
    {
     "name": "stdout",
     "output_type": "stream",
     "text": [
      "CPU times: total: 562 ms\n",
      "Wall time: 561 ms\n"
     ]
    },
    {
     "data": {
      "text/html": [
       "<div>\n",
       "<style scoped>\n",
       "    .dataframe tbody tr th:only-of-type {\n",
       "        vertical-align: middle;\n",
       "    }\n",
       "\n",
       "    .dataframe tbody tr th {\n",
       "        vertical-align: top;\n",
       "    }\n",
       "\n",
       "    .dataframe thead th {\n",
       "        text-align: right;\n",
       "    }\n",
       "</style>\n",
       "<table border=\"1\" class=\"dataframe\">\n",
       "  <thead>\n",
       "    <tr style=\"text-align: right;\">\n",
       "      <th></th>\n",
       "      <th>Recnum</th>\n",
       "      <th>Date</th>\n",
       "      <th>Merch description</th>\n",
       "      <th>Merch state</th>\n",
       "      <th>Merch zip</th>\n",
       "      <th>Transtype</th>\n",
       "      <th>Amount</th>\n",
       "      <th>Fraud</th>\n",
       "      <th>Dow</th>\n",
       "      <th>Dow_risk</th>\n",
       "      <th>...</th>\n",
       "      <th>Merchnum_desc_count_0_by_30_sq</th>\n",
       "      <th>Merchnum_desc_count_1_by_7_sq</th>\n",
       "      <th>Merchnum_desc_count_1_by_14_sq</th>\n",
       "      <th>Merchnum_desc_count_1_by_30_sq</th>\n",
       "      <th>Card_Merchnum_desc_count_0_by_7_sq</th>\n",
       "      <th>Card_Merchnum_desc_count_0_by_14_sq</th>\n",
       "      <th>Card_Merchnum_desc_count_0_by_30_sq</th>\n",
       "      <th>Card_Merchnum_desc_count_1_by_7_sq</th>\n",
       "      <th>Card_Merchnum_desc_count_1_by_14_sq</th>\n",
       "      <th>Card_Merchnum_desc_count_1_by_30_sq</th>\n",
       "    </tr>\n",
       "  </thead>\n",
       "  <tbody>\n",
       "    <tr>\n",
       "      <th>0</th>\n",
       "      <td>1</td>\n",
       "      <td>2010-01-01</td>\n",
       "      <td>FEDEX SHP 12/23/09 AB#</td>\n",
       "      <td>TN</td>\n",
       "      <td>38118.0</td>\n",
       "      <td>P</td>\n",
       "      <td>3.62</td>\n",
       "      <td>0</td>\n",
       "      <td>Friday</td>\n",
       "      <td>0.025994</td>\n",
       "      <td>...</td>\n",
       "      <td>0.001111</td>\n",
       "      <td>0.020408</td>\n",
       "      <td>0.005102</td>\n",
       "      <td>0.001111</td>\n",
       "      <td>0.020408</td>\n",
       "      <td>0.005102</td>\n",
       "      <td>0.001111</td>\n",
       "      <td>0.020408</td>\n",
       "      <td>0.005102</td>\n",
       "      <td>0.001111</td>\n",
       "    </tr>\n",
       "    <tr>\n",
       "      <th>1</th>\n",
       "      <td>2</td>\n",
       "      <td>2010-01-01</td>\n",
       "      <td>SERVICE MERCHANDISE #81</td>\n",
       "      <td>MA</td>\n",
       "      <td>1803.0</td>\n",
       "      <td>P</td>\n",
       "      <td>31.42</td>\n",
       "      <td>0</td>\n",
       "      <td>Friday</td>\n",
       "      <td>0.025994</td>\n",
       "      <td>...</td>\n",
       "      <td>0.001111</td>\n",
       "      <td>0.020408</td>\n",
       "      <td>0.005102</td>\n",
       "      <td>0.001111</td>\n",
       "      <td>0.020408</td>\n",
       "      <td>0.005102</td>\n",
       "      <td>0.001111</td>\n",
       "      <td>0.020408</td>\n",
       "      <td>0.005102</td>\n",
       "      <td>0.001111</td>\n",
       "    </tr>\n",
       "    <tr>\n",
       "      <th>2</th>\n",
       "      <td>3</td>\n",
       "      <td>2010-01-01</td>\n",
       "      <td>OFFICE DEPOT #191</td>\n",
       "      <td>MD</td>\n",
       "      <td>20706.0</td>\n",
       "      <td>P</td>\n",
       "      <td>178.49</td>\n",
       "      <td>0</td>\n",
       "      <td>Friday</td>\n",
       "      <td>0.025994</td>\n",
       "      <td>...</td>\n",
       "      <td>0.001111</td>\n",
       "      <td>0.020408</td>\n",
       "      <td>0.005102</td>\n",
       "      <td>0.001111</td>\n",
       "      <td>0.020408</td>\n",
       "      <td>0.005102</td>\n",
       "      <td>0.001111</td>\n",
       "      <td>0.020408</td>\n",
       "      <td>0.005102</td>\n",
       "      <td>0.001111</td>\n",
       "    </tr>\n",
       "    <tr>\n",
       "      <th>3</th>\n",
       "      <td>4</td>\n",
       "      <td>2010-01-01</td>\n",
       "      <td>FEDEX SHP 12/28/09 AB#</td>\n",
       "      <td>TN</td>\n",
       "      <td>38118.0</td>\n",
       "      <td>P</td>\n",
       "      <td>3.62</td>\n",
       "      <td>0</td>\n",
       "      <td>Friday</td>\n",
       "      <td>0.025994</td>\n",
       "      <td>...</td>\n",
       "      <td>0.001111</td>\n",
       "      <td>0.020408</td>\n",
       "      <td>0.005102</td>\n",
       "      <td>0.001111</td>\n",
       "      <td>0.020408</td>\n",
       "      <td>0.005102</td>\n",
       "      <td>0.001111</td>\n",
       "      <td>0.020408</td>\n",
       "      <td>0.005102</td>\n",
       "      <td>0.001111</td>\n",
       "    </tr>\n",
       "    <tr>\n",
       "      <th>4</th>\n",
       "      <td>5</td>\n",
       "      <td>2010-01-01</td>\n",
       "      <td>FEDEX SHP 12/23/09 AB#</td>\n",
       "      <td>TN</td>\n",
       "      <td>38118.0</td>\n",
       "      <td>P</td>\n",
       "      <td>3.62</td>\n",
       "      <td>0</td>\n",
       "      <td>Friday</td>\n",
       "      <td>0.025994</td>\n",
       "      <td>...</td>\n",
       "      <td>0.001111</td>\n",
       "      <td>0.020408</td>\n",
       "      <td>0.005102</td>\n",
       "      <td>0.001111</td>\n",
       "      <td>0.020408</td>\n",
       "      <td>0.005102</td>\n",
       "      <td>0.001111</td>\n",
       "      <td>0.020408</td>\n",
       "      <td>0.005102</td>\n",
       "      <td>0.001111</td>\n",
       "    </tr>\n",
       "  </tbody>\n",
       "</table>\n",
       "<p>5 rows × 1200 columns</p>\n",
       "</div>"
      ],
      "text/plain": [
       "  Recnum       Date        Merch description Merch state Merch zip Transtype  \\\n",
       "0      1 2010-01-01   FEDEX SHP 12/23/09 AB#          TN   38118.0         P   \n",
       "1      2 2010-01-01  SERVICE MERCHANDISE #81          MA    1803.0         P   \n",
       "2      3 2010-01-01        OFFICE DEPOT #191          MD   20706.0         P   \n",
       "3      4 2010-01-01   FEDEX SHP 12/28/09 AB#          TN   38118.0         P   \n",
       "4      5 2010-01-01   FEDEX SHP 12/23/09 AB#          TN   38118.0         P   \n",
       "\n",
       "   Amount Fraud     Dow  Dow_risk  ... Merchnum_desc_count_0_by_30_sq  \\\n",
       "0    3.62     0  Friday  0.025994  ...                       0.001111   \n",
       "1   31.42     0  Friday  0.025994  ...                       0.001111   \n",
       "2  178.49     0  Friday  0.025994  ...                       0.001111   \n",
       "3    3.62     0  Friday  0.025994  ...                       0.001111   \n",
       "4    3.62     0  Friday  0.025994  ...                       0.001111   \n",
       "\n",
       "  Merchnum_desc_count_1_by_7_sq Merchnum_desc_count_1_by_14_sq  \\\n",
       "0                      0.020408                       0.005102   \n",
       "1                      0.020408                       0.005102   \n",
       "2                      0.020408                       0.005102   \n",
       "3                      0.020408                       0.005102   \n",
       "4                      0.020408                       0.005102   \n",
       "\n",
       "  Merchnum_desc_count_1_by_30_sq Card_Merchnum_desc_count_0_by_7_sq  \\\n",
       "0                       0.001111                           0.020408   \n",
       "1                       0.001111                           0.020408   \n",
       "2                       0.001111                           0.020408   \n",
       "3                       0.001111                           0.020408   \n",
       "4                       0.001111                           0.020408   \n",
       "\n",
       "  Card_Merchnum_desc_count_0_by_14_sq Card_Merchnum_desc_count_0_by_30_sq  \\\n",
       "0                            0.005102                            0.001111   \n",
       "1                            0.005102                            0.001111   \n",
       "2                            0.005102                            0.001111   \n",
       "3                            0.005102                            0.001111   \n",
       "4                            0.005102                            0.001111   \n",
       "\n",
       "  Card_Merchnum_desc_count_1_by_7_sq Card_Merchnum_desc_count_1_by_14_sq  \\\n",
       "0                           0.020408                            0.005102   \n",
       "1                           0.020408                            0.005102   \n",
       "2                           0.020408                            0.005102   \n",
       "3                           0.020408                            0.005102   \n",
       "4                           0.020408                            0.005102   \n",
       "\n",
       "  Card_Merchnum_desc_count_1_by_30_sq  \n",
       "0                            0.001111  \n",
       "1                            0.001111  \n",
       "2                            0.001111  \n",
       "3                            0.001111  \n",
       "4                            0.001111  \n",
       "\n",
       "[5 rows x 1200 columns]"
      ]
     },
     "execution_count": 101,
     "metadata": {},
     "output_type": "execute_result"
    }
   ],
   "source": [
    "%%time\n",
    "final.drop(columns=entities, inplace=True)\n",
    "final.head()"
   ]
  },
  {
   "cell_type": "code",
   "execution_count": 102,
   "id": "6aea52a1",
   "metadata": {},
   "outputs": [
    {
     "name": "stdout",
     "output_type": "stream",
     "text": [
      "CPU times: total: 500 ms\n",
      "Wall time: 506 ms\n"
     ]
    },
    {
     "data": {
      "text/html": [
       "<div>\n",
       "<style scoped>\n",
       "    .dataframe tbody tr th:only-of-type {\n",
       "        vertical-align: middle;\n",
       "    }\n",
       "\n",
       "    .dataframe tbody tr th {\n",
       "        vertical-align: top;\n",
       "    }\n",
       "\n",
       "    .dataframe thead th {\n",
       "        text-align: right;\n",
       "    }\n",
       "</style>\n",
       "<table border=\"1\" class=\"dataframe\">\n",
       "  <thead>\n",
       "    <tr style=\"text-align: right;\">\n",
       "      <th></th>\n",
       "      <th>Recnum</th>\n",
       "      <th>Fraud</th>\n",
       "      <th>Dow_risk</th>\n",
       "      <th>U*_cardnum</th>\n",
       "      <th>U*_merchnum</th>\n",
       "      <th>Cardnum_day_since</th>\n",
       "      <th>Cardnum_count_0</th>\n",
       "      <th>Cardnum_avg_0</th>\n",
       "      <th>Cardnum_max_0</th>\n",
       "      <th>Cardnum_med_0</th>\n",
       "      <th>...</th>\n",
       "      <th>Merchnum_desc_count_0_by_30_sq</th>\n",
       "      <th>Merchnum_desc_count_1_by_7_sq</th>\n",
       "      <th>Merchnum_desc_count_1_by_14_sq</th>\n",
       "      <th>Merchnum_desc_count_1_by_30_sq</th>\n",
       "      <th>Card_Merchnum_desc_count_0_by_7_sq</th>\n",
       "      <th>Card_Merchnum_desc_count_0_by_14_sq</th>\n",
       "      <th>Card_Merchnum_desc_count_0_by_30_sq</th>\n",
       "      <th>Card_Merchnum_desc_count_1_by_7_sq</th>\n",
       "      <th>Card_Merchnum_desc_count_1_by_14_sq</th>\n",
       "      <th>Card_Merchnum_desc_count_1_by_30_sq</th>\n",
       "    </tr>\n",
       "  </thead>\n",
       "  <tbody>\n",
       "    <tr>\n",
       "      <th>0</th>\n",
       "      <td>1</td>\n",
       "      <td>0</td>\n",
       "      <td>0.025994</td>\n",
       "      <td>2.178008</td>\n",
       "      <td>1.0</td>\n",
       "      <td>0.0</td>\n",
       "      <td>1</td>\n",
       "      <td>3.62</td>\n",
       "      <td>3.62</td>\n",
       "      <td>3.62</td>\n",
       "      <td>...</td>\n",
       "      <td>0.001111</td>\n",
       "      <td>0.020408</td>\n",
       "      <td>0.005102</td>\n",
       "      <td>0.001111</td>\n",
       "      <td>0.020408</td>\n",
       "      <td>0.005102</td>\n",
       "      <td>0.001111</td>\n",
       "      <td>0.020408</td>\n",
       "      <td>0.005102</td>\n",
       "      <td>0.001111</td>\n",
       "    </tr>\n",
       "    <tr>\n",
       "      <th>1</th>\n",
       "      <td>2</td>\n",
       "      <td>0</td>\n",
       "      <td>0.025994</td>\n",
       "      <td>1.604857</td>\n",
       "      <td>1.001244</td>\n",
       "      <td>0.0</td>\n",
       "      <td>1</td>\n",
       "      <td>31.42</td>\n",
       "      <td>31.42</td>\n",
       "      <td>31.42</td>\n",
       "      <td>...</td>\n",
       "      <td>0.001111</td>\n",
       "      <td>0.020408</td>\n",
       "      <td>0.005102</td>\n",
       "      <td>0.001111</td>\n",
       "      <td>0.020408</td>\n",
       "      <td>0.005102</td>\n",
       "      <td>0.001111</td>\n",
       "      <td>0.020408</td>\n",
       "      <td>0.005102</td>\n",
       "      <td>0.001111</td>\n",
       "    </tr>\n",
       "    <tr>\n",
       "      <th>2</th>\n",
       "      <td>3</td>\n",
       "      <td>0</td>\n",
       "      <td>0.025994</td>\n",
       "      <td>2.368143</td>\n",
       "      <td>1.025818</td>\n",
       "      <td>0.0</td>\n",
       "      <td>1</td>\n",
       "      <td>178.49</td>\n",
       "      <td>178.49</td>\n",
       "      <td>178.49</td>\n",
       "      <td>...</td>\n",
       "      <td>0.001111</td>\n",
       "      <td>0.020408</td>\n",
       "      <td>0.005102</td>\n",
       "      <td>0.001111</td>\n",
       "      <td>0.020408</td>\n",
       "      <td>0.005102</td>\n",
       "      <td>0.001111</td>\n",
       "      <td>0.020408</td>\n",
       "      <td>0.005102</td>\n",
       "      <td>0.001111</td>\n",
       "    </tr>\n",
       "    <tr>\n",
       "      <th>3</th>\n",
       "      <td>4</td>\n",
       "      <td>0</td>\n",
       "      <td>0.025994</td>\n",
       "      <td>1.044105</td>\n",
       "      <td>1.0</td>\n",
       "      <td>0.0</td>\n",
       "      <td>1</td>\n",
       "      <td>3.62</td>\n",
       "      <td>3.62</td>\n",
       "      <td>3.62</td>\n",
       "      <td>...</td>\n",
       "      <td>0.001111</td>\n",
       "      <td>0.020408</td>\n",
       "      <td>0.005102</td>\n",
       "      <td>0.001111</td>\n",
       "      <td>0.020408</td>\n",
       "      <td>0.005102</td>\n",
       "      <td>0.001111</td>\n",
       "      <td>0.020408</td>\n",
       "      <td>0.005102</td>\n",
       "      <td>0.001111</td>\n",
       "    </tr>\n",
       "    <tr>\n",
       "      <th>4</th>\n",
       "      <td>5</td>\n",
       "      <td>0</td>\n",
       "      <td>0.025994</td>\n",
       "      <td>2.178008</td>\n",
       "      <td>1.0</td>\n",
       "      <td>0.0</td>\n",
       "      <td>2</td>\n",
       "      <td>3.62</td>\n",
       "      <td>3.62</td>\n",
       "      <td>3.62</td>\n",
       "      <td>...</td>\n",
       "      <td>0.001111</td>\n",
       "      <td>0.020408</td>\n",
       "      <td>0.005102</td>\n",
       "      <td>0.001111</td>\n",
       "      <td>0.020408</td>\n",
       "      <td>0.005102</td>\n",
       "      <td>0.001111</td>\n",
       "      <td>0.020408</td>\n",
       "      <td>0.005102</td>\n",
       "      <td>0.001111</td>\n",
       "    </tr>\n",
       "  </tbody>\n",
       "</table>\n",
       "<p>5 rows × 1193 columns</p>\n",
       "</div>"
      ],
      "text/plain": [
       "  Recnum Fraud  Dow_risk U*_cardnum U*_merchnum Cardnum_day_since  \\\n",
       "0      1     0  0.025994   2.178008         1.0               0.0   \n",
       "1      2     0  0.025994   1.604857    1.001244               0.0   \n",
       "2      3     0  0.025994   2.368143    1.025818               0.0   \n",
       "3      4     0  0.025994   1.044105         1.0               0.0   \n",
       "4      5     0  0.025994   2.178008         1.0               0.0   \n",
       "\n",
       "  Cardnum_count_0 Cardnum_avg_0 Cardnum_max_0 Cardnum_med_0  ...  \\\n",
       "0               1          3.62          3.62          3.62  ...   \n",
       "1               1         31.42         31.42         31.42  ...   \n",
       "2               1        178.49        178.49        178.49  ...   \n",
       "3               1          3.62          3.62          3.62  ...   \n",
       "4               2          3.62          3.62          3.62  ...   \n",
       "\n",
       "  Merchnum_desc_count_0_by_30_sq Merchnum_desc_count_1_by_7_sq  \\\n",
       "0                       0.001111                      0.020408   \n",
       "1                       0.001111                      0.020408   \n",
       "2                       0.001111                      0.020408   \n",
       "3                       0.001111                      0.020408   \n",
       "4                       0.001111                      0.020408   \n",
       "\n",
       "  Merchnum_desc_count_1_by_14_sq Merchnum_desc_count_1_by_30_sq  \\\n",
       "0                       0.005102                       0.001111   \n",
       "1                       0.005102                       0.001111   \n",
       "2                       0.005102                       0.001111   \n",
       "3                       0.005102                       0.001111   \n",
       "4                       0.005102                       0.001111   \n",
       "\n",
       "  Card_Merchnum_desc_count_0_by_7_sq Card_Merchnum_desc_count_0_by_14_sq  \\\n",
       "0                           0.020408                            0.005102   \n",
       "1                           0.020408                            0.005102   \n",
       "2                           0.020408                            0.005102   \n",
       "3                           0.020408                            0.005102   \n",
       "4                           0.020408                            0.005102   \n",
       "\n",
       "  Card_Merchnum_desc_count_0_by_30_sq Card_Merchnum_desc_count_1_by_7_sq  \\\n",
       "0                            0.001111                           0.020408   \n",
       "1                            0.001111                           0.020408   \n",
       "2                            0.001111                           0.020408   \n",
       "3                            0.001111                           0.020408   \n",
       "4                            0.001111                           0.020408   \n",
       "\n",
       "  Card_Merchnum_desc_count_1_by_14_sq Card_Merchnum_desc_count_1_by_30_sq  \n",
       "0                            0.005102                            0.001111  \n",
       "1                            0.005102                            0.001111  \n",
       "2                            0.005102                            0.001111  \n",
       "3                            0.005102                            0.001111  \n",
       "4                            0.005102                            0.001111  \n",
       "\n",
       "[5 rows x 1193 columns]"
      ]
     },
     "execution_count": 102,
     "metadata": {},
     "output_type": "execute_result"
    }
   ],
   "source": [
    "%%time\n",
    "final.drop(columns=['Date','Merch description', 'Merch state', 'Merch zip', 'Transtype', 'Amount', 'Dow'], inplace=True)\n",
    "final.head()"
   ]
  },
  {
   "cell_type": "code",
   "execution_count": 103,
   "id": "8c9862d4",
   "metadata": {
    "scrolled": true
   },
   "outputs": [
    {
     "data": {
      "text/plain": [
       "(96397, 1193)"
      ]
     },
     "execution_count": 103,
     "metadata": {},
     "output_type": "execute_result"
    }
   ],
   "source": [
    "final.shape"
   ]
  },
  {
   "cell_type": "markdown",
   "id": "b5551941",
   "metadata": {},
   "source": [
    "# Z scale variables"
   ]
  },
  {
   "cell_type": "code",
   "execution_count": 105,
   "id": "17cf19ac",
   "metadata": {},
   "outputs": [],
   "source": [
    "# df_z = final.copy()\n",
    "# df_z = pd.read_csv('vars.csv')\n",
    "# df_z.head()"
   ]
  },
  {
   "cell_type": "code",
   "execution_count": 106,
   "id": "a572c929",
   "metadata": {},
   "outputs": [],
   "source": [
    "# from sklearn.preprocessing import StandardScaler\n",
    "# scaler = StandardScaler()\n",
    "# df_scaled = scaler.fit_transform(df_z)"
   ]
  },
  {
   "cell_type": "code",
   "execution_count": 107,
   "id": "f025ded2",
   "metadata": {},
   "outputs": [],
   "source": [
    "# final = pd.DataFrame(df_scaled, columns=df_z.columns)\n",
    "# final['Recnum'] = df_z['Recnum']\n",
    "# final['Fraud'] = df_z['Fraud']\n",
    "# final.head()"
   ]
  },
  {
   "cell_type": "markdown",
   "id": "2cbb5b0e",
   "metadata": {},
   "source": [
    "# Export to csv"
   ]
  },
  {
   "cell_type": "code",
   "execution_count": 108,
   "id": "faa20b7e",
   "metadata": {},
   "outputs": [
    {
     "name": "stdout",
     "output_type": "stream",
     "text": [
      "CPU times: total: 46.6 s\n",
      "Wall time: 46.8 s\n"
     ]
    }
   ],
   "source": [
    "%%time\n",
    "final.to_csv('vars.csv',index=False)"
   ]
  },
  {
   "cell_type": "code",
   "execution_count": 109,
   "id": "c61faa13",
   "metadata": {},
   "outputs": [
    {
     "name": "stdout",
     "output_type": "stream",
     "text": [
      "duration:  0:28:18.041367\n"
     ]
    }
   ],
   "source": [
    "print('duration: ',dt.datetime.now() - start_time)"
   ]
  }
 ],
 "metadata": {
  "finalized": {
   "timestamp": 1674611790412,
   "trusted": true
  },
  "kernelspec": {
   "display_name": "Python 3 (ipykernel)",
   "language": "python",
   "name": "python3"
  },
  "language_info": {
   "codemirror_mode": {
    "name": "ipython",
    "version": 3
   },
   "file_extension": ".py",
   "mimetype": "text/x-python",
   "name": "python",
   "nbconvert_exporter": "python",
   "pygments_lexer": "ipython3",
   "version": "3.9.12"
  },
  "toc": {
   "base_numbering": 1,
   "nav_menu": {},
   "number_sections": true,
   "sideBar": true,
   "skip_h1_title": false,
   "title_cell": "Table of Contents",
   "title_sidebar": "Contents",
   "toc_cell": false,
   "toc_position": {},
   "toc_section_display": true,
   "toc_window_display": false
  }
 },
 "nbformat": 4,
 "nbformat_minor": 5
}
